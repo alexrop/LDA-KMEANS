{
 "cells": [
  {
   "cell_type": "markdown",
   "metadata": {},
   "source": [
    "# CUARTO NOTEBOOK - LDA COMO MÉTODO DE CLUSTERING"
   ]
  },
  {
   "cell_type": "markdown",
   "metadata": {},
   "source": [
    "# Topic Modeling with Gensim (Python) - OGC DATABASE"
   ]
  },
  {
   "cell_type": "markdown",
   "metadata": {},
   "source": [
    "### 1. Importar Paquetes"
   ]
  },
  {
   "cell_type": "code",
   "execution_count": 1,
   "metadata": {},
   "outputs": [],
   "source": [
    "import re\n",
    "import numpy as np\n",
    "import pandas as pd\n",
    "from pprint import pprint\n",
    "\n",
    "# Gensim\n",
    "import gensim\n",
    "import gensim.corpora as corpora\n",
    "from gensim.utils import simple_preprocess\n",
    "from gensim.models import CoherenceModel\n",
    "\n",
    "# spacy for lemmatization\n",
    "import spacy\n",
    "\n",
    "# Plotting tools\n",
    "import pyLDAvis\n",
    "import pyLDAvis.gensim  # don't skip this\n",
    "import matplotlib.pyplot as plt\n",
    "%matplotlib inline\n",
    "\n",
    "# Enable logging for gensim - optional\n",
    "import logging\n",
    "logging.basicConfig(format='%(asctime)s : %(levelname)s : %(message)s', level=logging.ERROR)\n",
    "\n",
    "import warnings\n",
    "warnings.filterwarnings(\"ignore\",category=DeprecationWarning)"
   ]
  },
  {
   "cell_type": "code",
   "execution_count": 2,
   "metadata": {},
   "outputs": [],
   "source": [
    "# Stop Words\n",
    "with open('spanish.txt','r') as f:\n",
    "    stop_words = f.read().splitlines()"
   ]
  },
  {
   "cell_type": "markdown",
   "metadata": {},
   "source": [
    "### 2. Importar Data Base"
   ]
  },
  {
   "cell_type": "code",
   "execution_count": 3,
   "metadata": {},
   "outputs": [
    {
     "data": {
      "text/html": [
       "<div>\n",
       "<style scoped>\n",
       "    .dataframe tbody tr th:only-of-type {\n",
       "        vertical-align: middle;\n",
       "    }\n",
       "\n",
       "    .dataframe tbody tr th {\n",
       "        vertical-align: top;\n",
       "    }\n",
       "\n",
       "    .dataframe thead th {\n",
       "        text-align: right;\n",
       "    }\n",
       "</style>\n",
       "<table border=\"1\" class=\"dataframe\">\n",
       "  <thead>\n",
       "    <tr style=\"text-align: right;\">\n",
       "      <th></th>\n",
       "      <th>Observación</th>\n",
       "      <th>Requerimiento</th>\n",
       "    </tr>\n",
       "  </thead>\n",
       "  <tbody>\n",
       "    <tr>\n",
       "      <th>OPERACIONES Y SERVICIOS TERPEL LTDA.</th>\n",
       "      <td>[se chequea falla y se detecta ortirak que cua...</td>\n",
       "      <td>[area de atencion nuevamente se solicita segun...</td>\n",
       "    </tr>\n",
       "    <tr>\n",
       "      <th>OPERACIONES Y SERVICIO TERPEL LTDA.</th>\n",
       "      <td>[se solicita tapa spil p15200 para estanque pr...</td>\n",
       "      <td>[area de atencion tapa spill de estanque diese...</td>\n",
       "    </tr>\n",
       "    <tr>\n",
       "      <th>Inversiones Enex</th>\n",
       "      <td>[se rechaza orden por no corresponder a contra...</td>\n",
       "      <td>[area de atencion se solicita reparacion de br...</td>\n",
       "    </tr>\n",
       "    <tr>\n",
       "      <th>SOCIEDAD DE COMBUSTIBLES AUSTRAL LTDA.</th>\n",
       "      <td>[visita se cierra bajo ot 7 visita se cierra b...</td>\n",
       "      <td>[area de atencion pistola gas95 no corta solic...</td>\n",
       "    </tr>\n",
       "    <tr>\n",
       "      <th>CL - Buses Vule S.A.</th>\n",
       "      <td>[en surtidor numero 1 se detecto se cambio 01 ...</td>\n",
       "      <td>[area de atencion breakaway esta suelto y filt...</td>\n",
       "    </tr>\n",
       "  </tbody>\n",
       "</table>\n",
       "</div>"
      ],
      "text/plain": [
       "                                                                              Observación  \\\n",
       "OPERACIONES Y SERVICIOS TERPEL LTDA.    [se chequea falla y se detecta ortirak que cua...   \n",
       "OPERACIONES Y SERVICIO TERPEL LTDA.     [se solicita tapa spil p15200 para estanque pr...   \n",
       "Inversiones Enex                        [se rechaza orden por no corresponder a contra...   \n",
       "SOCIEDAD DE COMBUSTIBLES AUSTRAL LTDA.  [visita se cierra bajo ot 7 visita se cierra b...   \n",
       "CL - Buses Vule S.A.                    [en surtidor numero 1 se detecto se cambio 01 ...   \n",
       "\n",
       "                                                                            Requerimiento  \n",
       "OPERACIONES Y SERVICIOS TERPEL LTDA.    [area de atencion nuevamente se solicita segun...  \n",
       "OPERACIONES Y SERVICIO TERPEL LTDA.     [area de atencion tapa spill de estanque diese...  \n",
       "Inversiones Enex                        [area de atencion se solicita reparacion de br...  \n",
       "SOCIEDAD DE COMBUSTIBLES AUSTRAL LTDA.  [area de atencion pistola gas95 no corta solic...  \n",
       "CL - Buses Vule S.A.                    [area de atencion breakaway esta suelto y filt...  "
      ]
     },
     "execution_count": 3,
     "metadata": {},
     "output_type": "execute_result"
    }
   ],
   "source": [
    "# ESTACIONES\n",
    "df_estacion_sentences = pd.read_pickle('df_estacion_sentences.pkl')\n",
    "df_estacion_sentences.head()"
   ]
  },
  {
   "cell_type": "markdown",
   "metadata": {},
   "source": [
    "Viendo que analizar la totalidad de la BD será un proceso muy largo, se hará una prueba solo con un DATA FRAME en particular a modo de prototipo del modelo LDA.\n",
    "\n",
    "En relación con el tipo de DF a utilizar, se considerará el que está en formato de sentences ([sent1,sent2,..,sentn]) en lugar del que contiene todas las palabras en formato string ('sent1 sent2 ... sentn'). \n",
    "\n",
    "1. 'Carrete RetractilOTROOTRO' en df_falla_sentences ---> 9.324 sentences\n",
    "2. 'Carrete RetractilOTROOTRO' en df_falla   ----------->  3.496.506 palabras"
   ]
  },
  {
   "cell_type": "markdown",
   "metadata": {},
   "source": [
    "#### Se elige una estación en particular "
   ]
  },
  {
   "cell_type": "code",
   "execution_count": 4,
   "metadata": {},
   "outputs": [
    {
     "data": {
      "text/plain": [
       "['incidencia fue atendida durante mantencion preventiva ot 27362',\n",
       " 'se deriva a trabajo adicional para coordinar retiro de tambores se adjunta cotizacion en plataforma para aprobacion']"
      ]
     },
     "execution_count": 4,
     "metadata": {},
     "output_type": "execute_result"
    }
   ],
   "source": [
    "# Operaciones y Servicios Terpel LTDA \n",
    "data = df_estacion_sentences['Observación']['Petrobras Chile Red Ltda Las Brujas']\n",
    "data[:2]"
   ]
  },
  {
   "cell_type": "markdown",
   "metadata": {},
   "source": [
    "### 3. Tokenize Words"
   ]
  },
  {
   "cell_type": "code",
   "execution_count": 5,
   "metadata": {},
   "outputs": [
    {
     "name": "stdout",
     "output_type": "stream",
     "text": [
      "[['incidencia', 'fue', 'atendida', 'durante', 'mantencion', 'preventiva', 'ot']]\n"
     ]
    }
   ],
   "source": [
    "def sent_to_words(sentences):\n",
    "    for sentence in sentences:\n",
    "        yield(gensim.utils.simple_preprocess(str(sentence), deacc=True))  # deacc=True removes punctuations\n",
    "\n",
    "data_words = list(sent_to_words(data))\n",
    "\n",
    "print(data_words[:1])"
   ]
  },
  {
   "cell_type": "markdown",
   "metadata": {},
   "source": [
    "### 4.  Bigram and Trigram Models"
   ]
  },
  {
   "cell_type": "code",
   "execution_count": 6,
   "metadata": {},
   "outputs": [
    {
     "name": "stdout",
     "output_type": "stream",
     "text": [
      "['incidencia', 'fue', 'atendida', 'durante', 'mantencion', 'preventiva', 'ot']\n"
     ]
    }
   ],
   "source": [
    "# Build the bigram and trigram models\n",
    "bigram = gensim.models.Phrases(data_words, min_count=5, threshold=100) # higher threshold fewer phrases.\n",
    "trigram = gensim.models.Phrases(bigram[data_words], threshold=100)  \n",
    "\n",
    "# Faster way to get a sentence clubbed as a trigram/bigram\n",
    "bigram_mod = gensim.models.phrases.Phraser(bigram)\n",
    "trigram_mod = gensim.models.phrases.Phraser(trigram)\n",
    "\n",
    "# See trigram example\n",
    "print(trigram_mod[bigram_mod[data_words[0]]])"
   ]
  },
  {
   "cell_type": "markdown",
   "metadata": {},
   "source": [
    "### 5. Remover Stopwords, ejecutar Bigrams y Lemmatize"
   ]
  },
  {
   "cell_type": "code",
   "execution_count": 7,
   "metadata": {},
   "outputs": [],
   "source": [
    "# Define functions for stopwords, bigrams, trigrams and lemmatization\n",
    "def remove_stopwords(texts):\n",
    "    return [[word for word in simple_preprocess(str(doc)) if word not in stop_words] for doc in texts]\n",
    "\n",
    "def make_bigrams(texts):\n",
    "    return [bigram_mod[doc] for doc in texts]\n",
    "\n",
    "def make_trigrams(texts):\n",
    "    return [trigram_mod[bigram_mod[doc]] for doc in texts]\n",
    "\n",
    "def lemmatization(texts, allowed_postags=['NOUN', 'ADJ', 'VERB', 'ADV','PROPN']):\n",
    "    texts_out = []\n",
    "    for sent in texts:\n",
    "        doc = nlp(u\" \".join(sent)) \n",
    "        texts_out.append([token.lemma_ for token in doc if token.pos_ in allowed_postags])\n",
    "    return texts_out"
   ]
  },
  {
   "cell_type": "markdown",
   "metadata": {},
   "source": [
    "#### Llamando a las funciones en orden"
   ]
  },
  {
   "cell_type": "code",
   "execution_count": 8,
   "metadata": {},
   "outputs": [
    {
     "name": "stdout",
     "output_type": "stream",
     "text": [
      "[['incidencia', 'atender', 'mantencion', 'preventivo', 'ot']]\n"
     ]
    }
   ],
   "source": [
    "# Remove Stop Words\n",
    "data_words_nostops = remove_stopwords(data_words)\n",
    "\n",
    "# Form Bigrams\n",
    "data_words_bigrams = make_bigrams(data_words_nostops)\n",
    "\n",
    "# Initialize spacy 'es' model, keeping only tagger component (for efficiency)\n",
    "nlp = spacy.load('es_core_news_md', disable=['parser', 'ner'])\n",
    "\n",
    "# Do lemmatization keeping only noun, adj, vb, adv\n",
    "data_lemmatized = lemmatization(data_words_nostops) # Se eligue solo data_words_nostops ya que no es probable que existan bigramas o trigramas\n",
    "\n",
    "print(data_lemmatized[:1])"
   ]
  },
  {
   "cell_type": "code",
   "execution_count": 9,
   "metadata": {},
   "outputs": [
    {
     "name": "stdout",
     "output_type": "stream",
     "text": [
      "['se elimino alarma de veeder root ya que se saco agua de tank sump de 97 se limpio sensor y queda veeder root con todas sus funciones normales se elimino alarma de veeder root ya que se saco agua de tank sump de 97 se limpio sensor y queda veeder root con todas sus funciones normales']\n"
     ]
    }
   ],
   "source": [
    "print(data[4:5])"
   ]
  },
  {
   "cell_type": "code",
   "execution_count": 10,
   "metadata": {},
   "outputs": [
    {
     "name": "stdout",
     "output_type": "stream",
     "text": [
      "[['se', 'elimino', 'alarma', 'de', 'veeder', 'root', 'ya', 'que', 'se', 'saco', 'agua', 'de', 'tank', 'sump', 'de', 'se', 'limpio', 'sensor', 'queda', 'veeder', 'root', 'con', 'todas', 'sus', 'funciones', 'normales', 'se', 'elimino', 'alarma', 'de', 'veeder', 'root', 'ya', 'que', 'se', 'saco', 'agua', 'de', 'tank', 'sump', 'de', 'se', 'limpio', 'sensor', 'queda', 'veeder', 'root', 'con', 'todas', 'sus', 'funciones', 'normales']]\n"
     ]
    }
   ],
   "source": [
    "print(data_words[4:5])"
   ]
  },
  {
   "cell_type": "code",
   "execution_count": 11,
   "metadata": {},
   "outputs": [
    {
     "name": "stdout",
     "output_type": "stream",
     "text": [
      "[['elimino', 'alarma', 'veeder', 'root', 'saco', 'agua', 'tank', 'sump', 'limpio', 'sensor', 'queda', 'veeder', 'root', 'todas', 'funciones', 'normales', 'elimino', 'alarma', 'veeder', 'root', 'saco', 'agua', 'tank', 'sump', 'limpio', 'sensor', 'queda', 'veeder', 'root', 'todas', 'funciones', 'normales']]\n"
     ]
    }
   ],
   "source": [
    "print(data_words_nostops[4:5])"
   ]
  },
  {
   "cell_type": "code",
   "execution_count": 12,
   "metadata": {},
   "outputs": [
    {
     "name": "stdout",
     "output_type": "stream",
     "text": [
      "[['eliminar', 'alarmar', 'veeder', 'root', 'sacar', 'aguar', 'tank', 'sump', 'limpiar', 'sensor', 'quedo', 'veeder', 'root', 'funcionar', 'normal', 'alarmar', 'veeder', 'root', 'sacar', 'aguar', 'tank', 'sump', 'limpiar', 'sensor', 'quedo', 'veeder', 'root', 'funcionar', 'normal']]\n"
     ]
    }
   ],
   "source": [
    "print(data_lemmatized[4:5])"
   ]
  },
  {
   "cell_type": "code",
   "execution_count": 13,
   "metadata": {},
   "outputs": [
    {
     "name": "stdout",
     "output_type": "stream",
     "text": [
      "[['reinicia', 'disp', 'encontrar', 'bloquear', 'despachar', 'producto', 'realizar', 'prueba', 'quedo', 'operativo', 'reinicia', 'disp', 'encontrar', 'bloquear', 'despachar', 'producto', 'realizar', 'prueba', 'quedo', 'operativo']]\n"
     ]
    }
   ],
   "source": [
    "print(data_lemmatized[5:6])"
   ]
  },
  {
   "cell_type": "code",
   "execution_count": null,
   "metadata": {},
   "outputs": [],
   "source": []
  },
  {
   "cell_type": "code",
   "execution_count": null,
   "metadata": {},
   "outputs": [],
   "source": []
  },
  {
   "cell_type": "code",
   "execution_count": null,
   "metadata": {},
   "outputs": [],
   "source": []
  },
  {
   "cell_type": "code",
   "execution_count": null,
   "metadata": {},
   "outputs": [],
   "source": []
  },
  {
   "cell_type": "code",
   "execution_count": null,
   "metadata": {},
   "outputs": [],
   "source": []
  },
  {
   "cell_type": "code",
   "execution_count": null,
   "metadata": {},
   "outputs": [],
   "source": []
  },
  {
   "cell_type": "code",
   "execution_count": null,
   "metadata": {},
   "outputs": [],
   "source": []
  },
  {
   "cell_type": "code",
   "execution_count": null,
   "metadata": {},
   "outputs": [],
   "source": []
  },
  {
   "cell_type": "code",
   "execution_count": null,
   "metadata": {},
   "outputs": [],
   "source": []
  },
  {
   "cell_type": "code",
   "execution_count": null,
   "metadata": {},
   "outputs": [],
   "source": []
  },
  {
   "cell_type": "code",
   "execution_count": null,
   "metadata": {},
   "outputs": [],
   "source": []
  },
  {
   "cell_type": "code",
   "execution_count": 14,
   "metadata": {},
   "outputs": [],
   "source": [
    "from sklearn.feature_extraction.text import CountVectorizer, TfidfVectorizer\n",
    "data_lemmatized2 = [' '.join(sent) for sent in data_lemmatized]\n",
    "\n",
    "vectorizer = CountVectorizer(analyzer='word',       \n",
    "                             min_df=10,                        # minimum reqd occurences of a word \n",
    "                             stop_words= None ,                # remove stop words\n",
    "                             token_pattern='[a-zA-Z0-9]{3,}',  # num chars > 3\n",
    "                             # max_features=50000,             # max number of uniq words\n",
    "                            )\n",
    "\n",
    "data_vectorized = vectorizer.fit_transform(data_lemmatized2)"
   ]
  },
  {
   "cell_type": "code",
   "execution_count": 15,
   "metadata": {},
   "outputs": [
    {
     "data": {
      "text/plain": [
       "scipy.sparse.csr.csr_matrix"
      ]
     },
     "execution_count": 15,
     "metadata": {},
     "output_type": "execute_result"
    }
   ],
   "source": [
    "type(data_vectorized)"
   ]
  },
  {
   "cell_type": "code",
   "execution_count": 16,
   "metadata": {},
   "outputs": [],
   "source": [
    "# Build LDA Model\n",
    "\n",
    "from sklearn.decomposition import LatentDirichletAllocation, TruncatedSVD\n",
    "from gensim_wrapper import LdaTransformer, LsiTransformer\n",
    "from tmtoolkit.topicmod.evaluate import metric_coherence_gensim\n",
    "\n",
    "lda_model = LatentDirichletAllocation(n_components=10,               # Number of topics\n",
    "                                      max_iter=10,               # Max learning iterations\n",
    "                                      learning_method='online',   \n",
    "                                      random_state=42,           # Random state\n",
    "                                      batch_size=128,            # n docs in each learning iter\n",
    "                                      n_jobs = -1,               # Use all available CPUs\n",
    "                                     )\n",
    "lda_output = lda_model.fit_transform(data_vectorized)"
   ]
  },
  {
   "cell_type": "code",
   "execution_count": 17,
   "metadata": {},
   "outputs": [],
   "source": [
    "cv = CountVectorizer(stop_words = stop_words)\n",
    "data_cv = cv.fit_transform(data_lemmatized2)\n",
    "data_dtm = pd.DataFrame(data_cv.toarray(), columns=cv.get_feature_names())"
   ]
  },
  {
   "cell_type": "code",
   "execution_count": 22,
   "metadata": {},
   "outputs": [],
   "source": [
    "# Create Dictionary\n",
    "id2word = corpora.Dictionary(data_lemmatized) # SOLO CON STOPWORDS\n",
    "\n",
    "# Create Corpus\n",
    "texts = data_lemmatized\n",
    "\n",
    "# Term Document Frequency\n",
    "corpus = [id2word.doc2bow(text) for text in texts]"
   ]
  },
  {
   "cell_type": "code",
   "execution_count": 31,
   "metadata": {},
   "outputs": [
    {
     "data": {
      "text/plain": [
       "(10, 16)"
      ]
     },
     "execution_count": 31,
     "metadata": {},
     "output_type": "execute_result"
    }
   ],
   "source": [
    "lda_model.components_.shape"
   ]
  },
  {
   "cell_type": "code",
   "execution_count": null,
   "metadata": {},
   "outputs": [],
   "source": [
    "np.array([x for x in cv.vocabulary_.keys()])"
   ]
  },
  {
   "cell_type": "code",
   "execution_count": 27,
   "metadata": {},
   "outputs": [
    {
     "ename": "ValueError",
     "evalue": "shape of provided `topic_word_distrib` and length of `vocab` do not match (vocab sizes differ)",
     "output_type": "error",
     "traceback": [
      "\u001b[1;31m---------------------------------------------------------------------------\u001b[0m",
      "\u001b[1;31mValueError\u001b[0m                                Traceback (most recent call last)",
      "\u001b[1;32m<ipython-input-27-cccc54798151>\u001b[0m in \u001b[0;36m<module>\u001b[1;34m\u001b[0m\n\u001b[0;32m      8\u001b[0m                             \u001b[0mdtm\u001b[0m\u001b[1;33m=\u001b[0m\u001b[0mdata_dtm\u001b[0m\u001b[1;33m,\u001b[0m\u001b[1;33m\u001b[0m\u001b[1;33m\u001b[0m\u001b[0m\n\u001b[0;32m      9\u001b[0m                             \u001b[0mvocab\u001b[0m\u001b[1;33m=\u001b[0m \u001b[0mnp\u001b[0m\u001b[1;33m.\u001b[0m\u001b[0marray\u001b[0m\u001b[1;33m(\u001b[0m\u001b[1;33m[\u001b[0m\u001b[0mx\u001b[0m \u001b[1;32mfor\u001b[0m \u001b[0mx\u001b[0m \u001b[1;32min\u001b[0m \u001b[0mcv\u001b[0m\u001b[1;33m.\u001b[0m\u001b[0mvocabulary_\u001b[0m\u001b[1;33m.\u001b[0m\u001b[0mkeys\u001b[0m\u001b[1;33m(\u001b[0m\u001b[1;33m)\u001b[0m\u001b[1;33m]\u001b[0m\u001b[1;33m)\u001b[0m\u001b[1;33m,\u001b[0m\u001b[1;33m\u001b[0m\u001b[1;33m\u001b[0m\u001b[0m\n\u001b[1;32m---> 10\u001b[1;33m                             texts=data_lemmatized2)\n\u001b[0m\u001b[0;32m     11\u001b[0m \u001b[0ms\u001b[0m\u001b[1;33m\u001b[0m\u001b[1;33m\u001b[0m\u001b[0m\n",
      "\u001b[1;32m~\\anaconda3\\lib\\site-packages\\tmtoolkit\\topicmod\\evaluate.py\u001b[0m in \u001b[0;36mmetric_coherence_gensim\u001b[1;34m(measure, topic_word_distrib, gensim_model, vocab, dtm, gensim_corpus, texts, top_n, return_coh_model, return_mean, **kwargs)\u001b[0m\n\u001b[0;32m    369\u001b[0m     \u001b[1;32mif\u001b[0m \u001b[0mvocab\u001b[0m \u001b[1;32mis\u001b[0m \u001b[1;32mnot\u001b[0m \u001b[1;32mNone\u001b[0m\u001b[1;33m:\u001b[0m\u001b[1;33m\u001b[0m\u001b[1;33m\u001b[0m\u001b[0m\n\u001b[0;32m    370\u001b[0m         \u001b[1;32mif\u001b[0m \u001b[0mlen\u001b[0m\u001b[1;33m(\u001b[0m\u001b[0mvocab\u001b[0m\u001b[1;33m)\u001b[0m \u001b[1;33m!=\u001b[0m \u001b[0mn_vocab\u001b[0m\u001b[1;33m:\u001b[0m\u001b[1;33m\u001b[0m\u001b[1;33m\u001b[0m\u001b[0m\n\u001b[1;32m--> 371\u001b[1;33m             raise ValueError('shape of provided `topic_word_distrib` and length of `vocab` do not match '\n\u001b[0m\u001b[0;32m    372\u001b[0m                              '(vocab sizes differ)')\n\u001b[0;32m    373\u001b[0m         \u001b[1;32mif\u001b[0m \u001b[0mtop_n\u001b[0m \u001b[1;33m>\u001b[0m \u001b[0mn_vocab\u001b[0m\u001b[1;33m:\u001b[0m\u001b[1;33m\u001b[0m\u001b[1;33m\u001b[0m\u001b[0m\n",
      "\u001b[1;31mValueError\u001b[0m: shape of provided `topic_word_distrib` and length of `vocab` do not match (vocab sizes differ)"
     ]
    }
   ],
   "source": [
    "# lda_model - LatentDirichletAllocation()\n",
    "# vect - CountVectorizer()\n",
    "# texts - the list of tokenized words\n",
    "\n",
    "s = metric_coherence_gensim(measure='c_v', \n",
    "                            top_n=20, \n",
    "                            topic_word_distrib=lda_model.components_, \n",
    "                            dtm=data_dtm, \n",
    "                            vocab= np.array([x for x in cv.vocabulary_.keys()]), \n",
    "                            texts=data_lemmatized2)\n",
    "s"
   ]
  },
  {
   "cell_type": "code",
   "execution_count": null,
   "metadata": {},
   "outputs": [],
   "source": []
  },
  {
   "cell_type": "code",
   "execution_count": null,
   "metadata": {},
   "outputs": [],
   "source": []
  },
  {
   "cell_type": "code",
   "execution_count": null,
   "metadata": {},
   "outputs": [],
   "source": []
  },
  {
   "cell_type": "code",
   "execution_count": null,
   "metadata": {},
   "outputs": [],
   "source": []
  },
  {
   "cell_type": "code",
   "execution_count": null,
   "metadata": {},
   "outputs": [],
   "source": []
  },
  {
   "cell_type": "code",
   "execution_count": null,
   "metadata": {},
   "outputs": [],
   "source": []
  },
  {
   "cell_type": "code",
   "execution_count": null,
   "metadata": {},
   "outputs": [],
   "source": []
  },
  {
   "cell_type": "code",
   "execution_count": null,
   "metadata": {},
   "outputs": [],
   "source": []
  },
  {
   "cell_type": "markdown",
   "metadata": {},
   "source": [
    "### 6. Creando un Diccionario y Corpus para Topic Modeling"
   ]
  },
  {
   "cell_type": "code",
   "execution_count": 102,
   "metadata": {},
   "outputs": [
    {
     "ename": "TypeError",
     "evalue": "doc2bow expects an array of unicode tokens on input, not a single string",
     "output_type": "error",
     "traceback": [
      "\u001b[1;31m---------------------------------------------------------------------------\u001b[0m",
      "\u001b[1;31mTypeError\u001b[0m                                 Traceback (most recent call last)",
      "\u001b[1;32m<ipython-input-102-e90a6d349231>\u001b[0m in \u001b[0;36m<module>\u001b[1;34m\u001b[0m\n\u001b[0;32m      1\u001b[0m \u001b[1;31m# Create Dictionary\u001b[0m\u001b[1;33m\u001b[0m\u001b[1;33m\u001b[0m\u001b[1;33m\u001b[0m\u001b[0m\n\u001b[1;32m----> 2\u001b[1;33m \u001b[0mid2word\u001b[0m \u001b[1;33m=\u001b[0m \u001b[0mcorpora\u001b[0m\u001b[1;33m.\u001b[0m\u001b[0mDictionary\u001b[0m\u001b[1;33m(\u001b[0m\u001b[0mdata_lemmatized\u001b[0m\u001b[1;33m)\u001b[0m \u001b[1;31m# SOLO CON STOPWORDS\u001b[0m\u001b[1;33m\u001b[0m\u001b[1;33m\u001b[0m\u001b[0m\n\u001b[0m\u001b[0;32m      3\u001b[0m \u001b[1;33m\u001b[0m\u001b[0m\n\u001b[0;32m      4\u001b[0m \u001b[1;31m# Create Corpus\u001b[0m\u001b[1;33m\u001b[0m\u001b[1;33m\u001b[0m\u001b[1;33m\u001b[0m\u001b[0m\n\u001b[0;32m      5\u001b[0m \u001b[0mtexts\u001b[0m \u001b[1;33m=\u001b[0m \u001b[0mdata_lemmatized\u001b[0m\u001b[1;33m\u001b[0m\u001b[1;33m\u001b[0m\u001b[0m\n",
      "\u001b[1;32m~\\anaconda3\\lib\\site-packages\\gensim\\corpora\\dictionary.py\u001b[0m in \u001b[0;36m__init__\u001b[1;34m(self, documents, prune_at)\u001b[0m\n\u001b[0;32m     89\u001b[0m \u001b[1;33m\u001b[0m\u001b[0m\n\u001b[0;32m     90\u001b[0m         \u001b[1;32mif\u001b[0m \u001b[0mdocuments\u001b[0m \u001b[1;32mis\u001b[0m \u001b[1;32mnot\u001b[0m \u001b[1;32mNone\u001b[0m\u001b[1;33m:\u001b[0m\u001b[1;33m\u001b[0m\u001b[1;33m\u001b[0m\u001b[0m\n\u001b[1;32m---> 91\u001b[1;33m             \u001b[0mself\u001b[0m\u001b[1;33m.\u001b[0m\u001b[0madd_documents\u001b[0m\u001b[1;33m(\u001b[0m\u001b[0mdocuments\u001b[0m\u001b[1;33m,\u001b[0m \u001b[0mprune_at\u001b[0m\u001b[1;33m=\u001b[0m\u001b[0mprune_at\u001b[0m\u001b[1;33m)\u001b[0m\u001b[1;33m\u001b[0m\u001b[1;33m\u001b[0m\u001b[0m\n\u001b[0m\u001b[0;32m     92\u001b[0m \u001b[1;33m\u001b[0m\u001b[0m\n\u001b[0;32m     93\u001b[0m     \u001b[1;32mdef\u001b[0m \u001b[0m__getitem__\u001b[0m\u001b[1;33m(\u001b[0m\u001b[0mself\u001b[0m\u001b[1;33m,\u001b[0m \u001b[0mtokenid\u001b[0m\u001b[1;33m)\u001b[0m\u001b[1;33m:\u001b[0m\u001b[1;33m\u001b[0m\u001b[1;33m\u001b[0m\u001b[0m\n",
      "\u001b[1;32m~\\anaconda3\\lib\\site-packages\\gensim\\corpora\\dictionary.py\u001b[0m in \u001b[0;36madd_documents\u001b[1;34m(self, documents, prune_at)\u001b[0m\n\u001b[0;32m    210\u001b[0m \u001b[1;33m\u001b[0m\u001b[0m\n\u001b[0;32m    211\u001b[0m             \u001b[1;31m# update Dictionary with the document\u001b[0m\u001b[1;33m\u001b[0m\u001b[1;33m\u001b[0m\u001b[1;33m\u001b[0m\u001b[0m\n\u001b[1;32m--> 212\u001b[1;33m             \u001b[0mself\u001b[0m\u001b[1;33m.\u001b[0m\u001b[0mdoc2bow\u001b[0m\u001b[1;33m(\u001b[0m\u001b[0mdocument\u001b[0m\u001b[1;33m,\u001b[0m \u001b[0mallow_update\u001b[0m\u001b[1;33m=\u001b[0m\u001b[1;32mTrue\u001b[0m\u001b[1;33m)\u001b[0m  \u001b[1;31m# ignore the result, here we only care about updating token ids\u001b[0m\u001b[1;33m\u001b[0m\u001b[1;33m\u001b[0m\u001b[0m\n\u001b[0m\u001b[0;32m    213\u001b[0m \u001b[1;33m\u001b[0m\u001b[0m\n\u001b[0;32m    214\u001b[0m         logger.info(\n",
      "\u001b[1;32m~\\anaconda3\\lib\\site-packages\\gensim\\corpora\\dictionary.py\u001b[0m in \u001b[0;36mdoc2bow\u001b[1;34m(self, document, allow_update, return_missing)\u001b[0m\n\u001b[0;32m    250\u001b[0m         \"\"\"\n\u001b[0;32m    251\u001b[0m         \u001b[1;32mif\u001b[0m \u001b[0misinstance\u001b[0m\u001b[1;33m(\u001b[0m\u001b[0mdocument\u001b[0m\u001b[1;33m,\u001b[0m \u001b[0mstring_types\u001b[0m\u001b[1;33m)\u001b[0m\u001b[1;33m:\u001b[0m\u001b[1;33m\u001b[0m\u001b[1;33m\u001b[0m\u001b[0m\n\u001b[1;32m--> 252\u001b[1;33m             \u001b[1;32mraise\u001b[0m \u001b[0mTypeError\u001b[0m\u001b[1;33m(\u001b[0m\u001b[1;34m\"doc2bow expects an array of unicode tokens on input, not a single string\"\u001b[0m\u001b[1;33m)\u001b[0m\u001b[1;33m\u001b[0m\u001b[1;33m\u001b[0m\u001b[0m\n\u001b[0m\u001b[0;32m    253\u001b[0m \u001b[1;33m\u001b[0m\u001b[0m\n\u001b[0;32m    254\u001b[0m         \u001b[1;31m# Construct (word, frequency) mapping.\u001b[0m\u001b[1;33m\u001b[0m\u001b[1;33m\u001b[0m\u001b[1;33m\u001b[0m\u001b[0m\n",
      "\u001b[1;31mTypeError\u001b[0m: doc2bow expects an array of unicode tokens on input, not a single string"
     ]
    }
   ],
   "source": [
    "# Create Dictionary\n",
    "id2word = corpora.Dictionary(data_lemmatized) # SOLO CON STOPWORDS\n",
    "\n",
    "# Create Corpus\n",
    "texts = data_lemmatized\n",
    "\n",
    "# Term Document Frequency\n",
    "corpus = [id2word.doc2bow(text) for text in texts]\n",
    "\n",
    "# View\n",
    "print(corpus[:1])  # (word_id, word_frequency)"
   ]
  },
  {
   "cell_type": "code",
   "execution_count": 66,
   "metadata": {},
   "outputs": [
    {
     "data": {
      "text/plain": [
       "[[('atender', 1),\n",
       "  ('incidencia', 1),\n",
       "  ('mantencion', 1),\n",
       "  ('ot', 1),\n",
       "  ('preventivo', 1)]]"
      ]
     },
     "execution_count": 66,
     "metadata": {},
     "output_type": "execute_result"
    }
   ],
   "source": [
    "# Human readable format of corpus (term-frequency)\n",
    "[[(id2word[id], freq) for id, freq in cp] for cp in corpus[:1]]"
   ]
  },
  {
   "cell_type": "markdown",
   "metadata": {},
   "source": [
    "### 7. LDA MODEL"
   ]
  },
  {
   "cell_type": "code",
   "execution_count": 67,
   "metadata": {},
   "outputs": [],
   "source": [
    "# Build LDA model\n",
    "lda_model = gensim.models.ldamodel.LdaModel(corpus=corpus,\n",
    "                                           id2word=id2word,\n",
    "                                           num_topics=10, \n",
    "                                           random_state=100,\n",
    "                                           update_every=1,\n",
    "                                           chunksize=100,\n",
    "                                           passes=10,\n",
    "                                           alpha='auto',\n",
    "                                           per_word_topics=True)"
   ]
  },
  {
   "cell_type": "markdown",
   "metadata": {},
   "source": [
    "### 8. Viendo los tópicos en LDA model"
   ]
  },
  {
   "cell_type": "code",
   "execution_count": 68,
   "metadata": {},
   "outputs": [],
   "source": [
    "# Print the Keyword in the 10 topics\n",
    "#pprint(lda_model.print_topics())\n",
    "#doc_lda = lda_model[corpus]"
   ]
  },
  {
   "cell_type": "markdown",
   "metadata": {},
   "source": [
    "### 9. Model Perplexity and Coherence Score"
   ]
  },
  {
   "cell_type": "code",
   "execution_count": 69,
   "metadata": {},
   "outputs": [
    {
     "name": "stdout",
     "output_type": "stream",
     "text": [
      "\n",
      "Perplexity:  -5.438605587603803\n",
      "\n",
      "Coherence Score:  0.37475495480050613\n"
     ]
    }
   ],
   "source": [
    "# Compute Perplexity\n",
    "print('\\nPerplexity: ', lda_model.log_perplexity(corpus))  # a measure of how good the model is. lower the better.\n",
    "\n",
    "# Compute Coherence Score\n",
    "coherence_model_lda = CoherenceModel(model=lda_model, texts=texts, dictionary=id2word, coherence='c_v')\n",
    "coherence_lda = coherence_model_lda.get_coherence()\n",
    "print('\\nCoherence Score: ', coherence_lda)"
   ]
  },
  {
   "cell_type": "code",
   "execution_count": 75,
   "metadata": {},
   "outputs": [
    {
     "data": {
      "text/plain": [
       "-3.0482722599624865"
      ]
     },
     "execution_count": 75,
     "metadata": {},
     "output_type": "execute_result"
    }
   ],
   "source": [
    "perplexity = math.log(2**(-len(id2word)/len(corpus)))\n",
    "perplexity"
   ]
  },
  {
   "cell_type": "markdown",
   "metadata": {},
   "source": [
    "### 10. Visualize the topics-keywords"
   ]
  },
  {
   "cell_type": "code",
   "execution_count": 19,
   "metadata": {},
   "outputs": [
    {
     "data": {
      "text/html": [
       "\n",
       "<link rel=\"stylesheet\" type=\"text/css\" href=\"https://cdn.rawgit.com/bmabey/pyLDAvis/files/ldavis.v1.0.0.css\">\n",
       "\n",
       "\n",
       "<div id=\"ldavis_el516821973687103442737932017\"></div>\n",
       "<script type=\"text/javascript\">\n",
       "\n",
       "var ldavis_el516821973687103442737932017_data = {\"mdsDat\": {\"x\": [0.3552546160568975, 0.2540647022555247, 0.1163259769882511, 0.27416223158708625, -0.07733019000155551, 0.16248245671459496, 0.11246703379047336, 0.03474927144343535, -0.01909083585426331, -0.028266978464071148, -0.042241509993957975, -0.1425593163788024, -0.06544600121739651, -0.08595026850255254, -0.13398965670594293, -0.15971147665164087, -0.10481137473939084, -0.12935906335333075, -0.15473605448261715, -0.16601356249074134], \"y\": [0.0204346719116719, -0.19329181180344562, 0.24181647711806625, 0.023642545035029775, -0.002325505411343547, 0.04525123250503345, -0.05606000658104213, 0.033001416695675426, -0.2661551806149872, -0.07755664456015736, 0.16941592620394286, -0.030737334013075743, 0.033358627575888006, 0.08274170990073942, -0.047956068135644146, -0.07407806145195545, 0.14763414122587704, -0.02882579676123842, -0.019887581113275505, -0.0004227577257588374], \"topics\": [1, 2, 3, 4, 5, 6, 7, 8, 9, 10, 11, 12, 13, 14, 15, 16, 17, 18, 19, 20], \"cluster\": [1, 1, 1, 1, 1, 1, 1, 1, 1, 1, 1, 1, 1, 1, 1, 1, 1, 1, 1, 1], \"Freq\": [15.101888656616211, 12.604085922241211, 11.250450134277344, 8.411559104919434, 7.135497093200684, 7.024023532867432, 5.628772258758545, 5.57766056060791, 5.407861709594727, 4.145010948181152, 2.9323770999908447, 2.7911062240600586, 2.645951509475708, 2.106184720993042, 2.040213108062744, 1.6589370965957642, 1.287860631942749, 1.0969699621200562, 1.0962070226669312, 0.05738838389515877]}, \"tinfo\": {\"Term\": [\"disp\", \"equipar\", \"cambiar\", \"remplazar\", \"rv\", \"fallo\", \"operativo\", \"realizar\", \"revisar\", \"quedar\", \"ok\", \"preventivo\", \"detector\", \"funcionar\", \"dispensador\", \"mantencion\", \"gas\", \"detectar\", \"revison\", \"chequea\", \"fugar\", \"despachar\", \"pistola\", \"probar\", \"lado\", \"calibrar\", \"quedo\", \"boca\", \"accesorio\", \"venta\", \"filtrar\", \"producto\", \"valvula\", \"filtro\", \"cambiar\", \"filtracion\", \"medidor\", \"breakaways\", \"sellar\", \"lento\", \"rotar\", \"stock\", \"manguera\", \"rv\", \"prueba\", \"wipehose\", \"bodega\", \"quedar\", \"movilsolicitado\", \"silicita\", \"roturar\", \"interno\", \"pistola\", \"isla\", \"dispensador\", \"operativo\", \"perdido\", \"diesel\", \"boca\", \"realizar\", \"detectar\", \"gas\", \"remplazar\", \"opw\", \"breckawey\", \"palanca\", \"fijacion\", \"accionamiento\", \"informacion\", \"fundir\", \"utilizar\", \"reco\", \"proxima\", \"repuesto\", \"reparacion\", \"chequeo\", \"reinstalacion\", \"swivel\", \"malo\", \"soler\", \"rozar\", \"disp\", \"calzar\", \"entregar\", \"mda\", \"conjuntar\", \"gatillo\", \"superior\", \"gun\", \"real\", \"recibio\", \"rvcon\", \"rv\", \"pistola\", \"realizar\", \"manguera\", \"coordinar\", \"quedar\", \"accesorio\", \"equipo\", \"interior\", \"matraz\", \"limpiar\", \"calibracion\", \"filtraci\\u00f3n\", \"whipe\", \"spill\", \"recirculan\", \"descargar\", \"limpio\", \"tiempo\", \"efectua\", \"eliminar\", \"reemplazar\", \"reposar\", \"recirculacion\", \"deber\", \"pintar\", \"efectuar\", \"dentro\", \"mategial\", \"mts\", \"reclamar\", \"volumetrica\", \"llenar\", \"reclamo\", \"cargar\", \"boca\", \"revisar\", \"lado\", \"preventivo\", \"probar\", \"verificacion\", \"litro\", \"mantencion\", \"tapar\", \"diesel\", \"realizar\", \"quedar\", \"operativo\", \"normal\", \"equipar\", \"encontrandose\", \"preset\", \"cliente\", \"venta\", \"reprogramacion\", \"reinstalar\", \"parametros\", \"reconecto\", \"desconectar\", \"despachar\", \"breakaway\", \"tomar\", \"fotografica\", \"tecnica\", \"gilbarco\", \"master\", \"adir\", \"pegamento\", \"despegar\", \"vender\", \"reconectado\", \"tirarlo\", \"plca\", \"mostrar\", \"reset\", \"operativo\", \"quedar\", \"listar\", \"realizar\", \"aparentar\", \"check\", \"presion\", \"quebrar\", \"servicentro\", \"visitar\", \"elementar\", \"funcional\", \"hacer\", \"cano\", \"est\", \"partir\", \"brevedad\", \"personal\", \"ver\", \"activar\", \"pendiente\", \"atencion\", \"tarjeta\", \"retornar\", \"esperar\", \"nuevo\", \"comportamiento\", \"posible\", \"valvulas\", \"diferencial\", \"dispenzador\", \"veeder\", \"root\", \"bombo\", \"linear\", \"tapar\", \"ademar\", \"gas\", \"coordinar\", \"solicitar\", \"cerrar\", \"quedo\", \"detectar\", \"mantener\", \"describir\", \"normalmente\", \"octuple\", \"monitorean\", \"recirculando\", \"mal\", \"ods\", \"emitir\", \"hora\", \"mas\", \"fijo\", \"litro\", \"ajustar\", \"lado\", \"fallo\", \"prueba\", \"don\", \"bien\", \"recvap\", \"contacto\", \"teapreta\", \"electricos\", \"completar\", \"directo\", \"ortirak\", \"sol\", \"corrrecto\", \"octuples\", \"remoto\", \"inferior\", \"gas\", \"dispensador\", \"revisar\", \"quedo\", \"detectar\", \"pistola\", \"gatillo\", \"operativo\", \"venta\", \"operar\", \"bombo\", \"cortar\", \"probar\", \"diesel\", \"hose\", \"momento\", \"wipe\", \"breakway\", \"reapriete\", \"cortar\", \"eds\", \"chequea\", \"cammbio\", \"uni\\u00f3n\", \"detectar\", \"probar\", \"llegar\", \"quedo\", \"fallo\", \"fugar\", \"operativo\", \"prueb\", \"portapistola\", \"tierra\", \"aterrizar\", \"oring\", \"material\", \"manguer\", \"comprobante\", \"accionar\", \"lugar\", \"defuga\", \"articular\", \"desconeccion\", \"realizar\", \"cambiar\", \"anclaje\", \"estacion\", \"rv\", \"detector\", \"aguar\", \"alto\", \"proceder\", \"lt\", \"observacion\", \"cap\\u00edtulo\", \"turbinar\", \"estancar\", \"danada\", \"fugar\", \"app\", \"tener\", \"servicio\", \"dejar\", \"frecuencia\", \"variador\", \"manometro\", \"seco\", \"estacion\", \"retirar\", \"camara\", \"observandose\", \"alarmar\", \"regularizacion\", \"operar\", \"reparar\", \"encontrar\", \"gas\", \"diesel\", \"realizar\", \"quedo\", \"electrica\", \"cambiar\", \"bodega\", \"ok\", \"presentar\", \"surt\", \"motor\", \"displey\", \"sacar\", \"totalizador\", \"trabajar\", \"encargar\", \"boto\", \"intercambiar\", \"doblar\", \"comentar\", \"funcionar\", \"reintalan\", \"protector\", \"mascar\", \"esporadicamente\", \"lubricacion\", \"orueba\", \"kerosene\", \"disp\", \"fallo\", \"encore\", \"swivel\", \"surtidor\", \"chequea\", \"acudir\", \"encontro\", \"recirculaci\\u00f3n\", \"pistola\", \"realizar\", \"remplazar\", \"revison\", \"reponer\", \"detectandose\", \"flujo\", \"reprograma\", \"firmar\", \"medir\", \"bloquear\", \"enex\", \"borrar\", \"solucionar\", \"aprox\", \"encore\", \"bueno\", \"permitir\", \"cebar\", \"tdf\", \"derivar\", \"protura\", \"detdctando\", \"preisonado\", \"conbezzel\", \"descebar\", \"finiquitar\", \"jefatura\", \"sobreconsumo\", \"forzar\", \"potenciar\", \"funciinamiento\", \"ralizan\", \"reset\", \"cable\", \"master\", \"solicitar\", \"surtidor\", \"maquinar\", \"chequea\", \"problema\", \"quedo\", \"operar\", \"realizar\", \"reparacion\", \"operativo\", \"revoluci\\u00f3n\", \"contar\", \"mp\", \"contenedor\", \"contaminar\", \"tambor\", \"camaras\", \"condicion\", \"mantenia\", \"compania\", \"confinar\", \"derramar\", \"internet\", \"riesgo\", \"prevencionista\", \"slas\", \"enconttarse\", \"espaciar\", \"coneccion\", \"cabezal\", \"demas\", \"isla\", \"camara\", \"retirar\", \"estacion\", \"dejar\", \"pintar\", \"estancar\", \"verificacion\", \"volumetrica\", \"calibrar\", \"diesel\", \"litro\", \"preventivo\", \"dispensador\", \"realizar\", \"mantencion\", \"revisar\", \"descargar\", \"quedar\", \"segun\", \"placa\", \"terminal\", \"kerosenne\", \"precio\", \"volumen\", \"ppu\", \"llamar\", \"display\", \"seguir\", \"nodo\", \"registrar\", \"foto\", \"segmento\", \"actualizar\", \"infrarrojo\", \"codigo\", \"predeterminador\", \"reparar\", \"desarmar\", \"cerrar\", \"soltar\", \"control\", \"bodega\", \"cable\", \"coneccion\", \"solicitar\", \"surtidor\", \"normal\", \"acudir\", \"venta\", \"sistema\", \"reconecta\", \"alimentacion\", \"reaprieta\", \"empresa\", \"iluminacion\", \"problsma\", \"reinicia\", \"funcionamiento\", \"concurrio\", \"masec\", \"emergencia\", \"subsanar\", \"transformador\", \"soldadura\", \"repasar\", \"soltar\", \"surtidor\", \"problema\", \"kerosene\", \"operar\", \"electrica\", \"revisar\", \"detectar\", \"dispensador\", \"pensador\", \"anclaje\", \"aterrizar\", \"tierra\", \"probeta\", \"barrer\", \"diesel\", \"chequea\", \"operativo\", \"quedar\", \"fallo\", \"verificar\", \"estanque\", \"limpieza\", \"deteriorar\", \"danado\", \"procesar\", \"codo\", \"vaporar\", \"pintura\", \"eess\", \"adhesivo\", \"adaptador\", \"bocaestanque\", \"remarcar\", \"giratorio\", \"mateeial\", \"ruido\", \"programacion\", \"terminar\", \"kerosene\", \"desgastar\", \"verificacion\", \"mantencion\", \"ademar\", \"volumetrica\", \"pendiente\", \"dispensador\", \"revision\", \"caro\", \"lluvia\", \"tapar\", \"quedo\", \"realizar\", \"tablero\", \"electrico\", \"revision\", \"normalizar\", \"activo\", \"normal\", \"caido\", \"contactar\", \"llegar\", \"encontrar\", \"ortr\", \"perimetral\", \"apagar\", \"automarico\", \"requerimiento\", \"despachar\", \"funcionar\", \"eds\", \"electrica\", \"pensador\", \"colgante\", \"originar\", \"sector\", \"resolver\", \"voltage\", \"rango\", \"orpak\", \"cruzar\", \"comentario\", \"comunicacion\", \"administrador\", \"alimentar\", \"venta\", \"estabilizador\", \"variaci\\u00f3n\", \"existir\", \"union\", \"suelto\", \"reapreta\", \"reconectable\", \"efecto\", \"centrifugar\", \"mantenimiento\", \"instalar\", \"menor\", \"breakawat\", \"convencional\", \"mantener\", \"levantar\", \"limea\", \"rellema\", \"funcionar\", \"breakaway\", \"cortar\", \"psi\", \"eprecia\", \"oring\", \"asegurar\", \"manilla\", \"resorte\", \"reintala\", \"operacion\", \"presenciar\", \"embargar\", \"canopy\", \"bada\", \"kerosene\", \"surtidor\", \"quedo\", \"normalizacion\", \"realizar\", \"calibrar\", \"sgs\", \"correspondiente\", \"orden\", \"mantencion\", \"preventivo\", \"favor\", \"contratista\", \"corresponder\", \"duplicar\", \"boca\", \"producto\", \"kero\", \"correspodiente\", \"mnatendor\", \"tls\", \"lentitud\", \"qyuedando\", \"reposicion\", \"operativi\", \"rvison\", \"portar\", \"empaquetadura\", \"col\", \"start\", \"bisagra\", \"realioza\", \"sifon\", \"pod\", \"garantia\", \"encontro\", \"acudir\", \"incidencia\", \"ver\", \"funcional\", \"presion\", \"isla\", \"hose\", \"whipe\", \"bombo\", \"elementar\", \"comportamiento\", \"actualizar\", \"operativau\", \"atender\", \"ot\", \"incidencia\", \"rearmar\", \"swivels\", \"uni\\u00f3n\", \"vamnio\", \"teclado\", \"tecnico\", \"rene\", \"febrero\", \"ejecutar\", \"devia\", \"movil\", \"acunar\", \"varga\", \"trifasica\", \"presto\", \"gabriel\", \"luis\", \"acopiar\", \"macec\", \"extraccion\", \"apoyar\", \"respuesta\", \"modelohwlu\", \"helix\", \"garantia\", \"administrativo\", \"lentitud\", \"hp\", \"tk\", \"portapistola\", \"instalacion\", \"informar\", \"ocurrir\", \"problema\", \"colocar\", \"durar\", \"mometno\", \"avezar\", \"encontrar\", \"probar\", \"llegar\", \"recirculaci\\u00f3n\", \"solo\", \"normalidad\", \"encontro\", \"observar\", \"legar\", \"portapistola\", \"vez\", \"comprobante\", \"accionar\", \"caudal\", \"enel\", \"callar\", \"relacion\", \"energia\", \"nornal\", \"recabar\", \"fase\", \"reinicio\", \"autorizar\", \"chequea\", \"fallo\", \"lentitud\", \"qyuedando\", \"reposicion\", \"operativi\", \"rvison\", \"portar\", \"empaquetadura\", \"start\", \"col\", \"bisagra\", \"sifon\", \"realioza\", \"correspodiente\", \"pod\", \"modelohwlu\", \"helix\", \"presety\", \"garantia\", \"respuesta\", \"tornillo\", \"realizandose\", \"cebamiento\", \"verde\", \"rios\", \"ricardo\", \"convenc\", \"mamguera\", \"manguers\", \"rvse\", \"paso\", \"chequea\", \"rwcirculando\", \"infrarrojo\", \"elementar\", \"comportamiento\", \"bombo\", \"operativau\", \"mts\", \"volumen\", \"segun\", \"seguir\", \"segmento\", \"precio\", \"ppu\", \"placa\", \"display\", \"presion\", \"codigo\", \"actualizar\", \"whipe\", \"isla\", \"hose\", \"bien\", \"reconecta\", \"problsma\", \"subsanar\", \"masec\", \"emergencia\", \"funcional\", \"regular\"], \"Freq\": [256.0, 177.0, 298.0, 173.0, 277.0, 185.0, 356.0, 627.0, 150.0, 255.0, 78.0, 62.0, 74.0, 79.0, 139.0, 61.0, 135.0, 145.0, 59.0, 99.0, 84.0, 72.0, 206.0, 70.0, 96.0, 35.0, 124.0, 78.0, 69.0, 77.0, 18.65877342224121, 43.31757736206055, 39.25736618041992, 16.371448516845703, 275.57196044921875, 15.596549987792969, 15.376795768737793, 12.103642463684082, 9.516877174377441, 6.748408794403076, 19.72930335998535, 3.1514337062835693, 72.48027801513672, 157.65023803710938, 41.81878662109375, 5.044477462768555, 10.389488220214844, 124.98216247558594, 1.0749763250350952, 1.0749763250350952, 1.074875831604004, 1.0745900869369507, 92.33587646484375, 5.364821910858154, 55.244041442871094, 126.8719711303711, 1.0749523639678955, 16.252944946289062, 19.980209350585938, 152.78086853027344, 33.7832145690918, 8.874934196472168, 172.52487182617188, 68.68277740478516, 36.20026397705078, 21.02716636657715, 18.133092880249023, 17.219266891479492, 15.905491828918457, 15.377913475036621, 14.12993049621582, 13.702858924865723, 10.910861015319824, 9.89159870147705, 28.239437103271484, 8.281296730041504, 7.84963321685791, 30.47597885131836, 10.064901351928711, 3.4495644569396973, 3.4495644569396973, 184.16529846191406, 2.8605763912200928, 2.8581385612487793, 2.164973020553589, 2.164973020553589, 5.061100006103516, 2.8601021766662598, 1.2503209114074707, 1.2503209114074707, 1.2503209114074707, 1.2500526905059814, 118.87846374511719, 70.0252456665039, 191.9794921875, 35.27870559692383, 6.1634321212768555, 14.768299102783203, 67.85430908203125, 53.05434799194336, 29.828346252441406, 29.71291160583496, 26.318571090698242, 21.07377815246582, 16.01392364501953, 13.913435935974121, 46.05051803588867, 10.952751159667969, 40.382591247558594, 8.66031265258789, 7.955028057098389, 6.9002685546875, 6.035167217254639, 5.426577568054199, 5.328868865966797, 4.626875400543213, 4.370525360107422, 15.825006484985352, 4.2444844245910645, 3.4116246700286865, 3.4113714694976807, 3.410938024520874, 3.4107534885406494, 18.700605392456055, 2.896007776260376, 2.8876068592071533, 2.803356170654297, 53.65590286254883, 78.28385925292969, 44.3036994934082, 30.405134201049805, 30.269031524658203, 12.089042663574219, 28.564350128173828, 21.55582618713379, 17.306964874267578, 15.728022575378418, 54.72597122192383, 27.775379180908203, 30.84447479248047, 7.271060466766357, 176.3861846923828, 41.962188720703125, 12.832615852355957, 45.05768585205078, 64.73313903808594, 5.547865390777588, 5.355100154876709, 3.6317954063415527, 3.133768081665039, 2.362298011779785, 45.1875, 4.473929405212402, 1.8736653327941895, 1.8736653327941895, 1.8730303049087524, 1.8726855516433716, 4.03542423248291, 0.8190271854400635, 0.8190271854400635, 0.8190271854400635, 0.8190166354179382, 0.8190166354179382, 0.8188678026199341, 0.8187865614891052, 0.8187865614891052, 4.562810897827148, 124.70018768310547, 81.04749298095703, 0.43106546998023987, 131.6135711669922, 27.454647064208984, 24.69156265258789, 22.209529876708984, 19.740800857543945, 18.81710433959961, 18.517494201660156, 17.773956298828125, 15.597315788269043, 12.789422035217285, 11.118733406066895, 10.610995292663574, 10.394638061523438, 9.22822093963623, 8.36827564239502, 7.849262237548828, 6.698040008544922, 14.459312438964844, 6.043168544769287, 6.043065547943115, 5.4592366218566895, 5.458837509155273, 4.954925060272217, 4.87531852722168, 4.875293731689453, 4.665287017822266, 4.664935111999512, 4.664895534515381, 4.414839267730713, 4.414839267730713, 9.338221549987793, 13.333772659301758, 36.5093994140625, 13.94717025756836, 41.042659759521484, 9.700822830200195, 14.698543548583984, 8.878942489624023, 16.687376022338867, 12.129538536071777, 6.277439594268799, 42.90945816040039, 9.30012321472168, 8.38224983215332, 7.751203536987305, 7.482389450073242, 7.262847900390625, 5.972627639770508, 5.542995452880859, 2.8556056022644043, 2.491013526916504, 1.7645788192749023, 42.76248550415039, 2.982738494873047, 50.543739318847656, 88.53056335449219, 34.14638900756836, 0.8985568284988403, 0.7713924050331116, 0.7713634371757507, 0.7713422179222107, 0.7713422179222107, 0.7713422179222107, 0.7712492942810059, 0.7712492942810059, 0.7712492942810059, 0.7712492942810059, 0.7712491154670715, 0.7711207270622253, 0.7711207270622253, 0.7711207270622253, 48.471168518066406, 49.807106018066406, 51.66197204589844, 41.44752502441406, 33.32368850708008, 30.3944034576416, 2.1290130615234375, 23.2193660736084, 7.0384721755981445, 4.117610454559326, 2.170513391494751, 2.246039867401123, 2.8128466606140137, 2.0404911041259766, 35.07543182373047, 21.70040512084961, 20.706071853637695, 14.837159156799316, 9.059622764587402, 17.24011993408203, 19.025222778320312, 65.16974639892578, 1.5496469736099243, 1.549594759941101, 52.4874267578125, 24.0831241607666, 7.38674259185791, 31.3829345703125, 45.254276275634766, 14.648499488830566, 39.885345458984375, 0.09023527801036835, 0.09023471921682358, 0.09022880345582962, 0.09022880345582962, 0.09023420512676239, 0.09021817147731781, 0.09021301567554474, 0.09021241962909698, 0.09021241962909698, 0.09020703285932541, 0.09020625799894333, 0.0902060717344284, 0.09020406752824783, 34.28154754638672, 9.143360137939453, 0.09020746499300003, 0.09315106272697449, 0.09039686620235443, 72.93065643310547, 35.6186637878418, 18.522464752197266, 12.595186233520508, 6.950489521026611, 6.058450222015381, 5.546341419219971, 4.846462726593018, 19.16615104675293, 3.92866587638855, 63.246910095214844, 3.7830820083618164, 3.3352231979370117, 6.835761547088623, 12.755213737487793, 2.0142180919647217, 2.0142180919647217, 1.717516303062439, 1.717516303062439, 13.173123359680176, 6.8722991943359375, 5.485687732696533, 0.9082757830619812, 0.9082757830619812, 0.9082757830619812, 14.466339111328125, 5.968764305114746, 6.959500312805176, 35.77841567993164, 14.668410301208496, 35.35090637207031, 11.487441062927246, 1.717516303062439, 11.436480522155762, 2.8647799491882324, 76.72968292236328, 26.656408309936523, 24.964845657348633, 16.370084762573242, 14.2291898727417, 11.582620620727539, 7.322658061981201, 6.09538459777832, 18.287094116210938, 5.383643627166748, 3.445110559463501, 3.4450764656066895, 2.924452066421509, 47.76750183105469, 1.506034255027771, 1.506034255027771, 1.506034255027771, 1.5059303045272827, 1.5058754682540894, 1.5058668851852417, 5.659208297729492, 70.91001892089844, 50.3811149597168, 7.002533912658691, 5.455705165863037, 8.353218078613281, 10.480134963989258, 0.08783634752035141, 0.08780744671821594, 0.08778639137744904, 12.968119621276855, 0.7335689067840576, 0.13405770063400269, 58.24742889404297, 34.74160385131836, 14.013409614562988, 12.810627937316895, 8.654528617858887, 8.01904582977295, 6.771198749542236, 6.290083408355713, 5.997673988342285, 4.978463172912598, 4.977957725524902, 4.739567279815674, 24.57457733154297, 3.185236930847168, 3.185107946395874, 3.0675978660583496, 2.617981433868408, 2.411752939224243, 1.3927003145217896, 1.3927003145217896, 1.3927003145217896, 1.3927003145217896, 1.3925952911376953, 1.3925495147705078, 1.3925495147705078, 1.3925495147705078, 1.3925495147705078, 1.3925495147705078, 1.3925491571426392, 1.3925487995147705, 6.289755344390869, 2.7044830322265625, 4.978071689605713, 10.12523365020752, 10.065905570983887, 2.8766531944274902, 12.55322551727295, 6.130427360534668, 11.107924461364746, 4.501316070556641, 13.95896053314209, 3.0485057830810547, 4.724050045013428, 19.02080535888672, 12.148416519165039, 10.285037994384766, 8.571320533752441, 8.354634284973145, 8.023263931274414, 5.140156269073486, 5.140156269073486, 4.7013115882873535, 4.1030497550964355, 3.505115032196045, 3.505115032196045, 3.505115032196045, 3.505115032196045, 3.505115032196045, 3.505115032196045, 3.505115032196045, 3.505115032196045, 7.971290111541748, 7.373251914978027, 3.505115032196045, 6.774520397186279, 5.784976959228516, 4.759686470031738, 4.733877658843994, 3.505115032196045, 3.505115032196045, 4.083990097045898, 3.505115032196045, 3.505115032196045, 4.350119590759277, 4.75870418548584, 4.542208671569824, 4.276367664337158, 4.776800632476807, 5.6289496421813965, 4.054473876953125, 4.060284614562988, 3.8528311252593994, 3.5848121643066406, 24.07683563232422, 18.390697479248047, 14.125795364379883, 11.560964584350586, 9.686318397521973, 6.942998886108398, 6.074448585510254, 5.5711588859558105, 11.454203605651855, 4.702545166015625, 4.57956600189209, 4.016861915588379, 3.5138351917266846, 2.8280084133148193, 2.8280084133148193, 2.8280084133148193, 2.3934860229492188, 2.0512478351593018, 11.414531707763672, 1.4562872648239136, 5.822734355926514, 2.979966163635254, 1.4562872648239136, 6.7299909591674805, 1.4562872648239136, 2.827981472015381, 7.414156436920166, 10.479510307312012, 3.017948865890503, 0.08479029685258865, 2.9449892044067383, 21.48969268798828, 14.037697792053223, 8.65700626373291, 5.519813060760498, 5.5196332931518555, 3.4108965396881104, 3.410057306289673, 2.8955841064453125, 2.450901985168457, 1.4912395477294922, 1.4912395477294922, 1.4912395477294922, 1.4912395477294922, 1.4912238121032715, 1.4912238121032715, 1.4912238121032715, 3.9597327709198, 24.4578800201416, 12.943806648254395, 5.260130405426025, 8.671152114868164, 1.4912395477294922, 15.418801307678223, 10.297773361206055, 9.811063766479492, 0.08686301112174988, 0.08686032146215439, 0.08685595542192459, 0.08685595542192459, 0.08685451745986938, 0.08685451745986938, 1.3469278812408447, 1.9911178350448608, 4.895835876464844, 1.7346645593643188, 0.16327285766601562, 20.0354061126709, 11.584124565124512, 11.324979782104492, 6.583691596984863, 5.792017459869385, 4.490535736083984, 4.412147045135498, 3.405698776245117, 2.901524066925049, 2.8232903480529785, 2.82318377494812, 1.2342721223831177, 1.2342721223831177, 1.2342721223831177, 1.234230637550354, 1.234230637550354, 1.2341166734695435, 1.2332935333251953, 1.2342721223831177, 6.077476501464844, 2.2432334423065186, 5.989786624908447, 8.878334999084473, 2.5554187297821045, 2.69028902053833, 1.6606268882751465, 12.308855056762695, 3.1501002311706543, 0.07185390591621399, 0.07185324281454086, 2.668813705444336, 2.265439748764038, 4.396897792816162, 10.729233741760254, 10.525673866271973, 26.135478973388672, 2.6645078659057617, 2.6627390384674072, 22.858129501342773, 2.2606301307678223, 2.0154008865356445, 10.1771879196167, 8.915538787841797, 0.6158836483955383, 0.6158836483955383, 0.6158836483955383, 0.6158836483955383, 0.6154274344444275, 20.30406951904297, 9.75179386138916, 3.4405665397644043, 0.6158836483955383, 0.06781501322984695, 0.06781849265098572, 0.06780656427145004, 0.06780656427145004, 0.06780055910348892, 0.06780187040567398, 0.06778452545404434, 0.06779066473245621, 0.06777927279472351, 0.06778030097484589, 0.06778030097484589, 0.06779066473245621, 0.0677814856171608, 1.4660353660583496, 0.0677814856171608, 0.0677814856171608, 0.0677814856171608, 9.019594192504883, 7.498850345611572, 4.519903182983398, 4.084733963012695, 4.083035469055176, 3.9240925312042236, 2.892361640930176, 10.594141960144043, 2.455307722091675, 1.8598873615264893, 1.8598873615264893, 7.919456481933594, 0.6689280271530151, 0.6689280271530151, 0.6689280271530151, 19.72235679626465, 1.8596640825271606, 2.370961904525757, 0.07373114675283432, 0.07363077998161316, 0.07363834232091904, 0.07361859828233719, 0.07361859828233719, 0.07361859828233719, 0.07361859828233719, 0.07364940643310547, 0.07361312955617905, 0.07361312955617905, 0.07361312955617905, 0.07361312955617905, 0.956925630569458, 2.96858549118042, 5.12708854675293, 0.07362938672304153, 0.07363677024841309, 29.717864990234375, 1.3649100065231323, 1.3143048286437988, 1.0837349891662598, 25.95204734802246, 26.265668869018555, 0.5967199802398682, 0.5967199802398682, 0.5967199802398682, 0.3156481683254242, 4.176489353179932, 1.6597927808761597, 0.03480161726474762, 0.03473520278930664, 0.03472752869129181, 0.03472752869129181, 0.03472524508833885, 0.03472524508833885, 0.03472524508833885, 0.03472524508833885, 0.03472524508833885, 0.03472524508833885, 0.03472524508833885, 0.03472524508833885, 0.03472524508833885, 0.03472524508833885, 0.03472524508833885, 0.03472524508833885, 0.03472524508833885, 0.03472524508833885, 0.034729018807411194, 0.034729018807411194, 0.03472541272640228, 0.034725259989500046, 0.03472524508833885, 0.03472524508833885, 0.03472524508833885, 0.03472524508833885, 0.03472524508833885, 0.03472524508833885, 0.03472524508833885, 0.03472524508833885, 0.03472524508833885, 0.03472524508833885, 25.73133659362793, 24.508329391479492, 23.48310661315918, 1.262359380722046, 1.0715750455856323, 1.262359380722046, 0.03212738409638405, 0.03212594985961914, 0.032121915370225906, 0.032121915370225906, 0.032121915370225906, 0.032121915370225906, 0.032121915370225906, 0.0321204848587513, 0.03212002292275429, 0.03212002292275429, 0.03212002292275429, 0.03212002292275429, 0.03212002292275429, 0.03212002292275429, 0.032118942588567734, 0.03212002292275429, 0.032118942588567734, 0.03212002292275429, 0.03211786970496178, 0.03211786970496178, 0.03211786970496178, 0.03211786970496178, 0.03211786970496178, 0.03211670368909836, 0.03212002292275429, 0.032118942588567734, 0.03211786970496178, 0.03211786970496178, 12.860285758972168, 2.2379322052001953, 15.904474258422852, 0.9783986806869507, 0.9783986806869507, 0.9783986806869507, 0.9783986806869507, 4.661028861999512, 10.499629020690918, 1.8774646520614624, 0.057057008147239685, 0.056991320103406906, 0.05698174238204956, 0.056988250464200974, 0.05696675181388855, 0.05696675181388855, 0.05697189271450043, 0.05696675181388855, 0.056962642818689346, 0.056962642818689346, 0.05695736035704613, 0.05695736035704613, 0.05695736035704613, 0.05695736035704613, 0.05695736035704613, 0.05695736035704613, 0.05695736035704613, 0.05695736035704613, 0.05695690959692001, 0.056953635066747665, 3.4378163814544678, 0.0570327490568161, 0.006173401605337858, 0.006173401605337858, 0.006173401605337858, 0.006173401605337858, 0.006173401605337858, 0.006173401605337858, 0.006173401605337858, 0.006173401605337858, 0.006173401605337858, 0.006173401605337858, 0.006173401605337858, 0.006173401605337858, 0.006173401605337858, 0.006173401605337858, 0.006173401605337858, 0.006173401605337858, 0.006173401605337858, 0.006173401605337858, 0.006173401605337858, 0.006173401605337858, 0.006173401605337858, 0.006173401605337858, 0.006173401605337858, 0.006173401605337858, 0.006173401605337858, 0.006173401605337858, 0.006173401605337858, 0.006173401605337858, 0.006173401605337858, 0.006173401605337858, 0.0061734020709991455, 0.006173401605337858, 0.006173401605337858, 0.006173401605337858, 0.006173401605337858, 0.006173401605337858, 0.006173401605337858, 0.006173401605337858, 0.006173401605337858, 0.006173401605337858, 0.006173401605337858, 0.006173401605337858, 0.006173401605337858, 0.006173401605337858, 0.006173401605337858, 0.006173401605337858, 0.006173401605337858, 0.006173401605337858, 0.006173401605337858, 0.006173401605337858, 0.006173401605337858, 0.006173401605337858, 0.006173401605337858, 0.006173401605337858, 0.006173401605337858, 0.006173401605337858, 0.006173401605337858, 0.006173401605337858, 0.006173401605337858, 0.006173401605337858], \"Total\": [256.0, 177.0, 298.0, 173.0, 277.0, 185.0, 356.0, 627.0, 150.0, 255.0, 78.0, 62.0, 74.0, 79.0, 139.0, 61.0, 135.0, 145.0, 59.0, 99.0, 84.0, 72.0, 206.0, 70.0, 96.0, 35.0, 124.0, 78.0, 69.0, 77.0, 19.956649780273438, 46.459964752197266, 42.22150802612305, 17.66932487487793, 298.33111572265625, 16.89444351196289, 16.674671173095703, 13.401573181152344, 10.814752578735352, 8.046284675598145, 23.68583869934082, 4.449310302734375, 108.98409271240234, 277.7540283203125, 77.28984832763672, 9.40615463256836, 21.097436904907227, 255.25172424316406, 2.372852087020874, 2.372852087020874, 2.372751474380493, 2.3724658489227295, 206.8162078857422, 13.363309860229492, 139.75640869140625, 356.0078125, 3.02830171585083, 55.70109558105469, 78.98908996582031, 627.4977416992188, 145.32247924804688, 135.22190856933594, 173.8589630126953, 69.97248840332031, 37.48793411254883, 22.314834594726562, 19.420761108398438, 18.506935119628906, 17.193161010742188, 16.66558265686035, 15.417597770690918, 14.99052619934082, 12.198528289794922, 11.179265975952148, 32.494564056396484, 9.568964004516602, 9.137306213378906, 37.13170623779297, 12.820152282714844, 4.737232685089111, 4.737232685089111, 256.27532958984375, 4.148252487182617, 4.145807266235352, 3.4526405334472656, 3.4526405334472656, 8.432883262634277, 4.873993873596191, 2.5379886627197266, 2.5379886627197266, 2.5379886627197266, 2.5377204418182373, 277.7540283203125, 206.8162078857422, 627.4977416992188, 108.98409271240234, 17.05354118347168, 255.25172424316406, 69.12797546386719, 54.32801055908203, 31.102006912231445, 31.007436752319336, 27.59223175048828, 22.34743881225586, 17.28758430480957, 15.187094688415527, 50.75541305541992, 12.226409912109375, 45.4351921081543, 9.933971405029297, 9.228686332702637, 8.173928260803223, 7.308826923370361, 6.700236797332764, 6.6025285720825195, 5.900535583496094, 5.644321918487549, 20.52987289428711, 5.518144130706787, 4.685284614562988, 4.685031414031982, 4.684597969055176, 4.684413433074951, 26.023935317993164, 4.169667720794678, 4.1679606437683105, 4.077015399932861, 78.98908996582031, 150.4929962158203, 96.07620239257812, 62.333984375, 70.37261962890625, 22.711868286132812, 77.02392578125, 61.53388214111328, 57.588653564453125, 55.70109558105469, 627.4977416992188, 255.25172424316406, 356.0078125, 34.27957534790039, 177.6991729736328, 43.274967193603516, 14.147319793701172, 53.79048156738281, 77.51083374023438, 6.860640048980713, 6.667874813079834, 4.9445719718933105, 4.446756362915039, 3.675072193145752, 72.12571716308594, 7.572790145874023, 3.1864395141601562, 3.1864395141601562, 3.185804843902588, 3.185460090637207, 10.245224952697754, 2.1318016052246094, 2.1318016052246094, 2.1318016052246094, 2.131791114807129, 2.131791114807129, 2.1316423416137695, 2.131561040878296, 2.131561040878296, 12.084294319152832, 356.0078125, 255.25172424316406, 1.743840217590332, 627.4977416992188, 28.716712951660156, 25.953628540039062, 23.471595764160156, 21.002872467041016, 20.07917022705078, 19.779647827148438, 19.036338806152344, 16.859811782836914, 14.05148696899414, 12.38079833984375, 11.87306022644043, 11.656702995300293, 10.490285873413086, 9.630340576171875, 9.111327171325684, 7.960105895996094, 17.31018829345703, 7.305233955383301, 7.305130958557129, 6.721302032470703, 6.720905303955078, 6.2169904708862305, 6.137384414672852, 6.137359142303467, 5.927352428436279, 5.927000522613525, 5.926961421966553, 5.676904678344727, 5.676904678344727, 12.733817100524902, 18.957561492919922, 57.588653564453125, 21.116687774658203, 135.22190856933594, 17.05354118347168, 33.33420944213867, 15.878994941711426, 124.70683288574219, 145.32247924804688, 15.385382652282715, 44.22500991821289, 10.615676879882812, 9.697800636291504, 9.066755294799805, 8.797940254211426, 8.578397750854492, 7.28817892074585, 6.858546733856201, 4.1711578369140625, 3.8065648078918457, 3.080129623413086, 77.02392578125, 5.642133712768555, 96.07620239257812, 185.68006896972656, 77.28984832763672, 2.2141079902648926, 2.0869436264038086, 2.086914539337158, 2.086893320083618, 2.086893320083618, 2.086893320083618, 2.0868005752563477, 2.0868005752563477, 2.0868005752563477, 2.0868005752563477, 2.0868005752563477, 2.086671829223633, 2.086671829223633, 2.086671829223633, 135.22190856933594, 139.75640869140625, 150.4929962158203, 124.70683288574219, 145.32247924804688, 206.8162078857422, 8.432883262634277, 356.0078125, 77.51083374023438, 35.298702239990234, 12.733817100524902, 23.0089168548584, 70.37261962890625, 55.70109558105469, 36.345703125, 22.970674514770508, 21.976341247558594, 16.10742950439453, 10.329891204833984, 23.0089168548584, 29.083356857299805, 99.96097564697266, 2.819915771484375, 4.050106525421143, 145.32247924804688, 70.37261962890625, 21.774694442749023, 124.70683288574219, 185.68006896972656, 84.1444091796875, 356.0078125, 1.360504150390625, 1.3606430292129517, 1.3605766296386719, 1.3605766296386719, 1.360731601715088, 1.3605279922485352, 1.3604869842529297, 1.3605706691741943, 1.3605706691741943, 1.3605090379714966, 1.3605008125305176, 1.360529899597168, 1.3605120182037354, 627.4977416992188, 298.33111572265625, 1.3605976104736328, 24.130781173706055, 277.7540283203125, 74.41419219970703, 36.87916564941406, 19.782968521118164, 13.855683326721191, 8.210986137390137, 7.318948745727539, 6.806839942932129, 6.106961250305176, 24.436729431152344, 5.189164161682129, 84.1444091796875, 5.043580532073975, 4.595722198486328, 10.21059513092041, 19.59063148498535, 3.2747159004211426, 3.2747159004211426, 2.9780139923095703, 2.9780139923095703, 24.130781173706055, 12.818573951721191, 12.457252502441406, 2.168773651123047, 2.168773651123047, 2.168773651123047, 35.298702239990234, 18.559045791625977, 21.671945571899414, 135.22190856933594, 55.70109558105469, 627.4977416992188, 124.70683288574219, 6.522793769836426, 298.33111572265625, 21.097436904907227, 78.00248718261719, 27.929210662841797, 26.237648010253906, 17.642887115478516, 15.501991271972656, 12.855422019958496, 8.595459938049316, 7.368187427520752, 22.188228607177734, 6.65644645690918, 4.7179131507873535, 4.717879295349121, 4.197257041931152, 79.12715148925781, 2.778836250305176, 2.778836250305176, 2.778836250305176, 2.7787322998046875, 2.778677463531494, 2.7786760330200195, 18.994361877441406, 256.27532958984375, 185.68006896972656, 32.76887130737305, 37.13170623779297, 61.17211151123047, 99.96097564697266, 1.3607850074768066, 1.3607532978057861, 1.3607735633850098, 206.8162078857422, 627.4977416992188, 173.8589630126953, 59.52683639526367, 36.02156066894531, 15.29281234741211, 14.090032577514648, 9.933931350708008, 9.29844856262207, 8.050601959228516, 7.56948709487915, 7.277077674865723, 6.257866859436035, 6.25736141204834, 6.018970966339111, 32.76887130737305, 4.464641094207764, 4.464511871337891, 4.347002029418945, 3.8973846435546875, 3.6911559104919434, 2.6721034049987793, 2.6721034049987793, 2.6721034049987793, 2.6721034049987793, 2.6719985008239746, 2.671952724456787, 2.671952724456787, 2.671952724456787, 2.671952724456787, 2.671952724456787, 2.671952724456787, 2.671952724456787, 12.084294319152832, 5.355428218841553, 10.245224952697754, 33.33420944213867, 61.17211151123047, 8.515870094299316, 99.96097564697266, 36.11439514160156, 124.70683288574219, 35.298702239990234, 627.4977416992188, 32.494564056396484, 356.0078125, 20.307344436645508, 13.434955596923828, 11.57158088684082, 9.85785961151123, 9.641173362731934, 9.309803009033203, 6.426696300506592, 6.426696300506592, 5.987851619720459, 5.389589786529541, 4.79165506362915, 4.79165506362915, 4.79165506362915, 4.79165506362915, 4.79165506362915, 4.79165506362915, 4.79165506362915, 4.79165506362915, 12.001063346862793, 12.428459167480469, 6.383747577667236, 13.363309860229492, 12.457252502441406, 12.818573951721191, 24.130781173706055, 19.59063148498535, 20.52987289428711, 24.436729431152344, 22.711868286132812, 26.023935317993164, 35.59944152832031, 55.70109558105469, 77.02392578125, 62.333984375, 139.75640869140625, 627.4977416992188, 61.53388214111328, 150.4929962158203, 45.4351921081543, 255.25172424316406, 25.352535247802734, 19.666399002075195, 15.401497840881348, 12.836666107177734, 10.962019920349121, 8.218700408935547, 7.350151538848877, 6.846861839294434, 14.507172584533691, 5.978248119354248, 5.855268955230713, 5.292564868927002, 4.7895379066467285, 4.103711128234863, 4.103711128234863, 4.103711128234863, 3.6691880226135254, 3.3269495964050293, 18.559045791625977, 2.7319891452789307, 15.878994941711426, 8.128623962402344, 4.324168682098389, 21.097436904907227, 5.355428218841553, 12.001063346862793, 33.33420944213867, 61.17211151123047, 34.27957534790039, 1.3607850074768066, 77.51083374023438, 22.763362884521484, 15.311368942260742, 9.93067741394043, 6.793485164642334, 6.793305397033691, 4.684568405151367, 4.68372917175293, 4.169256210327148, 3.7245781421661377, 2.7649106979370117, 2.7649106979370117, 2.7649106979370117, 2.7649106979370117, 2.764894962310791, 2.764894962310791, 2.764894962310791, 8.128623962402344, 61.17211151123047, 36.11439514160156, 18.994361877441406, 35.298702239990234, 6.522793769836426, 150.4929962158203, 145.32247924804688, 139.75640869140625, 1.3606367111206055, 1.3605976104736328, 1.3605766296386719, 1.3605766296386719, 1.3605811595916748, 1.3605811595916748, 55.70109558105469, 99.96097564697266, 356.0078125, 255.25172424316406, 185.68006896972656, 21.324031829833984, 12.872747421264648, 12.613601684570312, 7.872315406799316, 7.080641269683838, 5.7791595458984375, 5.700770854949951, 4.69432258605957, 4.190147399902344, 4.111913681030273, 4.111806869506836, 2.5228946208953857, 2.5228946208953857, 2.5228946208953857, 2.522853136062622, 2.522853136062622, 2.522740125656128, 2.521916151046753, 3.8343989849090576, 18.994361877441406, 8.261587142944336, 22.711868286132812, 61.53388214111328, 21.116687774658203, 26.023935317993164, 17.31018829345703, 139.75640869140625, 37.29545593261719, 1.3605928421020508, 1.360640048980713, 57.588653564453125, 124.70683288574219, 627.4977416992188, 12.021937370300293, 11.818375587463379, 37.29545593261719, 3.957210063934326, 3.955441474914551, 34.27957534790039, 3.5533342361450195, 3.308103084564209, 21.774694442749023, 21.671945571899414, 1.9085862636566162, 1.9085862636566162, 1.9085862636566162, 1.9085862636566162, 1.9081299304962158, 72.12571716308594, 79.12715148925781, 29.083356857299805, 6.522793769836426, 1.3606367111206055, 1.3607120513916016, 1.3606009483337402, 1.3606009483337402, 1.360599160194397, 1.3606948852539062, 1.3605244159698486, 1.3606560230255127, 1.3604931831359863, 1.3605420589447021, 1.3605420589447021, 1.3607561588287354, 1.3605685234069824, 77.51083374023438, 1.3605685234069824, 1.3605685234069824, 1.3605985641479492, 10.306464195251465, 8.785719871520996, 5.806774139404297, 5.371604919433594, 5.369906425476074, 5.210963249206543, 4.179232597351074, 15.6515531539917, 3.742177724838257, 3.1467573642730713, 3.1467573642730713, 15.385382652282715, 1.9557981491088867, 1.9557981491088867, 1.9557981491088867, 79.12715148925781, 7.572790145874023, 23.0089168548584, 1.3620893955230713, 1.3605380058288574, 1.360731601715088, 1.3605031967163086, 1.3605031967163086, 1.3605031967163086, 1.3605258464813232, 1.3611488342285156, 1.3605079650878906, 1.3605079650878906, 1.3605079650878906, 1.3605079650878906, 18.994361877441406, 61.17211151123047, 124.70683288574219, 1.3608636856079102, 627.4977416992188, 35.59944152832031, 2.6906330585479736, 2.6400279998779297, 2.4094581604003906, 61.53388214111328, 62.333984375, 1.922443151473999, 1.922443151473999, 1.922443151473999, 1.641371488571167, 78.98908996582031, 46.459964752197266, 1.3605351448059082, 1.360459804534912, 1.3604832887649536, 1.3604832887649536, 1.3604543209075928, 1.36045503616333, 1.3604557514190674, 1.3604567050933838, 1.360457181930542, 1.360457420349121, 1.3604581356048584, 1.3604588508605957, 1.3604588508605957, 1.360459566116333, 1.360459804534912, 1.360459804534912, 1.3604602813720703, 1.3604605197906494, 1.3607532978057861, 1.3607850074768066, 24.811439514160156, 9.111327171325684, 16.859811782836914, 23.471595764160156, 13.363309860229492, 36.345703125, 15.187094688415527, 12.733817100524902, 19.036338806152344, 6.137384414672852, 4.103711128234863, 2.763807773590088, 27.059669494628906, 25.83666229248047, 24.811439514160156, 2.590691089630127, 2.399906635284424, 4.050106525421143, 1.3604693412780762, 1.3604669570922852, 1.3604650497436523, 1.3604650497436523, 1.3604650497436523, 1.3604650497436523, 1.3604650497436523, 1.3604648113250732, 1.3604724407196045, 1.3604724407196045, 1.3604724407196045, 1.3604724407196045, 1.3604724407196045, 1.3604905605316162, 1.3604850769042969, 1.360533595085144, 1.3605036735534668, 1.3605499267578125, 1.3604605197906494, 1.3604605197906494, 1.3604605197906494, 1.3604605197906494, 1.3604909181594849, 1.3604543209075928, 1.360598087310791, 1.361027479171753, 1.3606430292129517, 1.3607232570648193, 14.163800239562988, 3.5414469242095947, 36.11439514160156, 2.2819135189056396, 2.2819135189056396, 2.2819135189056396, 2.2819135189056396, 21.671945571899414, 70.37261962890625, 21.774694442749023, 1.3607735633850098, 1.3606005907058716, 1.3605735301971436, 1.3607532978057861, 1.3605117797851562, 1.3605117797851562, 1.3606430292129517, 1.3606057167053223, 1.3605706691741943, 1.3605706691741943, 1.3604915142059326, 1.3604915142059326, 1.3604915142059326, 1.3604915142059326, 1.3604915142059326, 1.3604915142059326, 1.3604915142059326, 1.3605540990829468, 1.360564947128296, 1.360500693321228, 99.96097564697266, 185.68006896972656, 1.3604543209075928, 1.36045503616333, 1.3604557514190674, 1.3604567050933838, 1.360457181930542, 1.360457420349121, 1.3604581356048584, 1.3604588508605957, 1.3604588508605957, 1.360459566116333, 1.360459804534912, 1.360459804534912, 1.360459804534912, 1.3604602813720703, 1.3604605197906494, 1.3604605197906494, 1.3604605197906494, 1.3604605197906494, 1.3604605197906494, 1.3604609966278076, 1.3604609966278076, 1.3604612350463867, 1.3604612350463867, 1.3604614734649658, 1.3604614734649658, 1.360461711883545, 1.360461711883545, 1.3604614734649658, 1.360461950302124, 1.360461950302124, 99.96097564697266, 1.3610038757324219, 4.103711128234863, 19.036338806152344, 6.137384414672852, 12.733817100524902, 2.763807773590088, 4.684597969055176, 8.218700408935547, 25.352535247802734, 5.978248119354248, 4.103711128234863, 10.962019920349121, 7.350151538848877, 19.666399002075195, 14.507172584533691, 23.471595764160156, 3.6691880226135254, 4.103711128234863, 15.187094688415527, 13.363309860229492, 36.345703125, 2.0869436264038086, 15.311368942260742, 4.68372917175293, 2.7649106979370117, 2.7649106979370117, 2.7649106979370117, 16.859811782836914, 2.762788772583008], \"Category\": [\"Default\", \"Default\", \"Default\", \"Default\", \"Default\", \"Default\", \"Default\", \"Default\", \"Default\", \"Default\", \"Default\", \"Default\", \"Default\", \"Default\", \"Default\", \"Default\", \"Default\", \"Default\", \"Default\", \"Default\", \"Default\", \"Default\", \"Default\", \"Default\", \"Default\", \"Default\", \"Default\", \"Default\", \"Default\", \"Default\", \"Topic1\", \"Topic1\", \"Topic1\", \"Topic1\", \"Topic1\", \"Topic1\", \"Topic1\", \"Topic1\", \"Topic1\", \"Topic1\", \"Topic1\", \"Topic1\", \"Topic1\", \"Topic1\", \"Topic1\", \"Topic1\", \"Topic1\", \"Topic1\", \"Topic1\", \"Topic1\", \"Topic1\", \"Topic1\", \"Topic1\", \"Topic1\", \"Topic1\", \"Topic1\", \"Topic1\", \"Topic1\", \"Topic1\", \"Topic1\", \"Topic1\", \"Topic1\", \"Topic2\", \"Topic2\", \"Topic2\", \"Topic2\", \"Topic2\", \"Topic2\", \"Topic2\", \"Topic2\", \"Topic2\", \"Topic2\", \"Topic2\", \"Topic2\", \"Topic2\", \"Topic2\", \"Topic2\", \"Topic2\", \"Topic2\", \"Topic2\", \"Topic2\", \"Topic2\", \"Topic2\", \"Topic2\", \"Topic2\", \"Topic2\", \"Topic2\", \"Topic2\", \"Topic2\", \"Topic2\", \"Topic2\", \"Topic2\", \"Topic2\", \"Topic2\", \"Topic2\", \"Topic2\", \"Topic2\", \"Topic2\", \"Topic3\", \"Topic3\", \"Topic3\", \"Topic3\", \"Topic3\", \"Topic3\", \"Topic3\", \"Topic3\", \"Topic3\", \"Topic3\", \"Topic3\", \"Topic3\", \"Topic3\", \"Topic3\", \"Topic3\", \"Topic3\", \"Topic3\", \"Topic3\", \"Topic3\", \"Topic3\", \"Topic3\", \"Topic3\", \"Topic3\", \"Topic3\", \"Topic3\", \"Topic3\", \"Topic3\", \"Topic3\", \"Topic3\", \"Topic3\", \"Topic3\", \"Topic3\", \"Topic3\", \"Topic3\", \"Topic3\", \"Topic3\", \"Topic3\", \"Topic3\", \"Topic3\", \"Topic3\", \"Topic3\", \"Topic3\", \"Topic3\", \"Topic4\", \"Topic4\", \"Topic4\", \"Topic4\", \"Topic4\", \"Topic4\", \"Topic4\", \"Topic4\", \"Topic4\", \"Topic4\", \"Topic4\", \"Topic4\", \"Topic4\", \"Topic4\", \"Topic4\", \"Topic4\", \"Topic4\", \"Topic4\", \"Topic4\", \"Topic4\", \"Topic4\", \"Topic4\", \"Topic4\", \"Topic4\", \"Topic4\", \"Topic4\", \"Topic4\", \"Topic4\", \"Topic4\", \"Topic4\", \"Topic5\", \"Topic5\", \"Topic5\", \"Topic5\", \"Topic5\", \"Topic5\", \"Topic5\", \"Topic5\", \"Topic5\", \"Topic5\", \"Topic5\", \"Topic5\", \"Topic5\", \"Topic5\", \"Topic5\", \"Topic5\", \"Topic5\", \"Topic5\", \"Topic5\", \"Topic5\", \"Topic5\", \"Topic5\", \"Topic5\", \"Topic5\", \"Topic5\", \"Topic5\", \"Topic5\", \"Topic5\", \"Topic5\", \"Topic5\", \"Topic5\", \"Topic5\", \"Topic5\", \"Topic5\", \"Topic5\", \"Topic5\", \"Topic5\", \"Topic5\", \"Topic5\", \"Topic5\", \"Topic6\", \"Topic6\", \"Topic6\", \"Topic6\", \"Topic6\", \"Topic6\", \"Topic6\", \"Topic6\", \"Topic6\", \"Topic6\", \"Topic6\", \"Topic6\", \"Topic6\", \"Topic6\", \"Topic6\", \"Topic6\", \"Topic6\", \"Topic6\", \"Topic6\", \"Topic6\", \"Topic6\", \"Topic6\", \"Topic6\", \"Topic6\", \"Topic6\", \"Topic6\", \"Topic6\", \"Topic6\", \"Topic6\", \"Topic6\", \"Topic6\", \"Topic6\", \"Topic6\", \"Topic6\", \"Topic6\", \"Topic6\", \"Topic6\", \"Topic6\", \"Topic6\", \"Topic6\", \"Topic6\", \"Topic6\", \"Topic6\", \"Topic6\", \"Topic7\", \"Topic7\", \"Topic7\", \"Topic7\", \"Topic7\", \"Topic7\", \"Topic7\", \"Topic7\", \"Topic7\", \"Topic7\", \"Topic7\", \"Topic7\", \"Topic7\", \"Topic7\", \"Topic7\", \"Topic7\", \"Topic7\", \"Topic7\", \"Topic7\", \"Topic7\", \"Topic7\", \"Topic7\", \"Topic7\", \"Topic7\", \"Topic7\", \"Topic7\", \"Topic7\", \"Topic7\", \"Topic7\", \"Topic7\", \"Topic7\", \"Topic7\", \"Topic7\", \"Topic7\", \"Topic7\", \"Topic8\", \"Topic8\", \"Topic8\", \"Topic8\", \"Topic8\", \"Topic8\", \"Topic8\", \"Topic8\", \"Topic8\", \"Topic8\", \"Topic8\", \"Topic8\", \"Topic8\", \"Topic8\", \"Topic8\", \"Topic8\", \"Topic8\", \"Topic8\", \"Topic8\", \"Topic8\", \"Topic8\", \"Topic8\", \"Topic8\", \"Topic8\", \"Topic8\", \"Topic8\", \"Topic8\", \"Topic8\", \"Topic8\", \"Topic8\", \"Topic8\", \"Topic8\", \"Topic8\", \"Topic8\", \"Topic8\", \"Topic9\", \"Topic9\", \"Topic9\", \"Topic9\", \"Topic9\", \"Topic9\", \"Topic9\", \"Topic9\", \"Topic9\", \"Topic9\", \"Topic9\", \"Topic9\", \"Topic9\", \"Topic9\", \"Topic9\", \"Topic9\", \"Topic9\", \"Topic9\", \"Topic9\", \"Topic9\", \"Topic9\", \"Topic9\", \"Topic9\", \"Topic9\", \"Topic9\", \"Topic9\", \"Topic9\", \"Topic9\", \"Topic9\", \"Topic9\", \"Topic9\", \"Topic9\", \"Topic9\", \"Topic10\", \"Topic10\", \"Topic10\", \"Topic10\", \"Topic10\", \"Topic10\", \"Topic10\", \"Topic10\", \"Topic10\", \"Topic10\", \"Topic10\", \"Topic10\", \"Topic10\", \"Topic10\", \"Topic10\", \"Topic10\", \"Topic10\", \"Topic10\", \"Topic10\", \"Topic10\", \"Topic10\", \"Topic10\", \"Topic10\", \"Topic10\", \"Topic10\", \"Topic10\", \"Topic10\", \"Topic10\", \"Topic10\", \"Topic10\", \"Topic10\", \"Topic10\", \"Topic10\", \"Topic10\", \"Topic10\", \"Topic10\", \"Topic10\", \"Topic10\", \"Topic10\", \"Topic10\", \"Topic10\", \"Topic10\", \"Topic10\", \"Topic11\", \"Topic11\", \"Topic11\", \"Topic11\", \"Topic11\", \"Topic11\", \"Topic11\", \"Topic11\", \"Topic11\", \"Topic11\", \"Topic11\", \"Topic11\", \"Topic11\", \"Topic11\", \"Topic11\", \"Topic11\", \"Topic11\", \"Topic11\", \"Topic11\", \"Topic11\", \"Topic11\", \"Topic11\", \"Topic11\", \"Topic11\", \"Topic11\", \"Topic11\", \"Topic11\", \"Topic11\", \"Topic11\", \"Topic11\", \"Topic11\", \"Topic11\", \"Topic11\", \"Topic11\", \"Topic11\", \"Topic11\", \"Topic11\", \"Topic11\", \"Topic11\", \"Topic11\", \"Topic12\", \"Topic12\", \"Topic12\", \"Topic12\", \"Topic12\", \"Topic12\", \"Topic12\", \"Topic12\", \"Topic12\", \"Topic12\", \"Topic12\", \"Topic12\", \"Topic12\", \"Topic12\", \"Topic12\", \"Topic12\", \"Topic12\", \"Topic12\", \"Topic12\", \"Topic12\", \"Topic12\", \"Topic12\", \"Topic12\", \"Topic12\", \"Topic12\", \"Topic12\", \"Topic12\", \"Topic12\", \"Topic12\", \"Topic12\", \"Topic12\", \"Topic13\", \"Topic13\", \"Topic13\", \"Topic13\", \"Topic13\", \"Topic13\", \"Topic13\", \"Topic13\", \"Topic13\", \"Topic13\", \"Topic13\", \"Topic13\", \"Topic13\", \"Topic13\", \"Topic13\", \"Topic13\", \"Topic13\", \"Topic13\", \"Topic13\", \"Topic13\", \"Topic13\", \"Topic13\", \"Topic13\", \"Topic13\", \"Topic13\", \"Topic13\", \"Topic13\", \"Topic13\", \"Topic13\", \"Topic13\", \"Topic13\", \"Topic13\", \"Topic13\", \"Topic13\", \"Topic13\", \"Topic13\", \"Topic14\", \"Topic14\", \"Topic14\", \"Topic14\", \"Topic14\", \"Topic14\", \"Topic14\", \"Topic14\", \"Topic14\", \"Topic14\", \"Topic14\", \"Topic14\", \"Topic14\", \"Topic14\", \"Topic14\", \"Topic14\", \"Topic14\", \"Topic14\", \"Topic14\", \"Topic14\", \"Topic14\", \"Topic14\", \"Topic14\", \"Topic14\", \"Topic14\", \"Topic14\", \"Topic14\", \"Topic14\", \"Topic14\", \"Topic14\", \"Topic14\", \"Topic14\", \"Topic14\", \"Topic15\", \"Topic15\", \"Topic15\", \"Topic15\", \"Topic15\", \"Topic15\", \"Topic15\", \"Topic15\", \"Topic15\", \"Topic15\", \"Topic15\", \"Topic15\", \"Topic15\", \"Topic15\", \"Topic15\", \"Topic15\", \"Topic15\", \"Topic15\", \"Topic15\", \"Topic15\", \"Topic15\", \"Topic15\", \"Topic15\", \"Topic15\", \"Topic15\", \"Topic15\", \"Topic15\", \"Topic15\", \"Topic15\", \"Topic15\", \"Topic15\", \"Topic15\", \"Topic15\", \"Topic15\", \"Topic15\", \"Topic15\", \"Topic16\", \"Topic16\", \"Topic16\", \"Topic16\", \"Topic16\", \"Topic16\", \"Topic16\", \"Topic16\", \"Topic16\", \"Topic16\", \"Topic16\", \"Topic16\", \"Topic16\", \"Topic16\", \"Topic16\", \"Topic16\", \"Topic16\", \"Topic16\", \"Topic16\", \"Topic16\", \"Topic16\", \"Topic16\", \"Topic16\", \"Topic16\", \"Topic16\", \"Topic16\", \"Topic16\", \"Topic16\", \"Topic16\", \"Topic16\", \"Topic16\", \"Topic16\", \"Topic16\", \"Topic16\", \"Topic16\", \"Topic17\", \"Topic17\", \"Topic17\", \"Topic17\", \"Topic17\", \"Topic17\", \"Topic17\", \"Topic17\", \"Topic17\", \"Topic17\", \"Topic17\", \"Topic17\", \"Topic17\", \"Topic17\", \"Topic17\", \"Topic17\", \"Topic17\", \"Topic17\", \"Topic17\", \"Topic17\", \"Topic17\", \"Topic17\", \"Topic17\", \"Topic17\", \"Topic17\", \"Topic17\", \"Topic17\", \"Topic17\", \"Topic17\", \"Topic17\", \"Topic17\", \"Topic17\", \"Topic17\", \"Topic17\", \"Topic17\", \"Topic17\", \"Topic17\", \"Topic17\", \"Topic17\", \"Topic17\", \"Topic17\", \"Topic17\", \"Topic17\", \"Topic17\", \"Topic18\", \"Topic18\", \"Topic18\", \"Topic18\", \"Topic18\", \"Topic18\", \"Topic18\", \"Topic18\", \"Topic18\", \"Topic18\", \"Topic18\", \"Topic18\", \"Topic18\", \"Topic18\", \"Topic18\", \"Topic18\", \"Topic18\", \"Topic18\", \"Topic18\", \"Topic18\", \"Topic18\", \"Topic18\", \"Topic18\", \"Topic18\", \"Topic18\", \"Topic18\", \"Topic18\", \"Topic18\", \"Topic18\", \"Topic18\", \"Topic18\", \"Topic18\", \"Topic18\", \"Topic18\", \"Topic19\", \"Topic19\", \"Topic19\", \"Topic19\", \"Topic19\", \"Topic19\", \"Topic19\", \"Topic19\", \"Topic19\", \"Topic19\", \"Topic19\", \"Topic19\", \"Topic19\", \"Topic19\", \"Topic19\", \"Topic19\", \"Topic19\", \"Topic19\", \"Topic19\", \"Topic19\", \"Topic19\", \"Topic19\", \"Topic19\", \"Topic19\", \"Topic19\", \"Topic19\", \"Topic19\", \"Topic19\", \"Topic19\", \"Topic19\", \"Topic19\", \"Topic19\", \"Topic20\", \"Topic20\", \"Topic20\", \"Topic20\", \"Topic20\", \"Topic20\", \"Topic20\", \"Topic20\", \"Topic20\", \"Topic20\", \"Topic20\", \"Topic20\", \"Topic20\", \"Topic20\", \"Topic20\", \"Topic20\", \"Topic20\", \"Topic20\", \"Topic20\", \"Topic20\", \"Topic20\", \"Topic20\", \"Topic20\", \"Topic20\", \"Topic20\", \"Topic20\", \"Topic20\", \"Topic20\", \"Topic20\", \"Topic20\", \"Topic20\", \"Topic20\", \"Topic20\", \"Topic20\", \"Topic20\", \"Topic20\", \"Topic20\", \"Topic20\", \"Topic20\", \"Topic20\", \"Topic20\", \"Topic20\", \"Topic20\", \"Topic20\", \"Topic20\", \"Topic20\", \"Topic20\", \"Topic20\", \"Topic20\", \"Topic20\", \"Topic20\", \"Topic20\", \"Topic20\", \"Topic20\", \"Topic20\", \"Topic20\", \"Topic20\", \"Topic20\", \"Topic20\", \"Topic20\"], \"logprob\": [30.0, 29.0, 28.0, 27.0, 26.0, 25.0, 24.0, 23.0, 22.0, 21.0, 20.0, 19.0, 18.0, 17.0, 16.0, 15.0, 14.0, 13.0, 12.0, 11.0, 10.0, 9.0, 8.0, 7.0, 6.0, 5.0, 4.0, 3.0, 2.0, 1.0, -4.359099864959717, -3.5167999267578125, -3.615299940109253, -4.4899001121521, -1.6664999723434448, -4.538300037384033, -4.552499771118164, -4.791900157928467, -5.032299995422363, -5.376100063323975, -4.303299903869629, -6.137499809265137, -3.0020999908447266, -2.2249999046325684, -3.5520999431610107, -5.667099952697754, -4.9446001052856445, -2.457200050354004, -7.213099956512451, -7.213099956512451, -7.213200092315674, -7.213500022888184, -2.759999990463257, -5.605500221252441, -3.2736001014709473, -2.442199945449829, -7.213099956512451, -4.497099876403809, -4.2906999588012695, -2.2564001083374023, -3.765399932861328, -5.102200031280518, -1.9541000127792358, -2.8750998973846436, -3.515500068664551, -4.058800220489502, -4.206900119781494, -4.258600234985352, -4.337900161743164, -4.371699810028076, -4.456299781799316, -4.486999988555908, -4.714799880981445, -4.812900066375732, -3.7639000415802, -4.990600109100342, -5.044099807739258, -3.687700033187866, -4.795499801635742, -5.866399765014648, -5.866399765014648, -1.888800024986267, -6.053599834442139, -6.0543999671936035, -6.332200050354004, -6.332200050354004, -5.482999801635742, -6.053699970245361, -6.881199836730957, -6.881199836730957, -6.881199836730957, -6.881400108337402, -2.3264999389648438, -2.8557000160217285, -1.8472000360488892, -3.541300058364868, -5.285999774932861, -4.412099838256836, -2.7736001014709473, -3.019700050354004, -3.5954999923706055, -3.599400043487549, -3.7207000255584717, -3.943000078201294, -4.21750020980835, -4.358099937438965, -3.1612000465393066, -4.597400188446045, -3.29259991645813, -4.832200050354004, -4.917200088500977, -5.0594000816345215, -5.193399906158447, -5.299699783325195, -5.317800045013428, -5.459099769592285, -5.51609992980957, -4.229400157928467, -5.545400142669678, -5.763800144195557, -5.763899803161621, -5.763999938964844, -5.764100074768066, -4.062399864196777, -5.927700042724609, -5.930600166320801, -5.96019983291626, -3.0083999633789062, -2.6305999755859375, -3.199899911880493, -3.5764000415802, -3.580899953842163, -4.498700141906738, -3.6387999057769775, -3.920300006866455, -4.139900207519531, -4.235499858856201, -2.988600015640259, -3.666800022125244, -3.562000036239624, -5.0071001052856445, -1.527500033378601, -2.963399887084961, -4.148200035095215, -2.892199993133545, -2.529900074005127, -4.986800193786621, -5.02209997177124, -5.4105000495910645, -5.5578999519348145, -5.84060001373291, -2.889400005340576, -5.201900005340576, -6.072299957275391, -6.072299957275391, -6.0725998878479, -6.072800159454346, -5.305099964141846, -6.899799823760986, -6.899799823760986, -6.899799823760986, -6.899799823760986, -6.899799823760986, -6.900000095367432, -6.900100231170654, -6.900100231170654, -5.182199954986572, -1.8743000030517578, -2.3050999641418457, -7.5416998863220215, -1.8202999830245972, -3.223099946975708, -3.329200029373169, -3.4351000785827637, -3.552999973297119, -3.6008999347686768, -3.6168999671936035, -3.657900094985962, -3.788599967956543, -3.986999988555908, -4.126999855041504, -4.173799991607666, -4.194399833679199, -4.313399791717529, -4.411200046539307, -4.475200176239014, -4.633800029754639, -3.864300012588501, -4.736700057983398, -4.736700057983398, -4.838399887084961, -4.838399887084961, -4.935299873352051, -4.951499938964844, -4.951499938964844, -4.995500087738037, -4.99560022354126, -4.99560022354126, -5.0507001876831055, -5.0507001876831055, -4.301499843597412, -3.9453999996185303, -2.9381000995635986, -3.900399923324585, -2.821000099182129, -4.263400077819824, -3.847899913787842, -4.3520002365112305, -3.7209999561309814, -4.039999961853027, -4.698699951171875, -2.7607998847961426, -4.289899826049805, -4.393799781799316, -4.472099781036377, -4.507400035858154, -4.537099838256836, -4.732699871063232, -4.807400226593018, -5.470600128173828, -5.6072001457214355, -5.952000141143799, -2.7643001079559326, -5.42710018157959, -2.597100019454956, -2.036600112915039, -2.989300012588501, -6.6269001960754395, -6.7795000076293945, -6.7795000076293945, -6.7795000076293945, -6.7795000076293945, -6.7795000076293945, -6.779699802398682, -6.779699802398682, -6.779699802398682, -6.779699802398682, -6.779699802398682, -6.779799938201904, -6.779799938201904, -6.779799938201904, -2.6389000415802, -2.611799955368042, -2.575200080871582, -2.7955000400543213, -3.0136001110076904, -3.1057000160217285, -5.7642998695373535, -3.3749001026153564, -4.56850004196167, -5.104599952697754, -5.744999885559082, -5.710700035095215, -5.4857001304626465, -5.806700229644775, -2.740999937057495, -3.221100091934204, -3.2679998874664307, -3.601300001144409, -4.094600200653076, -3.451200008392334, -3.3526999950408936, -2.121500015258789, -5.860400199890137, -5.860499858856201, -2.337899923324585, -3.117000102996826, -4.298799991607666, -2.8522000312805176, -2.4862000942230225, -3.6140999794006348, -2.612499952316284, -8.703800201416016, -8.703800201416016, -8.703900337219238, -8.703900337219238, -8.703800201416016, -8.704000473022461, -8.704099655151367, -8.704099655151367, -8.704099655151367, -8.704099655151367, -8.704099655151367, -8.704099655151367, -8.70419979095459, -2.7639000415802, -4.085400104522705, -8.704099655151367, -8.67199993133545, -8.70199966430664, -1.9997999668121338, -2.7165000438690186, -3.3703999519348145, -3.75600004196167, -4.350500106811523, -4.4878997802734375, -4.576200008392334, -4.711100101470947, -3.336199998855591, -4.921000003814697, -2.1422998905181885, -4.958799839019775, -5.084799766540527, -4.367199897766113, -3.7434000968933105, -5.589099884033203, -5.589099884033203, -5.748499870300293, -5.748499870300293, -3.711199998855591, -4.361800193786621, -4.587200164794922, -6.3856000900268555, -6.3856000900268555, -6.3856000900268555, -3.617500066757202, -4.502799987792969, -4.3491997718811035, -2.7119998931884766, -3.6036999225616455, -2.7239999771118164, -3.848099946975708, -5.748499870300293, -3.8524999618530273, -5.2368998527526855, -1.9180999994277954, -2.975399971008301, -3.0409998893737793, -3.4630000591278076, -3.603100061416626, -3.8089001178741455, -4.267499923706055, -4.450900077819824, -3.3522000312805176, -4.575099945068359, -5.021500110626221, -5.021500110626221, -5.185299873352051, -2.3921000957489014, -5.848999977111816, -5.848999977111816, -5.848999977111816, -5.848999977111816, -5.849100112915039, -5.849100112915039, -4.525100231170654, -1.996999979019165, -2.3387999534606934, -4.31220006942749, -4.561800003051758, -4.135799884796143, -3.9089999198913574, -8.690699577331543, -8.690999984741211, -8.691300392150879, -3.6958999633789062, -6.568299770355225, -8.267900466918945, -1.9278000593185425, -2.444499969482422, -3.3524999618530273, -3.442199945449829, -3.834399938583374, -3.9107000827789307, -4.079800128936768, -4.153500080108643, -4.201099872589111, -4.387400150299072, -4.387499809265137, -4.436500072479248, -2.790800094604492, -4.834000110626221, -4.834000110626221, -4.871600151062012, -5.030099868774414, -5.112100124359131, -5.661200046539307, -5.661200046539307, -5.661200046539307, -5.661200046539307, -5.661300182342529, -5.661300182342529, -5.661300182342529, -5.661300182342529, -5.661300182342529, -5.661300182342529, -5.661300182342529, -5.661300182342529, -4.153600215911865, -4.997600078582764, -4.387400150299072, -3.677500009536743, -3.683300018310547, -4.9359002113342285, -3.4625000953674316, -4.179200172424316, -3.5848000049591064, -4.488100051879883, -3.3564000129699707, -4.877799987792969, -4.439799785614014, -2.700900077819824, -3.149199962615967, -3.315700054168701, -3.497999906539917, -3.5236001014709473, -3.563999891281128, -4.009300231933594, -4.009300231933594, -4.098599910736084, -4.2347002029418945, -4.392199993133545, -4.392199993133545, -4.392199993133545, -4.392199993133545, -4.392199993133545, -4.392199993133545, -4.392199993133545, -4.392199993133545, -3.570499897003174, -3.6484999656677246, -4.392199993133545, -3.7332000732421875, -3.8910999298095703, -4.08620023727417, -4.091599941253662, -4.392199993133545, -4.392199993133545, -4.239299774169922, -4.392199993133545, -4.392199993133545, -4.176199913024902, -4.086400032043457, -4.132999897003174, -4.193299770355225, -4.082600116729736, -3.9184999465942383, -4.246600151062012, -4.245100021362305, -4.297599792480469, -4.369699954986572, -2.415800094604492, -2.6851999759674072, -2.9489998817443848, -3.149399995803833, -3.3262999057769775, -3.6593000888824463, -3.7929000854492188, -3.8794000148773193, -3.1586999893188477, -4.048900127410889, -4.075399875640869, -4.206500053405762, -4.3403000831604, -4.557400226593018, -4.557400226593018, -4.557400226593018, -4.724299907684326, -4.878600120544434, -3.162100076675415, -5.221099853515625, -3.835200071334839, -4.505099773406982, -5.221099853515625, -3.6903998851776123, -5.221099853515625, -4.557499885559082, -3.593600034713745, -3.2476000785827637, -4.492400169372559, -8.064599990844727, -4.516900062561035, -2.4760000705718994, -2.901900053024292, -3.385200023651123, -3.8352999687194824, -3.8352999687194824, -4.3165998458862305, -4.31689977645874, -4.480400085449219, -4.647200107574463, -5.144000053405762, -5.144000053405762, -5.144000053405762, -5.144000053405762, -5.144000053405762, -5.144000053405762, -5.144000053405762, -4.167399883270264, -2.3466999530792236, -2.9830000400543213, -3.883500099182129, -3.3835999965667725, -5.144000053405762, -2.808000087738037, -3.211699962615967, -3.2600998878479004, -7.986999988555908, -7.987100124359131, -7.987100124359131, -7.987100124359131, -7.987100124359131, -7.987100124359131, -5.245800018310547, -4.854899883270264, -3.955199956893921, -4.992800235748291, -7.355899810791016, -2.318000078201294, -2.865799903869629, -2.888400077819824, -3.4309000968933105, -3.559000015258789, -3.813499927520752, -3.8310999870300293, -4.090000152587891, -4.250199794769287, -4.277599811553955, -4.277599811553955, -5.105000019073486, -5.105000019073486, -5.105000019073486, -5.105000019073486, -5.105000019073486, -5.105100154876709, -5.105800151824951, -5.105000019073486, -3.5109000205993652, -4.507500171661377, -3.525399923324585, -3.1317999362945557, -4.377200126647949, -4.325799942016602, -4.808300018310547, -2.8050999641418457, -4.168000221252441, -7.948599815368652, -7.948599815368652, -4.333799839019775, -4.497700214385986, -3.8345999717712402, -2.9107000827789307, -2.929800033569336, -2.0202999114990234, -4.303599834442139, -4.304299831390381, -2.1542999744415283, -4.4679999351501465, -4.582799911499023, -2.9635000228881836, -3.0957999229431152, -5.7683000564575195, -5.7683000564575195, -5.7683000564575195, -5.7683000564575195, -5.769100189208984, -2.2727999687194824, -3.006200075149536, -4.047999858856201, -5.7683000564575195, -7.974599838256836, -7.974599838256836, -7.974699974060059, -7.974699974060059, -7.974800109863281, -7.974800109863281, -7.975100040435791, -7.974999904632568, -7.975100040435791, -7.975100040435791, -7.975100040435791, -7.974999904632568, -7.975100040435791, -4.901100158691406, -7.975100040435791, -7.975100040435791, -7.975100040435791, -2.8773999214172363, -3.062000036239624, -3.5683000087738037, -3.6695001125335693, -3.6698999404907227, -3.7095999717712402, -4.014699935913086, -2.7165000438690186, -4.178500175476074, -4.456200122833252, -4.456200122833252, -3.0074000358581543, -5.478799819946289, -5.478799819946289, -5.478799819946289, -2.0950000286102295, -4.456399917602539, -4.213500022888184, -7.684100151062012, -7.685400009155273, -7.685299873352051, -7.6855998039245605, -7.6855998039245605, -7.6855998039245605, -7.6855998039245605, -7.685200214385986, -7.685699939727783, -7.685699939727783, -7.685699939727783, -7.685699939727783, -5.120800018310547, -3.9886999130249023, -3.442199945449829, -7.685500144958496, -7.685400009155273, -1.4318000078201294, -4.512499809265137, -4.550300121307373, -4.743100166320801, -1.5672999620437622, -1.555299997329712, -5.339900016784668, -5.339900016784668, -5.339900016784668, -5.9766998291015625, -3.3940999507904053, -4.31689977645874, -8.181699752807617, -8.183600425720215, -8.183799743652344, -8.183799743652344, -8.183799743652344, -8.183799743652344, -8.183799743652344, -8.183799743652344, -8.183799743652344, -8.183799743652344, -8.183799743652344, -8.183799743652344, -8.183799743652344, -8.183799743652344, -8.183799743652344, -8.183799743652344, -8.183799743652344, -8.183799743652344, -8.183699607849121, -8.183699607849121, -8.183799743652344, -8.183799743652344, -8.183799743652344, -8.183799743652344, -8.183799743652344, -8.183799743652344, -8.183799743652344, -8.183799743652344, -8.183799743652344, -8.183799743652344, -8.183799743652344, -8.183799743652344, -1.4154000282287598, -1.4641000032424927, -1.5068000555038452, -4.430099964141846, -4.593999862670898, -4.430099964141846, -8.101200103759766, -8.101200103759766, -8.101300239562988, -8.101300239562988, -8.101300239562988, -8.101300239562988, -8.101300239562988, -8.101400375366211, -8.101400375366211, -8.101400375366211, -8.101400375366211, -8.101400375366211, -8.101400375366211, -8.101400375366211, -8.101400375366211, -8.101400375366211, -8.101400375366211, -8.101400375366211, -8.101499557495117, -8.101499557495117, -8.101499557495117, -8.101499557495117, -8.101499557495117, -8.101499557495117, -8.101400375366211, -8.101400375366211, -8.101499557495117, -8.101499557495117, -2.108299970626831, -3.8568999767303467, -1.895799994468689, -4.684299945831299, -4.684299945831299, -4.684299945831299, -4.684299945831299, -3.123199939727783, -2.3111000061035156, -4.03249979019165, -7.526100158691406, -7.527299880981445, -7.527500152587891, -7.527299880981445, -7.527699947357178, -7.527699947357178, -7.527599811553955, -7.527699947357178, -7.5278000831604, -7.5278000831604, -7.527900218963623, -7.527900218963623, -7.527900218963623, -7.527900218963623, -7.527900218963623, -7.527900218963623, -7.527900218963623, -7.527900218963623, -7.527900218963623, -7.5279998779296875, -3.4275999069213867, -7.526599884033203, -6.80019998550415, -6.80019998550415, -6.80019998550415, -6.80019998550415, -6.80019998550415, -6.80019998550415, -6.80019998550415, -6.80019998550415, -6.80019998550415, -6.80019998550415, -6.80019998550415, -6.80019998550415, -6.80019998550415, -6.80019998550415, -6.80019998550415, -6.80019998550415, -6.80019998550415, -6.80019998550415, -6.80019998550415, -6.80019998550415, -6.80019998550415, -6.80019998550415, -6.80019998550415, -6.80019998550415, -6.80019998550415, -6.80019998550415, -6.80019998550415, -6.80019998550415, -6.80019998550415, -6.80019998550415, -6.80019998550415, -6.80019998550415, -6.80019998550415, -6.80019998550415, -6.80019998550415, -6.80019998550415, -6.80019998550415, -6.80019998550415, -6.80019998550415, -6.80019998550415, -6.80019998550415, -6.80019998550415, -6.80019998550415, -6.80019998550415, -6.80019998550415, -6.80019998550415, -6.80019998550415, -6.80019998550415, -6.80019998550415, -6.80019998550415, -6.80019998550415, -6.80019998550415, -6.80019998550415, -6.80019998550415, -6.80019998550415, -6.80019998550415, -6.80019998550415, -6.80019998550415, -6.80019998550415, -6.80019998550415], \"loglift\": [30.0, 29.0, 28.0, 27.0, 26.0, 25.0, 24.0, 23.0, 22.0, 21.0, 20.0, 19.0, 18.0, 17.0, 16.0, 15.0, 14.0, 13.0, 12.0, 11.0, 10.0, 9.0, 8.0, 7.0, 6.0, 5.0, 4.0, 3.0, 2.0, 1.0, 1.823099970817566, 1.8202999830245972, 1.8176000118255615, 1.8141000270843506, 1.8109999895095825, 1.8104000091552734, 1.8092999458312988, 1.7884999513626099, 1.7625000476837158, 1.714400053024292, 1.7075999975204468, 1.5455000400543213, 1.4824999570846558, 1.3240000009536743, 1.2761000394821167, 1.267300009727478, 1.1820000410079956, 1.176300048828125, 1.0986000299453735, 1.0986000299453735, 1.0985000133514404, 1.0983999967575073, 1.0839999914169312, 0.9776999950408936, 0.9621999859809875, 0.8586000204086304, 0.8546000123023987, 0.6585999727249146, 0.5157999992370605, 0.47760000824928284, 0.43140000104904175, -0.833299994468689, 2.0634000301361084, 2.052500009536743, 2.0362000465393066, 2.011699914932251, 2.002500057220459, 1.9989999532699585, 1.993299961090088, 1.9907000064849854, 1.9838999509811401, 1.9812999963760376, 1.9595999717712402, 1.948799967765808, 1.930799961090088, 1.9265999794006348, 1.9192999601364136, 1.8736000061035156, 1.829200029373169, 1.7539000511169434, 1.7539000511169434, 1.7407000064849854, 1.6994999647140503, 1.6992000341415405, 1.6044000387191772, 1.6044000387191772, 1.5606000423431396, 1.538100004196167, 1.3631999492645264, 1.3631999492645264, 1.3631999492645264, 1.3631000518798828, 1.222499966621399, 0.9882000088691711, 0.8867999911308289, 0.9431999921798706, 1.0534000396728516, -0.7785999774932861, 2.1661999225616455, 2.1610000133514404, 2.142899990081787, 2.1421000957489014, 2.137500047683716, 2.1261000633239746, 2.1082000732421875, 2.0971999168395996, 2.0875000953674316, 2.0748000144958496, 2.0669000148773193, 2.047600030899048, 2.0362000465393066, 2.015399932861328, 1.993299961090088, 1.9738999605178833, 1.9703999757766724, 1.94159996509552, 1.9290000200271606, 1.9244999885559082, 1.9222999811172485, 1.8674999475479126, 1.8674999475479126, 1.8674999475479126, 1.8674999475479126, 1.8543000221252441, 1.8202999830245972, 1.8178000450134277, 1.8101999759674072, 1.7979999780654907, 1.5312000513076782, 1.4106999635696411, 1.4668999910354614, 1.3410999774932861, 1.5542000532150269, 1.1928000450134277, 1.1358000040054321, 0.9825000166893005, 0.920199990272522, -0.25459998846054077, -0.0333000011742115, -0.2612000107765198, 0.6341000199317932, 2.468100070953369, 2.4447999000549316, 2.378000020980835, 2.2983999252319336, 2.2953999042510986, 2.263200044631958, 2.2562999725341797, 2.1670000553131104, 2.1256000995635986, 2.033600091934204, 2.007999897003174, 1.9493000507354736, 1.944599986076355, 1.944599986076355, 1.9443999528884888, 1.9443000555038452, 1.5439000129699707, 1.5190000534057617, 1.5190000534057617, 1.5190000534057617, 1.5190000534057617, 1.5190000534057617, 1.5188000202178955, 1.5188000202178955, 1.5188000202178955, 1.5016000270843506, 1.4264999628067017, 1.3282999992370605, 1.0779999494552612, 0.9136999845504761, 2.595099925994873, 2.5901999473571777, 2.5848000049591064, 2.5780999660491943, 2.575200080871582, 2.574199914932251, 2.571500062942505, 2.562299966812134, 2.5460000038146973, 2.532599925994873, 2.5276999473571777, 2.5255000591278076, 2.511899948120117, 2.4995999336242676, 2.490999937057495, 2.4674999713897705, 2.460099935531616, 2.4504001140594482, 2.4504001140594482, 2.4321000576019287, 2.4321000576019287, 2.4131999015808105, 2.409899950027466, 2.409899950027466, 2.400700092315674, 2.400599956512451, 2.400599956512451, 2.388700008392334, 2.388700008392334, 2.329900026321411, 2.2881999015808105, 2.184299945831299, 2.2253000736236572, 1.4478000402450562, 2.075900077819824, 1.8213000297546387, 2.058799982070923, 0.6287999749183655, 0.15680000185966492, 1.7436000108718872, 2.6256000995635986, 2.5234999656677246, 2.5100998878479004, 2.4990999698638916, 2.4939000606536865, 2.4893999099731445, 2.4567999839782715, 2.4428999423980713, 2.276900053024292, 2.231800079345703, 2.09879994392395, 2.0673999786376953, 2.018399953842163, 2.0134999752044678, 1.9151999950408936, 1.8388999700546265, 1.753999948501587, 1.660599946975708, 1.660599946975708, 1.6605000495910645, 1.6605000495910645, 1.6605000495910645, 1.6605000495910645, 1.6605000495910645, 1.6605000495910645, 1.6605000495910645, 1.6605000495910645, 1.6604000329971313, 1.6604000329971313, 1.6604000329971313, 1.6298999786376953, 1.6240999698638916, 1.5865999460220337, 1.5542999505996704, 1.1830999851226807, 0.7383000254631042, 1.2793999910354614, -0.07410000264644623, 0.25679999589920044, 0.5073000192642212, 0.8865000009536743, 0.32910001277923584, -0.5637999773025513, -0.6510000228881836, 2.8417000770568848, 2.8203999996185303, 2.817699909210205, 2.795099973678589, 2.7460999488830566, 2.588599920272827, 2.452899932861328, 2.44950008392334, 2.278599977493286, 1.9164999723434448, 1.8588999509811401, 1.8049999475479126, 1.7962000370025635, 1.4975999593734741, 1.4656000137329102, 1.12909996509552, 0.6883000135421753, 0.16410000622272491, 0.164000004529953, 0.164000004529953, 0.164000004529953, 0.1639000028371811, 0.1639000028371811, 0.1639000028371811, 0.16380000114440918, 0.16380000114440918, 0.16380000114440918, 0.16380000114440918, 0.16369999945163727, 0.16369999945163727, -0.029899999499320984, -0.6079000234603882, 0.16369999945163727, -2.6796998977661133, -5.1529998779296875, 2.866300106048584, 2.851599931716919, 2.8206000328063965, 2.7909998893737793, 2.7197000980377197, 2.6974000930786133, 2.6816000938415527, 2.6552000045776367, 2.6435000896453857, 2.608099937438965, 2.6008999347686768, 2.59879994392395, 2.5657999515533447, 2.485100030899048, 2.4572999477386475, 2.400399923324585, 2.400399923324585, 2.3359999656677246, 2.3359999656677246, 2.281100034713745, 2.263000011444092, 2.066200017929077, 2.0160000324249268, 2.0160000324249268, 2.0160000324249268, 1.9944000244140625, 1.7519999742507935, 1.750499963760376, 1.5568000078201294, 1.5520999431610107, 0.009999999776482582, 0.5016999840736389, 1.5520000457763672, -0.375, 0.8896999955177307, 2.900899887084961, 2.870699882507324, 2.8675999641418457, 2.842400074005127, 2.8315999507904053, 2.8131000995635986, 2.7571001052856445, 2.7276999950408936, 2.7239999771118164, 2.7051000595092773, 2.6029000282287598, 2.6029000282287598, 2.555999994277954, 2.412600040435791, 2.304800033569336, 2.304800033569336, 2.304800033569336, 2.3046998977661133, 2.3046998977661133, 2.3046998977661133, 1.7065000534057617, 1.6325000524520874, 1.6129000186920166, 1.3740999698638916, 0.9994999766349792, 0.9262999892234802, 0.6620000004768372, 0.1770000010728836, 0.17669999599456787, 0.17640000581741333, 0.14800000190734863, -3.8343000411987305, -4.250400066375732, 3.1614999771118164, 3.1470999717712402, 3.095900058746338, 3.088099956512451, 3.0453999042510986, 3.0352001190185547, 3.010200023651123, 2.9981000423431396, 2.9899001121520996, 2.9544999599456787, 2.9544999599456787, 2.9442999362945557, 2.8954999446868896, 2.845599889755249, 2.845599889755249, 2.834700107574463, 2.785399913787842, 2.757699966430664, 2.531599998474121, 2.531599998474121, 2.531599998474121, 2.531599998474121, 2.531599998474121, 2.531599998474121, 2.531599998474121, 2.531599998474121, 2.531599998474121, 2.531599998474121, 2.531599998474121, 2.531599998474121, 2.5302999019622803, 2.5000998973846436, 2.4614999294281006, 1.9917000532150269, 1.3787000179290771, 2.0980000495910645, 1.1085000038146973, 1.4098000526428223, 0.7649999856948853, 1.1238000392913818, -0.6223999857902527, 0.8167999982833862, -1.1390000581741333, 3.463900089263916, 3.4286999702453613, 3.4114999771118164, 3.3894999027252197, 3.3861000537872314, 3.3805999755859375, 3.305999994277954, 3.305999994277954, 3.2874999046325684, 3.2565999031066895, 3.2167000770568848, 3.2167000770568848, 3.2167000770568848, 3.2167000770568848, 3.2167000770568848, 3.2167000770568848, 3.2167000770568848, 3.2167000770568848, 3.1201999187469482, 3.007200002670288, 2.929800033569336, 2.8499999046325684, 2.7623000144958496, 2.538599967956543, 1.9005999565124512, 1.808500051498413, 1.7617000341415405, 1.7403000593185425, 1.6606999635696411, 1.5246000289916992, 1.4271999597549438, 1.0693000555038452, 0.6987000107765198, 0.8500000238418579, 0.15320000052452087, -1.184499979019165, 0.8095999956130981, -0.08330000191926956, 1.061900019645691, -0.7361999750137329, 3.527100086212158, 3.511699914932251, 3.492300033569336, 3.474100112915039, 3.4549999237060547, 3.410099983215332, 3.3880999088287354, 3.372499942779541, 3.342400074005127, 3.33870005607605, 3.3329999446868896, 3.3029000759124756, 3.2690000534057617, 3.206399917602539, 3.206399917602539, 3.206399917602539, 3.1514999866485596, 3.095099925994873, 3.0927000045776367, 2.9495999813079834, 2.575500011444092, 2.5752999782562256, 2.4904000759124756, 2.436199903488159, 2.2764999866485596, 2.1333000659942627, 2.075500011444092, 1.8144999742507935, 1.148800015449524, 0.8030999898910522, 0.3084000051021576, 3.5745999813079834, 3.545300006866455, 3.4948999881744385, 3.424499988555908, 3.424499988555908, 3.3148000240325928, 3.3148000240325928, 3.2676000595092773, 3.213599920272827, 3.014699935913086, 3.014699935913086, 3.014699935913086, 3.014699935913086, 3.014699935913086, 3.014699935913086, 3.014699935913086, 2.912899971008301, 2.715399980545044, 2.606100082397461, 2.3482000827789307, 2.228300094604492, 2.156399965286255, 1.3538000583648682, 0.9850999712944031, 0.9757000207901001, 0.8808000087738037, 0.8808000087738037, 0.8806999921798706, 0.8806999921798706, 0.8806999921798706, 0.8806999921798706, -0.09000000357627869, -0.2838999927043915, -0.6543999910354614, -1.3593000173568726, -3.4042000770568848, 3.7980000972747803, 3.7548000812530518, 3.752500057220459, 3.68149995803833, 3.65939998626709, 3.6080000400543213, 3.604099988937378, 3.539400100708008, 3.492799997329712, 3.484299898147583, 3.484299898147583, 3.145400047302246, 3.145400047302246, 3.145400047302246, 3.1452999114990234, 3.1452999114990234, 3.1452999114990234, 3.1449999809265137, 2.726799964904785, 2.7207000255584717, 2.5566000938415527, 2.5274999141693115, 1.924299955368042, 1.7483999729156494, 1.59089994430542, 1.5161999464035034, 1.4306999444961548, 1.3889000415802002, 0.9193000197410583, 0.9192000031471252, 0.7886000275611877, -0.14790000021457672, -1.1004999876022339, 3.77839994430542, 3.7762999534606934, 3.5364999771118164, 3.4965999126434326, 3.4964001178741455, 3.4869000911712646, 3.4398999214172363, 3.3966000080108643, 3.131500005722046, 3.0039000511169434, 2.7611000537872314, 2.7611000537872314, 2.7611000537872314, 2.7611000537872314, 2.7606000900268555, 2.624500036239624, 1.7984999418258667, 1.757599949836731, 1.532099962234497, 0.8931999802589417, 0.8931999802589417, 0.8931000232696533, 0.8931000232696533, 0.8930000066757202, 0.8930000066757202, 0.892799973487854, 0.892799973487854, 0.892799973487854, 0.8927000164985657, 0.8927000164985657, 0.8927000164985657, 0.8927000164985657, -0.07569999992847443, 0.8927000164985657, 0.8927000164985657, 0.8927000164985657, 3.96560001373291, 3.9405999183654785, 3.8485000133514404, 3.8250999450683594, 3.825000047683716, 3.8153998851776123, 3.7309000492095947, 3.708699941635132, 3.6775999069213867, 3.5731000900268555, 3.5731000900268555, 3.4349000453948975, 3.026099920272827, 3.026099920272827, 3.026099920272827, 2.709700107574463, 2.6947999000549316, 1.8264000415802002, 1.1826000213623047, 1.1823999881744385, 1.1823999881744385, 1.1822999715805054, 1.1822999715805054, 1.1822999715805054, 1.1822999715805054, 1.1821999549865723, 1.1821999549865723, 1.1821999549865723, 1.1821999549865723, 1.1821999549865723, 1.11080002784729, 1.0734000205993652, 0.9075999855995178, 1.1821999549865723, -4.951399803161621, 4.171599864959717, 3.6735000610351562, 3.6547000408172607, 3.5532000064849854, 3.4888999462127686, 3.4879000186920166, 3.182300090789795, 3.182300090789795, 3.182300090789795, 2.7035000324249268, 1.4122999906539917, 1.020300030708313, 0.6862000226974487, 0.6844000220298767, 0.6840999722480774, 0.6840999722480774, 0.6840999722480774, 0.6840999722480774, 0.6840999722480774, 0.6840999722480774, 0.6840999722480774, 0.6840999722480774, 0.6840999722480774, 0.6840999722480774, 0.6840999722480774, 0.6840999722480774, 0.6840999722480774, 0.6840999722480774, 0.6840999722480774, 0.6840999722480774, 0.6840000152587891, 0.683899998664856, -2.219399929046631, -1.2175999879837036, -1.8329999446868896, -2.1638998985290527, -1.600600004196167, -2.6012001037597656, -1.7285000085830688, -1.55239999294281, -1.9544999599456787, -0.8224999904632568, -0.41999998688697815, -0.024700000882148743, 4.462299823760986, 4.459799766540527, 4.457600116729736, 3.7936999797821045, 3.7063000202178955, 3.34689998626709, 0.766700029373169, 0.766700029373169, 0.7666000127792358, 0.7666000127792358, 0.7666000127792358, 0.7666000127792358, 0.7666000127792358, 0.7664999961853027, 0.7664999961853027, 0.7664999961853027, 0.7664999961853027, 0.7664999961853027, 0.7664999961853027, 0.7664999961853027, 0.7664999961853027, 0.7664999961853027, 0.7664999961853027, 0.7664999961853027, 0.7664999961853027, 0.7664999961853027, 0.7664999961853027, 0.7664999961853027, 0.7663999795913696, 0.7663999795913696, 0.7663999795913696, 0.7660999894142151, 0.7663000226020813, 0.7663000226020813, 4.416800022125244, 4.054299831390381, 3.69320011138916, 3.6665000915527344, 3.6665000915527344, 3.6665000915527344, 3.6665000915527344, 2.9765000343322754, 2.61080002784729, 2.0625, 1.341599941253662, 1.340499997138977, 1.340399980545044, 1.340399980545044, 1.3401999473571777, 1.3401999473571777, 1.3401999473571777, 1.3401000499725342, 1.3401000499725342, 1.3401000499725342, 1.340000033378601, 1.340000033378601, 1.340000033378601, 1.340000033378601, 1.340000033378601, 1.340000033378601, 1.340000033378601, 1.340000033378601, 1.340000033378601, 1.339900016784668, 1.143399953842163, -3.5748000144958496, 2.0678000450134277, 2.0678000450134277, 2.0678000450134277, 2.0678000450134277, 2.0678000450134277, 2.0678000450134277, 2.0678000450134277, 2.0678000450134277, 2.0678000450134277, 2.0678000450134277, 2.0678000450134277, 2.0678000450134277, 2.0678000450134277, 2.0678000450134277, 2.0678000450134277, 2.0678000450134277, 2.0678000450134277, 2.0678000450134277, 2.0678000450134277, 2.0678000450134277, 2.0678000450134277, 2.0678000450134277, 2.0678000450134277, 2.0678000450134277, 2.0678000450134277, 2.0678000450134277, 2.0678000450134277, 2.0678000450134277, 2.0678000450134277, 2.0678000450134277, -2.2291998863220215, 2.0673999786376953, 0.963699996471405, -0.5708000063896179, 0.5612000226974487, -0.16869999468326569, 1.3589999675750732, 0.8313000202178955, 0.26919999718666077, -0.8572999835014343, 0.5874999761581421, 0.963699996471405, -0.01889999955892563, 0.38089999556541443, -0.6032999753952026, -0.29910001158714294, -0.7802000045776367, 1.075600028038025, 0.963699996471405, -0.3449000120162964, -0.21690000593662262, -1.2174999713897705, 1.6398999691009521, -0.3529999852180481, 0.8314999938011169, 1.3586000204086304, 1.3586000204086304, 1.3586000204086304, -0.44940000772476196, 1.3593000173568726]}, \"token.table\": {\"Topic\": [3, 2, 5, 15, 12, 14, 3, 5, 14, 14, 4, 8, 3, 6, 8, 13, 8, 15, 5, 8, 10, 5, 18, 15, 19, 6, 10, 1, 3, 17, 14, 1, 8, 12, 5, 6, 10, 9, 16, 4, 16, 1, 7, 2, 5, 10, 5, 11, 10, 12, 15, 3, 11, 17, 2, 8, 11, 11, 1, 5, 7, 8, 7, 5, 8, 3, 10, 16, 5, 12, 5, 5, 7, 9, 10, 13, 19, 2, 3, 4, 5, 12, 14, 19, 9, 11, 6, 5, 10, 13, 11, 11, 12, 11, 2, 15, 6, 11, 11, 11, 17, 5, 12, 16, 2, 5, 17, 17, 6, 6, 7, 16, 8, 14, 3, 5, 8, 11, 5, 11, 3, 10, 11, 12, 3, 11, 10, 4, 6, 3, 14, 4, 5, 15, 4, 10, 10, 1, 5, 6, 7, 10, 13, 8, 14, 1, 3, 6, 8, 11, 13, 5, 6, 2, 9, 1, 3, 6, 11, 13, 14, 5, 10, 12, 9, 9, 6, 19, 5, 7, 15, 14, 16, 3, 3, 5, 8, 13, 15, 15, 6, 5, 3, 13, 6, 13, 5, 9, 10, 4, 8, 15, 19, 11, 9, 10, 10, 2, 4, 3, 11, 5, 9, 5, 3, 5, 8, 11, 8, 11, 14, 6, 7, 9, 17, 2, 6, 1, 3, 1, 1, 10, 10, 10, 10, 12, 4, 8, 5, 7, 8, 10, 5, 13, 6, 9, 15, 16, 2, 1, 5, 6, 8, 2, 6, 4, 14, 2, 5, 6, 7, 13, 18, 6, 2, 19, 12, 5, 16, 9, 3, 11, 1, 1, 11, 10, 9, 13, 14, 16, 12, 3, 6, 1, 16, 16, 3, 14, 3, 3, 5, 3, 6, 11, 12, 5, 7, 15, 19, 3, 8, 9, 6, 2, 10, 1, 2, 8, 3, 11, 14, 17, 5, 16, 11, 16, 3, 10, 6, 9, 13, 4, 10, 14, 3, 3, 2, 1, 10, 16, 7, 19, 6, 4, 9, 1, 11, 3, 12, 3, 12, 15, 15, 6, 5, 8, 8, 6, 6, 19, 6, 9, 3, 6, 8, 10, 13, 3, 1, 3, 4, 6, 7, 10, 13, 2, 17, 6, 15, 9, 18, 2, 4, 5, 4, 5, 14, 1, 10, 15, 10, 5, 3, 11, 14, 1, 2, 6, 9, 12, 4, 5, 10, 12, 12, 12, 10, 9, 4, 5, 11, 3, 11, 17, 3, 5, 6, 7, 19, 10, 13, 19, 13, 8, 14, 1, 17, 14, 9, 10, 2, 1, 6, 5, 1, 2, 3, 4, 11, 12, 13, 3, 5, 6, 7, 8, 10, 14, 16, 10, 2, 1, 2, 3, 4, 6, 7, 8, 9, 10, 11, 14, 16, 13, 7, 18, 2, 3, 3, 6, 3, 3, 2, 13, 16, 4, 4, 6, 3, 12, 3, 8, 13, 2, 4, 9, 16, 14, 6, 2, 2, 10, 8, 12, 13, 10, 3, 10, 4, 2, 15, 4, 10, 8, 11, 5, 3, 6, 11, 13, 3, 14, 15, 10, 11, 11, 5, 1, 3, 1, 2, 14, 1, 2, 2, 9, 8, 12, 12, 12, 1, 5, 3, 8, 17, 1, 13, 11, 10, 6, 13, 2, 5, 10, 12, 12, 13, 10, 3, 11, 1, 13, 16, 2, 6, 9, 3, 9, 10, 12, 13, 16, 2, 9, 18, 15, 11, 3, 5, 14, 5, 10, 6, 4, 8, 12, 10, 14, 3, 4, 4, 9, 9, 13, 8, 16, 7, 18, 2, 1, 3, 5, 14, 8, 5, 4, 4, 6, 12, 15, 5, 3, 11, 14, 14, 5, 12, 3, 11, 14, 3, 7, 1, 3], \"Freq\": [0.9836828112602234, 0.9185745716094971, 0.8793852925300598, 0.7584488391876221, 0.7310456037521362, 0.3963701128959656, 0.18942365050315857, 0.6629827618598938, 0.14206773042678833, 0.7296062707901001, 0.46908679604530334, 0.9761608839035034, 0.17723791301250458, 0.5317137241363525, 0.4610900580883026, 0.9062826037406921, 0.9604220986366272, 0.5239480137825012, 0.9402190446853638, 0.793087363243103, 0.830706775188446, 0.8213289380073547, 0.9608395099639893, 0.5239480137825012, 0.43822869658470154, 0.479169636964798, 0.7926560640335083, 0.2531995177268982, 0.6836386919021606, 0.05063990503549576, 0.3963701128959656, 0.4739912152290344, 0.1421973705291748, 0.3317938446998596, 0.706779420375824, 0.1570620983839035, 0.7989943027496338, 0.7511515617370605, 0.6355748772621155, 0.5282068848609924, 0.2641034424304962, 0.8954172730445862, 0.9312472939491272, 0.9603089690208435, 0.8579365611076355, 0.6719465255737305, 0.3218419849872589, 0.5632234811782837, 0.5601792931556702, 0.1867264360189438, 0.5628516674041748, 0.9397050142288208, 0.11236131191253662, 0.8427098393440247, 0.7231960892677307, 0.40137261152267456, 0.4816471338272095, 0.7780047059059143, 0.9251465201377869, 0.003351980121806264, 0.030167821794748306, 0.036871783435344696, 0.7092410326004028, 0.8884726166725159, 0.881466269493103, 0.7358323931694031, 0.6901308298110962, 0.7676123976707458, 0.566786527633667, 0.37785765528678894, 0.9632564187049866, 0.050019521266222, 0.6502537727355957, 0.100039042532444, 0.13005074858665466, 0.02000780776143074, 0.03001171164214611, 0.8360361456871033, 0.07436259835958481, 0.8365792632102966, 0.055771950632333755, 0.5450797080993652, 0.7016595005989075, 0.43822869658470154, 0.7147524952888489, 0.7421715259552002, 0.4792024791240692, 0.8146792650222778, 0.3742370009422302, 0.36167532205581665, 0.7780047059059143, 0.6666076183319092, 0.24997784197330475, 0.8347846269607544, 0.5792667865753174, 0.6045761108398438, 0.479181170463562, 0.8297744989395142, 0.8931924104690552, 0.9129770994186401, 0.5201714038848877, 0.4625166356563568, 0.2312583178281784, 0.6355748772621155, 0.3518330752849579, 0.5863884687423706, 0.5201714038848877, 0.37878385186195374, 0.4792024791240692, 0.08692282438278198, 0.7388439774513245, 0.08692282438278198, 0.7708370685577393, 0.8473808765411377, 0.708676815032959, 0.10208961367607117, 0.6635825037956238, 0.20417922735214233, 0.3132956027984619, 0.6265912055969238, 0.6403025984764099, 0.5418356657028198, 0.8347846269607544, 0.366033673286438, 0.8803748488426208, 0.08803748339414597, 0.37425169348716736, 0.544206976890564, 0.9723005294799805, 0.6052106022834778, 0.24208423495292664, 0.6239106059074402, 0.06932339817285538, 0.2772935926914215, 0.46908679604530334, 0.3742370009422302, 0.9154627323150635, 0.23396243155002594, 0.08257497102022171, 0.22708117961883545, 0.3578248918056488, 0.01376249548047781, 0.06881248205900192, 0.9809956550598145, 0.8891920447349548, 0.2872474789619446, 0.2872474789619446, 0.03590593487024307, 0.26929453015327454, 0.08976484090089798, 0.017952967435121536, 0.8435969948768616, 0.4792024791240692, 0.7179778218269348, 0.2770457863807678, 0.3935418725013733, 0.05008715018630028, 0.3577653467655182, 0.0357765331864357, 0.0715530663728714, 0.08586367964744568, 0.8436025977134705, 0.13786284625530243, 0.758245587348938, 0.9031097888946533, 0.6358789205551147, 0.45164915919303894, 0.43822869658470154, 0.20630355179309845, 0.6532946228981018, 0.10315177589654922, 0.7295873165130615, 0.7448919415473938, 0.856381356716156, 0.7248814105987549, 0.3066170811653137, 0.3066170811653137, 0.15330854058265686, 0.15330854058265686, 0.9307539463043213, 0.479181170463562, 0.9455599784851074, 0.8209251761436462, 0.36167532205581665, 0.87482088804245, 0.8832224607467651, 0.04506894201040268, 0.8112409710884094, 0.09013788402080536, 0.9705380201339722, 0.3229982256889343, 0.4152834415435791, 0.23071302473545074, 0.8347846269607544, 0.21361736953258514, 0.7629191875457764, 0.8245068192481995, 0.7236226201057434, 0.990437924861908, 0.9755557179450989, 0.8347846269607544, 0.7439473867416382, 0.7197526693344116, 0.9264671206474304, 0.08288169652223587, 0.12432254105806351, 0.5387309789657593, 0.20720423758029938, 0.777518093585968, 0.16368801891803741, 0.9322019219398499, 0.47931909561157227, 0.24235235154628754, 0.2692803740501404, 0.5201714038848877, 0.9268431663513184, 0.6493233442306519, 0.9470569491386414, 0.9255197048187256, 0.9520636200904846, 0.9055241346359253, 0.3742581307888031, 0.8603585958480835, 0.9226380586624146, 0.3742581307888031, 0.8351536393165588, 0.627659797668457, 0.6107400059700012, 0.05942165479063988, 0.17826496064662933, 0.7487128376960754, 0.3742581307888031, 0.9490022659301758, 0.5369735360145569, 0.01263788715004921, 0.6066185832023621, 0.1263788640499115, 0.252757728099823, 0.9000585675239563, 0.06655725836753845, 0.30320531129837036, 0.35497206449508667, 0.2662290334701538, 0.5929170250892639, 0.23716680705547333, 0.6278527975082397, 0.3963766098022461, 0.39401277899742126, 0.9251689910888672, 0.719224750995636, 0.9629749059677124, 0.6404005289077759, 0.9269917607307434, 0.4792320430278778, 0.9306025505065918, 0.9178327918052673, 0.7310456037521362, 0.25556570291519165, 0.7028056383132935, 0.635874330997467, 0.9645679593086243, 0.8347846269607544, 0.42150238156318665, 0.3741587996482849, 0.5238223075866699, 0.3742581307888031, 0.31588321924209595, 0.26323601603507996, 0.31588321924209595, 0.05264720320701599, 0.934822142124176, 0.4579698145389557, 0.5308286547660828, 0.8699667453765869, 0.5113002061843872, 0.5113002061843872, 0.942294180393219, 0.8720744848251343, 0.9059820771217346, 0.2109975963830948, 0.685742199420929, 0.37650638818740845, 0.5582680702209473, 0.06491489708423615, 0.8763138651847839, 0.04592486843466759, 0.3214740753173828, 0.45924869179725647, 0.09184973686933517, 0.7194817662239075, 0.8525163531303406, 0.7197668552398682, 0.8160032033920288, 0.7800219655036926, 0.1560043841600418, 0.6606468558311462, 0.3211477994918823, 0.6715885400772095, 0.35752660036087036, 0.06500484049320221, 0.14626088738441467, 0.42253145575523376, 0.3899805545806885, 0.5199740529060364, 0.8350240588188171, 0.7178351283073425, 0.4697112441062927, 0.35228344798088074, 0.5254080891609192, 0.7197257280349731, 0.36167532205581665, 0.39042577147483826, 0.4880322217941284, 0.3963766098022461, 0.6403372287750244, 0.9675098061561584, 0.5792667865753174, 0.8995679616928101, 0.8695002198219299, 0.5344481468200684, 0.9577428698539734, 0.43822869658470154, 0.8823443055152893, 0.4691397547721863, 0.9068810343742371, 0.42143377661705017, 0.86418616771698, 0.6403964757919312, 0.853931725025177, 0.20420323312282562, 0.08751566708087921, 0.6709534525871277, 0.7581098675727844, 0.8478027582168579, 0.8042476773262024, 0.8197898864746094, 0.4610900580883026, 0.8249292969703674, 0.4792320430278778, 0.5647408962249756, 0.823250949382782, 0.9871479868888855, 0.08498895913362503, 0.11331861466169357, 0.3966151475906372, 0.14164826273918152, 0.2549668848514557, 0.36181965470314026, 0.3567337393760681, 0.08707673847675323, 0.351115882396698, 0.06460532546043396, 0.11235708743333817, 0.01404463592916727, 0.01404463592916727, 0.9861018657684326, 0.4150310754776001, 0.4792024791240692, 0.5239480137825012, 0.7197672724723816, 0.9676172733306885, 0.9410780072212219, 0.8089678883552551, 0.8578755259513855, 0.46908679604530334, 0.8087722659111023, 0.11553889513015747, 0.3302180767059326, 0.3302180767059326, 0.5239480137825012, 0.6719659566879272, 0.8307079076766968, 0.7793521285057068, 0.1948380321264267, 0.7159652709960938, 0.4448394179344177, 0.33846476674079895, 0.1450563222169876, 0.0628577396273613, 0.9152666926383972, 0.4691397547721863, 0.81468266248703, 0.3742581307888031, 0.8163096904754639, 0.9122406244277954, 0.6011512875556946, 0.3742370009422302, 0.9667298197746277, 0.9189019799232483, 0.9373031258583069, 0.8347846269607544, 0.4812783896923065, 0.06417044997215271, 0.4171079397201538, 0.4263021647930145, 0.02842014469206333, 0.04263021796941757, 0.3410417437553406, 0.1421007215976715, 0.16613873839378357, 0.35996726155281067, 0.44303664565086365, 0.6405152678489685, 0.9382431507110596, 0.6921421885490417, 0.9255280494689941, 0.043047815561294556, 0.3965238928794861, 0.7197257280349731, 0.3742370009422302, 0.9017481207847595, 0.543408989906311, 0.43990254402160645, 0.9522507190704346, 0.489712655544281, 0.05876551941037178, 0.10969563573598862, 0.31733378767967224, 0.01567080430686474, 0.003917701076716185, 0.00783540215343237, 0.03207522630691528, 0.13631971180438995, 0.32877108454704285, 0.24858300387859344, 0.08820687234401703, 0.08820687234401703, 0.01603761315345764, 0.040094032883644104, 0.3742581307888031, 0.39401277899742126, 0.24382558465003967, 0.3059771955013275, 0.08764971792697906, 0.21035932004451752, 0.0031872624531388283, 0.054183460772037506, 0.05577709153294563, 0.0015936312265694141, 0.022310838103294373, 0.009561787359416485, 0.0063745249062776566, 0.8610633015632629, 0.8831990957260132, 0.8712579607963562, 0.38599738478660583, 0.39401277899742126, 0.8473806977272034, 0.8996917605400085, 0.795640766620636, 0.6404216885566711, 0.719776451587677, 0.9339231848716736, 0.9143532514572144, 0.7446563839912415, 0.4690891206264496, 0.6746490597724915, 0.4791763126850128, 0.7462422847747803, 0.7557772397994995, 0.36195310950279236, 0.4610900580883026, 0.7195528149604797, 0.8755315542221069, 0.7498641014099121, 0.7197257280349731, 0.5113002061843872, 0.3963701128959656, 0.4792320430278778, 0.9950594305992126, 0.8616825938224792, 0.09232313185930252, 0.32329249382019043, 0.5927028656005859, 0.3616773784160614, 0.9716402888298035, 0.7572856545448303, 0.9059857130050659, 0.8745539784431458, 0.8945131301879883, 0.5240733027458191, 0.4137601852416992, 0.496512234210968, 0.5460825562477112, 0.3900589942932129, 0.7439034581184387, 0.5182965397834778, 0.34553101658821106, 0.02657930925488472, 0.09967241436243057, 0.18769042193889618, 0.0804387554526329, 0.697135865688324, 0.9743504524230957, 0.9356220960617065, 0.8347846269607544, 0.7046093344688416, 0.8443863987922668, 0.12665796279907227, 0.4214516282081604, 0.6332811117172241, 0.39639437198638916, 0.5688486099243164, 0.42843663692474365, 0.39405444264411926, 0.9334582686424255, 0.6715885400772095, 0.7310456037521362, 0.8363654017448425, 0.9466508626937866, 0.9246628284454346, 0.9462542533874512, 0.19587497413158417, 0.6855623722076416, 0.3716597557067871, 0.42143377661705017, 0.9225350618362427, 0.8347846269607544, 0.3742581307888031, 0.4792024791240692, 0.3616773784160614, 0.6332811117172241, 0.4499881863594055, 0.2999921143054962, 0.20999448001384735, 0.36906614899635315, 0.4920881986618042, 0.7990588545799255, 0.9063072800636292, 0.07880932837724686, 0.6742618083953857, 0.36167532205581665, 0.7967474460601807, 0.6155116558074951, 0.20517054200172424, 0.9528293013572693, 0.06538927555084229, 0.13077855110168457, 0.1634731888771057, 0.1634731888771057, 0.3923356533050537, 0.049041956663131714, 0.8079348802566528, 0.13465580344200134, 0.4166828691959381, 0.914993941783905, 0.8593092560768127, 0.2951970398426056, 0.642487645149231, 0.05209359526634216, 0.8213405013084412, 0.7697469592094421, 0.479181170463562, 0.6277848482131958, 0.6527809500694275, 0.9090024828910828, 0.26079705357551575, 0.26079705357551575, 0.8668622970581055, 0.4691218435764313, 0.627659797668457, 0.8143833875656128, 0.8143115043640137, 0.3616773784160614, 0.818737804889679, 0.8732383847236633, 0.4938141703605652, 0.2469070851802826, 0.9080532789230347, 0.9236998558044434, 0.04736922308802605, 0.8435469269752502, 0.6390698552131653, 0.6107400059700012, 0.7046093344688416, 0.4690891206264496, 0.8385924696922302, 0.09030995517969131, 0.038704268634319305, 0.012901422567665577, 0.8780279755592346, 0.5283581018447876, 0.1761193722486496, 0.2641790509223938, 0.937908947467804, 0.9605833292007446, 0.851716160774231, 0.7300971150398254, 0.1537046581506729, 0.11527848988771439, 0.9218353033065796, 0.9555730819702148, 0.531566858291626, 0.31894010305404663], \"Term\": [\"accesorio\", \"accionamiento\", \"activar\", \"activo\", \"actualizar\", \"adaptador\", \"ademar\", \"ademar\", \"ademar\", \"adhesivo\", \"adir\", \"aguar\", \"ajustar\", \"ajustar\", \"alarmar\", \"alimentacion\", \"alto\", \"apagar\", \"aparentar\", \"app\", \"aprox\", \"atencion\", \"atender\", \"automarico\", \"avezar\", \"bien\", \"bloquear\", \"boca\", \"boca\", \"boca\", \"bocaestanque\", \"bodega\", \"bodega\", \"bodega\", \"bombo\", \"bombo\", \"borrar\", \"boto\", \"breakawat\", \"breakaway\", \"breakaway\", \"breakaways\", \"breakway\", \"breckawey\", \"brevedad\", \"bueno\", \"cabezal\", \"cabezal\", \"cable\", \"cable\", \"caido\", \"calibracion\", \"calibrar\", \"calibrar\", \"calzar\", \"camara\", \"camara\", \"camaras\", \"cambiar\", \"cambiar\", \"cambiar\", \"cambiar\", \"cammbio\", \"cano\", \"cap\\u00edtulo\", \"cargar\", \"cebar\", \"centrifugar\", \"cerrar\", \"cerrar\", \"check\", \"chequea\", \"chequea\", \"chequea\", \"chequea\", \"chequea\", \"chequea\", \"chequeo\", \"cliente\", \"cliente\", \"cliente\", \"codigo\", \"codo\", \"colocar\", \"comentar\", \"compania\", \"completar\", \"comportamiento\", \"conbezzel\", \"concurrio\", \"condicion\", \"coneccion\", \"coneccion\", \"confinar\", \"conjuntar\", \"contactar\", \"contacto\", \"contaminar\", \"contar\", \"contenedor\", \"contratista\", \"control\", \"control\", \"convencional\", \"coordinar\", \"coordinar\", \"corresponder\", \"correspondiente\", \"corrrecto\", \"cortar\", \"cortar\", \"cortar\", \"danada\", \"danado\", \"deber\", \"dejar\", \"dejar\", \"dejar\", \"demas\", \"demas\", \"dentro\", \"derivar\", \"derramar\", \"desarmar\", \"descargar\", \"descargar\", \"descebar\", \"desconectar\", \"describir\", \"desgastar\", \"desgastar\", \"despachar\", \"despachar\", \"despachar\", \"despegar\", \"detdctando\", \"detectandose\", \"detectar\", \"detectar\", \"detectar\", \"detectar\", \"detectar\", \"detectar\", \"detector\", \"deteriorar\", \"diesel\", \"diesel\", \"diesel\", \"diesel\", \"diesel\", \"diesel\", \"diferencial\", \"directo\", \"disp\", \"disp\", \"dispensador\", \"dispensador\", \"dispensador\", \"dispensador\", \"dispensador\", \"dispensador\", \"dispenzador\", \"display\", \"display\", \"displey\", \"doblar\", \"don\", \"durar\", \"eds\", \"eds\", \"eds\", \"eess\", \"efecto\", \"efectua\", \"efectuar\", \"electrica\", \"electrica\", \"electrica\", \"electrica\", \"electrico\", \"electricos\", \"elementar\", \"eliminar\", \"emergencia\", \"emitir\", \"empresa\", \"encargar\", \"encargar\", \"encargar\", \"encontrandose\", \"encontrar\", \"encontrar\", \"encontrar\", \"enconttarse\", \"encore\", \"encore\", \"enex\", \"entregar\", \"equipar\", \"equipo\", \"espaciar\", \"esperar\", \"esporadicamente\", \"est\", \"estacion\", \"estacion\", \"estacion\", \"estacion\", \"estancar\", \"estancar\", \"estanque\", \"fallo\", \"fallo\", \"fallo\", \"favor\", \"fijacion\", \"fijo\", \"filtracion\", \"filtraci\\u00f3n\", \"filtrar\", \"filtro\", \"finiquitar\", \"firmar\", \"flujo\", \"forzar\", \"foto\", \"fotografica\", \"frecuencia\", \"fugar\", \"fugar\", \"fugar\", \"funciinamiento\", \"funcional\", \"funcionamiento\", \"funcionar\", \"funcionar\", \"funcionar\", \"funcionar\", \"fundir\", \"gas\", \"gas\", \"gas\", \"gas\", \"gatillo\", \"gatillo\", \"gilbarco\", \"giratorio\", \"gun\", \"hacer\", \"hora\", \"hose\", \"iluminacion\", \"incidencia\", \"inferior\", \"informacion\", \"informar\", \"infrarrojo\", \"instalar\", \"instalar\", \"intercambiar\", \"interior\", \"internet\", \"interno\", \"isla\", \"isla\", \"jefatura\", \"kerosene\", \"kerosene\", \"kerosene\", \"kerosene\", \"kerosenne\", \"lado\", \"lado\", \"lento\", \"levantar\", \"limea\", \"limpiar\", \"limpieza\", \"limpio\", \"linear\", \"linear\", \"litro\", \"litro\", \"litro\", \"llamar\", \"llegar\", \"llegar\", \"llegar\", \"llegar\", \"llenar\", \"lt\", \"lubricacion\", \"mal\", \"malo\", \"malo\", \"manguera\", \"manguera\", \"manometro\", \"mantencion\", \"mantencion\", \"mantencion\", \"mantencion\", \"mantener\", \"mantener\", \"mantenia\", \"mantenimiento\", \"maquinar\", \"maquinar\", \"mas\", \"mascar\", \"masec\", \"master\", \"master\", \"mateeial\", \"mategial\", \"matraz\", \"mda\", \"medidor\", \"medir\", \"menor\", \"momento\", \"mometno\", \"monitorean\", \"mostrar\", \"motor\", \"movilsolicitado\", \"mp\", \"mts\", \"nodo\", \"normal\", \"normal\", \"normal\", \"normalizar\", \"normalmente\", \"nuevo\", \"observacion\", \"observandose\", \"octuple\", \"octuples\", \"ocurrir\", \"ods\", \"ok\", \"operar\", \"operar\", \"operar\", \"operar\", \"operar\", \"operativau\", \"operativo\", \"operativo\", \"operativo\", \"operativo\", \"operativo\", \"operativo\", \"operativo\", \"opw\", \"orden\", \"ortirak\", \"ortr\", \"orueba\", \"ot\", \"palanca\", \"parametros\", \"partir\", \"pegamento\", \"pendiente\", \"pendiente\", \"perdido\", \"perdido\", \"perimetral\", \"permitir\", \"personal\", \"pintar\", \"pintar\", \"pintura\", \"pistola\", \"pistola\", \"pistola\", \"pistola\", \"placa\", \"plca\", \"posible\", \"potenciar\", \"ppu\", \"precio\", \"predeterminador\", \"preisonado\", \"presentar\", \"preset\", \"presion\", \"prevencionista\", \"preventivo\", \"preventivo\", \"preventivo\", \"probar\", \"probar\", \"probar\", \"probar\", \"probar\", \"problema\", \"problema\", \"problema\", \"problsma\", \"proceder\", \"procesar\", \"producto\", \"producto\", \"programacion\", \"protector\", \"protura\", \"proxima\", \"prueba\", \"prueba\", \"quebrar\", \"quedar\", \"quedar\", \"quedar\", \"quedar\", \"quedar\", \"quedar\", \"quedar\", \"quedo\", \"quedo\", \"quedo\", \"quedo\", \"quedo\", \"quedo\", \"quedo\", \"quedo\", \"ralizan\", \"real\", \"realizar\", \"realizar\", \"realizar\", \"realizar\", \"realizar\", \"realizar\", \"realizar\", \"realizar\", \"realizar\", \"realizar\", \"realizar\", \"reapreta\", \"reaprieta\", \"reapriete\", \"rearmar\", \"recibio\", \"recirculacion\", \"recirculan\", \"recirculando\", \"reclamar\", \"reclamo\", \"reco\", \"reconecta\", \"reconectable\", \"reconectado\", \"reconecto\", \"recvap\", \"reemplazar\", \"registrar\", \"regular\", \"regularizacion\", \"reinicia\", \"reinstalacion\", \"reinstalar\", \"reintalan\", \"rellema\", \"remarcar\", \"remoto\", \"remplazar\", \"reparacion\", \"reparacion\", \"reparar\", \"reparar\", \"repasar\", \"reponer\", \"reposar\", \"reprograma\", \"reprogramacion\", \"repuesto\", \"requerimiento\", \"reset\", \"reset\", \"retirar\", \"retirar\", \"retornar\", \"revisar\", \"revisar\", \"revisar\", \"revisar\", \"revision\", \"revision\", \"revision\", \"revison\", \"revoluci\\u00f3n\", \"riesgo\", \"root\", \"rotar\", \"rotar\", \"roturar\", \"rozar\", \"ruido\", \"rv\", \"rv\", \"rvcon\", \"sacar\", \"seco\", \"segmento\", \"seguir\", \"segun\", \"sellar\", \"servicentro\", \"servicio\", \"servicio\", \"sgs\", \"silicita\", \"sistema\", \"slas\", \"sobreconsumo\", \"sol\", \"soldadura\", \"soler\", \"solicitar\", \"solicitar\", \"solicitar\", \"soltar\", \"soltar\", \"solucionar\", \"spill\", \"spill\", \"stock\", \"subsanar\", \"suelto\", \"superior\", \"superior\", \"surt\", \"surtidor\", \"surtidor\", \"surtidor\", \"surtidor\", \"surtidor\", \"surtidor\", \"swivel\", \"swivel\", \"swivels\", \"tablero\", \"tambor\", \"tapar\", \"tapar\", \"tapar\", \"tarjeta\", \"tdf\", \"teapreta\", \"tecnica\", \"tener\", \"terminal\", \"terminar\", \"terminar\", \"tiempo\", \"tirarlo\", \"tomar\", \"totalizador\", \"trabajar\", \"transformador\", \"turbinar\", \"union\", \"uni\\u00f3n\", \"uni\\u00f3n\", \"utilizar\", \"valvula\", \"valvula\", \"valvulas\", \"vaporar\", \"variador\", \"veeder\", \"vender\", \"venta\", \"venta\", \"venta\", \"venta\", \"ver\", \"verificacion\", \"verificacion\", \"verificacion\", \"verificar\", \"visitar\", \"volumen\", \"volumetrica\", \"volumetrica\", \"volumetrica\", \"whipe\", \"wipe\", \"wipehose\", \"wipehose\"]}, \"R\": 30, \"lambda.step\": 0.01, \"plot.opts\": {\"xlab\": \"PC1\", \"ylab\": \"PC2\"}, \"topic.order\": [5, 10, 14, 15, 12, 8, 9, 17, 18, 13, 19, 2, 16, 7, 3, 20, 11, 4, 1, 6]};\n",
       "\n",
       "function LDAvis_load_lib(url, callback){\n",
       "  var s = document.createElement('script');\n",
       "  s.src = url;\n",
       "  s.async = true;\n",
       "  s.onreadystatechange = s.onload = callback;\n",
       "  s.onerror = function(){console.warn(\"failed to load library \" + url);};\n",
       "  document.getElementsByTagName(\"head\")[0].appendChild(s);\n",
       "}\n",
       "\n",
       "if(typeof(LDAvis) !== \"undefined\"){\n",
       "   // already loaded: just create the visualization\n",
       "   !function(LDAvis){\n",
       "       new LDAvis(\"#\" + \"ldavis_el516821973687103442737932017\", ldavis_el516821973687103442737932017_data);\n",
       "   }(LDAvis);\n",
       "}else if(typeof define === \"function\" && define.amd){\n",
       "   // require.js is available: use it to load d3/LDAvis\n",
       "   require.config({paths: {d3: \"https://cdnjs.cloudflare.com/ajax/libs/d3/3.5.5/d3.min\"}});\n",
       "   require([\"d3\"], function(d3){\n",
       "      window.d3 = d3;\n",
       "      LDAvis_load_lib(\"https://cdn.rawgit.com/bmabey/pyLDAvis/files/ldavis.v1.0.0.js\", function(){\n",
       "        new LDAvis(\"#\" + \"ldavis_el516821973687103442737932017\", ldavis_el516821973687103442737932017_data);\n",
       "      });\n",
       "    });\n",
       "}else{\n",
       "    // require.js not available: dynamically load d3 & LDAvis\n",
       "    LDAvis_load_lib(\"https://cdnjs.cloudflare.com/ajax/libs/d3/3.5.5/d3.min.js\", function(){\n",
       "         LDAvis_load_lib(\"https://cdn.rawgit.com/bmabey/pyLDAvis/files/ldavis.v1.0.0.js\", function(){\n",
       "                 new LDAvis(\"#\" + \"ldavis_el516821973687103442737932017\", ldavis_el516821973687103442737932017_data);\n",
       "            })\n",
       "         });\n",
       "}\n",
       "</script>"
      ],
      "text/plain": [
       "PreparedData(topic_coordinates=              x         y  topics  cluster       Freq\n",
       "topic                                                \n",
       "4      0.355255  0.020435       1        1  15.101889\n",
       "9      0.254065 -0.193292       2        1  12.604086\n",
       "13     0.116326  0.241816       3        1  11.250450\n",
       "14     0.274162  0.023643       4        1   8.411559\n",
       "11    -0.077330 -0.002326       5        1   7.135497\n",
       "7      0.162482  0.045251       6        1   7.024024\n",
       "8      0.112467 -0.056060       7        1   5.628772\n",
       "16     0.034749  0.033001       8        1   5.577661\n",
       "17    -0.019091 -0.266155       9        1   5.407862\n",
       "12    -0.028267 -0.077557      10        1   4.145011\n",
       "18    -0.042242  0.169416      11        1   2.932377\n",
       "1     -0.142559 -0.030737      12        1   2.791106\n",
       "15    -0.065446  0.033359      13        1   2.645952\n",
       "6     -0.085950  0.082742      14        1   2.106185\n",
       "2     -0.133990 -0.047956      15        1   2.040213\n",
       "19    -0.159711 -0.074078      16        1   1.658937\n",
       "10    -0.104811  0.147634      17        1   1.287861\n",
       "3     -0.129359 -0.028826      18        1   1.096970\n",
       "0     -0.154736 -0.019888      19        1   1.096207\n",
       "5     -0.166014 -0.000423      20        1   0.057388, topic_info=           Term        Freq       Total Category  logprob  loglift\n",
       "44         disp  256.000000  256.000000  Default  30.0000  30.0000\n",
       "167     equipar  177.000000  177.000000  Default  29.0000  29.0000\n",
       "54      cambiar  298.000000  298.000000  Default  28.0000  28.0000\n",
       "400   remplazar  173.000000  173.000000  Default  27.0000  27.0000\n",
       "64           rv  277.000000  277.000000  Default  26.0000  26.0000\n",
       "..          ...         ...         ...      ...      ...      ...\n",
       "284    subsanar    0.006173    2.764911  Topic20  -6.8002   1.3586\n",
       "283       masec    0.006173    2.764911  Topic20  -6.8002   1.3586\n",
       "282  emergencia    0.006173    2.764911  Topic20  -6.8002   1.3586\n",
       "307   funcional    0.006173   16.859812  Topic20  -6.8002  -0.4494\n",
       "309     regular    0.006173    2.762789  Topic20  -6.8002   1.3593\n",
       "\n",
       "[782 rows x 6 columns], token_table=      Topic      Freq           Term\n",
       "term                                \n",
       "115       3  0.983683      accesorio\n",
       "452       2  0.918575  accionamiento\n",
       "69        5  0.879385        activar\n",
       "131      15  0.758449         activo\n",
       "291      12  0.731046     actualizar\n",
       "...     ...       ...            ...\n",
       "201      14  0.115278    volumetrica\n",
       "290       3  0.921835          whipe\n",
       "319       7  0.955573           wipe\n",
       "176       1  0.531567       wipehose\n",
       "176       3  0.318940       wipehose\n",
       "\n",
       "[594 rows x 3 columns], R=30, lambda_step=0.01, plot_opts={'xlab': 'PC1', 'ylab': 'PC2'}, topic_order=[5, 10, 14, 15, 12, 8, 9, 17, 18, 13, 19, 2, 16, 7, 3, 20, 11, 4, 1, 6])"
      ]
     },
     "execution_count": 19,
     "metadata": {},
     "output_type": "execute_result"
    }
   ],
   "source": [
    "# Visualize the topics\n",
    "pyLDAvis.enable_notebook()\n",
    "vis = pyLDAvis.gensim.prepare(lda_model, corpus, id2word)\n",
    "vis"
   ]
  },
  {
   "cell_type": "markdown",
   "metadata": {},
   "source": [
    "### 11. Building LDA Mallet Model"
   ]
  },
  {
   "cell_type": "code",
   "execution_count": 36,
   "metadata": {},
   "outputs": [],
   "source": [
    "mallet_path = 'C:/Users/alexa/mallet-2.0.8/bin/mallet.bat' # update this path\n",
    "ldamallet = gensim.models.wrappers.LdaMallet(mallet_path, corpus=corpus, num_topics=10, id2word=id2word)"
   ]
  },
  {
   "cell_type": "code",
   "execution_count": 39,
   "metadata": {},
   "outputs": [
    {
     "name": "stdout",
     "output_type": "stream",
     "text": [
      "\n",
      "Perplexity:  nan\n"
     ]
    },
    {
     "name": "stderr",
     "output_type": "stream",
     "text": [
      "C:\\Users\\alexa\\anaconda3\\lib\\site-packages\\gensim\\models\\ldamodel.py:1108: RuntimeWarning: invalid value encountered in multiply\n",
      "  score += np.sum((self.eta - _lambda) * Elogbeta)\n",
      "C:\\Users\\alexa\\anaconda3\\lib\\site-packages\\gensim\\models\\ldamodel.py:1109: RuntimeWarning: invalid value encountered in subtract\n",
      "  score += np.sum(gammaln(_lambda) - gammaln(self.eta))\n"
     ]
    }
   ],
   "source": [
    "LDA_mallet_model = gensim.models.wrappers.ldamallet.malletmodel2ldamodel(ldamallet)\n",
    "print('\\nPerplexity: ', LDA_mallet_model.log_perplexity(corpus))"
   ]
  },
  {
   "cell_type": "code",
   "execution_count": 37,
   "metadata": {
    "scrolled": false
   },
   "outputs": [
    {
     "name": "stdout",
     "output_type": "stream",
     "text": [
      "[(0,\n",
      "  [('operativo', 0.21333333333333335),\n",
      "   ('quedar', 0.18),\n",
      "   ('placa', 0.08),\n",
      "   ('equipo', 0.05333333333333334),\n",
      "   ('revision', 0.03333333333333333),\n",
      "   ('estancar', 0.02666666666666667),\n",
      "   ('quemar', 0.02666666666666667),\n",
      "   ('banco', 0.02),\n",
      "   ('nuevo', 0.02),\n",
      "   ('sellar', 0.02)]),\n",
      " (1,\n",
      "  [('cambiar', 0.24719101123595505),\n",
      "   ('disp', 0.19101123595505617),\n",
      "   ('realizar', 0.16853932584269662),\n",
      "   ('lento', 0.056179775280898875),\n",
      "   ('malo', 0.03932584269662921),\n",
      "   ('filtrar', 0.03932584269662921),\n",
      "   ('graficas', 0.02247191011235955),\n",
      "   ('tomar', 0.02247191011235955),\n",
      "   ('vehicular', 0.02247191011235955),\n",
      "   ('total', 0.016853932584269662)]),\n",
      " (2,\n",
      "  [('pistola', 0.15286624203821655),\n",
      "   ('prueba', 0.15286624203821655),\n",
      "   ('realizar', 0.07643312101910828),\n",
      "   ('tener', 0.07643312101910828),\n",
      "   ('rv', 0.06369426751592357),\n",
      "   ('gatillo', 0.050955414012738856),\n",
      "   ('condicionar', 0.050955414012738856),\n",
      "   ('stock', 0.044585987261146494),\n",
      "   ('tablet', 0.044585987261146494),\n",
      "   ('disipar', 0.03184713375796178)]),\n",
      " (3,\n",
      "  [('venta', 0.16666666666666666),\n",
      "   ('probar', 0.09523809523809523),\n",
      "   ('equipar', 0.08928571428571429),\n",
      "   ('encontrar', 0.05952380952380952),\n",
      "   ('reinicia', 0.047619047619047616),\n",
      "   ('estacion', 0.03571428571428571),\n",
      "   ('predeterminar', 0.03571428571428571),\n",
      "   ('cortar', 0.02976190476190476),\n",
      "   ('tubo', 0.02976190476190476),\n",
      "   ('despachar', 0.02976190476190476)]),\n",
      " (4,\n",
      "  [('lado', 0.18055555555555555),\n",
      "   ('vapor', 0.10416666666666667),\n",
      "   ('quedar', 0.09722222222222222),\n",
      "   ('extraer', 0.09027777777777778),\n",
      "   ('ltrs', 0.05555555555555555),\n",
      "   ('recuperacion', 0.041666666666666664),\n",
      "   ('boca', 0.034722222222222224),\n",
      "   ('operativo', 0.034722222222222224),\n",
      "   ('emergencia', 0.027777777777777776),\n",
      "   ('turnar', 0.027777777777777776)]),\n",
      " (5,\n",
      "  [('diesel', 0.15555555555555556),\n",
      "   ('reglar', 0.08148148148148149),\n",
      "   ('tk', 0.06666666666666667),\n",
      "   ('revisar', 0.05925925925925926),\n",
      "   ('tabla', 0.044444444444444446),\n",
      "   ('calibracion', 0.044444444444444446),\n",
      "   ('dispensador', 0.044444444444444446),\n",
      "   ('mostrar', 0.037037037037037035),\n",
      "   ('breakaway', 0.037037037037037035),\n",
      "   ('recirculacion', 0.02962962962962963)]),\n",
      " (6,\n",
      "  [('isla', 0.1320754716981132),\n",
      "   ('quedo', 0.07547169811320754),\n",
      "   ('reemplazar', 0.06132075471698113),\n",
      "   ('srv', 0.05188679245283019),\n",
      "   ('fallo', 0.04245283018867924),\n",
      "   ('lmin', 0.04245283018867924),\n",
      "   ('verificar', 0.03773584905660377),\n",
      "   ('motor', 0.03773584905660377),\n",
      "   ('habilitar', 0.0330188679245283),\n",
      "   ('manguera', 0.0330188679245283)]),\n",
      " (7,\n",
      "  [('realizar', 0.225),\n",
      "   ('filtro', 0.125),\n",
      "   ('solicitar', 0.1125),\n",
      "   ('encore', 0.075),\n",
      "   ('reponer', 0.05625),\n",
      "   ('producto', 0.0375),\n",
      "   ('cambiar', 0.03125),\n",
      "   ('chocar', 0.025),\n",
      "   ('quebrar', 0.025),\n",
      "   ('petrobras', 0.025)]),\n",
      " (8,\n",
      "  [('tapar', 0.07246376811594203),\n",
      "   ('mantencion', 0.07246376811594203),\n",
      "   ('preventivo', 0.06521739130434782),\n",
      "   ('ot', 0.057971014492753624),\n",
      "   ('incidencia', 0.057971014492753624),\n",
      "   ('retirar', 0.050724637681159424),\n",
      "   ('tambor', 0.043478260869565216),\n",
      "   ('pintar', 0.036231884057971016),\n",
      "   ('instalar', 0.036231884057971016),\n",
      "   ('dentro', 0.036231884057971016)]),\n",
      " (9,\n",
      "  [('root', 0.09230769230769231),\n",
      "   ('alarmar', 0.08717948717948718),\n",
      "   ('sensor', 0.08205128205128205),\n",
      "   ('aguar', 0.08205128205128205),\n",
      "   ('veeder', 0.08205128205128205),\n",
      "   ('sump', 0.06153846153846154),\n",
      "   ('dispenser', 0.041025641025641026),\n",
      "   ('litro', 0.035897435897435895),\n",
      "   ('tank', 0.035897435897435895),\n",
      "   ('sacar', 0.03076923076923077)])]\n",
      "\n",
      "Coherence Score:  0.5581455892837669\n"
     ]
    }
   ],
   "source": [
    "# Show Topics\n",
    "pprint(ldamallet.show_topics(formatted=False))\n",
    "\n",
    "# Compute Coherence Score\n",
    "coherence_model_ldamallet = CoherenceModel(model=ldamallet, texts=texts, dictionary=id2word, coherence='c_v')\n",
    "coherence_ldamallet = coherence_model_ldamallet.get_coherence()\n",
    "print('\\nCoherence Score: ', coherence_ldamallet)\n"
   ]
  },
  {
   "cell_type": "markdown",
   "metadata": {},
   "source": [
    "### 12. Número óptimo de tópicos para LDA?"
   ]
  },
  {
   "cell_type": "code",
   "execution_count": 22,
   "metadata": {},
   "outputs": [],
   "source": [
    "def compute_coherence_values(dictionary, corpus, texts, limit, start=2, step=3):\n",
    "    \"\"\"\n",
    "    Compute c_v coherence for various number of topics\n",
    "\n",
    "    Parameters:\n",
    "    ----------\n",
    "    dictionary : Gensim dictionary\n",
    "    corpus : Gensim corpus\n",
    "    texts : List of input texts\n",
    "    limit : Max num of topics\n",
    "\n",
    "    Returns:\n",
    "    -------\n",
    "    model_list : List of LDA topic models\n",
    "    coherence_values : Coherence values corresponding to the LDA model with respective number of topics\n",
    "    \"\"\"\n",
    "    coherence_values = []\n",
    "    model_list = []\n",
    "    for num_topics in range(start, limit, step):\n",
    "        model = gensim.models.wrappers.LdaMallet(mallet_path, corpus=corpus, num_topics=num_topics, id2word=id2word)\n",
    "        model_list.append(model)\n",
    "        coherencemodel = CoherenceModel(model=model, texts=texts, dictionary=dictionary, coherence='c_v')\n",
    "        coherence_values.append(coherencemodel.get_coherence())\n",
    "\n",
    "    return model_list, coherence_values"
   ]
  },
  {
   "cell_type": "code",
   "execution_count": null,
   "metadata": {},
   "outputs": [],
   "source": [
    "%%time\n",
    "\n",
    "# Can take a long time to run.\n",
    "model_list, coherence_values = compute_coherence_values(dictionary=id2word, corpus=corpus, texts=texts, start=2, limit=30, step=4)"
   ]
  },
  {
   "cell_type": "code",
   "execution_count": 63,
   "metadata": {},
   "outputs": [
    {
     "data": {
      "image/png": "[encoded data removed]",
      "text/plain": [
       "<Figure size 432x288 with 1 Axes>"
      ]
     },
     "metadata": {
      "needs_background": "light"
     },
     "output_type": "display_data"
    }
   ],
   "source": [
    "# Show graph\n",
    "limit=30; start=2; step=4;\n",
    "x = range(start, limit, step)\n",
    "plt.plot(x, coherence_values)\n",
    "plt.xlabel(\"Num Topics\")\n",
    "plt.ylabel(\"Coherence score\")\n",
    "plt.legend((\"coherence_values\"), loc='best')\n",
    "plt.show()"
   ]
  },
  {
   "cell_type": "code",
   "execution_count": 64,
   "metadata": {},
   "outputs": [
    {
     "name": "stdout",
     "output_type": "stream",
     "text": [
      "Num Topics = 2  has Coherence Value of 0.3067\n",
      "Num Topics = 6  has Coherence Value of 0.4438\n",
      "Num Topics = 10  has Coherence Value of 0.444\n",
      "Num Topics = 14  has Coherence Value of 0.4724\n",
      "Num Topics = 18  has Coherence Value of 0.4761\n",
      "Num Topics = 22  has Coherence Value of 0.5139\n",
      "Num Topics = 26  has Coherence Value of 0.5221\n"
     ]
    }
   ],
   "source": [
    "for m, cv in zip(x, coherence_values):\n",
    "    print(\"Num Topics =\", m, \" has Coherence Value of\", round(cv, 4))"
   ]
  },
  {
   "cell_type": "code",
   "execution_count": 65,
   "metadata": {},
   "outputs": [
    {
     "name": "stdout",
     "output_type": "stream",
     "text": [
      "[(0,\n",
      "  '0.131*\"operativo\" + 0.115*\"quedar\" + 0.080*\"dispensador\" + 0.056*\"venta\" + '\n",
      "  '0.049*\"prueba\" + 0.042*\"producto\" + 0.042*\"surtidor\" + 0.038*\"detectar\" + '\n",
      "  '0.023*\"reponer\" + 0.017*\"bodega\"'),\n",
      " (1,\n",
      "  '0.139*\"cambiar\" + 0.076*\"quedo\" + 0.041*\"realizar\" + 0.039*\"tapar\" + '\n",
      "  '0.026*\"valvula\" + 0.024*\"encore\" + 0.023*\"atender\" + 0.022*\"ot\" + '\n",
      "  '0.022*\"diesel\" + 0.020*\"rotar\"'),\n",
      " (2,\n",
      "  '0.141*\"realizar\" + 0.088*\"equipar\" + 0.064*\"operativo\" + 0.060*\"funcionar\" '\n",
      "  '+ 0.049*\"fugar\" + 0.042*\"detector\" + 0.040*\"gas\" + 0.032*\"psi\" + '\n",
      "  '0.027*\"cliente\" + 0.024*\"cambiar\"'),\n",
      " (3,\n",
      "  '0.136*\"disp\" + 0.128*\"realizar\" + 0.111*\"rv\" + 0.096*\"remplazar\" + '\n",
      "  '0.079*\"pistola\" + 0.040*\"manguera\" + 0.038*\"opw\" + 0.021*\"breckawey\" + '\n",
      "  '0.016*\"hose\" + 0.015*\"conv\"'),\n",
      " (4,\n",
      "  '0.095*\"fallo\" + 0.063*\"chequea\" + 0.050*\"detectar\" + 0.034*\"gas\" + '\n",
      "  '0.027*\"problema\" + 0.025*\"normal\" + 0.024*\"operar\" + 0.023*\"despachar\" + '\n",
      "  '0.022*\"dispensador\" + 0.018*\"probar\"'),\n",
      " (5,\n",
      "  '0.089*\"revisar\" + 0.055*\"boca\" + 0.052*\"lado\" + 0.041*\"realizar\" + '\n",
      "  '0.039*\"mantencion\" + 0.038*\"preventivo\" + 0.038*\"litro\" + 0.032*\"quedar\" + '\n",
      "  '0.032*\"equipo\" + 0.031*\"probar\"')]\n"
     ]
    }
   ],
   "source": [
    "# Select the model and print the topics\n",
    "optimal_model = model_list[1]\n",
    "model_topics = optimal_model.show_topics(formatted=False)\n",
    "pprint(optimal_model.print_topics(num_words=10))"
   ]
  },
  {
   "cell_type": "code",
   "execution_count": 66,
   "metadata": {},
   "outputs": [],
   "source": [
    "# Lda Mallet a PyLDAvis\n",
    "ldamallet = gensim.models.wrappers.LdaMallet(mallet_path, corpus=corpus, num_topics=6, id2word=id2word)\n",
    "LDA_mallet_model = gensim.models.wrappers.ldamallet.malletmodel2ldamodel(ldamallet)"
   ]
  },
  {
   "cell_type": "code",
   "execution_count": 67,
   "metadata": {},
   "outputs": [
    {
     "name": "stderr",
     "output_type": "stream",
     "text": [
      "C:\\Users\\alexa\\anaconda3\\lib\\site-packages\\pyLDAvis\\_prepare.py:223: RuntimeWarning: divide by zero encountered in log\n",
      "  kernel = (topic_given_term * np.log((topic_given_term.T / topic_proportion).T))\n",
      "C:\\Users\\alexa\\anaconda3\\lib\\site-packages\\pyLDAvis\\_prepare.py:240: RuntimeWarning: divide by zero encountered in log\n",
      "  log_lift = np.log(topic_term_dists / term_proportion)\n",
      "C:\\Users\\alexa\\anaconda3\\lib\\site-packages\\pyLDAvis\\_prepare.py:241: RuntimeWarning: divide by zero encountered in log\n",
      "  log_ttd = np.log(topic_term_dists)\n"
     ]
    },
    {
     "data": {
      "text/html": [
       "\n",
       "<link rel=\"stylesheet\" type=\"text/css\" href=\"https://cdn.rawgit.com/bmabey/pyLDAvis/files/ldavis.v1.0.0.css\">\n",
       "\n",
       "\n",
       "<div id=\"ldavis_el60801814884156232436784487\"></div>\n",
       "<script type=\"text/javascript\">\n",
       "\n",
       "var ldavis_el60801814884156232436784487_data = {\"mdsDat\": {\"x\": [-0.10283037213710687, -0.417488165520981, 0.10949581274999788, 0.08824303151244256, 0.17715758114631106, 0.14542211224933627], \"y\": [0.14555098662916413, -0.04814936633730623, 0.31239349820386547, -0.33250494471279646, 0.03908674420996706, -0.11637691799289392], \"topics\": [1, 2, 3, 4, 5, 6], \"cluster\": [1, 1, 1, 1, 1, 1], \"Freq\": [18.442534659833026, 16.89187075587571, 16.88729239671659, 16.543517968456747, 16.513544763591426, 14.721239455526511]}, \"tinfo\": {\"Term\": [\"disp\", \"operativo\", \"rv\", \"quedar\", \"fallo\", \"remplazar\", \"dispensador\", \"realizar\", \"cambiar\", \"equipar\", \"pistola\", \"quedo\", \"detectar\", \"gas\", \"revisar\", \"chequea\", \"boca\", \"lado\", \"manguera\", \"surtidor\", \"fugar\", \"prueba\", \"detector\", \"opw\", \"mantencion\", \"preventivo\", \"litro\", \"producto\", \"funcionar\", \"tapar\", \"estancar\", \"boca\", \"revoluci\\u00f3n\", \"equipo\", \"revision\", \"durar\", \"camaras\", \"maquinar\", \"cebar\", \"concurrio\", \"isla\", \"efecto\", \"vertical\", \"dar\", \"hara\", \"lt\", \"confinar\", \"prheba\", \"contar\", \"contaminar\", \"derramar\", \"solisita\", \"espaciar\", \"internet\", \"prevencionista\", \"riesgo\", \"slas\", \"dentro\", \"efectua\", \"estanque\", \"lado\", \"mantencion\", \"preventivo\", \"litro\", \"tapar\", \"spill\", \"accesorio\", \"descargar\", \"calibrar\", \"interior\", \"matraz\", \"limpiar\", \"verificacion\", \"verificar\", \"calibracion\", \"pintar\", \"filtraci\\u00f3n\", \"coneccion\", \"limpieza\", \"mp\", \"camara\", \"tambor\", \"revisar\", \"volumetrica\", \"probar\", \"realizar\", \"quedar\", \"diesel\", \"normalmente\", \"elementar\", \"electrico\", \"sistema\", \"observacion\", \"presion\", \"partir\", \"instalar\", \"hacer\", \"turbinar\", \"lento\", \"nuevo\", \"ajustar\", \"firmar\", \"fallo\", \"normal\", \"ocurrir\", \"flexible\", \"tenia\", \"fijo\", \"rwcirculando\", \"avezar\", \"medir\", \"reposar\", \"interno\", \"funcional\", \"comportamiento\", \"bombo\", \"regular\", \"vender\", \"chequea\", \"problema\", \"operar\", \"solicitar\", \"eds\", \"describir\", \"llegar\", \"cortar\", \"recirculando\", \"octuple\", \"breakway\", \"monitorean\", \"flujo\", \"reapriete\", \"alimentacion\", \"detectar\", \"momento\", \"probar\", \"estacion\", \"despachar\", \"encontrar\", \"dejar\", \"acopiar\", \"servicentro\", \"remplazar\", \"giratorio\", \"perdido\", \"calzar\", \"displey\", \"opw\", \"protector\", \"reintalan\", \"surt\", \"reconectado\", \"sr\", \"cap\\u00edtulo\", \"reclamar\", \"desbloquear\", \"breakawat\", \"mostrar\", \"plca\", \"autoopw\", \"piastola\", \"conv\", \"hp\", \"requerir\", \"reco\", \"breckawey\", \"trifasico\", \"doblar\", \"manguera\", \"pistola\", \"disp\", \"rv\", \"hose\", \"swivel\", \"rvopw\", \"visitar\", \"coordinar\", \"wipe\", \"motor\", \"proxima\", \"repuesto\", \"fundir\", \"whipe\", \"reinstalacion\", \"activacion\", \"atencion\", \"bco\", \"boto\", \"presentar\", \"palanca\", \"realizar\", \"portar\", \"programar\", \"mts\", \"operativau\", \"tarjeta\", \"rearmar\", \"uni\\u00f3n\", \"advantage\", \"colocar\", \"mometno\", \"cammbio\", \"remarcar\", \"filtrar\", \"alto\", \"mateeial\", \"capacidad\", \"roturar\", \"gilbarco\", \"reintala\", \"resorte\", \"ag\", \"anterior\", \"avanzar\", \"controlador\", \"electronicos\", \"logica\", \"na\", \"bien\", \"reconecta\", \"pendiente\", \"dispensador\", \"prueba\", \"reponer\", \"encore\", \"rotar\", \"preset\", \"filtracion\", \"medidor\", \"filtro\", \"utilizar\", \"reset\", \"breakaways\", \"malo\", \"sellar\", \"master\", \"wipehose\", \"union\", \"breakaway\", \"kit\", \"portapistola\", \"reprogramacion\", \"gatillo\", \"reprograma\", \"ver\", \"wayne\", \"reconecto\", \"producto\", \"bodega\", \"quedar\", \"operativo\", \"cambiar\", \"proporcional\", \"venta\", \"valvula\", \"detectar\", \"reemplazar\", \"reconectable\", \"brevedad\", \"cano\", \"operacion\", \"quebrar\", \"deber\", \"reinicio\", \"fondo\", \"quedo\", \"observandose\", \"descebar\", \"hora\", \"presentandose\", \"alarmar\", \"bocaestanque\", \"canerias\", \"reprograman\", \"check\", \"jacket\", \"mananas\", \"movimiento\", \"valvulas\", \"red\", \"manguers\", \"barrer\", \"arrojar\", \"aproximar\", \"bloqueadose\", \"mantenimiento\", \"gas\", \"fugar\", \"detector\", \"psi\", \"atender\", \"ot\", \"aguar\", \"incidencia\", \"linear\", \"tk\", \"mantener\", \"detencion\", \"cerrar\", \"normalizacion\", \"mal\", \"recirculan\", \"oring\", \"instalacion\", \"ods\", \"fepetro\", \"servicio\", \"llamar\", \"enex\", \"posible\", \"lluvia\", \"diesel\", \"danado\", \"stpmldg\", \"funcionar\", \"cambiar\", \"valvula\", \"realizar\", \"rele\", \"soltar\", \"placa\", \"infrarrojo\", \"display\", \"codigo\", \"actualizar\", \"descartar\", \"sacar\", \"emitir\", \"perimetral\", \"converso\", \"ortr\", \"silicita\", \"trabajar\", \"esporadicamente\", \"equipar\", \"comentar\", \"predeterminador\", \"nodo\", \"ppu\", \"precio\", \"segmento\", \"seguir\", \"matcelo\", \"rejistro\", \"personal\", \"encontrandose\", \"totalizador\", \"tls\", \"surtidor\", \"cliente\", \"segun\", \"revison\", \"encargar\", \"kerosene\", \"breackaway\", \"aparentar\", \"reparacion\", \"informar\", \"terminal\", \"informacion\", \"kerosenne\", \"lts\", \"tablero\", \"acudir\", \"encontro\", \"suelto\", \"recirculaci\\u00f3n\", \"volumen\", \"colgante\", \"proceder\", \"operativo\", \"venta\", \"funcionar\", \"despachar\", \"realizar\"], \"Freq\": [228.0, 294.0, 185.0, 228.0, 165.0, 159.0, 156.0, 554.0, 240.0, 128.0, 134.0, 123.0, 149.0, 122.0, 147.0, 109.0, 91.0, 86.0, 81.0, 75.0, 74.0, 73.0, 64.0, 63.0, 65.0, 64.0, 63.0, 63.0, 88.0, 57.0, 22.929839679472334, 91.71935871788934, 24.923738782035144, 53.83527576919591, 24.923738782035144, 1.9938991025628119, 5.981697307688435, 7.9755964102512475, 2.9908486538442176, 1.9938991025628119, 15.951192820502495, 5.981697307688435, 1.9938991025628119, 2.9908486538442176, 1.9938991025628119, 5.981697307688435, 3.9877982051256238, 3.9877982051256238, 10.966445064095465, 8.972545961532653, 3.9877982051256238, 1.9938991025628119, 3.9877982051256238, 3.9877982051256238, 3.9877982051256238, 3.9877982051256238, 3.9877982051256238, 2.9908486538442176, 6.9786468589698405, 14.954243269221086, 86.7346109614823, 65.79867038457279, 64.80172083329138, 63.80477128200998, 57.82307397432154, 50.8444271153517, 48.850528012788885, 47.85357846150748, 42.86883070510045, 31.90238564100499, 29.908486538442173, 25.92068833331655, 25.92068833331655, 23.92678923075374, 19.938991025628116, 19.938991025628116, 15.951192820502495, 13.957293717939681, 12.960344166658276, 12.960344166658276, 11.96339461537687, 9.969495512814058, 140.56988673067823, 26.917637884597955, 34.89323429484921, 81.74986320507527, 41.87188115381905, 17.945091923065306, 23.25039101709009, 21.136719106445536, 14.795703374511875, 22.193555061767814, 7.397851687255938, 23.25039101709009, 10.568359553222768, 17.966211240478707, 11.625195508545046, 5.284179776611384, 10.568359553222768, 5.284179776611384, 10.568359553222768, 10.568359553222768, 165.92324498559748, 44.38711012353563, 4.227343821289108, 2.113671910644554, 2.113671910644554, 4.227343821289108, 4.227343821289108, 2.113671910644554, 8.454687642578216, 6.341015731933662, 2.113671910644554, 19.023047195800984, 6.341015731933662, 16.909375285156433, 2.113671910644554, 2.113671910644554, 109.91093935351681, 47.55761798950246, 41.2166022575688, 38.04609439160197, 28.534570793701477, 27.477734838379202, 25.364062927734647, 25.364062927734647, 19.023047195800984, 16.909375285156433, 16.909375285156433, 16.909375285156433, 13.738867419189601, 9.511523597900492, 9.511523597900492, 136.33183823657373, 20.079883151123262, 48.61445394482474, 17.966211240478707, 30.648242704346032, 19.023047195800984, 14.795703374511875, 0.9300527055432293, 13.95079058314844, 159.0390126478922, 1.8601054110864585, 2.790158116629688, 3.720210822172917, 14.880843288691668, 63.2435839769396, 1.8601054110864585, 1.8601054110864585, 24.181370344123962, 1.8601054110864585, 0.9300527055432293, 5.580316233259376, 3.720210822172917, 0.9300527055432293, 2.790158116629688, 1.8601054110864585, 1.8601054110864585, 1.8601054110864585, 1.8601054110864585, 24.181370344123962, 6.510368938802605, 1.8601054110864585, 14.880843288691668, 35.34200281064271, 5.580316233259376, 3.720210822172917, 81.84463808780419, 134.85764230376824, 228.79296556363443, 185.08048840310263, 26.04147575521042, 21.391212227494275, 20.461159521951046, 16.740948699778126, 16.740948699778126, 16.740948699778126, 15.8108959942349, 13.02073787760521, 11.160632466518752, 11.160632466518752, 9.300527055432294, 9.300527055432294, 6.510368938802605, 5.580316233259376, 5.580316233259376, 5.580316233259376, 18.601054110864588, 9.300527055432294, 229.72301826917766, 0.9473051782767773, 3.789220713107109, 3.789220713107109, 1.8946103565535546, 5.683831069660664, 3.789220713107109, 5.683831069660664, 1.8946103565535546, 1.8946103565535546, 1.8946103565535546, 1.8946103565535546, 1.8946103565535546, 21.78801910036588, 15.156882852428437, 1.8946103565535546, 2.841915534830332, 1.8946103565535546, 3.789220713107109, 3.789220713107109, 1.8946103565535546, 1.8946103565535546, 1.8946103565535546, 1.8946103565535546, 3.789220713107109, 1.8946103565535546, 1.8946103565535546, 2.841915534830332, 1.8946103565535546, 11.367662139321329, 14.20957767415166, 156.30535441566826, 73.88980390558864, 35.05029159624076, 33.155681239687205, 28.41915534830332, 24.629934635196214, 22.735324278642658, 20.840713922089105, 18.946103565535548, 17.051493208981995, 16.104188030705217, 15.156882852428437, 15.156882852428437, 13.262272495874884, 13.262272495874884, 11.367662139321329, 10.420356961044552, 10.420356961044552, 10.420356961044552, 10.420356961044552, 9.473051782767774, 9.473051782767774, 8.525746604490998, 7.578441426214218, 7.578441426214218, 7.578441426214218, 61.57483658799053, 25.57723981347299, 186.61912012052514, 177.14606833775736, 139.25386120668628, 12.314967317598107, 42.62873302245498, 20.840713922089105, 13.262272495874884, 5.4667869231080655, 5.4667869231080655, 10.933573846216131, 10.933573846216131, 21.867147692432262, 21.867147692432262, 5.4667869231080655, 5.4667869231080655, 5.4667869231080655, 123.54938446224227, 1.0933573846216134, 2.1867147692432267, 6.560144307729678, 2.1867147692432267, 1.0933573846216134, 2.1867147692432267, 2.1867147692432267, 2.1867147692432267, 19.680432923189038, 4.373429538486453, 2.1867147692432267, 2.1867147692432267, 4.373429538486453, 4.373429538486453, 1.0933573846216134, 4.373429538486453, 4.373429538486453, 4.373429538486453, 2.1867147692432267, 3.280072153864839, 122.45602707762067, 74.3483021542697, 64.50808569267518, 48.10772492335098, 37.17415107713485, 36.08079369251324, 30.61400676940517, 29.520649384783557, 22.960505077053877, 20.77379030781065, 18.587075538567426, 17.493718153945814, 15.307003384702584, 13.120288615459357, 13.120288615459357, 13.120288615459357, 12.026931230837745, 12.026931230837745, 9.840216461594519, 8.746859076972907, 8.746859076972907, 8.746859076972907, 6.560144307729678, 6.560144307729678, 6.560144307729678, 49.20108230797259, 6.560144307729678, 6.560144307729678, 50.2944396925942, 101.68223676981003, 31.70736415402678, 155.25674861626908, 1.0456409789734282, 8.365127831787426, 19.867178600495137, 4.182563915893713, 17.775896642548283, 3.1369229369202847, 4.182563915893713, 2.0912819579468565, 12.547691747681139, 8.365127831787426, 1.0456409789734282, 2.0912819579468565, 1.0456409789734282, 2.0912819579468565, 6.273845873840569, 2.0912819579468565, 128.61384041373168, 4.182563915893713, 2.0912819579468565, 5.228204894867141, 8.365127831787426, 14.638973705627995, 4.182563915893713, 6.273845873840569, 1.0456409789734282, 1.0456409789734282, 7.319486852813998, 24.04974251638885, 8.365127831787426, 1.0456409789734282, 75.28615048608684, 39.734357200990274, 25.095383495362277, 24.04974251638885, 23.004101537415426, 23.004101537415426, 21.958460558441995, 20.912819579468565, 20.912819579468565, 17.775896642548283, 17.775896642548283, 17.775896642548283, 16.73025566357485, 14.638973705627995, 13.59333272665457, 12.547691747681139, 12.547691747681139, 10.456409789734282, 10.456409789734282, 10.456409789734282, 9.410768810760855, 8.365127831787426, 117.11178964502396, 43.91692111688399, 38.68871622201685, 26.14102447433571, 87.83384223376798], \"Total\": [228.0, 294.0, 185.0, 228.0, 165.0, 159.0, 156.0, 554.0, 240.0, 128.0, 134.0, 123.0, 149.0, 122.0, 147.0, 109.0, 91.0, 86.0, 81.0, 75.0, 74.0, 73.0, 64.0, 63.0, 65.0, 64.0, 63.0, 63.0, 88.0, 57.0, 22.929839679472334, 91.71935871788934, 24.923738782035144, 53.83527576919591, 24.923738782035144, 1.9938991025628119, 5.981697307688435, 7.9755964102512475, 2.9908486538442176, 1.9938991025628119, 15.951192820502495, 5.981697307688435, 1.9938991025628119, 2.9908486538442176, 1.9938991025628119, 5.981697307688435, 3.9877982051256238, 3.9877982051256238, 10.966445064095465, 8.972545961532653, 3.9877982051256238, 1.9938991025628119, 3.9877982051256238, 3.9877982051256238, 3.9877982051256238, 3.9877982051256238, 3.9877982051256238, 2.9908486538442176, 6.9786468589698405, 14.954243269221086, 86.7346109614823, 65.79867038457279, 64.80172083329138, 63.80477128200998, 57.82307397432154, 50.8444271153517, 48.850528012788885, 47.85357846150748, 42.86883070510045, 31.90238564100499, 29.908486538442173, 25.92068833331655, 25.92068833331655, 23.92678923075374, 19.938991025628116, 19.938991025628116, 15.951192820502495, 13.957293717939681, 12.960344166658276, 12.960344166658276, 11.96339461537687, 9.969495512814058, 147.96773841793419, 27.864943062874733, 83.50768823967394, 554.5634723242899, 228.49100127434417, 67.14617423103789, 23.25039101709009, 21.136719106445536, 14.795703374511875, 22.193555061767814, 7.397851687255938, 23.25039101709009, 10.568359553222768, 17.966211240478707, 11.625195508545046, 5.284179776611384, 10.568359553222768, 5.284179776611384, 10.568359553222768, 10.568359553222768, 165.92324498559748, 44.38711012353563, 4.227343821289108, 2.113671910644554, 2.113671910644554, 4.227343821289108, 4.227343821289108, 2.113671910644554, 8.454687642578216, 6.341015731933662, 2.113671910644554, 19.023047195800984, 6.341015731933662, 16.909375285156433, 2.113671910644554, 2.113671910644554, 109.91093935351681, 47.55761798950246, 41.2166022575688, 38.04609439160197, 28.534570793701477, 27.477734838379202, 25.364062927734647, 25.364062927734647, 19.023047195800984, 16.909375285156433, 16.909375285156433, 16.909375285156433, 13.738867419189601, 9.511523597900492, 9.511523597900492, 149.59411073244863, 21.173240535744874, 83.50768823967394, 23.947908548167142, 56.78926717868174, 26.676548888152276, 19.780451130918905, 0.9300527055432293, 13.95079058314844, 159.0390126478922, 1.8601054110864585, 2.790158116629688, 3.720210822172917, 14.880843288691668, 63.2435839769396, 1.8601054110864585, 1.8601054110864585, 24.181370344123962, 1.8601054110864585, 0.9300527055432293, 5.580316233259376, 3.720210822172917, 0.9300527055432293, 2.790158116629688, 1.8601054110864585, 1.8601054110864585, 1.8601054110864585, 1.8601054110864585, 24.181370344123962, 6.510368938802605, 1.8601054110864585, 14.880843288691668, 35.34200281064271, 5.580316233259376, 3.720210822172917, 81.84463808780419, 134.85764230376824, 228.79296556363443, 185.08048840310263, 26.04147575521042, 21.391212227494275, 20.461159521951046, 16.740948699778126, 16.740948699778126, 16.740948699778126, 15.8108959942349, 13.02073787760521, 11.160632466518752, 11.160632466518752, 9.300527055432294, 9.300527055432294, 6.510368938802605, 5.580316233259376, 5.580316233259376, 5.580316233259376, 21.771561976831418, 10.2974766067137, 554.5634723242899, 0.9473051782767773, 3.789220713107109, 3.789220713107109, 1.8946103565535546, 5.683831069660664, 3.789220713107109, 5.683831069660664, 1.8946103565535546, 1.8946103565535546, 1.8946103565535546, 1.8946103565535546, 1.8946103565535546, 21.78801910036588, 15.156882852428437, 1.8946103565535546, 2.841915534830332, 1.8946103565535546, 3.789220713107109, 3.789220713107109, 1.8946103565535546, 1.8946103565535546, 1.8946103565535546, 1.8946103565535546, 3.789220713107109, 1.8946103565535546, 1.8946103565535546, 2.841915534830332, 1.8946103565535546, 11.367662139321329, 14.20957767415166, 156.30535441566826, 73.88980390558864, 35.05029159624076, 33.155681239687205, 28.41915534830332, 24.629934635196214, 22.735324278642658, 20.840713922089105, 18.946103565535548, 17.051493208981995, 16.104188030705217, 15.156882852428437, 15.156882852428437, 13.262272495874884, 13.262272495874884, 11.367662139321329, 10.420356961044552, 10.420356961044552, 10.420356961044552, 10.420356961044552, 9.473051782767774, 9.473051782767774, 8.525746604490998, 7.578441426214218, 7.578441426214218, 7.578441426214218, 63.761551357233756, 26.6705971980946, 228.49100127434417, 294.25785798278133, 240.9360979764963, 13.360608296571534, 89.82572629320381, 52.548078076115885, 149.59411073244863, 5.4667869231080655, 5.4667869231080655, 10.933573846216131, 10.933573846216131, 21.867147692432262, 21.867147692432262, 5.4667869231080655, 5.4667869231080655, 5.4667869231080655, 123.54938446224227, 1.0933573846216134, 2.1867147692432267, 6.560144307729678, 2.1867147692432267, 1.0933573846216134, 2.1867147692432267, 2.1867147692432267, 2.1867147692432267, 19.680432923189038, 4.373429538486453, 2.1867147692432267, 2.1867147692432267, 4.373429538486453, 4.373429538486453, 1.0933573846216134, 4.373429538486453, 4.373429538486453, 4.373429538486453, 2.1867147692432267, 3.280072153864839, 122.45602707762067, 74.3483021542697, 64.50808569267518, 48.10772492335098, 37.17415107713485, 36.08079369251324, 30.61400676940517, 29.520649384783557, 22.960505077053877, 20.77379030781065, 18.587075538567426, 17.493718153945814, 15.307003384702584, 13.120288615459357, 13.120288615459357, 13.120288615459357, 12.026931230837745, 12.026931230837745, 9.840216461594519, 8.746859076972907, 8.746859076972907, 8.746859076972907, 6.560144307729678, 6.560144307729678, 6.560144307729678, 67.14617423103789, 6.560144307729678, 6.560144307729678, 88.98315591461105, 240.9360979764963, 52.548078076115885, 554.5634723242899, 1.0456409789734282, 8.365127831787426, 19.867178600495137, 4.182563915893713, 17.775896642548283, 3.1369229369202847, 4.182563915893713, 2.0912819579468565, 12.547691747681139, 8.365127831787426, 1.0456409789734282, 2.0912819579468565, 1.0456409789734282, 2.0912819579468565, 6.273845873840569, 2.0912819579468565, 128.61384041373168, 4.182563915893713, 2.0912819579468565, 5.228204894867141, 8.365127831787426, 14.638973705627995, 4.182563915893713, 6.273845873840569, 1.0456409789734282, 1.0456409789734282, 7.319486852813998, 24.04974251638885, 8.365127831787426, 1.0456409789734282, 75.28615048608684, 39.734357200990274, 25.095383495362277, 24.04974251638885, 23.004101537415426, 23.004101537415426, 21.958460558441995, 20.912819579468565, 20.912819579468565, 17.775896642548283, 17.775896642548283, 17.775896642548283, 16.73025566357485, 14.638973705627995, 13.59333272665457, 12.547691747681139, 12.547691747681139, 10.456409789734282, 10.456409789734282, 10.456409789734282, 9.410768810760855, 8.365127831787426, 294.25785798278133, 89.82572629320381, 88.98315591461105, 56.78926717868174, 554.5634723242899], \"Category\": [\"Default\", \"Default\", \"Default\", \"Default\", \"Default\", \"Default\", \"Default\", \"Default\", \"Default\", \"Default\", \"Default\", \"Default\", \"Default\", \"Default\", \"Default\", \"Default\", \"Default\", \"Default\", \"Default\", \"Default\", \"Default\", \"Default\", \"Default\", \"Default\", \"Default\", \"Default\", \"Default\", \"Default\", \"Default\", \"Default\", \"Topic1\", \"Topic1\", \"Topic1\", \"Topic1\", \"Topic1\", \"Topic1\", \"Topic1\", \"Topic1\", \"Topic1\", \"Topic1\", \"Topic1\", \"Topic1\", \"Topic1\", \"Topic1\", \"Topic1\", \"Topic1\", \"Topic1\", \"Topic1\", \"Topic1\", \"Topic1\", \"Topic1\", \"Topic1\", \"Topic1\", \"Topic1\", \"Topic1\", \"Topic1\", \"Topic1\", \"Topic1\", \"Topic1\", \"Topic1\", \"Topic1\", \"Topic1\", \"Topic1\", \"Topic1\", \"Topic1\", \"Topic1\", \"Topic1\", \"Topic1\", \"Topic1\", \"Topic1\", \"Topic1\", \"Topic1\", \"Topic1\", \"Topic1\", \"Topic1\", \"Topic1\", \"Topic1\", \"Topic1\", \"Topic1\", \"Topic1\", \"Topic1\", \"Topic1\", \"Topic1\", \"Topic1\", \"Topic1\", \"Topic1\", \"Topic1\", \"Topic1\", \"Topic2\", \"Topic2\", \"Topic2\", \"Topic2\", \"Topic2\", \"Topic2\", \"Topic2\", \"Topic2\", \"Topic2\", \"Topic2\", \"Topic2\", \"Topic2\", \"Topic2\", \"Topic2\", \"Topic2\", \"Topic2\", \"Topic2\", \"Topic2\", \"Topic2\", \"Topic2\", \"Topic2\", \"Topic2\", \"Topic2\", \"Topic2\", \"Topic2\", \"Topic2\", \"Topic2\", \"Topic2\", \"Topic2\", \"Topic2\", \"Topic2\", \"Topic2\", \"Topic2\", \"Topic2\", \"Topic2\", \"Topic2\", \"Topic2\", \"Topic2\", \"Topic2\", \"Topic2\", \"Topic2\", \"Topic2\", \"Topic2\", \"Topic2\", \"Topic2\", \"Topic2\", \"Topic2\", \"Topic2\", \"Topic2\", \"Topic2\", \"Topic2\", \"Topic2\", \"Topic3\", \"Topic3\", \"Topic3\", \"Topic3\", \"Topic3\", \"Topic3\", \"Topic3\", \"Topic3\", \"Topic3\", \"Topic3\", \"Topic3\", \"Topic3\", \"Topic3\", \"Topic3\", \"Topic3\", \"Topic3\", \"Topic3\", \"Topic3\", \"Topic3\", \"Topic3\", \"Topic3\", \"Topic3\", \"Topic3\", \"Topic3\", \"Topic3\", \"Topic3\", \"Topic3\", \"Topic3\", \"Topic3\", \"Topic3\", \"Topic3\", \"Topic3\", \"Topic3\", \"Topic3\", \"Topic3\", \"Topic3\", \"Topic3\", \"Topic3\", \"Topic3\", \"Topic3\", \"Topic3\", \"Topic3\", \"Topic3\", \"Topic3\", \"Topic3\", \"Topic3\", \"Topic3\", \"Topic3\", \"Topic3\", \"Topic3\", \"Topic3\", \"Topic4\", \"Topic4\", \"Topic4\", \"Topic4\", \"Topic4\", \"Topic4\", \"Topic4\", \"Topic4\", \"Topic4\", \"Topic4\", \"Topic4\", \"Topic4\", \"Topic4\", \"Topic4\", \"Topic4\", \"Topic4\", \"Topic4\", \"Topic4\", \"Topic4\", \"Topic4\", \"Topic4\", \"Topic4\", \"Topic4\", \"Topic4\", \"Topic4\", \"Topic4\", \"Topic4\", \"Topic4\", \"Topic4\", \"Topic4\", \"Topic4\", \"Topic4\", \"Topic4\", \"Topic4\", \"Topic4\", \"Topic4\", \"Topic4\", \"Topic4\", \"Topic4\", \"Topic4\", \"Topic4\", \"Topic4\", \"Topic4\", \"Topic4\", \"Topic4\", \"Topic4\", \"Topic4\", \"Topic4\", \"Topic4\", \"Topic4\", \"Topic4\", \"Topic4\", \"Topic4\", \"Topic4\", \"Topic4\", \"Topic4\", \"Topic4\", \"Topic4\", \"Topic4\", \"Topic4\", \"Topic4\", \"Topic4\", \"Topic4\", \"Topic4\", \"Topic4\", \"Topic5\", \"Topic5\", \"Topic5\", \"Topic5\", \"Topic5\", \"Topic5\", \"Topic5\", \"Topic5\", \"Topic5\", \"Topic5\", \"Topic5\", \"Topic5\", \"Topic5\", \"Topic5\", \"Topic5\", \"Topic5\", \"Topic5\", \"Topic5\", \"Topic5\", \"Topic5\", \"Topic5\", \"Topic5\", \"Topic5\", \"Topic5\", \"Topic5\", \"Topic5\", \"Topic5\", \"Topic5\", \"Topic5\", \"Topic5\", \"Topic5\", \"Topic5\", \"Topic5\", \"Topic5\", \"Topic5\", \"Topic5\", \"Topic5\", \"Topic5\", \"Topic5\", \"Topic5\", \"Topic5\", \"Topic5\", \"Topic5\", \"Topic5\", \"Topic5\", \"Topic5\", \"Topic5\", \"Topic5\", \"Topic5\", \"Topic5\", \"Topic5\", \"Topic5\", \"Topic5\", \"Topic5\", \"Topic5\", \"Topic5\", \"Topic5\", \"Topic5\", \"Topic5\", \"Topic5\", \"Topic5\", \"Topic5\", \"Topic6\", \"Topic6\", \"Topic6\", \"Topic6\", \"Topic6\", \"Topic6\", \"Topic6\", \"Topic6\", \"Topic6\", \"Topic6\", \"Topic6\", \"Topic6\", \"Topic6\", \"Topic6\", \"Topic6\", \"Topic6\", \"Topic6\", \"Topic6\", \"Topic6\", \"Topic6\", \"Topic6\", \"Topic6\", \"Topic6\", \"Topic6\", \"Topic6\", \"Topic6\", \"Topic6\", \"Topic6\", \"Topic6\", \"Topic6\", \"Topic6\", \"Topic6\", \"Topic6\", \"Topic6\", \"Topic6\", \"Topic6\", \"Topic6\", \"Topic6\", \"Topic6\", \"Topic6\", \"Topic6\", \"Topic6\", \"Topic6\", \"Topic6\", \"Topic6\", \"Topic6\", \"Topic6\", \"Topic6\", \"Topic6\", \"Topic6\", \"Topic6\", \"Topic6\", \"Topic6\", \"Topic6\", \"Topic6\", \"Topic6\", \"Topic6\"], \"logprob\": [30.0, 29.0, 28.0, 27.0, 26.0, 25.0, 24.0, 23.0, 22.0, 21.0, 20.0, 19.0, 18.0, 17.0, 16.0, 15.0, 14.0, 13.0, 12.0, 11.0, 10.0, 9.0, 8.0, 7.0, 6.0, 5.0, 4.0, 3.0, 2.0, 1.0, -4.3528, -2.9665, -4.2694, -3.4993, -4.2694, -6.7951, -5.6965, -5.4089, -6.3897, -6.7951, -4.7157, -5.6965, -6.7951, -6.3897, -6.7951, -5.6965, -6.102, -6.102, -5.0904, -5.2911, -6.102, -6.7951, -6.102, -6.102, -6.102, -6.102, -6.102, -6.3897, -5.5424, -4.7802, -3.0224, -3.2986, -3.3139, -3.3294, -3.4279, -3.5565, -3.5965, -3.6171, -3.7271, -4.0226, -4.0871, -4.2302, -4.2302, -4.3102, -4.4926, -4.4926, -4.7157, -4.8492, -4.9233, -4.9233, -5.0034, -5.1857, -2.5395, -4.1925, -3.9329, -3.0816, -3.7506, -4.5979, -4.2511, -4.3464, -4.7031, -4.2976, -5.3962, -4.2511, -5.0395, -4.5089, -4.9442, -5.7327, -5.0395, -5.7327, -5.0395, -5.0395, -2.2859, -3.6045, -5.9558, -6.649, -6.649, -5.9558, -5.9558, -6.649, -5.2627, -5.5504, -6.649, -4.4518, -5.5504, -4.5695, -6.649, -6.649, -2.6977, -3.5355, -3.6786, -3.7586, -4.0463, -4.084, -4.1641, -4.1641, -4.4518, -4.5695, -4.5695, -4.5695, -4.7772, -5.1449, -5.1449, -2.4823, -4.3977, -3.5135, -4.5089, -3.9748, -4.4518, -4.7031, -7.4697, -4.7616, -2.328, -6.7765, -6.371, -6.0834, -4.6971, -3.2501, -6.7765, -6.7765, -4.2116, -6.7765, -7.4697, -5.6779, -6.0834, -7.4697, -6.371, -6.7765, -6.7765, -6.7765, -6.7765, -4.2116, -5.5237, -6.7765, -4.6971, -3.8321, -5.6779, -6.0834, -2.9923, -2.4929, -1.9643, -2.1763, -4.1374, -4.3342, -4.3786, -4.5793, -4.5793, -4.5793, -4.6364, -4.8306, -4.9847, -4.9847, -5.1671, -5.1671, -5.5237, -5.6779, -5.6779, -5.6779, -4.4739, -5.1671, -1.9603, -7.4307, -6.0444, -6.0444, -6.7376, -5.6389, -6.0444, -5.6389, -6.7376, -6.7376, -6.7376, -6.7376, -6.7376, -4.2952, -4.6581, -6.7376, -6.3321, -6.7376, -6.0444, -6.0444, -6.7376, -6.7376, -6.7376, -6.7376, -6.0444, -6.7376, -6.7376, -6.3321, -6.7376, -4.9458, -4.7227, -2.3248, -3.074, -3.8198, -3.8754, -4.0295, -4.1726, -4.2527, -4.3397, -4.435, -4.5403, -4.5975, -4.6581, -4.6581, -4.7916, -4.7916, -4.9458, -5.0328, -5.0328, -5.0328, -5.0328, -5.1281, -5.1281, -5.2335, -5.3513, -5.3513, -5.3513, -3.2563, -4.1349, -2.1475, -2.1996, -2.4403, -4.8658, -3.624, -4.3397, -4.7916, -5.6761, -5.6761, -4.9829, -4.9829, -4.2898, -4.2898, -5.6761, -5.6761, -5.6761, -2.5581, -7.2855, -6.5924, -5.4937, -6.5924, -7.2855, -6.5924, -6.5924, -6.5924, -4.3951, -5.8992, -6.5924, -6.5924, -5.8992, -5.8992, -7.2855, -5.8992, -5.8992, -5.8992, -6.5924, -6.1869, -2.567, -3.066, -3.208, -3.5013, -3.7591, -3.789, -3.9533, -3.9897, -4.241, -4.3411, -4.4523, -4.5129, -4.6464, -4.8006, -4.8006, -4.8006, -4.8876, -4.8876, -5.0883, -5.2061, -5.2061, -5.2061, -5.4937, -5.4937, -5.4937, -3.4788, -5.4937, -5.4937, -3.4569, -2.7529, -3.9182, -2.3297, -7.2152, -5.1358, -4.2708, -5.8289, -4.382, -6.1166, -5.8289, -6.5221, -4.7303, -5.1358, -7.2152, -6.5221, -7.2152, -6.5221, -5.4235, -6.5221, -2.4031, -5.8289, -6.5221, -5.6058, -5.1358, -4.5762, -5.8289, -5.4235, -7.2152, -7.2152, -5.2693, -4.0797, -5.1358, -7.2152, -2.9386, -3.5777, -4.0372, -4.0797, -4.1242, -4.1242, -4.1707, -4.2195, -4.2195, -4.382, -4.382, -4.382, -4.4427, -4.5762, -4.6503, -4.7303, -4.7303, -4.9127, -4.9127, -4.9127, -5.018, -5.1358, -2.4967, -3.4776, -3.6043, -3.9964, -2.7844], \"loglift\": [30.0, 29.0, 28.0, 27.0, 26.0, 25.0, 24.0, 23.0, 22.0, 21.0, 20.0, 19.0, 18.0, 17.0, 16.0, 15.0, 14.0, 13.0, 12.0, 11.0, 10.0, 9.0, 8.0, 7.0, 6.0, 5.0, 4.0, 3.0, 2.0, 1.0, 1.6905, 1.6905, 1.6905, 1.6905, 1.6905, 1.6905, 1.6905, 1.6905, 1.6905, 1.6905, 1.6905, 1.6905, 1.6905, 1.6905, 1.6905, 1.6905, 1.6905, 1.6905, 1.6905, 1.6905, 1.6905, 1.6905, 1.6905, 1.6905, 1.6905, 1.6905, 1.6905, 1.6905, 1.6905, 1.6905, 1.6905, 1.6905, 1.6905, 1.6905, 1.6905, 1.6905, 1.6905, 1.6905, 1.6905, 1.6905, 1.6905, 1.6905, 1.6905, 1.6905, 1.6905, 1.6905, 1.6905, 1.6905, 1.6905, 1.6905, 1.6905, 1.6905, 1.6392, 1.6559, 0.8179, -0.224, -0.0064, 0.371, 1.7783, 1.7783, 1.7783, 1.7783, 1.7783, 1.7783, 1.7783, 1.7783, 1.7783, 1.7783, 1.7783, 1.7783, 1.7783, 1.7783, 1.7783, 1.7783, 1.7783, 1.7783, 1.7783, 1.7783, 1.7783, 1.7783, 1.7783, 1.7783, 1.7783, 1.7783, 1.7783, 1.7783, 1.7783, 1.7783, 1.7783, 1.7783, 1.7783, 1.7783, 1.7783, 1.7783, 1.7783, 1.7783, 1.7783, 1.7783, 1.7783, 1.7783, 1.7783, 1.7783, 1.7783, 1.6855, 1.7253, 1.2373, 1.4909, 1.1616, 1.4402, 1.488, 1.7786, 1.7786, 1.7786, 1.7786, 1.7786, 1.7786, 1.7786, 1.7786, 1.7786, 1.7786, 1.7786, 1.7786, 1.7786, 1.7786, 1.7786, 1.7786, 1.7786, 1.7786, 1.7786, 1.7786, 1.7786, 1.7786, 1.7786, 1.7786, 1.7786, 1.7786, 1.7786, 1.7786, 1.7786, 1.7786, 1.7786, 1.7786, 1.7786, 1.7786, 1.7786, 1.7786, 1.7786, 1.7786, 1.7786, 1.7786, 1.7786, 1.7786, 1.7786, 1.7786, 1.7786, 1.7786, 1.7786, 1.7786, 1.6212, 1.6768, 0.8973, 1.7992, 1.7992, 1.7992, 1.7992, 1.7992, 1.7992, 1.7992, 1.7992, 1.7992, 1.7992, 1.7992, 1.7992, 1.7992, 1.7992, 1.7992, 1.7992, 1.7992, 1.7992, 1.7992, 1.7992, 1.7992, 1.7992, 1.7992, 1.7992, 1.7992, 1.7992, 1.7992, 1.7992, 1.7992, 1.7992, 1.7992, 1.7992, 1.7992, 1.7992, 1.7992, 1.7992, 1.7992, 1.7992, 1.7992, 1.7992, 1.7992, 1.7992, 1.7992, 1.7992, 1.7992, 1.7992, 1.7992, 1.7992, 1.7992, 1.7992, 1.7992, 1.7992, 1.7992, 1.7992, 1.7992, 1.7992, 1.7643, 1.7573, 1.5967, 1.2917, 1.2509, 1.7177, 1.0538, 0.8744, -0.6238, 1.801, 1.801, 1.801, 1.801, 1.801, 1.801, 1.801, 1.801, 1.801, 1.801, 1.801, 1.801, 1.801, 1.801, 1.801, 1.801, 1.801, 1.801, 1.801, 1.801, 1.801, 1.801, 1.801, 1.801, 1.801, 1.801, 1.801, 1.801, 1.801, 1.801, 1.801, 1.801, 1.801, 1.801, 1.801, 1.801, 1.801, 1.801, 1.801, 1.801, 1.801, 1.801, 1.801, 1.801, 1.801, 1.801, 1.801, 1.801, 1.801, 1.801, 1.801, 1.801, 1.801, 1.801, 1.801, 1.49, 1.801, 1.801, 1.2304, 0.9383, 1.2958, 0.5279, 1.9159, 1.9159, 1.9159, 1.9159, 1.9159, 1.9159, 1.9159, 1.9159, 1.9159, 1.9159, 1.9159, 1.9159, 1.9159, 1.9159, 1.9159, 1.9159, 1.9159, 1.9159, 1.9159, 1.9159, 1.9159, 1.9159, 1.9159, 1.9159, 1.9159, 1.9159, 1.9159, 1.9159, 1.9159, 1.9159, 1.9159, 1.9159, 1.9159, 1.9159, 1.9159, 1.9159, 1.9159, 1.9159, 1.9159, 1.9159, 1.9159, 1.9159, 1.9159, 1.9159, 1.9159, 1.9159, 1.9159, 1.9159, 1.9159, 1.9159, 1.9159, 1.9159, 0.9946, 1.2003, 1.083, 1.14, 0.0731]}, \"token.table\": {\"Topic\": [1, 3, 3, 6, 6, 4, 4, 5, 2, 5, 2, 4, 4, 6, 5, 5, 3, 5, 3, 4, 2, 5, 3, 4, 5, 1, 5, 4, 5, 2, 3, 6, 3, 4, 4, 2, 3, 5, 1, 1, 3, 1, 1, 4, 5, 4, 5, 5, 4, 3, 1, 5, 5, 2, 6, 6, 6, 4, 6, 2, 1, 1, 1, 1, 1, 4, 3, 6, 3, 2, 5, 1, 5, 1, 2, 1, 1, 3, 1, 6, 5, 2, 2, 6, 2, 4, 5, 5, 1, 5, 3, 4, 6, 3, 3, 1, 2, 1, 1, 2, 4, 2, 6, 6, 6, 2, 5, 6, 4, 5, 6, 1, 1, 6, 1, 2, 1, 1, 2, 5, 2, 4, 1, 4, 4, 2, 2, 2, 5, 5, 2, 5, 6, 3, 5, 4, 4, 3, 2, 1, 5, 3, 3, 5, 6, 6, 6, 5, 2, 1, 1, 2, 1, 5, 6, 6, 4, 1, 2, 1, 1, 5, 1, 5, 2, 5, 4, 1, 6, 5, 4, 5, 3, 5, 1, 5, 5, 1, 4, 6, 4, 1, 4, 2, 2, 5, 4, 2, 3, 3, 5, 1, 4, 4, 6, 2, 5, 2, 2, 2, 5, 2, 2, 5, 5, 2, 4, 4, 6, 3, 5, 6, 5, 1, 3, 2, 4, 3, 6, 6, 3, 1, 3, 6, 3, 4, 4, 5, 6, 6, 6, 5, 2, 3, 4, 2, 1, 1, 1, 1, 2, 2, 6, 4, 5, 4, 4, 6, 3, 3, 4, 5, 5, 1, 4, 5, 1, 3, 5, 6, 2, 4, 6, 5, 2, 3, 3, 4, 5, 3, 4, 5, 5, 2, 5, 3, 4, 3, 6, 6, 4, 3, 6, 4, 2, 4, 4, 5, 3, 3, 4, 4, 1, 2, 1, 6, 1, 1, 4, 4, 3, 3, 2, 6, 6, 6, 6, 4, 3, 5, 6, 2, 1, 2, 1, 6, 1, 3, 5, 6, 3, 6, 3, 6, 1, 1, 4, 2, 6, 5, 6, 6, 6, 3, 2, 4, 4, 4, 4, 5, 5, 2, 4, 5, 6, 4, 1, 1, 1, 3, 6, 1, 4, 4, 3, 3, 4], \"Freq\": [1.0030597824279808, 1.0752078823488993, 1.0752078823488993, 0.9563511952082857, 1.0360471281423096, 1.055626025204548, 1.055626025204548, 1.0126083865304616, 1.0408427102241808, 0.9146140265436427, 1.051356272953718, 0.9896493986292636, 1.055626025204548, 1.0041687549687, 0.9146140265436427, 0.9146140265436427, 1.0752078823488993, 0.9953152641798465, 1.0752078823488993, 1.055626025204548, 0.9462206456583461, 0.9146140265436427, 1.0752078823488993, 1.055626025204548, 0.9146140265436427, 1.0030597824279808, 0.9146140265436427, 0.9748563111236778, 0.03749447350475684, 1.0053594360119928, 1.0752078823488993, 1.001891728313442, 1.0752078823488993, 0.9596600229132252, 0.9896493986292636, 1.0053594360119928, 0.990323049531881, 1.0060754291980072, 1.0030597824279808, 1.0030597824279808, 1.0752078823488993, 1.0030597824279808, 1.0030597824279808, 0.576916456966775, 0.42334876698281326, 1.055626025204548, 0.9146140265436427, 1.0060754291980072, 1.0556260252045477, 1.0752078823488993, 1.0030597824279808, 0.9799435998681887, 1.016237807270714, 1.0008102982924816, 1.0066854686403006, 0.9563511952082857, 0.9563511952082856, 1.055626025204548, 0.9563511952082857, 0.9462206456583462, 1.0030597824279808, 1.0030597824279808, 1.0030597824279808, 1.0030597824279808, 1.0030597824279808, 1.055626025204548, 0.9924995837066762, 0.9563511952082857, 1.0154741111072938, 0.9856465058941106, 1.06704969763425, 1.0030597824279808, 0.9146140265436429, 0.252774821307512, 0.758324463922536, 1.0030597824279808, 1.0030597824279808, 1.0752078823488993, 1.0030597824279808, 0.9563511952082857, 0.9146140265436427, 0.9826137474144364, 0.5458777959303754, 0.4578329901351536, 0.909126698465009, 0.08690181676503764, 1.0076256224633353, 0.9717774032026203, 0.26807186271052824, 0.7297511818231047, 1.0009048986093412, 0.9980464238297543, 1.0126071478675964, 1.0080073897020931, 1.0752078823488993, 1.0030597824279808, 1.0163110638552608, 1.0030597824279808, 1.0030597824279808, 1.0138078346339425, 1.055626025204548, 0.9935316779412636, 0.9563511952082857, 0.9998217040813894, 0.997931681956472, 0.712236057207474, 0.2998888661926206, 1.0360471281423096, 0.9953045380500023, 1.06704969763425, 1.003002473023324, 1.0030597824279808, 1.0030597824279808, 0.9563511952082857, 0.250543799594525, 0.7516313987835749, 1.0030597824279808, 1.0030597824279808, 1.0004625934986335, 1.028940779861598, 0.9462206456583461, 1.0116416074876915, 1.0030597824279808, 1.0097292415000023, 1.0028447239443203, 1.0408427102241808, 0.9462206456583461, 1.0190068491705266, 0.9146140265436429, 0.9953152641798465, 0.9987884593060321, 0.5619040984338699, 0.43828519677841854, 0.985607225486491, 0.9962759931993252, 0.9500634226840929, 1.055626025204548, 1.0752078823488993, 1.0322407043545596, 1.0030597824279808, 1.06704969763425, 0.998407319323978, 1.0752078823488993, 1.016237807270714, 1.0126071478675964, 1.0126071478675964, 0.9563511952082857, 0.9977607562294285, 1.001880683638249, 1.0030597824279808, 1.0030597824279808, 0.9462206456583461, 1.0030597824279808, 0.9146140265436427, 0.9998217040813894, 1.0161231449088035, 0.9596600229132252, 1.0030597824279808, 1.0408427102241808, 1.0030597824279808, 1.0030597824279808, 1.001720124309704, 1.0030597824279808, 1.028940779861598, 0.9856465058941106, 1.06704969763425, 1.055626025204548, 1.0030597824279808, 1.0246619948660203, 0.9908318620889465, 0.9896493986292636, 0.9146140265436427, 1.0018982540069288, 0.9146140265436427, 1.0030597824279808, 1.0222156767252477, 0.9146140265436429, 1.0030597824279808, 0.9802241662613658, 0.9563511952082857, 1.055626025204548, 1.0030597824279808, 1.0076430240588863, 0.9462206456583461, 0.9445885227741027, 0.04722942613870513, 1.055626025204548, 1.0053594360119928, 1.0752078823488993, 1.0119603598577875, 0.9146140265436427, 1.0030597824279808, 1.055626025204548, 1.0556260252045477, 0.9563511952082857, 0.991278771642077, 0.9908318620889465, 0.9892306750064529, 0.9462206456583463, 0.9462206456583463, 0.9146140265436427, 1.0053594360119928, 0.9462206456583461, 1.016237807270714, 1.0060754291980072, 0.9947447813331332, 1.055626025204548, 0.6015132483237109, 0.397610452281775, 0.9961484792350096, 0.9977607562294285, 0.9563511952082857, 0.9977607562294284, 0.0971111698712697, 0.8740005288414273, 1.0408427102241808, 0.9852509568575779, 1.0752078823488993, 0.9563511952082857, 0.9563511952082857, 1.0752078823488993, 1.0030597824279808, 1.0010556146006995, 1.0066854686403006, 1.0752078823488993, 0.9596600229132252, 1.055626025204548, 1.06704969763425, 0.9563511952082857, 1.0246619948660203, 0.9563511952082857, 0.9146140265436427, 0.1377944312490074, 0.8726980645770468, 1.015025024235142, 0.9892306750064529, 1.0030597824279808, 1.0030597824279808, 1.0030597824279808, 0.41912308600313686, 0.5867723204043915, 1.0093020220355693, 0.9563511952082857, 0.9723728278290408, 0.031366865413840025, 1.055626025204548, 0.898162698406428, 0.074846891533869, 1.0752078823488993, 0.998407319323978, 1.00149135724534, 0.9977607562294285, 1.0060754291980072, 0.18381467876527668, 0.8184129745025415, 1.0036472503664755, 0.14786404819690174, 0.4147406229913098, 0.2794991154941436, 0.15868336879667505, 1.051356272953718, 1.055626025204548, 0.9563511952082857, 0.9908318620889465, 0.9987884593060321, 1.0752078823488993, 1.0080073897020931, 0.9676571897708354, 0.9146140265436429, 1.0752078823488993, 1.055626025204548, 0.9146140265436427, 0.9146140265436429, 0.9462206456583461, 0.9146140265436429, 0.9676870941140093, 1.055626025204548, 1.0752078823488993, 0.9563511952082857, 0.9563511952082857, 1.055626025204548, 0.9997546976226608, 1.0041687549687, 0.9985651589772749, 0.9462206456583462, 1.0556260252045475, 0.9500634226840929, 0.9146140265436427, 0.985607225486491, 1.0752078823488993, 0.9935303766631037, 1.055626025204548, 0.9529104216065407, 0.04730760958330344, 1.0030597824279808, 0.997931681956472, 1.0030597824279808, 1.0030597824279808, 0.9852509568575779, 1.055626025204548, 0.9995651167565144, 0.977461711226272, 0.9462206456583461, 1.0360471281423096, 0.9563511952082857, 0.9563511952082857, 0.9961991616752975, 0.9802241662613658, 1.0035273568589727, 1.028940779861598, 0.9563511952082857, 0.991278771642077, 1.0030597824279808, 0.9987884593060321, 1.0030597824279808, 0.9563511952082857, 1.0030597824279808, 1.0752078823488993, 1.06704969763425, 0.9563511952082857, 0.9924995837066762, 0.9961991616752975, 0.9817115447533428, 1.029916671762769, 1.0030597824279808, 1.0030597824279808, 1.0556260252045477, 0.9462206456583461, 1.0126071478675964, 1.0108891872324473, 0.9563511952082857, 0.9563511952082857, 0.9563511952082857, 1.0752078823488993, 0.9462206456583463, 0.9596600229132252, 1.0556260252045477, 0.996980134915406, 0.39963402599770637, 0.6089661348536478, 0.9146140265436427, 0.9462206456583461, 0.4787047294184068, 0.03339800437802838, 0.48983739754441624, 1.055626025204548, 1.0030597824279808, 1.0030597824279808, 1.0030597824279808, 1.0154741111072938, 0.9563511952082857, 0.9689594534278048, 0.03588738716399277, 1.055626025204548, 0.9676870941140093, 1.0154741111072938, 0.9676571897708354], \"Term\": [\"accesorio\", \"acopiar\", \"activacion\", \"actualizar\", \"acudir\", \"advantage\", \"ag\", \"aguar\", \"ajustar\", \"alarmar\", \"alimentacion\", \"alto\", \"anterior\", \"aparentar\", \"aproximar\", \"arrojar\", \"atencion\", \"atender\", \"autoopw\", \"avanzar\", \"avezar\", \"barrer\", \"bco\", \"bien\", \"bloqueadose\", \"boca\", \"bocaestanque\", \"bodega\", \"bodega\", \"bombo\", \"boto\", \"breackaway\", \"breakawat\", \"breakaway\", \"breakaways\", \"breakway\", \"breckawey\", \"brevedad\", \"calibracion\", \"calibrar\", \"calzar\", \"camara\", \"camaras\", \"cambiar\", \"cambiar\", \"cammbio\", \"canerias\", \"cano\", \"capacidad\", \"cap\\u00edtulo\", \"cebar\", \"cerrar\", \"check\", \"chequea\", \"cliente\", \"codigo\", \"colgante\", \"colocar\", \"comentar\", \"comportamiento\", \"concurrio\", \"coneccion\", \"confinar\", \"contaminar\", \"contar\", \"controlador\", \"conv\", \"converso\", \"coordinar\", \"cortar\", \"danado\", \"dar\", \"deber\", \"dejar\", \"dejar\", \"dentro\", \"derramar\", \"desbloquear\", \"descargar\", \"descartar\", \"descebar\", \"describir\", \"despachar\", \"despachar\", \"detectar\", \"detectar\", \"detector\", \"detencion\", \"diesel\", \"diesel\", \"disp\", \"dispensador\", \"display\", \"displey\", \"doblar\", \"durar\", \"eds\", \"efecto\", \"efectua\", \"electrico\", \"electronicos\", \"elementar\", \"emitir\", \"encargar\", \"encontrandose\", \"encontrar\", \"encontrar\", \"encontro\", \"encore\", \"enex\", \"equipar\", \"equipo\", \"espaciar\", \"esporadicamente\", \"estacion\", \"estacion\", \"estancar\", \"estanque\", \"fallo\", \"fepetro\", \"fijo\", \"filtracion\", \"filtraci\\u00f3n\", \"filtrar\", \"filtro\", \"firmar\", \"flexible\", \"flujo\", \"fondo\", \"fugar\", \"funcional\", \"funcionar\", \"funcionar\", \"fundir\", \"gas\", \"gatillo\", \"gilbarco\", \"giratorio\", \"hacer\", \"hara\", \"hora\", \"hose\", \"hp\", \"incidencia\", \"informacion\", \"informar\", \"infrarrojo\", \"instalacion\", \"instalar\", \"interior\", \"internet\", \"interno\", \"isla\", \"jacket\", \"kerosene\", \"kerosenne\", \"kit\", \"lado\", \"lento\", \"limpiar\", \"limpieza\", \"linear\", \"litro\", \"llamar\", \"llegar\", \"lluvia\", \"logica\", \"lt\", \"lts\", \"mal\", \"malo\", \"mananas\", \"manguera\", \"manguers\", \"mantencion\", \"mantener\", \"mantenimiento\", \"maquinar\", \"master\", \"matcelo\", \"mateeial\", \"matraz\", \"medidor\", \"medir\", \"momento\", \"momento\", \"mometno\", \"monitorean\", \"mostrar\", \"motor\", \"movimiento\", \"mp\", \"mts\", \"na\", \"nodo\", \"normal\", \"normalizacion\", \"normalmente\", \"nuevo\", \"observacion\", \"observandose\", \"octuple\", \"ocurrir\", \"ods\", \"operacion\", \"operar\", \"operativau\", \"operativo\", \"operativo\", \"opw\", \"oring\", \"ortr\", \"ot\", \"palanca\", \"palanca\", \"partir\", \"pendiente\", \"perdido\", \"perimetral\", \"personal\", \"piastola\", \"pintar\", \"pistola\", \"placa\", \"plca\", \"portapistola\", \"portar\", \"posible\", \"ppu\", \"precio\", \"predeterminador\", \"presentandose\", \"presentar\", \"presentar\", \"preset\", \"presion\", \"prevencionista\", \"preventivo\", \"prheba\", \"probar\", \"probar\", \"problema\", \"proceder\", \"producto\", \"producto\", \"programar\", \"proporcional\", \"proporcional\", \"protector\", \"proxima\", \"prueba\", \"psi\", \"quebrar\", \"quedar\", \"quedar\", \"quedo\", \"realizar\", \"realizar\", \"realizar\", \"realizar\", \"reapriete\", \"rearmar\", \"recirculaci\\u00f3n\", \"recirculan\", \"recirculando\", \"reclamar\", \"reco\", \"reconecta\", \"reconectable\", \"reconectado\", \"reconecto\", \"red\", \"reemplazar\", \"regular\", \"reinicio\", \"reinstalacion\", \"reintala\", \"reintalan\", \"rejistro\", \"rele\", \"remarcar\", \"remplazar\", \"reparacion\", \"reponer\", \"reposar\", \"reprograma\", \"reprogramacion\", \"reprograman\", \"repuesto\", \"requerir\", \"reset\", \"resorte\", \"revisar\", \"revisar\", \"revision\", \"revison\", \"revoluci\\u00f3n\", \"riesgo\", \"rotar\", \"roturar\", \"rv\", \"rvopw\", \"rwcirculando\", \"sacar\", \"segmento\", \"seguir\", \"segun\", \"sellar\", \"servicentro\", \"servicio\", \"silicita\", \"sistema\", \"slas\", \"solicitar\", \"solisita\", \"soltar\", \"spill\", \"sr\", \"stpmldg\", \"suelto\", \"surt\", \"surtidor\", \"swivel\", \"tablero\", \"tambor\", \"tapar\", \"tarjeta\", \"tenia\", \"terminal\", \"tk\", \"tls\", \"totalizador\", \"trabajar\", \"trifasico\", \"turbinar\", \"union\", \"uni\\u00f3n\", \"utilizar\", \"valvula\", \"valvula\", \"valvulas\", \"vender\", \"venta\", \"venta\", \"venta\", \"ver\", \"verificacion\", \"verificar\", \"vertical\", \"visitar\", \"volumen\", \"volumetrica\", \"volumetrica\", \"wayne\", \"whipe\", \"wipe\", \"wipehose\"]}, \"R\": 30, \"lambda.step\": 0.01, \"plot.opts\": {\"xlab\": \"PC1\", \"ylab\": \"PC2\"}, \"topic.order\": [3, 2, 6, 4, 5, 1]};\n",
       "\n",
       "function LDAvis_load_lib(url, callback){\n",
       "  var s = document.createElement('script');\n",
       "  s.src = url;\n",
       "  s.async = true;\n",
       "  s.onreadystatechange = s.onload = callback;\n",
       "  s.onerror = function(){console.warn(\"failed to load library \" + url);};\n",
       "  document.getElementsByTagName(\"head\")[0].appendChild(s);\n",
       "}\n",
       "\n",
       "if(typeof(LDAvis) !== \"undefined\"){\n",
       "   // already loaded: just create the visualization\n",
       "   !function(LDAvis){\n",
       "       new LDAvis(\"#\" + \"ldavis_el60801814884156232436784487\", ldavis_el60801814884156232436784487_data);\n",
       "   }(LDAvis);\n",
       "}else if(typeof define === \"function\" && define.amd){\n",
       "   // require.js is available: use it to load d3/LDAvis\n",
       "   require.config({paths: {d3: \"https://cdnjs.cloudflare.com/ajax/libs/d3/3.5.5/d3.min\"}});\n",
       "   require([\"d3\"], function(d3){\n",
       "      window.d3 = d3;\n",
       "      LDAvis_load_lib(\"https://cdn.rawgit.com/bmabey/pyLDAvis/files/ldavis.v1.0.0.js\", function(){\n",
       "        new LDAvis(\"#\" + \"ldavis_el60801814884156232436784487\", ldavis_el60801814884156232436784487_data);\n",
       "      });\n",
       "    });\n",
       "}else{\n",
       "    // require.js not available: dynamically load d3 & LDAvis\n",
       "    LDAvis_load_lib(\"https://cdnjs.cloudflare.com/ajax/libs/d3/3.5.5/d3.min.js\", function(){\n",
       "         LDAvis_load_lib(\"https://cdn.rawgit.com/bmabey/pyLDAvis/files/ldavis.v1.0.0.js\", function(){\n",
       "                 new LDAvis(\"#\" + \"ldavis_el60801814884156232436784487\", ldavis_el60801814884156232436784487_data);\n",
       "            })\n",
       "         });\n",
       "}\n",
       "</script>"
      ],
      "text/plain": [
       "PreparedData(topic_coordinates=              x         y  topics  cluster       Freq\n",
       "topic                                                \n",
       "2     -0.102830  0.145551       1        1  18.442535\n",
       "1     -0.417488 -0.048149       2        1  16.891871\n",
       "5      0.109496  0.312393       3        1  16.887292\n",
       "3      0.088243 -0.332505       4        1  16.543518\n",
       "4      0.177158  0.039087       5        1  16.513545\n",
       "0      0.145422 -0.116377       6        1  14.721239, topic_info=          Term        Freq       Total Category  logprob  loglift\n",
       "44        disp  228.000000  228.000000  Default  30.0000  30.0000\n",
       "25   operativo  294.000000  294.000000  Default  29.0000  29.0000\n",
       "64          rv  185.000000  185.000000  Default  28.0000  28.0000\n",
       "28      quedar  228.000000  228.000000  Default  27.0000  27.0000\n",
       "9        fallo  165.000000  165.000000  Default  26.0000  26.0000\n",
       "..         ...         ...         ...      ...      ...      ...\n",
       "25   operativo  117.111790  294.257858   Topic6  -2.4967   0.9946\n",
       "39       venta   43.916921   89.825726   Topic6  -3.4776   1.2003\n",
       "124  funcionar   38.688716   88.983156   Topic6  -3.6043   1.0830\n",
       "78   despachar   26.141024   56.789267   Topic6  -3.9964   1.1400\n",
       "36    realizar   87.833842  554.563472   Topic6  -2.7844   0.0731\n",
       "\n",
       "[375 rows x 6 columns], token_table=      Topic      Freq         Term\n",
       "term                              \n",
       "115       1  1.003060    accesorio\n",
       "895       3  1.075208      acopiar\n",
       "582       3  1.075208   activacion\n",
       "291       6  0.956351   actualizar\n",
       "485       6  1.036047       acudir\n",
       "...     ...       ...          ...\n",
       "201       4  0.035887  volumetrica\n",
       "600       4  1.055626        wayne\n",
       "290       3  0.967687        whipe\n",
       "319       3  1.015474         wipe\n",
       "176       4  0.967657     wipehose\n",
       "\n",
       "[357 rows x 3 columns], R=30, lambda_step=0.01, plot_opts={'xlab': 'PC1', 'ylab': 'PC2'}, topic_order=[3, 2, 6, 4, 5, 1])"
      ]
     },
     "execution_count": 67,
     "metadata": {},
     "output_type": "execute_result"
    }
   ],
   "source": [
    "# Visualize the topics\n",
    "pyLDAvis.enable_notebook()\n",
    "vis = pyLDAvis.gensim.prepare(LDA_mallet_model, corpus, id2word)\n",
    "vis"
   ]
  },
  {
   "cell_type": "code",
   "execution_count": 4,
   "metadata": {},
   "outputs": [
    {
     "name": "stdout",
     "output_type": "stream",
     "text": [
      "Reset css and font defaults in:\n",
      "C:\\Users\\alexa\\.jupyter\\custom &\n",
      "C:\\Users\\alexa\\AppData\\Roaming\\jupyter\\nbextensions\n"
     ]
    }
   ],
   "source": [
    "! jt -r"
   ]
  },
  {
   "cell_type": "code",
   "execution_count": null,
   "metadata": {},
   "outputs": [],
   "source": []
  }
 ],
 "metadata": {
  "kernelspec": {
   "display_name": "Python 3",
   "language": "python",
   "name": "python3"
  },
  "language_info": {
   "codemirror_mode": {
    "name": "ipython",
    "version": 3
   },
   "file_extension": ".py",
   "mimetype": "text/x-python",
   "name": "python",
   "nbconvert_exporter": "python",
   "pygments_lexer": "ipython3",
   "version": "3.7.6"
  }
 },
 "nbformat": 4,
 "nbformat_minor": 4
}
