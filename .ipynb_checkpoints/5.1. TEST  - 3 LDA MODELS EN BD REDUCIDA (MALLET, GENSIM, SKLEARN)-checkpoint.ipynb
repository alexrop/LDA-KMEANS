{
 "cells": [
  {
   "cell_type": "markdown",
   "metadata": {},
   "source": [
    "# PRUEBA DE LMALLET, GENSIM Y SKLEARN EN VERSION REDUCIDA"
   ]
  },
  {
   "cell_type": "markdown",
   "metadata": {},
   "source": [
    "## I. Datos generales para los 3 modelos LDA"
   ]
  },
  {
   "cell_type": "markdown",
   "metadata": {},
   "source": [
    "### 1. Importar Paquetes"
   ]
  },
  {
   "cell_type": "code",
   "execution_count": 42,
   "metadata": {},
   "outputs": [],
   "source": [
    "import re, spacy, numpy as np, pandas as pd\n",
    "from pprint import pprint\n",
    "from wordcloud import WordCloud\n",
    "import matplotlib.colors as mcolors\n",
    "\n",
    "# Gensim\n",
    "import gensim, gensim.corpora as corpora\n",
    "from gensim.utils import simple_preprocess\n",
    "from gensim.models import CoherenceModel\n",
    "\n",
    "# Plotting tools\n",
    "import pyLDAvis, pyLDAvis.sklearn, pyLDAvis.gensim  \n",
    "import matplotlib.pyplot as plt\n",
    "\n",
    "# Sklearn\n",
    "from sklearn.decomposition import LatentDirichletAllocation, TruncatedSVD\n",
    "from sklearn.feature_extraction.text import CountVectorizer, TfidfVectorizer\n",
    "from sklearn.model_selection import GridSearchCV\n",
    "from tmtoolkit.topicmod.evaluate import metric_coherence_gensim\n",
    "\n",
    "import warnings\n",
    "warnings.filterwarnings(\"ignore\",category=DeprecationWarning)\n",
    "warnings.simplefilter('ignore')\n",
    "pd.options.mode.chained_assignment = None  # default='warn' ---> Not showing warnings about iloc\n",
    "\n",
    "# Stop Words\n",
    "with open('spanish3.0.txt','r') as f:\n",
    "    stop_words = f.read().splitlines()\n",
    "    \n",
    "# NLP from Spacy\n",
    "nlp = spacy.load('es_core_news_md', disable=['parser', 'ner'])"
   ]
  },
  {
   "cell_type": "code",
   "execution_count": 43,
   "metadata": {},
   "outputs": [
    {
     "data": {
      "application/javascript": [
       "IPython.OutputArea.prototype._should_scroll = function(lines) {return false;}\n"
      ],
      "text/plain": [
       "<IPython.core.display.Javascript object>"
      ]
     },
     "metadata": {},
     "output_type": "display_data"
    }
   ],
   "source": [
    "%%javascript\n",
    "IPython.OutputArea.prototype._should_scroll = function(lines) {return false;}"
   ]
  },
  {
   "cell_type": "markdown",
   "metadata": {},
   "source": [
    "### 2. Importar Data Base"
   ]
  },
  {
   "cell_type": "code",
   "execution_count": 44,
   "metadata": {},
   "outputs": [
    {
     "data": {
      "text/html": [
       "<div>\n",
       "<style scoped>\n",
       "    .dataframe tbody tr th:only-of-type {\n",
       "        vertical-align: middle;\n",
       "    }\n",
       "\n",
       "    .dataframe tbody tr th {\n",
       "        vertical-align: top;\n",
       "    }\n",
       "\n",
       "    .dataframe thead th {\n",
       "        text-align: right;\n",
       "    }\n",
       "</style>\n",
       "<table border=\"1\" class=\"dataframe\">\n",
       "  <thead>\n",
       "    <tr style=\"text-align: right;\">\n",
       "      <th></th>\n",
       "      <th>Observación</th>\n",
       "      <th>Requerimiento</th>\n",
       "    </tr>\n",
       "  </thead>\n",
       "  <tbody>\n",
       "    <tr>\n",
       "      <th>OPERACIONES Y SERVICIOS TERPEL LTDA.</th>\n",
       "      <td>[se chequea falla y se detecta ortirak que cuando le da el sol directo se borra por completo est...</td>\n",
       "      <td>[area de atencion nuevamente se solicita segun pedido 8 y 9 los ortrak caja donde presentan el t...</td>\n",
       "    </tr>\n",
       "    <tr>\n",
       "      <th>OPERACIONES Y SERVICIO TERPEL LTDA.</th>\n",
       "      <td>[se solicita tapa spil p15200 para estanque producto diesel, queda pendiente 1 breakaway 34 p134...</td>\n",
       "      <td>[area de atencion tapa spill de estanque diesel estanque nr 4 rota provocando filtracion de lluv...</td>\n",
       "    </tr>\n",
       "    <tr>\n",
       "      <th>Inversiones Enex</th>\n",
       "      <td>[se rechaza orden por no corresponder a contrato sgs, cambio de 01 ampolleta pls 9w en disp 4 la...</td>\n",
       "      <td>[area de atencion se solicita reparacion de brazo de carga solicitado por catherine torres fono,...</td>\n",
       "    </tr>\n",
       "    <tr>\n",
       "      <th>SOCIEDAD DE COMBUSTIBLES AUSTRAL LTDA.</th>\n",
       "      <td>[visita se cierra bajo ot 7 visita se cierra bajo ot 7, se realiza visita a estacion de servicio...</td>\n",
       "      <td>[area de atencion pistola gas95 no corta solicitado por file 389 fono, area de atencion surtidor...</td>\n",
       "    </tr>\n",
       "    <tr>\n",
       "      <th>CL - Buses Vule S.A.</th>\n",
       "      <td>[en surtidor numero 1 se detecto se cambio 01 breakaways de 1 cortado se realizan pruebas con ve...</td>\n",
       "      <td>[area de atencion breakaway esta suelto y filtra combustible solicitado por jonathan ibanez fono...</td>\n",
       "    </tr>\n",
       "  </tbody>\n",
       "</table>\n",
       "</div>"
      ],
      "text/plain": [
       "                                                                                                                                Observación  \\\n",
       "OPERACIONES Y SERVICIOS TERPEL LTDA.    [se chequea falla y se detecta ortirak que cuando le da el sol directo se borra por completo est...   \n",
       "OPERACIONES Y SERVICIO TERPEL LTDA.     [se solicita tapa spil p15200 para estanque producto diesel, queda pendiente 1 breakaway 34 p134...   \n",
       "Inversiones Enex                        [se rechaza orden por no corresponder a contrato sgs, cambio de 01 ampolleta pls 9w en disp 4 la...   \n",
       "SOCIEDAD DE COMBUSTIBLES AUSTRAL LTDA.  [visita se cierra bajo ot 7 visita se cierra bajo ot 7, se realiza visita a estacion de servicio...   \n",
       "CL - Buses Vule S.A.                    [en surtidor numero 1 se detecto se cambio 01 breakaways de 1 cortado se realizan pruebas con ve...   \n",
       "\n",
       "                                                                                                                              Requerimiento  \n",
       "OPERACIONES Y SERVICIOS TERPEL LTDA.    [area de atencion nuevamente se solicita segun pedido 8 y 9 los ortrak caja donde presentan el t...  \n",
       "OPERACIONES Y SERVICIO TERPEL LTDA.     [area de atencion tapa spill de estanque diesel estanque nr 4 rota provocando filtracion de lluv...  \n",
       "Inversiones Enex                        [area de atencion se solicita reparacion de brazo de carga solicitado por catherine torres fono,...  \n",
       "SOCIEDAD DE COMBUSTIBLES AUSTRAL LTDA.  [area de atencion pistola gas95 no corta solicitado por file 389 fono, area de atencion surtidor...  \n",
       "CL - Buses Vule S.A.                    [area de atencion breakaway esta suelto y filtra combustible solicitado por jonathan ibanez fono...  "
      ]
     },
     "execution_count": 44,
     "metadata": {},
     "output_type": "execute_result"
    }
   ],
   "source": [
    "# ESTACIONES\n",
    "df_estacion_sentences = pd.read_pickle('df_estacion_sentences.pkl')\n",
    "df_estacion_sentences.head()"
   ]
  },
  {
   "cell_type": "markdown",
   "metadata": {},
   "source": [
    "#### Se elige una estación en particular "
   ]
  },
  {
   "cell_type": "code",
   "execution_count": 45,
   "metadata": {},
   "outputs": [
    {
     "data": {
      "text/plain": [
       "['incidencia fue atendida durante mantencion preventiva ot 27362',\n",
       " 'se deriva a trabajo adicional para coordinar retiro de tambores se adjunta cotizacion en plataforma para aprobacion']"
      ]
     },
     "execution_count": 45,
     "metadata": {},
     "output_type": "execute_result"
    }
   ],
   "source": [
    "# Operaciones y Servicios Terpel LTDA \n",
    "data = df_estacion_sentences['Observación']['Petrobras Chile Red Ltda Las Brujas']\n",
    "data[:2]"
   ]
  },
  {
   "cell_type": "markdown",
   "metadata": {},
   "source": [
    "### 3. Tokenize Words"
   ]
  },
  {
   "cell_type": "code",
   "execution_count": 46,
   "metadata": {},
   "outputs": [
    {
     "name": "stdout",
     "output_type": "stream",
     "text": [
      "[['incidencia', 'fue', 'atendida', 'durante', 'mantencion', 'preventiva', 'ot']]\n"
     ]
    }
   ],
   "source": [
    "def sent_to_words(sentences):\n",
    "    for sentence in sentences:\n",
    "        yield(gensim.utils.simple_preprocess(str(sentence), deacc=True))  # deacc=True removes punctuations\n",
    "\n",
    "data_words = list(sent_to_words(data))\n",
    "print(data_words[:1])"
   ]
  },
  {
   "cell_type": "markdown",
   "metadata": {},
   "source": [
    "### 4. Remover Stopwords, ejecutar Bigrams y Lemmatize"
   ]
  },
  {
   "cell_type": "code",
   "execution_count": 47,
   "metadata": {},
   "outputs": [],
   "source": [
    "# Define functions for stopwords, bigrams, trigrams and lemmatization\n",
    "def remove_stopwords(texts):\n",
    "    return [[word for word in simple_preprocess(str(doc)) if word not in stop_words] for doc in texts]\n",
    "\n",
    "def lemmatization(texts, allowed_postags=['NOUN', 'ADJ', 'VERB', 'ADV','PROPN']):\n",
    "    texts_out = []\n",
    "    for sent in texts:\n",
    "        doc = nlp(u\" \".join(sent)) \n",
    "        texts_out.append([token.lemma_ for token in doc if token.pos_ in allowed_postags])\n",
    "    return texts_out"
   ]
  },
  {
   "cell_type": "markdown",
   "metadata": {},
   "source": [
    "#### Llamando a las funciones en orden"
   ]
  },
  {
   "cell_type": "code",
   "execution_count": 48,
   "metadata": {},
   "outputs": [],
   "source": [
    "# Remove Stop Words\n",
    "data_words_nostops = remove_stopwords(data_words)\n",
    "\n",
    "# Do lemmatization keeping only noun, adj, vb, adv\n",
    "data_lemmatized = lemmatization(data_words_nostops) "
   ]
  },
  {
   "cell_type": "code",
   "execution_count": 49,
   "metadata": {},
   "outputs": [
    {
     "name": "stdout",
     "output_type": "stream",
     "text": [
      "['se elimino alarma de veeder root ya que se saco agua de tank sump de 97 se limpio sensor y queda veeder root con todas sus funciones normales se elimino alarma de veeder root ya que se saco agua de tank sump de 97 se limpio sensor y queda veeder root con todas sus funciones normales']\n"
     ]
    }
   ],
   "source": [
    "print(data[4:5])"
   ]
  },
  {
   "cell_type": "code",
   "execution_count": 50,
   "metadata": {},
   "outputs": [
    {
     "name": "stdout",
     "output_type": "stream",
     "text": [
      "[['se', 'elimino', 'alarma', 'de', 'veeder', 'root', 'ya', 'que', 'se', 'saco', 'agua', 'de', 'tank', 'sump', 'de', 'se', 'limpio', 'sensor', 'queda', 'veeder', 'root', 'con', 'todas', 'sus', 'funciones', 'normales', 'se', 'elimino', 'alarma', 'de', 'veeder', 'root', 'ya', 'que', 'se', 'saco', 'agua', 'de', 'tank', 'sump', 'de', 'se', 'limpio', 'sensor', 'queda', 'veeder', 'root', 'con', 'todas', 'sus', 'funciones', 'normales']]\n"
     ]
    }
   ],
   "source": [
    "print(data_words[4:5])"
   ]
  },
  {
   "cell_type": "code",
   "execution_count": 51,
   "metadata": {},
   "outputs": [
    {
     "name": "stdout",
     "output_type": "stream",
     "text": [
      "[['elimino', 'alarma', 'veeder', 'root', 'agua', 'tank', 'sump', 'limpio', 'sensor', 'veeder', 'root', 'todas', 'funciones', 'normales', 'elimino', 'alarma', 'veeder', 'root', 'agua', 'tank', 'sump', 'limpio', 'sensor', 'veeder', 'root', 'todas', 'funciones', 'normales']]\n"
     ]
    }
   ],
   "source": [
    "print(data_words_nostops[4:5])"
   ]
  },
  {
   "cell_type": "code",
   "execution_count": 52,
   "metadata": {},
   "outputs": [
    {
     "name": "stdout",
     "output_type": "stream",
     "text": [
      "[['eliminar', 'alarmar', 'veeder', 'root', 'aguar', 'tank', 'sump', 'limpiar', 'sensor', 'veeder', 'root', 'funcionar', 'normal', 'alarmar', 'veeder', 'root', 'aguar', 'tank', 'sump', 'limpiar', 'sensor', 'veeder', 'root', 'funcionar', 'normal']]\n"
     ]
    }
   ],
   "source": [
    "print(data_lemmatized[4:5])"
   ]
  },
  {
   "cell_type": "markdown",
   "metadata": {},
   "source": [
    "## II. PROBANDO MODELOS"
   ]
  },
  {
   "cell_type": "markdown",
   "metadata": {},
   "source": [
    "## A) SKLEARN"
   ]
  },
  {
   "cell_type": "markdown",
   "metadata": {},
   "source": [
    "#### TF DTM"
   ]
  },
  {
   "cell_type": "code",
   "execution_count": 53,
   "metadata": {},
   "outputs": [
    {
     "data": {
      "text/plain": [
       "LatentDirichletAllocation(learning_method='online', n_jobs=-1, random_state=100)"
      ]
     },
     "execution_count": 53,
     "metadata": {},
     "output_type": "execute_result"
    }
   ],
   "source": [
    "# Build LDA Model\n",
    "\n",
    "from sklearn.decomposition import LatentDirichletAllocation, TruncatedSVD\n",
    "from sklearn.feature_extraction.text import CountVectorizer, TfidfVectorizer\n",
    "from tmtoolkit.topicmod.evaluate import metric_coherence_gensim\n",
    "\n",
    "data_lemmatized2 = [' '.join(sent) for sent in data_lemmatized]\n",
    "\n",
    "cv = CountVectorizer(stop_words = stop_words,max_df=0.95, min_df=2)\n",
    "data_cv = cv.fit_transform(data_lemmatized2)\n",
    "data_dtm = pd.DataFrame(data_cv.toarray(), columns=cv.get_feature_names())\n",
    "\n",
    "lda_model1 = LatentDirichletAllocation(n_components=10,               # Number of topics\n",
    "                                      max_iter=10,               # Max learning iterations\n",
    "                                      learning_method='online',   \n",
    "                                      random_state=100,           # Random state\n",
    "                                      batch_size=128,            # n docs in each learning iter\n",
    "                                      n_jobs = -1,               # Use all available CPUs\n",
    "                                     )\n",
    "lda_model1.fit(data_cv)"
   ]
  },
  {
   "cell_type": "code",
   "execution_count": 54,
   "metadata": {},
   "outputs": [
    {
     "data": {
      "text/plain": [
       "[0.5953910576771457,\n",
       " 0.6640519597422255,\n",
       " 0.6861816262047953,\n",
       " 0.7215859058326353,\n",
       " 0.7193113638487898,\n",
       " 0.6210684005532693,\n",
       " 0.65161489400799,\n",
       " 0.5901226271317329,\n",
       " 0.5833907101768596,\n",
       " 0.5776369388211502]"
      ]
     },
     "execution_count": 54,
     "metadata": {},
     "output_type": "execute_result"
    }
   ],
   "source": [
    "# lda_model - LatentDirichletAllocation()\n",
    "# vect - CountVectorizer()\n",
    "# texts - the list of tokenized words\n",
    "cv_sklearn1 = metric_coherence_gensim(measure='c_v', \n",
    "                            top_n=20, \n",
    "                            topic_word_distrib=lda_model1.components_, \n",
    "                            dtm=data_cv, \n",
    "                            vocab= np.array([x for x in cv.vocabulary_.keys()]),\n",
    "                            texts = data_lemmatized\n",
    "                           )\n",
    "cv_sklearn1"
   ]
  },
  {
   "cell_type": "code",
   "execution_count": 55,
   "metadata": {},
   "outputs": [
    {
     "data": {
      "text/plain": [
       "0.6410355483996593"
      ]
     },
     "execution_count": 55,
     "metadata": {},
     "output_type": "execute_result"
    }
   ],
   "source": [
    "cv_sklearn1 = np.array(cv_sklearn1)\n",
    "cv_sklearn_median1 = cv_sklearn1.mean()\n",
    "cv_sklearn_median1"
   ]
  },
  {
   "cell_type": "code",
   "execution_count": 56,
   "metadata": {
    "scrolled": true
   },
   "outputs": [
    {
     "name": "stdout",
     "output_type": "stream",
     "text": [
      "THE TOP 15 WORDS FOR TOPIC #0\n",
      "['extraccion', 'estancar', 'limpiar', 'funcionar', 'normal', 'reglar', 'lts', 'litro', 'sensor', 'tank', 'veeder', 'aguar', 'sump', 'alarmar', 'root']\n",
      "\n",
      "\n",
      "THE TOP 15 WORDS FOR TOPIC #1\n",
      "['coordinar', 'producto', 'dispensador', 'atender', 'predeterminar', 'tapar', 'retirar', 'tambor', 'reinicia', 'disp', 'aguar', 'incidencia', 'ot', 'venta', 'prueba']\n",
      "\n",
      "\n",
      "THE TOP 15 WORDS FOR TOPIC #2\n",
      "['sifon', 'lado', 'reponer', 'filtracion', 'venta', 'prueba', 'filtrar', 'gatillo', 'encore', 'malo', 'lento', 'filtro', 'pistola', 'disp', 'cambiar']\n",
      "\n",
      "\n",
      "THE TOP 15 WORDS FOR TOPIC #3\n",
      "['prueba', 'encore', 'placa', 'extraer', 'despachar', 'probar', 'motor', 'venta', 'ltrs', 'filtro', 'srv', 'lmin', 'reemplazar', 'diesel', 'isla']\n",
      "\n",
      "\n",
      "THE TOP 15 WORDS FOR TOPIC #4\n",
      "['vapor', 'tk', 'root', 'veeder', 'alarmar', 'sensor', 'limpio', 'turnar', 'asignar', 'emergencia', 'cerrar', 'motor', 'lado', 'reponer', 'recuperacion']\n",
      "\n",
      "\n",
      "THE TOP 15 WORDS FOR TOPIC #5\n",
      "['reponer', 'diesel', 'disp', 'calibracion', 'cambiar', 'estanque', 'isla', 'root', 'veeder', 'alarmar', 'tabla', 'tk', 'sensor', 'dispenser', 'reglar']\n",
      "\n",
      "\n",
      "THE TOP 15 WORDS FOR TOPIC #6\n",
      "['flujo', 'normal', 'dispensador', 'turnar', 'cambiar', 'predeterminar', 'reinicia', 'mostrar', 'servicio', 'anomalia', 'condicionar', 'probar', 'equipar', 'venta', 'disp']\n",
      "\n",
      "\n",
      "THE TOP 15 WORDS FOR TOPIC #7\n",
      "['mal', 'tablet', 'stock', 'breakaway', 'probar', 'equipo', 'prueba', 'equipar', 'ltrs', 'extraer', 'placa', 'pistola', 'vapor', 'cambiar', 'lado']\n",
      "\n",
      "\n",
      "THE TOP 15 WORDS FOR TOPIC #8\n",
      "['palanca', 'chequeo', 'presurizacion', 'bombo', 'detectar', 'configurar', 'probar', 'gasolina', 'disipar', 'partir', 'venta', 'manguera', 'fallo', 'pistola', 'isla']\n",
      "\n",
      "\n",
      "THE TOP 15 WORDS FOR TOPIC #9\n",
      "['breakaway', 'pintura', 'aguar', 'accesorio', 'sellar', 'tambor', 'fugar', 'mal', 'tapar', 'calibracion', 'mes', 'cambiar', 'filtro', 'mantencion', 'preventivo']\n",
      "\n",
      "\n"
     ]
    }
   ],
   "source": [
    "for index,topic in enumerate(lda_model1.components_):\n",
    "    print(f'THE TOP 15 WORDS FOR TOPIC #{index}')\n",
    "    print([cv.get_feature_names()[i] for i in topic.argsort()[-15:]])\n",
    "    print('\\n') "
   ]
  },
  {
   "cell_type": "code",
   "execution_count": 57,
   "metadata": {},
   "outputs": [
    {
     "data": {
      "text/html": [
       "\n",
       "<link rel=\"stylesheet\" type=\"text/css\" href=\"https://cdn.rawgit.com/bmabey/pyLDAvis/files/ldavis.v1.0.0.css\">\n",
       "\n",
       "\n",
       "<div id=\"ldavis_el586423856782975446765657351\"></div>\n",
       "<script type=\"text/javascript\">\n",
       "\n",
       "var ldavis_el586423856782975446765657351_data = {\"mdsDat\": {\"x\": [0.043956038707242205, 0.13291281743401626, 0.1589212811568571, -0.06246514600992057, -0.18077951986266802, -0.10234591818342104, 0.025914701724934184, -0.024455614050829202, 0.029545963226115555, -0.021204604142326156], \"y\": [-0.1789288114043376, 0.019736299609235987, 0.09686574311244076, 0.08160994802436909, 0.02683088336681956, -0.015197978220208266, -0.07135535712865586, -0.002260757326519999, 0.01851937707591151, 0.024180652890945023], \"topics\": [1, 2, 3, 4, 5, 6, 7, 8, 9, 10], \"cluster\": [1, 1, 1, 1, 1, 1, 1, 1, 1, 1], \"Freq\": [16.877297552963853, 13.741677065450014, 13.345584489720059, 12.303076969092523, 12.150254667889957, 9.942380839421148, 7.868999403518018, 5.1611853310511355, 4.633221919207484, 3.976321761685807]}, \"tinfo\": {\"Term\": [\"disp\", \"cambiar\", \"lado\", \"isla\", \"venta\", \"vapor\", \"mantencion\", \"pistola\", \"preventivo\", \"filtro\", \"reglar\", \"root\", \"alarmar\", \"aguar\", \"veeder\", \"probar\", \"equipar\", \"diesel\", \"sensor\", \"sump\", \"lento\", \"reponer\", \"tk\", \"reemplazar\", \"recuperacion\", \"extraer\", \"motor\", \"ltrs\", \"fallo\", \"placa\", \"lmin\", \"reemplazar\", \"diesel\", \"srv\", \"despachar\", \"isla\", \"saturar\", \"observar\", \"motor\", \"utilizar\", \"promediar\", \"laboratorio\", \"mostrar\", \"boca\", \"gasolina\", \"flujo\", \"despacho\", \"identificacion\", \"filtro\", \"estancar\", \"ltrs\", \"chequeo\", \"tanque\", \"funcionamiento\", \"recirculacion\", \"verificar\", \"instalar\", \"probar\", \"equipo\", \"fallo\", \"placa\", \"extraer\", \"encore\", \"venta\", \"prueba\", \"lado\", \"dispenser\", \"equipar\", \"vapor\", \"lado\", \"placa\", \"extraer\", \"breakaway\", \"equipo\", \"stock\", \"tablet\", \"ltrs\", \"mal\", \"banco\", \"equipar\", \"nuevo\", \"total\", \"optimas\", \"pistola\", \"anomalia\", \"probar\", \"cambiar\", \"configuracion\", \"prueba\", \"manguera\", \"litro\", \"spill\", \"condicionar\", \"cortar\", \"recuperacion\", \"dispensador\", \"lts\", \"mantencion\", \"venta\", \"lento\", \"malo\", \"filtrar\", \"gatillo\", \"disp\", \"cambiar\", \"encore\", \"filtracion\", \"sifon\", \"filtro\", \"nl\", \"personal\", \"pistola\", \"cliente\", \"petrobras\", \"reponer\", \"limpio\", \"instalar\", \"stock\", \"tablet\", \"ajustar\", \"cortar\", \"prueba\", \"venta\", \"lado\", \"optimas\", \"servicio\", \"mes\", \"derivar\", \"kerosene\", \"funcionamiento\", \"bombo\", \"fallo\", \"condicionar\", \"equipar\", \"manguera\", \"isla\", \"ot\", \"incidencia\", \"atender\", \"cotizacion\", \"reinicia\", \"tambor\", \"predeterminar\", \"dispensador\", \"cold\", \"derivar\", \"plataforma\", \"aprobacion\", \"atendera\", \"retirar\", \"plazo\", \"pintar\", \"contaminar\", \"producto\", \"coordinar\", \"precorte\", \"prueba\", \"tapar\", \"ajustar\", \"aguar\", \"preventivo\", \"extraccion\", \"venta\", \"cortar\", \"mantencion\", \"pintura\", \"flujo\", \"disp\", \"diesel\", \"sump\", \"pistola\", \"sensor\", \"root\", \"tank\", \"sump\", \"alarmar\", \"root\", \"aguar\", \"veeder\", \"litro\", \"limpiar\", \"lts\", \"funcionar\", \"sellar\", \"normal\", \"extraccion\", \"disipar\", \"coordinar\", \"sensor\", \"capacidad\", \"camaras\", \"estancar\", \"limpieza\", \"vencer\", \"periodo\", \"detectar\", \"nuevo\", \"reglar\", \"tapar\", \"recirculacion\", \"estanque\", \"mal\", \"plazo\", \"utilizar\", \"verificar\", \"equipar\", \"tabla\", \"reglar\", \"dispenser\", \"tk\", \"estanque\", \"kerosene\", \"sensor\", \"tanque\", \"pintar\", \"contar\", \"calibracion\", \"boca\", \"fabricacion\", \"calibex\", \"funcionar\", \"configuracion\", \"corresponder\", \"normal\", \"descargar\", \"servicio\", \"spill\", \"veeder\", \"identificacion\", \"alarmar\", \"reponer\", \"verificar\", \"root\", \"limpiar\", \"petrobras\", \"instalar\", \"sump\", \"isla\", \"diesel\", \"disp\", \"cambiar\", \"tablet\", \"fallo\", \"manguera\", \"partir\", \"configurar\", \"bombo\", \"palanca\", \"programacion\", \"presurizacion\", \"retencion\", \"fallo\", \"detectar\", \"disipar\", \"chequeo\", \"funcionamiento\", \"gasolina\", \"optimas\", \"accesorio\", \"fugar\", \"isla\", \"condicionar\", \"precorte\", \"despacho\", \"verificar\", \"recirculacion\", \"pistola\", \"ajustar\", \"filtracion\", \"producto\", \"cortar\", \"probar\", \"venta\", \"srv\", \"reemplazar\", \"equipar\", \"cambiar\", \"asignar\", \"recuperacion\", \"turnar\", \"emergencia\", \"cerrar\", \"limpio\", \"reponer\", \"motor\", \"nl\", \"tk\", \"lado\", \"sensor\", \"vapor\", \"veeder\", \"alarmar\", \"root\", \"srv\", \"fabricacion\", \"extraer\", \"encore\", \"fugar\", \"contaminar\", \"aprobacion\", \"plataforma\", \"ltrs\", \"palanca\", \"limpieza\", \"configuracion\", \"pintura\", \"kerosene\", \"total\", \"cambiar\", \"incidencia\", \"reglar\", \"ot\", \"mantencion\", \"mal\", \"equipo\", \"reemplazar\", \"servicio\", \"anomalia\", \"mostrar\", \"predeterminar\", \"condicionar\", \"equipar\", \"probar\", \"reinicia\", \"turnar\", \"venta\", \"emergencia\", \"disp\", \"dispensador\", \"flujo\", \"normal\", \"laboratorio\", \"aprobacion\", \"mes\", \"accesorio\", \"calibex\", \"fugar\", \"contar\", \"corresponder\", \"camaras\", \"pintura\", \"capacidad\", \"plataforma\", \"programacion\", \"retencion\", \"total\", \"boca\", \"asignar\", \"gatillo\", \"cambiar\", \"malo\", \"filtrar\", \"optimas\", \"observar\", \"precorte\", \"coordinar\", \"ltrs\", \"pistola\", \"lento\", \"tk\", \"diesel\", \"litro\", \"retirar\", \"preventivo\", \"mantencion\", \"mes\", \"accesorio\", \"fugar\", \"pintura\", \"calibracion\", \"camaras\", \"limpieza\", \"descargar\", \"sellar\", \"tapar\", \"mal\", \"tambor\", \"retirar\", \"breakaway\", \"filtro\", \"reemplazar\", \"programacion\", \"fabricacion\", \"contar\", \"sensor\", \"retencion\", \"presurizacion\", \"aguar\", \"plataforma\", \"cold\", \"derivar\", \"configurar\", \"kerosene\", \"cambiar\", \"plazo\", \"limpio\", \"precorte\", \"lado\", \"vapor\", \"tablet\", \"extraer\", \"ltrs\", \"probar\", \"pistola\", \"tanque\", \"normal\", \"reponer\", \"prueba\"], \"Freq\": [24.0, 37.0, 20.0, 22.0, 20.0, 13.0, 7.0, 21.0, 7.0, 16.0, 12.0, 15.0, 14.0, 13.0, 13.0, 12.0, 12.0, 17.0, 13.0, 12.0, 9.0, 8.0, 8.0, 11.0, 5.0, 11.0, 7.0, 12.0, 9.0, 11.0, 6.742416033609834, 7.901753226868291, 11.88811473041133, 6.63984176804125, 3.77892067654364, 13.204595741008415, 2.4216571118736914, 2.3763247425519824, 3.9427319615332364, 2.8156404642110284, 1.7060568779798229, 1.6654817715889618, 2.4099320114841847, 2.3755250330201245, 2.6192716912525404, 2.452623486767468, 1.7187108794659707, 1.6848418202899824, 6.097922035924727, 2.3725590652073754, 4.381788680116708, 1.749355304634644, 1.7366255677157483, 1.6895010789312925, 1.647116068039043, 2.497652199926004, 1.7233316829605936, 3.8172593362113068, 2.374604569767796, 2.6608934337397674, 3.0309504226533663, 3.1035964228972763, 2.999897041746604, 4.116608545939543, 2.8652523251075186, 2.3994506811290637, 1.7475430046868918, 1.7400380967178348, 10.013697076506256, 12.367799377455249, 6.366221514254067, 6.25508103304381, 3.7163609398935487, 3.993235604823467, 3.562817286183375, 3.5296975126870813, 5.696063868522906, 2.449350482036512, 1.8146919826629255, 4.963614640443854, 1.7567665926100346, 1.4194232660727204, 1.7608383359751012, 6.853358817058841, 1.4977439575376892, 3.7346257262650857, 10.510189085366559, 0.9433492519856616, 4.960173301754828, 1.8017551396934437, 1.7927326714385865, 0.9692755196314029, 1.5354549713461194, 1.0965731560373542, 1.1412835765588942, 1.0575037675927936, 0.935415091243204, 0.9748219752947812, 1.058694145594224, 7.215834777100869, 5.775412649044255, 4.999971536925227, 5.344208633720305, 14.148276060193984, 20.249145347030097, 5.72491244085117, 2.3586265042881247, 1.693202597110911, 7.264120994050331, 1.6845849912587163, 1.6805387657647395, 7.695291257522977, 1.5844123748331975, 1.6493595920773554, 2.309346260477298, 0.9623810846008242, 1.2720529056759, 1.3856340746072364, 1.4066903491515452, 0.9319124304982765, 0.9588886334967945, 2.8005795671044047, 2.3651691302776743, 2.2648448569523203, 0.42598115620890853, 0.31423260848376516, 0.24768796051108738, 0.26516281576705236, 0.2817491956500833, 0.3569497694157608, 0.2687133841723773, 0.4863622904601828, 0.4146014865657207, 0.5358101030730875, 0.4028283588488922, 0.535897153718035, 5.092011019534629, 5.07681779191997, 2.7534829342976734, 2.1444904021277296, 3.6954210740433457, 2.859419947259542, 2.7694512788267796, 2.729578707271892, 1.5158754526985758, 1.4970887597697895, 1.489454875707987, 1.5000987571031843, 1.451172279757175, 2.7935708469425022, 1.7232553637083603, 2.130277432571517, 1.3056312666592127, 2.3494646133132178, 2.1496388888002187, 1.5103153826737985, 6.262821793846273, 2.7932374867632226, 1.4975232005017345, 4.133430167771746, 2.0906886570305336, 1.4589749034329966, 5.83461491632823, 1.5557821214794265, 2.1078570563060817, 0.8167816060761112, 1.4934048538027886, 3.7029425106712095, 2.125380469390754, 1.624576644949282, 1.5460863748505247, 1.5124954062575926, 1.5026273055239143, 5.331875595418448, 7.270300507959728, 8.032666336885354, 8.21809011722286, 7.120953295267331, 7.119023214725935, 3.793715882956911, 2.604540594993085, 2.88868864841762, 2.6075430346605506, 1.8688244078163623, 2.6441884466794985, 1.9598196594334722, 1.949831531618508, 1.9334097015934248, 4.19802373729684, 1.1840390858314849, 1.0841360491455696, 1.9969943939656098, 1.0390866342908545, 1.0885031740172302, 1.0652703889754767, 1.13748167831414, 1.1134031389354349, 2.664257812974038, 1.9062646638289555, 1.1018420676446994, 1.0675470330732604, 1.0623962469347157, 0.7890938527542495, 1.058778891999983, 1.175026670450411, 1.1177475352088058, 3.925092760492022, 7.1833944591504855, 4.370307037939716, 4.284032465442973, 2.2980543328302643, 1.5499229336543996, 4.330995503074365, 1.6192126286547148, 1.6124981246751353, 1.0526795165798009, 1.7663058947288528, 1.6045916577440156, 0.9681577328402213, 0.986477214692579, 1.596051135847367, 0.9529212374110929, 0.9284113681330555, 1.6124456873151158, 0.9360941921830283, 0.8888425825349361, 0.9347827469037973, 2.9819761835240146, 0.9322811412058268, 3.0098592689101555, 1.6356221432387594, 1.620904645697344, 2.9757452270022413, 0.9351714392022931, 0.8661244869419753, 0.9157374134846932, 1.6160952886662936, 2.5597472263947734, 1.6698582512899642, 1.7218486039734422, 1.7717621898186957, 0.9421925366919495, 0.9436960615118516, 3.2524951064743557, 2.1474499808527403, 1.49133937018504, 1.4805764568788478, 1.465682624118257, 1.4588474109605605, 1.475871507925374, 1.4584230316790252, 3.597844889877009, 1.482670578749782, 1.9459488689529965, 1.4680053224890266, 1.4468805611041267, 1.836235634972703, 1.3873610249674266, 0.8071486123493937, 0.7943787871694774, 4.455873538753806, 1.3928199006279782, 0.79946532941061, 0.8177248165090936, 1.4294572065730717, 0.8846675060721729, 3.7002248214116027, 0.7713453817011005, 0.7348391276044202, 0.8982298880681341, 0.742228112730983, 1.6007677866384191, 2.5291823916187037, 1.0028148124468652, 0.9185325611790536, 0.8418699667480652, 0.8196385020822037, 1.7244414559882357, 2.3498261487725314, 1.7201982099928828, 1.7347437685734006, 1.7620198313423054, 1.2899943724969805, 2.340006547267047, 1.801329759359074, 0.7257521376460478, 1.2427729656131052, 2.321785660875898, 1.2750124497304978, 1.2237147774310406, 1.2677302798917685, 1.269344274104333, 1.2517622540505278, 0.7409789878412548, 0.24109781382132672, 0.7664803426660796, 0.7348797854530573, 0.21394575176431893, 0.21323255602651556, 0.21899235417021962, 0.21549595535346433, 0.7645430569876797, 0.20918987456637184, 0.20796228705751726, 0.20653709622056882, 0.19244582768759144, 0.21238318458471683, 0.20861817561106238, 0.7719194280147786, 0.2887612380253069, 0.36014335684245985, 0.284251361693065, 0.22977477328797324, 0.22181016324615274, 0.2232149262063007, 0.2193927716412848, 1.2694629574705867, 1.4219771494713576, 1.2572264662744397, 1.2360889918001767, 1.432322597667457, 2.4413649423803157, 2.2859271190247177, 1.2445398961538368, 0.722095041628409, 3.3460208283714348, 0.6975908345560099, 3.561845463844708, 0.7206404719797734, 0.7107588519091068, 0.717661933682057, 0.23174048483289406, 0.19561308393690421, 0.17652537437248328, 0.17982965563604486, 0.19750362692281842, 0.18172705491337307, 0.18850962488206505, 0.19528443535853462, 0.18354038691390684, 0.171505474073113, 0.19302473130750536, 0.17706199678556742, 0.17673974120078104, 0.18046621744355282, 0.18864712690617477, 0.2586005197950906, 0.19065887374165857, 0.30865676736073777, 0.8851804425033905, 0.30636901236655195, 0.25396135649226725, 0.2126439989076507, 0.1995204097467096, 0.1944104735507949, 0.21056114721918714, 0.25302349257533574, 0.28636851261307145, 0.2318020137412619, 0.21852390214600825, 0.22982755524415796, 0.20248171991272002, 0.20084333010520541, 2.944582456005759, 2.9425722552732214, 1.1163131207320791, 0.6496591055311093, 0.6605594311033041, 0.6432732481526328, 1.1144684179614517, 0.6350514585297904, 0.6362113473038727, 0.6378464513764623, 0.6532069458741216, 1.1041840604307434, 0.6609250870545867, 0.6549680974987108, 0.6338642915041515, 0.6429427681069696, 1.183913270714351, 0.6309076224128153, 0.17532608819263265, 0.174193110373634, 0.17405349343521676, 0.6404150193833948, 0.17245602897218912, 0.17111611796046958, 0.6475750655389879, 0.1626811666187552, 0.161591233359931, 0.15975922735819878, 0.16377437885156226, 0.16940852795002936, 1.1807588216133396, 0.18755894589139588, 0.17659338180021877, 0.17699736348409636, 0.280949475126337, 0.2367731049746025, 0.2025268713755154, 0.22026896705296048, 0.22208368903814166, 0.2135491128084716, 0.22628865192560874, 0.18383246695154737, 0.18638251349604712, 0.18718817168278307, 0.1890254956746026], \"Total\": [24.0, 37.0, 20.0, 22.0, 20.0, 13.0, 7.0, 21.0, 7.0, 16.0, 12.0, 15.0, 14.0, 13.0, 13.0, 12.0, 12.0, 17.0, 13.0, 12.0, 9.0, 8.0, 8.0, 11.0, 5.0, 11.0, 7.0, 12.0, 9.0, 11.0, 8.964327498667814, 11.405292252998011, 17.314214448113272, 10.070446054722636, 5.788044246915219, 22.10949307645026, 4.459362739175772, 4.470161590453552, 7.647895348956916, 5.929790376316106, 3.725072962187113, 3.6523259910391093, 5.465276313222793, 5.708423535499934, 6.369616874717015, 6.201092995007464, 4.380945424319021, 4.43504274447361, 16.077715150697372, 6.695385790023206, 12.475928309458451, 5.040657625817737, 5.100232354729715, 5.007220567457018, 5.080154556701525, 8.031553514687669, 5.824728663617573, 12.931369502808892, 8.164403179535514, 9.175549837798744, 11.112677733621606, 11.71110176266328, 11.386227228885762, 20.470964462659193, 18.92518898034863, 20.80440778970807, 7.876273106577277, 12.49393529736855, 13.169053652697237, 20.80440778970807, 11.112677733621606, 11.71110176266328, 7.091082520860796, 8.164403179535514, 7.298359601612918, 7.4124937133666196, 12.475928309458451, 5.719981760899139, 4.548431801284249, 12.49393529736855, 4.53026241854118, 3.795910637900355, 5.114139292385768, 21.306568261437796, 4.75947652771759, 12.931369502808892, 37.968506891908895, 3.588041250384975, 18.92518898034863, 7.07462502412979, 7.646281236808447, 4.314663477506488, 7.322027135892547, 5.602953099832996, 5.917167871658302, 6.106441017391572, 6.016602427057895, 7.7384724883911895, 20.470964462659193, 9.381753411395025, 7.896130941553357, 7.2081294833115415, 7.7896403164558485, 24.85165980432184, 37.968506891908895, 11.386227228885762, 4.962751642297745, 3.673320223158408, 16.077715150697372, 4.2342984346504835, 4.441343398218829, 21.306568261437796, 4.387428597376077, 5.03690991936857, 8.070395345101193, 4.103188342339638, 5.824728663617573, 7.298359601612918, 7.4124937133666196, 4.941014684763922, 5.602953099832996, 18.92518898034863, 20.470964462659193, 20.80440778970807, 5.114139292385768, 4.033289688071457, 3.1981733513253072, 3.4642060601601994, 3.701311419207043, 5.007220567457018, 3.5362308255754686, 9.175549837798744, 7.322027135892547, 12.49393529736855, 7.07462502412979, 22.10949307645026, 7.324667914720454, 7.366662118007155, 4.820115985895952, 4.174231670887098, 7.199276221453391, 5.990486201397038, 5.8531201031662015, 6.106441017391572, 3.500106935725608, 3.4642060601601994, 3.469949610664805, 3.4951159868593717, 3.4835400667464835, 6.764692906356579, 4.349842348267987, 5.437708448530578, 3.40031436566143, 6.261031661334611, 5.815638525684024, 4.227973276704483, 18.92518898034863, 8.679156965894315, 4.941014684763922, 13.746951676249823, 7.0163402319218635, 5.108655723192348, 20.470964462659193, 5.602953099832996, 7.7384724883911895, 3.34919128433575, 6.201092995007464, 24.85165980432184, 17.314214448113272, 12.062361674024505, 21.306568261437796, 13.127142393486098, 15.289259935598178, 7.663385950306, 12.062361674024505, 14.729635256049296, 15.289259935598178, 13.746951676249823, 13.816005147112254, 7.646281236808447, 5.300505911721713, 6.016602427057895, 5.924317890684876, 4.396372336058039, 6.551293291209275, 5.108655723192348, 5.766021046880254, 5.815638525684024, 13.127142393486098, 3.7715169322467235, 3.500544574521424, 6.695385790023206, 3.56950094888722, 3.7416925432134494, 3.6931340639116996, 4.323671735109806, 4.53026241854118, 12.080082782498213, 8.679156965894315, 5.080154556701525, 5.082992289633917, 5.719981760899139, 4.349842348267987, 5.929790376316106, 8.031553514687669, 12.49393529736855, 6.253767183897845, 12.080082782498213, 7.876273106577277, 8.971686452264045, 5.082992289633917, 3.701311419207043, 13.127142393486098, 5.100232354729715, 5.437708448530578, 3.5657436908518463, 6.031606135861715, 5.708423535499934, 3.5580880938919894, 3.6364339492878934, 5.924317890684876, 3.588041250384975, 3.7070778037808156, 6.551293291209275, 4.036748872538878, 4.033289688071457, 4.314663477506488, 13.816005147112254, 4.43504274447361, 14.729635256049296, 8.070395345101193, 8.031553514687669, 15.289259935598178, 5.300505911721713, 5.03690991936857, 5.824728663617573, 12.062361674024505, 22.10949307645026, 17.314214448113272, 24.85165980432184, 37.968506891908895, 7.4124937133666196, 9.175549837798744, 7.07462502412979, 4.843902770484843, 3.5517109266212428, 3.5362308255754686, 3.5228799762360685, 3.5141994772563674, 3.5754978752509006, 3.5928378952354616, 9.175549837798744, 4.323671735109806, 5.766021046880254, 5.040657625817737, 5.007220567457018, 6.369616874717015, 5.114139292385768, 3.278598959390572, 3.4029974238138108, 22.10949307645026, 7.322027135892547, 4.227973276704483, 4.380945424319021, 8.031553514687669, 5.080154556701525, 21.306568261437796, 4.941014684763922, 4.962751642297745, 6.261031661334611, 5.602953099832996, 12.931369502808892, 20.470964462659193, 10.070446054722636, 11.405292252998011, 12.49393529736855, 37.968506891908895, 3.891182433833802, 5.917167871658302, 4.412381407973075, 4.450575362860391, 4.542658489138163, 4.103188342339638, 8.070395345101193, 7.647895348956916, 4.2342984346504835, 8.971686452264045, 20.80440778970807, 13.127142393486098, 13.169053652697237, 13.816005147112254, 14.729635256049296, 15.289259935598178, 10.070446054722636, 3.5580880938919894, 11.71110176266328, 11.386227228885762, 3.4029974238138108, 3.40031436566143, 3.4951159868593717, 3.469949610664805, 12.475928309458451, 3.5228799762360685, 3.56950094888722, 3.588041250384975, 3.34919128433575, 3.701311419207043, 3.795910637900355, 37.968506891908895, 7.366662118007155, 12.080082782498213, 7.324667914720454, 7.7384724883911895, 5.719981760899139, 8.164403179535514, 11.405292252998011, 4.033289688071457, 4.75947652771759, 5.465276313222793, 5.8531201031662015, 7.322027135892547, 12.49393529736855, 12.931369502808892, 7.199276221453391, 4.412381407973075, 20.470964462659193, 4.450575362860391, 24.85165980432184, 6.106441017391572, 6.201092995007464, 6.551293291209275, 3.6523259910391093, 3.4951159868593717, 3.1981733513253072, 3.278598959390572, 3.6364339492878934, 3.4029974238138108, 3.5657436908518463, 3.7070778037808156, 3.500544574521424, 3.34919128433575, 3.7715169322467235, 3.469949610664805, 3.5141994772563674, 3.5928378952354616, 3.795910637900355, 5.708423535499934, 3.891182433833802, 7.7896403164558485, 37.968506891908895, 7.896130941553357, 7.2081294833115415, 5.114139292385768, 4.470161590453552, 4.227973276704483, 5.815638525684024, 12.475928309458451, 21.306568261437796, 9.381753411395025, 8.971686452264045, 17.314214448113272, 7.646281236808447, 6.764692906356579, 7.0163402319218635, 7.7384724883911895, 3.1981733513253072, 3.278598959390572, 3.4029974238138108, 3.34919128433575, 6.031606135861715, 3.500544574521424, 3.56950094888722, 4.036748872538878, 4.396372336058039, 8.679156965894315, 5.719981760899139, 5.990486201397038, 6.764692906356579, 7.091082520860796, 16.077715150697372, 11.405292252998011, 3.5141994772563674, 3.5580880938919894, 3.5657436908518463, 13.127142393486098, 3.5928378952354616, 3.5754978752509006, 13.746951676249823, 3.469949610664805, 3.500106935725608, 3.4642060601601994, 3.5517109266212428, 3.701311419207043, 37.968506891908895, 4.349842348267987, 4.103188342339638, 4.227973276704483, 20.80440778970807, 13.169053652697237, 7.4124937133666196, 11.71110176266328, 12.475928309458451, 12.931369502808892, 21.306568261437796, 5.100232354729715, 6.551293291209275, 8.070395345101193, 18.92518898034863], \"Category\": [\"Default\", \"Default\", \"Default\", \"Default\", \"Default\", \"Default\", \"Default\", \"Default\", \"Default\", \"Default\", \"Default\", \"Default\", \"Default\", \"Default\", \"Default\", \"Default\", \"Default\", \"Default\", \"Default\", \"Default\", \"Default\", \"Default\", \"Default\", \"Default\", \"Default\", \"Default\", \"Default\", \"Default\", \"Default\", \"Default\", \"Topic1\", \"Topic1\", \"Topic1\", \"Topic1\", \"Topic1\", \"Topic1\", \"Topic1\", \"Topic1\", \"Topic1\", \"Topic1\", \"Topic1\", \"Topic1\", \"Topic1\", \"Topic1\", \"Topic1\", \"Topic1\", \"Topic1\", \"Topic1\", \"Topic1\", \"Topic1\", \"Topic1\", \"Topic1\", \"Topic1\", \"Topic1\", \"Topic1\", \"Topic1\", \"Topic1\", \"Topic1\", \"Topic1\", \"Topic1\", \"Topic1\", \"Topic1\", \"Topic1\", \"Topic1\", \"Topic1\", \"Topic1\", \"Topic1\", \"Topic1\", \"Topic2\", \"Topic2\", \"Topic2\", \"Topic2\", \"Topic2\", \"Topic2\", \"Topic2\", \"Topic2\", \"Topic2\", \"Topic2\", \"Topic2\", \"Topic2\", \"Topic2\", \"Topic2\", \"Topic2\", \"Topic2\", \"Topic2\", \"Topic2\", \"Topic2\", \"Topic2\", \"Topic2\", \"Topic2\", \"Topic2\", \"Topic2\", \"Topic2\", \"Topic2\", \"Topic2\", \"Topic2\", \"Topic2\", \"Topic2\", \"Topic2\", \"Topic3\", \"Topic3\", \"Topic3\", \"Topic3\", \"Topic3\", \"Topic3\", \"Topic3\", \"Topic3\", \"Topic3\", \"Topic3\", \"Topic3\", \"Topic3\", \"Topic3\", \"Topic3\", \"Topic3\", \"Topic3\", \"Topic3\", \"Topic3\", \"Topic3\", \"Topic3\", \"Topic3\", \"Topic3\", \"Topic3\", \"Topic3\", \"Topic3\", \"Topic3\", \"Topic3\", \"Topic3\", \"Topic3\", \"Topic3\", \"Topic3\", \"Topic3\", \"Topic3\", \"Topic3\", \"Topic3\", \"Topic3\", \"Topic3\", \"Topic4\", \"Topic4\", \"Topic4\", \"Topic4\", \"Topic4\", \"Topic4\", \"Topic4\", \"Topic4\", \"Topic4\", \"Topic4\", \"Topic4\", \"Topic4\", \"Topic4\", \"Topic4\", \"Topic4\", \"Topic4\", \"Topic4\", \"Topic4\", \"Topic4\", \"Topic4\", \"Topic4\", \"Topic4\", \"Topic4\", \"Topic4\", \"Topic4\", \"Topic4\", \"Topic4\", \"Topic4\", \"Topic4\", \"Topic4\", \"Topic4\", \"Topic4\", \"Topic4\", \"Topic4\", \"Topic4\", \"Topic4\", \"Topic4\", \"Topic5\", \"Topic5\", \"Topic5\", \"Topic5\", \"Topic5\", \"Topic5\", \"Topic5\", \"Topic5\", \"Topic5\", \"Topic5\", \"Topic5\", \"Topic5\", \"Topic5\", \"Topic5\", \"Topic5\", \"Topic5\", \"Topic5\", \"Topic5\", \"Topic5\", \"Topic5\", \"Topic5\", \"Topic5\", \"Topic5\", \"Topic5\", \"Topic5\", \"Topic5\", \"Topic5\", \"Topic5\", \"Topic5\", \"Topic5\", \"Topic5\", \"Topic5\", \"Topic5\", \"Topic6\", \"Topic6\", \"Topic6\", \"Topic6\", \"Topic6\", \"Topic6\", \"Topic6\", \"Topic6\", \"Topic6\", \"Topic6\", \"Topic6\", \"Topic6\", \"Topic6\", \"Topic6\", \"Topic6\", \"Topic6\", \"Topic6\", \"Topic6\", \"Topic6\", \"Topic6\", \"Topic6\", \"Topic6\", \"Topic6\", \"Topic6\", \"Topic6\", \"Topic6\", \"Topic6\", \"Topic6\", \"Topic6\", \"Topic6\", \"Topic6\", \"Topic6\", \"Topic6\", \"Topic6\", \"Topic6\", \"Topic6\", \"Topic6\", \"Topic7\", \"Topic7\", \"Topic7\", \"Topic7\", \"Topic7\", \"Topic7\", \"Topic7\", \"Topic7\", \"Topic7\", \"Topic7\", \"Topic7\", \"Topic7\", \"Topic7\", \"Topic7\", \"Topic7\", \"Topic7\", \"Topic7\", \"Topic7\", \"Topic7\", \"Topic7\", \"Topic7\", \"Topic7\", \"Topic7\", \"Topic7\", \"Topic7\", \"Topic7\", \"Topic7\", \"Topic7\", \"Topic7\", \"Topic7\", \"Topic7\", \"Topic7\", \"Topic7\", \"Topic7\", \"Topic8\", \"Topic8\", \"Topic8\", \"Topic8\", \"Topic8\", \"Topic8\", \"Topic8\", \"Topic8\", \"Topic8\", \"Topic8\", \"Topic8\", \"Topic8\", \"Topic8\", \"Topic8\", \"Topic8\", \"Topic8\", \"Topic8\", \"Topic8\", \"Topic8\", \"Topic8\", \"Topic8\", \"Topic8\", \"Topic8\", \"Topic8\", \"Topic8\", \"Topic8\", \"Topic8\", \"Topic8\", \"Topic8\", \"Topic8\", \"Topic8\", \"Topic8\", \"Topic8\", \"Topic8\", \"Topic8\", \"Topic8\", \"Topic8\", \"Topic8\", \"Topic8\", \"Topic9\", \"Topic9\", \"Topic9\", \"Topic9\", \"Topic9\", \"Topic9\", \"Topic9\", \"Topic9\", \"Topic9\", \"Topic9\", \"Topic9\", \"Topic9\", \"Topic9\", \"Topic9\", \"Topic9\", \"Topic9\", \"Topic9\", \"Topic9\", \"Topic9\", \"Topic9\", \"Topic9\", \"Topic9\", \"Topic9\", \"Topic9\", \"Topic9\", \"Topic9\", \"Topic9\", \"Topic9\", \"Topic9\", \"Topic9\", \"Topic9\", \"Topic9\", \"Topic9\", \"Topic9\", \"Topic9\", \"Topic9\", \"Topic9\", \"Topic9\", \"Topic9\", \"Topic9\", \"Topic9\", \"Topic9\", \"Topic9\", \"Topic9\", \"Topic9\", \"Topic9\", \"Topic9\", \"Topic10\", \"Topic10\", \"Topic10\", \"Topic10\", \"Topic10\", \"Topic10\", \"Topic10\", \"Topic10\", \"Topic10\", \"Topic10\", \"Topic10\", \"Topic10\", \"Topic10\", \"Topic10\", \"Topic10\", \"Topic10\", \"Topic10\", \"Topic10\", \"Topic10\", \"Topic10\", \"Topic10\", \"Topic10\", \"Topic10\", \"Topic10\", \"Topic10\", \"Topic10\", \"Topic10\", \"Topic10\", \"Topic10\", \"Topic10\", \"Topic10\", \"Topic10\", \"Topic10\", \"Topic10\", \"Topic10\", \"Topic10\", \"Topic10\", \"Topic10\", \"Topic10\", \"Topic10\", \"Topic10\", \"Topic10\", \"Topic10\", \"Topic10\", \"Topic10\"], \"logprob\": [30.0, 29.0, 28.0, 27.0, 26.0, 25.0, 24.0, 23.0, 22.0, 21.0, 20.0, 19.0, 18.0, 17.0, 16.0, 15.0, 14.0, 13.0, 12.0, 11.0, 10.0, 9.0, 8.0, 7.0, 6.0, 5.0, 4.0, 3.0, 2.0, 1.0, -3.237, -3.0783, -2.6699, -3.2523, -3.816, -2.5648, -4.261, -4.2799, -3.7735, -4.1102, -4.6112, -4.6353, -4.2658, -4.2802, -4.1825, -4.2483, -4.6038, -4.6237, -3.3375, -4.2814, -3.668, -4.5862, -4.5935, -4.621, -4.6464, -4.2301, -4.6012, -3.8059, -4.2806, -4.1667, -4.0365, -4.0129, -4.0468, -3.7304, -4.0928, -4.2702, -4.5872, -4.5915, -2.6359, -2.4248, -3.0889, -3.1065, -3.6271, -3.5553, -3.6693, -3.6787, -3.2001, -4.0441, -4.344, -3.3377, -4.3764, -4.5896, -4.3741, -3.0151, -4.5359, -3.6222, -2.5875, -4.9982, -3.3384, -4.3511, -4.3561, -4.9711, -4.511, -4.8477, -4.8077, -4.884, -5.0066, -4.9654, -4.8828, -2.9343, -3.157, -3.3012, -3.2346, -2.261, -1.9025, -3.1658, -4.0525, -4.384, -2.9277, -4.3891, -4.3915, -2.87, -4.4504, -4.4102, -4.0737, -4.949, -4.67, -4.5845, -4.5694, -4.9811, -4.9526, -3.8808, -4.0498, -4.0931, -5.764, -6.0682, -6.3062, -6.238, -6.1774, -5.9408, -6.2247, -5.6314, -5.7911, -5.5346, -5.8199, -5.5344, -3.2016, -3.2046, -3.8164, -4.0664, -3.5222, -3.7787, -3.8106, -3.8251, -4.4133, -4.4258, -4.4309, -4.4238, -4.4569, -3.802, -4.2851, -4.073, -4.5626, -3.9751, -4.064, -4.417, -2.9947, -3.8021, -4.4255, -3.4102, -4.0918, -4.4516, -3.0655, -4.3873, -4.0836, -5.0317, -4.4282, -3.5202, -4.0753, -4.344, -4.3936, -4.4155, -4.4221, -3.1431, -2.833, -2.7333, -2.7105, -2.8538, -2.854, -3.4834, -3.8595, -3.756, -3.8584, -4.1915, -3.8444, -4.1439, -4.149, -4.1575, -3.3822, -4.6479, -4.736, -4.1251, -4.7785, -4.732, -4.7536, -4.688, -4.7094, -3.8369, -4.1716, -4.7198, -4.7514, -4.7563, -5.0537, -4.7597, -4.6555, -4.7055, -3.2489, -2.6445, -3.1414, -3.1614, -3.7842, -4.178, -3.1505, -4.1343, -4.1385, -4.5649, -4.0474, -4.1434, -4.6486, -4.6299, -4.1487, -4.6645, -4.6905, -4.1385, -4.6823, -4.7341, -4.6837, -3.5237, -4.6864, -3.5144, -4.1242, -4.1333, -3.5258, -4.6833, -4.76, -4.7043, -4.1362, -3.6763, -4.1035, -4.0729, -4.0443, -4.6758, -4.6742, -3.203, -3.6181, -3.9827, -3.9899, -4.0001, -4.0047, -3.9931, -4.005, -3.102, -3.9885, -3.7166, -3.9985, -4.013, -3.7747, -4.055, -4.5966, -4.6126, -2.8882, -4.051, -4.6062, -4.5836, -4.0251, -4.5049, -3.074, -4.642, -4.6905, -4.4897, -4.6805, -3.9119, -3.4545, -4.3796, -4.4674, -4.5545, -4.5813, -3.4157, -3.1063, -3.4182, -3.4097, -3.3941, -3.706, -3.1105, -3.3721, -4.2812, -3.7433, -3.1183, -3.7177, -3.7587, -3.7234, -3.7221, -3.7361, -4.2604, -5.3832, -4.2266, -4.2687, -5.5026, -5.506, -5.4793, -5.4954, -4.2291, -5.5251, -5.531, -5.5379, -5.6085, -5.51, -5.5279, -4.2195, -5.2028, -4.9819, -5.2185, -5.4313, -5.4665, -5.4602, -5.4775, -3.6141, -3.5006, -3.6238, -3.6407, -3.4934, -2.9601, -3.0259, -3.6339, -4.1783, -2.6449, -4.2128, -2.5824, -4.1803, -4.1941, -4.1845, -5.3148, -5.4843, -5.587, -5.5684, -5.4747, -5.5579, -5.5213, -5.486, -5.548, -5.6158, -5.4976, -5.584, -5.5858, -5.5649, -5.5206, -5.2052, -5.51, -5.0282, -3.9747, -5.0357, -5.2233, -5.4008, -5.4645, -5.4905, -5.4107, -5.227, -5.1032, -5.3146, -5.3736, -5.3231, -5.4498, -5.4579, -2.6198, -2.6205, -3.5898, -4.1311, -4.1145, -4.141, -3.5914, -4.1538, -4.152, -4.1495, -4.1257, -3.6007, -4.1139, -4.123, -4.1557, -4.1415, -3.531, -4.1604, -5.4409, -5.4474, -5.4482, -4.1454, -5.4574, -5.4652, -4.1343, -5.5158, -5.5225, -5.5339, -5.5091, -5.4752, -3.5336, -5.3735, -5.4337, -5.4314, -4.9694, -5.1405, -5.2967, -5.2127, -5.2045, -5.2437, -5.1857, -5.3935, -5.3798, -5.3754, -5.3657], \"loglift\": [30.0, 29.0, 28.0, 27.0, 26.0, 25.0, 24.0, 23.0, 22.0, 21.0, 20.0, 19.0, 18.0, 17.0, 16.0, 15.0, 14.0, 13.0, 12.0, 11.0, 10.0, 9.0, 8.0, 7.0, 6.0, 5.0, 4.0, 3.0, 2.0, 1.0, 1.4944, 1.4122, 1.4032, 1.3627, 1.3528, 1.2638, 1.1686, 1.1473, 1.1166, 1.0344, 0.9983, 0.994, 0.9604, 0.9025, 0.8906, 0.8516, 0.8435, 0.8113, 0.8097, 0.7418, 0.7329, 0.7209, 0.7019, 0.6928, 0.6529, 0.6112, 0.5613, 0.5591, 0.5442, 0.5413, 0.48, 0.4512, 0.4454, 0.1752, -0.1086, -0.3807, 0.2736, -0.1921, 1.7108, 1.4647, 1.4277, 1.3576, 1.3386, 1.2696, 1.2676, 1.2428, 1.2007, 1.1366, 1.0659, 1.0616, 1.0374, 1.0011, 0.9185, 0.8505, 0.8286, 0.7427, 0.7003, 0.6488, 0.6457, 0.617, 0.5343, 0.4915, 0.4227, 0.3536, 0.339, 0.2313, 0.1234, -0.087, -0.9772, 1.7515, 1.7012, 1.6482, 1.6372, 1.4507, 1.3853, 1.3264, 1.2701, 1.2395, 1.2195, 1.0923, 1.0421, 0.9956, 0.9955, 0.8976, 0.7627, 0.5639, 0.4925, 0.3525, 0.3521, 0.3459, 0.2487, 0.1033, -0.1442, -0.2037, -0.4714, -0.5382, -0.5442, -0.5559, -0.5614, -0.6271, -0.5632, -0.9234, -0.8573, -1.1352, -0.8518, -1.7058, 1.7317, 1.723, 1.5354, 1.4293, 1.4284, 1.3558, 1.347, 1.2901, 1.2585, 1.2564, 1.2496, 1.2495, 1.2196, 1.2109, 1.1694, 1.1582, 1.1381, 1.1152, 1.1001, 1.0659, 0.9895, 0.9616, 0.9016, 0.8936, 0.8846, 0.8421, 0.8401, 0.814, 0.7948, 0.6842, 0.6717, 0.1915, -0.0023, 0.0905, -0.528, -0.0656, -0.2246, 1.7451, 1.6015, 1.5015, 1.487, 1.45, 1.4448, 1.4069, 1.3973, 1.3741, 1.2872, 1.2523, 1.2005, 1.1497, 1.0236, 1.0066, 0.9678, 0.9493, 0.9357, 0.898, 0.8737, 0.8731, 0.8646, 0.7725, 0.7045, 0.5962, 0.592, 0.5795, 0.5473, 0.4244, 0.4008, 0.3849, 0.1857, -0.3061, 1.8426, 1.7886, 1.7193, 1.5692, 1.5145, 1.4379, 1.1995, 1.161, 1.0928, 1.0883, 1.0802, 1.0393, 1.0068, 1.0037, 0.9968, 0.9825, 0.9238, 0.9065, 0.8469, 0.7959, 0.7789, 0.7751, 0.7487, 0.7204, 0.7122, 0.708, 0.6717, 0.5735, 0.5478, 0.4582, 0.2983, 0.1523, -0.0304, -0.3612, -0.7564, 0.2457, 0.0339, 1.7651, 1.7288, 1.6745, 1.6716, 1.6653, 1.6631, 1.6574, 1.6407, 1.606, 1.472, 1.456, 1.3086, 1.3008, 1.2984, 1.2376, 1.1406, 1.0874, 0.9405, 0.8827, 0.8767, 0.8637, 0.8162, 0.7944, 0.7916, 0.685, 0.6322, 0.6006, 0.5208, 0.4531, 0.4511, 0.2354, 0.0232, -0.1551, -1.2934, 2.1502, 2.0405, 2.022, 2.0218, 2.017, 1.8069, 1.726, 1.5181, 1.2002, 0.9873, 0.7712, 0.6323, 0.588, 0.5754, 0.5126, 0.4614, 0.3546, 0.2722, 0.2375, 0.2236, 0.1973, 0.1948, 0.1939, 0.1851, 0.1717, 0.1402, 0.1212, 0.1091, 0.1073, 0.106, 0.0628, -0.9316, -0.2751, -0.5488, -0.2851, -0.5529, -0.2859, -0.6354, -0.987, 1.9159, 1.8638, 1.6024, 1.5169, 1.4403, 1.4392, 1.339, 1.3167, 1.2619, 1.2607, 1.2188, 1.1293, 0.935, 0.9058, 0.8605, 0.3144, 0.1889, 0.175, 0.1688, 0.1589, 0.142, 0.1319, 0.1284, 0.1237, 0.1001, 0.0995, 0.0965, 0.082, 0.0808, 0.0701, -0.0225, 0.0559, -0.1564, -0.6868, -0.1774, -0.2739, -0.1082, -0.0373, -0.0076, -0.2466, -0.8262, -1.2376, -0.6287, -0.643, -1.25, -0.5594, -0.445, 2.3565, 2.2579, 2.1723, 1.6061, 1.5855, 1.5749, 1.5362, 1.5178, 1.5002, 1.3797, 1.3182, 1.163, 1.0667, 1.0115, 0.8572, 0.8243, 0.6162, 0.3301, 0.2269, 0.208, 0.205, 0.2045, 0.1883, 0.1853, 0.1695, 0.1647, 0.1493, 0.1482, 0.1481, 0.1407, -0.2458, 0.081, 0.0791, 0.0515, -1.0799, -0.7937, -0.3752, -0.7486, -0.8037, -0.8787, -1.3201, -0.0982, -0.3348, -0.539, -1.3816]}, \"token.table\": {\"Topic\": [7, 10, 4, 5, 10, 3, 4, 7, 4, 5, 6, 8, 2, 9, 4, 8, 4, 4, 1, 2, 1, 6, 7, 2, 4, 10, 4, 6, 1, 4, 6, 10, 5, 10, 2, 3, 4, 6, 7, 8, 9, 10, 1, 5, 4, 8, 1, 7, 1, 3, 4, 2, 4, 7, 9, 2, 6, 7, 4, 4, 6, 4, 5, 1, 6, 2, 3, 4, 7, 4, 4, 4, 6, 10, 1, 1, 7, 5, 7, 1, 4, 6, 5, 7, 1, 3, 4, 6, 9, 2, 4, 9, 1, 6, 8, 9, 1, 3, 6, 8, 1, 2, 3, 5, 7, 9, 1, 2, 1, 5, 6, 5, 6, 4, 5, 1, 2, 8, 4, 6, 1, 6, 7, 3, 7, 3, 1, 3, 10, 1, 4, 9, 7, 10, 1, 7, 5, 6, 1, 7, 3, 7, 1, 6, 4, 1, 3, 6, 7, 1, 3, 6, 7, 6, 1, 1, 2, 3, 8, 3, 5, 6, 5, 10, 3, 8, 2, 4, 5, 1, 1, 2, 8, 2, 4, 5, 2, 5, 10, 3, 2, 7, 2, 4, 10, 10, 1, 9, 1, 8, 3, 8, 5, 6, 9, 2, 5, 1, 2, 7, 4, 7, 4, 7, 1, 5, 1, 3, 1, 3, 6, 4, 6, 4, 10, 2, 3, 4, 7, 1, 2, 4, 4, 5, 4, 7, 4, 9, 7, 4, 10, 1, 2, 7, 9, 1, 4, 7, 7, 1, 1, 2, 3, 4, 6, 1, 5, 7, 2, 6, 8, 1, 7, 10, 4, 5, 6, 1, 4, 9, 3, 6, 8, 7, 1, 4, 5, 10, 4, 5, 6, 8, 1, 5, 10, 4, 5, 6, 8, 10, 6, 9, 3, 2, 4, 6, 1, 7, 8, 2, 3, 6, 4, 5, 6, 4, 6, 2, 3, 6, 1, 4, 10, 4, 5, 1, 6, 1, 4, 5, 6, 10, 1, 6, 8, 1, 2, 8, 9, 1, 5, 2, 8, 4, 5, 6, 8, 1, 5, 1, 2, 3, 4, 5, 7, 9, 1, 5, 6, 7], \"Freq\": [0.3050083320303013, 0.3050083320303013, 0.2909735986713821, 0.5092037976749187, 0.07274339966784553, 0.20238757902978774, 0.20238757902978774, 0.20238757902978774, 0.06789034369261189, 0.5431227495408951, 0.20367103107783566, 0.06789034369261189, 0.21010713976134485, 0.21010713976134485, 0.572227075587598, 0.513982583445591, 0.6223916621048626, 0.28706430264600585, 0.21985599514049, 0.43971199028098, 0.3503594271802475, 0.3503594271802475, 0.2827869698911029, 0.5640887675799371, 0.14102219189498427, 0.14102219189498427, 0.2749946826879189, 0.2749946826879189, 0.16579331897259791, 0.16579331897259791, 0.33158663794519583, 0.16579331897259791, 0.2856698375671205, 0.2856698375671205, 0.2897137891493991, 0.5267523439079984, 0.02633761719539992, 0.05267523439079984, 0.02633761719539992, 0.02633761719539992, 0.02633761719539992, 0.02633761719539992, 0.2651453030609336, 0.2651453030609336, 0.2201354124222798, 0.4402708248445596, 0.3967736252817892, 0.1983868126408946, 0.2279239371777024, 0.4558478743554048, 0.5714111130680011, 0.27314840041987937, 0.13657420020993968, 0.13657420020993968, 0.13657420020993968, 0.2787035962567894, 0.2787035962567894, 0.28155444535327206, 0.29409045531161637, 0.28044640521010156, 0.28044640521010156, 0.3439003285997325, 0.3439003285997325, 0.26975425198254777, 0.26975425198254777, 0.17847731047932677, 0.17847731047932677, 0.35695462095865355, 0.17847731047932677, 0.4791300909216102, 0.2886664311053586, 0.247724104613686, 0.247724104613686, 0.247724104613686, 0.6910797204309261, 0.4565224640548637, 0.22826123202743184, 0.23128490349524733, 0.23128490349524733, 0.6930721596386163, 0.11551202660643606, 0.11551202660643606, 0.34685964267891706, 0.34685964267891706, 0.040238761027385966, 0.5633426543834035, 0.16095504410954387, 0.08047752205477193, 0.16095504410954387, 0.1637615097160408, 0.49128452914812243, 0.1637615097160408, 0.25392720299780497, 0.5078544059956099, 0.4493800996360608, 0.2246900498180304, 0.2634762103104081, 0.5269524206208162, 0.08782540343680269, 0.08782540343680269, 0.16007766587531763, 0.4001941646882941, 0.08003883293765882, 0.08003883293765882, 0.08003883293765882, 0.16007766587531763, 0.24496585433373752, 0.48993170866747504, 0.29871318288786286, 0.29871318288786286, 0.14935659144393143, 0.19673451050464238, 0.39346902100928477, 0.1957462107810839, 0.3914924215621678, 0.25616718740882627, 0.5123343748176525, 0.08538906246960876, 0.281049814847658, 0.281049814847658, 0.32695588308413714, 0.10898529436137906, 0.43594117744551625, 0.4030022342754198, 0.2015011171377099, 0.6936612350785508, 0.37318735552668064, 0.4353852481144607, 0.06219789258778011, 0.3225237875984462, 0.1612618937992231, 0.1612618937992231, 0.2938585827312437, 0.2938585827312437, 0.39942318758602763, 0.19971159379301381, 0.5063874112354878, 0.3375916074903252, 0.47098594138494115, 0.31399062758996077, 0.6418781608487558, 0.12837563216975115, 0.4509539400701712, 0.2254769700350856, 0.6787334507684208, 0.3433636338276841, 0.17168181691384204, 0.17168181691384204, 0.17168181691384204, 0.5879827255671837, 0.045229440428244894, 0.13568832128473468, 0.18091776171297957, 0.5403490205178341, 0.5475962454903944, 0.09613347422412087, 0.5768008453447252, 0.09613347422412087, 0.09613347422412087, 0.7461291821524364, 0.5659837098503563, 0.18866123661678544, 0.2801512072189662, 0.2801512072189662, 0.24371291702144973, 0.24371291702144973, 0.26156505862904916, 0.13078252931452458, 0.5231301172580983, 0.7808728542146935, 0.3206174242735473, 0.48092613641032095, 0.08015435606838682, 0.16620676072974258, 0.16620676072974258, 0.49862028218922777, 0.3496514645678896, 0.1748257322839448, 0.1748257322839448, 0.7598658183877149, 0.2827004955285257, 0.42405074329278863, 0.1292244692347414, 0.2584489384694828, 0.3876734077042242, 0.3126784855441325, 0.36594673084710505, 0.18297336542355253, 0.5230197090164882, 0.2615098545082441, 0.4723332639082366, 0.2361666319541183, 0.4579248503536686, 0.30528323356911236, 0.15264161678455618, 0.44147552950012847, 0.22073776475006424, 0.4474111191575685, 0.3910726489162542, 0.1955363244581271, 0.6826248040476283, 0.2838586630102637, 0.20644510168396848, 0.41289020336793697, 0.2707727319654403, 0.2707727319654403, 0.22515710007945866, 0.4503142001589173, 0.19853442209769767, 0.39706884419539534, 0.19853442209769767, 0.3678019921315304, 0.3678019921315304, 0.29857954207543314, 0.29857954207543314, 0.3285371869419778, 0.37547107079083175, 0.09386776769770794, 0.18773553539541588, 0.2699619364398057, 0.5399238728796114, 0.28818862294902625, 0.4597867784326383, 0.22989338921631916, 0.4730398867513446, 0.2365199433756723, 0.5125471453041213, 0.17084904843470708, 0.27968132967491355, 0.28504889071665995, 0.42757333607499, 0.30932531926576984, 0.30932531926576984, 0.15466265963288492, 0.15466265963288492, 0.1597180870647184, 0.3194361741294368, 0.1597180870647184, 0.28455982833983223, 0.536902235285543, 0.15851889263114433, 0.2641981543852405, 0.15851889263114433, 0.31703778526228865, 0.052839630877048106, 0.39368880959766955, 0.19684440479883478, 0.19684440479883478, 0.16899976841788458, 0.16899976841788458, 0.33799953683576917, 0.7014287597844859, 0.08767859497306074, 0.08767859497306074, 0.08278088966814147, 0.24834266900442442, 0.5794662276769903, 0.13890285207005432, 0.5556114082802173, 0.13890285207005432, 0.24781933405703835, 0.24781933405703835, 0.24781933405703835, 0.2783315109557604, 0.14782637051570072, 0.4434791115471021, 0.14782637051570072, 0.14782637051570072, 0.13081077883589215, 0.5232431153435686, 0.19621616825383822, 0.06540538941794607, 0.44849457578991697, 0.4549205224490333, 0.22746026122451665, 0.15235608330053863, 0.30471216660107725, 0.30471216660107725, 0.07617804165026931, 0.07617804165026931, 0.24793656725365454, 0.24793656725365454, 0.5444665530086437, 0.23176778564846864, 0.23176778564846864, 0.23176778564846864, 0.6951032716884751, 0.09930046738406786, 0.09930046738406786, 0.5480683630765482, 0.13701709076913704, 0.13701709076913704, 0.16580501016702784, 0.5803175355845974, 0.16580501016702784, 0.1599036181862978, 0.6396144727451912, 0.5396294627254763, 0.13490736568136907, 0.13490736568136907, 0.16693135855430075, 0.5007940756629022, 0.16693135855430075, 0.1304906220937587, 0.6524531104687934, 0.3921389969900674, 0.3921389969900674, 0.11521856373028026, 0.3456556911908408, 0.23043712746056053, 0.11521856373028026, 0.11521856373028026, 0.22292352844044067, 0.44584705688088133, 0.11146176422022033, 0.2634413966481396, 0.2634413966481396, 0.4532699726243168, 0.2266349863121584, 0.5059200763625907, 0.1686400254541969, 0.7593560071760993, 0.07593560071760994, 0.07237982248501222, 0.5066587573950855, 0.21713946745503665, 0.07237982248501222, 0.2672587307617685, 0.2672587307617685, 0.19539870763277156, 0.04884967690819289, 0.09769935381638578, 0.29309806144915734, 0.04884967690819289, 0.14654903072457867, 0.14654903072457867, 0.24901782654408125, 0.12450891327204062, 0.24901782654408125, 0.12450891327204062], \"Term\": [\"accesorio\", \"accesorio\", \"aguar\", \"aguar\", \"aguar\", \"ajustar\", \"ajustar\", \"ajustar\", \"alarmar\", \"alarmar\", \"alarmar\", \"alarmar\", \"anomalia\", \"anomalia\", \"aprobacion\", \"asignar\", \"atender\", \"atendera\", \"banco\", \"banco\", \"boca\", \"boca\", \"bombo\", \"breakaway\", \"breakaway\", \"breakaway\", \"calibex\", \"calibex\", \"calibracion\", \"calibracion\", \"calibracion\", \"calibracion\", \"camaras\", \"camaras\", \"cambiar\", \"cambiar\", \"cambiar\", \"cambiar\", \"cambiar\", \"cambiar\", \"cambiar\", \"cambiar\", \"capacidad\", \"capacidad\", \"cerrar\", \"cerrar\", \"chequeo\", \"chequeo\", \"cliente\", \"cliente\", \"cold\", \"condicionar\", \"condicionar\", \"condicionar\", \"condicionar\", \"configuracion\", \"configuracion\", \"configurar\", \"contaminar\", \"contar\", \"contar\", \"coordinar\", \"coordinar\", \"corresponder\", \"corresponder\", \"cortar\", \"cortar\", \"cortar\", \"cortar\", \"cotizacion\", \"derivar\", \"descargar\", \"descargar\", \"descargar\", \"despachar\", \"despacho\", \"despacho\", \"detectar\", \"detectar\", \"diesel\", \"diesel\", \"diesel\", \"disipar\", \"disipar\", \"disp\", \"disp\", \"disp\", \"disp\", \"disp\", \"dispensador\", \"dispensador\", \"dispensador\", \"dispenser\", \"dispenser\", \"emergencia\", \"emergencia\", \"encore\", \"encore\", \"encore\", \"encore\", \"equipar\", \"equipar\", \"equipar\", \"equipar\", \"equipar\", \"equipar\", \"equipo\", \"equipo\", \"estancar\", \"estancar\", \"estancar\", \"estanque\", \"estanque\", \"extraccion\", \"extraccion\", \"extraer\", \"extraer\", \"extraer\", \"fabricacion\", \"fabricacion\", \"fallo\", \"fallo\", \"fallo\", \"filtracion\", \"filtracion\", \"filtrar\", \"filtro\", \"filtro\", \"filtro\", \"flujo\", \"flujo\", \"flujo\", \"fugar\", \"fugar\", \"funcionamiento\", \"funcionamiento\", \"funcionar\", \"funcionar\", \"gasolina\", \"gasolina\", \"gatillo\", \"gatillo\", \"identificacion\", \"identificacion\", \"incidencia\", \"instalar\", \"instalar\", \"instalar\", \"instalar\", \"isla\", \"isla\", \"isla\", \"isla\", \"kerosene\", \"laboratorio\", \"lado\", \"lado\", \"lado\", \"lado\", \"lento\", \"limpiar\", \"limpiar\", \"limpieza\", \"limpieza\", \"limpio\", \"limpio\", \"litro\", \"litro\", \"litro\", \"lmin\", \"ltrs\", \"ltrs\", \"ltrs\", \"lts\", \"lts\", \"lts\", \"mal\", \"mal\", \"mal\", \"malo\", \"manguera\", \"manguera\", \"mantencion\", \"mantencion\", \"mantencion\", \"mes\", \"mostrar\", \"mostrar\", \"motor\", \"motor\", \"nl\", \"nl\", \"normal\", \"normal\", \"normal\", \"nuevo\", \"nuevo\", \"observar\", \"optimas\", \"optimas\", \"ot\", \"palanca\", \"partir\", \"partir\", \"periodo\", \"periodo\", \"personal\", \"personal\", \"petrobras\", \"petrobras\", \"petrobras\", \"pintar\", \"pintar\", \"pintura\", \"pintura\", \"pistola\", \"pistola\", \"pistola\", \"pistola\", \"placa\", \"placa\", \"plataforma\", \"plazo\", \"plazo\", \"precorte\", \"precorte\", \"predeterminar\", \"predeterminar\", \"presurizacion\", \"preventivo\", \"preventivo\", \"probar\", \"probar\", \"probar\", \"probar\", \"producto\", \"producto\", \"producto\", \"programacion\", \"promediar\", \"prueba\", \"prueba\", \"prueba\", \"prueba\", \"prueba\", \"recirculacion\", \"recirculacion\", \"recirculacion\", \"recuperacion\", \"recuperacion\", \"recuperacion\", \"reemplazar\", \"reemplazar\", \"reemplazar\", \"reglar\", \"reglar\", \"reglar\", \"reinicia\", \"reinicia\", \"reinicia\", \"reponer\", \"reponer\", \"reponer\", \"retencion\", \"retirar\", \"retirar\", \"retirar\", \"retirar\", \"root\", \"root\", \"root\", \"root\", \"saturar\", \"sellar\", \"sellar\", \"sensor\", \"sensor\", \"sensor\", \"sensor\", \"sensor\", \"servicio\", \"servicio\", \"sifon\", \"spill\", \"spill\", \"spill\", \"srv\", \"srv\", \"srv\", \"stock\", \"stock\", \"stock\", \"sump\", \"sump\", \"sump\", \"tabla\", \"tabla\", \"tablet\", \"tablet\", \"tablet\", \"tambor\", \"tambor\", \"tambor\", \"tank\", \"tank\", \"tanque\", \"tanque\", \"tapar\", \"tapar\", \"tapar\", \"tapar\", \"tapar\", \"tk\", \"tk\", \"tk\", \"total\", \"total\", \"turnar\", \"turnar\", \"utilizar\", \"utilizar\", \"vapor\", \"vapor\", \"veeder\", \"veeder\", \"veeder\", \"veeder\", \"vencer\", \"vencer\", \"venta\", \"venta\", \"venta\", \"venta\", \"venta\", \"venta\", \"venta\", \"verificar\", \"verificar\", \"verificar\", \"verificar\"]}, \"R\": 30, \"lambda.step\": 0.01, \"plot.opts\": {\"xlab\": \"PC1\", \"ylab\": \"PC2\"}, \"topic.order\": [4, 8, 3, 2, 1, 6, 9, 5, 7, 10]};\n",
       "\n",
       "function LDAvis_load_lib(url, callback){\n",
       "  var s = document.createElement('script');\n",
       "  s.src = url;\n",
       "  s.async = true;\n",
       "  s.onreadystatechange = s.onload = callback;\n",
       "  s.onerror = function(){console.warn(\"failed to load library \" + url);};\n",
       "  document.getElementsByTagName(\"head\")[0].appendChild(s);\n",
       "}\n",
       "\n",
       "if(typeof(LDAvis) !== \"undefined\"){\n",
       "   // already loaded: just create the visualization\n",
       "   !function(LDAvis){\n",
       "       new LDAvis(\"#\" + \"ldavis_el586423856782975446765657351\", ldavis_el586423856782975446765657351_data);\n",
       "   }(LDAvis);\n",
       "}else if(typeof define === \"function\" && define.amd){\n",
       "   // require.js is available: use it to load d3/LDAvis\n",
       "   require.config({paths: {d3: \"https://cdnjs.cloudflare.com/ajax/libs/d3/3.5.5/d3.min\"}});\n",
       "   require([\"d3\"], function(d3){\n",
       "      window.d3 = d3;\n",
       "      LDAvis_load_lib(\"https://cdn.rawgit.com/bmabey/pyLDAvis/files/ldavis.v1.0.0.js\", function(){\n",
       "        new LDAvis(\"#\" + \"ldavis_el586423856782975446765657351\", ldavis_el586423856782975446765657351_data);\n",
       "      });\n",
       "    });\n",
       "}else{\n",
       "    // require.js not available: dynamically load d3 & LDAvis\n",
       "    LDAvis_load_lib(\"https://cdnjs.cloudflare.com/ajax/libs/d3/3.5.5/d3.min.js\", function(){\n",
       "         LDAvis_load_lib(\"https://cdn.rawgit.com/bmabey/pyLDAvis/files/ldavis.v1.0.0.js\", function(){\n",
       "                 new LDAvis(\"#\" + \"ldavis_el586423856782975446765657351\", ldavis_el586423856782975446765657351_data);\n",
       "            })\n",
       "         });\n",
       "}\n",
       "</script>"
      ],
      "text/plain": [
       "PreparedData(topic_coordinates=              x         y  topics  cluster       Freq\n",
       "topic                                                \n",
       "3      0.043956 -0.178929       1        1  16.877298\n",
       "7      0.132913  0.019736       2        1  13.741677\n",
       "2      0.158921  0.096866       3        1  13.345584\n",
       "1     -0.062465  0.081610       4        1  12.303077\n",
       "0     -0.180780  0.026831       5        1  12.150255\n",
       "5     -0.102346 -0.015198       6        1   9.942381\n",
       "8      0.025915 -0.071355       7        1   7.868999\n",
       "4     -0.024456 -0.002261       8        1   5.161185\n",
       "6      0.029546  0.018519       9        1   4.633222\n",
       "9     -0.021205  0.024181      10        1   3.976322, topic_info=        Term       Freq      Total Category  logprob  loglift\n",
       "38      disp  24.000000  24.000000  Default  30.0000  30.0000\n",
       "16   cambiar  37.000000  37.000000  Default  29.0000  29.0000\n",
       "66      lado  20.000000  20.000000  Default  28.0000  28.0000\n",
       "63      isla  22.000000  22.000000  Default  27.0000  27.0000\n",
       "139    venta  20.000000  20.000000  Default  26.0000  26.0000\n",
       "..       ...        ...        ...      ...      ...      ...\n",
       "95   pistola   0.226289  21.306568  Topic10  -5.1857  -1.3201\n",
       "130   tanque   0.183832   5.100232  Topic10  -5.3935  -0.0982\n",
       "83    normal   0.186383   6.551293  Topic10  -5.3798  -0.3348\n",
       "113  reponer   0.187188   8.070395  Topic10  -5.3754  -0.5390\n",
       "107   prueba   0.189025  18.925189  Topic10  -5.3657  -1.3816\n",
       "\n",
       "[408 rows x 6 columns], token_table=      Topic      Freq       Term\n",
       "term                            \n",
       "0         7  0.305008  accesorio\n",
       "0        10  0.305008  accesorio\n",
       "1         4  0.290974      aguar\n",
       "1         5  0.509204      aguar\n",
       "1        10  0.072743      aguar\n",
       "...     ...       ...        ...\n",
       "139       9  0.146549      venta\n",
       "140       1  0.249018  verificar\n",
       "140       5  0.124509  verificar\n",
       "140       6  0.249018  verificar\n",
       "140       7  0.124509  verificar\n",
       "\n",
       "[340 rows x 3 columns], R=30, lambda_step=0.01, plot_opts={'xlab': 'PC1', 'ylab': 'PC2'}, topic_order=[4, 8, 3, 2, 1, 6, 9, 5, 7, 10])"
      ]
     },
     "execution_count": 57,
     "metadata": {},
     "output_type": "execute_result"
    }
   ],
   "source": [
    "# Visualize the topics\n",
    "pyLDAvis.enable_notebook()\n",
    "vis = pyLDAvis.sklearn.prepare(lda_model1, data_cv, cv)\n",
    "vis"
   ]
  },
  {
   "cell_type": "markdown",
   "metadata": {},
   "source": [
    "#### TFIDF DTM"
   ]
  },
  {
   "cell_type": "code",
   "execution_count": 58,
   "metadata": {},
   "outputs": [
    {
     "name": "stdout",
     "output_type": "stream",
     "text": [
      "(88, 141)\n"
     ]
    },
    {
     "data": {
      "text/plain": [
       "LatentDirichletAllocation(learning_method='online', n_jobs=-1, random_state=100)"
      ]
     },
     "execution_count": 58,
     "metadata": {},
     "output_type": "execute_result"
    }
   ],
   "source": [
    "# Build LDA Model\n",
    "\n",
    "from sklearn.decomposition import LatentDirichletAllocation, TruncatedSVD\n",
    "from sklearn.feature_extraction.text import CountVectorizer, TfidfVectorizer\n",
    "from tmtoolkit.topicmod.evaluate import metric_coherence_gensim\n",
    "\n",
    "data_lemmatized2 = [' '.join(sent) for sent in data_lemmatized]\n",
    "\n",
    "\n",
    "tfidf_vectorizer = TfidfVectorizer(**cv.get_params())\n",
    "dtm_tfidf = tfidf_vectorizer.fit_transform(data_lemmatized2)\n",
    "print(dtm_tfidf.shape)\n",
    "\n",
    "lda_model2 = LatentDirichletAllocation(n_components=10,               # Number of topics\n",
    "                                      max_iter=10,               # Max learning iterations\n",
    "                                      learning_method='online',   \n",
    "                                      random_state=100,           # Random state\n",
    "                                      batch_size=128,            # n docs in each learning iter\n",
    "                                      n_jobs = -1,               # Use all available CPUs\n",
    "                                     )\n",
    "lda_model2.fit(dtm_tfidf)"
   ]
  },
  {
   "cell_type": "code",
   "execution_count": 59,
   "metadata": {},
   "outputs": [
    {
     "data": {
      "text/plain": [
       "[0.6507623968542029,\n",
       " 0.6777340465434328,\n",
       " 0.6581623156723826,\n",
       " 0.7291664058404981,\n",
       " 0.6136255694868848,\n",
       " 0.6627911509906222,\n",
       " 0.6770895266728063,\n",
       " 0.5909009066320113,\n",
       " 0.6453099918627773,\n",
       " 0.7012275516875276]"
      ]
     },
     "execution_count": 59,
     "metadata": {},
     "output_type": "execute_result"
    }
   ],
   "source": [
    "# lda_model - LatentDirichletAllocation()\n",
    "# vect - CountVectorizer()\n",
    "# texts - the list of tokenized words\n",
    "cv_sklearn2 = metric_coherence_gensim(measure='c_v', \n",
    "                            top_n=20, \n",
    "                            topic_word_distrib=lda_model2.components_, \n",
    "                            dtm=dtm_tfidf, \n",
    "                            vocab= np.array([x for x in cv.vocabulary_.keys()]),\n",
    "                            texts = data_lemmatized\n",
    "                           )\n",
    "cv_sklearn2"
   ]
  },
  {
   "cell_type": "code",
   "execution_count": 60,
   "metadata": {},
   "outputs": [
    {
     "data": {
      "text/plain": [
       "0.6606769862243146"
      ]
     },
     "execution_count": 60,
     "metadata": {},
     "output_type": "execute_result"
    }
   ],
   "source": [
    "cv_sklearn2 = np.array(cv_sklearn2)\n",
    "cv_sklearn_median2 = cv_sklearn2.mean()\n",
    "cv_sklearn_median2"
   ]
  },
  {
   "cell_type": "code",
   "execution_count": 61,
   "metadata": {},
   "outputs": [
    {
     "name": "stdout",
     "output_type": "stream",
     "text": [
      "THE TOP 15 WORDS FOR TOPIC #0\n",
      "['kerosene', 'producto', 'breakaway', 'litro', 'recirculacion', 'diesel', 'mantencion', 'lts', 'cliente', 'dispensador', 'mal', 'tk', 'reglar', 'cambiar', 'placa']\n",
      "\n",
      "\n",
      "THE TOP 15 WORDS FOR TOPIC #1\n",
      "['veeder', 'venta', 'root', 'cold', 'cambiar', 'aguar', 'pistola', 'atender', 'incidencia', 'ot', 'lado', 'prueba', 'vapor', 'mantencion', 'preventivo']\n",
      "\n",
      "\n",
      "THE TOP 15 WORDS FOR TOPIC #2\n",
      "['bombo', 'probar', 'venta', 'gasolina', 'disipar', 'limpio', 'partir', 'prueba', 'sifon', 'pistola', 'filtracion', 'instalar', 'fallo', 'manguera', 'isla']\n",
      "\n",
      "\n",
      "THE TOP 15 WORDS FOR TOPIC #3\n",
      "['lmin', 'producto', 'despachar', 'lado', 'extraer', 'instalar', 'estancar', 'tapar', 'tambor', 'boca', 'tanque', 'retirar', 'ltrs', 'isla', 'diesel']\n",
      "\n",
      "\n",
      "THE TOP 15 WORDS FOR TOPIC #4\n",
      "['cambiar', 'tablet', 'contaminar', 'fugar', 'limpio', 'plataforma', 'reinicia', 'lmin', 'recuperacion', 'aprobacion', 'reemplazar', 'fabricacion', 'reglar', 'equipo', 'cerrar']\n",
      "\n",
      "\n",
      "THE TOP 15 WORDS FOR TOPIC #5\n",
      "['calibracion', 'estanque', 'plataforma', 'aprobacion', 'contar', 'tk', 'pintar', 'cotizacion', 'derivar', 'lmin', 'disp', 'tabla', 'diesel', 'reglar', 'mostrar']\n",
      "\n",
      "\n",
      "THE TOP 15 WORDS FOR TOPIC #6\n",
      "['sensor', 'servicio', 'cortar', 'emergencia', 'flujo', 'normal', 'dispensador', 'probar', 'turnar', 'equipar', 'prueba', 'reinicia', 'disp', 'predeterminar', 'venta']\n",
      "\n",
      "\n",
      "THE TOP 15 WORDS FOR TOPIC #7\n",
      "['personal', 'vapor', 'ltrs', 'banco', 'limpieza', 'ot', 'incidencia', 'cerrar', 'equipar', 'turnar', 'emergencia', 'asignar', 'condicionar', 'anomalia', 'optimas']\n",
      "\n",
      "\n",
      "THE TOP 15 WORDS FOR TOPIC #8\n",
      "['venta', 'petrobras', 'isla', 'malo', 'tabla', 'filtro', 'prueba', 'lado', 'gatillo', 'pistola', 'encore', 'filtrar', 'lento', 'disp', 'cambiar']\n",
      "\n",
      "\n",
      "THE TOP 15 WORDS FOR TOPIC #9\n",
      "['plazo', 'fugar', 'lado', 'vapor', 'venta', 'prueba', 'disp', 'pistola', 'gatillo', 'stock', 'reponer', 'malo', 'tablet', 'cambiar', 'filtro']\n",
      "\n",
      "\n"
     ]
    }
   ],
   "source": [
    "for index,topic in enumerate(lda_model2.components_):\n",
    "    print(f'THE TOP 15 WORDS FOR TOPIC #{index}')\n",
    "    print([cv.get_feature_names()[i] for i in topic.argsort()[-15:]])\n",
    "    print('\\n')\n",
    "   "
   ]
  },
  {
   "cell_type": "code",
   "execution_count": 62,
   "metadata": {},
   "outputs": [
    {
     "data": {
      "text/html": [
       "\n",
       "<link rel=\"stylesheet\" type=\"text/css\" href=\"https://cdn.rawgit.com/bmabey/pyLDAvis/files/ldavis.v1.0.0.css\">\n",
       "\n",
       "\n",
       "<div id=\"ldavis_el586423845366444241468184543\"></div>\n",
       "<script type=\"text/javascript\">\n",
       "\n",
       "var ldavis_el586423845366444241468184543_data = {\"mdsDat\": {\"x\": [0.07376613431622536, -0.018210658999570035, -0.008451627941060719, -0.020239505015035106, -0.0007741148359527098, -0.02143350362323766, -0.004386326135381739, -0.0009429617047824039, 0.006909782734908922, -0.0062372187961138945], \"y\": [-0.004829661008242375, -0.03957440039967459, 0.042994916528366296, 0.004331998859219445, -0.008251900265863745, -0.0035291448044267966, 0.011137069547034206, -0.00277642471386449, 0.004103617676521931, -0.0036060714190699864], \"topics\": [1, 2, 3, 4, 5, 6, 7, 8, 9, 10], \"cluster\": [1, 1, 1, 1, 1, 1, 1, 1, 1, 1], \"Freq\": [23.369217232958235, 18.395378097880087, 11.467243352572398, 10.149003659829285, 9.348465355484635, 8.833079405141126, 6.762815737932532, 4.296516570863706, 3.6952718802165005, 3.6830087071214934]}, \"tinfo\": {\"Term\": [\"disp\", \"reglar\", \"cambiar\", \"cerrar\", \"predeterminar\", \"equipo\", \"venta\", \"isla\", \"lento\", \"filtrar\", \"reinicia\", \"placa\", \"gatillo\", \"optimas\", \"anomalia\", \"encore\", \"pistola\", \"turnar\", \"condicionar\", \"filtro\", \"emergencia\", \"malo\", \"diesel\", \"manguera\", \"tabla\", \"ot\", \"fabricacion\", \"dispensador\", \"tk\", \"incidencia\", \"vapor\", \"preventivo\", \"atender\", \"ot\", \"mantencion\", \"incidencia\", \"cold\", \"aguar\", \"lado\", \"prueba\", \"breakaway\", \"root\", \"stock\", \"sump\", \"pistola\", \"tablet\", \"veeder\", \"alarmar\", \"ajustar\", \"atendera\", \"pintura\", \"equipar\", \"periodo\", \"extraer\", \"cortar\", \"extraccion\", \"tank\", \"vencer\", \"precorte\", \"descargar\", \"venta\", \"ltrs\", \"cambiar\", \"sensor\", \"tapar\", \"tanque\", \"boca\", \"diesel\", \"despachar\", \"retirar\", \"estancar\", \"tambor\", \"dispenser\", \"motor\", \"instalar\", \"tapar\", \"ltrs\", \"producto\", \"capacidad\", \"isla\", \"lmin\", \"filtracion\", \"srv\", \"laboratorio\", \"mostrar\", \"pintar\", \"extraer\", \"utilizar\", \"reponer\", \"sensor\", \"reemplazar\", \"contaminar\", \"alarmar\", \"filtro\", \"saturar\", \"reinicia\", \"probar\", \"lado\", \"prueba\", \"root\", \"lento\", \"filtrar\", \"encore\", \"gatillo\", \"cambiar\", \"disp\", \"tabla\", \"malo\", \"petrobras\", \"optimas\", \"funcionamiento\", \"calibex\", \"condicionar\", \"filtro\", \"pistola\", \"personal\", \"nl\", \"calibracion\", \"lado\", \"utilizar\", \"reemplazar\", \"reglar\", \"reponer\", \"prueba\", \"isla\", \"configurar\", \"promediar\", \"bombo\", \"corresponder\", \"contar\", \"estanque\", \"mes\", \"venta\", \"motor\", \"sellar\", \"aguar\", \"sump\", \"incidencia\", \"manguera\", \"fallo\", \"isla\", \"partir\", \"sifon\", \"limpio\", \"filtracion\", \"bombo\", \"programacion\", \"configurar\", \"presurizacion\", \"palanca\", \"instalar\", \"retencion\", \"gasolina\", \"detectar\", \"disipar\", \"chequeo\", \"verificar\", \"accesorio\", \"probar\", \"cortar\", \"fugar\", \"despacho\", \"recirculacion\", \"nl\", \"personal\", \"pistola\", \"reemplazar\", \"precorte\", \"venta\", \"prueba\", \"lento\", \"srv\", \"disp\", \"producto\", \"ajustar\", \"cambiar\", \"placa\", \"cliente\", \"mal\", \"tk\", \"reglar\", \"lts\", \"dispensador\", \"recirculacion\", \"configuracion\", \"kerosene\", \"servicio\", \"litro\", \"spill\", \"camaras\", \"accesorio\", \"nuevo\", \"identificacion\", \"mes\", \"breakaway\", \"producto\", \"limpieza\", \"sellar\", \"cambiar\", \"vencer\", \"banco\", \"equipo\", \"periodo\", \"diesel\", \"mantencion\", \"calibracion\", \"estancar\", \"preventivo\", \"ltrs\", \"extraer\", \"lado\", \"derivar\", \"mostrar\", \"tabla\", \"cotizacion\", \"contar\", \"pintar\", \"lmin\", \"estanque\", \"reglar\", \"aprobacion\", \"plataforma\", \"corresponder\", \"fabricacion\", \"observar\", \"calibex\", \"spill\", \"kerosene\", \"plazo\", \"tk\", \"coordinar\", \"cerrar\", \"identificacion\", \"descargar\", \"promediar\", \"calibracion\", \"gasolina\", \"configuracion\", \"partir\", \"equipo\", \"recuperacion\", \"diesel\", \"disp\", \"tambor\", \"retirar\", \"fallo\", \"predeterminar\", \"reinicia\", \"venta\", \"disp\", \"turnar\", \"emergencia\", \"servicio\", \"anomalia\", \"normal\", \"flujo\", \"cortar\", \"dispensador\", \"condicionar\", \"equipar\", \"probar\", \"sensor\", \"laboratorio\", \"observar\", \"corresponder\", \"contar\", \"boca\", \"malo\", \"nl\", \"asignar\", \"banco\", \"gatillo\", \"accesorio\", \"camaras\", \"saturar\", \"personal\", \"calibex\", \"filtrar\", \"prueba\", \"pistola\", \"cambiar\", \"lento\", \"coordinar\", \"tk\", \"ltrs\", \"diesel\", \"mostrar\", \"anomalia\", \"optimas\", \"asignar\", \"emergencia\", \"turnar\", \"condicionar\", \"cerrar\", \"equipar\", \"banco\", \"limpieza\", \"personal\", \"promediar\", \"programacion\", \"contar\", \"presurizacion\", \"observar\", \"camaras\", \"total\", \"accesorio\", \"bombo\", \"ot\", \"incidencia\", \"palanca\", \"retencion\", \"nl\", \"nuevo\", \"fugar\", \"limpiar\", \"plazo\", \"mes\", \"recuperacion\", \"kerosene\", \"descargar\", \"partir\", \"normal\", \"reponer\", \"calibracion\", \"stock\", \"manguera\", \"litro\", \"ltrs\", \"vapor\", \"extraer\", \"reinicia\", \"pistola\", \"lado\", \"aguar\", \"reponer\", \"malo\", \"filtro\", \"gatillo\", \"tablet\", \"stock\", \"accesorio\", \"fugar\", \"programacion\", \"contar\", \"plazo\", \"fabricacion\", \"banco\", \"estanque\", \"presurizacion\", \"retencion\", \"nl\", \"promediar\", \"sellar\", \"configurar\", \"mes\", \"camaras\", \"turnar\", \"limpieza\", \"anomalia\", \"corresponder\", \"detectar\", \"palanca\", \"limpio\", \"nuevo\", \"despacho\", \"kerosene\", \"pistola\", \"normal\", \"cambiar\", \"disp\", \"venta\", \"precorte\", \"prueba\", \"pintura\", \"flujo\", \"tanque\", \"vapor\", \"tambor\", \"lado\", \"atender\", \"root\", \"aguar\", \"cerrar\", \"equipo\", \"reglar\", \"fabricacion\", \"palanca\", \"fugar\", \"limpieza\", \"total\", \"aprobacion\", \"plataforma\", \"observar\", \"contaminar\", \"banco\", \"contar\", \"kerosene\", \"sellar\", \"presurizacion\", \"nl\", \"limpio\", \"retencion\", \"bombo\", \"recuperacion\", \"saturar\", \"plazo\", \"funcionamiento\", \"promediar\", \"camaras\", \"anomalia\", \"personal\", \"derivar\", \"funcionar\", \"optimas\", \"utilizar\", \"reinicia\", \"predeterminar\", \"lmin\", \"reemplazar\", \"gasolina\", \"vencer\", \"reponer\", \"breakaway\", \"tablet\", \"instalar\", \"manguera\", \"extraer\", \"litro\", \"srv\", \"cambiar\", \"vapor\"], \"Freq\": [2.0, 1.0, 3.0, 1.0, 1.0, 1.0, 2.0, 2.0, 1.0, 1.0, 1.0, 1.0, 1.0, 1.0, 1.0, 1.0, 2.0, 1.0, 1.0, 2.0, 1.0, 1.0, 2.0, 1.0, 1.0, 2.0, 1.0, 1.0, 1.0, 2.0, 1.4349433867472532, 1.4772934400155537, 1.1407673798136377, 1.2372327761263864, 1.4438370606640514, 1.2284411779506443, 0.8658747582308279, 0.9101787326317806, 1.3715867215777, 1.419465969738145, 0.6917988806789412, 0.7979561608949834, 0.6715307420993841, 0.720393983959703, 1.091759316253949, 0.6776772757211942, 0.7423388581911815, 0.7013608424701556, 0.5268340803628642, 0.4723582620434615, 0.43485939480544084, 0.626143472964886, 0.44984536904050304, 0.6993115965448874, 0.48322361568720984, 0.4212132033900483, 0.4498493383749836, 0.4322480021091742, 0.41468468010525755, 0.40762064074658116, 0.7919735023870724, 0.6515851735982696, 0.880735338730787, 0.5068713354696023, 0.48596939276222095, 0.7324376335298091, 0.6935288498221348, 1.0296537035152094, 0.5631895640340419, 0.7330465454510102, 0.6139504212185047, 0.6832023262889956, 0.49190741960924056, 0.4929624948399908, 0.609275014681691, 0.6488548029073579, 0.7672665222981836, 0.549232297961918, 0.4364894121039519, 0.8624627532406607, 0.5181412189097624, 0.48773175055259205, 0.5049271813143489, 0.35199268823738067, 0.44904287630146694, 0.4061754476523633, 0.5884377885606479, 0.36143821632914086, 0.37636104054384917, 0.4526295499518548, 0.4311658597461799, 0.2966065161554049, 0.45631657472312853, 0.5151855576425103, 0.2819419166047527, 0.3457448963046866, 0.4045727094618135, 0.581202099958301, 0.48059698417929264, 0.37682321839000055, 0.7899463749716258, 0.7483073383293505, 0.7016681256883521, 0.47992034132908945, 1.0458053958281868, 0.8394474307242377, 0.38210386726124296, 0.37885413957928066, 0.3008197721980331, 0.27624524402708694, 0.2641971764384038, 0.25495803812248324, 0.25868036616413476, 0.383956176852221, 0.48632389210533317, 0.18267058872454608, 0.17694036785440828, 0.2263371263715413, 0.46857628189759293, 0.19007036855831183, 0.2442215913754398, 0.23125452254504478, 0.17577190969231027, 0.41475227951160476, 0.30243305482668026, 0.13306030034322608, 0.12891194179889084, 0.12604699066624475, 0.12513936925494393, 0.12326233351275458, 0.12932371338067256, 0.1323437050060791, 0.2819194778624031, 0.14021811156385605, 0.1339996020215609, 0.1436666283660168, 0.139284563415542, 0.14191731606784908, 0.5176440994563377, 0.46527085873955026, 0.7348683850783475, 0.31767547737714874, 0.3349031575515652, 0.30412463818870195, 0.3598428316441179, 0.2587619993626799, 0.2501413899141213, 0.2541591392712639, 0.25092491012311147, 0.24466049850017008, 0.3827419417277409, 0.2430958602621615, 0.2749840848311801, 0.24117710927650093, 0.28437401952302993, 0.2277617386386331, 0.24051102719090728, 0.16319013385151268, 0.2603742030367409, 0.210534980804388, 0.16427440197110915, 0.1619192346800412, 0.17018462507967166, 0.15058854919593656, 0.1487545135196282, 0.35737296525051343, 0.21178194051497318, 0.16293371650091132, 0.2688241352241762, 0.3203204629139841, 0.20117919295895692, 0.19009729759457894, 0.21671789133638175, 0.1783703578242519, 0.1717249893517787, 0.1754921993660067, 0.5515271921422786, 0.3412255846881794, 0.36647253788671447, 0.39718270994989163, 0.41736703982883255, 0.3377462919182323, 0.3540787099772012, 0.27932119663478994, 0.21514773900878809, 0.22887195143942551, 0.2205822816046987, 0.26371859791332936, 0.21475691477126238, 0.18863150275945612, 0.17756615786696292, 0.1781130380643516, 0.20934955006756054, 0.18492463518050084, 0.2561560317184646, 0.24722034444247926, 0.17236901298711346, 0.18562784741971755, 0.5036879656432316, 0.19689497109603654, 0.16007013741438303, 0.19834868591842414, 0.18850825301300572, 0.2901827153778858, 0.3199709005808688, 0.1670528352050358, 0.18083374075975434, 0.22456621645298996, 0.211095801170661, 0.19420717526459827, 0.19875904603408706, 0.2909354997978899, 0.3276261693136368, 0.2966048124009045, 0.27788454142083646, 0.22237032991485886, 0.2757941914466044, 0.29430005759304534, 0.21228065830378198, 0.3184416797594338, 0.2222278312484923, 0.21665503340003314, 0.1862295480153052, 0.1851423927344787, 0.1839764609534793, 0.1800217654857982, 0.1850618659043098, 0.177974924534353, 0.17293933628571484, 0.22954466852356303, 0.20008442220364595, 0.18138735222737734, 0.18403236253188246, 0.18560190374733035, 0.15275501416278947, 0.2007686265943941, 0.1795385377955029, 0.14771706867230497, 0.1675789021920333, 0.18242790054632171, 0.17126316159409963, 0.29713385253610664, 0.2953295461054582, 0.19258341275407678, 0.19127407057190537, 0.17333363969288015, 0.46745456336486, 0.3551031800132475, 0.47879032486742734, 0.4555337297467647, 0.19211264865377647, 0.18123218453114828, 0.1724472134464323, 0.15839196241974043, 0.18442321119209956, 0.18135617227987277, 0.1773793792951834, 0.18574223576151938, 0.1547208675755799, 0.19526429189411865, 0.1874393250309763, 0.1685497508123356, 0.10471319879735858, 0.08858438703086371, 0.08670317632280784, 0.08369523452289077, 0.11650553651572296, 0.11469374228801461, 0.08462856629970708, 0.08464989212456996, 0.0821976366803163, 0.11570803328433583, 0.0798417744502234, 0.08148923660046602, 0.08609861885818615, 0.08020073864283665, 0.08768875952039805, 0.11763300524059106, 0.20080712912681886, 0.16489022939923778, 0.16631228920466262, 0.10633228156111409, 0.09348670598749807, 0.09648838826590908, 0.10779930881436454, 0.0988784841034222, 0.09162744852101606, 0.1532864550984574, 0.1583310730287345, 0.13988030086850747, 0.1395871147572167, 0.13539301465301173, 0.15040801626070335, 0.12969429718806644, 0.13421402555397308, 0.07009958985367361, 0.07141523649431965, 0.06783058143356857, 0.06518135662289663, 0.06340452849793864, 0.0622529046227212, 0.06376165884168547, 0.06301972921754938, 0.06218152012079224, 0.06501934358797982, 0.05931805790004608, 0.06112711720341423, 0.11935282386975955, 0.11961783790501908, 0.05734960278434373, 0.05932101326459979, 0.05792998038447524, 0.05679310967132952, 0.06004564960563793, 0.06257242852649565, 0.06177249092295691, 0.06017305954104621, 0.06471386497237958, 0.060917883606256815, 0.0638144359693021, 0.06193974516162631, 0.06473406894102218, 0.06514446007965981, 0.06572713751910542, 0.06782411538086963, 0.06712835246291506, 0.06505733462355034, 0.06937092415208378, 0.06788282502402933, 0.06619431108575634, 0.0634267734529852, 0.06534974652800483, 0.06540007763038691, 0.064289321809821, 0.11061427113962279, 0.11293920947310644, 0.15414936554609981, 0.1082596267565812, 0.1146881496506375, 0.1091959447927724, 0.055904773772412354, 0.0593438793175896, 0.055320386406016345, 0.05491878021365862, 0.05918054333449312, 0.05496319043780099, 0.05304817176810646, 0.055284612132283154, 0.05399201971677478, 0.054414821435038625, 0.0525595357783234, 0.050830406403176674, 0.05702457843865709, 0.05167546990058589, 0.05406577860859593, 0.05129574156561045, 0.05553783951024857, 0.051661762918429985, 0.05183089681350604, 0.04947360332747527, 0.05213730336208735, 0.04831711080139604, 0.055720413527106744, 0.048373807483768044, 0.05145139729129704, 0.053453543721139356, 0.1058134820509168, 0.05881000858077563, 0.1158204065822501, 0.09593989193677975, 0.0919502857981725, 0.055848130720005246, 0.09368447734485837, 0.053888792428169546, 0.05676565235016375, 0.05800455223027795, 0.06425781198665051, 0.05757849785885753, 0.060636274834688135, 0.05627505382931486, 0.05586830131767524, 0.05524852771009931, 0.2062217263511377, 0.20242517061616447, 0.1963947493366467, 0.10835116523565957, 0.05679091269559099, 0.058082190386662576, 0.05645782214809843, 0.05663613369384252, 0.05945241166984851, 0.05850324741154357, 0.05409237920068855, 0.05788897762830112, 0.05193902311894027, 0.05191122869162879, 0.057658224277912645, 0.05764533246185093, 0.052240947475685126, 0.05177551262895115, 0.05815234227572625, 0.05225034431482141, 0.0510916096503941, 0.059244215437762815, 0.05379329813144501, 0.05430931548086091, 0.05420046618628553, 0.04943681134611755, 0.050165264699665695, 0.05189537005442441, 0.04971051009222543, 0.05116400670418095, 0.05529028314904138, 0.05416732077860027, 0.05564821131068158, 0.05875961610462845, 0.05606105566790971, 0.059026825979987055, 0.05956282242683124, 0.05481385433371707, 0.05467284648398054, 0.0552895049975522, 0.0575062462230201, 0.05782906420585123, 0.05661719004804788, 0.05589729343509819, 0.05671914779077397, 0.05523735221700657, 0.05547932508069433, 0.057693460546558904, 0.055712758093353014], \"Total\": [2.0, 1.0, 3.0, 1.0, 1.0, 1.0, 2.0, 2.0, 1.0, 1.0, 1.0, 1.0, 1.0, 1.0, 1.0, 1.0, 2.0, 1.0, 1.0, 2.0, 1.0, 1.0, 2.0, 1.0, 1.0, 2.0, 1.0, 1.0, 1.0, 2.0, 2.349945141165653, 2.5234513519503903, 1.959661384408268, 2.1684815445656476, 2.5424030228314347, 2.1864748695827685, 1.6593215946885633, 1.9907523613242333, 3.0772351387169716, 3.3055477169538614, 1.6346546510511768, 1.904164665745935, 1.6158417219537051, 1.7530201673769026, 2.6684195706802014, 1.6742356853438967, 1.8416289364786247, 1.8542263589805008, 1.412742741364069, 1.2820325293744557, 1.2496491601509363, 1.823010673330766, 1.3155751868064323, 2.075935467901178, 1.4582634678597892, 1.273825878984997, 1.3701258561856589, 1.3205327214412004, 1.2939338423420073, 1.3103888447507979, 2.571659744791877, 2.2193999018702772, 3.3427827860783017, 1.711380503403744, 1.8567136099712835, 1.5646014284436691, 1.5160831322010038, 2.2712073783784827, 1.3421623712631503, 1.8636769788947831, 1.563859936335817, 1.8337560419460488, 1.3238623270268426, 1.3350253046671021, 1.718794039885195, 1.8567136099712835, 2.2193999018702772, 1.58876777889109, 1.2709153877966768, 2.5127031153861603, 1.5580751076079817, 1.5371786875466968, 1.6474599845731033, 1.1727612222597734, 1.5099460895650083, 1.3822337342112372, 2.075935467901178, 1.2773381120172218, 1.3816331657644922, 1.711380503403744, 1.6776895316102531, 1.2021389945501426, 1.8542263589805008, 2.0995665690790104, 1.1733343542482475, 1.447328549823783, 1.7745065859699496, 3.0772351387169716, 3.3055477169538614, 1.904164665745935, 1.78169332389195, 1.7201446675991445, 1.8232945869144417, 1.525320752565436, 3.3427827860783017, 2.705388017615308, 1.3741592266983278, 1.498922317392447, 1.2733296023045508, 1.2240932444884762, 1.185746328276863, 1.2159160252285006, 1.4077817648188038, 2.0995665690790104, 2.6684195706802014, 1.1091343548348318, 1.1079206555651933, 1.427986755199133, 3.0772351387169716, 1.2773381120172218, 1.6776895316102531, 1.7319976437380173, 1.3816331657644922, 3.3055477169538614, 2.5127031153861603, 1.1130660552398945, 1.081676402014526, 1.1070152728904292, 1.0995396376114093, 1.0839666409784172, 1.1383572439741876, 1.1659407258903758, 2.571659744791877, 1.3350253046671021, 1.225651283920162, 1.9907523613242333, 1.7530201673769026, 2.1864748695827685, 1.6436965737412192, 1.549955829805587, 2.5127031153861603, 1.244625055543787, 1.3431556812415255, 1.2519807085597416, 1.5371786875466968, 1.1070152728904292, 1.0857253726271185, 1.1130660552398945, 1.11300052266453, 1.085312037032823, 1.718794039885195, 1.12842520741425, 1.322760344923144, 1.1640627414740372, 1.3839542649958785, 1.2384153746019617, 1.4199280996395807, 1.0726513568906497, 1.7745065859699496, 1.4582634678597892, 1.1526936077284828, 1.157848312813872, 1.2494917987381309, 1.1079206555651933, 1.1091343548348318, 2.6684195706802014, 1.6776895316102531, 1.2939338423420073, 2.571659744791877, 3.3055477169538614, 1.78169332389195, 1.6474599845731033, 2.705388017615308, 1.58876777889109, 1.412742741364069, 3.3427827860783017, 1.5871254640114845, 1.2614698724861537, 1.426514700981744, 1.5964105067412877, 1.7319976437380173, 1.4755940370483995, 1.5531365139013638, 1.2494917987381309, 1.0954129677169537, 1.207129415120978, 1.178844704961887, 1.515627355412736, 1.2505205647949376, 1.1076119810728329, 1.0726513568906497, 1.0881623550277326, 1.2916474003596863, 1.1659407258903758, 1.6346546510511768, 1.58876777889109, 1.1371399982988708, 1.225651283920162, 3.3427827860783017, 1.3205327214412004, 1.0834998161597613, 1.3551019216101226, 1.3155751868064323, 2.2712073783784827, 2.5424030228314347, 1.427986755199133, 1.563859936335817, 2.5234513519503903, 2.2193999018702772, 2.075935467901178, 3.0772351387169716, 1.1436857366836333, 1.5099460895650083, 1.3741592266983278, 1.306635000124826, 1.0839666409784172, 1.3822337342112372, 1.5580751076079817, 1.1383572439741876, 1.7319976437380173, 1.2239760435215288, 1.2118317170661133, 1.0995396376114093, 1.115457317993089, 1.1225336023000216, 1.2159160252285006, 1.2505205647949376, 1.207129415120978, 1.1870559952326782, 1.5964105067412877, 1.392392524994006, 1.2674994531572374, 1.2916474003596863, 1.3103888447507979, 1.081676402014526, 1.427986755199133, 1.322760344923144, 1.0954129677169537, 1.244625055543787, 1.3551019216101226, 1.2859493779963964, 2.2712073783784827, 2.705388017615308, 1.8337560419460488, 1.8636769788947831, 1.549955829805587, 1.3523753136210626, 1.447328549823783, 2.571659744791877, 2.705388017615308, 1.216186600147791, 1.226816549250098, 1.178844704961887, 1.1518280732729764, 1.3564952230939962, 1.4570668730167928, 1.4582634678597892, 1.5531365139013638, 1.4077817648188038, 1.823010673330766, 1.7745065859699496, 1.711380503403744, 1.1727612222597734, 1.1225336023000216, 1.0995396376114093, 1.0839666409784172, 1.5160831322010038, 1.498922317392447, 1.1079206555651933, 1.1147473256290208, 1.0834998161597613, 1.525320752565436, 1.0726513568906497, 1.1076119810728329, 1.1733343542482475, 1.1091343548348318, 1.2159160252285006, 1.7201446675991445, 3.3055477169538614, 2.6684195706802014, 3.3427827860783017, 1.78169332389195, 1.392392524994006, 1.5964105067412877, 2.2193999018702772, 2.2712073783784827, 1.5099460895650083, 1.1518280732729764, 1.2240932444884762, 1.1147473256290208, 1.226816549250098, 1.216186600147791, 1.4077817648188038, 1.2674994531572374, 1.823010673330766, 1.0834998161597613, 1.1371399982988708, 1.1091343548348318, 1.081676402014526, 1.0857253726271185, 1.0839666409784172, 1.11300052266453, 1.1225336023000216, 1.1076119810728329, 1.163565145306849, 1.0726513568906497, 1.1070152728904292, 2.1684815445656476, 2.1864748695827685, 1.085312037032823, 1.12842520741425, 1.1079206555651933, 1.0881623550277326, 1.1526936077284828, 1.2017110342166162, 1.1870559952326782, 1.1659407258903758, 1.2859493779963964, 1.207129415120978, 1.3103888447507979, 1.244625055543787, 1.3564952230939962, 1.3816331657644922, 1.427986755199133, 1.6158417219537051, 1.6436965737412192, 1.515627355412736, 2.2193999018702772, 2.349945141165653, 2.075935467901178, 1.447328549823783, 2.6684195706802014, 3.0772351387169716, 1.9907523613242333, 1.3816331657644922, 1.498922317392447, 2.0995665690790104, 1.525320752565436, 1.6742356853438967, 1.6158417219537051, 1.0726513568906497, 1.1526936077284828, 1.0857253726271185, 1.0839666409784172, 1.1870559952326782, 1.115457317993089, 1.0834998161597613, 1.1383572439741876, 1.11300052266453, 1.12842520741425, 1.1079206555651933, 1.081676402014526, 1.225651283920162, 1.1130660552398945, 1.1659407258903758, 1.1076119810728329, 1.216186600147791, 1.1371399982988708, 1.1518280732729764, 1.0995396376114093, 1.1640627414740372, 1.085312037032823, 1.2519807085597416, 1.0881623550277326, 1.157848312813872, 1.207129415120978, 2.6684195706802014, 1.3564952230939962, 3.3427827860783017, 2.705388017615308, 2.571659744791877, 1.2939338423420073, 3.3055477169538614, 1.2496491601509363, 1.4570668730167928, 1.5646014284436691, 2.349945141165653, 1.8337560419460488, 3.0772351387169716, 1.959661384408268, 1.904164665745935, 1.9907523613242333, 1.2674994531572374, 1.3551019216101226, 1.7319976437380173, 1.115457317993089, 1.085312037032823, 1.1526936077284828, 1.1371399982988708, 1.163565145306849, 1.2239760435215288, 1.2118317170661133, 1.1225336023000216, 1.2021389945501426, 1.0834998161597613, 1.0839666409784172, 1.207129415120978, 1.225651283920162, 1.11300052266453, 1.1079206555651933, 1.2519807085597416, 1.12842520741425, 1.1070152728904292, 1.2859493779963964, 1.1733343542482475, 1.1870559952326782, 1.185746328276863, 1.081676402014526, 1.1076119810728329, 1.1518280732729764, 1.1091343548348318, 1.1436857366836333, 1.2525560487861909, 1.2240932444884762, 1.2773381120172218, 1.447328549823783, 1.3523753136210626, 1.5580751076079817, 1.6776895316102531, 1.322760344923144, 1.3205327214412004, 1.3816331657644922, 1.6346546510511768, 1.6742356853438967, 1.718794039885195, 1.6436965737412192, 2.075935467901178, 1.515627355412736, 1.6474599845731033, 3.3427827860783017, 2.349945141165653], \"Category\": [\"Default\", \"Default\", \"Default\", \"Default\", \"Default\", \"Default\", \"Default\", \"Default\", \"Default\", \"Default\", \"Default\", \"Default\", \"Default\", \"Default\", \"Default\", \"Default\", \"Default\", \"Default\", \"Default\", \"Default\", \"Default\", \"Default\", \"Default\", \"Default\", \"Default\", \"Default\", \"Default\", \"Default\", \"Default\", \"Default\", \"Topic1\", \"Topic1\", \"Topic1\", \"Topic1\", \"Topic1\", \"Topic1\", \"Topic1\", \"Topic1\", \"Topic1\", \"Topic1\", \"Topic1\", \"Topic1\", \"Topic1\", \"Topic1\", \"Topic1\", \"Topic1\", \"Topic1\", \"Topic1\", \"Topic1\", \"Topic1\", \"Topic1\", \"Topic1\", \"Topic1\", \"Topic1\", \"Topic1\", \"Topic1\", \"Topic1\", \"Topic1\", \"Topic1\", \"Topic1\", \"Topic1\", \"Topic1\", \"Topic1\", \"Topic1\", \"Topic1\", \"Topic2\", \"Topic2\", \"Topic2\", \"Topic2\", \"Topic2\", \"Topic2\", \"Topic2\", \"Topic2\", \"Topic2\", \"Topic2\", \"Topic2\", \"Topic2\", \"Topic2\", \"Topic2\", \"Topic2\", \"Topic2\", \"Topic2\", \"Topic2\", \"Topic2\", \"Topic2\", \"Topic2\", \"Topic2\", \"Topic2\", \"Topic2\", \"Topic2\", \"Topic2\", \"Topic2\", \"Topic2\", \"Topic2\", \"Topic2\", \"Topic2\", \"Topic2\", \"Topic2\", \"Topic2\", \"Topic2\", \"Topic3\", \"Topic3\", \"Topic3\", \"Topic3\", \"Topic3\", \"Topic3\", \"Topic3\", \"Topic3\", \"Topic3\", \"Topic3\", \"Topic3\", \"Topic3\", \"Topic3\", \"Topic3\", \"Topic3\", \"Topic3\", \"Topic3\", \"Topic3\", \"Topic3\", \"Topic3\", \"Topic3\", \"Topic3\", \"Topic3\", \"Topic3\", \"Topic3\", \"Topic3\", \"Topic3\", \"Topic3\", \"Topic3\", \"Topic3\", \"Topic3\", \"Topic3\", \"Topic3\", \"Topic3\", \"Topic3\", \"Topic3\", \"Topic3\", \"Topic3\", \"Topic4\", \"Topic4\", \"Topic4\", \"Topic4\", \"Topic4\", \"Topic4\", \"Topic4\", \"Topic4\", \"Topic4\", \"Topic4\", \"Topic4\", \"Topic4\", \"Topic4\", \"Topic4\", \"Topic4\", \"Topic4\", \"Topic4\", \"Topic4\", \"Topic4\", \"Topic4\", \"Topic4\", \"Topic4\", \"Topic4\", \"Topic4\", \"Topic4\", \"Topic4\", \"Topic4\", \"Topic4\", \"Topic4\", \"Topic4\", \"Topic4\", \"Topic4\", \"Topic4\", \"Topic4\", \"Topic4\", \"Topic4\", \"Topic4\", \"Topic4\", \"Topic5\", \"Topic5\", \"Topic5\", \"Topic5\", \"Topic5\", \"Topic5\", \"Topic5\", \"Topic5\", \"Topic5\", \"Topic5\", \"Topic5\", \"Topic5\", \"Topic5\", \"Topic5\", \"Topic5\", \"Topic5\", \"Topic5\", \"Topic5\", \"Topic5\", \"Topic5\", \"Topic5\", \"Topic5\", \"Topic5\", \"Topic5\", \"Topic5\", \"Topic5\", \"Topic5\", \"Topic5\", \"Topic5\", \"Topic5\", \"Topic5\", \"Topic5\", \"Topic5\", \"Topic5\", \"Topic5\", \"Topic6\", \"Topic6\", \"Topic6\", \"Topic6\", \"Topic6\", \"Topic6\", \"Topic6\", \"Topic6\", \"Topic6\", \"Topic6\", \"Topic6\", \"Topic6\", \"Topic6\", \"Topic6\", \"Topic6\", \"Topic6\", \"Topic6\", \"Topic6\", \"Topic6\", \"Topic6\", \"Topic6\", \"Topic6\", \"Topic6\", \"Topic6\", \"Topic6\", \"Topic6\", \"Topic6\", \"Topic6\", \"Topic6\", \"Topic6\", \"Topic6\", \"Topic6\", \"Topic6\", \"Topic6\", \"Topic6\", \"Topic7\", \"Topic7\", \"Topic7\", \"Topic7\", \"Topic7\", \"Topic7\", \"Topic7\", \"Topic7\", \"Topic7\", \"Topic7\", \"Topic7\", \"Topic7\", \"Topic7\", \"Topic7\", \"Topic7\", \"Topic7\", \"Topic7\", \"Topic7\", \"Topic7\", \"Topic7\", \"Topic7\", \"Topic7\", \"Topic7\", \"Topic7\", \"Topic7\", \"Topic7\", \"Topic7\", \"Topic7\", \"Topic7\", \"Topic7\", \"Topic7\", \"Topic7\", \"Topic7\", \"Topic7\", \"Topic7\", \"Topic7\", \"Topic7\", \"Topic7\", \"Topic7\", \"Topic7\", \"Topic7\", \"Topic8\", \"Topic8\", \"Topic8\", \"Topic8\", \"Topic8\", \"Topic8\", \"Topic8\", \"Topic8\", \"Topic8\", \"Topic8\", \"Topic8\", \"Topic8\", \"Topic8\", \"Topic8\", \"Topic8\", \"Topic8\", \"Topic8\", \"Topic8\", \"Topic8\", \"Topic8\", \"Topic8\", \"Topic8\", \"Topic8\", \"Topic8\", \"Topic8\", \"Topic8\", \"Topic8\", \"Topic8\", \"Topic8\", \"Topic8\", \"Topic8\", \"Topic8\", \"Topic8\", \"Topic8\", \"Topic8\", \"Topic8\", \"Topic8\", \"Topic8\", \"Topic8\", \"Topic8\", \"Topic8\", \"Topic8\", \"Topic8\", \"Topic8\", \"Topic8\", \"Topic8\", \"Topic8\", \"Topic9\", \"Topic9\", \"Topic9\", \"Topic9\", \"Topic9\", \"Topic9\", \"Topic9\", \"Topic9\", \"Topic9\", \"Topic9\", \"Topic9\", \"Topic9\", \"Topic9\", \"Topic9\", \"Topic9\", \"Topic9\", \"Topic9\", \"Topic9\", \"Topic9\", \"Topic9\", \"Topic9\", \"Topic9\", \"Topic9\", \"Topic9\", \"Topic9\", \"Topic9\", \"Topic9\", \"Topic9\", \"Topic9\", \"Topic9\", \"Topic9\", \"Topic9\", \"Topic9\", \"Topic9\", \"Topic9\", \"Topic9\", \"Topic9\", \"Topic9\", \"Topic9\", \"Topic9\", \"Topic9\", \"Topic9\", \"Topic9\", \"Topic9\", \"Topic9\", \"Topic9\", \"Topic9\", \"Topic9\", \"Topic10\", \"Topic10\", \"Topic10\", \"Topic10\", \"Topic10\", \"Topic10\", \"Topic10\", \"Topic10\", \"Topic10\", \"Topic10\", \"Topic10\", \"Topic10\", \"Topic10\", \"Topic10\", \"Topic10\", \"Topic10\", \"Topic10\", \"Topic10\", \"Topic10\", \"Topic10\", \"Topic10\", \"Topic10\", \"Topic10\", \"Topic10\", \"Topic10\", \"Topic10\", \"Topic10\", \"Topic10\", \"Topic10\", \"Topic10\", \"Topic10\", \"Topic10\", \"Topic10\", \"Topic10\", \"Topic10\", \"Topic10\", \"Topic10\", \"Topic10\", \"Topic10\", \"Topic10\", \"Topic10\", \"Topic10\", \"Topic10\", \"Topic10\", \"Topic10\", \"Topic10\", \"Topic10\", \"Topic10\", \"Topic10\"], \"logprob\": [30.0, 29.0, 28.0, 27.0, 26.0, 25.0, 24.0, 23.0, 22.0, 21.0, 20.0, 19.0, 18.0, 17.0, 16.0, 15.0, 14.0, 13.0, 12.0, 11.0, 10.0, 9.0, 8.0, 7.0, 6.0, 5.0, 4.0, 3.0, 2.0, 1.0, -3.5457, -3.5166, -3.7751, -3.6939, -3.5395, -3.701, -4.0508, -4.0009, -3.5908, -3.5565, -4.2753, -4.1325, -4.305, -4.2348, -3.819, -4.2959, -4.2047, -4.2615, -4.5477, -4.6568, -4.7395, -4.375, -4.7056, -4.2645, -4.6341, -4.7714, -4.7056, -4.7456, -4.787, -4.8042, -4.14, -4.3351, -4.0338, -4.5863, -4.6284, -3.9789, -4.0334, -3.6383, -4.2416, -3.978, -4.1553, -4.0484, -4.3769, -4.3748, -4.163, -4.1, -3.9324, -4.2667, -4.4965, -3.8154, -4.325, -4.3855, -4.3508, -4.7116, -4.4681, -4.5684, -4.1978, -4.6851, -4.6447, -4.4602, -4.5087, -4.8828, -4.452, -4.3307, -4.9335, -4.7295, -4.5724, -4.2101, -4.4002, -4.6435, -3.4307, -3.4848, -3.5492, -3.929, -3.1501, -3.3699, -4.1569, -4.1655, -4.3961, -4.4813, -4.5259, -4.5615, -4.547, -4.1521, -3.9158, -4.8949, -4.9268, -4.6806, -3.9529, -4.8552, -4.6045, -4.6591, -4.9334, -4.0749, -4.3908, -5.2118, -5.2435, -5.266, -5.2732, -5.2883, -5.2403, -5.2172, -4.461, -5.1594, -5.2048, -5.1351, -5.1661, -5.1474, -3.7312, -3.8379, -3.3808, -4.2195, -4.1667, -4.2631, -4.0948, -4.4246, -4.4585, -4.4425, -4.4554, -4.4806, -4.0331, -4.4871, -4.3638, -4.495, -4.3302, -4.5522, -4.4977, -4.8856, -4.4184, -4.6309, -4.879, -4.8934, -4.8436, -4.966, -4.9782, -4.1017, -4.6249, -4.8872, -4.3864, -4.2112, -4.6763, -4.733, -4.6019, -4.7966, -4.8346, -4.8129, -3.5857, -4.0658, -3.9944, -3.9139, -3.8644, -4.076, -4.0288, -4.266, -4.527, -4.4652, -4.5021, -4.3235, -4.5288, -4.6585, -4.719, -4.7159, -4.5543, -4.6784, -4.3526, -4.3881, -4.7487, -4.6746, -3.6764, -4.6157, -4.8227, -4.6083, -4.6592, -4.2278, -4.1301, -4.78, -4.7008, -4.4842, -4.546, -4.6294, -4.6062, -4.1685, -4.0498, -4.1492, -4.2144, -4.4373, -4.222, -4.157, -4.4837, -4.0782, -4.4379, -4.4633, -4.6147, -4.6205, -4.6268, -4.6486, -4.6209, -4.66, -4.6887, -4.4055, -4.5429, -4.641, -4.6265, -4.618, -4.8128, -4.5395, -4.6512, -4.8463, -4.7202, -4.6353, -4.6984, -4.1475, -4.1535, -4.5811, -4.5879, -4.6864, -3.4273, -3.7022, -3.4033, -3.4531, -4.3165, -4.3748, -4.4245, -4.5095, -4.3573, -4.3741, -4.3963, -4.3502, -4.5329, -4.3002, -4.3411, -4.4473, -4.9233, -5.0906, -5.1121, -5.1474, -4.8166, -4.8323, -5.1363, -5.136, -5.1654, -4.8235, -5.1945, -5.1741, -5.1191, -5.19, -5.1008, -4.807, -4.2722, -4.4693, -4.4607, -4.908, -5.0368, -5.0051, -4.8943, -4.9807, -5.0568, -4.0886, -4.0562, -4.1801, -4.1822, -4.2128, -4.1076, -4.2558, -4.2215, -4.871, -4.8524, -4.9039, -4.9438, -4.9714, -4.9897, -4.9658, -4.9775, -4.9909, -4.9463, -5.038, -5.008, -4.3389, -4.3366, -5.0718, -5.038, -5.0617, -5.0815, -5.0258, -4.9846, -4.9975, -5.0237, -4.951, -5.0114, -4.965, -4.9948, -4.9506, -4.9443, -4.9354, -4.904, -4.9143, -4.9457, -4.8815, -4.9032, -4.9283, -4.971, -4.9412, -4.9404, -4.9575, -4.2641, -4.2433, -3.9323, -4.2857, -4.228, -4.277, -4.9465, -4.8868, -4.957, -4.9643, -4.8896, -4.9635, -4.999, -4.9577, -4.9813, -4.9735, -5.0082, -5.0417, -4.9267, -5.0252, -4.98, -5.0326, -4.9531, -5.0255, -5.0222, -5.0687, -5.0163, -5.0924, -4.9498, -5.0912, -5.0295, -4.9914, -4.3085, -4.8959, -4.2181, -4.4065, -4.4489, -4.9475, -4.4303, -4.9833, -4.9313, -4.9097, -4.8073, -4.917, -4.8653, -4.9399, -4.9472, -4.9583, -3.6379, -3.6565, -3.6867, -4.2815, -4.9275, -4.905, -4.9334, -4.9302, -4.8817, -4.8978, -4.9762, -4.9083, -5.0168, -5.0173, -4.9123, -4.9126, -5.011, -5.0199, -4.9038, -5.0108, -5.0332, -4.8852, -4.9817, -4.9722, -4.9742, -5.0662, -5.0515, -5.0176, -5.0606, -5.0318, -4.9543, -4.9748, -4.9478, -4.8934, -4.9404, -4.8889, -4.8798, -4.9629, -4.9655, -4.9543, -4.915, -4.9094, -4.9305, -4.9433, -4.9287, -4.9552, -4.9509, -4.9117, -4.9467], \"loglift\": [30.0, 29.0, 28.0, 27.0, 26.0, 25.0, 24.0, 23.0, 22.0, 21.0, 20.0, 19.0, 18.0, 17.0, 16.0, 15.0, 14.0, 13.0, 12.0, 11.0, 10.0, 9.0, 8.0, 7.0, 6.0, 5.0, 4.0, 3.0, 2.0, 1.0, 0.9605, 0.9183, 0.9127, 0.8926, 0.8879, 0.8772, 0.8033, 0.6711, 0.6457, 0.6084, 0.5939, 0.584, 0.5757, 0.5645, 0.5601, 0.5493, 0.5452, 0.4816, 0.4673, 0.4553, 0.3982, 0.3851, 0.3806, 0.3657, 0.3492, 0.3471, 0.34, 0.337, 0.3158, 0.286, 0.276, 0.2282, 0.1199, 0.237, 0.1133, 0.9341, 0.911, 0.902, 0.8246, 0.76, 0.7581, 0.7057, 0.7031, 0.6968, 0.656, 0.6417, 0.6309, 0.6309, 0.6243, 0.6237, 0.5921, 0.5451, 0.5105, 0.4896, 0.4804, 0.4684, 0.4324, 0.4306, 0.3926, 0.3631, 0.3344, 0.2936, 0.291, 0.2881, 0.2672, 0.2613, 0.2146, 0.0264, -0.2353, 0.073, 1.3523, 1.3333, 1.2107, 1.0093, 1.0037, 0.9954, 0.8858, 0.7903, 0.7228, 0.677, 0.6642, 0.6035, 0.4715, 0.4667, 0.4633, 0.362, 0.3312, 0.3237, 0.2836, 0.2605, 0.2386, 0.1522, 0.1038, 0.09, 0.0484, 0.0416, 0.0385, -0.0071, -0.0075, -0.0084, -0.0093, -0.0102, -0.045, -0.0878, -0.0477, -0.4631, -0.3669, -0.5691, 1.1324, 1.0844, 1.0584, 0.9222, 0.8989, 0.8728, 0.8358, 0.8343, 0.8198, 0.8109, 0.7981, 0.798, 0.7858, 0.7527, 0.717, 0.7137, 0.7054, 0.5945, 0.5122, 0.4048, 0.3686, 0.3524, 0.3395, 0.3206, 0.2942, 0.2921, 0.2788, 0.2773, 0.2182, 0.2157, 0.0295, -0.0462, 0.1067, 0.1283, -0.2366, 0.1009, 0.1804, -0.6592, 1.313, 1.0625, 1.0109, 0.9788, 0.9469, 0.8954, 0.8914, 0.8718, 0.7424, 0.7071, 0.6939, 0.6213, 0.6081, 0.5998, 0.5714, 0.5601, 0.5503, 0.5286, 0.5166, 0.5095, 0.4833, 0.4825, 0.4774, 0.4668, 0.4576, 0.4484, 0.4271, 0.3124, 0.2973, 0.2242, 0.2126, -0.0493, 0.0173, 0.0007, -0.3697, 1.0578, 0.8987, 0.8935, 0.8787, 0.8426, 0.8149, 0.7601, 0.7472, 0.7331, 0.7205, 0.7051, 0.651, 0.6308, 0.6181, 0.5165, 0.516, 0.5123, 0.5004, 0.4873, 0.4866, 0.4825, 0.4781, 0.4722, 0.4692, 0.4648, 0.4296, 0.4231, 0.4215, 0.4214, 0.4106, 0.3928, 0.2118, 0.1731, 0.1501, 0.2359, 1.6314, 1.2887, 1.0127, 0.9122, 0.8483, 0.7813, 0.7715, 0.7097, 0.6983, 0.61, 0.587, 0.5701, 0.4856, 0.4598, 0.4459, 0.3759, 0.2778, 0.1543, 0.1536, 0.1325, 0.1278, 0.1235, 0.1218, 0.1159, 0.1149, 0.1148, 0.0959, 0.0842, 0.0816, 0.0669, 0.0643, 0.0111, -0.1073, -0.0902, -0.307, -0.125, -0.0072, -0.1124, -0.331, -0.4404, -0.1084, 1.1306, 1.1021, 1.0718, 0.9739, 0.9521, 0.9109, 0.8677, 0.5386, 0.4093, 0.3796, 0.353, 0.3383, 0.3069, 0.2902, 0.2877, 0.2675, 0.2675, 0.2628, 0.2524, 0.2509, 0.2477, 0.2416, 0.2069, 0.2018, 0.1964, 0.1945, 0.1926, 0.1922, 0.1916, 0.1833, 0.1581, 0.1609, 0.1253, 0.1469, 0.105, 0.093, 0.0689, -0.0233, -0.0507, -0.001, -0.3182, -0.397, -0.2982, 0.0198, -0.5621, -0.7039, -0.2855, 0.7731, 0.7125, 0.6866, 0.6527, 0.6172, 0.6036, 0.3439, 0.3316, 0.3213, 0.3156, 0.2995, 0.2878, 0.2814, 0.2733, 0.2721, 0.2662, 0.2498, 0.2403, 0.2304, 0.2282, 0.227, 0.2258, 0.2117, 0.2066, 0.197, 0.1969, 0.1923, 0.1863, 0.186, 0.1848, 0.1844, 0.1809, 0.0706, 0.1598, -0.0644, -0.0412, -0.0329, 0.1553, -0.2653, 0.1544, 0.0529, 0.0033, -0.3011, -0.1629, -0.6288, -0.2522, -0.2307, -0.2863, 1.4856, 1.4002, 1.1245, 0.9698, 0.3512, 0.3134, 0.2987, 0.2788, 0.2768, 0.2706, 0.2688, 0.2681, 0.2636, 0.2626, 0.26, 0.2445, 0.2425, 0.2381, 0.232, 0.2289, 0.2256, 0.2239, 0.219, 0.2169, 0.216, 0.2159, 0.2068, 0.2016, 0.1963, 0.1945, 0.1811, 0.1836, 0.168, 0.0974, 0.1183, 0.0282, -0.0367, 0.1179, 0.117, 0.083, -0.0459, -0.0642, -0.1116, -0.0797, -0.2986, -0.0105, -0.0895, -0.758, -0.4405]}, \"token.table\": {\"Topic\": [1, 1, 1, 1, 2, 1, 1, 3, 5, 1, 2, 2, 3, 3, 1, 2, 1, 2, 3, 2, 1, 2, 2, 4, 1, 2, 3, 2, 1, 2, 4, 1, 1, 1, 5, 1, 2, 1, 2, 1, 1, 2, 1, 1, 1, 2, 2, 2, 1, 1, 1], \"Freq\": [0.5023226491791313, 0.7078429573345062, 0.5393084804111105, 0.5102922412802231, 0.6595944369806622, 0.6117500105339941, 0.29915195332604416, 0.29915195332604416, 0.29915195332604416, 0.6026559307134728, 0.7450663357957721, 0.4402944484593675, 0.36963274528045714, 0.548457724372614, 0.5485431405472416, 0.6394434544714009, 0.48171054228917076, 0.48171054228917076, 0.5813464523281805, 0.47628878013553866, 0.45735718892155564, 0.5818032741530764, 0.397977776951304, 0.397977776951304, 0.3249670418156417, 0.3249670418156417, 0.5612638194184785, 0.6418175831942013, 0.45057224664978357, 0.45057224664978357, 0.608384793139709, 0.39332867016745265, 0.4611521838892581, 0.3747536598021173, 0.6300699110910137, 0.39628265439993293, 0.6294186055925483, 0.30252172578574155, 0.5365736720067392, 0.525164665634766, 0.5843235902308762, 0.606995016184945, 0.6188724962435712, 0.5704440933479564, 0.5972874719813387, 0.5453288098992511, 0.6391404109829517, 0.5385860235146692, 0.4255418488211882, 0.5429975497192709, 0.38885393062795304], \"Term\": [\"aguar\", \"ajustar\", \"alarmar\", \"atender\", \"boca\", \"breakaway\", \"cambiar\", \"cambiar\", \"cambiar\", \"cold\", \"despachar\", \"diesel\", \"disp\", \"encore\", \"equipar\", \"estancar\", \"extraer\", \"extraer\", \"filtrar\", \"filtro\", \"incidencia\", \"instalar\", \"isla\", \"isla\", \"lado\", \"lado\", \"lento\", \"lmin\", \"ltrs\", \"ltrs\", \"manguera\", \"mantencion\", \"ot\", \"pistola\", \"placa\", \"preventivo\", \"producto\", \"prueba\", \"retirar\", \"root\", \"sensor\", \"srv\", \"stock\", \"sump\", \"tablet\", \"tambor\", \"tanque\", \"tapar\", \"vapor\", \"veeder\", \"venta\"]}, \"R\": 30, \"lambda.step\": 0.01, \"plot.opts\": {\"xlab\": \"PC1\", \"ylab\": \"PC2\"}, \"topic.order\": [2, 4, 9, 3, 1, 6, 7, 8, 10, 5]};\n",
       "\n",
       "function LDAvis_load_lib(url, callback){\n",
       "  var s = document.createElement('script');\n",
       "  s.src = url;\n",
       "  s.async = true;\n",
       "  s.onreadystatechange = s.onload = callback;\n",
       "  s.onerror = function(){console.warn(\"failed to load library \" + url);};\n",
       "  document.getElementsByTagName(\"head\")[0].appendChild(s);\n",
       "}\n",
       "\n",
       "if(typeof(LDAvis) !== \"undefined\"){\n",
       "   // already loaded: just create the visualization\n",
       "   !function(LDAvis){\n",
       "       new LDAvis(\"#\" + \"ldavis_el586423845366444241468184543\", ldavis_el586423845366444241468184543_data);\n",
       "   }(LDAvis);\n",
       "}else if(typeof define === \"function\" && define.amd){\n",
       "   // require.js is available: use it to load d3/LDAvis\n",
       "   require.config({paths: {d3: \"https://cdnjs.cloudflare.com/ajax/libs/d3/3.5.5/d3.min\"}});\n",
       "   require([\"d3\"], function(d3){\n",
       "      window.d3 = d3;\n",
       "      LDAvis_load_lib(\"https://cdn.rawgit.com/bmabey/pyLDAvis/files/ldavis.v1.0.0.js\", function(){\n",
       "        new LDAvis(\"#\" + \"ldavis_el586423845366444241468184543\", ldavis_el586423845366444241468184543_data);\n",
       "      });\n",
       "    });\n",
       "}else{\n",
       "    // require.js not available: dynamically load d3 & LDAvis\n",
       "    LDAvis_load_lib(\"https://cdnjs.cloudflare.com/ajax/libs/d3/3.5.5/d3.min.js\", function(){\n",
       "         LDAvis_load_lib(\"https://cdn.rawgit.com/bmabey/pyLDAvis/files/ldavis.v1.0.0.js\", function(){\n",
       "                 new LDAvis(\"#\" + \"ldavis_el586423845366444241468184543\", ldavis_el586423845366444241468184543_data);\n",
       "            })\n",
       "         });\n",
       "}\n",
       "</script>"
      ],
      "text/plain": [
       "PreparedData(topic_coordinates=              x         y  topics  cluster       Freq\n",
       "topic                                                \n",
       "1      0.073766 -0.004830       1        1  23.369217\n",
       "3     -0.018211 -0.039574       2        1  18.395378\n",
       "8     -0.008452  0.042995       3        1  11.467243\n",
       "2     -0.020240  0.004332       4        1  10.149004\n",
       "0     -0.000774 -0.008252       5        1   9.348465\n",
       "5     -0.021434 -0.003529       6        1   8.833079\n",
       "6     -0.004386  0.011137       7        1   6.762816\n",
       "7     -0.000943 -0.002776       8        1   4.296517\n",
       "9      0.006910  0.004104       9        1   3.695272\n",
       "4     -0.006237 -0.003606      10        1   3.683009, topic_info=              Term      Freq     Total Category  logprob  loglift\n",
       "38            disp  2.000000  2.000000  Default  30.0000  30.0000\n",
       "111         reglar  1.000000  1.000000  Default  29.0000  29.0000\n",
       "16         cambiar  3.000000  3.000000  Default  28.0000  28.0000\n",
       "18          cerrar  1.000000  1.000000  Default  27.0000  27.0000\n",
       "100  predeterminar  1.000000  1.000000  Default  26.0000  26.0000\n",
       "..             ...       ...       ...      ...      ...      ...\n",
       "48         extraer  0.056719  2.075935  Topic10  -4.9287  -0.2986\n",
       "71           litro  0.055237  1.515627  Topic10  -4.9552  -0.0105\n",
       "123            srv  0.055479  1.647460  Topic10  -4.9509  -0.0895\n",
       "16         cambiar  0.057693  3.342783  Topic10  -4.9117  -0.7580\n",
       "136          vapor  0.055713  2.349945  Topic10  -4.9467  -0.4405\n",
       "\n",
       "[431 rows x 6 columns], token_table=      Topic      Freq        Term\n",
       "term                             \n",
       "1         1  0.502323       aguar\n",
       "2         1  0.707843     ajustar\n",
       "3         1  0.539308     alarmar\n",
       "7         1  0.510292     atender\n",
       "10        2  0.659594        boca\n",
       "12        1  0.611750   breakaway\n",
       "16        1  0.299152     cambiar\n",
       "16        3  0.299152     cambiar\n",
       "16        5  0.299152     cambiar\n",
       "21        1  0.602656        cold\n",
       "33        2  0.745066   despachar\n",
       "36        2  0.440294      diesel\n",
       "38        3  0.369633        disp\n",
       "42        3  0.548458      encore\n",
       "43        1  0.548543     equipar\n",
       "45        2  0.639443    estancar\n",
       "48        1  0.481711     extraer\n",
       "48        2  0.481711     extraer\n",
       "52        3  0.581346     filtrar\n",
       "53        2  0.476289      filtro\n",
       "61        1  0.457357  incidencia\n",
       "62        2  0.581803    instalar\n",
       "63        2  0.397978        isla\n",
       "63        4  0.397978        isla\n",
       "66        1  0.324967        lado\n",
       "66        2  0.324967        lado\n",
       "67        3  0.561264       lento\n",
       "72        2  0.641818        lmin\n",
       "73        1  0.450572        ltrs\n",
       "73        2  0.450572        ltrs\n",
       "77        4  0.608385    manguera\n",
       "78        1  0.393329  mantencion\n",
       "87        1  0.461152          ot\n",
       "95        1  0.374754     pistola\n",
       "96        5  0.630070       placa\n",
       "102       1  0.396283  preventivo\n",
       "104       2  0.629419    producto\n",
       "107       1  0.302522      prueba\n",
       "115       2  0.536574     retirar\n",
       "116       1  0.525165        root\n",
       "119       1  0.584324      sensor\n",
       "123       2  0.606995         srv\n",
       "124       1  0.618872       stock\n",
       "125       1  0.570444        sump\n",
       "127       1  0.597287      tablet\n",
       "128       2  0.545329      tambor\n",
       "130       2  0.639140      tanque\n",
       "131       2  0.538586       tapar\n",
       "136       1  0.425542       vapor\n",
       "137       1  0.542998      veeder\n",
       "139       1  0.388854       venta, R=30, lambda_step=0.01, plot_opts={'xlab': 'PC1', 'ylab': 'PC2'}, topic_order=[2, 4, 9, 3, 1, 6, 7, 8, 10, 5])"
      ]
     },
     "execution_count": 62,
     "metadata": {},
     "output_type": "execute_result"
    }
   ],
   "source": [
    "# Visualize the topics\n",
    "pyLDAvis.enable_notebook()\n",
    "vis = pyLDAvis.sklearn.prepare(lda_model2, dtm_tfidf, tfidf_vectorizer)\n",
    "vis"
   ]
  },
  {
   "cell_type": "markdown",
   "metadata": {},
   "source": [
    "## B) GENSIM "
   ]
  },
  {
   "cell_type": "code",
   "execution_count": 63,
   "metadata": {},
   "outputs": [
    {
     "name": "stdout",
     "output_type": "stream",
     "text": [
      "[[(0, 1), (1, 1), (2, 1), (3, 1), (4, 1)]]\n"
     ]
    }
   ],
   "source": [
    "# Create Dictionary\n",
    "id2word = corpora.Dictionary(data_lemmatized) # SOLO CON STOPWORDS\n",
    "\n",
    "# Create Corpus\n",
    "texts = data_lemmatized\n",
    "\n",
    "# Term Document Frequency\n",
    "corpus = [id2word.doc2bow(text) for text in texts]\n",
    "\n",
    "# View\n",
    "print(corpus[:1])  # (word_id, word_frequency)"
   ]
  },
  {
   "cell_type": "code",
   "execution_count": 64,
   "metadata": {},
   "outputs": [],
   "source": [
    "# Build LDA model\n",
    "lda_model = gensim.models.ldamodel.LdaModel(corpus=corpus,\n",
    "                                           id2word=id2word,\n",
    "                                           num_topics=10, \n",
    "                                           random_state=100,\n",
    "                                           update_every=1,\n",
    "                                           chunksize=100,\n",
    "                                           passes=10,\n",
    "                                           alpha='auto',\n",
    "                                           per_word_topics=True)"
   ]
  },
  {
   "cell_type": "markdown",
   "metadata": {},
   "source": [
    "##### Viendo los tópicos del LDA model"
   ]
  },
  {
   "cell_type": "code",
   "execution_count": 65,
   "metadata": {},
   "outputs": [
    {
     "name": "stdout",
     "output_type": "stream",
     "text": [
      "[(0,\n",
      "  '0.059*\"cambiar\" + 0.043*\"encore\" + 0.043*\"disp\" + 0.043*\"placa\" + '\n",
      "  '0.038*\"filtro\" + 0.027*\"equipar\" + 0.027*\"equipo\" + 0.022*\"chocar\" + '\n",
      "  '0.022*\"quebrar\" + 0.022*\"vehicular\" + 0.022*\"quemar\" + 0.022*\"graficas\" + '\n",
      "  '0.022*\"lento\" + 0.018*\"isla\" + 0.017*\"set\"'),\n",
      " (1,\n",
      "  '0.104*\"disp\" + 0.084*\"cambiar\" + 0.064*\"pistola\" + 0.060*\"venta\" + '\n",
      "  '0.037*\"gatillo\" + 0.032*\"filtrar\" + 0.030*\"reinicia\" + 0.028*\"malo\" + '\n",
      "  '0.028*\"lento\" + 0.027*\"predeterminar\" + 0.027*\"prueba\" + 0.019*\"probar\" + '\n",
      "  '0.019*\"condicionar\" + 0.019*\"equipar\" + 0.019*\"breakaway\"'),\n",
      " (2,\n",
      "  '0.053*\"isla\" + 0.039*\"fallo\" + 0.036*\"manguera\" + 0.036*\"disipar\" + '\n",
      "  '0.027*\"venta\" + 0.023*\"pistola\" + 0.022*\"verificar\" + 0.022*\"filtracion\" + '\n",
      "  '0.022*\"partir\" + 0.021*\"gasolina\" + 0.017*\"probar\" + 0.015*\"chequeo\" + '\n",
      "  '0.015*\"equipar\" + 0.015*\"tk\" + 0.015*\"detectar\"'),\n",
      " (3,\n",
      "  '0.042*\"tapar\" + 0.038*\"cambiar\" + 0.033*\"pintar\" + 0.033*\"mantencion\" + '\n",
      "  '0.033*\"tubo\" + 0.026*\"preventivo\" + 0.020*\"calibracion\" + 0.020*\"spill\" + '\n",
      "  '0.020*\"fluorescente\" + 0.020*\"bano\" + 0.020*\"descargar\" + 0.014*\"filtro\" + '\n",
      "  '0.014*\"mes\" + 0.014*\"tabla\" + 0.014*\"tiempo\"'),\n",
      " (4,\n",
      "  '0.078*\"lado\" + 0.069*\"cambiar\" + 0.064*\"prueba\" + 0.054*\"vapor\" + '\n",
      "  '0.041*\"pistola\" + 0.035*\"tablet\" + 0.035*\"stock\" + 0.034*\"dispensador\" + '\n",
      "  '0.033*\"extraer\" + 0.029*\"ltrs\" + 0.025*\"filtro\" + 0.019*\"venta\" + '\n",
      "  '0.019*\"equipar\" + 0.019*\"flujo\" + 0.019*\"ajustar\"'),\n",
      " (5,\n",
      "  '0.080*\"incidencia\" + 0.080*\"ot\" + 0.067*\"preventivo\" + 0.067*\"mantencion\" + '\n",
      "  '0.054*\"atender\" + 0.042*\"reglar\" + 0.015*\"mal\" + 0.015*\"estancar\" + '\n",
      "  '0.015*\"envia\" + 0.015*\"gas\" + 0.015*\"periodo\" + 0.015*\"lts\" + '\n",
      "  '0.015*\"vencer\" + 0.015*\"especial\" + 0.015*\"comenzar\"'),\n",
      " (6,\n",
      "  '0.047*\"diesel\" + 0.046*\"isla\" + 0.038*\"lmin\" + 0.038*\"reglar\" + '\n",
      "  '0.034*\"dispenser\" + 0.026*\"filtro\" + 0.025*\"reemplazar\" + 0.025*\"tk\" + '\n",
      "  '0.021*\"verificar\" + 0.018*\"venta\" + 0.017*\"placa\" + 0.017*\"tabla\" + '\n",
      "  '0.013*\"estancar\" + 0.013*\"estanque\" + 0.013*\"equipo\"'),\n",
      " (7,\n",
      "  '0.051*\"diesel\" + 0.047*\"ltrs\" + 0.045*\"lado\" + 0.045*\"srv\" + 0.038*\"probar\" '\n",
      "  '+ 0.035*\"extraer\" + 0.030*\"isla\" + 0.029*\"boca\" + 0.028*\"motor\" + '\n",
      "  '0.023*\"tanque\" + 0.018*\"prueba\" + 0.017*\"mostrar\" + 0.017*\"trabar\" + '\n",
      "  '0.015*\"reemplazar\" + 0.014*\"fallo\"'),\n",
      " (8,\n",
      "  '0.065*\"alarmar\" + 0.062*\"root\" + 0.053*\"veeder\" + 0.052*\"sensor\" + '\n",
      "  '0.045*\"aguar\" + 0.044*\"sump\" + 0.027*\"reponer\" + 0.022*\"tank\" + '\n",
      "  '0.022*\"funcionar\" + 0.022*\"normal\" + 0.018*\"lado\" + 0.018*\"recuperacion\" + '\n",
      "  '0.018*\"sacar\" + 0.014*\"prueba\" + 0.014*\"motor\"'),\n",
      " (9,\n",
      "  '0.047*\"retirar\" + 0.042*\"aguar\" + 0.040*\"tambor\" + 0.026*\"litro\" + '\n",
      "  '0.026*\"sump\" + 0.025*\"coordinar\" + 0.022*\"tapar\" + 0.017*\"reinician\" + '\n",
      "  '0.017*\"pasarse\" + 0.017*\"extraccion\" + 0.017*\"sellar\" + 0.017*\"tank\" + '\n",
      "  '0.017*\"tambien\" + 0.017*\"ot\" + 0.017*\"atendera\"')]\n"
     ]
    }
   ],
   "source": [
    "# Print the Keyword in the 10 topics\n",
    "pprint(lda_model.print_topics(num_topics = 10, num_words= 15))"
   ]
  },
  {
   "cell_type": "code",
   "execution_count": 66,
   "metadata": {},
   "outputs": [
    {
     "name": "stdout",
     "output_type": "stream",
     "text": [
      "\n",
      "Perplexity:  -5.374312261881539\n",
      "\n",
      "Coherence Score:  0.4061648262055182\n"
     ]
    }
   ],
   "source": [
    "# Compute Perplexity\n",
    "print('\\nPerplexity: ', lda_model.log_perplexity(corpus))  # a measure of how good the model is. lower the better.\n",
    "\n",
    "# Compute Coherence Score\n",
    "coherence_model_lda = CoherenceModel(model=lda_model, texts=texts, dictionary=id2word, coherence='c_v')\n",
    "coherence_lda = coherence_model_lda.get_coherence()\n",
    "print('\\nCoherence Score: ', coherence_lda)"
   ]
  },
  {
   "cell_type": "code",
   "execution_count": 67,
   "metadata": {},
   "outputs": [
    {
     "data": {
      "text/html": [
       "\n",
       "<link rel=\"stylesheet\" type=\"text/css\" href=\"https://cdn.rawgit.com/bmabey/pyLDAvis/files/ldavis.v1.0.0.css\">\n",
       "\n",
       "\n",
       "<div id=\"ldavis_el586423857458431443371291649\"></div>\n",
       "<script type=\"text/javascript\">\n",
       "\n",
       "var ldavis_el586423857458431443371291649_data = {\"mdsDat\": {\"x\": [0.08583105433896836, 0.06903827772747027, -0.20171674973034878, -0.12392937860213946, -0.08315414101758323, -0.16823210701458668, 0.08906837792581787, 0.008258470517011344, 0.19411575526717428, 0.13072044058821625], \"y\": [-0.17045149282262603, 0.22648543111343228, 0.08060691576856616, -0.03764299410672978, -0.0754676339160991, 0.05394580317279647, -0.030023661293699964, -0.12324645536860207, 0.11314209659132173, -0.03734800913835919], \"topics\": [1, 2, 3, 4, 5, 6, 7, 8, 9, 10], \"cluster\": [1, 1, 1, 1, 1, 1, 1, 1, 1, 1], \"Freq\": [14.78722095489502, 14.236381530761719, 13.171262741088867, 11.293563842773438, 10.231304168701172, 10.045412063598633, 8.864578247070312, 7.898562431335449, 6.428780555725098, 3.0429368019104004]}, \"tinfo\": {\"Term\": [\"disp\", \"cambiar\", \"lado\", \"alarmar\", \"diesel\", \"pistola\", \"root\", \"aguar\", \"mantencion\", \"isla\", \"reglar\", \"preventivo\", \"incidencia\", \"veeder\", \"ot\", \"ltrs\", \"sump\", \"prueba\", \"vapor\", \"placa\", \"tapar\", \"sensor\", \"extraer\", \"venta\", \"srv\", \"lmin\", \"retirar\", \"gatillo\", \"probar\", \"fallo\", \"lmin\", \"dispenser\", \"observar\", \"saturar\", \"instalacion\", \"actualizar\", \"confeccion\", \"convencional\", \"combustible\", \"derivar\", \"fabricacion\", \"promediar\", \"corresponder\", \"contar\", \"despa\", \"reglar\", \"estanque\", \"tabla\", \"verificar\", \"confeccionar\", \"hermeticidad\", \"ultimar\", \"certificar\", \"remarcar\", \"senalado\", \"apretar\", \"adjunto\", \"trabajar\", \"adicional\", \"punto\", \"tk\", \"diesel\", \"identificacion\", \"despachar\", \"reemplazar\", \"estancar\", \"isla\", \"gasolina\", \"flujo\", \"filtro\", \"recirculacion\", \"placa\", \"equipo\", \"venta\", \"producto\", \"fallo\", \"veeder\", \"root\", \"instalar\", \"funcionar\", \"alarmar\", \"sacar\", \"root\", \"sump\", \"normal\", \"cold\", \"dejar\", \"emitir\", \"desconectar\", \"ruido\", \"humedad\", \"dispositivo\", \"pedira\", \"bodega\", \"extension\", \"vedeer\", \"quendo\", \"tamk\", \"aproximar\", \"afectar\", \"veeder\", \"sensor\", \"tank\", \"aguar\", \"reponer\", \"recuperacion\", \"eliminar\", \"basurero\", \"contratar\", \"pos\", \"puerta\", \"asignar\", \"limpio\", \"plazo\", \"motor\", \"lado\", \"prueba\", \"cambiar\", \"vapor\", \"limpiar\", \"litro\", \"turnar\", \"emergencia\", \"tk\", \"gatillo\", \"filtrar\", \"predeterminar\", \"reinicia\", \"presentar\", \"pronlema\", \"pegar\", \"real\", \"parametros\", \"problema\", \"enmoptimas\", \"acudir\", \"variar\", \"hose\", \"wipe\", \"malo\", \"disp\", \"acordar\", \"sec\", \"lento\", \"servicio\", \"breakaway\", \"pistola\", \"condicionar\", \"venta\", \"optimas\", \"anomalia\", \"funcionamiento\", \"cortar\", \"cambiar\", \"prueba\", \"equipar\", \"probar\", \"vapor\", \"sensor\", \"chocar\", \"quebrar\", \"vehicular\", \"quemar\", \"graficas\", \"set\", \"teclado\", \"llevar\", \"boto\", \"portar\", \"rele\", \"stp\", \"repuesto\", \"mo\", \"pozo\", \"board\", \"ruben\", \"soldadura\", \"anterior\", \"trabajo\", \"placa\", \"encore\", \"subcontratar\", \"ejecutar\", \"bavo\", \"energy\", \"aire\", \"lmi\", \"blender\", \"equipo\", \"nuevo\", \"solicitar\", \"personal\", \"banco\", \"nl\", \"operativo\", \"filtro\", \"lento\", \"cambiar\", \"equipar\", \"disp\", \"probar\", \"isla\", \"reemplazar\", \"anomalia\", \"optimas\", \"condicionar\", \"petrobras\", \"malo\", \"pistola\", \"reponer\", \"boca\", \"tanque\", \"trabar\", \"adhesivo\", \"certificacion\", \"abrir\", \"quedsndo\", \"maquinar\", \"laboratorio\", \"operar\", \"codigo\", \"deshabilita\", \"error\", \"persistir\", \"lubricar\", \"srv\", \"disconformidad\", \"formar\", \"positivo\", \"tolerancia\", \"locual\", \"lec\", \"esperar\", \"fondo\", \"swivel\", \"reapreite\", \"automatico\", \"ltrs\", \"reunion\", \"blackmer\", \"motor\", \"mostrar\", \"extraer\", \"diesel\", \"probar\", \"lado\", \"cerrar\", \"isla\", \"fallo\", \"reemplazar\", \"prueba\", \"encore\", \"venta\", \"dispensador\", \"tablet\", \"stock\", \"bloquear\", \"ajustar\", \"reset\", \"pre\", \"master\", \"mas\", \"resolver\", \"dia\", \"lunes\", \"octano\", \"recircula\", \"nro\", \"mantener\", \"preset\", \"vapor\", \"precorte\", \"lado\", \"flujo\", \"prueba\", \"producto\", \"extraer\", \"total\", \"cortar\", \"despachar\", \"ltrs\", \"pistola\", \"cambiar\", \"filtro\", \"equipar\", \"venta\", \"encore\", \"reinicia\", \"disp\", \"reponer\", \"operativo\", \"pintar\", \"tubo\", \"spill\", \"fluorescente\", \"bano\", \"descargar\", \"mes\", \"tiempo\", \"partidor\", \"hombre\", \"led\", \"pintura\", \"tapar\", \"detector\", \"adaptador\", \"eds\", \"solo\", \"verificacion\", \"programar\", \"abril\", \"volumetrica\", \"deber\", \"fecho\", \"agostar\", \"entregar\", \"cotizar\", \"fabricar\", \"vaporar\", \"respuesta\", \"mezclar\", \"mantencion\", \"cliente\", \"preventivo\", \"calibracion\", \"mal\", \"cambiar\", \"tabla\", \"condicionar\", \"filtro\", \"retirar\", \"aguar\", \"diesel\", \"reemplazar\", \"tambor\", \"sensor\", \"disipar\", \"goma\", \"est\", \"bombo\", \"palanca\", \"programacion\", \"retencion\", \"configurar\", \"presurizacion\", \"manguera\", \"partir\", \"filtracion\", \"serevisa\", \"automatica\", \"giratorio\", \"copla\", \"producir\", \"identificar\", \"resistivo\", \"reinstalar\", \"desmontar\", \"descontaminar\", \"valor\", \"inoperativo\", \"arrojar\", \"levantar\", \"minuto\", \"detectar\", \"fallo\", \"gasolina\", \"isla\", \"chequeo\", \"verificar\", \"mostrar\", \"instalar\", \"venta\", \"pistola\", \"probar\", \"tk\", \"srv\", \"equipar\", \"reemplazar\", \"despacho\", \"utilizar\", \"reglar\", \"retirar\", \"pasarse\", \"reinician\", \"tambien\", \"atendera\", \"contaminar\", \"tambor\", \"plataforma\", \"aprobacion\", \"sdjunta\", \"muestra\", \"hacer\", \"retornar\", \"evitar\", \"filtraci\\u00f3n\", \"doblar\", \"qiueda\", \"depositar\", \"tarro\", \"perimetral\", \"correcto\", \"fin\", \"posicionamiento\", \"sellar\", \"coordinar\", \"cotizacion\", \"extraccion\", \"litro\", \"camaras\", \"limpieza\", \"aguar\", \"incidencia\", \"tapar\", \"sump\", \"ot\", \"tank\", \"veeder\", \"alarmar\", \"root\", \"lts\", \"recirculacion\", \"atender\", \"incidencia\", \"ot\", \"envia\", \"gas\", \"ods\", \"comenzar\", \"especial\", \"foto\", \"preventivo\", \"mantencion\", \"periodo\", \"vencer\", \"reglar\", \"mal\", \"lts\", \"estancar\", \"muestra\", \"hacer\", \"retornar\", \"sdjunta\", \"evitar\", \"filtraci\\u00f3n\", \"doblar\", \"qiueda\", \"depositar\", \"tarro\", \"perimetral\", \"correcto\", \"fin\", \"posicionamiento\", \"sera\", \"minuto\", \"levantar\", \"fallo\", \"isla\", \"precorte\", \"despacho\", \"presurizacion\", \"gasolina\", \"configurar\", \"detectar\", \"partir\", \"retencion\"], \"Freq\": [28.0, 42.0, 21.0, 14.0, 17.0, 22.0, 15.0, 13.0, 7.0, 23.0, 11.0, 6.0, 5.0, 14.0, 5.0, 11.0, 11.0, 20.0, 13.0, 10.0, 8.0, 14.0, 11.0, 23.0, 9.0, 8.0, 5.0, 7.0, 13.0, 8.0, 7.519067287445068, 6.722777843475342, 2.5666024684906006, 2.5665318965911865, 1.7470766305923462, 1.7470766305923462, 1.7470760345458984, 1.747039556503296, 1.7468173503875732, 1.7447429895401, 1.7445746660232544, 1.7436271905899048, 1.7423580884933472, 1.7416012287139893, 1.7408503293991089, 7.470430850982666, 2.5725269317626953, 3.40254545211792, 4.2352423667907715, 0.9151136875152588, 0.9151135683059692, 0.9151135087013245, 0.9151133894920349, 0.9151117205619812, 0.9151116609573364, 0.9151096940040588, 0.9149630665779114, 0.9149630665779114, 0.9149631261825562, 0.9134268164634705, 4.975161552429199, 9.264204025268555, 1.7470767498016357, 2.569434642791748, 4.985081672668457, 2.579035520553589, 9.137177467346191, 2.558774948120117, 2.569594383239746, 5.081218719482422, 1.726741909980774, 3.4109935760498047, 2.5707318782806396, 3.6027779579162598, 1.9288235902786255, 1.9530538320541382, 1.8640892505645752, 1.8450368642807007, 1.7470782995224, 4.233864784240723, 12.450462341308594, 3.4725630283355713, 11.838735580444336, 8.364956855773926, 4.2337446212768555, 1.7872462272644043, 1.7862567901611328, 1.786017656326294, 1.7859972715377808, 1.7859355211257935, 1.785929560661316, 1.7858022451400757, 1.7856372594833374, 1.7852277755737305, 1.7800321578979492, 1.7798917293548584, 1.7798022031784058, 1.7797110080718994, 1.7796833515167236, 1.779429316520691, 10.123519897460938, 9.893099784851074, 4.259402751922607, 8.5693941116333, 5.15475606918335, 3.487240791320801, 0.9361593127250671, 0.9361575841903687, 0.9361577033996582, 0.9361577033996582, 0.9361577033996582, 1.786120057106018, 1.785884141921997, 1.7792860269546509, 2.6367502212524414, 3.4951720237731934, 2.645867109298706, 2.3049535751342773, 1.8008124828338623, 1.7872508764266968, 1.7871766090393066, 1.7864599227905273, 1.7859857082366943, 1.7859176397323608, 6.60004997253418, 5.655090808868408, 4.790189266204834, 5.24592924118042, 1.7148512601852417, 1.7148512601852417, 1.7148512601852417, 1.7148478031158447, 1.7148478031158447, 1.7148478031158447, 1.7148455381393433, 1.7148451805114746, 1.7148456573486328, 1.7148281335830688, 1.714827537536621, 4.966831684112549, 18.345674514770508, 0.8981837034225464, 0.8972703218460083, 4.843347549438477, 1.7148476839065552, 3.3335578441619873, 11.251860618591309, 3.3480663299560547, 10.565728187561035, 1.714850902557373, 1.7148467302322388, 1.714850902557373, 1.7148507833480835, 14.769631385803223, 4.678918361663818, 3.348060131072998, 3.3553578853607178, 3.1549549102783203, 1.714850902557373, 3.3157756328582764, 3.3155691623687744, 3.3155252933502197, 3.3094942569732666, 3.305406093597412, 2.4998929500579834, 1.6984531879425049, 1.6982368230819702, 1.6982256174087524, 1.6981819868087769, 1.6954236030578613, 1.6953883171081543, 1.6952095031738281, 1.6951872110366821, 1.6950981616973877, 1.6948846578598022, 1.6947487592697144, 1.6945176124572754, 1.6944568157196045, 1.693599820137024, 6.53616189956665, 6.541998863220215, 0.8896175622940063, 0.8896175622940063, 0.889617383480072, 0.8896171450614929, 0.8894284963607788, 0.8841033577919006, 0.8831312656402588, 4.089499473571777, 1.6959997415542603, 1.6950067281723022, 1.6981632709503174, 1.6943949460983276, 1.6982630491256714, 2.4728519916534424, 5.709517478942871, 3.301560401916504, 8.955074310302734, 4.1116485595703125, 6.5363569259643555, 2.472357749938965, 2.6486053466796875, 1.7783772945404053, 1.6984528303146362, 1.6984525918960571, 1.6984525918960571, 1.698320746421814, 1.6983067989349365, 1.698216199874878, 1.6981720924377441, 3.9208526611328125, 3.169055223464966, 2.3094253540039062, 1.6231632232666016, 1.6231626272201538, 1.6231629848480225, 1.6231626272201538, 1.6231626272201538, 1.6113897562026978, 1.5816067457199097, 1.581307053565979, 1.5788495540618896, 1.5693738460540771, 1.5668983459472656, 1.5645707845687866, 6.094198226928711, 0.8502139449119568, 0.8502139449119568, 0.8502140045166016, 0.8502140045166016, 0.8502137660980225, 0.8502123355865479, 0.8502121567726135, 0.8502116799354553, 0.8502106070518494, 0.8502102494239807, 0.8500985503196716, 6.458134651184082, 0.8354549407958984, 0.8317874073982239, 3.7967965602874756, 2.3865015506744385, 4.822812080383301, 6.975207328796387, 5.205185413360596, 6.1605448722839355, 1.6252063512802124, 4.119230270385742, 1.8669430017471313, 2.0635156631469727, 2.406855821609497, 1.4611045122146606, 1.68312668800354, 4.542994976043701, 4.760556697845459, 4.760555267333984, 1.7314285039901733, 2.5559332370758057, 0.9069275259971619, 0.9069275259971619, 0.9069274067878723, 0.9069275259971619, 0.906927227973938, 0.906927227973938, 0.906927227973938, 0.906927227973938, 0.9069268107414246, 0.9069268703460693, 0.906926691532135, 0.9069250226020813, 7.267623424530029, 1.7314319610595703, 10.458985328674316, 2.555934429168701, 8.61084270477295, 2.3758151531219482, 4.452452659606934, 0.9069277048110962, 1.7314320802688599, 1.7314281463623047, 3.9413492679595947, 5.525911331176758, 9.322624206542969, 3.3811628818511963, 2.5559346675872803, 2.593683958053589, 1.7317200899124146, 1.4642316102981567, 1.2043651342391968, 0.9072139263153076, 0.906927764415741, 3.904435396194458, 3.90234375, 2.37326979637146, 2.3723151683807373, 2.372276544570923, 2.366447687149048, 1.6076971292495728, 1.6076968908309937, 1.607304334640503, 1.6072263717651367, 1.6071943044662476, 1.600832462310791, 4.9898810386657715, 0.8421144485473633, 0.842114269733429, 0.842114269733429, 0.8421141505241394, 0.8421141505241394, 0.8421141505241394, 0.8421141505241394, 0.8421139717102051, 0.8421139121055603, 0.842113733291626, 0.8421139121055603, 0.842113733291626, 0.842113733291626, 0.8421135544776917, 0.8421135544776917, 0.8421136140823364, 0.8420851230621338, 3.9044318199157715, 1.6072098016738892, 3.138857126235962, 2.373277187347412, 1.6055365800857544, 4.469923973083496, 1.6076968908309937, 1.6076968908309937, 1.6109799146652222, 0.8788061141967773, 0.8716915249824524, 0.8472263216972351, 0.8459292650222778, 0.8421145677566528, 0.842114269733429, 3.7575600147247314, 1.5769504308700562, 1.576932668685913, 1.5768656730651855, 1.5768579244613647, 1.5768564939498901, 1.5768458843231201, 1.5768412351608276, 1.5768369436264038, 3.807819366455078, 2.3277981281280518, 2.3278889656066895, 0.8260108232498169, 0.8260108232498169, 0.8260104656219482, 0.8260106444358826, 0.8260096311569214, 0.8260095715522766, 0.8259708285331726, 0.8259708881378174, 0.8259708881378174, 0.8259708881378174, 0.8259708881378174, 0.8259707093238831, 0.8259708285331726, 0.8258937001228333, 0.825890839099884, 1.579719066619873, 4.153075695037842, 2.2397210597991943, 5.579811096191406, 1.5844818353652954, 2.330148458480835, 1.5696444511413574, 1.5367244482040405, 2.8562381267547607, 2.478210926055908, 1.8428306579589844, 1.5810595750808716, 1.576847791671753, 1.5821176767349243, 1.1522642374038696, 0.8331212401390076, 0.8352469205856323, 0.8306174874305725, 4.080084323883057, 1.5011537075042725, 1.501153826713562, 1.4951518774032593, 1.4948598146438599, 1.4918272495269775, 3.3994410037994385, 1.443017840385437, 1.4430181980133057, 0.7863301038742065, 0.7863293886184692, 0.786329448223114, 0.7863293290138245, 0.7837975025177002, 0.7836623191833496, 0.7834542989730835, 0.7834166288375854, 0.7833994626998901, 0.783366322517395, 0.7832614183425903, 0.7832421064376831, 0.7829511165618896, 0.7829269766807556, 1.4962108135223389, 2.1697397232055664, 1.2830885648727417, 1.4979990720748901, 2.2097134590148926, 0.7839519381523132, 0.7831457257270813, 3.5981333255767822, 1.4948598146438599, 1.906493902206421, 2.20407772064209, 1.494860053062439, 1.495987892150879, 1.494051218032837, 1.494813084602356, 1.4946372509002686, 0.7863293886184692, 0.7863289713859558, 2.195251226425171, 3.249387264251709, 3.2489068508148193, 0.5903063416481018, 0.5903063416481018, 0.5903061628341675, 0.5903061628341675, 0.5903061628341675, 0.5903061628341675, 2.7369017601013184, 2.7369000911712646, 0.5903063416481018, 0.590306282043457, 1.7210291624069214, 0.5903063416481018, 0.5903063416481018, 0.5903063416481018, 0.053664952516555786, 0.053664952516555786, 0.05366494879126549, 0.05366494879126549, 0.05366493761539459, 0.05366493761539459, 0.05366493761539459, 0.05366493761539459, 0.05366493761539459, 0.05366493761539459, 0.05366493761539459, 0.05366493761539459, 0.05366493761539459, 0.05366493761539459, 0.05397535115480423, 0.053750745952129364, 0.05374868959188461, 0.053819846361875534, 0.053782615810632706, 0.05376289412379265, 0.0537535585463047, 0.053746871650218964, 0.05374617502093315, 0.05374389514327049, 0.05374349653720856, 0.05374089255928993, 0.05374059081077576], \"Total\": [28.0, 42.0, 21.0, 14.0, 17.0, 22.0, 15.0, 13.0, 7.0, 23.0, 11.0, 6.0, 5.0, 14.0, 5.0, 11.0, 11.0, 20.0, 13.0, 10.0, 8.0, 14.0, 11.0, 23.0, 9.0, 8.0, 5.0, 7.0, 13.0, 8.0, 8.251976013183594, 7.421849250793457, 3.2622463703155518, 3.2624595165252686, 2.4312734603881836, 2.4312734603881836, 2.4312732219696045, 2.431258201599121, 2.4312050342559814, 2.4310827255249023, 2.4310925006866455, 2.430999279022217, 2.4309213161468506, 2.430899143218994, 2.4307773113250732, 11.349038124084473, 3.977778673171997, 5.625786304473877, 7.179360389709473, 1.5993106365203857, 1.5993105173110962, 1.5993103981018066, 1.5993103981018066, 1.599308729171753, 1.599308729171753, 1.5993069410324097, 1.5992439985275269, 1.5992439985275269, 1.5992441177368164, 1.5992083549499512, 8.960738182067871, 17.643714904785156, 3.1968295574188232, 4.9117584228515625, 11.199540138244629, 5.280420303344727, 23.112146377563477, 5.517333507537842, 5.736244201660156, 17.022846221923828, 3.8954954147338867, 10.564888954162598, 7.305093288421631, 23.445632934570312, 5.657304286956787, 8.509857177734375, 14.065271377563477, 15.767165184020996, 4.709137916564941, 5.014688014984131, 14.92389965057373, 4.1697235107421875, 15.767165184020996, 11.3993558883667, 5.839160442352295, 2.4695310592651367, 2.469512939453125, 2.4695072174072266, 2.4695065021514893, 2.4695050716400146, 2.4695053100585938, 2.4695024490356445, 2.4694983959198, 2.4694888591766357, 2.468684434890747, 2.468667984008789, 2.4686574935913086, 2.468646764755249, 2.4686434268951416, 2.468613624572754, 14.065271377563477, 14.070444107055664, 6.443213939666748, 13.619309425354004, 8.315104484558105, 5.753779411315918, 1.618443250656128, 1.6184415817260742, 1.6184418201446533, 1.6184418201446533, 1.6184418201446533, 3.2860562801361084, 3.301419258117676, 3.3003458976745605, 7.196371078491211, 21.892061233520508, 20.302989959716797, 42.159400939941406, 13.132740020751953, 4.016287803649902, 6.246996879577637, 4.110541343688965, 4.110530853271484, 8.960738182067871, 7.3003764152526855, 6.474762439727783, 5.643202781677246, 7.313446998596191, 2.400582790374756, 2.400582790374756, 2.400582790374756, 2.400582790374756, 2.400583028793335, 2.400583028793335, 2.4005825519561768, 2.4005825519561768, 2.400583028793335, 2.40057373046875, 2.400573253631592, 7.28473424911499, 28.528690338134766, 1.5839393138885498, 1.5835087299346924, 8.894315719604492, 3.1514992713928223, 6.463810443878174, 22.575698852539062, 7.182514190673828, 23.445632934570312, 4.018155574798584, 4.018156051635742, 4.06323766708374, 4.822437763214111, 42.159400939941406, 20.302989959716797, 12.826069831848145, 13.366317749023438, 13.132740020751953, 14.070444107055664, 4.002570629119873, 4.002574443817139, 4.002574920654297, 4.002274036407471, 4.002869129180908, 3.1939754486083984, 2.384965658187866, 2.384970188140869, 2.3849706649780273, 2.3849713802337646, 2.384831666946411, 2.3848302364349365, 2.384822368621826, 2.3848214149475098, 2.384817361831665, 2.384807825088501, 2.3848018646240234, 2.384791374206543, 2.384788751602173, 2.3847506046295166, 10.564888954162598, 11.296263694763184, 1.5761463642120361, 1.5761463642120361, 1.576146125793457, 1.5761460065841675, 1.576050877571106, 1.5756779909133911, 1.5756067037582397, 7.305093288421631, 3.099822998046875, 3.15036940574646, 3.159017324447632, 3.1581616401672363, 3.236010789871216, 5.680380821228027, 17.022846221923828, 8.894315719604492, 42.159400939941406, 12.826069831848145, 28.528690338134766, 13.366317749023438, 23.112146377563477, 11.199540138244629, 4.018156051635742, 4.018155574798584, 7.182514190673828, 3.9234437942504883, 7.28473424911499, 22.575698852539062, 8.315104484558105, 4.633290767669678, 3.8591537475585938, 3.0928168296813965, 2.3132612705230713, 2.313260793685913, 2.313261032104492, 2.313260555267334, 2.313260555267334, 2.3139212131500244, 2.3164243698120117, 2.3164472579956055, 2.3166348934173584, 2.317357063293457, 2.3175456523895264, 2.317722797393799, 9.316515922546387, 1.5403119325637817, 1.5403118133544922, 1.5403118133544922, 1.5403118133544922, 1.5403118133544922, 1.5403103828430176, 1.540310263633728, 1.5403099060058594, 1.5403088331222534, 1.5403087139129639, 1.5402657985687256, 11.909231185913086, 1.5414257049560547, 1.5417044162750244, 7.196371078491211, 4.5892333984375, 11.189634323120117, 17.643714904785156, 13.366317749023438, 21.892061233520508, 3.9615590572357178, 23.112146377563477, 8.509857177734375, 11.199540138244629, 20.302989959716797, 11.296263694763184, 23.445632934570312, 5.715336799621582, 6.484631538391113, 6.484630584716797, 2.416372776031494, 3.9917666912078857, 1.5918700695037842, 1.5918700695037842, 1.591869831085205, 1.5918700695037842, 1.5918697118759155, 1.5918697118759155, 1.5918697118759155, 1.5918697118759155, 1.5918693542480469, 1.5918693542480469, 1.5918692350387573, 1.5918678045272827, 13.132740020751953, 3.167252540588379, 21.892061233520508, 5.736244201660156, 20.302989959716797, 5.657304286956787, 11.189634323120117, 2.3647894859313965, 4.822437763214111, 4.9117584228515625, 11.909231185913086, 22.575698852539062, 42.159400939941406, 17.022846221923828, 12.826069831848145, 23.445632934570312, 11.296263694763184, 7.313446998596191, 28.528690338134766, 8.315104484558105, 5.680380821228027, 4.59527063369751, 4.595388412475586, 3.0641090869903564, 3.0641658306121826, 3.0641682147979736, 3.0644726753234863, 2.2985317707061768, 2.2985315322875977, 2.2985541820526123, 2.298558473587036, 2.298560380935669, 2.2988786697387695, 8.35958480834961, 1.5329489707946777, 1.5329487323760986, 1.5329487323760986, 1.5329488515853882, 1.5329488515853882, 1.5329487323760986, 1.5329488515853882, 1.532948613166809, 1.532948613166809, 1.53294837474823, 1.532948613166809, 1.53294837474823, 1.53294837474823, 1.5329482555389404, 1.5329482555389404, 1.5329482555389404, 1.5329378843307495, 7.278508186340332, 3.071479082107544, 6.512930870056152, 5.500543594360352, 4.424656391143799, 42.159400939941406, 5.625786304473877, 7.182514190673828, 17.022846221923828, 5.859128952026367, 13.619309425354004, 17.643714904785156, 11.199540138244629, 5.142077445983887, 14.070444107055664, 4.524139404296875, 2.269249439239502, 2.269240617752075, 2.269225835800171, 2.26922345161438, 2.26922345161438, 2.2692201137542725, 2.269218921661377, 2.2692177295684814, 6.15689754486084, 3.851898193359375, 3.852102756500244, 1.5183097124099731, 1.5183095932006836, 1.518309235572815, 1.518309473991394, 1.5183085203170776, 1.5183085203170776, 1.5182929039001465, 1.5182931423187256, 1.5182931423187256, 1.5182931423187256, 1.5182931423187256, 1.518293023109436, 1.5182931423187256, 1.5182760953903198, 1.518275260925293, 2.984201192855835, 8.509857177734375, 5.517333507537842, 23.112146377563477, 3.93212628364563, 7.179360389709473, 4.5892333984375, 4.709137916564941, 23.445632934570312, 22.575698852539062, 13.366317749023438, 8.960738182067871, 9.316515922546387, 12.826069831848145, 11.199540138244629, 3.159756660461426, 4.698424339294434, 11.349038124084473, 5.859128952026367, 2.197082757949829, 2.197082996368408, 2.197404623031616, 2.197927951812744, 2.19863224029541, 5.142077445983887, 2.2066166400909424, 2.2066166400909424, 1.482236623764038, 1.4822359085083008, 1.4822360277175903, 1.4822360277175903, 1.4823644161224365, 1.4823713302612305, 1.4823814630508423, 1.4823834896087646, 1.482384204864502, 1.4823861122131348, 1.482391119003296, 1.4823923110961914, 1.4824068546295166, 1.482407808303833, 2.962907314300537, 4.6204376220703125, 3.064622402191162, 3.898358106613159, 6.246996879577637, 2.247912883758545, 2.247953176498413, 13.619309425354004, 5.430872917175293, 8.35958480834961, 11.3993558883667, 5.431155204772949, 6.443213939666748, 14.065271377563477, 14.92389965057373, 15.767165184020996, 4.5447468757629395, 3.8954954147338867, 2.916912794113159, 5.430872917175293, 5.431155204772949, 1.3040339946746826, 1.3040339946746826, 1.3040337562561035, 1.3040337562561035, 1.3040337562561035, 1.3040337562561035, 6.512930870056152, 7.278508186340332, 2.0769519805908203, 2.076951503753662, 11.349038124084473, 4.424656391143799, 4.5447468757629395, 5.280420303344727, 1.4822359085083008, 1.4822360277175903, 1.4822360277175903, 1.482236623764038, 1.4823644161224365, 1.4823713302612305, 1.4823814630508423, 1.4823834896087646, 1.482384204864502, 1.4823861122131348, 1.482391119003296, 1.4823923110961914, 1.4824068546295166, 1.482407808303833, 1.618072509765625, 1.518275260925293, 1.5182760953903198, 8.509857177734375, 23.112146377563477, 3.167252540588379, 3.159756660461426, 2.2692177295684814, 5.517333507537842, 2.269218921661377, 2.984201192855835, 3.851898193359375, 2.2692201137542725], \"Category\": [\"Default\", \"Default\", \"Default\", \"Default\", \"Default\", \"Default\", \"Default\", \"Default\", \"Default\", \"Default\", \"Default\", \"Default\", \"Default\", \"Default\", \"Default\", \"Default\", \"Default\", \"Default\", \"Default\", \"Default\", \"Default\", \"Default\", \"Default\", \"Default\", \"Default\", \"Default\", \"Default\", \"Default\", \"Default\", \"Default\", \"Topic1\", \"Topic1\", \"Topic1\", \"Topic1\", \"Topic1\", \"Topic1\", \"Topic1\", \"Topic1\", \"Topic1\", \"Topic1\", \"Topic1\", \"Topic1\", \"Topic1\", \"Topic1\", \"Topic1\", \"Topic1\", \"Topic1\", \"Topic1\", \"Topic1\", \"Topic1\", \"Topic1\", \"Topic1\", \"Topic1\", \"Topic1\", \"Topic1\", \"Topic1\", \"Topic1\", \"Topic1\", \"Topic1\", \"Topic1\", \"Topic1\", \"Topic1\", \"Topic1\", \"Topic1\", \"Topic1\", \"Topic1\", \"Topic1\", \"Topic1\", \"Topic1\", \"Topic1\", \"Topic1\", \"Topic1\", \"Topic1\", \"Topic1\", \"Topic1\", \"Topic1\", \"Topic1\", \"Topic1\", \"Topic1\", \"Topic2\", \"Topic2\", \"Topic2\", \"Topic2\", \"Topic2\", \"Topic2\", \"Topic2\", \"Topic2\", \"Topic2\", \"Topic2\", \"Topic2\", \"Topic2\", \"Topic2\", \"Topic2\", \"Topic2\", \"Topic2\", \"Topic2\", \"Topic2\", \"Topic2\", \"Topic2\", \"Topic2\", \"Topic2\", \"Topic2\", \"Topic2\", \"Topic2\", \"Topic2\", \"Topic2\", \"Topic2\", \"Topic2\", \"Topic2\", \"Topic2\", \"Topic2\", \"Topic2\", \"Topic2\", \"Topic2\", \"Topic2\", \"Topic2\", \"Topic2\", \"Topic2\", \"Topic2\", \"Topic2\", \"Topic2\", \"Topic2\", \"Topic2\", \"Topic2\", \"Topic3\", \"Topic3\", \"Topic3\", \"Topic3\", \"Topic3\", \"Topic3\", \"Topic3\", \"Topic3\", \"Topic3\", \"Topic3\", \"Topic3\", \"Topic3\", \"Topic3\", \"Topic3\", \"Topic3\", \"Topic3\", \"Topic3\", \"Topic3\", \"Topic3\", \"Topic3\", \"Topic3\", \"Topic3\", \"Topic3\", \"Topic3\", \"Topic3\", \"Topic3\", \"Topic3\", \"Topic3\", \"Topic3\", \"Topic3\", \"Topic3\", \"Topic3\", \"Topic3\", \"Topic3\", \"Topic3\", \"Topic4\", \"Topic4\", \"Topic4\", \"Topic4\", \"Topic4\", \"Topic4\", \"Topic4\", \"Topic4\", \"Topic4\", \"Topic4\", \"Topic4\", \"Topic4\", \"Topic4\", \"Topic4\", \"Topic4\", \"Topic4\", \"Topic4\", \"Topic4\", \"Topic4\", \"Topic4\", \"Topic4\", \"Topic4\", \"Topic4\", \"Topic4\", \"Topic4\", \"Topic4\", \"Topic4\", \"Topic4\", \"Topic4\", \"Topic4\", \"Topic4\", \"Topic4\", \"Topic4\", \"Topic4\", \"Topic4\", \"Topic4\", \"Topic4\", \"Topic4\", \"Topic4\", \"Topic4\", \"Topic4\", \"Topic4\", \"Topic4\", \"Topic4\", \"Topic4\", \"Topic4\", \"Topic4\", \"Topic4\", \"Topic4\", \"Topic4\", \"Topic4\", \"Topic5\", \"Topic5\", \"Topic5\", \"Topic5\", \"Topic5\", \"Topic5\", \"Topic5\", \"Topic5\", \"Topic5\", \"Topic5\", \"Topic5\", \"Topic5\", \"Topic5\", \"Topic5\", \"Topic5\", \"Topic5\", \"Topic5\", \"Topic5\", \"Topic5\", \"Topic5\", \"Topic5\", \"Topic5\", \"Topic5\", \"Topic5\", \"Topic5\", \"Topic5\", \"Topic5\", \"Topic5\", \"Topic5\", \"Topic5\", \"Topic5\", \"Topic5\", \"Topic5\", \"Topic5\", \"Topic5\", \"Topic5\", \"Topic5\", \"Topic5\", \"Topic5\", \"Topic5\", \"Topic5\", \"Topic5\", \"Topic5\", \"Topic6\", \"Topic6\", \"Topic6\", \"Topic6\", \"Topic6\", \"Topic6\", \"Topic6\", \"Topic6\", \"Topic6\", \"Topic6\", \"Topic6\", \"Topic6\", \"Topic6\", \"Topic6\", \"Topic6\", \"Topic6\", \"Topic6\", \"Topic6\", \"Topic6\", \"Topic6\", \"Topic6\", \"Topic6\", \"Topic6\", \"Topic6\", \"Topic6\", \"Topic6\", \"Topic6\", \"Topic6\", \"Topic6\", \"Topic6\", \"Topic6\", \"Topic6\", \"Topic6\", \"Topic6\", \"Topic6\", \"Topic6\", \"Topic6\", \"Topic6\", \"Topic7\", \"Topic7\", \"Topic7\", \"Topic7\", \"Topic7\", \"Topic7\", \"Topic7\", \"Topic7\", \"Topic7\", \"Topic7\", \"Topic7\", \"Topic7\", \"Topic7\", \"Topic7\", \"Topic7\", \"Topic7\", \"Topic7\", \"Topic7\", \"Topic7\", \"Topic7\", \"Topic7\", \"Topic7\", \"Topic7\", \"Topic7\", \"Topic7\", \"Topic7\", \"Topic7\", \"Topic7\", \"Topic7\", \"Topic7\", \"Topic7\", \"Topic7\", \"Topic7\", \"Topic7\", \"Topic7\", \"Topic7\", \"Topic7\", \"Topic7\", \"Topic7\", \"Topic7\", \"Topic7\", \"Topic7\", \"Topic7\", \"Topic7\", \"Topic7\", \"Topic8\", \"Topic8\", \"Topic8\", \"Topic8\", \"Topic8\", \"Topic8\", \"Topic8\", \"Topic8\", \"Topic8\", \"Topic8\", \"Topic8\", \"Topic8\", \"Topic8\", \"Topic8\", \"Topic8\", \"Topic8\", \"Topic8\", \"Topic8\", \"Topic8\", \"Topic8\", \"Topic8\", \"Topic8\", \"Topic8\", \"Topic8\", \"Topic8\", \"Topic8\", \"Topic8\", \"Topic8\", \"Topic8\", \"Topic8\", \"Topic8\", \"Topic8\", \"Topic8\", \"Topic8\", \"Topic8\", \"Topic8\", \"Topic8\", \"Topic8\", \"Topic8\", \"Topic8\", \"Topic8\", \"Topic8\", \"Topic8\", \"Topic8\", \"Topic8\", \"Topic9\", \"Topic9\", \"Topic9\", \"Topic9\", \"Topic9\", \"Topic9\", \"Topic9\", \"Topic9\", \"Topic9\", \"Topic9\", \"Topic9\", \"Topic9\", \"Topic9\", \"Topic9\", \"Topic9\", \"Topic9\", \"Topic9\", \"Topic9\", \"Topic9\", \"Topic9\", \"Topic9\", \"Topic9\", \"Topic9\", \"Topic9\", \"Topic9\", \"Topic9\", \"Topic9\", \"Topic9\", \"Topic9\", \"Topic9\", \"Topic9\", \"Topic9\", \"Topic9\", \"Topic9\", \"Topic9\", \"Topic9\", \"Topic9\", \"Topic9\", \"Topic9\", \"Topic9\", \"Topic9\", \"Topic10\", \"Topic10\", \"Topic10\", \"Topic10\", \"Topic10\", \"Topic10\", \"Topic10\", \"Topic10\", \"Topic10\", \"Topic10\", \"Topic10\", \"Topic10\", \"Topic10\", \"Topic10\", \"Topic10\", \"Topic10\", \"Topic10\", \"Topic10\", \"Topic10\", \"Topic10\", \"Topic10\", \"Topic10\", \"Topic10\", \"Topic10\", \"Topic10\", \"Topic10\", \"Topic10\", \"Topic10\", \"Topic10\", \"Topic10\", \"Topic10\", \"Topic10\", \"Topic10\", \"Topic10\", \"Topic10\", \"Topic10\", \"Topic10\", \"Topic10\", \"Topic10\", \"Topic10\", \"Topic10\", \"Topic10\", \"Topic10\", \"Topic10\"], \"logprob\": [30.0, 29.0, 28.0, 27.0, 26.0, 25.0, 24.0, 23.0, 22.0, 21.0, 20.0, 19.0, 18.0, 17.0, 16.0, 15.0, 14.0, 13.0, 12.0, 11.0, 10.0, 9.0, 8.0, 7.0, 6.0, 5.0, 4.0, 3.0, 2.0, 1.0, -3.2692999839782715, -3.3812999725341797, -4.344200134277344, -4.344200134277344, -4.728799819946289, -4.728799819946289, -4.728799819946289, -4.728899955749512, -4.729000091552734, -4.730199813842773, -4.730299949645996, -4.730800151824951, -4.731500148773193, -4.73199987411499, -4.732399940490723, -3.2757999897003174, -4.341899871826172, -4.062300205230713, -3.8433001041412354, -5.375500202178955, -5.375500202178955, -5.375500202178955, -5.375500202178955, -5.375500202178955, -5.375500202178955, -5.375500202178955, -5.3755998611450195, -5.3755998611450195, -5.3755998611450195, -5.377299785614014, -3.682300090789795, -3.0606000423431396, -4.728799819946289, -4.343100070953369, -3.680299997329712, -4.339399814605713, -3.074399948120117, -4.3471999168396, -4.3429999351501465, -3.6612000465393066, -4.740499973297119, -4.059800148010254, -4.342599868774414, -4.005099773406982, -4.629899978637695, -4.617400169372559, -4.664000034332275, -4.674300193786621, -4.728799819946289, -3.8057000637054443, -2.727099895477295, -4.003900051116943, -2.777400016784668, -3.124799966812134, -3.8057000637054443, -4.668099880218506, -4.668700218200684, -4.668799877166748, -4.668799877166748, -4.668900012969971, -4.668900012969971, -4.668900012969971, -4.669000148773193, -4.669300079345703, -4.6722002029418945, -4.672299861907959, -4.672299861907959, -4.672399997711182, -4.672399997711182, -4.672500133514404, -2.934000015258789, -2.9570000171661377, -3.7997000217437744, -3.100600004196167, -3.6089000701904297, -3.9997000694274902, -5.314799785614014, -5.314799785614014, -5.314799785614014, -5.314799785614014, -5.314799785614014, -4.668799877166748, -4.668900012969971, -4.672599792480469, -4.279300212860107, -3.9974000453948975, -4.2758002281188965, -4.41379976272583, -4.660600185394287, -4.668099880218506, -4.6682000160217285, -4.668600082397461, -4.668799877166748, -4.668900012969971, -3.2839999198913574, -3.438499927520752, -3.6045000553131104, -3.5136001110076904, -4.631700038909912, -4.631700038909912, -4.631700038909912, -4.631700038909912, -4.631700038909912, -4.631700038909912, -4.631700038909912, -4.631700038909912, -4.631700038909912, -4.631700038909912, -4.631700038909912, -3.5683000087738037, -2.261699914932251, -5.27839994430542, -5.279399871826172, -3.593400001525879, -4.631700038909912, -3.9670000076293945, -2.750499963760376, -3.9626998901367188, -2.8134000301361084, -4.631700038909912, -4.631700038909912, -4.631700038909912, -4.631700038909912, -2.4784998893737793, -3.628000020980835, -3.9626998901367188, -3.9605000019073486, -4.02209997177124, -4.631700038909912, -3.8185999393463135, -3.8185999393463135, -3.8185999393463135, -3.820499897003174, -3.821700096130371, -4.10099983215332, -4.487500190734863, -4.48769998550415, -4.48769998550415, -4.48769998550415, -4.489299774169922, -4.489299774169922, -4.4893999099731445, -4.489500045776367, -4.489500045776367, -4.48960018157959, -4.489699840545654, -4.489799976348877, -4.4899001121521, -4.4903998374938965, -3.139899969100952, -3.1389999389648438, -5.134200096130371, -5.134200096130371, -5.134200096130371, -5.134200096130371, -5.134399890899658, -5.140399932861328, -5.141499996185303, -3.608799934387207, -4.488999843597412, -4.48960018157959, -4.48769998550415, -4.4899001121521, -4.487599849700928, -4.1118998527526855, -3.275099992752075, -3.8229000568389893, -2.825000047683716, -3.6033999919891357, -3.139899969100952, -4.112100124359131, -4.0432000160217285, -4.441500186920166, -4.487500190734863, -4.487500190734863, -4.487500190734863, -4.487599849700928, -4.487599849700928, -4.48769998550415, -4.48769998550415, -3.5522000789642334, -3.765000104904175, -4.081500053405762, -4.434100151062012, -4.434100151062012, -4.434100151062012, -4.434100151062012, -4.434100151062012, -4.441400051116943, -4.460000038146973, -4.46019983291626, -4.4618000984191895, -4.467800140380859, -4.469399929046631, -4.470900058746338, -3.1110999584198, -5.080699920654297, -5.080699920654297, -5.080699920654297, -5.080699920654297, -5.080699920654297, -5.080699920654297, -5.080699920654297, -5.080699920654297, -5.080699920654297, -5.080699920654297, -5.080900192260742, -3.053100109100342, -5.098199844360352, -5.10260009765625, -3.5843000411987305, -4.048600196838379, -3.345099925994873, -2.976099967956543, -3.2688000202178955, -3.1003000736236572, -4.432799816131592, -3.5027999877929688, -4.2941999435424805, -4.1940999031066895, -4.04010009765625, -4.539299964904785, -4.397799968719482, -3.3864998817443848, -3.3397998809814453, -3.3397998809814453, -4.351200103759766, -3.961699962615967, -4.997799873352051, -4.997799873352051, -4.997799873352051, -4.997799873352051, -4.997799873352051, -4.997799873352051, -4.997799873352051, -4.997799873352051, -4.997799873352051, -4.997799873352051, -4.997799873352051, -4.997799873352051, -2.9166998863220215, -4.351200103759766, -2.5527000427246094, -3.961699962615967, -2.7471001148223877, -4.034800052642822, -3.4066998958587646, -4.997799873352051, -4.351200103759766, -4.351200103759766, -3.528599977493286, -3.190700054168701, -2.6677000522613525, -3.6819000244140625, -3.961699962615967, -3.947000026702881, -4.35099983215332, -4.518799781799316, -4.714200019836426, -4.997499942779541, -4.997799873352051, -3.4130001068115234, -3.4135000705718994, -3.910799980163574, -3.9112000465393066, -3.9112000465393066, -3.9137001037597656, -4.300300121307373, -4.300300121307373, -4.30049991607666, -4.300600051879883, -4.300600051879883, -4.304599761962891, -3.1677000522613525, -4.946899890899658, -4.946899890899658, -4.946899890899658, -4.946899890899658, -4.946899890899658, -4.946899890899658, -4.946899890899658, -4.946899890899658, -4.946899890899658, -4.946899890899658, -4.946899890899658, -4.946899890899658, -4.946899890899658, -4.946899890899658, -4.946899890899658, -4.946899890899658, -4.947000026702881, -3.4130001068115234, -4.300600051879883, -3.631200075149536, -3.910799980163574, -4.301599979400635, -3.2776999473571777, -4.300300121307373, -4.300300121307373, -4.2982001304626465, -4.904300212860107, -4.912399768829346, -4.940899848937988, -4.942399978637695, -4.946899890899658, -4.946899890899658, -3.335900068283081, -4.20419979095459, -4.20419979095459, -4.2042999267578125, -4.2042999267578125, -4.2042999267578125, -4.2042999267578125, -4.2042999267578125, -4.2042999267578125, -3.3225998878479004, -3.8148000240325928, -3.81469988822937, -4.850800037384033, -4.850800037384033, -4.850800037384033, -4.850800037384033, -4.850800037384033, -4.850800037384033, -4.850900173187256, -4.850900173187256, -4.850900173187256, -4.850900173187256, -4.850900173187256, -4.850900173187256, -4.850900173187256, -4.85099983215332, -4.85099983215332, -4.202400207519531, -3.23580002784729, -3.853300094604492, -2.940500020980835, -4.199399948120117, -3.813800096511841, -4.208799839019775, -4.230000019073486, -3.6101999282836914, -3.75219988822937, -4.048399925231934, -4.201600074768066, -4.2042999267578125, -4.200900077819824, -4.51800012588501, -4.842299938201904, -4.839700222015381, -4.845300197601318, -3.0476999282836914, -4.047599792480469, -4.047599792480469, -4.051599979400635, -4.051799774169922, -4.053800106048584, -3.2302000522613525, -4.087100028991699, -4.087100028991699, -4.694200038909912, -4.694200038909912, -4.694200038909912, -4.694200038909912, -4.697400093078613, -4.6975998878479, -4.697800159454346, -4.69789981842041, -4.69789981842041, -4.697999954223633, -4.6981000900268555, -4.6981000900268555, -4.698500156402588, -4.698500156402588, -4.050899982452393, -3.6791999340057373, -4.204500198364258, -4.049699783325195, -3.660900115966797, -4.697199821472168, -4.698200225830078, -3.1733999252319336, -4.051799774169922, -3.808500051498413, -3.6635000705718994, -4.051799774169922, -4.051000118255615, -4.052299976348877, -4.051799774169922, -4.0518999099731445, -4.694200038909912, -4.694200038909912, -2.9195001125335693, -2.527400016784668, -2.5274999141693115, -4.232999801635742, -4.232999801635742, -4.232999801635742, -4.232999801635742, -4.232999801635742, -4.232999801635742, -2.6989998817443848, -2.6989998817443848, -4.232999801635742, -4.232999801635742, -3.162899971008301, -4.232999801635742, -4.232999801635742, -4.232999801635742, -6.630799770355225, -6.630799770355225, -6.630799770355225, -6.630799770355225, -6.630799770355225, -6.630799770355225, -6.630799770355225, -6.630799770355225, -6.630799770355225, -6.630799770355225, -6.630799770355225, -6.630799770355225, -6.630799770355225, -6.630799770355225, -6.625100135803223, -6.629199981689453, -6.629300117492676, -6.627999782562256, -6.628600120544434, -6.629000186920166, -6.629199981689453, -6.629300117492676, -6.629300117492676, -6.62939977645874, -6.62939977645874, -6.62939977645874, -6.62939977645874], \"loglift\": [30.0, 29.0, 28.0, 27.0, 26.0, 25.0, 24.0, 23.0, 22.0, 21.0, 20.0, 19.0, 18.0, 17.0, 16.0, 15.0, 14.0, 13.0, 12.0, 11.0, 10.0, 9.0, 8.0, 7.0, 6.0, 5.0, 4.0, 3.0, 2.0, 1.0, 1.8184000253677368, 1.8125, 1.6715999841690063, 1.6714999675750732, 1.580899953842163, 1.580899953842163, 1.580899953842163, 1.580899953842163, 1.5808000564575195, 1.579699993133545, 1.5795999765396118, 1.5791000127792358, 1.5784000158309937, 1.5779999494552612, 1.5776000022888184, 1.4931999444961548, 1.475600004196167, 1.4085999727249146, 1.3835999965667725, 1.3530999422073364, 1.3530999422073364, 1.3530999422073364, 1.3530999422073364, 1.3530999422073364, 1.3530999422073364, 1.3530999422073364, 1.3530000448226929, 1.3530000448226929, 1.3530000448226929, 1.3513000011444092, 1.3229999542236328, 1.267199993133545, 1.3071999549865723, 1.2634999752044678, 1.1019999980926514, 1.1948000192642212, 0.9833999872207642, 1.1430000066757202, 1.1083999872207642, 0.7024000287055969, 1.0978000164031982, 0.7809000015258789, 0.8669999837875366, 0.03840000182390213, 0.8353999853134155, 0.43959999084472656, -0.10949999839067459, -0.23399999737739563, 0.9197999835014343, 1.7800999879837036, 1.7682000398635864, 1.7663999795913696, 1.6627999544143677, 1.6398999691009521, 1.6279000043869019, 1.6260000467300415, 1.625499963760376, 1.6253000497817993, 1.6253000497817993, 1.6253000497817993, 1.6253000497817993, 1.6252000331878662, 1.625100016593933, 1.624899983406067, 1.6223000288009644, 1.6222000122070312, 1.6222000122070312, 1.6222000122070312, 1.6220999956130981, 1.621999979019165, 1.6204999685287476, 1.597100019454956, 1.5355000495910645, 1.4860999584197998, 1.4711999893188477, 1.4486000537872314, 1.401900053024292, 1.401900053024292, 1.401900053024292, 1.401900053024292, 1.401900053024292, 1.3396999835968018, 1.3349000215530396, 1.3315999507904053, 0.9452999830245972, 0.11460000276565552, -0.08839999884366989, -0.9570000171661377, -0.03750000149011612, 1.1397000551223755, 0.6978999972343445, 1.1160999536514282, 1.1158000230789185, 0.33640000224113464, 1.926300048828125, 1.891800045967102, 1.8632999658584595, 1.6949000358581543, 1.6907000541687012, 1.6907000541687012, 1.6907000541687012, 1.6907000541687012, 1.6907000541687012, 1.6907000541687012, 1.6907000541687012, 1.6907000541687012, 1.6907000541687012, 1.6907000541687012, 1.6907000541687012, 1.6440999507904053, 1.5856000185012817, 1.4598000049591064, 1.4591000080108643, 1.4192999601364136, 1.4185999631881714, 1.3650000095367432, 1.3308000564575195, 1.2639000415802002, 1.2301000356674194, 1.1756000518798828, 1.1756000518798828, 1.1644999980926514, 0.9932000041007996, 0.9782000184059143, 0.5594000220298767, 0.6840000152587891, 0.6449999809265137, 0.6010000109672546, -0.07760000228881836, 1.9926999807357788, 1.9925999641418457, 1.9925999641418457, 1.9909000396728516, 1.9895000457763672, 1.9358999729156494, 1.8415000438690186, 1.8413000106811523, 1.8413000106811523, 1.8413000106811523, 1.8396999835968018, 1.8396999835968018, 1.8395999670028687, 1.8395999670028687, 1.8395999670028687, 1.839400053024292, 1.839400053024292, 1.8392000198364258, 1.8392000198364258, 1.8387000560760498, 1.7007999420166016, 1.6346999406814575, 1.6089999675750732, 1.6089999675750732, 1.6089999675750732, 1.6089999675750732, 1.6088000535964966, 1.6030999422073364, 1.6019999980926514, 1.6008000373840332, 1.5779000520706177, 1.5611000061035156, 1.5601999759674072, 1.5583000183105469, 1.5362000465393066, 1.3493000268936157, 1.0885000228881836, 1.1899000406265259, 0.6316999793052673, 1.0433000326156616, 0.7074000239372253, 0.4934000074863434, 0.014600000344216824, 0.3407999873161316, 1.3198000192642212, 1.3198000192642212, 0.7390000224113464, 1.3436000347137451, 0.7247999906539917, -0.40639999508857727, 0.5924000144004822, 2.112799882888794, 2.08270001411438, 1.9875999689102173, 1.9254000186920166, 1.9254000186920166, 1.9254000186920166, 1.9254000186920166, 1.9254000186920166, 1.9178999662399292, 1.8981000185012817, 1.8978999853134155, 1.896299958229065, 1.8899999856948853, 1.8882999420166016, 1.8867000341415405, 1.855299949645996, 1.6855000257492065, 1.6855000257492065, 1.6855000257492065, 1.6855000257492065, 1.6855000257492065, 1.6855000257492065, 1.6855000257492065, 1.6855000257492065, 1.6855000257492065, 1.6855000257492065, 1.6854000091552734, 1.6677000522613525, 1.667199969291687, 1.6627000570297241, 1.6403000354766846, 1.6258000135421753, 1.438099980354309, 1.351699948310852, 1.3365999460220337, 1.0118000507354736, 1.388700008392334, 0.5550000071525574, 0.7627999782562256, 0.5882999897003174, 0.14730000495910645, 0.23440000414848328, -0.35429999232292175, 2.06850004196167, 1.9889999628067017, 1.9889999628067017, 1.9646999835968018, 1.8522000312805176, 1.7354999780654907, 1.7354999780654907, 1.7354999780654907, 1.7354999780654907, 1.7354999780654907, 1.7354999780654907, 1.7354999780654907, 1.7354999780654907, 1.7354999780654907, 1.7354999780654907, 1.7354999780654907, 1.7354999780654907, 1.7064000368118286, 1.694100022315979, 1.559399962425232, 1.4896999597549438, 1.4402999877929688, 1.430400013923645, 1.3765000104904175, 1.3396999835968018, 1.2736999988555908, 1.2553999423980713, 1.1922999620437622, 0.8906000256538391, 0.7889999747276306, 0.6816999912261963, 0.6850000023841858, 0.09640000015497208, 0.4226999878883362, 0.6897000074386597, -0.8669000267982483, 0.08259999752044678, 0.4632999897003174, 2.260200023651123, 2.2595999240875244, 2.16759991645813, 2.1672000885009766, 2.1672000885009766, 2.164599895477295, 2.0655999183654785, 2.0655999183654785, 2.0653998851776123, 2.0652999877929688, 2.0652999877929688, 2.061199903488159, 1.907099962234497, 1.8241000175476074, 1.8241000175476074, 1.8241000175476074, 1.8241000175476074, 1.8241000175476074, 1.8241000175476074, 1.8241000175476074, 1.8241000175476074, 1.8241000175476074, 1.8241000175476074, 1.8241000175476074, 1.8241000175476074, 1.8241000175476074, 1.8241000175476074, 1.8241000175476074, 1.8241000175476074, 1.8240000009536743, 1.8003000020980835, 1.7754000425338745, 1.6931999921798706, 1.5824999809265137, 1.4093999862670898, 0.17900000512599945, 1.1705000400543213, 0.9262999892234802, 0.06539999693632126, 0.5259000062942505, -0.3257000148296356, -0.613099992275238, -0.16009999811649323, 0.6137999892234802, -0.3928000032901764, 2.352799892425537, 2.174499988555908, 2.174499988555908, 2.174499988555908, 2.174499988555908, 2.174499988555908, 2.174499988555908, 2.174499988555908, 2.174499988555908, 2.058000087738037, 2.0348000526428223, 2.0348000526428223, 1.9297000169754028, 1.9297000169754028, 1.9297000169754028, 1.9297000169754028, 1.9297000169754028, 1.9297000169754028, 1.9297000169754028, 1.9297000169754028, 1.9297000169754028, 1.9297000169754028, 1.9297000169754028, 1.9297000169754028, 1.9297000169754028, 1.9296000003814697, 1.9296000003814697, 1.902400016784668, 1.8210999965667725, 1.6368999481201172, 1.117300033569336, 1.6296000480651855, 1.4132000207901, 1.4656000137329102, 1.4185999631881714, 0.4332999885082245, 0.32919999957084656, 0.5570999979972839, 0.8036999702453613, 0.7620999813079834, 0.4458000063896179, 0.26429998874664307, 1.205399990081787, 0.8112000226974487, -0.07620000094175339, 2.382499933242798, 2.3635001182556152, 2.3635001182556152, 2.359299898147583, 2.3589000701904297, 2.356600046157837, 2.3304998874664307, 2.319700002670288, 2.319700002670288, 2.1105000972747803, 2.1105000972747803, 2.1105000972747803, 2.1105000972747803, 2.107100009918213, 2.1070001125335693, 2.1066999435424805, 2.106600046157837, 2.106600046157837, 2.106600046157837, 2.1064000129699707, 2.1064000129699707, 2.1059999465942383, 2.1059999465942383, 2.061199903488159, 1.9884999990463257, 1.8737000226974487, 1.7879999876022339, 1.7051000595092773, 1.690999984741211, 1.6899000406265259, 1.4133000373840332, 1.454300045967102, 1.2661999464035034, 1.101099967956543, 1.454300045967102, 1.28410005569458, 0.5022000074386597, 0.44339999556541443, 0.38830000162124634, 0.9900000095367432, 1.1441999673843384, 3.2081000804901123, 2.9786999225616455, 2.9784998893737793, 2.6998000144958496, 2.6998000144958496, 2.6998000144958496, 2.6998000144958496, 2.6998000144958496, 2.6998000144958496, 2.6254000663757324, 2.51419997215271, 2.234299898147583, 2.234299898147583, 1.6060999631881714, 1.4780000448226929, 1.451300024986267, 1.301200032234192, 0.1738000065088272, 0.1738000065088272, 0.1738000065088272, 0.1738000065088272, 0.1737000048160553, 0.1737000048160553, 0.1737000048160553, 0.1737000048160553, 0.1737000048160553, 0.1737000048160553, 0.1737000048160553, 0.1737000048160553, 0.1737000048160553, 0.1737000048160553, 0.09189999848604202, 0.15139999985694885, 0.15129999816417694, -1.5709999799728394, -2.5708000659942627, -0.5837000012397766, -0.5814999938011169, -0.25060001015663147, -1.1390000581741333, -0.25060001015663147, -0.5245000123977661, -0.7797999978065491, -0.2506999969482422]}, \"token.table\": {\"Topic\": [7, 5, 3, 1, 3, 7, 5, 1, 1, 2, 7, 2, 7, 9, 4, 6, 8, 2, 9, 3, 4, 4, 1, 9, 2, 8, 2, 3, 10, 9, 8, 5, 4, 5, 7, 2, 4, 5, 4, 6, 4, 5, 2, 8, 4, 1, 3, 7, 1, 5, 7, 7, 9, 1, 2, 3, 4, 5, 6, 7, 1, 3, 5, 5, 1, 1, 8, 4, 5, 7, 5, 2, 1, 10, 3, 4, 7, 1, 1, 8, 9, 1, 2, 1, 2, 9, 8, 9, 1, 3, 5, 6, 1, 9, 7, 7, 2, 9, 1, 7, 2, 8, 5, 8, 1, 1, 6, 1, 8, 8, 9, 7, 6, 1, 5, 7, 5, 8, 2, 3, 4, 6, 1, 6, 1, 2, 9, 7, 4, 2, 2, 3, 6, 2, 2, 4, 5, 6, 4, 3, 7, 10, 3, 4, 5, 6, 8, 1, 4, 5, 10, 5, 8, 1, 7, 9, 10, 1, 9, 9, 2, 2, 9, 2, 5, 6, 1, 7, 1, 5, 8, 7, 1, 8, 9, 3, 1, 4, 5, 6, 7, 9, 1, 6, 7, 5, 5, 10, 1, 3, 2, 10, 1, 8, 3, 8, 8, 4, 9, 1, 7, 3, 2, 1, 7, 8, 9, 10, 8, 1, 1, 5, 8, 1, 2, 4, 5, 8, 5, 2, 3, 5, 6, 5, 7, 3, 4, 8, 1, 2, 9, 7, 9, 1, 2, 2, 3, 9, 4, 4, 1, 5, 2, 5, 6, 2, 6, 9, 10, 5, 6, 3, 5, 7, 10, 3, 4, 3, 8, 7, 10, 6, 5, 6, 6, 7, 7, 8, 4, 5, 8, 2, 5, 9, 2, 4, 2, 6, 6, 4, 9, 1, 6, 10, 5, 1, 4, 6, 3, 4, 9, 10, 8, 3, 7, 1, 8, 9, 2, 3, 9, 5, 10, 5, 4, 5, 4, 5, 7, 7, 7, 3, 4, 5, 6, 8, 1, 4, 9, 1, 2, 4, 2, 9, 5, 4, 6, 6, 8, 3, 3, 6, 8, 7, 10, 3, 4, 5, 8, 3, 8, 1, 6, 8, 8, 7, 1, 3, 2, 3, 5, 6, 7, 8, 2, 1, 9, 4, 5, 4, 2, 3, 5, 6, 1, 8, 9, 2, 3, 7, 1, 4, 5, 7, 8, 1, 7, 8, 10, 3, 6, 9, 8, 4, 1, 2, 4, 6, 4, 6, 8, 6, 7, 8, 7, 9, 9, 5, 1, 2, 9, 4, 2, 2, 1, 9, 3, 7, 9, 1, 2, 3, 7, 9, 2, 8, 3, 8, 4, 4, 4, 7, 7, 7, 2, 5, 8, 5, 6, 4, 4, 2, 9, 5, 1, 7, 5, 6, 9, 7, 9, 2, 2, 9, 5, 1, 7, 9, 9, 4, 7, 1, 2, 8, 5, 5, 6, 1, 4, 5, 7, 2, 3, 6, 1, 1, 4, 8, 9, 8, 2, 3, 6, 7, 3, 2, 1, 2, 9, 4, 5, 10, 1, 2, 3, 5, 6, 8, 7, 1, 8, 7, 3], \"Freq\": [0.6523374915122986, 0.8645803332328796, 0.6313373446464539, 0.8226141929626465, 0.8331311345100403, 0.6523375511169434, 0.8645802736282349, 0.6252954006195068, 0.6252954602241516, 0.810171365737915, 0.6523376107215881, 0.6608264446258545, 0.07342515885829926, 0.293700635433197, 0.6344972848892212, 0.7515469193458557, 0.2505156397819519, 0.8040793538093567, 0.06700661778450012, 0.4977407455444336, 0.4977407455444336, 0.8386486768722534, 0.6252708435058594, 0.45318248867988586, 0.8101615309715271, 0.65863436460495, 0.6086323261260986, 0.3043161630630493, 0.6856564283370972, 0.454973965883255, 0.6586272120475769, 0.6492385864257812, 0.6332798004150391, 0.31663990020751953, 0.6527056694030762, 0.6178783178329468, 0.6344589591026306, 0.6486327648162842, 0.6346761584281921, 0.8276868462562561, 0.8386420011520386, 0.8633173108100891, 0.8098841905593872, 0.8813578486442566, 0.8385847210884094, 0.3094150125980377, 0.4641225337982178, 0.15470750629901886, 0.3636004328727722, 0.1818002164363861, 0.3636004328727722, 0.44485709071159363, 0.44485709071159363, 0.023719502612948418, 0.047439005225896835, 0.3557925224304199, 0.2134755253791809, 0.023719502612948418, 0.2134755253791809, 0.09487801045179367, 0.252425879240036, 0.252425879240036, 0.504851758480072, 0.8645804524421692, 0.6252694725990295, 0.5086306929588318, 0.5086306929588318, 0.7495183348655701, 0.3255760371685028, 0.6511520743370056, 0.863391101360321, 0.8098703622817993, 0.8226373195648193, 0.7668513059616089, 0.4176810383796692, 0.2784540355205536, 0.2784540355205536, 0.8226142525672913, 0.6252694129943848, 0.8813605308532715, 0.4548282325267792, 0.8227408528327942, 0.617878258228302, 0.8226193189620972, 0.4328594207763672, 0.4328594207763672, 0.6586272716522217, 0.6745852828025818, 0.8227333426475525, 0.4147280156612396, 0.2073640078306198, 0.4147280156612396, 0.32630446553230286, 0.32630446553230286, 0.6523376703262329, 0.6523376107215881, 0.8098763227462769, 0.6745889186859131, 0.8226786851882935, 0.6526408195495605, 0.809878408908844, 0.65863436460495, 0.8633211851119995, 0.65863436460495, 0.8227820992469788, 0.6107792258262634, 0.4071861505508423, 0.3164800703525543, 0.3164800703525543, 0.6701961159706116, 0.3350980579853058, 0.6523374319076538, 0.628192126750946, 0.5100966691970825, 0.3967418372631073, 0.056677404791116714, 0.6492191553115845, 0.8841460347175598, 0.07010486721992493, 0.630943775177002, 0.24536703526973724, 0.03505243360996246, 0.17496781051158905, 0.8748390674591064, 0.9431611895561218, 0.809879720211029, 0.6745901703834534, 0.6523375511169434, 0.6344588398933411, 0.617877721786499, 0.48655515909194946, 0.24327757954597473, 0.24327757954597473, 0.8098781704902649, 0.08852484822273254, 0.6196739077568054, 0.08852484822273254, 0.1770496964454651, 0.6344589591026306, 0.8331311345100403, 0.6523376703262329, 0.7668511867523193, 0.23389862477779388, 0.31186482310295105, 0.07796620577573776, 0.23389862477779388, 0.15593241155147552, 0.4106723666191101, 0.5475631356239319, 0.8630521297454834, 0.7668513059616089, 0.6492198705673218, 0.8813521265983582, 0.5681365728378296, 0.18937885761260986, 0.18937885761260986, 0.18937885761260986, 0.7541897892951965, 0.2513965964317322, 0.674597978591919, 0.8101481199264526, 0.5130364894866943, 0.25651824474334717, 0.08936842530965805, 0.44684213399887085, 0.3574737012386322, 0.8226754069328308, 0.6523377299308777, 0.23502157628536224, 0.23502157628536224, 0.4700431525707245, 0.6523376703262329, 0.2595984637737274, 0.5191969275474548, 0.6745948195457458, 0.9266749024391174, 0.293722927570343, 0.35246750712394714, 0.058744583278894424, 0.17623375356197357, 0.11748916655778885, 0.6745786666870117, 0.5229902863502502, 0.5229902863502502, 0.6527062058448792, 0.6492199897766113, 0.6492192149162292, 0.7668513059616089, 0.4922183156013489, 0.4922183156013489, 0.797656774520874, 0.7668511867523193, 0.5437409281730652, 0.36249393224716187, 0.9588546752929688, 0.6586273312568665, 0.8813486695289612, 0.7494624257087708, 0.6746563911437988, 0.6252694725990295, 0.8701105713844299, 0.8331341743469238, 0.8098788261413574, 0.6256198287010193, 0.31280991435050964, 0.6586276888847351, 0.18413245677947998, 0.5523973703384399, 0.65863436460495, 0.8226141929626465, 0.42470619082450867, 0.21235309541225433, 0.42470619082450867, 0.38940563797950745, 0.04326729103922844, 0.1298018842935562, 0.17306916415691376, 0.2596037685871124, 0.8643336892127991, 0.13703598082065582, 0.04567866027355194, 0.27407196164131165, 0.4567866027355194, 0.649219810962677, 0.8701098561286926, 0.5621567964553833, 0.3372940719127655, 0.6586417555809021, 0.2489861398935318, 0.4979722797870636, 0.2489861398935318, 0.4448491334915161, 0.4448491334915161, 0.3029000461101532, 0.6058000922203064, 0.3201538324356079, 0.3201538324356079, 0.3201538324356079, 0.8385848999023438, 0.6346474289894104, 0.9694647789001465, 0.6492192149162292, 0.08396847546100616, 0.5038108825683594, 0.33587390184402466, 0.4400685131549835, 0.22003425657749176, 0.22003425657749176, 0.22003425657749176, 0.8629159927368164, 0.628192126750946, 0.22600625455379486, 0.22600625455379486, 0.4520125091075897, 0.22600625455379486, 0.686366856098175, 0.27454674243927, 0.32483893632888794, 0.6496778726577759, 0.5495631694793701, 0.4121723771095276, 0.6281923055648804, 0.864580512046814, 0.6281919479370117, 0.6281920671463013, 0.870120644569397, 0.6523421406745911, 0.6586421132087708, 0.8386372327804565, 0.4358026385307312, 0.4358026385307312, 0.41687679290771484, 0.5558357238769531, 0.6746564507484436, 0.309022456407547, 0.618044912815094, 0.6850299835205078, 0.17125749588012695, 0.6281922459602356, 0.6451981067657471, 0.32259905338287354, 0.9196116924285889, 0.628192126750946, 0.7668513059616089, 0.8633996248245239, 0.3520890772342682, 0.3520890772342682, 0.1760445386171341, 0.49774080514907837, 0.49774080514907837, 0.18412289023399353, 0.552368700504303, 0.881358802318573, 0.833130955696106, 0.8701121807098389, 0.2596122622489929, 0.5192245244979858, 0.9102979898452759, 0.8098810911178589, 0.8331310153007507, 0.6745858192443848, 0.48147478699684143, 0.48147478699684143, 0.862981915473938, 0.6331082582473755, 0.31655412912368774, 0.5097562670707703, 0.25487813353538513, 0.25487813353538513, 0.8704601526260376, 0.8699893951416016, 0.48724958300590515, 0.0885908380150795, 0.04429541900753975, 0.2657724916934967, 0.0885908380150795, 0.28395944833755493, 0.6625720262527466, 0.45318248867988586, 0.30299854278564453, 0.6059970855712891, 0.8385844826698303, 0.617878258228302, 0.6745781898498535, 0.6492192149162292, 0.8386386632919312, 0.6281919479370117, 0.6314620971679688, 0.3157310485839844, 0.8860216736793518, 0.8331310153007507, 0.6281928420066833, 0.8813610076904297, 0.460622102022171, 0.460622102022171, 0.22444476187229156, 0.1496298462152481, 0.3740746080875397, 0.1496298462152481, 0.833130955696106, 0.6586276888847351, 0.3535252511501312, 0.3535252511501312, 0.1767626255750656, 0.881358802318573, 0.6523375511169434, 0.822706937789917, 0.8331310153007507, 0.1477614939212799, 0.24626915156841278, 0.09850765764713287, 0.44328445196151733, 0.04925382882356644, 0.04925382882356644, 0.617878258228302, 0.625309407711029, 0.6745892763137817, 0.7495176196098328, 0.864580512046814, 0.7495738863945007, 0.8101569414138794, 0.8331310153007507, 0.6492205262184143, 0.6281922459602356, 0.5134134888648987, 0.25670674443244934, 0.25670674443244934, 0.5213963985443115, 0.1737988144159317, 0.1737988144159317, 0.44644689559936523, 0.17857876420021057, 0.17857876420021057, 0.08928938210010529, 0.08928938210010529, 0.6167923808097839, 0.0881131961941719, 0.0881131961941719, 0.1762263923883438, 0.6836721301078796, 0.13673442602157593, 0.9102978706359863, 0.65863436460495, 0.8386335968971252, 0.6252701282501221, 0.6013153791427612, 0.24052613973617554, 0.12026306986808777, 0.8386368751525879, 0.6281919479370117, 0.6586344242095947, 0.628192126750946, 0.6523377299308777, 0.8813600540161133, 0.17067383229732513, 0.6826953291893005, 0.6746563911437988, 0.6487500667572021, 0.12684588134288788, 0.7610753178596497, 0.06342294067144394, 0.8386440873146057, 0.8098788857460022, 0.7194721698760986, 0.9195516109466553, 0.674656093120575, 0.631509006023407, 0.33750632405281067, 0.33750632405281067, 0.6252701282501221, 0.7107096314430237, 0.1421419233083725, 0.07107096165418625, 0.07107096165418625, 0.6180192828178406, 0.6586271524429321, 0.6346185803413391, 0.31730929017066956, 0.6261788606643677, 0.8386477828025818, 0.6348462104797363, 0.31742310523986816, 0.6523374915122986, 0.6527182459831238, 0.10733626037836075, 0.6440175771713257, 0.2146725207567215, 0.15421079099178314, 0.7710539698600769, 0.8386341333389282, 0.6344588398933411, 0.7017940282821655, 0.17544850707054138, 0.6492204666137695, 0.5332587957382202, 0.3555058538913727, 0.15421076118946075, 0.7710538506507874, 0.45508232712745667, 0.19447392225265503, 0.5834217667579651, 0.8101604580879211, 0.6208081841468811, 0.15520204603672028, 0.7773724794387817, 0.11962316930294037, 0.5981158018112183, 0.23924633860588074, 0.6745880842208862, 0.8385865092277527, 0.8701207637786865, 0.5579897165298462, 0.2231958955526352, 0.2231958955526352, 0.6492192149162292, 0.4228706359863281, 0.4228706359863281, 0.6252954602241516, 0.8386621475219727, 0.6466596722602844, 0.8704378604888916, 0.4865539073944092, 0.2432769536972046, 0.2432769536972046, 0.6252694725990295, 0.4256746172904968, 0.2128373086452484, 0.2128373086452484, 0.2128373086452484, 0.65863436460495, 0.15229114890098572, 0.22843670845031738, 0.5330190062522888, 0.6523377299308777, 0.833130955696106, 0.8101534843444824, 0.14219419658184052, 0.7109709978103638, 0.07109709829092026, 0.7495175004005432, 0.481474906206131, 0.481474906206131, 0.17060746252536774, 0.08530373126268387, 0.46917054057121277, 0.08530373126268387, 0.1279556006193161, 0.1279556006193161, 0.6523374915122986, 0.5571526885032654, 0.2785763442516327, 0.6523376107215881, 0.8331343531608582], \"Term\": [\"abril\", \"abrir\", \"acordar\", \"actualizar\", \"acudir\", \"adaptador\", \"adhesivo\", \"adicional\", \"adjunto\", \"afectar\", \"agostar\", \"aguar\", \"aguar\", \"aguar\", \"aire\", \"ajustar\", \"ajustar\", \"alarmar\", \"alarmar\", \"anomalia\", \"anomalia\", \"anterior\", \"apretar\", \"aprobacion\", \"aproximar\", \"arrojar\", \"asignar\", \"asignar\", \"atender\", \"atendera\", \"automatica\", \"automatico\", \"banco\", \"banco\", \"bano\", \"basurero\", \"bavo\", \"blackmer\", \"blender\", \"bloquear\", \"board\", \"boca\", \"bodega\", \"bombo\", \"boto\", \"breakaway\", \"breakaway\", \"breakaway\", \"calibracion\", \"calibracion\", \"calibracion\", \"camaras\", \"camaras\", \"cambiar\", \"cambiar\", \"cambiar\", \"cambiar\", \"cambiar\", \"cambiar\", \"cambiar\", \"cerrar\", \"cerrar\", \"cerrar\", \"certificacion\", \"certificar\", \"chequeo\", \"chequeo\", \"chocar\", \"cliente\", \"cliente\", \"codigo\", \"cold\", \"combustible\", \"comenzar\", \"condicionar\", \"condicionar\", \"condicionar\", \"confeccion\", \"confeccionar\", \"configurar\", \"contaminar\", \"contar\", \"contratar\", \"convencional\", \"coordinar\", \"coordinar\", \"copla\", \"correcto\", \"corresponder\", \"cortar\", \"cortar\", \"cortar\", \"cotizacion\", \"cotizacion\", \"cotizar\", \"deber\", \"dejar\", \"depositar\", \"derivar\", \"descargar\", \"desconectar\", \"descontaminar\", \"deshabilita\", \"desmontar\", \"despa\", \"despachar\", \"despachar\", \"despacho\", \"despacho\", \"detectar\", \"detectar\", \"detector\", \"dia\", \"diesel\", \"diesel\", \"diesel\", \"disconformidad\", \"disipar\", \"disp\", \"disp\", \"disp\", \"disp\", \"dispensador\", \"dispensador\", \"dispenser\", \"dispositivo\", \"doblar\", \"eds\", \"ejecutar\", \"eliminar\", \"emergencia\", \"emergencia\", \"emergencia\", \"emitir\", \"encore\", \"encore\", \"encore\", \"encore\", \"energy\", \"enmoptimas\", \"entregar\", \"envia\", \"equipar\", \"equipar\", \"equipar\", \"equipar\", \"equipar\", \"equipo\", \"equipo\", \"error\", \"especial\", \"esperar\", \"est\", \"estancar\", \"estancar\", \"estancar\", \"estancar\", \"estanque\", \"estanque\", \"evitar\", \"extension\", \"extraccion\", \"extraccion\", \"extraer\", \"extraer\", \"extraer\", \"fabricacion\", \"fabricar\", \"fallo\", \"fallo\", \"fallo\", \"fecho\", \"filtracion\", \"filtracion\", \"filtraci\\u00f3n\", \"filtrar\", \"filtro\", \"filtro\", \"filtro\", \"filtro\", \"filtro\", \"fin\", \"flujo\", \"flujo\", \"fluorescente\", \"fondo\", \"formar\", \"foto\", \"funcionamiento\", \"funcionamiento\", \"funcionar\", \"gas\", \"gasolina\", \"gasolina\", \"gatillo\", \"giratorio\", \"goma\", \"graficas\", \"hacer\", \"hermeticidad\", \"hombre\", \"hose\", \"humedad\", \"identificacion\", \"identificacion\", \"identificar\", \"incidencia\", \"incidencia\", \"inoperativo\", \"instalacion\", \"instalar\", \"instalar\", \"instalar\", \"isla\", \"isla\", \"isla\", \"isla\", \"isla\", \"laboratorio\", \"lado\", \"lado\", \"lado\", \"lado\", \"lec\", \"led\", \"lento\", \"lento\", \"levantar\", \"limpiar\", \"limpiar\", \"limpiar\", \"limpieza\", \"limpieza\", \"limpio\", \"limpio\", \"litro\", \"litro\", \"litro\", \"llevar\", \"lmi\", \"lmin\", \"locual\", \"ltrs\", \"ltrs\", \"ltrs\", \"lts\", \"lts\", \"lts\", \"lts\", \"lubricar\", \"lunes\", \"mal\", \"mal\", \"mal\", \"mal\", \"malo\", \"malo\", \"manguera\", \"manguera\", \"mantencion\", \"mantencion\", \"mantener\", \"maquinar\", \"mas\", \"master\", \"mes\", \"mezclar\", \"minuto\", \"mo\", \"mostrar\", \"mostrar\", \"motor\", \"motor\", \"muestra\", \"nl\", \"nl\", \"normal\", \"normal\", \"nro\", \"nuevo\", \"nuevo\", \"observar\", \"octano\", \"ods\", \"operar\", \"operativo\", \"operativo\", \"operativo\", \"optimas\", \"optimas\", \"ot\", \"ot\", \"palanca\", \"parametros\", \"partidor\", \"partir\", \"partir\", \"pasarse\", \"pedira\", \"pegar\", \"perimetral\", \"periodo\", \"periodo\", \"persistir\", \"personal\", \"personal\", \"petrobras\", \"petrobras\", \"petrobras\", \"pintar\", \"pintura\", \"pistola\", \"pistola\", \"pistola\", \"pistola\", \"pistola\", \"placa\", \"placa\", \"plataforma\", \"plazo\", \"plazo\", \"portar\", \"pos\", \"posicionamiento\", \"positivo\", \"pozo\", \"pre\", \"precorte\", \"precorte\", \"predeterminar\", \"presentar\", \"preset\", \"presurizacion\", \"preventivo\", \"preventivo\", \"probar\", \"probar\", \"probar\", \"probar\", \"problema\", \"producir\", \"producto\", \"producto\", \"producto\", \"programacion\", \"programar\", \"promediar\", \"pronlema\", \"prueba\", \"prueba\", \"prueba\", \"prueba\", \"prueba\", \"prueba\", \"puerta\", \"punto\", \"qiueda\", \"quebrar\", \"quedsndo\", \"quemar\", \"quendo\", \"real\", \"reapreite\", \"recircula\", \"recirculacion\", \"recirculacion\", \"recirculacion\", \"recuperacion\", \"recuperacion\", \"recuperacion\", \"reemplazar\", \"reemplazar\", \"reemplazar\", \"reemplazar\", \"reemplazar\", \"reglar\", \"reglar\", \"reglar\", \"reglar\", \"reinicia\", \"reinicia\", \"reinician\", \"reinstalar\", \"rele\", \"remarcar\", \"reponer\", \"reponer\", \"reponer\", \"repuesto\", \"reset\", \"resistivo\", \"resolver\", \"respuesta\", \"retencion\", \"retirar\", \"retirar\", \"retornar\", \"reunion\", \"root\", \"root\", \"root\", \"ruben\", \"ruido\", \"sacar\", \"saturar\", \"sdjunta\", \"sec\", \"sellar\", \"sellar\", \"senalado\", \"sensor\", \"sensor\", \"sensor\", \"sensor\", \"sera\", \"serevisa\", \"servicio\", \"servicio\", \"set\", \"soldadura\", \"solicitar\", \"solicitar\", \"solo\", \"spill\", \"srv\", \"srv\", \"srv\", \"stock\", \"stock\", \"stp\", \"subcontratar\", \"sump\", \"sump\", \"swivel\", \"tabla\", \"tabla\", \"tablet\", \"tablet\", \"tambien\", \"tambor\", \"tambor\", \"tamk\", \"tank\", \"tank\", \"tanque\", \"tapar\", \"tapar\", \"tapar\", \"tarro\", \"teclado\", \"tiempo\", \"tk\", \"tk\", \"tk\", \"tolerancia\", \"total\", \"total\", \"trabajar\", \"trabajo\", \"trabar\", \"tubo\", \"turnar\", \"turnar\", \"turnar\", \"ultimar\", \"utilizar\", \"utilizar\", \"utilizar\", \"utilizar\", \"valor\", \"vapor\", \"vapor\", \"vapor\", \"vaporar\", \"variar\", \"vedeer\", \"veeder\", \"veeder\", \"veeder\", \"vehicular\", \"vencer\", \"vencer\", \"venta\", \"venta\", \"venta\", \"venta\", \"venta\", \"venta\", \"verificacion\", \"verificar\", \"verificar\", \"volumetrica\", \"wipe\"]}, \"R\": 30, \"lambda.step\": 0.01, \"plot.opts\": {\"xlab\": \"PC1\", \"ylab\": \"PC2\"}, \"topic.order\": [7, 9, 2, 1, 8, 5, 4, 3, 10, 6]};\n",
       "\n",
       "function LDAvis_load_lib(url, callback){\n",
       "  var s = document.createElement('script');\n",
       "  s.src = url;\n",
       "  s.async = true;\n",
       "  s.onreadystatechange = s.onload = callback;\n",
       "  s.onerror = function(){console.warn(\"failed to load library \" + url);};\n",
       "  document.getElementsByTagName(\"head\")[0].appendChild(s);\n",
       "}\n",
       "\n",
       "if(typeof(LDAvis) !== \"undefined\"){\n",
       "   // already loaded: just create the visualization\n",
       "   !function(LDAvis){\n",
       "       new LDAvis(\"#\" + \"ldavis_el586423857458431443371291649\", ldavis_el586423857458431443371291649_data);\n",
       "   }(LDAvis);\n",
       "}else if(typeof define === \"function\" && define.amd){\n",
       "   // require.js is available: use it to load d3/LDAvis\n",
       "   require.config({paths: {d3: \"https://cdnjs.cloudflare.com/ajax/libs/d3/3.5.5/d3.min\"}});\n",
       "   require([\"d3\"], function(d3){\n",
       "      window.d3 = d3;\n",
       "      LDAvis_load_lib(\"https://cdn.rawgit.com/bmabey/pyLDAvis/files/ldavis.v1.0.0.js\", function(){\n",
       "        new LDAvis(\"#\" + \"ldavis_el586423857458431443371291649\", ldavis_el586423857458431443371291649_data);\n",
       "      });\n",
       "    });\n",
       "}else{\n",
       "    // require.js not available: dynamically load d3 & LDAvis\n",
       "    LDAvis_load_lib(\"https://cdnjs.cloudflare.com/ajax/libs/d3/3.5.5/d3.min.js\", function(){\n",
       "         LDAvis_load_lib(\"https://cdn.rawgit.com/bmabey/pyLDAvis/files/ldavis.v1.0.0.js\", function(){\n",
       "                 new LDAvis(\"#\" + \"ldavis_el586423857458431443371291649\", ldavis_el586423857458431443371291649_data);\n",
       "            })\n",
       "         });\n",
       "}\n",
       "</script>"
      ],
      "text/plain": [
       "PreparedData(topic_coordinates=              x         y  topics  cluster       Freq\n",
       "topic                                                \n",
       "6      0.085831 -0.170451       1        1  14.787221\n",
       "8      0.069038  0.226485       2        1  14.236382\n",
       "1     -0.201717  0.080607       3        1  13.171263\n",
       "0     -0.123929 -0.037643       4        1  11.293564\n",
       "7     -0.083154 -0.075468       5        1  10.231304\n",
       "4     -0.168232  0.053946       6        1  10.045412\n",
       "3      0.089068 -0.030024       7        1   8.864578\n",
       "2      0.008258 -0.123246       8        1   7.898562\n",
       "9      0.194116  0.113142       9        1   6.428781\n",
       "5      0.130720 -0.037348      10        1   3.042937, topic_info=           Term       Freq      Total Category  logprob  loglift\n",
       "41         disp  28.000000  28.000000  Default  30.0000  30.0000\n",
       "19      cambiar  42.000000  42.000000  Default  29.0000  29.0000\n",
       "221        lado  21.000000  21.000000  Default  28.0000  28.0000\n",
       "29      alarmar  14.000000  14.000000  Default  27.0000  27.0000\n",
       "109      diesel  17.000000  17.000000  Default  26.0000  26.0000\n",
       "..          ...        ...        ...      ...      ...      ...\n",
       "114    gasolina   0.053746   5.517334  Topic10  -6.6293  -1.1390\n",
       "136  configurar   0.053744   2.269219  Topic10  -6.6294  -0.2506\n",
       "59     detectar   0.053743   2.984201  Topic10  -6.6294  -0.5245\n",
       "143      partir   0.053741   3.851898  Topic10  -6.6294  -0.7798\n",
       "148   retencion   0.053741   2.269220  Topic10  -6.6294  -0.2507\n",
       "\n",
       "[466 rows x 6 columns], token_table=      Topic      Freq          Term\n",
       "term                               \n",
       "183       7  0.652337         abril\n",
       "238       5  0.864580         abrir\n",
       "208       3  0.631337       acordar\n",
       "286       1  0.822614    actualizar\n",
       "272       3  0.833131        acudir\n",
       "...     ...       ...           ...\n",
       "26        7  0.652337  verificacion\n",
       "132       1  0.557153     verificar\n",
       "132       8  0.278576     verificar\n",
       "27        7  0.652338   volumetrica\n",
       "271       3  0.833134          wipe\n",
       "\n",
       "[493 rows x 3 columns], R=30, lambda_step=0.01, plot_opts={'xlab': 'PC1', 'ylab': 'PC2'}, topic_order=[7, 9, 2, 1, 8, 5, 4, 3, 10, 6])"
      ]
     },
     "execution_count": 67,
     "metadata": {},
     "output_type": "execute_result"
    }
   ],
   "source": [
    "# Visualize the topics\n",
    "pyLDAvis.enable_notebook()\n",
    "vis = pyLDAvis.gensim.prepare(lda_model, corpus, id2word)\n",
    "vis"
   ]
  },
  {
   "cell_type": "markdown",
   "metadata": {},
   "source": [
    "## C)  LDA MALLET"
   ]
  },
  {
   "cell_type": "code",
   "execution_count": 68,
   "metadata": {},
   "outputs": [],
   "source": [
    "mallet_path = 'C:/Users/alexa/mallet-2.0.8/bin/mallet.bat' # update this path\n",
    "ldamallet = gensim.models.wrappers.LdaMallet(mallet_path, corpus=corpus, num_topics=10, id2word=id2word)"
   ]
  },
  {
   "cell_type": "code",
   "execution_count": 69,
   "metadata": {
    "scrolled": false
   },
   "outputs": [
    {
     "name": "stdout",
     "output_type": "stream",
     "text": [
      "[(0,\n",
      "  [('cambiar', 0.2903225806451613),\n",
      "   ('disp', 0.21935483870967742),\n",
      "   ('lento', 0.06451612903225806),\n",
      "   ('malo', 0.05161290322580645),\n",
      "   ('gatillo', 0.05161290322580645),\n",
      "   ('filtrar', 0.04516129032258064),\n",
      "   ('vehicular', 0.025806451612903226),\n",
      "   ('chocar', 0.025806451612903226),\n",
      "   ('petrobras', 0.01935483870967742),\n",
      "   ('personal', 0.01935483870967742),\n",
      "   ('pistola', 0.012903225806451613),\n",
      "   ('convencional', 0.012903225806451613),\n",
      "   ('acudir', 0.012903225806451613),\n",
      "   ('tiempo', 0.012903225806451613),\n",
      "   ('danadas', 0.0064516129032258064)]),\n",
      " (1,\n",
      "  [('lado', 0.2222222222222222),\n",
      "   ('diesel', 0.1794871794871795),\n",
      "   ('ltrs', 0.11965811965811966),\n",
      "   ('extraer', 0.1111111111111111),\n",
      "   ('producto', 0.042735042735042736),\n",
      "   ('mostrar', 0.042735042735042736),\n",
      "   ('turnar', 0.02564102564102564),\n",
      "   ('tanque', 0.02564102564102564),\n",
      "   ('variar', 0.017094017094017096),\n",
      "   ('maquinar', 0.017094017094017096),\n",
      "   ('dispositivo', 0.017094017094017096),\n",
      "   ('actualizar', 0.017094017094017096),\n",
      "   ('lubricar', 0.008547008547008548),\n",
      "   ('filtro', 0.008547008547008548),\n",
      "   ('tratar', 0.008547008547008548)]),\n",
      " (2,\n",
      "  [('reglar', 0.12173913043478261),\n",
      "   ('tk', 0.08695652173913043),\n",
      "   ('tabla', 0.05217391304347826),\n",
      "   ('boca', 0.043478260869565216),\n",
      "   ('calibracion', 0.043478260869565216),\n",
      "   ('estanque', 0.034782608695652174),\n",
      "   ('tablet', 0.034782608695652174),\n",
      "   ('estancar', 0.034782608695652174),\n",
      "   ('cerrar', 0.034782608695652174),\n",
      "   ('sellar', 0.02608695652173913),\n",
      "   ('filtracion', 0.02608695652173913),\n",
      "   ('fluorescente', 0.02608695652173913),\n",
      "   ('identificacion', 0.02608695652173913),\n",
      "   ('certificacion', 0.017391304347826087),\n",
      "   ('wipe', 0.017391304347826087)]),\n",
      " (3,\n",
      "  [('encore', 0.1111111111111111),\n",
      "   ('srv', 0.09401709401709402),\n",
      "   ('reponer', 0.07692307692307693),\n",
      "   ('motor', 0.06837606837606838),\n",
      "   ('recuperacion', 0.05128205128205128),\n",
      "   ('lts', 0.042735042735042736),\n",
      "   ('graficas', 0.03418803418803419),\n",
      "   ('emergencia', 0.03418803418803419),\n",
      "   ('limpio', 0.02564102564102564),\n",
      "   ('despacho', 0.02564102564102564),\n",
      "   ('asignar', 0.02564102564102564),\n",
      "   ('trabar', 0.02564102564102564),\n",
      "   ('nl', 0.02564102564102564),\n",
      "   ('humedad', 0.017094017094017096),\n",
      "   ('teclado', 0.017094017094017096)]),\n",
      " (4,\n",
      "  [('probar', 0.12307692307692308),\n",
      "   ('placa', 0.08461538461538462),\n",
      "   ('equipo', 0.06153846153846154),\n",
      "   ('dispenser', 0.06153846153846154),\n",
      "   ('operativo', 0.046153846153846156),\n",
      "   ('cambiar', 0.046153846153846156),\n",
      "   ('instalar', 0.038461538461538464),\n",
      "   ('quemar', 0.03076923076923077),\n",
      "   ('recirculacion', 0.03076923076923077),\n",
      "   ('banco', 0.023076923076923078),\n",
      "   ('spill', 0.023076923076923078),\n",
      "   ('nuevo', 0.023076923076923078),\n",
      "   ('trabajo', 0.015384615384615385),\n",
      "   ('rele', 0.015384615384615385),\n",
      "   ('descargar', 0.015384615384615385)]),\n",
      " (5,\n",
      "  [('mantencion', 0.08196721311475409),\n",
      "   ('tapar', 0.08196721311475409),\n",
      "   ('preventivo', 0.07377049180327869),\n",
      "   ('incidencia', 0.06557377049180328),\n",
      "   ('ot', 0.06557377049180328),\n",
      "   ('retirar', 0.05737704918032787),\n",
      "   ('tambor', 0.04918032786885246),\n",
      "   ('coordinar', 0.040983606557377046),\n",
      "   ('pintar', 0.040983606557377046),\n",
      "   ('atender', 0.03278688524590164),\n",
      "   ('partir', 0.03278688524590164),\n",
      "   ('bano', 0.02459016393442623),\n",
      "   ('cotizacion', 0.02459016393442623),\n",
      "   ('atendera', 0.01639344262295082),\n",
      "   ('contaminar', 0.01639344262295082)]),\n",
      " (6,\n",
      "  [('root', 0.11042944785276074),\n",
      "   ('alarmar', 0.10429447852760736),\n",
      "   ('aguar', 0.09815950920245399),\n",
      "   ('veeder', 0.09815950920245399),\n",
      "   ('sensor', 0.09815950920245399),\n",
      "   ('sump', 0.07975460122699386),\n",
      "   ('litro', 0.04294478527607362),\n",
      "   ('tank', 0.04294478527607362),\n",
      "   ('normal', 0.03680981595092025),\n",
      "   ('funcionar', 0.03067484662576687),\n",
      "   ('limpiar', 0.024539877300613498),\n",
      "   ('extraccion', 0.024539877300613498),\n",
      "   ('sacar', 0.024539877300613498),\n",
      "   ('aproximar', 0.012269938650306749),\n",
      "   ('tamk', 0.012269938650306749)]),\n",
      " (7,\n",
      "  [('pistola', 0.1968503937007874),\n",
      "   ('vapor', 0.11811023622047244),\n",
      "   ('condicionar', 0.06299212598425197),\n",
      "   ('stock', 0.05511811023622047),\n",
      "   ('manguera', 0.05511811023622047),\n",
      "   ('breakaway', 0.05511811023622047),\n",
      "   ('mal', 0.03937007874015748),\n",
      "   ('tubo', 0.03937007874015748),\n",
      "   ('anomalia', 0.031496062992125984),\n",
      "   ('optimas', 0.031496062992125984),\n",
      "   ('gasolina', 0.031496062992125984),\n",
      "   ('tablet', 0.023622047244094488),\n",
      "   ('cliente', 0.023622047244094488),\n",
      "   ('pegar', 0.015748031496062992),\n",
      "   ('presentar', 0.015748031496062992)]),\n",
      " (8,\n",
      "  [('venta', 0.19858156028368795),\n",
      "   ('prueba', 0.1702127659574468),\n",
      "   ('equipar', 0.10638297872340426),\n",
      "   ('reinicia', 0.05673758865248227),\n",
      "   ('predeterminar', 0.0425531914893617),\n",
      "   ('cortar', 0.03546099290780142),\n",
      "   ('quebrar', 0.028368794326241134),\n",
      "   ('ajustar', 0.028368794326241134),\n",
      "   ('servicio', 0.02127659574468085),\n",
      "   ('detectar', 0.02127659574468085),\n",
      "   ('observar', 0.02127659574468085),\n",
      "   ('fugar', 0.014184397163120567),\n",
      "   ('portar', 0.014184397163120567),\n",
      "   ('parametros', 0.014184397163120567),\n",
      "   ('despa', 0.014184397163120567)]),\n",
      " (9,\n",
      "  [('isla', 0.17333333333333334),\n",
      "   ('filtro', 0.12666666666666668),\n",
      "   ('reemplazar', 0.08666666666666667),\n",
      "   ('fallo', 0.06666666666666667),\n",
      "   ('lmin', 0.06),\n",
      "   ('verificar', 0.05333333333333334),\n",
      "   ('flujo', 0.04),\n",
      "   ('dispensador', 0.03333333333333333),\n",
      "   ('utilizar', 0.03333333333333333),\n",
      "   ('despachar', 0.03333333333333333),\n",
      "   ('disipar', 0.03333333333333333),\n",
      "   ('chequeo', 0.02666666666666667),\n",
      "   ('saturar', 0.02),\n",
      "   ('funcionamiento', 0.02),\n",
      "   ('precorte', 0.02)])]\n",
      "\n",
      "Coherence Score:  0.5635527036926676\n"
     ]
    }
   ],
   "source": [
    "# Show Topics\n",
    "pprint(ldamallet.show_topics(formatted=False, num_words = 15))\n",
    "\n",
    "# Compute Coherence Score\n",
    "coherence_model_ldamallet = CoherenceModel(model=ldamallet, texts=texts, dictionary=id2word, coherence='c_v')\n",
    "coherence_ldamallet = coherence_model_ldamallet.get_coherence()\n",
    "print('\\nCoherence Score: ', coherence_ldamallet)"
   ]
  },
  {
   "cell_type": "code",
   "execution_count": 70,
   "metadata": {},
   "outputs": [
    {
     "data": {
      "text/html": [
       "\n",
       "<link rel=\"stylesheet\" type=\"text/css\" href=\"https://cdn.rawgit.com/bmabey/pyLDAvis/files/ldavis.v1.0.0.css\">\n",
       "\n",
       "\n",
       "<div id=\"ldavis_el586423846938477528110875395\"></div>\n",
       "<script type=\"text/javascript\">\n",
       "\n",
       "var ldavis_el586423846938477528110875395_data = {\"mdsDat\": {\"x\": [-0.1087168315070982, -0.20172167119505172, 0.317715256797443, -0.03246748697410478, 0.28835050064764706, -0.04410964973596295, -0.0022164222702346567, -0.07214455727299994, -0.18065841463333207, 0.03596927614369427], \"y\": [0.12748288219462436, 0.1847560590919533, 0.10678535452679776, -0.07783008751536918, 0.12339671865493215, -0.24894873636807835, -0.08304449716396069, -0.18327416651463918, 0.21750260083782416, -0.16682612774408453], \"topics\": [1, 2, 3, 4, 5, 6, 7, 8, 9, 10], \"cluster\": [1, 1, 1, 1, 1, 1, 1, 1, 1, 1], \"Freq\": [11.673037219070538, 10.509570473912548, 10.489811517229326, 10.475799961728852, 10.119793164150185, 9.776714795759288, 9.489625227813885, 9.403302729927248, 9.171774236595876, 8.89057067381224]}, \"tinfo\": {\"Term\": [\"cambiar\", \"disp\", \"lado\", \"venta\", \"pistola\", \"isla\", \"diesel\", \"prueba\", \"probar\", \"filtro\", \"root\", \"reglar\", \"vapor\", \"encore\", \"ltrs\", \"alarmar\", \"aguar\", \"veeder\", \"sensor\", \"extraer\", \"equipar\", \"srv\", \"reemplazar\", \"sump\", \"tk\", \"placa\", \"reponer\", \"tapar\", \"mantencion\", \"motor\", \"hermeticidad\", \"fin\", \"aguar\", \"alarmar\", \"eliminar\", \"funcionar\", \"limpiar\", \"normal\", \"root\", \"sensor\", \"sump\", \"tank\", \"veeder\", \"capacidad\", \"evitar\", \"extraccion\", \"litro\", \"vedeer\", \"tamk\", \"pertenecer\", \"abrir\", \"desconectar\", \"giratorio\", \"verificacion\", \"sacar\", \"quendo\", \"aproximar\", \"plazo\", \"hose\", \"est\", \"isla\", \"petrobras\", \"producir\", \"verificar\", \"bloquear\", \"despachar\", \"filtraci\\u00f3n\", \"tambien\", \"utilizar\", \"fallo\", \"fiqltros\", \"habilitar\", \"lmin\", \"reemplazar\", \"formar\", \"disipar\", \"valor\", \"saturar\", \"chequeo\", \"flujo\", \"aire\", \"identificar\", \"dia\", \"esperar\", \"precorte\", \"lmi\", \"reunion\", \"programar\", \"keroseno\", \"altura\", \"filtro\", \"isla\", \"dispensador\", \"funcionamiento\", \"gasolina\", \"mes\", \"producto\", \"pintura\", \"tanque\", \"apretar\", \"soldadura\", \"locual\", \"rele\", \"quemar\", \"pozo\", \"mo\", \"board\", \"banco\", \"anterior\", \"programacion\", \"probar\", \"presurizacion\", \"configurar\", \"recirculacion\", \"operativo\", \"equipo\", \"dispenser\", \"combustible\", \"nuevo\", \"doblar\", \"ruben\", \"repuesto\", \"blender\", \"vaporar\", \"swivel\", \"sec\", \"bavo\", \"despichar\", \"octano\", \"instalar\", \"spill\", \"adhesivo\", \"stp\", \"trabajo\", \"confeccionar\", \"sondar\", \"placa\", \"solicitar\", \"descargar\", \"cambiar\", \"acordar\", \"promediar\", \"reapreite\", \"comenzar\", \"persistir\", \"operar\", \"motor\", \"deshabilita\", \"codigo\", \"automatica\", \"coincidir\", \"srv\", \"despacho\", \"descontaminar\", \"arrojar\", \"lts\", \"nl\", \"llevar\", \"encore\", \"boto\", \"reponer\", \"trabar\", \"asignar\", \"emergencia\", \"graficas\", \"subcontratar\", \"ejecutar\", \"total\", \"teclado\", \"instalacion\", \"preset\", \"dejar\", \"recuperacion\", \"limpio\", \"humedad\", \"emitir\", \"ruido\", \"trabajar\", \"set\", \"traspasar\", \"posicionamiento\", \"tarro\", \"filtrar\", \"lento\", \"chocar\", \"personal\", \"vehicular\", \"malo\", \"minuto\", \"tiempo\", \"bueno\", \"gatillo\", \"variacion\", \"muestra\", \"copla\", \"disp\", \"blackmer\", \"convencional\", \"master\", \"fondo\", \"acudir\", \"entregar\", \"danadas\", \"qiueda\", \"cambiar\", \"petrobras\", \"fabricacion\", \"derivar\", \"contar\", \"pistola\", \"plazo\", \"solicitar\", \"filtracion\", \"set\", \"sifon\", \"predeterminar\", \"fugar\", \"ajustar\", \"resistivo\", \"equipar\", \"observar\", \"despa\", \"venta\", \"quebrar\", \"inventario\", \"portar\", \"sdjunta\", \"detectar\", \"reinicia\", \"prueba\", \"volumetrica\", \"aprobacion\", \"tender\", \"levantar\", \"punto\", \"lec\", \"star\", \"energy\", \"laboratorio\", \"glilbarco\", \"fecho\", \"fabricar\", \"otor\", \"lunes\", \"cortar\", \"servicio\", \"parametros\", \"enmoptimas\", \"ultimar\", \"pos\", \"calibracion\", \"accesorio\", \"corresponder\", \"zona\", \"presentar\", \"mal\", \"remarcar\", \"manguera\", \"retencion\", \"medicion\", \"requerir\", \"breakaway\", \"bodega\", \"vapor\", \"stock\", \"condicionar\", \"optimas\", \"tubo\", \"pegar\", \"pronlema\", \"problema\", \"led\", \"cliente\", \"respuesta\", \"resolver\", \"quedsndo\", \"real\", \"anomalia\", \"basurero\", \"reset\", \"mas\", \"adicional\", \"pistola\", \"gasolina\", \"tablet\", \"cold\", \"tk\", \"boca\", \"tablero\", \"cerrar\", \"detector\", \"adaptador\", \"abril\", \"tabla\", \"reglar\", \"lectura\", \"corregir\", \"palanca\", \"bombo\", \"extension\", \"reinician\", \"pasarse\", \"perimetral\", \"estanque\", \"correcto\", \"senalado\", \"sellar\", \"partidor\", \"error\", \"pedira\", \"cotizar\", \"mujer\", \"pre\", \"identificacion\", \"general\", \"contratar\", \"fluorescente\", \"certificacion\", \"confeccion\", \"wipe\", \"gas\", \"certificar\", \"envia\", \"especial\", \"calibracion\", \"filtracion\", \"estancar\", \"tablet\", \"funcionamiento\", \"tolerancia\", \"maquinar\", \"depositar\", \"mostrar\", \"diesel\", \"inoperativo\", \"reinstalar\", \"volumen\", \"dispositivo\", \"extraer\", \"deber\", \"ltrs\", \"lado\", \"recircula\", \"tratar\", \"variar\", \"puerta\", \"actualizar\", \"mantener\", \"conjuntar\", \"pem\", \"producto\", \"tanque\", \"turnar\", \"derivar\", \"contar\", \"hose\", \"configuracion\", \"lubricar\", \"dispensador\", \"filtro\", \"mantencion\", \"bano\", \"tapar\", \"preventivo\", \"coordinar\", \"cotizacion\", \"tambor\", \"pintar\", \"goma\", \"limpieza\", \"sera\", \"atendera\", \"solo\", \"retirar\", \"camaras\", \"afectar\", \"plataforma\", \"ot\", \"incidencia\", \"positivo\", \"contaminar\", \"atender\", \"mezclar\", \"partir\", \"disconformidad\", \"hombre\", \"ods\", \"foto\", \"eds\", \"automatico\", \"ofrecer\", \"calibracione\", \"nro\", \"desmontar\", \"estancar\", \"calibex\"], \"Freq\": [45.0, 29.0, 27.0, 25.0, 26.0, 26.0, 22.0, 22.0, 17.0, 18.0, 17.0, 15.0, 14.0, 15.0, 14.0, 16.0, 15.0, 15.0, 15.0, 13.0, 13.0, 13.0, 12.0, 12.0, 10.0, 12.0, 10.0, 9.0, 9.0, 9.0, 0.9574755068648659, 0.9574755068648659, 15.319608109837855, 16.27708361670272, 0.9574755068648659, 4.78737753432433, 3.8299020274594637, 5.744853041189196, 17.234559123567585, 15.319608109837855, 12.447181589243256, 6.702328548054061, 15.319608109837855, 1.9149510137297319, 0.9574755068648659, 3.8299020274594637, 6.702328548054061, 1.9149510137297319, 1.9149510137297319, 0.9574755068648659, 1.9149510137297319, 1.9149510137297319, 0.9574755068648659, 0.9574755068648659, 3.8299020274594637, 1.9149510137297319, 1.9149510137297319, 1.9149510137297319, 0.9574755068648659, 0.9574755068648659, 1.9149510137297319, 0.9574755068648659, 0.9367530482414055, 7.494024385931244, 1.873506096482811, 4.683765241207027, 0.9367530482414055, 1.873506096482811, 4.683765241207027, 9.367530482414054, 0.9367530482414055, 0.9367530482414055, 8.430777434172649, 12.17778962713827, 0.9367530482414055, 4.683765241207027, 0.9367530482414055, 2.8102591447242165, 3.747012192965622, 5.620518289448433, 0.9367530482414055, 0.9367530482414055, 0.9367530482414055, 0.9367530482414055, 2.8102591447242165, 0.9367530482414055, 0.9367530482414055, 0.9367530482414055, 0.9367530482414055, 0.9367530482414055, 17.798307916586705, 24.35557925427654, 4.683765241207027, 2.8102591447242165, 1.873506096482811, 0.9367530482414055, 0.9367530482414055, 0.9367530482414055, 0.9367530482414055, 1.078836769118124, 2.157673538236248, 1.078836769118124, 2.157673538236248, 4.315347076472496, 2.157673538236248, 2.157673538236248, 2.157673538236248, 3.236510307354372, 2.157673538236248, 2.157673538236248, 17.261388305889984, 2.157673538236248, 2.157673538236248, 4.315347076472496, 6.473020614708744, 8.630694152944992, 8.630694152944992, 2.157673538236248, 3.236510307354372, 1.078836769118124, 2.157673538236248, 2.157673538236248, 1.078836769118124, 1.078836769118124, 1.078836769118124, 1.078836769118124, 1.078836769118124, 1.078836769118124, 1.078836769118124, 5.394183845590621, 3.236510307354372, 2.157673538236248, 2.157673538236248, 2.157673538236248, 1.078836769118124, 1.078836769118124, 11.867204460299364, 2.157673538236248, 2.157673538236248, 6.473020614708744, 1.078836769118124, 1.078836769118124, 1.1971063716949983, 1.1971063716949983, 2.3942127433899967, 2.3942127433899967, 9.576850973559987, 2.3942127433899967, 2.3942127433899967, 1.1971063716949983, 1.1971063716949983, 13.168170088644981, 3.591319115084995, 1.1971063716949983, 1.1971063716949983, 5.9855318584749915, 3.591319115084995, 2.3942127433899967, 15.562382832034977, 2.3942127433899967, 10.773957345254985, 3.591319115084995, 3.591319115084995, 4.788425486779993, 4.788425486779993, 1.1971063716949983, 1.1971063716949983, 2.3942127433899967, 2.3942127433899967, 2.3942127433899967, 1.1971063716949983, 2.3942127433899967, 7.18263823016999, 3.591319115084995, 2.3942127433899967, 2.3942127433899967, 2.3942127433899967, 1.1971063716949983, 2.3942127433899967, 0.8729137716431485, 0.8729137716431485, 0.8729137716431485, 6.110396401502039, 8.729137716431485, 3.491655086572594, 2.6187413149294456, 3.491655086572594, 6.983310173145188, 0.8729137716431485, 1.745827543286297, 0.8729137716431485, 6.983310173145188, 0.8729137716431485, 0.8729137716431485, 0.8729137716431485, 29.67906823586705, 0.8729137716431485, 1.745827543286297, 0.8729137716431485, 0.8729137716431485, 1.745827543286297, 0.8729137716431485, 0.8729137716431485, 0.8729137716431485, 39.281119723941686, 2.6187413149294456, 0.8729137716431485, 0.8729137716431485, 0.8729137716431485, 1.745827543286297, 0.8729137716431485, 0.8729137716431485, 0.8729137716431485, 0.8729137716431485, 1.8541088910539252, 5.562326673161776, 1.8541088910539252, 3.7082177821078504, 0.9270544455269626, 13.90581668290444, 2.781163336580888, 1.8541088910539252, 25.957524474754955, 3.7082177821078504, 0.9270544455269626, 1.8541088910539252, 0.9270544455269626, 2.781163336580888, 7.416435564215701, 22.249306692647103, 0.9270544455269626, 1.8541088910539252, 0.9270544455269626, 0.9270544455269626, 0.9270544455269626, 0.9270544455269626, 0.9270544455269626, 0.9270544455269626, 1.8541088910539252, 0.9270544455269626, 0.9270544455269626, 0.9270544455269626, 0.9270544455269626, 0.9270544455269626, 4.635272227634814, 2.781163336580888, 1.8541088910539252, 1.8541088910539252, 0.9270544455269626, 0.9270544455269626, 0.9270544455269626, 0.9270544455269626, 0.9270544455269626, 0.9990258999674936, 1.9980517999349872, 4.995129499837468, 0.9990258999674936, 6.993181299772455, 1.9980517999349872, 0.9990258999674936, 0.9990258999674936, 6.993181299772455, 1.9980517999349872, 14.985388499512403, 6.993181299772455, 7.992207199739949, 3.9961035998699743, 4.995129499837468, 1.9980517999349872, 1.9980517999349872, 1.9980517999349872, 1.9980517999349872, 2.997077699902481, 0.9990258999674936, 0.9990258999674936, 1.9980517999349872, 1.9980517999349872, 3.9961035998699743, 0.9990258999674936, 0.9990258999674936, 0.9990258999674936, 0.9990258999674936, 24.975647499187343, 3.9961035998699743, 2.997077699902481, 0.9990258999674936, 10.932361521663246, 5.466180760831623, 1.0932361521663247, 4.372944608665299, 1.0932361521663247, 1.0932361521663247, 1.0932361521663247, 6.559416912997947, 15.305306130328546, 1.0932361521663247, 1.0932361521663247, 2.1864723043326495, 2.1864723043326495, 2.1864723043326495, 2.1864723043326495, 2.1864723043326495, 1.0932361521663247, 4.372944608665299, 1.0932361521663247, 1.0932361521663247, 3.2797084564989736, 2.1864723043326495, 2.1864723043326495, 2.1864723043326495, 1.0932361521663247, 1.0932361521663247, 1.0932361521663247, 3.2797084564989736, 1.0932361521663247, 1.0932361521663247, 3.2797084564989736, 2.1864723043326495, 2.1864723043326495, 2.1864723043326495, 1.0932361521663247, 1.0932361521663247, 1.0932361521663247, 1.0932361521663247, 5.466180760831623, 3.2797084564989736, 4.372944608665299, 4.372944608665299, 1.0932361521663247, 1.0480907824212558, 2.0961815648425115, 1.0480907824212558, 5.240453912106279, 22.00990643084637, 1.0480907824212558, 1.0480907824212558, 1.0480907824212558, 2.0961815648425115, 13.625180171476323, 1.0480907824212558, 14.67327095389758, 27.250360342952646, 1.0480907824212558, 1.0480907824212558, 2.0961815648425115, 1.0480907824212558, 2.0961815648425115, 1.0480907824212558, 1.0480907824212558, 1.0480907824212558, 5.240453912106279, 3.144272347263767, 3.144272347263767, 1.0480907824212558, 1.0480907824212558, 1.0480907824212558, 1.0480907824212558, 1.0480907824212558, 1.0480907824212558, 1.0480907824212558, 9.743190976136859, 2.922957292841058, 9.743190976136859, 8.768871878523173, 4.871595488068429, 2.922957292841058, 5.845914585682116, 4.871595488068429, 1.9486381952273721, 1.9486381952273721, 0.9743190976136861, 1.9486381952273721, 0.9743190976136861, 6.820233683295802, 1.9486381952273721, 1.9486381952273721, 1.9486381952273721, 7.7945527809094886, 7.7945527809094886, 0.9743190976136861, 1.9486381952273721, 3.8972763904547443, 0.9743190976136861, 3.8972763904547443, 0.9743190976136861, 1.9486381952273721, 0.9743190976136861, 0.9743190976136861, 0.9743190976136861, 0.9743190976136861, 0.9743190976136861, 0.9743190976136861, 0.9743190976136861, 0.9743190976136861, 1.9486381952273721, 0.9743190976136861], \"Total\": [45.0, 29.0, 27.0, 25.0, 26.0, 26.0, 22.0, 22.0, 17.0, 18.0, 17.0, 15.0, 14.0, 15.0, 14.0, 16.0, 15.0, 15.0, 15.0, 13.0, 13.0, 13.0, 12.0, 12.0, 10.0, 12.0, 10.0, 9.0, 9.0, 9.0, 0.9574755068648659, 0.9574755068648659, 15.319608109837855, 16.27708361670272, 0.9574755068648659, 4.78737753432433, 3.8299020274594637, 5.744853041189196, 17.234559123567585, 15.319608109837855, 12.447181589243256, 6.702328548054061, 15.319608109837855, 1.9149510137297319, 0.9574755068648659, 3.8299020274594637, 6.702328548054061, 1.9149510137297319, 1.9149510137297319, 0.9574755068648659, 1.9149510137297319, 1.9149510137297319, 0.9574755068648659, 0.9574755068648659, 3.8299020274594637, 1.9149510137297319, 1.9149510137297319, 2.7878647853728804, 2.0055662892861217, 2.0507116590311907, 26.270530268006272, 3.5762168217943113, 0.9367530482414055, 7.494024385931244, 1.873506096482811, 4.683765241207027, 0.9367530482414055, 1.873506096482811, 4.683765241207027, 9.367530482414054, 0.9367530482414055, 0.9367530482414055, 8.430777434172649, 12.17778962713827, 0.9367530482414055, 4.683765241207027, 0.9367530482414055, 2.8102591447242165, 3.747012192965622, 5.620518289448433, 0.9367530482414055, 0.9367530482414055, 0.9367530482414055, 0.9367530482414055, 2.8102591447242165, 0.9367530482414055, 0.9367530482414055, 0.9367530482414055, 0.9367530482414055, 0.9367530482414055, 18.84639869900796, 26.270530268006272, 5.731856023628283, 3.903495296890541, 5.869609696352786, 1.9110721458550914, 6.177206960347684, 1.9110721458550914, 4.081025395505172, 1.078836769118124, 2.157673538236248, 1.078836769118124, 2.157673538236248, 4.315347076472496, 2.157673538236248, 2.157673538236248, 2.157673538236248, 3.236510307354372, 2.157673538236248, 2.157673538236248, 17.261388305889984, 2.157673538236248, 2.157673538236248, 4.315347076472496, 6.473020614708744, 8.630694152944992, 8.630694152944992, 2.157673538236248, 3.236510307354372, 1.078836769118124, 2.157673538236248, 2.157673538236248, 1.078836769118124, 1.078836769118124, 1.078836769118124, 1.078836769118124, 1.078836769118124, 1.078836769118124, 1.078836769118124, 5.394183845590621, 3.236510307354372, 2.157673538236248, 2.157673538236248, 2.157673538236248, 1.078836769118124, 1.078836769118124, 12.84152355791305, 3.0305873098793965, 3.131992635849934, 45.75414033865043, 1.078836769118124, 2.0155898173595297, 1.1971063716949983, 1.1971063716949983, 2.3942127433899967, 2.3942127433899967, 9.576850973559987, 2.3942127433899967, 2.3942127433899967, 1.1971063716949983, 1.1971063716949983, 13.168170088644981, 3.591319115084995, 1.1971063716949983, 1.1971063716949983, 5.9855318584749915, 3.591319115084995, 2.3942127433899967, 15.562382832034977, 2.3942127433899967, 10.773957345254985, 3.591319115084995, 3.591319115084995, 4.788425486779993, 4.788425486779993, 1.1971063716949983, 1.1971063716949983, 2.3942127433899967, 2.3942127433899967, 2.3942127433899967, 1.1971063716949983, 2.3942127433899967, 7.18263823016999, 3.591319115084995, 2.3942127433899967, 2.3942127433899967, 2.3942127433899967, 1.1971063716949983, 3.267126515033145, 0.8729137716431485, 0.8729137716431485, 0.8729137716431485, 6.110396401502039, 8.729137716431485, 3.491655086572594, 2.6187413149294456, 3.491655086572594, 6.983310173145188, 0.8729137716431485, 1.745827543286297, 0.8729137716431485, 6.983310173145188, 0.8729137716431485, 0.8729137716431485, 0.8729137716431485, 29.67906823586705, 0.8729137716431485, 1.745827543286297, 0.8729137716431485, 0.8729137716431485, 1.745827543286297, 0.8729137716431485, 0.8729137716431485, 0.8729137716431485, 45.75414033865043, 3.5762168217943113, 1.8472328692568345, 1.9210045540644043, 1.9210045540644043, 26.72147504247364, 2.7878647853728804, 3.0305873098793965, 4.152622228142122, 3.267126515033145, 1.8541088910539252, 5.562326673161776, 1.8541088910539252, 3.7082177821078504, 0.9270544455269626, 13.90581668290444, 2.781163336580888, 1.8541088910539252, 25.957524474754955, 3.7082177821078504, 0.9270544455269626, 1.8541088910539252, 0.9270544455269626, 2.781163336580888, 7.416435564215701, 22.249306692647103, 0.9270544455269626, 1.8541088910539252, 0.9270544455269626, 0.9270544455269626, 0.9270544455269626, 0.9270544455269626, 0.9270544455269626, 0.9270544455269626, 1.8541088910539252, 0.9270544455269626, 0.9270544455269626, 0.9270544455269626, 0.9270544455269626, 0.9270544455269626, 4.635272227634814, 2.781163336580888, 1.8541088910539252, 1.8541088910539252, 0.9270544455269626, 0.9270544455269626, 6.393235206358586, 1.9013735431406487, 1.9013735431406487, 0.9990258999674936, 1.9980517999349872, 4.995129499837468, 0.9990258999674936, 6.993181299772455, 1.9980517999349872, 0.9990258999674936, 0.9990258999674936, 6.993181299772455, 1.9980517999349872, 14.985388499512403, 6.993181299772455, 7.992207199739949, 3.9961035998699743, 4.995129499837468, 1.9980517999349872, 1.9980517999349872, 1.9980517999349872, 1.9980517999349872, 2.997077699902481, 0.9990258999674936, 0.9990258999674936, 1.9980517999349872, 1.9980517999349872, 3.9961035998699743, 0.9990258999674936, 0.9990258999674936, 0.9990258999674936, 0.9990258999674936, 26.72147504247364, 5.869609696352786, 7.37002230856778, 2.196132271662492, 10.932361521663246, 5.466180760831623, 1.0932361521663247, 4.372944608665299, 1.0932361521663247, 1.0932361521663247, 1.0932361521663247, 6.559416912997947, 15.305306130328546, 1.0932361521663247, 1.0932361521663247, 2.1864723043326495, 2.1864723043326495, 2.1864723043326495, 2.1864723043326495, 2.1864723043326495, 1.0932361521663247, 4.372944608665299, 1.0932361521663247, 1.0932361521663247, 3.2797084564989736, 2.1864723043326495, 2.1864723043326495, 2.1864723043326495, 1.0932361521663247, 1.0932361521663247, 1.0932361521663247, 3.2797084564989736, 1.0932361521663247, 1.0932361521663247, 3.2797084564989736, 2.1864723043326495, 2.1864723043326495, 2.1864723043326495, 1.0932361521663247, 1.0932361521663247, 1.0932361521663247, 1.0932361521663247, 6.393235206358586, 4.152622228142122, 6.321582803892671, 7.37002230856778, 3.903495296890541, 1.0480907824212558, 2.0961815648425115, 1.0480907824212558, 5.240453912106279, 22.00990643084637, 1.0480907824212558, 1.0480907824212558, 1.0480907824212558, 2.0961815648425115, 13.625180171476323, 1.0480907824212558, 14.67327095389758, 27.250360342952646, 1.0480907824212558, 1.0480907824212558, 2.0961815648425115, 1.0480907824212558, 2.0961815648425115, 1.0480907824212558, 1.0480907824212558, 1.0480907824212558, 6.177206960347684, 4.081025395505172, 4.101747854128633, 1.9210045540644043, 1.9210045540644043, 2.0055662892861217, 2.1413269345875805, 2.245197154116254, 5.731856023628283, 18.84639869900796, 9.743190976136859, 2.922957292841058, 9.743190976136859, 8.768871878523173, 4.871595488068429, 2.922957292841058, 5.845914585682116, 4.871595488068429, 1.9486381952273721, 1.9486381952273721, 0.9743190976136861, 1.9486381952273721, 0.9743190976136861, 6.820233683295802, 1.9486381952273721, 1.9486381952273721, 1.9486381952273721, 7.7945527809094886, 7.7945527809094886, 0.9743190976136861, 1.9486381952273721, 3.8972763904547443, 0.9743190976136861, 3.8972763904547443, 0.9743190976136861, 1.9486381952273721, 0.9743190976136861, 0.9743190976136861, 0.9743190976136861, 0.9743190976136861, 0.9743190976136861, 0.9743190976136861, 0.9743190976136861, 0.9743190976136861, 6.321582803892671, 1.9013735431406487], \"Category\": [\"Default\", \"Default\", \"Default\", \"Default\", \"Default\", \"Default\", \"Default\", \"Default\", \"Default\", \"Default\", \"Default\", \"Default\", \"Default\", \"Default\", \"Default\", \"Default\", \"Default\", \"Default\", \"Default\", \"Default\", \"Default\", \"Default\", \"Default\", \"Default\", \"Default\", \"Default\", \"Default\", \"Default\", \"Default\", \"Default\", \"Topic1\", \"Topic1\", \"Topic1\", \"Topic1\", \"Topic1\", \"Topic1\", \"Topic1\", \"Topic1\", \"Topic1\", \"Topic1\", \"Topic1\", \"Topic1\", \"Topic1\", \"Topic1\", \"Topic1\", \"Topic1\", \"Topic1\", \"Topic1\", \"Topic1\", \"Topic1\", \"Topic1\", \"Topic1\", \"Topic1\", \"Topic1\", \"Topic1\", \"Topic1\", \"Topic1\", \"Topic1\", \"Topic1\", \"Topic1\", \"Topic1\", \"Topic1\", \"Topic2\", \"Topic2\", \"Topic2\", \"Topic2\", \"Topic2\", \"Topic2\", \"Topic2\", \"Topic2\", \"Topic2\", \"Topic2\", \"Topic2\", \"Topic2\", \"Topic2\", \"Topic2\", \"Topic2\", \"Topic2\", \"Topic2\", \"Topic2\", \"Topic2\", \"Topic2\", \"Topic2\", \"Topic2\", \"Topic2\", \"Topic2\", \"Topic2\", \"Topic2\", \"Topic2\", \"Topic2\", \"Topic2\", \"Topic2\", \"Topic2\", \"Topic2\", \"Topic2\", \"Topic2\", \"Topic2\", \"Topic2\", \"Topic2\", \"Topic3\", \"Topic3\", \"Topic3\", \"Topic3\", \"Topic3\", \"Topic3\", \"Topic3\", \"Topic3\", \"Topic3\", \"Topic3\", \"Topic3\", \"Topic3\", \"Topic3\", \"Topic3\", \"Topic3\", \"Topic3\", \"Topic3\", \"Topic3\", \"Topic3\", \"Topic3\", \"Topic3\", \"Topic3\", \"Topic3\", \"Topic3\", \"Topic3\", \"Topic3\", \"Topic3\", \"Topic3\", \"Topic3\", \"Topic3\", \"Topic3\", \"Topic3\", \"Topic3\", \"Topic3\", \"Topic3\", \"Topic3\", \"Topic3\", \"Topic3\", \"Topic3\", \"Topic3\", \"Topic3\", \"Topic3\", \"Topic3\", \"Topic4\", \"Topic4\", \"Topic4\", \"Topic4\", \"Topic4\", \"Topic4\", \"Topic4\", \"Topic4\", \"Topic4\", \"Topic4\", \"Topic4\", \"Topic4\", \"Topic4\", \"Topic4\", \"Topic4\", \"Topic4\", \"Topic4\", \"Topic4\", \"Topic4\", \"Topic4\", \"Topic4\", \"Topic4\", \"Topic4\", \"Topic4\", \"Topic4\", \"Topic4\", \"Topic4\", \"Topic4\", \"Topic4\", \"Topic4\", \"Topic4\", \"Topic4\", \"Topic4\", \"Topic4\", \"Topic4\", \"Topic4\", \"Topic4\", \"Topic5\", \"Topic5\", \"Topic5\", \"Topic5\", \"Topic5\", \"Topic5\", \"Topic5\", \"Topic5\", \"Topic5\", \"Topic5\", \"Topic5\", \"Topic5\", \"Topic5\", \"Topic5\", \"Topic5\", \"Topic5\", \"Topic5\", \"Topic5\", \"Topic5\", \"Topic5\", \"Topic5\", \"Topic5\", \"Topic5\", \"Topic5\", \"Topic5\", \"Topic5\", \"Topic5\", \"Topic5\", \"Topic5\", \"Topic5\", \"Topic5\", \"Topic5\", \"Topic5\", \"Topic5\", \"Topic5\", \"Topic6\", \"Topic6\", \"Topic6\", \"Topic6\", \"Topic6\", \"Topic6\", \"Topic6\", \"Topic6\", \"Topic6\", \"Topic6\", \"Topic6\", \"Topic6\", \"Topic6\", \"Topic6\", \"Topic6\", \"Topic6\", \"Topic6\", \"Topic6\", \"Topic6\", \"Topic6\", \"Topic6\", \"Topic6\", \"Topic6\", \"Topic6\", \"Topic6\", \"Topic6\", \"Topic6\", \"Topic6\", \"Topic6\", \"Topic6\", \"Topic6\", \"Topic6\", \"Topic6\", \"Topic6\", \"Topic6\", \"Topic6\", \"Topic6\", \"Topic6\", \"Topic6\", \"Topic7\", \"Topic7\", \"Topic7\", \"Topic7\", \"Topic7\", \"Topic7\", \"Topic7\", \"Topic7\", \"Topic7\", \"Topic7\", \"Topic7\", \"Topic7\", \"Topic7\", \"Topic7\", \"Topic7\", \"Topic7\", \"Topic7\", \"Topic7\", \"Topic7\", \"Topic7\", \"Topic7\", \"Topic7\", \"Topic7\", \"Topic7\", \"Topic7\", \"Topic7\", \"Topic7\", \"Topic7\", \"Topic7\", \"Topic7\", \"Topic7\", \"Topic7\", \"Topic7\", \"Topic8\", \"Topic8\", \"Topic8\", \"Topic8\", \"Topic8\", \"Topic8\", \"Topic8\", \"Topic8\", \"Topic8\", \"Topic8\", \"Topic8\", \"Topic8\", \"Topic8\", \"Topic8\", \"Topic8\", \"Topic8\", \"Topic8\", \"Topic8\", \"Topic8\", \"Topic8\", \"Topic8\", \"Topic8\", \"Topic8\", \"Topic8\", \"Topic8\", \"Topic8\", \"Topic8\", \"Topic8\", \"Topic8\", \"Topic8\", \"Topic8\", \"Topic8\", \"Topic8\", \"Topic8\", \"Topic8\", \"Topic8\", \"Topic8\", \"Topic8\", \"Topic8\", \"Topic8\", \"Topic8\", \"Topic8\", \"Topic8\", \"Topic9\", \"Topic9\", \"Topic9\", \"Topic9\", \"Topic9\", \"Topic9\", \"Topic9\", \"Topic9\", \"Topic9\", \"Topic9\", \"Topic9\", \"Topic9\", \"Topic9\", \"Topic9\", \"Topic9\", \"Topic9\", \"Topic9\", \"Topic9\", \"Topic9\", \"Topic9\", \"Topic9\", \"Topic9\", \"Topic9\", \"Topic9\", \"Topic9\", \"Topic9\", \"Topic9\", \"Topic9\", \"Topic9\", \"Topic9\", \"Topic9\", \"Topic10\", \"Topic10\", \"Topic10\", \"Topic10\", \"Topic10\", \"Topic10\", \"Topic10\", \"Topic10\", \"Topic10\", \"Topic10\", \"Topic10\", \"Topic10\", \"Topic10\", \"Topic10\", \"Topic10\", \"Topic10\", \"Topic10\", \"Topic10\", \"Topic10\", \"Topic10\", \"Topic10\", \"Topic10\", \"Topic10\", \"Topic10\", \"Topic10\", \"Topic10\", \"Topic10\", \"Topic10\", \"Topic10\", \"Topic10\", \"Topic10\", \"Topic10\", \"Topic10\", \"Topic10\", \"Topic10\", \"Topic10\"], \"logprob\": [30.0, 29.0, 28.0, 27.0, 26.0, 25.0, 24.0, 23.0, 22.0, 21.0, 20.0, 19.0, 18.0, 17.0, 16.0, 15.0, 14.0, 13.0, 12.0, 11.0, 10.0, 9.0, 8.0, 7.0, 6.0, 5.0, 4.0, 3.0, 2.0, 1.0, -5.0938, -5.0938, -2.3212, -2.2605, -5.0938, -3.4843, -3.7075, -3.302, -2.2034, -2.3212, -2.5288, -3.1478, -2.3212, -4.4006, -5.0938, -3.7075, -3.1478, -4.4006, -4.4006, -5.0938, -4.4006, -4.4006, -5.0938, -5.0938, -3.7075, -4.4006, -4.4006, -4.4006, -5.0938, -5.0938, -4.4006, -5.0938, -5.0106, -2.9312, -4.3175, -3.4012, -5.0106, -4.3175, -3.4012, -2.7081, -5.0106, -5.0106, -2.8134, -2.4457, -5.0106, -3.4012, -5.0106, -3.912, -3.6243, -3.2189, -5.0106, -5.0106, -5.0106, -5.0106, -3.912, -5.0106, -5.0106, -5.0106, -5.0106, -5.0106, -2.0662, -1.7525, -3.4012, -3.912, -4.3175, -5.0106, -5.0106, -5.0106, -5.0106, -4.8675, -4.1744, -4.8675, -4.1744, -3.4812, -4.1744, -4.1744, -4.1744, -3.7689, -4.1744, -4.1744, -2.0949, -4.1744, -4.1744, -3.4812, -3.0758, -2.7881, -2.7881, -4.1744, -3.7689, -4.8675, -4.1744, -4.1744, -4.8675, -4.8675, -4.8675, -4.8675, -4.8675, -4.8675, -4.8675, -3.2581, -3.7689, -4.1744, -4.1744, -4.1744, -4.8675, -4.8675, -2.4696, -4.1744, -4.1744, -3.0758, -4.8675, -4.8675, -4.7622, -4.7622, -4.069, -4.069, -2.6827, -4.069, -4.069, -4.7622, -4.7622, -2.3643, -3.6636, -4.7622, -4.7622, -3.1527, -3.6636, -4.069, -2.1972, -4.069, -2.5649, -3.6636, -3.6636, -3.3759, -3.3759, -4.7622, -4.7622, -4.069, -4.069, -4.069, -4.7622, -4.069, -2.9704, -3.6636, -4.069, -4.069, -4.069, -4.7622, -4.069, -5.0434, -5.0434, -5.0434, -3.0975, -2.7408, -3.6571, -3.9448, -3.6571, -2.964, -5.0434, -4.3503, -5.0434, -2.964, -5.0434, -5.0434, -5.0434, -1.5171, -5.0434, -4.3503, -5.0434, -5.0434, -4.3503, -5.0434, -5.0434, -5.0434, -1.2368, -3.9448, -5.0434, -5.0434, -5.0434, -4.3503, -5.0434, -5.0434, -5.0434, -5.0434, -4.2556, -3.157, -4.2556, -3.5625, -4.9488, -2.2407, -3.8501, -4.2556, -1.6166, -3.5625, -4.9488, -4.2556, -4.9488, -3.8501, -2.8693, -1.7707, -4.9488, -4.2556, -4.9488, -4.9488, -4.9488, -4.9488, -4.9488, -4.9488, -4.2556, -4.9488, -4.9488, -4.9488, -4.9488, -4.9488, -3.3393, -3.8501, -4.2556, -4.2556, -4.9488, -4.9488, -4.9488, -4.9488, -4.9488, -4.8442, -4.151, -3.2347, -4.8442, -2.8983, -4.151, -4.8442, -4.8442, -2.8983, -4.151, -2.1361, -2.8983, -2.7647, -3.4579, -3.2347, -4.151, -4.151, -4.151, -4.151, -3.7456, -4.8442, -4.8442, -4.151, -4.151, -3.4579, -4.8442, -4.8442, -4.8442, -4.8442, -1.6253, -3.4579, -3.7456, -4.8442, -2.4423, -3.1355, -4.7449, -3.3586, -4.7449, -4.7449, -4.7449, -2.9532, -2.1059, -4.7449, -4.7449, -4.0518, -4.0518, -4.0518, -4.0518, -4.0518, -4.7449, -3.3586, -4.7449, -4.7449, -3.6463, -4.0518, -4.0518, -4.0518, -4.7449, -4.7449, -4.7449, -3.6463, -4.7449, -4.7449, -3.6463, -4.0518, -4.0518, -4.0518, -4.7449, -4.7449, -4.7449, -4.7449, -3.1355, -3.6463, -3.3586, -3.3586, -4.7449, -4.7622, -4.069, -4.7622, -3.1527, -1.7177, -4.7622, -4.7622, -4.7622, -4.069, -2.1972, -4.7622, -2.1231, -1.5041, -4.7622, -4.7622, -4.069, -4.7622, -4.069, -4.7622, -4.7622, -4.7622, -3.1527, -3.6636, -3.6636, -4.7622, -4.7622, -4.7622, -4.7622, -4.7622, -4.7622, -4.7622, -2.5014, -3.7054, -2.5014, -2.6068, -3.1946, -3.7054, -3.0123, -3.1946, -4.1109, -4.1109, -4.804, -4.1109, -4.804, -2.8581, -4.1109, -4.1109, -4.1109, -2.7246, -2.7246, -4.804, -4.1109, -3.4177, -4.804, -3.4177, -4.804, -4.1109, -4.804, -4.804, -4.804, -4.804, -4.804, -4.804, -4.804, -4.804, -4.1109, -4.804], \"loglift\": [30.0, 29.0, 28.0, 27.0, 26.0, 25.0, 24.0, 23.0, 22.0, 21.0, 20.0, 19.0, 18.0, 17.0, 16.0, 15.0, 14.0, 13.0, 12.0, 11.0, 10.0, 9.0, 8.0, 7.0, 6.0, 5.0, 4.0, 3.0, 2.0, 1.0, 2.1479, 2.1479, 2.1479, 2.1479, 2.1479, 2.1479, 2.1479, 2.1479, 2.1479, 2.1479, 2.1479, 2.1479, 2.1479, 2.1479, 2.1479, 2.1479, 2.1479, 2.1479, 2.1479, 2.1479, 2.1479, 2.1479, 2.1479, 2.1479, 2.1479, 2.1479, 2.1479, 1.7723, 1.4085, 1.3862, -0.4709, 0.8301, 2.2529, 2.2529, 2.2529, 2.2529, 2.2529, 2.2529, 2.2529, 2.2529, 2.2529, 2.2529, 2.2529, 2.2529, 2.2529, 2.2529, 2.2529, 2.2529, 2.2529, 2.2529, 2.2529, 2.2529, 2.2529, 2.2529, 2.2529, 2.2529, 2.2529, 2.2529, 2.2529, 2.2529, 2.1957, 2.1772, 2.0509, 1.9243, 1.1109, 1.5399, 0.3667, 1.5399, 0.7812, 2.2548, 2.2548, 2.2548, 2.2548, 2.2548, 2.2548, 2.2548, 2.2548, 2.2548, 2.2548, 2.2548, 2.2548, 2.2548, 2.2548, 2.2548, 2.2548, 2.2548, 2.2548, 2.2548, 2.2548, 2.2548, 2.2548, 2.2548, 2.2548, 2.2548, 2.2548, 2.2548, 2.2548, 2.2548, 2.2548, 2.2548, 2.2548, 2.2548, 2.2548, 2.2548, 2.2548, 2.2548, 2.1759, 1.915, 1.8821, 0.2991, 2.2548, 1.6297, 2.2561, 2.2561, 2.2561, 2.2561, 2.2561, 2.2561, 2.2561, 2.2561, 2.2561, 2.2561, 2.2561, 2.2561, 2.2561, 2.2561, 2.2561, 2.2561, 2.2561, 2.2561, 2.2561, 2.2561, 2.2561, 2.2561, 2.2561, 2.2561, 2.2561, 2.2561, 2.2561, 2.2561, 2.2561, 2.2561, 2.2561, 2.2561, 2.2561, 2.2561, 2.2561, 2.2561, 1.9452, 2.2907, 2.2907, 2.2907, 2.2907, 2.2907, 2.2907, 2.2907, 2.2907, 2.2907, 2.2907, 2.2907, 2.2907, 2.2907, 2.2907, 2.2907, 2.2907, 2.2907, 2.2907, 2.2907, 2.2907, 2.2907, 2.2907, 2.2907, 2.2907, 2.2907, 2.1381, 1.9791, 1.5411, 1.5019, 1.5019, -0.4376, 1.1295, 1.046, 0.731, 0.9708, 2.3252, 2.3252, 2.3252, 2.3252, 2.3252, 2.3252, 2.3252, 2.3252, 2.3252, 2.3252, 2.3252, 2.3252, 2.3252, 2.3252, 2.3252, 2.3252, 2.3252, 2.3252, 2.3252, 2.3252, 2.3252, 2.3252, 2.3252, 2.3252, 2.3252, 2.3252, 2.3252, 2.3252, 2.3252, 2.3252, 2.3252, 2.3252, 2.3252, 2.3252, 2.3252, 2.3252, 0.3942, 1.6068, 1.6068, 2.355, 2.355, 2.355, 2.355, 2.355, 2.355, 2.355, 2.355, 2.355, 2.355, 2.355, 2.355, 2.355, 2.355, 2.355, 2.355, 2.355, 2.355, 2.355, 2.355, 2.355, 2.355, 2.355, 2.355, 2.355, 2.355, 2.355, 2.355, 2.355, 2.2874, 1.9705, 1.4552, 1.5673, 2.3641, 2.3641, 2.3641, 2.3641, 2.3641, 2.3641, 2.3641, 2.3641, 2.3641, 2.3641, 2.3641, 2.3641, 2.3641, 2.3641, 2.3641, 2.3641, 2.3641, 2.3641, 2.3641, 2.3641, 2.3641, 2.3641, 2.3641, 2.3641, 2.3641, 2.3641, 2.3641, 2.3641, 2.3641, 2.3641, 2.3641, 2.3641, 2.3641, 2.3641, 2.3641, 2.3641, 2.3641, 2.3641, 2.2074, 2.1281, 1.9956, 1.8421, 1.0914, 2.389, 2.389, 2.389, 2.389, 2.389, 2.389, 2.389, 2.389, 2.389, 2.389, 2.389, 2.389, 2.389, 2.389, 2.389, 2.389, 2.389, 2.389, 2.389, 2.389, 2.389, 2.2246, 2.1283, 2.1232, 1.7832, 1.7832, 1.7401, 1.6746, 1.6272, 0.69, -0.5003, 2.4202, 2.4202, 2.4202, 2.4202, 2.4202, 2.4202, 2.4202, 2.4202, 2.4202, 2.4202, 2.4202, 2.4202, 2.4202, 2.4202, 2.4202, 2.4202, 2.4202, 2.4202, 2.4202, 2.4202, 2.4202, 2.4202, 2.4202, 2.4202, 2.4202, 2.4202, 2.4202, 2.4202, 2.4202, 2.4202, 2.4202, 2.4202, 2.4202, 2.4202, 1.2433, 1.7516]}, \"token.table\": {\"Topic\": [8, 1, 6, 10, 3, 9, 5, 8, 3, 7, 10, 1, 2, 6, 1, 2, 7, 3, 3, 6, 1, 4, 4, 10, 10, 4, 10, 3, 10, 7, 3, 5, 3, 2, 3, 8, 7, 8, 4, 7, 5, 6, 10, 6, 8, 10, 10, 3, 5, 1, 8, 8, 8, 2, 5, 7, 4, 4, 4, 7, 3, 4, 7, 8, 3, 8, 9, 3, 9, 10, 5, 9, 8, 5, 10, 5, 8, 8, 6, 10, 6, 10, 8, 5, 9, 4, 9, 5, 9, 3, 10, 1, 4, 4, 10, 6, 2, 4, 3, 6, 8, 2, 9, 10, 2, 5, 2, 9, 3, 9, 3, 10, 4, 1, 4, 4, 4, 6, 6, 5, 8, 6, 3, 8, 8, 2, 1, 8, 8, 10, 8, 1, 8, 1, 9, 5, 10, 6, 2, 6, 5, 8, 2, 5, 2, 9, 1, 2, 2, 8, 5, 2, 10, 6, 2, 8, 1, 8, 2, 7, 5, 8, 1, 6, 10, 4, 2, 1, 10, 1, 9, 4, 8, 2, 10, 9, 4, 3, 6, 1, 2, 2, 6, 9, 6, 8, 7, 5, 6, 1, 10, 4, 1, 4, 2, 2, 3, 9, 4, 4, 9, 6, 7, 5, 7, 10, 9, 9, 7, 5, 7, 2, 10, 10, 5, 3, 9, 4, 5, 8, 4, 1, 10, 3, 6, 3, 10, 10, 4, 3, 7, 10, 6, 8, 6, 8, 10, 8, 8, 7, 9, 8, 4, 5, 1, 1, 5, 10, 2, 10, 5, 7, 3, 10, 10, 1, 5, 6, 6, 5, 10, 3, 8, 2, 6, 7, 4, 3, 10, 3, 7, 2, 2, 9, 3, 2, 2, 3, 7, 6, 9, 6, 5, 6, 7, 3, 1, 7, 4, 9, 3, 4, 2, 8, 6, 8, 9, 3, 7, 4, 3, 7, 7, 6, 7, 7, 7, 10, 2, 1, 3, 4, 1, 2, 6, 3, 8, 8, 1, 10, 6, 4, 5, 6, 3, 3, 5, 10, 3, 3, 4, 6, 7, 3, 4, 1, 3, 8, 8, 7, 8, 2, 10, 1, 1, 2, 9, 10, 5, 4, 6, 5, 8, 9, 4, 4, 3, 4, 5, 9, 7, 1, 9, 6, 2, 2, 7, 3, 5, 9, 1, 1, 5, 6, 1, 2, 9, 6, 8, 7], \"Freq\": [0.914715451019827, 1.0444131393756224, 0.5259355814682375, 0.5259355814682375, 0.9269242842153335, 0.9541158235261278, 1.1455885248752897, 0.914715451019827, 0.9269242842153335, 1.000975049828576, 1.0263577943296112, 0.9791373181646461, 1.0675172094473884, 1.078685297098784, 0.9829770723535272, 1.0675172094473884, 1.000975049828576, 0.9269242842153335, 0.9269242842153335, 1.078685297098784, 1.0444131393756224, 0.8353476546817532, 1.1137968729090044, 1.0263577943296112, 1.0263577943296112, 0.8353476546817532, 1.0263577943296112, 0.9269242842153333, 1.0263577943296114, 1.000975049828576, 0.9269242842153335, 1.1455885248752897, 0.9269242842153335, 1.0675172094473884, 0.9269242842153335, 0.9147154510198271, 1.000975049828576, 0.914715451019827, 0.8353476546817532, 1.000975049828576, 1.1455885248752897, 0.5259355814682375, 0.5259355814682375, 0.15641533084930453, 0.7820766542465227, 1.0263577943296112, 1.0263577943296112, 0.13113567330936277, 0.8523818765108581, 1.0444131393756224, 0.914715451019827, 0.914715451019827, 0.914715451019827, 1.0675172094473884, 0.8591913936564672, 1.000975049828576, 0.8353476546817532, 0.8353476546817532, 0.45534597933984683, 0.45534597933984683, 0.9269242842153335, 0.8353476546817532, 1.000975049828576, 0.914715451019827, 0.9269242842153335, 0.46700015016277746, 0.46700015016277746, 0.9269242842153335, 0.9541158235261278, 1.0263577943296112, 0.5205609731034889, 0.5205609731034889, 0.914715451019827, 1.1455885248752897, 1.0263577943296114, 1.1455885248752897, 0.914715451019827, 0.914715451019827, 0.5259355814682375, 0.5259355814682375, 1.0786852970987837, 1.0263577943296114, 0.914715451019827, 1.1455885248752897, 0.9541158235261278, 0.8353476546817532, 0.9541158235261278, 0.5205609731034889, 0.5205609731034889, 0.6385711055343068, 0.3192855527671534, 1.0444131393756224, 0.8353476546817532, 0.8353476546817532, 1.0263577943296112, 1.078685297098784, 1.0675172094473886, 1.1137968729090044, 0.9269242842153335, 1.078685297098784, 0.914715451019827, 1.0675172094473884, 0.9995499103607053, 1.0263577943296112, 1.0675172094473886, 1.0108134043017263, 0.8723177936411223, 0.17446355872822444, 1.04278981974225, 0.9541158235261278, 0.9269242842153335, 1.0263577943296112, 0.8353476546817532, 1.0444131393756224, 1.0441845683521915, 0.8353476546817532, 1.0281201903775425, 1.078685297098784, 1.078685297098784, 1.1455885248752897, 0.914715451019827, 1.0067729439588649, 1.04278981974225, 0.914715451019827, 0.914715451019827, 1.0675172094473884, 0.4876355949877546, 0.4876355949877546, 0.6327529234508961, 0.31637646172544803, 0.914715451019827, 1.0444131393756224, 0.914715451019827, 1.0444131393756224, 1.027509348412753, 0.5413502632195544, 0.5413502632195544, 1.078685297098784, 0.9607654885026496, 1.078685297098784, 0.24081169561320745, 0.7224350868396223, 1.0675172094473884, 0.9819330213216769, 0.9550896321082015, 0.053060535117122304, 1.0444131393756224, 1.0675172094473884, 1.0675172094473884, 0.9147154510198272, 1.1455885248752897, 1.0675172094473884, 1.0263577943296112, 1.078685297098784, 0.7685419788746126, 0.2561806596248709, 1.0444131393756224, 0.914715451019827, 0.3407381586620223, 0.6814763173240446, 1.0023899592658785, 0.914715451019827, 1.0444131393756224, 1.078685297098784, 1.0263577943296112, 1.0441845683521915, 1.0675172094473884, 1.0444131393756224, 1.0263577943296112, 0.498612289876466, 0.498612289876466, 0.8353476546817532, 0.9147154510198272, 1.0675172094473884, 1.0263577943296112, 0.9541158235261278, 0.8353476546817532, 0.9269242842153333, 1.078685297098784, 0.07613093377242226, 0.9135712052690672, 1.0675172094473884, 1.078685297098784, 0.9908125859694404, 1.078685297098784, 0.914715451019827, 1.000975049828576, 1.0310296723877608, 1.078685297098784, 1.0444131393756224, 1.0263577943296112, 1.1137968729090044, 1.0444131393756224, 0.8353476546817532, 1.0675172094473884, 0.9489041861754565, 0.9269242842153335, 1.022266953777994, 1.002417185618104, 0.4453951841897894, 0.4453951841897894, 1.078685297098784, 1.000975049828576, 1.0023899592658785, 1.000975049828576, 1.0263577943296114, 0.9541158235261278, 0.9541158235261278, 1.000975049828576, 1.1455885248752897, 1.000975049828576, 0.5232664827274531, 0.5232664827274531, 1.0263577943296112, 1.1455885248752897, 0.9269242842153335, 0.9541158235261277, 1.0441845683521915, 1.1455885248752897, 0.914715451019827, 1.1137968729090044, 1.0444131393756224, 1.0263577943296112, 0.9269242842153333, 1.078685297098784, 0.9269242842153335, 1.0263577943296112, 1.0263577943296112, 0.8353476546817532, 0.9269242842153333, 1.000975049828576, 1.0263577943296112, 1.078685297098784, 0.914715451019827, 1.078685297098784, 0.914715451019827, 1.0263577943296112, 0.914715451019827, 0.914715451019827, 1.000975049828576, 0.9541158235261278, 0.914715451019827, 0.8353476546817532, 1.1455885248752897, 1.0444131393756224, 0.27962510379845074, 0.8388753113953523, 1.0263577943296114, 0.5232664827274531, 0.5232664827274531, 0.07484616761690778, 0.9355770952113472, 0.9344685578687043, 0.07787237982239202, 1.0263577943296112, 0.7173949075627416, 0.3586974537813708, 1.078685297098784, 1.078685297098784, 1.1455885248752897, 1.0263577943296112, 0.9269242842153335, 0.914715451019827, 1.0675172094473884, 1.078685297098784, 1.000975049828576, 0.8353476546817532, 0.9269242842153335, 1.0263577943296114, 0.9848570519787918, 1.000975049828576, 1.0675172094473884, 0.16188546157173192, 0.8094273078586597, 0.9269242842153335, 1.0675172094473884, 0.496132690980759, 0.496132690980759, 1.000975049828576, 0.9887948556738851, 0.9541158235261278, 1.078685297098784, 1.1455885248752897, 1.078685297098784, 1.000975049828576, 0.9269242842153335, 1.0444131393756224, 1.000975049828576, 0.8353476546817532, 0.9541158235261278, 0.9269242842153335, 0.9745722637953789, 0.9854005010283585, 0.9800522689498147, 0.9438496349614359, 0.914715451019827, 0.9541158235261278, 0.9269242842153335, 1.000975049828576, 1.020980466833254, 0.9269242842153335, 1.000975049828576, 1.000975049828576, 1.078685297098784, 1.000975049828576, 1.000975049828576, 1.000975049828576, 1.0263577943296112, 1.0675172094473884, 0.986390187188088, 0.9269242842153335, 0.8353476546817532, 1.0444131393756224, 1.0675172094473884, 1.078685297098784, 0.9269242842153335, 0.9147154510198272, 0.914715451019827, 0.9791373181646461, 1.0263577943296112, 1.078685297098784, 0.6121587244317993, 0.30607936221589965, 1.078685297098784, 0.9269242842153335, 0.659938089716211, 0.3299690448581055, 1.0263577943296112, 0.9269242842153335, 0.9269242842153333, 0.9872290464420721, 1.078685297098784, 1.000975049828576, 0.9269242842153335, 0.8353476546817532, 0.9640736671159593, 0.9269242842153335, 1.0671680261897984, 0.914715451019827, 0.4070543988058825, 0.5427391984078433, 1.0675172094473884, 1.0263577943296114, 1.0444131393756224, 1.0444131393756224, 0.24503645605866523, 0.7351093681759957, 1.0263577943296114, 1.1455885248752897, 0.8353476546817532, 1.078685297098784, 1.1455885248752897, 1.00618699612181, 0.9541158235261278, 0.8353476546817532, 0.8353476546817532, 0.9269242842153335, 1.1137968729090044, 1.1455885248752897, 0.9541158235261278, 1.000975049828576, 0.24379850628639824, 0.7313955188591946, 1.078685297098784, 1.0675172094473886, 1.0675172094473884, 1.000975049828576, 0.9269242842153335, 1.1455885248752897, 0.9541158235261278, 1.0444131393756224, 0.9791373181646461, 0.8591913936564672, 1.0016363473060135, 1.0444131393756224, 0.9340775582664649, 0.9541158235261278, 1.078685297098784, 0.914715451019827, 1.000975049828576], \"Term\": [\"abril\", \"abrir\", \"accesorio\", \"accesorio\", \"acordar\", \"actualizar\", \"acudir\", \"adaptador\", \"adhesivo\", \"adicional\", \"afectar\", \"aguar\", \"aire\", \"ajustar\", \"alarmar\", \"altura\", \"anomalia\", \"anterior\", \"apretar\", \"aprobacion\", \"aproximar\", \"arrojar\", \"asignar\", \"atender\", \"atendera\", \"automatica\", \"automatico\", \"banco\", \"bano\", \"basurero\", \"bavo\", \"blackmer\", \"blender\", \"bloquear\", \"board\", \"boca\", \"bodega\", \"bombo\", \"boto\", \"breakaway\", \"bueno\", \"calibex\", \"calibex\", \"calibracion\", \"calibracion\", \"calibracione\", \"camaras\", \"cambiar\", \"cambiar\", \"capacidad\", \"cerrar\", \"certificacion\", \"certificar\", \"chequeo\", \"chocar\", \"cliente\", \"codigo\", \"coincidir\", \"cold\", \"cold\", \"combustible\", \"comenzar\", \"condicionar\", \"confeccion\", \"confeccionar\", \"configuracion\", \"configuracion\", \"configurar\", \"conjuntar\", \"contaminar\", \"contar\", \"contar\", \"contratar\", \"convencional\", \"coordinar\", \"copla\", \"correcto\", \"corregir\", \"corresponder\", \"corresponder\", \"cortar\", \"cotizacion\", \"cotizar\", \"danadas\", \"deber\", \"dejar\", \"depositar\", \"derivar\", \"derivar\", \"descargar\", \"descargar\", \"desconectar\", \"descontaminar\", \"deshabilita\", \"desmontar\", \"despa\", \"despachar\", \"despacho\", \"despichar\", \"detectar\", \"detector\", \"dia\", \"diesel\", \"disconformidad\", \"disipar\", \"disp\", \"dispensador\", \"dispensador\", \"dispenser\", \"dispositivo\", \"doblar\", \"eds\", \"ejecutar\", \"eliminar\", \"emergencia\", \"emitir\", \"encore\", \"energy\", \"enmoptimas\", \"entregar\", \"envia\", \"equipar\", \"equipo\", \"error\", \"especial\", \"esperar\", \"est\", \"est\", \"estancar\", \"estancar\", \"estanque\", \"evitar\", \"extension\", \"extraccion\", \"extraer\", \"fabricacion\", \"fabricacion\", \"fabricar\", \"fallo\", \"fecho\", \"filtracion\", \"filtracion\", \"filtraci\\u00f3n\", \"filtrar\", \"filtro\", \"filtro\", \"fin\", \"fiqltros\", \"flujo\", \"fluorescente\", \"fondo\", \"formar\", \"foto\", \"fugar\", \"funcionamiento\", \"funcionamiento\", \"funcionar\", \"gas\", \"gasolina\", \"gasolina\", \"gatillo\", \"general\", \"giratorio\", \"glilbarco\", \"goma\", \"graficas\", \"habilitar\", \"hermeticidad\", \"hombre\", \"hose\", \"hose\", \"humedad\", \"identificacion\", \"identificar\", \"incidencia\", \"inoperativo\", \"instalacion\", \"instalar\", \"inventario\", \"isla\", \"isla\", \"keroseno\", \"laboratorio\", \"lado\", \"lec\", \"lectura\", \"led\", \"lento\", \"levantar\", \"limpiar\", \"limpieza\", \"limpio\", \"litro\", \"llevar\", \"lmi\", \"lmin\", \"locual\", \"ltrs\", \"lts\", \"lubricar\", \"lubricar\", \"lunes\", \"mal\", \"malo\", \"manguera\", \"mantencion\", \"mantener\", \"maquinar\", \"mas\", \"master\", \"medicion\", \"mes\", \"mes\", \"mezclar\", \"minuto\", \"mo\", \"mostrar\", \"motor\", \"muestra\", \"mujer\", \"nl\", \"normal\", \"nro\", \"nuevo\", \"observar\", \"octano\", \"ods\", \"ofrecer\", \"operar\", \"operativo\", \"optimas\", \"ot\", \"otor\", \"palanca\", \"parametros\", \"partidor\", \"partir\", \"pasarse\", \"pedira\", \"pegar\", \"pem\", \"perimetral\", \"persistir\", \"personal\", \"pertenecer\", \"petrobras\", \"petrobras\", \"pintar\", \"pintura\", \"pintura\", \"pistola\", \"pistola\", \"placa\", \"placa\", \"plataforma\", \"plazo\", \"plazo\", \"portar\", \"pos\", \"posicionamiento\", \"positivo\", \"pozo\", \"pre\", \"precorte\", \"predeterminar\", \"presentar\", \"preset\", \"presurizacion\", \"preventivo\", \"probar\", \"problema\", \"producir\", \"producto\", \"producto\", \"programacion\", \"programar\", \"promediar\", \"promediar\", \"pronlema\", \"prueba\", \"puerta\", \"punto\", \"qiueda\", \"quebrar\", \"quedsndo\", \"quemar\", \"quendo\", \"real\", \"reapreite\", \"recircula\", \"recirculacion\", \"recuperacion\", \"reemplazar\", \"reglar\", \"reinicia\", \"reinician\", \"reinstalar\", \"rele\", \"remarcar\", \"reponer\", \"repuesto\", \"requerir\", \"reset\", \"resistivo\", \"resolver\", \"respuesta\", \"retencion\", \"retirar\", \"reunion\", \"root\", \"ruben\", \"ruido\", \"sacar\", \"saturar\", \"sdjunta\", \"sec\", \"sellar\", \"senalado\", \"sensor\", \"sera\", \"servicio\", \"set\", \"set\", \"sifon\", \"soldadura\", \"solicitar\", \"solicitar\", \"solo\", \"sondar\", \"spill\", \"srv\", \"star\", \"stock\", \"stp\", \"subcontratar\", \"sump\", \"swivel\", \"tabla\", \"tablero\", \"tablet\", \"tablet\", \"tambien\", \"tambor\", \"tamk\", \"tank\", \"tanque\", \"tanque\", \"tapar\", \"tarro\", \"teclado\", \"tender\", \"tiempo\", \"tk\", \"tolerancia\", \"total\", \"trabajar\", \"trabajo\", \"trabar\", \"traspasar\", \"tratar\", \"tubo\", \"turnar\", \"turnar\", \"ultimar\", \"utilizar\", \"valor\", \"vapor\", \"vaporar\", \"variacion\", \"variar\", \"vedeer\", \"veeder\", \"vehicular\", \"venta\", \"verificacion\", \"verificar\", \"volumen\", \"volumetrica\", \"wipe\", \"zona\"]}, \"R\": 30, \"lambda.step\": 0.01, \"plot.opts\": {\"xlab\": \"PC1\", \"ylab\": \"PC2\"}, \"topic.order\": [7, 10, 5, 4, 1, 9, 8, 3, 2, 6]};\n",
       "\n",
       "function LDAvis_load_lib(url, callback){\n",
       "  var s = document.createElement('script');\n",
       "  s.src = url;\n",
       "  s.async = true;\n",
       "  s.onreadystatechange = s.onload = callback;\n",
       "  s.onerror = function(){console.warn(\"failed to load library \" + url);};\n",
       "  document.getElementsByTagName(\"head\")[0].appendChild(s);\n",
       "}\n",
       "\n",
       "if(typeof(LDAvis) !== \"undefined\"){\n",
       "   // already loaded: just create the visualization\n",
       "   !function(LDAvis){\n",
       "       new LDAvis(\"#\" + \"ldavis_el586423846938477528110875395\", ldavis_el586423846938477528110875395_data);\n",
       "   }(LDAvis);\n",
       "}else if(typeof define === \"function\" && define.amd){\n",
       "   // require.js is available: use it to load d3/LDAvis\n",
       "   require.config({paths: {d3: \"https://cdnjs.cloudflare.com/ajax/libs/d3/3.5.5/d3.min\"}});\n",
       "   require([\"d3\"], function(d3){\n",
       "      window.d3 = d3;\n",
       "      LDAvis_load_lib(\"https://cdn.rawgit.com/bmabey/pyLDAvis/files/ldavis.v1.0.0.js\", function(){\n",
       "        new LDAvis(\"#\" + \"ldavis_el586423846938477528110875395\", ldavis_el586423846938477528110875395_data);\n",
       "      });\n",
       "    });\n",
       "}else{\n",
       "    // require.js not available: dynamically load d3 & LDAvis\n",
       "    LDAvis_load_lib(\"https://cdnjs.cloudflare.com/ajax/libs/d3/3.5.5/d3.min.js\", function(){\n",
       "         LDAvis_load_lib(\"https://cdn.rawgit.com/bmabey/pyLDAvis/files/ldavis.v1.0.0.js\", function(){\n",
       "                 new LDAvis(\"#\" + \"ldavis_el586423846938477528110875395\", ldavis_el586423846938477528110875395_data);\n",
       "            })\n",
       "         });\n",
       "}\n",
       "</script>"
      ],
      "text/plain": [
       "PreparedData(topic_coordinates=              x         y  topics  cluster       Freq\n",
       "topic                                                \n",
       "6     -0.108717  0.127483       1        1  11.673037\n",
       "9     -0.201722  0.184756       2        1  10.509570\n",
       "4      0.317715  0.106785       3        1  10.489812\n",
       "3     -0.032467 -0.077830       4        1  10.475800\n",
       "0      0.288351  0.123397       5        1  10.119793\n",
       "8     -0.044110 -0.248949       6        1   9.776715\n",
       "7     -0.002216 -0.083044       7        1   9.489625\n",
       "2     -0.072145 -0.183274       8        1   9.403303\n",
       "1     -0.180658  0.217503       9        1   9.171774\n",
       "5      0.035969 -0.166826      10        1   8.890571, topic_info=             Term       Freq      Total Category  logprob  loglift\n",
       "19        cambiar  45.000000  45.000000  Default  30.0000  30.0000\n",
       "41           disp  29.000000  29.000000  Default  29.0000  29.0000\n",
       "221          lado  27.000000  27.000000  Default  28.0000  28.0000\n",
       "93          venta  25.000000  25.000000  Default  27.0000  27.0000\n",
       "51        pistola  26.000000  26.000000  Default  26.0000  26.0000\n",
       "..            ...        ...        ...      ...      ...      ...\n",
       "311  calibracione   0.974319   0.974319  Topic10  -4.8040   2.4202\n",
       "297           nro   0.974319   0.974319  Topic10  -4.8040   2.4202\n",
       "125     desmontar   0.974319   0.974319  Topic10  -4.8040   2.4202\n",
       "53       estancar   1.948638   6.321583  Topic10  -4.1109   1.2433\n",
       "300       calibex   0.974319   1.901374  Topic10  -4.8040   1.7516\n",
       "\n",
       "[396 rows x 6 columns], token_table=      Topic      Freq         Term\n",
       "term                              \n",
       "183       8  0.914715        abril\n",
       "238       1  1.044413        abrir\n",
       "15        6  0.525936    accesorio\n",
       "15       10  0.525936    accesorio\n",
       "208       3  0.926924      acordar\n",
       "...     ...       ...          ...\n",
       "132       2  0.934078    verificar\n",
       "182       9  0.954116      volumen\n",
       "27        6  1.078685  volumetrica\n",
       "271       8  0.914715         wipe\n",
       "345       7  1.000975         zona\n",
       "\n",
       "[380 rows x 3 columns], R=30, lambda_step=0.01, plot_opts={'xlab': 'PC1', 'ylab': 'PC2'}, topic_order=[7, 10, 5, 4, 1, 9, 8, 3, 2, 6])"
      ]
     },
     "execution_count": 70,
     "metadata": {},
     "output_type": "execute_result"
    }
   ],
   "source": [
    "# Visualize the topics\n",
    "pyLDAvis.enable_notebook()\n",
    "LDA_mallet_model = gensim.models.wrappers.ldamallet.malletmodel2ldamodel(ldamallet)\n",
    "vis = pyLDAvis.gensim.prepare(LDA_mallet_model, corpus, id2word)\n",
    "vis"
   ]
  },
  {
   "cell_type": "markdown",
   "metadata": {},
   "source": [
    "## III. PROBANDO FUNCIONES PARA AUTOMATIZAR MODELOS"
   ]
  },
  {
   "cell_type": "code",
   "execution_count": 71,
   "metadata": {},
   "outputs": [],
   "source": [
    "# MODELOS LDA\n",
    "\n",
    "def texts_id2word_corpus(texts, stop_words=stop_words, allowed_postags=['NOUN', 'ADJ', 'VERB', 'ADV','PROPN']):  \n",
    "    # Tokenization\n",
    "    texts = [gensim.utils.simple_preprocess(str(sentence), deacc=True) for sentence in texts]\n",
    "    # Remove stopwords\n",
    "    texts = [[word for word in simple_preprocess(str(doc)) if word not in stop_words] for doc in texts]\n",
    "    # lemmatization\n",
    "    texts_out = []\n",
    "    for sent in texts:\n",
    "        doc = nlp(u\" \".join(sent)) \n",
    "        texts_out.append([token.lemma_ for token in doc if token.pos_ in allowed_postags])\n",
    "    # Remove stopwords once more after lemmatization\n",
    "    texts_out = [[word for word in simple_preprocess(str(doc)) if word not in stop_words] for doc in texts_out] \n",
    "    # Create Dictionary\n",
    "    id2word = corpora.Dictionary(texts_out)\n",
    "    # Create Corpus: Term Document Frequency\n",
    "    corpus = [id2word.doc2bow(text) for text in texts_out]\n",
    "    return texts_out,id2word,corpus\n",
    "\n",
    "def coherence_values_mallet(dictionary, corpus, texts, start=2, limit=41, step=2):\n",
    "    coherence_values = []\n",
    "    model_list = []\n",
    "    mallet_path = 'C:/Users/alexa/mallet-2.0.8/bin/mallet.bat' \n",
    "    for num_topics in range(start, limit, step):\n",
    "        model = gensim.models.wrappers.LdaMallet(mallet_path, \n",
    "                                                 corpus=corpus, \n",
    "                                                 num_topics=num_topics, \n",
    "                                                 id2word=id2word, \n",
    "                                                 random_seed = 100)\n",
    "        model_list.append(model)\n",
    "        coherencemodel = CoherenceModel(model=model, texts=texts, dictionary=dictionary, coherence='c_v')\n",
    "        coherence_values.append(coherencemodel.get_coherence())\n",
    "    return model_list, coherence_values\n",
    "\n",
    "def coherence_values_gensim(dictionary, corpus, texts, start=2, limit=41, step=2):\n",
    "    coherence_values = []\n",
    "    model_list = []\n",
    "    for num_topics in range(start, limit, step):\n",
    "        model = gensim.models.ldamodel.LdaModel(corpus=corpus,\n",
    "                                                id2word=id2word, \n",
    "                                                num_topics=num_topics, \n",
    "                                                random_state=100, \n",
    "                                                update_every=1, \n",
    "                                                chunksize=100, \n",
    "                                                passes=10, \n",
    "                                                alpha='auto', \n",
    "                                                per_word_topics=True)\n",
    "        model_list.append(model)\n",
    "        coherencemodel = CoherenceModel(model=model, texts=texts, dictionary=dictionary, coherence='c_v')\n",
    "        coherence_values.append(coherencemodel.get_coherence())\n",
    "    return model_list, coherence_values\n",
    "\n",
    "def coherence_values_sklearn(data_lemmatized, start=2, limit=41, step=2):\n",
    "    data_lemmatized2 = [' '.join(sent) for sent in data_lemmatized]\n",
    "    cv = CountVectorizer(stop_words = stop_words,max_df=0.95, min_df=2)\n",
    "    data_cv = cv.fit_transform(data_lemmatized2) # document term-matrix (dtm)\n",
    "    coherence_values = []\n",
    "    model_list = [] \n",
    "    for num_topics in range(start, limit, step):\n",
    "        model = LatentDirichletAllocation(n_components=num_topics,          \n",
    "                                          max_iter=10,               \n",
    "                                          learning_method='online',   \n",
    "                                          random_state=100,           \n",
    "                                          batch_size=128,            \n",
    "                                          n_jobs = -1)\n",
    "        model.fit(data_cv)\n",
    "        model_list.append(model)\n",
    "        coherencemodel = metric_coherence_gensim(measure='c_v', \n",
    "                                                 top_n=20, \n",
    "                                                 topic_word_distrib=model.components_, \n",
    "                                                 dtm=data_cv, \n",
    "                                                 vocab= np.array([x for x in cv.vocabulary_.keys()]),\n",
    "                                                 texts = data_lemmatized)\n",
    "        coherencemodel = np.array(coherencemodel)\n",
    "        coherence_values.append(np.mean(coherencemodel))\n",
    "    return model_list, coherence_values , cv\n",
    "\n",
    "def plot_coherence(cv1,cv2,cv3, start=2,limit=41,step=2):\n",
    "    x = range(start, limit, step) \n",
    "    plt.rcParams.update({'figure.figsize':(16,9)})\n",
    "    plt.plot(x, cv1 , label = 'LDA Mallet')\n",
    "    plt.plot(x, cv2 , label = 'LDA Gensim')\n",
    "    plt.plot(x, cv3 , label = 'LDA Sklearn')\n",
    "    plt.title('LDA Coherence')\n",
    "    plt.xlabel(\"Topics\")\n",
    "    plt.ylabel(\"Coherence score\")\n",
    "    plt.legend()\n",
    "    plt.grid(color='gray', linestyle='-', linewidth=1, alpha = 0.1)\n",
    "    plt.show()\n",
    "\n",
    "def coherence_summary(cv_mallet, cv_gensim, cv_sklearn, start=2,limit=41,step=2):\n",
    "    num_topics = list(range(start,limit,step))\n",
    "    d = {'Nro Tópicos': num_topics , 'LDA Mallet': cv_mallet, 'LDA Gensim': cv_gensim, 'LDA Sklearn': cv_sklearn}\n",
    "    return pd.DataFrame(d)\n",
    "    \n",
    "def top15words_sklearn(lda_model, cv):\n",
    "    for index,topic in enumerate(lda_model.components_):\n",
    "        print(f'TOPIC {index}')\n",
    "        print([cv.get_feature_names()[i] for i in topic.argsort()[-15:]])\n",
    "        print('\\n')"
   ]
  },
  {
   "cell_type": "code",
   "execution_count": 5,
   "metadata": {},
   "outputs": [
    {
     "data": {
      "text/plain": [
       "['incidencia fue atendida durante mantencion preventiva ot 27362',\n",
       " 'se deriva a trabajo adicional para coordinar retiro de tambores se adjunta cotizacion en plataforma para aprobacion']"
      ]
     },
     "execution_count": 5,
     "metadata": {},
     "output_type": "execute_result"
    }
   ],
   "source": [
    "# Operaciones y Servicios Terpel LTDA \n",
    "data = df_estacion_sentences['Observación']['Petrobras Chile Red Ltda Las Brujas']\n",
    "data[:2]"
   ]
  },
  {
   "cell_type": "code",
   "execution_count": 6,
   "metadata": {},
   "outputs": [],
   "source": [
    "# Asignar data \n",
    "texts,id2word,corpus = texts_id2word_corpus(texts = data)"
   ]
  },
  {
   "cell_type": "code",
   "execution_count": 7,
   "metadata": {},
   "outputs": [
    {
     "name": "stdout",
     "output_type": "stream",
     "text": [
      "Wall time: 5min 59s\n"
     ]
    }
   ],
   "source": [
    "%%time\n",
    "# 1) LDA Mallet \n",
    "# Conocer el mejor n_clusters (Puede tomar varios minutos)\n",
    "model_list1, coherence_values1 = coherence_values_mallet(dictionary=id2word, corpus=corpus,texts=texts,start=2,limit=31,step=4)"
   ]
  },
  {
   "cell_type": "code",
   "execution_count": 8,
   "metadata": {},
   "outputs": [
    {
     "name": "stdout",
     "output_type": "stream",
     "text": [
      "Wall time: 1min 43s\n"
     ]
    }
   ],
   "source": [
    "%%time\n",
    "# 2) LDA Gensim\n",
    "# Conocer el mejor n_clusters (Puede tomar varios minutos)\n",
    "model_list2, coherence_values2 = coherence_values_gensim(dictionary=id2word, corpus=corpus,texts=texts,start=2,limit=31,step=4)"
   ]
  },
  {
   "cell_type": "code",
   "execution_count": 9,
   "metadata": {},
   "outputs": [
    {
     "name": "stdout",
     "output_type": "stream",
     "text": [
      "Wall time: 1min 55s\n"
     ]
    }
   ],
   "source": [
    "%%time\n",
    "# 3) LDA Sklearn\n",
    "# Conocer el mejor n_clusters (Puede tomar varios minutos)\n",
    "model_list3, coherence_values3 , cv = coherence_values_sklearn(data_lemmatized=texts,start=2,limit=31,step=4)"
   ]
  },
  {
   "cell_type": "code",
   "execution_count": 10,
   "metadata": {},
   "outputs": [
    {
     "data": {
      "image/png": "[encoded data removed]",
      "text/plain": [
       "<Figure size 1152x648 with 1 Axes>"
      ]
     },
     "metadata": {
      "needs_background": "light"
     },
     "output_type": "display_data"
    }
   ],
   "source": [
    "plot_coherence(cv1=coherence_values1,cv2=coherence_values2,cv3=coherence_values3,start=2,limit=31,step=4)"
   ]
  },
  {
   "cell_type": "code",
   "execution_count": 25,
   "metadata": {},
   "outputs": [
    {
     "data": {
      "text/html": [
       "<div>\n",
       "<style scoped>\n",
       "    .dataframe tbody tr th:only-of-type {\n",
       "        vertical-align: middle;\n",
       "    }\n",
       "\n",
       "    .dataframe tbody tr th {\n",
       "        vertical-align: top;\n",
       "    }\n",
       "\n",
       "    .dataframe thead th {\n",
       "        text-align: right;\n",
       "    }\n",
       "</style>\n",
       "<table border=\"1\" class=\"dataframe\">\n",
       "  <thead>\n",
       "    <tr style=\"text-align: right;\">\n",
       "      <th></th>\n",
       "      <th>Nro Tópicos</th>\n",
       "      <th>LDA Mallet</th>\n",
       "      <th>LDA Gensim</th>\n",
       "      <th>LDA Sklearn</th>\n",
       "    </tr>\n",
       "  </thead>\n",
       "  <tbody>\n",
       "    <tr>\n",
       "      <th>0</th>\n",
       "      <td>2</td>\n",
       "      <td>0.411409</td>\n",
       "      <td>0.358736</td>\n",
       "      <td>0.703794</td>\n",
       "    </tr>\n",
       "    <tr>\n",
       "      <th>1</th>\n",
       "      <td>6</td>\n",
       "      <td>0.539047</td>\n",
       "      <td>0.424155</td>\n",
       "      <td>0.683434</td>\n",
       "    </tr>\n",
       "    <tr>\n",
       "      <th>2</th>\n",
       "      <td>10</td>\n",
       "      <td>0.573356</td>\n",
       "      <td>0.457585</td>\n",
       "      <td>0.660920</td>\n",
       "    </tr>\n",
       "    <tr>\n",
       "      <th>3</th>\n",
       "      <td>14</td>\n",
       "      <td>0.566277</td>\n",
       "      <td>0.418726</td>\n",
       "      <td>0.661594</td>\n",
       "    </tr>\n",
       "    <tr>\n",
       "      <th>4</th>\n",
       "      <td>18</td>\n",
       "      <td>0.619087</td>\n",
       "      <td>0.462594</td>\n",
       "      <td>0.666137</td>\n",
       "    </tr>\n",
       "    <tr>\n",
       "      <th>5</th>\n",
       "      <td>22</td>\n",
       "      <td>0.610580</td>\n",
       "      <td>0.454261</td>\n",
       "      <td>0.670777</td>\n",
       "    </tr>\n",
       "    <tr>\n",
       "      <th>6</th>\n",
       "      <td>26</td>\n",
       "      <td>0.627039</td>\n",
       "      <td>0.439668</td>\n",
       "      <td>0.660621</td>\n",
       "    </tr>\n",
       "    <tr>\n",
       "      <th>7</th>\n",
       "      <td>30</td>\n",
       "      <td>0.620362</td>\n",
       "      <td>0.467327</td>\n",
       "      <td>0.648884</td>\n",
       "    </tr>\n",
       "  </tbody>\n",
       "</table>\n",
       "</div>"
      ],
      "text/plain": [
       "   Nro Tópicos  LDA Mallet  LDA Gensim  LDA Sklearn\n",
       "0            2    0.411409    0.358736     0.703794\n",
       "1            6    0.539047    0.424155     0.683434\n",
       "2           10    0.573356    0.457585     0.660920\n",
       "3           14    0.566277    0.418726     0.661594\n",
       "4           18    0.619087    0.462594     0.666137\n",
       "5           22    0.610580    0.454261     0.670777\n",
       "6           26    0.627039    0.439668     0.660621\n",
       "7           30    0.620362    0.467327     0.648884"
      ]
     },
     "execution_count": 25,
     "metadata": {},
     "output_type": "execute_result"
    }
   ],
   "source": [
    "c_summary = coherence_summary(cv_mallet=coherence_values1,cv_gensim=coherence_values2, cv_sklearn=coherence_values3,start=2,limit=31,step=4)\n",
    "c_summary"
   ]
  },
  {
   "cell_type": "code",
   "execution_count": 26,
   "metadata": {},
   "outputs": [],
   "source": [
    "c_summary.to_excel('prueba.xlsx')"
   ]
  },
  {
   "cell_type": "markdown",
   "metadata": {},
   "source": [
    "### Visualizar top 15 topicos del mejor modelo de cada LDA"
   ]
  },
  {
   "cell_type": "code",
   "execution_count": 31,
   "metadata": {},
   "outputs": [
    {
     "name": "stdout",
     "output_type": "stream",
     "text": [
      "[(0,\n",
      "  '0.382*\"cambiar\" + 0.303*\"pistola\" + 0.090*\"gatillo\" + 0.079*\"malo\" + '\n",
      "  '0.022*\"atendera\" + 0.022*\"personal\" + 0.022*\"pegar\" + 0.011*\"tarro\" + '\n",
      "  '0.011*\"abrir\" + 0.011*\"entregar\" + 0.011*\"presurizacion\" + 0.011*\"cold\" + '\n",
      "  '0.011*\"mujer\" + 0.011*\"tolerancia\" + 0.000*\"quedsndo\"'),\n",
      " (1,\n",
      "  '0.378*\"isla\" + 0.122*\"reemplazar\" + 0.068*\"dispensador\" + 0.068*\"utilizar\" '\n",
      "  '+ 0.054*\"graficas\" + 0.041*\"venta\" + 0.041*\"ajustar\" + 0.041*\"set\" + '\n",
      "  '0.027*\"bombo\" + 0.027*\"convencional\" + 0.014*\"mezclar\" + 0.014*\"evitar\" + '\n",
      "  '0.014*\"camaras\" + 0.014*\"reunion\" + 0.014*\"dia\"'),\n",
      " (2,\n",
      "  '0.377*\"lado\" + 0.203*\"ltrs\" + 0.188*\"extraer\" + 0.101*\"diesel\" + '\n",
      "  '0.043*\"boca\" + 0.014*\"confeccionar\" + 0.014*\"cold\" + 0.014*\"solo\" + '\n",
      "  '0.014*\"ot\" + 0.014*\"fondo\" + 0.014*\"adaptador\" + 0.000*\"dispensador\" + '\n",
      "  '0.000*\"pre\" + 0.000*\"master\" + 0.000*\"mas\"'),\n",
      " (3,\n",
      "  '0.442*\"disp\" + 0.130*\"lento\" + 0.091*\"filtrar\" + 0.052*\"chocar\" + '\n",
      "  '0.052*\"vehicular\" + 0.026*\"presentar\" + 0.026*\"quebrar\" + 0.026*\"portar\" + '\n",
      "  '0.026*\"actualizar\" + 0.026*\"boto\" + 0.013*\"pintura\" + 0.013*\"doblar\" + '\n",
      "  '0.013*\"periodo\" + 0.013*\"verificacion\" + 0.013*\"sdjunta\"'),\n",
      " (4,\n",
      "  '0.135*\"manguera\" + 0.115*\"producto\" + 0.096*\"mostrar\" + 0.077*\"tanque\" + '\n",
      "  '0.038*\"configurar\" + 0.038*\"certificacion\" + 0.038*\"laboratorio\" + '\n",
      "  '0.038*\"corresponder\" + 0.019*\"corregir\" + 0.019*\"fabricacion\" + '\n",
      "  '0.019*\"coincidir\" + 0.019*\"foto\" + 0.019*\"mes\" + 0.019*\"mas\" + '\n",
      "  '0.019*\"automatico\"'),\n",
      " (5,\n",
      "  '0.152*\"fallo\" + 0.136*\"srv\" + 0.076*\"disipar\" + 0.061*\"partir\" + '\n",
      "  '0.061*\"reemplazar\" + 0.045*\"trabar\" + 0.045*\"funcionamiento\" + '\n",
      "  '0.045*\"despacho\" + 0.030*\"operar\" + 0.030*\"lubricar\" + 0.030*\"persistir\" + '\n",
      "  '0.030*\"chequeo\" + 0.030*\"codigo\" + 0.030*\"palanca\" + 0.030*\"hose\"'),\n",
      " (6,\n",
      "  '0.164*\"mantencion\" + 0.148*\"preventivo\" + 0.115*\"ot\" + 0.115*\"incidencia\" + '\n",
      "  '0.098*\"calibracion\" + 0.066*\"atender\" + 0.049*\"detectar\" + 0.033*\"precorte\" '\n",
      "  '+ 0.016*\"abril\" + 0.016*\"resistivo\" + 0.016*\"pintura\" + 0.016*\"serevisa\" + '\n",
      "  '0.016*\"tender\" + 0.016*\"danadas\" + 0.016*\"cerrar\"'),\n",
      " (7,\n",
      "  '0.212*\"vapor\" + 0.106*\"breakaway\" + 0.106*\"stock\" + 0.106*\"tablet\" + '\n",
      "  '0.076*\"instalar\" + 0.061*\"filtracion\" + 0.030*\"wipe\" + 0.030*\"boca\" + '\n",
      "  '0.030*\"prubas\" + 0.030*\"cambiar\" + 0.030*\"sifon\" + 0.030*\"adhesivo\" + '\n",
      "  '0.030*\"goma\" + 0.015*\"maquinar\" + 0.015*\"cotizar\"'),\n",
      " (8,\n",
      "  '0.219*\"reglar\" + 0.156*\"tk\" + 0.094*\"tabla\" + 0.078*\"mal\" + '\n",
      "  '0.062*\"petrobras\" + 0.047*\"estanque\" + 0.031*\"contar\" + '\n",
      "  '0.031*\"recirculacion\" + 0.031*\"plataforma\" + 0.031*\"instalacion\" + '\n",
      "  '0.016*\"personal\" + 0.016*\"respuesta\" + 0.016*\"calibex\" + 0.016*\"keroseno\" + '\n",
      "  '0.016*\"configuracion\"'),\n",
      " (9,\n",
      "  '0.211*\"probar\" + 0.211*\"equipar\" + 0.113*\"condicionar\" + 0.099*\"verificar\" '\n",
      "  '+ 0.056*\"anomalia\" + 0.042*\"servicio\" + 0.042*\"cerrar\" + 0.028*\"real\" + '\n",
      "  '0.028*\"cliente\" + 0.028*\"enmoptimas\" + 0.014*\"comenzar\" + '\n",
      "  '0.014*\"hermeticidad\" + 0.014*\"vaporar\" + 0.014*\"tablero\" + 0.014*\"lec\"'),\n",
      " (10,\n",
      "  '0.186*\"veeder\" + 0.174*\"sensor\" + 0.151*\"alarmar\" + 0.093*\"dispenser\" + '\n",
      "  '0.070*\"normal\" + 0.058*\"funcionar\" + 0.047*\"limpiar\" + 0.035*\"asignar\" + '\n",
      "  '0.023*\"est\" + 0.023*\"aproximar\" + 0.023*\"combustible\" + 0.012*\"remarcar\" + '\n",
      "  '0.012*\"contaminar\" + 0.012*\"vedeer\" + 0.012*\"mes\"'),\n",
      " (11,\n",
      "  '0.173*\"root\" + 0.125*\"sump\" + 0.125*\"aguar\" + 0.067*\"litro\" + 0.067*\"tank\" '\n",
      "  '+ 0.048*\"lts\" + 0.038*\"extraccion\" + 0.038*\"alarmar\" + 0.038*\"sacar\" + '\n",
      "  '0.038*\"coordinar\" + 0.029*\"sellar\" + 0.029*\"plazo\" + 0.019*\"tambien\" + '\n",
      "  '0.019*\"limpieza\" + 0.019*\"extension\"'),\n",
      " (12,\n",
      "  '0.157*\"encore\" + 0.108*\"reponer\" + 0.096*\"motor\" + 0.072*\"recuperacion\" + '\n",
      "  '0.048*\"emergencia\" + 0.048*\"turnar\" + 0.036*\"nl\" + 0.036*\"limpio\" + '\n",
      "  '0.024*\"tiempo\" + 0.024*\"pedira\" + 0.024*\"error\" + 0.024*\"ruido\" + '\n",
      "  '0.024*\"dispositivo\" + 0.024*\"emitir\" + 0.024*\"reinician\"'),\n",
      " (13,\n",
      "  '0.241*\"filtro\" + 0.169*\"diesel\" + 0.108*\"lmin\" + 0.072*\"gasolina\" + '\n",
      "  '0.060*\"flujo\" + 0.060*\"despachar\" + 0.036*\"saturar\" + 0.036*\"observar\" + '\n",
      "  '0.036*\"cotizacion\" + 0.024*\"recirculacion\" + 0.024*\"programacion\" + '\n",
      "  '0.024*\"promediar\" + 0.024*\"capacidad\" + 0.012*\"traspasar\" + 0.012*\"minuto\"'),\n",
      " (14,\n",
      "  '0.175*\"cambiar\" + 0.150*\"placa\" + 0.100*\"equipo\" + 0.050*\"quemar\" + '\n",
      "  '0.037*\"banco\" + 0.037*\"nuevo\" + 0.025*\"anterior\" + 0.025*\"trabajo\" + '\n",
      "  '0.025*\"soldadura\" + 0.025*\"ruben\" + 0.025*\"repuesto\" + 0.025*\"rele\" + '\n",
      "  '0.025*\"mo\" + 0.025*\"board\" + 0.025*\"stp\"'),\n",
      " (15,\n",
      "  '0.387*\"venta\" + 0.129*\"reinicia\" + 0.097*\"predeterminar\" + 0.081*\"cortar\" + '\n",
      "  '0.032*\"desconectar\" + 0.032*\"acudir\" + 0.032*\"retencion\" + '\n",
      "  '0.032*\"parametros\" + 0.032*\"variar\" + 0.032*\"chequeo\" + 0.016*\"resolver\" + '\n",
      "  '0.016*\"fabricacion\" + 0.016*\"estanque\" + 0.016*\"probar\" + 0.016*\"master\"'),\n",
      " (16,\n",
      "  '0.154*\"tapar\" + 0.108*\"retirar\" + 0.092*\"estancar\" + 0.092*\"tambor\" + '\n",
      "  '0.077*\"pintar\" + 0.046*\"identificacion\" + 0.046*\"spill\" + 0.046*\"aguar\" + '\n",
      "  '0.031*\"confeccion\" + 0.031*\"descargar\" + 0.031*\"teclado\" + 0.015*\"sondar\" + '\n",
      "  '0.015*\"fecho\" + 0.015*\"qiueda\" + 0.015*\"automatica\"'),\n",
      " (17,\n",
      "  '0.100*\"tubo\" + 0.080*\"optimas\" + 0.060*\"fluorescente\" + 0.060*\"bano\" + '\n",
      "  '0.040*\"hombre\" + 0.040*\"reviza\" + 0.040*\"aprobacion\" + 0.040*\"fugar\" + '\n",
      "  '0.040*\"partidor\" + 0.040*\"bloquear\" + 0.040*\"total\" + 0.020*\"eliminar\" + '\n",
      "  '0.020*\"ods\" + 0.020*\"ofrecer\" + 0.020*\"correcto\"')]\n"
     ]
    }
   ],
   "source": [
    "# 1) LDA MALLET \n",
    "optimal_model1 = model_list1[4]\n",
    "pprint(optimal_model1.print_topics(num_words=15, num_topics= 100))"
   ]
  },
  {
   "cell_type": "code",
   "execution_count": 32,
   "metadata": {},
   "outputs": [
    {
     "name": "stdout",
     "output_type": "stream",
     "text": [
      "[(0,\n",
      "  '0.051*\"filtro\" + 0.046*\"cambiar\" + 0.039*\"placa\" + 0.031*\"isla\" + '\n",
      "  '0.027*\"tk\" + 0.026*\"pistola\" + 0.024*\"equipo\" + 0.024*\"reglar\" + '\n",
      "  '0.020*\"verificar\" + 0.016*\"diesel\" + 0.016*\"quemar\" + 0.016*\"quebrar\" + '\n",
      "  '0.016*\"encore\" + 0.016*\"chocar\" + 0.016*\"vehicular\"'),\n",
      " (1,\n",
      "  '0.053*\"boca\" + 0.032*\"ajustar\" + 0.032*\"tablet\" + 0.032*\"stock\" + '\n",
      "  '0.031*\"tanque\" + 0.030*\"mostrar\" + 0.027*\"filtro\" + 0.023*\"lado\" + '\n",
      "  '0.022*\"precorte\" + 0.022*\"tabla\" + 0.022*\"adhesivo\" + 0.022*\"flujo\" + '\n",
      "  '0.022*\"dispensador\" + 0.022*\"petrobras\" + 0.021*\"laboratorio\"'),\n",
      " (2,\n",
      "  '0.056*\"preventivo\" + 0.056*\"mantencion\" + 0.038*\"ot\" + 0.038*\"incidencia\" + '\n",
      "  '0.025*\"atender\" + 0.024*\"tambor\" + 0.023*\"retirar\" + 0.022*\"aguar\" + '\n",
      "  '0.019*\"filtracion\" + 0.018*\"tapar\" + 0.014*\"cambiar\" + 0.013*\"goma\" + '\n",
      "  '0.013*\"sifon\" + 0.013*\"accesorio\" + 0.013*\"mes\"'),\n",
      " (3,\n",
      "  '0.128*\"disp\" + 0.107*\"cambiar\" + 0.051*\"lento\" + 0.039*\"malo\" + '\n",
      "  '0.036*\"filtrar\" + 0.036*\"venta\" + 0.032*\"pistola\" + 0.030*\"gatillo\" + '\n",
      "  '0.026*\"tubo\" + 0.021*\"predeterminar\" + 0.016*\"fluorescente\" + 0.016*\"bano\" '\n",
      "  '+ 0.011*\"diesel\" + 0.011*\"estancar\" + 0.011*\"instalar\"'),\n",
      " (4,\n",
      "  '0.076*\"aguar\" + 0.059*\"root\" + 0.052*\"sump\" + 0.045*\"veeder\" + '\n",
      "  '0.043*\"alarmar\" + 0.035*\"tank\" + 0.025*\"sacar\" + 0.025*\"litro\" + '\n",
      "  '0.019*\"extraccion\" + 0.019*\"coordinar\" + 0.016*\"limpiar\" + 0.014*\"tapar\" + '\n",
      "  '0.013*\"venta\" + 0.013*\"tamk\" + 0.013*\"afectar\"'),\n",
      " (5,\n",
      "  '0.059*\"sensor\" + 0.050*\"alarmar\" + 0.034*\"veeder\" + 0.032*\"root\" + '\n",
      "  '0.030*\"reponer\" + 0.030*\"dispenser\" + 0.025*\"equipar\" + 0.025*\"funcionar\" + '\n",
      "  '0.023*\"sump\" + 0.023*\"normal\" + 0.020*\"disp\" + 0.020*\"probar\" + '\n",
      "  '0.020*\"venta\" + 0.019*\"recuperacion\" + 0.015*\"motor\"'),\n",
      " (6,\n",
      "  '0.055*\"isla\" + 0.035*\"encore\" + 0.034*\"reemplazar\" + 0.032*\"venta\" + '\n",
      "  '0.031*\"disp\" + 0.031*\"reinicia\" + 0.031*\"graficas\" + 0.029*\"pistola\" + '\n",
      "  '0.024*\"fallo\" + 0.023*\"set\" + 0.023*\"cortar\" + 0.016*\"equipar\" + '\n",
      "  '0.016*\"manguera\" + 0.016*\"sensor\" + 0.016*\"disipar\"'),\n",
      " (7,\n",
      "  '0.048*\"isla\" + 0.041*\"srv\" + 0.037*\"lmin\" + 0.030*\"reemplazar\" + '\n",
      "  '0.030*\"motor\" + 0.025*\"diesel\" + 0.021*\"venta\" + 0.018*\"cerrar\" + '\n",
      "  '0.018*\"observar\" + 0.018*\"fallo\" + 0.018*\"trabar\" + 0.018*\"gasolina\" + '\n",
      "  '0.016*\"probar\" + 0.012*\"encore\" + 0.012*\"maquinar\"'),\n",
      " (8,\n",
      "  '0.054*\"reglar\" + 0.054*\"pintar\" + 0.054*\"tapar\" + 0.037*\"instalacion\" + '\n",
      "  '0.037*\"confeccion\" + 0.036*\"condicionar\" + 0.036*\"tiempo\" + 0.019*\"venta\" + '\n",
      "  '0.019*\"fabricacion\" + 0.019*\"swivel\" + 0.019*\"reapreite\" + 0.019*\"spill\" + '\n",
      "  '0.002*\"isla\" + 0.002*\"srv\" + 0.002*\"motor\"'),\n",
      " (9,\n",
      "  '0.104*\"lado\" + 0.069*\"vapor\" + 0.065*\"ltrs\" + 0.061*\"extraer\" + '\n",
      "  '0.050*\"diesel\" + 0.049*\"cambiar\" + 0.046*\"pistola\" + 0.020*\"probar\" + '\n",
      "  '0.019*\"breakaway\" + 0.019*\"tablet\" + 0.019*\"stock\" + 0.019*\"mal\" + '\n",
      "  '0.015*\"reglar\" + 0.015*\"manguera\" + 0.015*\"estancar\"')]\n"
     ]
    }
   ],
   "source": [
    "# 2) LDA GENSIM\n",
    "optimal_model2 = model_list2[2]\n",
    "pprint(optimal_model2.print_topics(num_words=15, num_topics= 100))"
   ]
  },
  {
   "cell_type": "code",
   "execution_count": 41,
   "metadata": {},
   "outputs": [
    {
     "name": "stdout",
     "output_type": "stream",
     "text": [
      "TOPIC 0\n",
      "['lts', 'extraccion', 'coordinar', 'estancar', 'limpiar', 'funcionar', 'normal', 'litro', 'sensor', 'tank', 'veeder', 'sump', 'alarmar', 'aguar', 'root']\n",
      "\n",
      "\n",
      "TOPIC 1\n",
      "['diesel', 'atender', 'cambiar', 'reinicia', 'aguar', 'retirar', 'tambor', 'dispensador', 'predeterminar', 'disp', 'incidencia', 'ot', 'mantencion', 'preventivo', 'venta']\n",
      "\n",
      "\n",
      "TOPIC 2\n",
      "['ltrs', 'encore', 'filtrar', 'condicionar', 'gatillo', 'malo', 'probar', 'equipar', 'lento', 'venta', 'filtro', 'lado', 'pistola', 'disp', 'cambiar']\n",
      "\n",
      "\n",
      "TOPIC 3\n",
      "['utilizar', 'despachar', 'motor', 'encore', 'gasolina', 'probar', 'ltrs', 'fallo', 'venta', 'filtro', 'lmin', 'srv', 'reemplazar', 'diesel', 'isla']\n",
      "\n",
      "\n",
      "TOPIC 4\n",
      "['limpio', 'mal', 'stock', 'tablet', 'motor', 'pistola', 'cambiar', 'ltrs', 'breakaway', 'reponer', 'recuperacion', 'extraer', 'reglar', 'lado', 'vapor']\n",
      "\n",
      "\n",
      "TOPIC 5\n",
      "['reponer', 'estanque', 'isla', 'alarmar', 'root', 'veeder', 'disp', 'equipo', 'tabla', 'sensor', 'dispenser', 'cambiar', 'tk', 'reglar', 'placa']\n",
      "\n",
      "\n"
     ]
    }
   ],
   "source": [
    "# 3) LDA SKLEARN \n",
    "optimal_model3 = model_list3[1]\n",
    "top15words_sklearn(lda_model=optimal_model3,cv = cv)"
   ]
  }
 ],
 "metadata": {
  "kernelspec": {
   "display_name": "Python 3",
   "language": "python",
   "name": "python3"
  },
  "language_info": {
   "codemirror_mode": {
    "name": "ipython",
    "version": 3
   },
   "file_extension": ".py",
   "mimetype": "text/x-python",
   "name": "python",
   "nbconvert_exporter": "python",
   "pygments_lexer": "ipython3",
   "version": "3.7.6"
  }
 },
 "nbformat": 4,
 "nbformat_minor": 4
}
