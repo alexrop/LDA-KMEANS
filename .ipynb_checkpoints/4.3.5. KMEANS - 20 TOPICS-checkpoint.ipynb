{
 "cells": [
  {
   "cell_type": "markdown",
   "metadata": {},
   "source": [
    "# APLICACIÓN KMEANS EN LOS 20 TÓPICOS ENCONTRADOS POR LDA"
   ]
  },
  {
   "cell_type": "markdown",
   "metadata": {},
   "source": [
    "**Contenido**\n",
    "\n",
    "Análisis de tópicos del 0 al 19 en orden ascendente.\n",
    "\n",
    "El objetivo de este notebook es la implementación del algoritmo Kmeans a los tópicos encontrados en el tercer notebook, con el fin de extraer patrones de comportamiento. \n"
   ]
  },
  {
   "cell_type": "markdown",
   "metadata": {},
   "source": [
    "<div class=\"alert alert-info\" style=\"margin: 20px\">\n",
    "Se decide crear este algoritmo con el fin de obtener mayor grado de detales en las OT de las base de datos. En otras palabras, se busca identificar clusters específicos, conservando el sentido semantico de la oración, a diferencia del anterior estructura LDA que nos permitió tener una visión general. </div>"
   ]
  },
  {
   "cell_type": "markdown",
   "metadata": {},
   "source": [
    "# I. DISEÑO DEL ALGORITMO"
   ]
  },
  {
   "cell_type": "markdown",
   "metadata": {},
   "source": [
    "#### Importar paquetes"
   ]
  },
  {
   "cell_type": "code",
   "execution_count": null,
   "metadata": {},
   "outputs": [],
   "source": [
    "import collections\n",
    "from sklearn.cluster import KMeans\n",
    "from sklearn.feature_extraction.text import TfidfVectorizer\n",
    "from nltk import word_tokenize\n",
    "from nltk.corpus import stopwords\n",
    "from nltk.stem import SnowballStemmer\n",
    "from pprint import pprint\n",
    "import numpy as np\n",
    "from string import punctuation\n",
    "from time import time\n",
    "import os\n",
    "import pandas as pd\n",
    "from IPython.display import Image\n",
    "import matplotlib.pyplot as plt\n",
    "\n",
    "# Stop Words\n",
    "with open('spanish4.0.txt','r') as f:\n",
    "    stop_words = f.read().splitlines()"
   ]
  },
  {
   "cell_type": "markdown",
   "metadata": {},
   "source": [
    "#### Estructura del algoritmo"
   ]
  },
  {
   "cell_type": "code",
   "execution_count": null,
   "metadata": {},
   "outputs": [],
   "source": [
    "# Tokenizar palabras\n",
    "def word_tokenizer(text):    \n",
    "    tokens = word_tokenize(text)   # tokenizes and stems the text\n",
    "    # non_words = list(punctuation)  # removes punctuation \n",
    "    # text = ''.join([c for c in text if c not in non_words]) ---> Data ingresada ya está libre de puntuación\n",
    "    stemmer = SnowballStemmer('spanish')\n",
    "    tokens = [stemmer.stem(t) for t in tokens if t not in stop_words] # Posibilidad de extender stopwords\n",
    "    return tokens\n",
    "\n",
    "# Número óptimo de clústers\n",
    "def elbow_method(sentences,figsize = (8,5),  namecol=None, nro_top=None, save = False,width_text = 0.83, height_text = 0.92):\n",
    "    tfidf_vectorizer = TfidfVectorizer(tokenizer=word_tokenizer,stop_words=stop_words,lowercase=True)\n",
    "    tfidf_matrix = tfidf_vectorizer.fit_transform(sentences)   #builds a tf-idf matrix for the sentences\n",
    "    import warnings\n",
    "    \n",
    "    try:\n",
    "        with warnings.catch_warnings():\n",
    "            warnings.simplefilter(\"ignore\")\n",
    "            if len(sentences)<= 30:\n",
    "                list_k = list(range(1,len(sentences)+1))\n",
    "                elbow = []\n",
    "                for i in list_k:\n",
    "                    kmeans = KMeans(n_clusters = i, init = 'k-means++', random_state = 101)\n",
    "                    kmeans.fit(tfidf_matrix)\n",
    "                    elbow.append(kmeans.inertia_)\n",
    "\n",
    "            elif len(sentences)> 30 and len(sentences)<= 70:\n",
    "                list_k = list(range(2,len(sentences)+1,2))\n",
    "                elbow = []\n",
    "                for i in list_k:\n",
    "                    kmeans = KMeans(n_clusters = i, init = 'k-means++', random_state = 101)\n",
    "                    kmeans.fit(tfidf_matrix)\n",
    "                    elbow.append(kmeans.inertia_)     \n",
    "\n",
    "            else:     \n",
    "                list_k = list(range(2,71,4))\n",
    "                elbow = []\n",
    "                for i in list_k:\n",
    "                    kmeans = KMeans(n_clusters = i, init = 'k-means++', random_state = 101)\n",
    "                    kmeans.fit(tfidf_matrix)\n",
    "                    elbow.append(kmeans.inertia_)\n",
    "\n",
    "            from kneed import KneeLocator\n",
    "            kn = KneeLocator(list_k, elbow, curve='convex', direction='decreasing')\n",
    "            print(f'Número óptimo de clústers: {kn.knee}')\n",
    "\n",
    "            plt.rcParams.update({'figure.figsize':figsize})\n",
    "            plt.xlabel('Número de clusters k')\n",
    "            plt.ylabel('Suma de distancias cuadradas')\n",
    "            plt.plot(list_k, elbow, 'bo-')\n",
    "            plt.title('Método del Elbow')\n",
    "            plt.text(width_text, height_text, f'k óptimo: {kn.knee}', transform=plt.gca().transAxes)\n",
    "            plt.vlines(kn.knee, plt.ylim()[0], plt.ylim()[1], linestyles='dashed')\n",
    "            if save :\n",
    "                plt.savefig(f'{namecol} {nro_top} - Método del elbow.jpg', dpi= 200, quality=95)\n",
    "            plt.show()\n",
    "\n",
    "    except ValueError:\n",
    "        print('You must enter at least two sentences')\n",
    "        \n",
    "# Algoritmo Kmeans\n",
    "def cluster_sentences(sentences, nb_of_clusters):\n",
    "\n",
    "    tfidf_vectorizer = TfidfVectorizer(tokenizer=word_tokenizer,stop_words=stop_words,lowercase=True)\n",
    "    tfidf_matrix = tfidf_vectorizer.fit_transform(sentences)   #builds a tf-idf matrix for the sentences\n",
    "    \n",
    "    kmeans = KMeans(n_clusters=nb_of_clusters,max_iter=300)\n",
    "    #kmeans.fit(tfidf_matrix)\n",
    "    X_dist=kmeans.fit_transform(tfidf_matrix)**2  #Se calcula la distancia del cluster y se multiplica al cuadrado\n",
    "    clusters = collections.defaultdict(list)\n",
    "    for i, label in enumerate(kmeans.labels_):\n",
    "        clusters[label].append(i)\n",
    "\n",
    "    Distancia=X_dist.sum(axis=1)  #Se calcula la distancia por columna de la matriz\n",
    "\n",
    "    distDict={}  #Se traspasa a un diccionario con las distancias por cluster\n",
    "    for key,val in clusters.items():\n",
    "        distDict[key]=Distancia[val]\n",
    "\n",
    "    representativos=[]   # Se guarda en una lista los valores mínimos de cada cluster (Menor distancia al centro mejor es el representativo)\n",
    "    \n",
    "    #Verificacion de los numeros de clusters\n",
    "    #Si se intenta obtener los representativos de un número mas grande de cluster que el permitido, se procesa el número de clusters\n",
    "    if len(distDict)<nb_of_clusters:\n",
    "        nb_of_clusters=len(distDict)\n",
    "        \n",
    "    #Verificacion de los números de clústers\n",
    "    for i in range(nb_of_clusters):\n",
    "        representativos.append(np.where(distDict[i]==min(distDict[i]))[0][0])\n",
    "\n",
    "    return dict(clusters),representativos\n",
    "\n",
    "# Plot cantidad de sentences por cluster\n",
    "def len_clusters(dic, n, namecol=None, nro_top=None, save = False, width = 0.6, color = \"royalblue\", figsize = (8,5)):\n",
    "    keys = list(range(0,n))\n",
    "    len_values = [len(dic[i]) for i in keys]\n",
    "    plt.rcParams.update({'figure.figsize': figsize})\n",
    "    plt.bar(keys,len_values , align='center', color = color, width = width)\n",
    "    plt.title('Cantidad de OT por clúster')\n",
    "    plt.xlabel('Clusters')\n",
    "    plt.ylabel('Orden de Trabajo (OT)')\n",
    "    plt.xticks(np.arange(min(keys), max(keys)+1, 1.0))\n",
    "    if save:\n",
    "        plt.savefig(f'{namecol} {nro_top} - Distribucion clusters .jpg', dpi= 200, quality=95)\n",
    "    plt.show()"
   ]
  },
  {
   "cell_type": "markdown",
   "metadata": {},
   "source": [
    "<div class=\"alert alert-success\" style=\"margin: 20px\">En todos los data frames ya está implementada la función word_cleaner() que permitió limpiar la base de datos. Para más información de esta función ir al segundo notebook.</div>\n"
   ]
  },
  {
   "cell_type": "code",
   "execution_count": null,
   "metadata": {},
   "outputs": [],
   "source": []
  },
  {
   "cell_type": "markdown",
   "metadata": {},
   "source": [
    "# II. RESULTADOS DE KMEANS - OBSERVACIONES"
   ]
  },
  {
   "cell_type": "code",
   "execution_count": null,
   "metadata": {},
   "outputs": [],
   "source": [
    "from IPython.display import Image\n",
    "Image(filename='Gráficos/Notebook 1 - Análsis BD original/2) Estacion.jpg', width=600, height=400)"
   ]
  },
  {
   "cell_type": "code",
   "execution_count": null,
   "metadata": {},
   "outputs": [],
   "source": [
    "# Importar Data Frame\n",
    "\n",
    "# Se trabaja con el data frame que contiene registros en formato de sentences ([sent1,sent2,...,sentn])\n",
    "df_estacion_sentences = pd.read_pickle('df_estacion_sentences.pkl')\n",
    "df_estacion_sentences.head()"
   ]
  },
  {
   "cell_type": "markdown",
   "metadata": {},
   "source": [
    "### 1. Tópico 0"
   ]
  },
  {
   "cell_type": "code",
   "execution_count": null,
   "metadata": {},
   "outputs": [],
   "source": [
    "# Cantidad de OT\n",
    "namecol = ''\n",
    "save = True\n",
    "sentences = df_estacion_sentences['Observación']['OPERACIONES Y SERVICIOS TERPEL LTDA.']\n",
    "len(sentences)"
   ]
  },
  {
   "cell_type": "code",
   "execution_count": null,
   "metadata": {},
   "outputs": [],
   "source": [
    "%%time\n",
    "# Identificando el número óptimo de clústers por medio del método del Elbow\n",
    "elbow_method(sentences,namecol=namecol, nro_top=1, save=save)"
   ]
  },
  {
   "cell_type": "code",
   "execution_count": null,
   "metadata": {},
   "outputs": [],
   "source": [
    "# Ejecutando el algoritmo Kmeans para el número óptimo de clústers \n",
    "print('\\033[1mCLUSTERS \\n\\033[0m')\n",
    "start_time = time()\n",
    "\n",
    "nclusters= 14\n",
    "clusters,representativos = cluster_sentences(sentences, nclusters)\n",
    "\n",
    "for cluster in range(nclusters):\n",
    "    print (f\"\\033[1mCluster {cluster} : {sentences[clusters[cluster][representativos[cluster]]]}\\033[0m\")\n",
    "    for i,sentence in enumerate(clusters[cluster]):\n",
    "        print (\"\\tsentence \",i,\": \",sentences[sentence])\n",
    "\n",
    "elapsed_time = time() - start_time\n",
    "print(\"\\033[1mElapsed time: %.10f seconds.\\033[0m\" % elapsed_time)"
   ]
  },
  {
   "cell_type": "code",
   "execution_count": null,
   "metadata": {},
   "outputs": [],
   "source": [
    "# Clusters representativos (con n = 14)\n",
    "for cluster in range(nclusters):\n",
    "    print (\"\\033[1mCluster \",cluster,\":\\033[0m\",sentences[clusters[cluster][representativos[cluster]]])"
   ]
  },
  {
   "cell_type": "code",
   "execution_count": null,
   "metadata": {
    "scrolled": true
   },
   "outputs": [],
   "source": [
    "# Plot - Cantidad de sentences por cluster\n",
    "len_clusters(dic=clusters,n = nclusters, namecol = namecol , nro_top=1, width = 0.6, save = save) "
   ]
  },
  {
   "cell_type": "markdown",
   "metadata": {},
   "source": [
    "### 2. Tópico 1"
   ]
  },
  {
   "cell_type": "code",
   "execution_count": null,
   "metadata": {},
   "outputs": [],
   "source": [
    "# Cantidad de OT\n",
    "sentences = df_estacion_sentences['Observación']['OPERACIONES Y SERVICIO TERPEL LTDA.']\n",
    "len(sentences)"
   ]
  },
  {
   "cell_type": "code",
   "execution_count": null,
   "metadata": {
    "scrolled": false
   },
   "outputs": [],
   "source": [
    "%%time\n",
    "# Identificando el número óptimo de clústers por medio del método del Elbow\n",
    "elbow_method(sentences,namecol=namecol, nro_top=2, save = save)"
   ]
  },
  {
   "cell_type": "code",
   "execution_count": null,
   "metadata": {},
   "outputs": [],
   "source": [
    "# Ejecutando el algoritmo Kmeans para el número óptimo de clústers \n",
    "print('\\033[1mCLUSTERS \\n\\033[0m')\n",
    "start_time = time()\n",
    "\n",
    "nclusters= 26\n",
    "clusters,representativos = cluster_sentences(sentences, nclusters)\n",
    "\n",
    "for cluster in range(nclusters):\n",
    "    print (f\"\\033[1mCluster {cluster} : {sentences[clusters[cluster][representativos[cluster]]]}\\033[0m\")\n",
    "    for i,sentence in enumerate(clusters[cluster]):\n",
    "        print (\"\\tsentence \",i,\": \",sentences[sentence])\n",
    "\n",
    "elapsed_time = time() - start_time\n",
    "print(\"\\033[1mElapsed time: %.10f seconds.\\033[0m\" % elapsed_time)"
   ]
  },
  {
   "cell_type": "code",
   "execution_count": null,
   "metadata": {},
   "outputs": [],
   "source": [
    "# Clusters representativos (con n = 26)\n",
    "for cluster in range(nclusters):\n",
    "    print (\"\\033[1mCluster \",cluster,\":\\033[0m\",sentences[clusters[cluster][representativos[cluster]]])"
   ]
  },
  {
   "cell_type": "code",
   "execution_count": null,
   "metadata": {},
   "outputs": [],
   "source": [
    "# Plot - Cantidad de sentences por cluster\n",
    "len_clusters(dic=clusters,n = nclusters, namecol = namecol , nro_top=2, width = 0.6, save=save)"
   ]
  },
  {
   "cell_type": "markdown",
   "metadata": {},
   "source": [
    "### 3. Tópico 2"
   ]
  },
  {
   "cell_type": "code",
   "execution_count": null,
   "metadata": {},
   "outputs": [],
   "source": [
    "# Cantidad de OT\n",
    "sentences = df_estacion_sentences['Observación']['Inversiones Enex']\n",
    "len(sentences)"
   ]
  },
  {
   "cell_type": "code",
   "execution_count": null,
   "metadata": {},
   "outputs": [],
   "source": [
    "%%time\n",
    "# Identificando el número óptimo de clústers por medio del método del Elbow\n",
    "elbow_method(sentences,namecol=namecol, nro_top=3, save=save)"
   ]
  },
  {
   "cell_type": "code",
   "execution_count": null,
   "metadata": {},
   "outputs": [],
   "source": [
    "# Ejecutando el algoritmo Kmeans para el número óptimo de clústers \n",
    "print('\\033[1mCLUSTERS \\n\\033[0m')\n",
    "start_time = time()\n",
    "\n",
    "nclusters= 22\n",
    "clusters,representativos = cluster_sentences(sentences, nclusters)\n",
    "\n",
    "for cluster in range(nclusters):\n",
    "    print (f\"\\033[1mCluster {cluster} : {sentences[clusters[cluster][representativos[cluster]]]}\\033[0m\")\n",
    "    for i,sentence in enumerate(clusters[cluster]):\n",
    "        print (\"\\tsentence \",i,\": \",sentences[sentence])\n",
    "\n",
    "elapsed_time = time() - start_time\n",
    "print(\"\\033[1mElapsed time: %.10f seconds.\\033[0m\" % elapsed_time)"
   ]
  },
  {
   "cell_type": "code",
   "execution_count": null,
   "metadata": {},
   "outputs": [],
   "source": [
    "# Clusters representativos (con n = 22)\n",
    "for cluster in range(nclusters):\n",
    "    print (\"\\033[1mCluster \",cluster,\":\\033[0m\",sentences[clusters[cluster][representativos[cluster]]])"
   ]
  },
  {
   "cell_type": "code",
   "execution_count": null,
   "metadata": {},
   "outputs": [],
   "source": [
    "# Plot - Cantidad de sentences por cluster\n",
    "len_clusters(dic=clusters,n = nclusters, namecol = namecol , nro_top=3, width = 0.6, save=save)"
   ]
  },
  {
   "cell_type": "markdown",
   "metadata": {},
   "source": [
    "### 4. Tópico 3"
   ]
  },
  {
   "cell_type": "code",
   "execution_count": null,
   "metadata": {},
   "outputs": [],
   "source": [
    "# Cantidad de OT\n",
    "sentences = df_estacion_sentences['Observación']['SOCIEDAD DE COMBUSTIBLES AUSTRAL LTDA.']\n",
    "len(sentences)"
   ]
  },
  {
   "cell_type": "code",
   "execution_count": null,
   "metadata": {},
   "outputs": [],
   "source": [
    "%%time\n",
    "# Identificando el número óptimo de clústers por medio del método del Elbow\n",
    "elbow_method(sentences,namecol=namecol, nro_top=4, save=save)"
   ]
  },
  {
   "cell_type": "code",
   "execution_count": null,
   "metadata": {},
   "outputs": [],
   "source": [
    "# Ejecutando el algoritmo Kmeans para el número óptimo de clústers \n",
    "print('\\033[1mCLUSTERS \\n\\033[0m')\n",
    "start_time = time()\n",
    "\n",
    "nclusters= 30\n",
    "clusters,representativos = cluster_sentences(sentences, nclusters)\n",
    "\n",
    "for cluster in range(nclusters):\n",
    "    print (f\"\\033[1mCluster {cluster} : {sentences[clusters[cluster][representativos[cluster]]]}\\033[0m\")\n",
    "    for i,sentence in enumerate(clusters[cluster]):\n",
    "        print (\"\\tsentence \",i,\": \",sentences[sentence])\n",
    "\n",
    "elapsed_time = time() - start_time\n",
    "print(\"\\033[1mElapsed time: %.10f seconds.\\033[0m\" % elapsed_time)"
   ]
  },
  {
   "cell_type": "code",
   "execution_count": null,
   "metadata": {},
   "outputs": [],
   "source": [
    "# Clusters representativos (con n = 30)\n",
    "for cluster in range(nclusters):\n",
    "    print (\"\\033[1mCluster \",cluster,\":\\033[0m\",sentences[clusters[cluster][representativos[cluster]]])"
   ]
  },
  {
   "cell_type": "code",
   "execution_count": null,
   "metadata": {},
   "outputs": [],
   "source": [
    "# Plot - Cantidad de sentences por cluster\n",
    "len_clusters(dic=clusters,n = nclusters, namecol = namecol , nro_top=4, width = 0.6, save=save)"
   ]
  },
  {
   "cell_type": "markdown",
   "metadata": {},
   "source": [
    "### 5. Tópico 4"
   ]
  },
  {
   "cell_type": "code",
   "execution_count": null,
   "metadata": {},
   "outputs": [],
   "source": [
    "# Cantidad de OT\n",
    "sentences = df_estacion_sentences['Observación']['CL - Buses Vule S.A.']\n",
    "len(sentences)"
   ]
  },
  {
   "cell_type": "code",
   "execution_count": null,
   "metadata": {},
   "outputs": [],
   "source": [
    "%%time\n",
    "# Identificando el número óptimo de clústers por medio del método del Elbow\n",
    "elbow_method(sentences,namecol=namecol, nro_top=5, save=save)"
   ]
  },
  {
   "cell_type": "code",
   "execution_count": null,
   "metadata": {},
   "outputs": [],
   "source": [
    "# Ejecutando el algoritmo Kmeans para el número óptimo de clústers \n",
    "print('\\033[1mCLUSTERS \\n\\033[0m')\n",
    "start_time = time()\n",
    "\n",
    "nclusters= 18\n",
    "clusters,representativos = cluster_sentences(sentences, nclusters)\n",
    "\n",
    "for cluster in range(nclusters):\n",
    "    print (f\"\\033[1mCluster {cluster} : {sentences[clusters[cluster][representativos[cluster]]]}\\033[0m\")\n",
    "    for i,sentence in enumerate(clusters[cluster]):\n",
    "        print (\"\\tsentence \",i,\": \",sentences[sentence])\n",
    "\n",
    "elapsed_time = time() - start_time\n",
    "print(\"\\033[1mElapsed time: %.10f seconds.\\033[0m\" % elapsed_time)"
   ]
  },
  {
   "cell_type": "code",
   "execution_count": null,
   "metadata": {},
   "outputs": [],
   "source": [
    "# Clusters representativos (con n = 18)\n",
    "for cluster in range(nclusters):\n",
    "    print (\"\\033[1mCluster \",cluster,\":\\033[0m\",sentences[clusters[cluster][representativos[cluster]]])"
   ]
  },
  {
   "cell_type": "code",
   "execution_count": null,
   "metadata": {},
   "outputs": [],
   "source": [
    "# Plot - Cantidad de sentences por cluster\n",
    "len_clusters(dic=clusters,n = nclusters, namecol = namecol, nro_top=5, width = 0.6, save=save)"
   ]
  },
  {
   "cell_type": "markdown",
   "metadata": {},
   "source": [
    "### 6. Tópico 5"
   ]
  },
  {
   "cell_type": "code",
   "execution_count": null,
   "metadata": {},
   "outputs": [],
   "source": [
    "# Cantidad de OT\n",
    "sentences = df_estacion_sentences['Observación']['Petrobras Chile Red Ltda. Salida Norte']\n",
    "len(sentences)"
   ]
  },
  {
   "cell_type": "code",
   "execution_count": null,
   "metadata": {},
   "outputs": [],
   "source": [
    "%%time\n",
    "# Identificando el número óptimo de clústers por medio del método del Elbow\n",
    "elbow_method(sentences,namecol=namecol, nro_top=6, save=save)"
   ]
  },
  {
   "cell_type": "code",
   "execution_count": null,
   "metadata": {},
   "outputs": [],
   "source": [
    "# Ejecutando el algoritmo Kmeans para el número óptimo de clústers \n",
    "print('\\033[1mCLUSTERS \\n\\033[0m')\n",
    "start_time = time()\n",
    "\n",
    "nclusters= 22\n",
    "clusters,representativos = cluster_sentences(sentences, nclusters)\n",
    "\n",
    "for cluster in range(nclusters):\n",
    "    print (f\"\\033[1mCluster {cluster} : {sentences[clusters[cluster][representativos[cluster]]]}\\033[0m\")\n",
    "    for i,sentence in enumerate(clusters[cluster]):\n",
    "        print (\"\\tsentence \",i,\": \",sentences[sentence])\n",
    "\n",
    "elapsed_time = time() - start_time\n",
    "print(\"\\033[1mElapsed time: %.10f seconds.\\033[0m\" % elapsed_time)"
   ]
  },
  {
   "cell_type": "code",
   "execution_count": null,
   "metadata": {},
   "outputs": [],
   "source": [
    "# Clusters representativos (con n = 22)\n",
    "for cluster in range(nclusters):\n",
    "    print (\"\\033[1mCluster \",cluster,\":\\033[0m\",sentences[clusters[cluster][representativos[cluster]]])"
   ]
  },
  {
   "cell_type": "code",
   "execution_count": null,
   "metadata": {},
   "outputs": [],
   "source": [
    "# Plot - Cantidad de sentences por cluster\n",
    "len_clusters(dic=clusters,n = nclusters, namecol = namecol , nro_top=6, width = 0.6, save =save)"
   ]
  },
  {
   "cell_type": "markdown",
   "metadata": {},
   "source": [
    "### 7. Tópico 6"
   ]
  },
  {
   "cell_type": "code",
   "execution_count": null,
   "metadata": {},
   "outputs": [],
   "source": [
    "# Cantidad de OT\n",
    "sentences = df_estacion_sentences['Observación']['INVERSIONES ENEX S.A.']\n",
    "len(sentences)"
   ]
  },
  {
   "cell_type": "code",
   "execution_count": null,
   "metadata": {},
   "outputs": [],
   "source": [
    "%%time\n",
    "# Identificando el número óptimo de clústers por medio del método del Elbow\n",
    "elbow_method(sentences,namecol=namecol, nro_top=7, save = save)"
   ]
  },
  {
   "cell_type": "code",
   "execution_count": null,
   "metadata": {},
   "outputs": [],
   "source": [
    "# Ejecutando el algoritmo Kmeans para el número óptimo de clústers \n",
    "print('\\033[1mCLUSTERS \\n\\033[0m')\n",
    "start_time = time()\n",
    "\n",
    "nclusters= 22\n",
    "clusters,representativos = cluster_sentences(sentences, nclusters)\n",
    "\n",
    "for cluster in range(nclusters):\n",
    "    print (f\"\\033[1mCluster {cluster} : {sentences[clusters[cluster][representativos[cluster]]]}\\033[0m\")\n",
    "    for i,sentence in enumerate(clusters[cluster]):\n",
    "        print (\"\\tsentence \",i,\": \",sentences[sentence])\n",
    "\n",
    "elapsed_time = time() - start_time\n",
    "print(\"\\033[1mElapsed time: %.10f seconds.\\033[0m\" % elapsed_time)"
   ]
  },
  {
   "cell_type": "code",
   "execution_count": null,
   "metadata": {},
   "outputs": [],
   "source": [
    "# Clusters representativos (con n = 22)\n",
    "for cluster in range(nclusters):\n",
    "    print (\"\\033[1mCluster \",cluster,\":\\033[0m\",sentences[clusters[cluster][representativos[cluster]]])"
   ]
  },
  {
   "cell_type": "code",
   "execution_count": null,
   "metadata": {},
   "outputs": [],
   "source": [
    "# Plot - Cantidad de sentences por cluster\n",
    "len_clusters(dic=clusters,n = nclusters, namecol = namecol , nro_top=7, width = 0.6, save = save)"
   ]
  },
  {
   "cell_type": "markdown",
   "metadata": {},
   "source": [
    "### 8. Tópico 7"
   ]
  },
  {
   "cell_type": "code",
   "execution_count": null,
   "metadata": {},
   "outputs": [],
   "source": [
    "# Cantidad de OT\n",
    "sentences = df_estacion_sentences['Observación']['Petrobras Chile Red Ltda- Enea']\n",
    "len(sentences)"
   ]
  },
  {
   "cell_type": "code",
   "execution_count": null,
   "metadata": {},
   "outputs": [],
   "source": [
    "%%time\n",
    "# Identificando el número óptimo de clústers por medio del método del Elbow\n",
    "elbow_method(sentences,namecol=namecol, nro_top=8, save = save)"
   ]
  },
  {
   "cell_type": "code",
   "execution_count": null,
   "metadata": {},
   "outputs": [],
   "source": [
    "# Ejecutando el algoritmo Kmeans para el número óptimo de clústers \n",
    "print('\\033[1mCLUSTERS \\n\\033[0m')\n",
    "start_time = time()\n",
    "\n",
    "nclusters= 14\n",
    "clusters,representativos = cluster_sentences(sentences, nclusters)\n",
    "\n",
    "for cluster in range(nclusters):\n",
    "    print (f\"\\033[1mCluster {cluster} : {sentences[clusters[cluster][representativos[cluster]]]}\\033[0m\")\n",
    "    for i,sentence in enumerate(clusters[cluster]):\n",
    "        print (\"\\tsentence \",i,\": \",sentences[sentence])\n",
    "\n",
    "elapsed_time = time() - start_time\n",
    "print(\"\\033[1mElapsed time: %.10f seconds.\\033[0m\" % elapsed_time)"
   ]
  },
  {
   "cell_type": "code",
   "execution_count": null,
   "metadata": {},
   "outputs": [],
   "source": [
    "# Clusters representativos (con n = 14)\n",
    "for cluster in range(nclusters):\n",
    "    print (\"\\033[1mCluster \",cluster,\":\\033[0m\",sentences[clusters[cluster][representativos[cluster]]])"
   ]
  },
  {
   "cell_type": "code",
   "execution_count": null,
   "metadata": {},
   "outputs": [],
   "source": [
    "# Plot - Cantidad de sentences por cluster\n",
    "len_clusters(dic=clusters,n = nclusters, namecol = namecol , nro_top=8, width = 0.6, save = save)"
   ]
  },
  {
   "cell_type": "markdown",
   "metadata": {},
   "source": [
    "### 9. Tópico 8"
   ]
  },
  {
   "cell_type": "code",
   "execution_count": null,
   "metadata": {},
   "outputs": [],
   "source": [
    "# Cantidad de OT\n",
    "sentences = df_estacion_sentences['Observación']['SOCIEDAD COMERCIAL ANTUCO LTDA.']\n",
    "len(sentences)"
   ]
  },
  {
   "cell_type": "code",
   "execution_count": null,
   "metadata": {},
   "outputs": [],
   "source": [
    "%%time\n",
    "# Identificando el número óptimo de clústers por medio del método del Elbow\n",
    "elbow_method(sentences,namecol=namecol, nro_top=9, save = save)"
   ]
  },
  {
   "cell_type": "code",
   "execution_count": null,
   "metadata": {},
   "outputs": [],
   "source": [
    "# Ejecutando el algoritmo Kmeans para el número óptimo de clústers \n",
    "print('\\033[1mCLUSTERS \\n\\033[0m')\n",
    "start_time = time()\n",
    "\n",
    "nclusters= 26\n",
    "clusters,representativos = cluster_sentences(sentences, nclusters)\n",
    "\n",
    "for cluster in range(nclusters):\n",
    "    print (f\"\\033[1mCluster {cluster} : {sentences[clusters[cluster][representativos[cluster]]]}\\033[0m\")\n",
    "    for i,sentence in enumerate(clusters[cluster]):\n",
    "        print (\"\\tsentence \",i,\": \",sentences[sentence])\n",
    "\n",
    "elapsed_time = time() - start_time\n",
    "print(\"\\033[1mElapsed time: %.10f seconds.\\033[0m\" % elapsed_time)"
   ]
  },
  {
   "cell_type": "code",
   "execution_count": null,
   "metadata": {},
   "outputs": [],
   "source": [
    "# Clusters representativos (con n = 26)\n",
    "for cluster in range(nclusters):\n",
    "    print (\"\\033[1mCluster \",cluster,\":\\033[0m\",sentences[clusters[cluster][representativos[cluster]]])"
   ]
  },
  {
   "cell_type": "code",
   "execution_count": null,
   "metadata": {},
   "outputs": [],
   "source": [
    "# Plot - Cantidad de sentences por cluster\n",
    "len_clusters(dic=clusters,n = nclusters, namecol = namecol , nro_top=9, width = 0.6, save = save)"
   ]
  },
  {
   "cell_type": "markdown",
   "metadata": {},
   "source": [
    "### 10. Tópico 9"
   ]
  },
  {
   "cell_type": "code",
   "execution_count": null,
   "metadata": {},
   "outputs": [],
   "source": [
    "# Cantidad de OT\n",
    "sentences = df_estacion_sentences['Observación']['Comercial Albano Ltda.']\n",
    "len(sentences)"
   ]
  },
  {
   "cell_type": "code",
   "execution_count": null,
   "metadata": {},
   "outputs": [],
   "source": [
    "%%time\n",
    "# Identificando el número óptimo de clústers por medio del método del Elbow\n",
    "elbow_method(sentences,namecol=namecol, nro_top=10, save = save)"
   ]
  },
  {
   "cell_type": "code",
   "execution_count": null,
   "metadata": {},
   "outputs": [],
   "source": [
    "# Ejecutando el algoritmo Kmeans para el número óptimo de clústers \n",
    "print('\\033[1mCLUSTERS \\n\\033[0m')\n",
    "start_time = time()\n",
    "\n",
    "nclusters= 22\n",
    "clusters,representativos = cluster_sentences(sentences, nclusters)\n",
    "\n",
    "for cluster in range(nclusters):\n",
    "    print (f\"\\033[1mCluster {cluster} : {sentences[clusters[cluster][representativos[cluster]]]}\\033[0m\")\n",
    "    for i,sentence in enumerate(clusters[cluster]):\n",
    "        print (\"\\tsentence \",i,\": \",sentences[sentence])\n",
    "\n",
    "elapsed_time = time() - start_time\n",
    "print(\"\\033[1mElapsed time: %.10f seconds.\\033[0m\" % elapsed_time)"
   ]
  },
  {
   "cell_type": "code",
   "execution_count": null,
   "metadata": {},
   "outputs": [],
   "source": [
    "# Clusters representativos (con n = 22)\n",
    "for cluster in range(nclusters):\n",
    "    print (\"\\033[1mCluster \",cluster,\":\\033[0m\",sentences[clusters[cluster][representativos[cluster]]])"
   ]
  },
  {
   "cell_type": "code",
   "execution_count": null,
   "metadata": {},
   "outputs": [],
   "source": [
    "# Plot - Cantidad de sentences por cluster\n",
    "len_clusters(dic=clusters,n = nclusters, namecol = namecol , nro_top=10, width = 0.6, save = save)"
   ]
  },
  {
   "cell_type": "markdown",
   "metadata": {},
   "source": [
    "### 11. Tópico 10"
   ]
  },
  {
   "cell_type": "code",
   "execution_count": null,
   "metadata": {},
   "outputs": [],
   "source": []
  },
  {
   "cell_type": "markdown",
   "metadata": {},
   "source": [
    "### 12. Tópico 11"
   ]
  },
  {
   "cell_type": "code",
   "execution_count": null,
   "metadata": {},
   "outputs": [],
   "source": []
  },
  {
   "cell_type": "markdown",
   "metadata": {},
   "source": [
    "### 13. Tópico 12"
   ]
  },
  {
   "cell_type": "code",
   "execution_count": null,
   "metadata": {},
   "outputs": [],
   "source": []
  },
  {
   "cell_type": "markdown",
   "metadata": {},
   "source": [
    "### 14. Tópico 13"
   ]
  },
  {
   "cell_type": "code",
   "execution_count": null,
   "metadata": {},
   "outputs": [],
   "source": []
  },
  {
   "cell_type": "markdown",
   "metadata": {},
   "source": [
    "### 15. Tópico 14"
   ]
  },
  {
   "cell_type": "code",
   "execution_count": null,
   "metadata": {},
   "outputs": [],
   "source": []
  },
  {
   "cell_type": "markdown",
   "metadata": {},
   "source": [
    "### 16. Tópico 15"
   ]
  },
  {
   "cell_type": "code",
   "execution_count": null,
   "metadata": {},
   "outputs": [],
   "source": []
  },
  {
   "cell_type": "markdown",
   "metadata": {},
   "source": [
    "### 17. Tópico 16"
   ]
  },
  {
   "cell_type": "code",
   "execution_count": null,
   "metadata": {},
   "outputs": [],
   "source": []
  },
  {
   "cell_type": "markdown",
   "metadata": {},
   "source": [
    "### 18. Tópico 17"
   ]
  },
  {
   "cell_type": "code",
   "execution_count": null,
   "metadata": {},
   "outputs": [],
   "source": []
  },
  {
   "cell_type": "markdown",
   "metadata": {},
   "source": [
    "### 19. Tópico 18"
   ]
  },
  {
   "cell_type": "code",
   "execution_count": null,
   "metadata": {},
   "outputs": [],
   "source": []
  },
  {
   "cell_type": "markdown",
   "metadata": {},
   "source": [
    "### 20. Tópico 19"
   ]
  },
  {
   "cell_type": "code",
   "execution_count": null,
   "metadata": {},
   "outputs": [],
   "source": []
  },
  {
   "cell_type": "markdown",
   "metadata": {},
   "source": [
    "# III. RESULTADOS DE KMEANS - REQUERIMIENTOS"
   ]
  },
  {
   "cell_type": "markdown",
   "metadata": {},
   "source": [
    "### 1. Tópico 0"
   ]
  },
  {
   "cell_type": "code",
   "execution_count": null,
   "metadata": {},
   "outputs": [],
   "source": [
    "# Cantidad de OT\n",
    "namecol = 'REQ Estacion'\n",
    "save = True\n",
    "sentences = df_estacion_sentences['Requerimiento']['OPERACIONES Y SERVICIOS TERPEL LTDA.']\n",
    "len(sentences)"
   ]
  },
  {
   "cell_type": "code",
   "execution_count": null,
   "metadata": {},
   "outputs": [],
   "source": [
    "%%time\n",
    "# Identificando el número óptimo de clústers por medio del método del Elbow\n",
    "elbow_method(sentences,namecol=namecol, nro_top=1, save = save)"
   ]
  },
  {
   "cell_type": "code",
   "execution_count": null,
   "metadata": {},
   "outputs": [],
   "source": [
    "# Ejecutando el algoritmo Kmeans para el número óptimo de clústers \n",
    "print('\\033[1mCLUSTERS \\n\\033[0m')\n",
    "start_time = time()\n",
    "\n",
    "sentences = sentences\n",
    "nclusters= 22\n",
    "clusters,representativos = cluster_sentences(sentences, nclusters)\n",
    "\n",
    "for cluster in range(nclusters):\n",
    "    print (f\"\\033[1mCluster {cluster} : {sentences[clusters[cluster][representativos[cluster]]]}\\033[0m\")\n",
    "    for i,sentence in enumerate(clusters[cluster]):\n",
    "        print (\"\\tsentence \",i,\": \",sentences[sentence])\n",
    "\n",
    "elapsed_time = time() - start_time\n",
    "print(\"\\033[1mElapsed time: %.10f seconds.\\033[0m\" % elapsed_time)"
   ]
  },
  {
   "cell_type": "code",
   "execution_count": null,
   "metadata": {},
   "outputs": [],
   "source": [
    "# Clusters representativos (con n = 22)\n",
    "for cluster in range(nclusters):\n",
    "    print (\"\\033[1mCluster \",cluster,\":\\033[0m\",sentences[clusters[cluster][representativos[cluster]]])"
   ]
  },
  {
   "cell_type": "code",
   "execution_count": null,
   "metadata": {},
   "outputs": [],
   "source": [
    "# Plot - Cantidad de sentences por cluster\n",
    "len_clusters(dic=clusters,n = nclusters, namecol = namecol , nro_top=1, width = 0.6, save = save) "
   ]
  },
  {
   "cell_type": "markdown",
   "metadata": {},
   "source": [
    "### 2. Tópico 1"
   ]
  },
  {
   "cell_type": "code",
   "execution_count": null,
   "metadata": {},
   "outputs": [],
   "source": [
    "# Cantidad de OT\n",
    "sentences = df_estacion_sentences['Requerimiento']['OPERACIONES Y SERVICIO TERPEL LTDA.']\n",
    "len(sentences)"
   ]
  },
  {
   "cell_type": "code",
   "execution_count": null,
   "metadata": {},
   "outputs": [],
   "source": [
    "%%time\n",
    "# Identificando el número óptimo de clústers por medio del método del Elbow\n",
    "elbow_method(sentences,namecol=namecol, nro_top=2, save = save)"
   ]
  },
  {
   "cell_type": "code",
   "execution_count": null,
   "metadata": {},
   "outputs": [],
   "source": [
    "# Ejecutando el algoritmo Kmeans para el número óptimo de clústers \n",
    "print('\\033[1mCLUSTERS \\n\\033[0m')\n",
    "start_time = time()\n",
    "\n",
    "sentences = sentences\n",
    "nclusters= 14\n",
    "clusters,representativos = cluster_sentences(sentences, nclusters)\n",
    "\n",
    "for cluster in range(nclusters):\n",
    "    print (f\"\\033[1mCluster {cluster} : {sentences[clusters[cluster][representativos[cluster]]]}\\033[0m\")\n",
    "    for i,sentence in enumerate(clusters[cluster]):\n",
    "        print (\"\\tsentence \",i,\": \",sentences[sentence])\n",
    "\n",
    "elapsed_time = time() - start_time\n",
    "print(\"\\033[1mElapsed time: %.10f seconds.\\033[0m\" % elapsed_time)"
   ]
  },
  {
   "cell_type": "code",
   "execution_count": null,
   "metadata": {},
   "outputs": [],
   "source": [
    "# Clusters representativos (con n = 14)\n",
    "for cluster in range(nclusters):\n",
    "    print (\"\\033[1mCluster \",cluster,\":\\033[0m\",sentences[clusters[cluster][representativos[cluster]]])"
   ]
  },
  {
   "cell_type": "code",
   "execution_count": null,
   "metadata": {},
   "outputs": [],
   "source": [
    "# Plot - Cantidad de sentences por cluster\n",
    "len_clusters(dic=clusters,n = nclusters, namecol = namecol , nro_top=2, width = 0.6, save = save)"
   ]
  },
  {
   "cell_type": "markdown",
   "metadata": {},
   "source": [
    "### 3. Tópico 2"
   ]
  },
  {
   "cell_type": "code",
   "execution_count": null,
   "metadata": {},
   "outputs": [],
   "source": [
    "# Cantidad de OT\n",
    "sentences = df_estacion_sentences['Requerimiento']['Inversiones Enex']\n",
    "len(sentences)"
   ]
  },
  {
   "cell_type": "code",
   "execution_count": null,
   "metadata": {},
   "outputs": [],
   "source": [
    "%%time\n",
    "# Identificando el número óptimo de clústers por medio del método del Elbow\n",
    "elbow_method(sentences,namecol=namecol, nro_top=3, save = save)"
   ]
  },
  {
   "cell_type": "code",
   "execution_count": null,
   "metadata": {},
   "outputs": [],
   "source": [
    "# Ejecutando el algoritmo Kmeans para el número óptimo de clústers \n",
    "print('\\033[1mCLUSTERS \\n\\033[0m')\n",
    "start_time = time()\n",
    "\n",
    "sentences = sentences\n",
    "nclusters= 30\n",
    "clusters,representativos = cluster_sentences(sentences, nclusters)\n",
    "\n",
    "for cluster in range(nclusters):\n",
    "    print (f\"\\033[1mCluster {cluster} : {sentences[clusters[cluster][representativos[cluster]]]}\\033[0m\")\n",
    "    for i,sentence in enumerate(clusters[cluster]):\n",
    "        print (\"\\tsentence \",i,\": \",sentences[sentence])\n",
    "\n",
    "elapsed_time = time() - start_time\n",
    "print(\"\\033[1mElapsed time: %.10f seconds.\\033[0m\" % elapsed_time)"
   ]
  },
  {
   "cell_type": "code",
   "execution_count": null,
   "metadata": {},
   "outputs": [],
   "source": [
    "# Clusters representativos (con n = 30)\n",
    "for cluster in range(nclusters):\n",
    "    print (\"\\033[1mCluster \",cluster,\":\\033[0m\",sentences[clusters[cluster][representativos[cluster]]])"
   ]
  },
  {
   "cell_type": "code",
   "execution_count": null,
   "metadata": {},
   "outputs": [],
   "source": [
    "# Plot - Cantidad de sentences por cluster\n",
    "len_clusters(dic=clusters,n = nclusters, namecol = namecol , nro_top=3, width = 0.6, save = save)"
   ]
  },
  {
   "cell_type": "markdown",
   "metadata": {},
   "source": [
    "### 4. Tópico 3"
   ]
  },
  {
   "cell_type": "code",
   "execution_count": null,
   "metadata": {},
   "outputs": [],
   "source": [
    "# Cantidad de OT\n",
    "sentences = df_estacion_sentences['Requerimiento']['SOCIEDAD DE COMBUSTIBLES AUSTRAL LTDA.']\n",
    "len(sentences)"
   ]
  },
  {
   "cell_type": "code",
   "execution_count": null,
   "metadata": {},
   "outputs": [],
   "source": [
    "%%time\n",
    "# Identificando el número óptimo de clústers por medio del método del Elbow\n",
    "elbow_method(sentences,namecol=namecol, nro_top=4, save = save)"
   ]
  },
  {
   "cell_type": "code",
   "execution_count": null,
   "metadata": {},
   "outputs": [],
   "source": [
    "# Ejecutando el algoritmo Kmeans para el número óptimo de clústers \n",
    "print('\\033[1mCLUSTERS \\n\\033[0m')\n",
    "start_time = time()\n",
    "\n",
    "sentences = sentences\n",
    "nclusters= 26\n",
    "clusters,representativos = cluster_sentences(sentences, nclusters)\n",
    "\n",
    "for cluster in range(nclusters):\n",
    "    print (f\"\\033[1mCluster {cluster} : {sentences[clusters[cluster][representativos[cluster]]]}\\033[0m\")\n",
    "    for i,sentence in enumerate(clusters[cluster]):\n",
    "        print (\"\\tsentence \",i,\": \",sentences[sentence])\n",
    "\n",
    "elapsed_time = time() - start_time\n",
    "print(\"\\033[1mElapsed time: %.10f seconds.\\033[0m\" % elapsed_time)"
   ]
  },
  {
   "cell_type": "code",
   "execution_count": null,
   "metadata": {},
   "outputs": [],
   "source": [
    "# Clusters representativos (con n = 26)\n",
    "for cluster in range(nclusters):\n",
    "    print (\"\\033[1mCluster \",cluster,\":\\033[0m\",sentences[clusters[cluster][representativos[cluster]]])"
   ]
  },
  {
   "cell_type": "code",
   "execution_count": null,
   "metadata": {},
   "outputs": [],
   "source": [
    "# Plot - Cantidad de sentences por cluster\n",
    "len_clusters(dic=clusters,n = nclusters, namecol = namecol , nro_top=4, width = 0.6, save = save) "
   ]
  },
  {
   "cell_type": "markdown",
   "metadata": {},
   "source": [
    "### 5. Tópico 4"
   ]
  },
  {
   "cell_type": "code",
   "execution_count": null,
   "metadata": {},
   "outputs": [],
   "source": [
    "# Cantidad de OT\n",
    "sentences = df_estacion_sentences['Requerimiento']['CL - Buses Vule S.A.']\n",
    "len(sentences)"
   ]
  },
  {
   "cell_type": "code",
   "execution_count": null,
   "metadata": {},
   "outputs": [],
   "source": [
    "%%time\n",
    "# Identificando el número óptimo de clústers por medio del método del Elbow\n",
    "elbow_method(sentences,namecol=namecol, nro_top=5, save = save)"
   ]
  },
  {
   "cell_type": "code",
   "execution_count": null,
   "metadata": {},
   "outputs": [],
   "source": [
    "# Ejecutando el algoritmo Kmeans para el número óptimo de clústers \n",
    "print('\\033[1mCLUSTERS \\n\\033[0m')\n",
    "start_time = time()\n",
    "\n",
    "sentences = sentences\n",
    "nclusters= 22\n",
    "clusters,representativos = cluster_sentences(sentences, nclusters)\n",
    "\n",
    "for cluster in range(nclusters):\n",
    "    print (f\"\\033[1mCluster {cluster} : {sentences[clusters[cluster][representativos[cluster]]]}\\033[0m\")\n",
    "    for i,sentence in enumerate(clusters[cluster]):\n",
    "        print (\"\\tsentence \",i,\": \",sentences[sentence])\n",
    "\n",
    "elapsed_time = time() - start_time\n",
    "print(\"\\033[1mElapsed time: %.10f seconds.\\033[0m\" % elapsed_time)"
   ]
  },
  {
   "cell_type": "code",
   "execution_count": null,
   "metadata": {},
   "outputs": [],
   "source": [
    "# Clusters representativos (con n = 22)\n",
    "for cluster in range(nclusters):\n",
    "    print (\"\\033[1mCluster \",cluster,\":\\033[0m\",sentences[clusters[cluster][representativos[cluster]]])"
   ]
  },
  {
   "cell_type": "code",
   "execution_count": null,
   "metadata": {},
   "outputs": [],
   "source": [
    "# Plot - Cantidad de sentences por cluster\n",
    "len_clusters(dic=clusters,n = nclusters, namecol = namecol , nro_top=5, width = 0.6, save = save) "
   ]
  },
  {
   "cell_type": "markdown",
   "metadata": {},
   "source": [
    "### 6. Tópico 5"
   ]
  },
  {
   "cell_type": "code",
   "execution_count": null,
   "metadata": {},
   "outputs": [],
   "source": [
    "# Cantidad de OT\n",
    "sentences = df_estacion_sentences['Requerimiento']['Petrobras Chile Red Ltda. Salida Norte']\n",
    "len(sentences)"
   ]
  },
  {
   "cell_type": "code",
   "execution_count": null,
   "metadata": {},
   "outputs": [],
   "source": [
    "%%time\n",
    "# Identificando el número óptimo de clústers por medio del método del Elbow\n",
    "elbow_method(sentences,namecol=namecol, nro_top=6, save = save)"
   ]
  },
  {
   "cell_type": "code",
   "execution_count": null,
   "metadata": {},
   "outputs": [],
   "source": [
    "# Ejecutando el algoritmo Kmeans para el número óptimo de clústers \n",
    "print('\\033[1mCLUSTERS \\n\\033[0m')\n",
    "start_time = time()\n",
    "\n",
    "sentences = sentences\n",
    "nclusters= 22\n",
    "clusters,representativos = cluster_sentences(sentences, nclusters)\n",
    "\n",
    "for cluster in range(nclusters):\n",
    "    print (f\"\\033[1mCluster {cluster} : {sentences[clusters[cluster][representativos[cluster]]]}\\033[0m\")\n",
    "    for i,sentence in enumerate(clusters[cluster]):\n",
    "        print (\"\\tsentence \",i,\": \",sentences[sentence])\n",
    "\n",
    "elapsed_time = time() - start_time\n",
    "print(\"\\033[1mElapsed time: %.10f seconds.\\033[0m\" % elapsed_time)"
   ]
  },
  {
   "cell_type": "code",
   "execution_count": null,
   "metadata": {},
   "outputs": [],
   "source": [
    "# Clusters representativos (con n = 22)\n",
    "for cluster in range(nclusters):\n",
    "    print (\"\\033[1mCluster \",cluster,\":\\033[0m\",sentences[clusters[cluster][representativos[cluster]]])"
   ]
  },
  {
   "cell_type": "code",
   "execution_count": null,
   "metadata": {},
   "outputs": [],
   "source": [
    "# Plot - Cantidad de sentences por cluster\n",
    "len_clusters(dic=clusters,n = nclusters, namecol = namecol , nro_top=6, width = 0.6,save = save) "
   ]
  },
  {
   "cell_type": "markdown",
   "metadata": {},
   "source": [
    "### 7. Tópico 6"
   ]
  },
  {
   "cell_type": "code",
   "execution_count": null,
   "metadata": {},
   "outputs": [],
   "source": [
    "# Cantidad de OT\n",
    "sentences = df_estacion_sentences['Requerimiento']['INVERSIONES ENEX S.A.']\n",
    "len(sentences)"
   ]
  },
  {
   "cell_type": "code",
   "execution_count": null,
   "metadata": {},
   "outputs": [],
   "source": [
    "%%time\n",
    "# Identificando el número óptimo de clústers por medio del método del Elbow\n",
    "elbow_method(sentences,namecol=namecol, nro_top=7,save = save)"
   ]
  },
  {
   "cell_type": "code",
   "execution_count": null,
   "metadata": {},
   "outputs": [],
   "source": [
    "# Ejecutando el algoritmo Kmeans para el número óptimo de clústers \n",
    "print('\\033[1mCLUSTERS \\n\\033[0m')\n",
    "start_time = time()\n",
    "\n",
    "sentences = sentences\n",
    "nclusters= 30\n",
    "clusters,representativos = cluster_sentences(sentences, nclusters)\n",
    "\n",
    "for cluster in range(nclusters):\n",
    "    print (f\"\\033[1mCluster {cluster} : {sentences[clusters[cluster][representativos[cluster]]]}\\033[0m\")\n",
    "    for i,sentence in enumerate(clusters[cluster]):\n",
    "        print (\"\\tsentence \",i,\": \",sentences[sentence])\n",
    "\n",
    "elapsed_time = time() - start_time\n",
    "print(\"\\033[1mElapsed time: %.10f seconds.\\033[0m\" % elapsed_time)"
   ]
  },
  {
   "cell_type": "code",
   "execution_count": null,
   "metadata": {},
   "outputs": [],
   "source": [
    "# Clusters representativos (con n = 30)\n",
    "for cluster in range(nclusters):\n",
    "    print (\"\\033[1mCluster \",cluster,\":\\033[0m\",sentences[clusters[cluster][representativos[cluster]]])"
   ]
  },
  {
   "cell_type": "code",
   "execution_count": null,
   "metadata": {},
   "outputs": [],
   "source": [
    "# Plot - Cantidad de sentences por cluster\n",
    "len_clusters(dic=clusters,n = nclusters, namecol = namecol , nro_top=7, width = 0.6, save = save)"
   ]
  },
  {
   "cell_type": "markdown",
   "metadata": {},
   "source": [
    "### 8. Tópico 7"
   ]
  },
  {
   "cell_type": "code",
   "execution_count": null,
   "metadata": {},
   "outputs": [],
   "source": [
    "# Cantidad de OT\n",
    "sentences = df_estacion_sentences['Requerimiento']['Petrobras Chile Red Ltda- Enea']\n",
    "len(sentences)"
   ]
  },
  {
   "cell_type": "code",
   "execution_count": null,
   "metadata": {},
   "outputs": [],
   "source": [
    "%%time\n",
    "# Identificando el número óptimo de clústers por medio del método del Elbow\n",
    "elbow_method(sentences,namecol=namecol, nro_top=8, save = save)"
   ]
  },
  {
   "cell_type": "code",
   "execution_count": null,
   "metadata": {},
   "outputs": [],
   "source": [
    "# Ejecutando el algoritmo Kmeans para el número óptimo de clústers \n",
    "print('\\033[1mCLUSTERS \\n\\033[0m')\n",
    "start_time = time()\n",
    "\n",
    "sentences = sentences\n",
    "nclusters= 18\n",
    "clusters,representativos = cluster_sentences(sentences, nclusters)\n",
    "\n",
    "for cluster in range(nclusters):\n",
    "    print (f\"\\033[1mCluster {cluster} : {sentences[clusters[cluster][representativos[cluster]]]}\\033[0m\")\n",
    "    for i,sentence in enumerate(clusters[cluster]):\n",
    "        print (\"\\tsentence \",i,\": \",sentences[sentence])\n",
    "\n",
    "elapsed_time = time() - start_time\n",
    "print(\"\\033[1mElapsed time: %.10f seconds.\\033[0m\" % elapsed_time)"
   ]
  },
  {
   "cell_type": "code",
   "execution_count": null,
   "metadata": {},
   "outputs": [],
   "source": [
    "# Clusters representativos (con n = 18)\n",
    "for cluster in range(nclusters):\n",
    "    print (\"\\033[1mCluster \",cluster,\":\\033[0m\",sentences[clusters[cluster][representativos[cluster]]])"
   ]
  },
  {
   "cell_type": "code",
   "execution_count": null,
   "metadata": {},
   "outputs": [],
   "source": [
    "# Plot - Cantidad de sentences por cluster\n",
    "len_clusters(dic=clusters,n = nclusters, namecol = namecol , nro_top=8, width = 0.6, save = save)"
   ]
  },
  {
   "cell_type": "markdown",
   "metadata": {},
   "source": [
    "### 9. Tópico 8"
   ]
  },
  {
   "cell_type": "code",
   "execution_count": null,
   "metadata": {},
   "outputs": [],
   "source": [
    "# Cantidad de OT\n",
    "sentences = df_estacion_sentences['Requerimiento']['SOCIEDAD COMERCIAL ANTUCO LTDA.']\n",
    "len(sentences)"
   ]
  },
  {
   "cell_type": "code",
   "execution_count": null,
   "metadata": {},
   "outputs": [],
   "source": [
    "%%time\n",
    "# Identificando el número óptimo de clústers por medio del método del Elbow\n",
    "elbow_method(sentences,namecol=namecol, nro_top=9,save = save)"
   ]
  },
  {
   "cell_type": "code",
   "execution_count": null,
   "metadata": {},
   "outputs": [],
   "source": [
    "# Ejecutando el algoritmo Kmeans para el número óptimo de clústers \n",
    "print('\\033[1mCLUSTERS \\n\\033[0m')\n",
    "start_time = time()\n",
    "\n",
    "sentences = sentences\n",
    "nclusters= 22\n",
    "clusters,representativos = cluster_sentences(sentences, nclusters)\n",
    "\n",
    "for cluster in range(nclusters):\n",
    "    print (f\"\\033[1mCluster {cluster} : {sentences[clusters[cluster][representativos[cluster]]]}\\033[0m\")\n",
    "    for i,sentence in enumerate(clusters[cluster]):\n",
    "        print (\"\\tsentence \",i,\": \",sentences[sentence])\n",
    "\n",
    "elapsed_time = time() - start_time\n",
    "print(\"\\033[1mElapsed time: %.10f seconds.\\033[0m\" % elapsed_time)"
   ]
  },
  {
   "cell_type": "code",
   "execution_count": null,
   "metadata": {},
   "outputs": [],
   "source": [
    "# Clusters representativos (con n = 22)\n",
    "for cluster in range(nclusters):\n",
    "    print (\"\\033[1mCluster \",cluster,\":\\033[0m\",sentences[clusters[cluster][representativos[cluster]]])"
   ]
  },
  {
   "cell_type": "code",
   "execution_count": null,
   "metadata": {},
   "outputs": [],
   "source": [
    "# Plot - Cantidad de sentences por cluster\n",
    "len_clusters(dic=clusters,n = nclusters, namecol = namecol , nro_top=9, width = 0.6, save = save)"
   ]
  },
  {
   "cell_type": "markdown",
   "metadata": {},
   "source": [
    "### 10. Tópico 9"
   ]
  },
  {
   "cell_type": "code",
   "execution_count": null,
   "metadata": {},
   "outputs": [],
   "source": [
    "# Cantidad de OT\n",
    "sentences = df_estacion_sentences['Requerimiento']['Comercial Albano Ltda.']\n",
    "len(sentences)"
   ]
  },
  {
   "cell_type": "code",
   "execution_count": null,
   "metadata": {},
   "outputs": [],
   "source": [
    "%%time\n",
    "# Identificando el número óptimo de clústers por medio del método del Elbow\n",
    "elbow_method(sentences,namecol=namecol, nro_top=10,save = save)"
   ]
  },
  {
   "cell_type": "code",
   "execution_count": null,
   "metadata": {},
   "outputs": [],
   "source": [
    "# Ejecutando el algoritmo Kmeans para el número óptimo de clústers \n",
    "print('\\033[1mCLUSTERS \\n\\033[0m')\n",
    "start_time = time()\n",
    "\n",
    "sentences = sentences\n",
    "nclusters= 22\n",
    "clusters,representativos = cluster_sentences(sentences, nclusters)\n",
    "\n",
    "for cluster in range(nclusters):\n",
    "    print (f\"\\033[1mCluster {cluster} : {sentences[clusters[cluster][representativos[cluster]]]}\\033[0m\")\n",
    "    for i,sentence in enumerate(clusters[cluster]):\n",
    "        print (\"\\tsentence \",i,\": \",sentences[sentence])\n",
    "\n",
    "elapsed_time = time() - start_time\n",
    "print(\"\\033[1mElapsed time: %.10f seconds.\\033[0m\" % elapsed_time)"
   ]
  },
  {
   "cell_type": "code",
   "execution_count": null,
   "metadata": {},
   "outputs": [],
   "source": [
    "# Clusters representativos (con n = 22)\n",
    "for cluster in range(nclusters):\n",
    "    print (\"\\033[1mCluster \",cluster,\":\\033[0m\",sentences[clusters[cluster][representativos[cluster]]])"
   ]
  },
  {
   "cell_type": "code",
   "execution_count": null,
   "metadata": {},
   "outputs": [],
   "source": [
    "# Plot - Cantidad de sentences por cluster\n",
    "len_clusters(dic=clusters,n = nclusters, namecol = namecol , nro_top=10, width = 0.6, save = save)"
   ]
  },
  {
   "cell_type": "markdown",
   "metadata": {},
   "source": [
    "### 11. Tópico 10"
   ]
  },
  {
   "cell_type": "code",
   "execution_count": null,
   "metadata": {},
   "outputs": [],
   "source": []
  },
  {
   "cell_type": "markdown",
   "metadata": {},
   "source": [
    "### 12. Tópico 11"
   ]
  },
  {
   "cell_type": "code",
   "execution_count": null,
   "metadata": {},
   "outputs": [],
   "source": []
  },
  {
   "cell_type": "markdown",
   "metadata": {},
   "source": [
    "### 13. Tópico 12"
   ]
  },
  {
   "cell_type": "code",
   "execution_count": null,
   "metadata": {},
   "outputs": [],
   "source": []
  },
  {
   "cell_type": "markdown",
   "metadata": {},
   "source": [
    "### 14. Tópico 13"
   ]
  },
  {
   "cell_type": "code",
   "execution_count": null,
   "metadata": {},
   "outputs": [],
   "source": []
  },
  {
   "cell_type": "markdown",
   "metadata": {},
   "source": [
    "### 15. Tópico 14"
   ]
  },
  {
   "cell_type": "code",
   "execution_count": null,
   "metadata": {},
   "outputs": [],
   "source": []
  },
  {
   "cell_type": "markdown",
   "metadata": {},
   "source": [
    "### 16. Tópico 15"
   ]
  },
  {
   "cell_type": "code",
   "execution_count": null,
   "metadata": {},
   "outputs": [],
   "source": []
  },
  {
   "cell_type": "markdown",
   "metadata": {},
   "source": [
    "### 17. Tópico 16"
   ]
  },
  {
   "cell_type": "code",
   "execution_count": null,
   "metadata": {},
   "outputs": [],
   "source": []
  },
  {
   "cell_type": "markdown",
   "metadata": {},
   "source": [
    "### 18. Tópico 17"
   ]
  },
  {
   "cell_type": "code",
   "execution_count": null,
   "metadata": {},
   "outputs": [],
   "source": []
  },
  {
   "cell_type": "markdown",
   "metadata": {},
   "source": [
    "### 19. Tópico 18"
   ]
  },
  {
   "cell_type": "code",
   "execution_count": null,
   "metadata": {},
   "outputs": [],
   "source": []
  },
  {
   "cell_type": "markdown",
   "metadata": {},
   "source": [
    "### 20. Tópico 19"
   ]
  },
  {
   "cell_type": "code",
   "execution_count": null,
   "metadata": {},
   "outputs": [],
   "source": []
  },
  {
   "cell_type": "code",
   "execution_count": null,
   "metadata": {},
   "outputs": [],
   "source": []
  }
 ],
 "metadata": {
  "kernelspec": {
   "display_name": "Python 3",
   "language": "python",
   "name": "python3"
  },
  "language_info": {
   "codemirror_mode": {
    "name": "ipython",
    "version": 3
   },
   "file_extension": ".py",
   "mimetype": "text/x-python",
   "name": "python",
   "nbconvert_exporter": "python",
   "pygments_lexer": "ipython3",
   "version": "3.7.6"
  },
  "toc": {
   "base_numbering": 1,
   "nav_menu": {},
   "number_sections": false,
   "sideBar": true,
   "skip_h1_title": false,
   "title_cell": "Table of Contents",
   "title_sidebar": "Contenido",
   "toc_cell": false,
   "toc_position": {
    "height": "calc(100% - 180px)",
    "left": "10px",
    "top": "150px",
    "width": "384px"
   },
   "toc_section_display": true,
   "toc_window_display": true
  }
 },
 "nbformat": 4,
 "nbformat_minor": 4
}
