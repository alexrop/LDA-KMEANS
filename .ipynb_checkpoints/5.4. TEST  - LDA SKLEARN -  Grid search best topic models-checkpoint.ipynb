{
 "cells": [
  {
   "cell_type": "markdown",
   "metadata": {},
   "source": [
    "# CUARTO NOTEBOOK - LDA COMO MÉTODO DE CLUSTERING"
   ]
  },
  {
   "cell_type": "markdown",
   "metadata": {},
   "source": [
    "# LDA in Python - How to grid search best topic models - OGC DATABASE"
   ]
  },
  {
   "cell_type": "markdown",
   "metadata": {},
   "source": [
    "### 1. Importar Paquetes"
   ]
  },
  {
   "cell_type": "code",
   "execution_count": 1,
   "metadata": {},
   "outputs": [],
   "source": [
    "import re\n",
    "import numpy as np\n",
    "import pandas as pd\n",
    "from pprint import pprint\n",
    "\n",
    "# Gensim\n",
    "import gensim\n",
    "import gensim.corpora as corpora\n",
    "from gensim.utils import simple_preprocess\n",
    "from gensim.models import CoherenceModel\n",
    "\n",
    "# Spacy for lemmatization\n",
    "import spacy\n",
    "\n",
    "# Plotting tools\n",
    "import pyLDAvis\n",
    "import pyLDAvis.sklearn\n",
    "import pyLDAvis.gensim  # don't skip this\n",
    "import matplotlib.pyplot as plt\n",
    "%matplotlib inline\n",
    "\n",
    "# Sklearn\n",
    "from sklearn.decomposition import LatentDirichletAllocation, TruncatedSVD\n",
    "from sklearn.feature_extraction.text import CountVectorizer, TfidfVectorizer\n",
    "from sklearn.model_selection import GridSearchCV\n",
    "\n",
    "import warnings\n",
    "warnings.filterwarnings(\"ignore\",category=DeprecationWarning)"
   ]
  },
  {
   "cell_type": "code",
   "execution_count": 2,
   "metadata": {},
   "outputs": [],
   "source": [
    "# Stop Words\n",
    "with open('spanish2.0.txt','r') as f:\n",
    "    stop_words = f.read().splitlines()"
   ]
  },
  {
   "cell_type": "markdown",
   "metadata": {},
   "source": [
    "### 2. Importar Data Base"
   ]
  },
  {
   "cell_type": "code",
   "execution_count": 3,
   "metadata": {},
   "outputs": [
    {
     "data": {
      "text/html": [
       "<div>\n",
       "<style scoped>\n",
       "    .dataframe tbody tr th:only-of-type {\n",
       "        vertical-align: middle;\n",
       "    }\n",
       "\n",
       "    .dataframe tbody tr th {\n",
       "        vertical-align: top;\n",
       "    }\n",
       "\n",
       "    .dataframe thead th {\n",
       "        text-align: right;\n",
       "    }\n",
       "</style>\n",
       "<table border=\"1\" class=\"dataframe\">\n",
       "  <thead>\n",
       "    <tr style=\"text-align: right;\">\n",
       "      <th></th>\n",
       "      <th>Observación</th>\n",
       "      <th>Requerimiento</th>\n",
       "    </tr>\n",
       "  </thead>\n",
       "  <tbody>\n",
       "    <tr>\n",
       "      <th>OPERACIONES Y SERVICIOS TERPEL LTDA.</th>\n",
       "      <td>[se chequea falla y se detecta ortirak que cua...</td>\n",
       "      <td>[area de atencion surtidor 1 y 2 boton de sele...</td>\n",
       "    </tr>\n",
       "    <tr>\n",
       "      <th>OPERACIONES Y SERVICIO TERPEL LTDA.</th>\n",
       "      <td>[se solicita tapa spil p15200 para estanque pr...</td>\n",
       "      <td>[area de atencion tapa spill de estanque diese...</td>\n",
       "    </tr>\n",
       "    <tr>\n",
       "      <th>Inversiones Enex</th>\n",
       "      <td>[se rechaza orden por no corresponder a contra...</td>\n",
       "      <td>[area de atencion se solicita reparacion de br...</td>\n",
       "    </tr>\n",
       "    <tr>\n",
       "      <th>SOCIEDAD DE COMBUSTIBLES AUSTRAL LTDA.</th>\n",
       "      <td>[visita se cierra bajo ot 7 visita se cierra b...</td>\n",
       "      <td>[area de atencion sin venta gas 95 y 97 en tod...</td>\n",
       "    </tr>\n",
       "    <tr>\n",
       "      <th>CL - Buses Vule S.A.</th>\n",
       "      <td>[en surtidor numero 1 se detecto se cambio 01 ...</td>\n",
       "      <td>[area de atencion breakaway esta suelto y filt...</td>\n",
       "    </tr>\n",
       "  </tbody>\n",
       "</table>\n",
       "</div>"
      ],
      "text/plain": [
       "                                                                              Observación  \\\n",
       "OPERACIONES Y SERVICIOS TERPEL LTDA.    [se chequea falla y se detecta ortirak que cua...   \n",
       "OPERACIONES Y SERVICIO TERPEL LTDA.     [se solicita tapa spil p15200 para estanque pr...   \n",
       "Inversiones Enex                        [se rechaza orden por no corresponder a contra...   \n",
       "SOCIEDAD DE COMBUSTIBLES AUSTRAL LTDA.  [visita se cierra bajo ot 7 visita se cierra b...   \n",
       "CL - Buses Vule S.A.                    [en surtidor numero 1 se detecto se cambio 01 ...   \n",
       "\n",
       "                                                                            Requerimiento  \n",
       "OPERACIONES Y SERVICIOS TERPEL LTDA.    [area de atencion surtidor 1 y 2 boton de sele...  \n",
       "OPERACIONES Y SERVICIO TERPEL LTDA.     [area de atencion tapa spill de estanque diese...  \n",
       "Inversiones Enex                        [area de atencion se solicita reparacion de br...  \n",
       "SOCIEDAD DE COMBUSTIBLES AUSTRAL LTDA.  [area de atencion sin venta gas 95 y 97 en tod...  \n",
       "CL - Buses Vule S.A.                    [area de atencion breakaway esta suelto y filt...  "
      ]
     },
     "execution_count": 3,
     "metadata": {},
     "output_type": "execute_result"
    }
   ],
   "source": [
    "# ESTACIONES\n",
    "df_estacion_sentences = pd.read_pickle('df_estacion_sentences.pkl')\n",
    "df_estacion_sentences.head()"
   ]
  },
  {
   "cell_type": "markdown",
   "metadata": {},
   "source": [
    "Viendo que analizar la totalidad de la BD será un proceso muy largo, se hará una prueba solo con un DATA FRAME en particular a modo de prototipo del modelo LDA.\n",
    "\n",
    "En relación con el tipo de DF a utilizar, se considerará el que está en formato de sentences ([sent1,sent2,..,sentn]) en lugar del que contiene todas las palabras en formato string ('sent1 sent2 ... sentn'). \n",
    "\n",
    "1. 'Carrete RetractilOTROOTRO' en df_falla_sentences ---> 9.324 sentences\n",
    "2. 'Carrete RetractilOTROOTRO' en df_falla   ----------->  3.496.506 palabras"
   ]
  },
  {
   "cell_type": "markdown",
   "metadata": {},
   "source": [
    "#### Se elige una estación en particular "
   ]
  },
  {
   "cell_type": "code",
   "execution_count": 4,
   "metadata": {},
   "outputs": [
    {
     "data": {
      "text/plain": [
       "['se chequea falla y se detecta ortirak que cuando le da el sol directo se borra por completo esto no permite el corrrecto uso del mismo se informa y solicita reparacion a empresa encargada se chequea falla y se detecta ortirak que cuando le da el sol directo se borra por completo esto no permite el corrrecto uso del mismo se informa y solicita reparacion a empresa encargada se niega firma por no estar reparado don marcelo olate',\n",
       " 'en dispensador numero 7 producto 93 se detecto union manguera pistola suelta y con filtracion se reapreta union manguera pistola quedando operativa en dispensador numero 7 producto 93 se detecto union manguera pistola suelta y con filtracion se reapreta union manguera pistola quedando operativa']"
      ]
     },
     "execution_count": 4,
     "metadata": {},
     "output_type": "execute_result"
    }
   ],
   "source": [
    "# Operaciones y Servicios Terpel LTDA \n",
    "data = df_estacion_sentences['Observación']['OPERACIONES Y SERVICIOS TERPEL LTDA.']\n",
    "data[:2]"
   ]
  },
  {
   "cell_type": "code",
   "execution_count": 5,
   "metadata": {},
   "outputs": [
    {
     "data": {
      "text/plain": [
       "416"
      ]
     },
     "execution_count": 5,
     "metadata": {},
     "output_type": "execute_result"
    }
   ],
   "source": [
    "len(data)"
   ]
  },
  {
   "cell_type": "markdown",
   "metadata": {},
   "source": [
    "### 3. Tokenize Words"
   ]
  },
  {
   "cell_type": "code",
   "execution_count": 6,
   "metadata": {},
   "outputs": [
    {
     "name": "stdout",
     "output_type": "stream",
     "text": [
      "[['se', 'chequea', 'falla', 'se', 'detecta', 'ortirak', 'que', 'cuando', 'le', 'da', 'el', 'sol', 'directo', 'se', 'borra', 'por', 'completo', 'esto', 'no', 'permite', 'el', 'corrrecto', 'uso', 'del', 'mismo', 'se', 'informa', 'solicita', 'reparacion', 'empresa', 'encargada', 'se', 'chequea', 'falla', 'se', 'detecta', 'ortirak', 'que', 'cuando', 'le', 'da', 'el', 'sol', 'directo', 'se', 'borra', 'por', 'completo', 'esto', 'no', 'permite', 'el', 'corrrecto', 'uso', 'del', 'mismo', 'se', 'informa', 'solicita', 'reparacion', 'empresa', 'encargada', 'se', 'niega', 'firma', 'por', 'no', 'estar', 'reparado', 'don', 'marcelo', 'olate']]\n"
     ]
    }
   ],
   "source": [
    "def sent_to_words(sentences):\n",
    "    for sentence in sentences:\n",
    "        yield(gensim.utils.simple_preprocess(str(sentence), deacc=True))  # deacc=True removes punctuations\n",
    "\n",
    "data_words = list(sent_to_words(data))\n",
    "\n",
    "print(data_words[:1])"
   ]
  },
  {
   "cell_type": "markdown",
   "metadata": {},
   "source": [
    "### 4. Lemmatization"
   ]
  },
  {
   "cell_type": "code",
   "execution_count": 7,
   "metadata": {},
   "outputs": [
    {
     "name": "stdout",
     "output_type": "stream",
     "text": [
      "['fallo ortirak sol directo borrar completar permitir corrrecto usar informar reparacion empresa encargar fallo ortirak sol directo borrar completar permitir corrrecto usar informar reparacion empresa encargar negar firmar reparar don marcelo olate']\n"
     ]
    }
   ],
   "source": [
    "def remove_stopwords(texts):\n",
    "    return [[word for word in simple_preprocess(str(doc)) if word not in stop_words] for doc in texts]\n",
    "\n",
    "def lemmatization(texts, allowed_postags=['NOUN', 'ADJ', 'VERB', 'ADV','PROPN']):\n",
    "    texts_out = []\n",
    "    for sent in texts:\n",
    "        doc = nlp(u\" \".join(sent))\n",
    "        texts_out.append(\" \".join([token.lemma_ if token.lemma_ not in ['-PRON-'] else '' for token in doc if token.pos_ in allowed_postags]))\n",
    "        #texts_out.append([token.lemma_ for token in doc if token.pos_ in allowed_postags])\n",
    "    return texts_out\n",
    "\n",
    "# Remove Stop Words\n",
    "data_words_nostops = remove_stopwords(data_words)\n",
    "\n",
    "# Initialize spacy 'es' model, keeping only tagger component (for efficiency)\n",
    "nlp = spacy.load('es_core_news_md', disable=['parser', 'ner'])\n",
    "\n",
    "# Do lemmatization keeping only noun, adj, vb, adv\n",
    "data_lemmatized = lemmatization(data_words_nostops) # Se eligue solo data_words_nostops ya que no es probable que existan bigramas o trigramas\n",
    "\n",
    "print(data_lemmatized[:1])"
   ]
  },
  {
   "cell_type": "code",
   "execution_count": 8,
   "metadata": {},
   "outputs": [
    {
     "name": "stdout",
     "output_type": "stream",
     "text": [
      "['se chequea falla detectando surtidores lentos y con fuga se realiza reapriete y sellado de todos los diesel se realiza cambio de filtros y se prueba queda operativo en un 100 se chequea falla detectando surtidores lentos y con fuga se realiza reapriete y sellado de todos los diesel se realiza cambio de filtros y se prueba queda operativo en un 100']\n"
     ]
    }
   ],
   "source": [
    "print(data[4:5])"
   ]
  },
  {
   "cell_type": "code",
   "execution_count": 9,
   "metadata": {},
   "outputs": [
    {
     "name": "stdout",
     "output_type": "stream",
     "text": [
      "[['se', 'chequea', 'falla', 'detectando', 'surtidores', 'lentos', 'con', 'fuga', 'se', 'realiza', 'reapriete', 'sellado', 'de', 'todos', 'los', 'diesel', 'se', 'realiza', 'cambio', 'de', 'filtros', 'se', 'prueba', 'queda', 'operativo', 'en', 'un', 'se', 'chequea', 'falla', 'detectando', 'surtidores', 'lentos', 'con', 'fuga', 'se', 'realiza', 'reapriete', 'sellado', 'de', 'todos', 'los', 'diesel', 'se', 'realiza', 'cambio', 'de', 'filtros', 'se', 'prueba', 'queda', 'operativo', 'en', 'un']]\n"
     ]
    }
   ],
   "source": [
    "print(data_words[4:5])"
   ]
  },
  {
   "cell_type": "code",
   "execution_count": 10,
   "metadata": {},
   "outputs": [
    {
     "name": "stdout",
     "output_type": "stream",
     "text": [
      "[['falla', 'surtidores', 'lentos', 'fuga', 'reapriete', 'sellado', 'diesel', 'cambio', 'filtros', 'falla', 'surtidores', 'lentos', 'fuga', 'reapriete', 'sellado', 'diesel', 'cambio', 'filtros']]\n"
     ]
    }
   ],
   "source": [
    "print(data_words_nostops[4:5])"
   ]
  },
  {
   "cell_type": "code",
   "execution_count": 11,
   "metadata": {},
   "outputs": [
    {
     "name": "stdout",
     "output_type": "stream",
     "text": [
      "['fallo surtidor lento fugar reapriete sellar diesel cambiar filtro fallo surtidor lento fugar reapriete sellar diesel cambiar filtro']\n"
     ]
    }
   ],
   "source": [
    "print(data_lemmatized[4:5])"
   ]
  },
  {
   "cell_type": "code",
   "execution_count": 12,
   "metadata": {},
   "outputs": [
    {
     "data": {
      "text/plain": [
       "list"
      ]
     },
     "execution_count": 12,
     "metadata": {},
     "output_type": "execute_result"
    }
   ],
   "source": [
    "type(data_lemmatized)"
   ]
  },
  {
   "cell_type": "markdown",
   "metadata": {},
   "source": [
    "### 5. Document-Word Matrix"
   ]
  },
  {
   "cell_type": "code",
   "execution_count": 13,
   "metadata": {},
   "outputs": [],
   "source": [
    "vectorizer = CountVectorizer(analyzer='word',       \n",
    "                             min_df=10,                        # minimum reqd occurences of a word \n",
    "                             stop_words= None ,                # remove stop words\n",
    "                             lowercase=True,                   # convert all words to lowercase\n",
    "                             token_pattern='[a-zA-Z0-9]{3,}',  # num chars > 3\n",
    "                             # max_features=50000,             # max number of uniq words\n",
    "                            )\n",
    "\n",
    "data_vectorized = vectorizer.fit_transform(data_lemmatized)"
   ]
  },
  {
   "cell_type": "markdown",
   "metadata": {},
   "source": [
    "### 6. Check the Sparsicity"
   ]
  },
  {
   "cell_type": "code",
   "execution_count": 14,
   "metadata": {},
   "outputs": [
    {
     "name": "stdout",
     "output_type": "stream",
     "text": [
      "Sparsicity:  6.25 %\n"
     ]
    }
   ],
   "source": [
    "# Materialize the sparse data\n",
    "data_dense = data_vectorized.todense()\n",
    "\n",
    "# Compute Sparsicity = Percentage of Non-Zero cells\n",
    "print(\"Sparsicity: \", ((data_dense > 0).sum()/data_dense.size)*100, \"%\")"
   ]
  },
  {
   "cell_type": "markdown",
   "metadata": {},
   "source": [
    "### 7. Build LDA model with sklearn"
   ]
  },
  {
   "cell_type": "code",
   "execution_count": 15,
   "metadata": {},
   "outputs": [
    {
     "name": "stdout",
     "output_type": "stream",
     "text": [
      "LatentDirichletAllocation(learning_method='online', n_components=20, n_jobs=-1,\n",
      "                          random_state=100)\n"
     ]
    }
   ],
   "source": [
    "# Build LDA Model\n",
    "lda_model = LatentDirichletAllocation(n_components=20,               # Number of topics\n",
    "                                      max_iter=10,               # Max learning iterations\n",
    "                                      learning_method='online',   \n",
    "                                      random_state=100,          # Random state\n",
    "                                      batch_size=128,            # n docs in each learning iter\n",
    "                                      evaluate_every = -1,       # compute perplexity every n iters, default: Don't\n",
    "                                      n_jobs = -1,               # Use all available CPUs\n",
    "                                     )\n",
    "lda_output = lda_model.fit_transform(data_vectorized)\n",
    "\n",
    "print(lda_model)  # Model attributes"
   ]
  },
  {
   "cell_type": "markdown",
   "metadata": {},
   "source": [
    "### 8. Diagnose model performance with perplexity and log-likelihood"
   ]
  },
  {
   "cell_type": "code",
   "execution_count": 16,
   "metadata": {},
   "outputs": [
    {
     "name": "stdout",
     "output_type": "stream",
     "text": [
      "Log Likelihood:  -12307.991734376168\n",
      "Perplexity:  27.991119888710244\n",
      "{'batch_size': 128,\n",
      " 'doc_topic_prior': None,\n",
      " 'evaluate_every': -1,\n",
      " 'learning_decay': 0.7,\n",
      " 'learning_method': 'online',\n",
      " 'learning_offset': 10.0,\n",
      " 'max_doc_update_iter': 100,\n",
      " 'max_iter': 10,\n",
      " 'mean_change_tol': 0.001,\n",
      " 'n_components': 20,\n",
      " 'n_jobs': -1,\n",
      " 'perp_tol': 0.1,\n",
      " 'random_state': 100,\n",
      " 'topic_word_prior': None,\n",
      " 'total_samples': 1000000.0,\n",
      " 'verbose': 0}\n"
     ]
    }
   ],
   "source": [
    "# Log Likelyhood: Higher the better\n",
    "print(\"Log Likelihood: \", lda_model.score(data_vectorized))\n",
    "\n",
    "# Perplexity: Lower the better. Perplexity = exp(-1. * log-likelihood per word)\n",
    "print(\"Perplexity: \", lda_model.perplexity(data_vectorized))\n",
    "\n",
    "# See model parameters\n",
    "pprint(lda_model.get_params())"
   ]
  },
  {
   "cell_type": "markdown",
   "metadata": {},
   "source": [
    "Perplexity might not be the best measure to evaluate topic models because it doesn’t consider the context and semantic associations between words. This can be captured using topic coherence measure, an example of this is described in the gensim tutorial I mentioned earlier."
   ]
  },
  {
   "cell_type": "markdown",
   "metadata": {},
   "source": [
    "### 9. How to GridSearch the best LDA model?"
   ]
  },
  {
   "cell_type": "markdown",
   "metadata": {},
   "source": [
    "The most important tuning parameter for LDA models is n_components (number of topics). In addition, I am going to search learning_decay (which controls the learning rate) as well."
   ]
  },
  {
   "cell_type": "code",
   "execution_count": 17,
   "metadata": {},
   "outputs": [
    {
     "data": {
      "text/plain": [
       "GridSearchCV(estimator=LatentDirichletAllocation(),\n",
       "             param_grid={'learning_decay': [0.5, 0.7, 0.9],\n",
       "                         'n_components': [5, 10, 15, 20, 25, 30]})"
      ]
     },
     "execution_count": 17,
     "metadata": {},
     "output_type": "execute_result"
    }
   ],
   "source": [
    "# Define Search Param\n",
    "search_params = {'n_components': [5, 10, 15, 20, 25, 30], 'learning_decay': [.5, .7, .9]}\n",
    "    \n",
    "# Init the Model\n",
    "lda = LatentDirichletAllocation()\n",
    "\n",
    "# Init Grid Search Class\n",
    "model = GridSearchCV(lda, param_grid=search_params)\n",
    "\n",
    "# Do the Grid Search\n",
    "model.fit(data_vectorized)"
   ]
  },
  {
   "cell_type": "markdown",
   "metadata": {},
   "source": [
    "### 10. How to see the best topic model and its parameters?"
   ]
  },
  {
   "cell_type": "code",
   "execution_count": 18,
   "metadata": {},
   "outputs": [
    {
     "name": "stdout",
     "output_type": "stream",
     "text": [
      "Best Model's Params:  {'learning_decay': 0.7, 'n_components': 5}\n",
      "Best Log Likelihood Score:  -3000.7774523168628\n",
      "Model Perplexity:  30.242362451806727\n"
     ]
    }
   ],
   "source": [
    "# Best Model\n",
    "best_lda_model = model.best_estimator_\n",
    "\n",
    "# Model Parameters\n",
    "print(\"Best Model's Params: \", model.best_params_)\n",
    "\n",
    "# Log Likelihood Score\n",
    "print(\"Best Log Likelihood Score: \", model.best_score_)\n",
    "\n",
    "# Perplexity\n",
    "print(\"Model Perplexity: \", best_lda_model.perplexity(data_vectorized))"
   ]
  },
  {
   "cell_type": "markdown",
   "metadata": {},
   "source": [
    "### 11. Compare LDA Model Performance Scores"
   ]
  },
  {
   "cell_type": "code",
   "execution_count": 19,
   "metadata": {},
   "outputs": [
    {
     "data": {
      "text/plain": [
       "<matplotlib.axes._subplots.AxesSubplot at 0x1f2607e9e08>"
      ]
     },
     "execution_count": 19,
     "metadata": {},
     "output_type": "execute_result"
    },
    {
     "data": {
      "image/png": "[encoded data removed]",
      "text/plain": [
       "<Figure size 864x576 with 1 Axes>"
      ]
     },
     "metadata": {
      "needs_background": "light"
     },
     "output_type": "display_data"
    }
   ],
   "source": [
    "import seaborn as sns\n",
    "\n",
    "results = pd.DataFrame(model.cv_results_)\n",
    "\n",
    "current_palette = sns.color_palette(\"Set2\", 3)\n",
    "\n",
    "plt.figure(figsize=(12,8))\n",
    "\n",
    "sns.lineplot(data=results,\n",
    "x='param_n_components',\n",
    "y='mean_test_score',\n",
    "hue='param_learning_decay',\n",
    "palette=current_palette,\n",
    "marker='o'\n",
    ")"
   ]
  },
  {
   "cell_type": "markdown",
   "metadata": {},
   "source": [
    "### 12. How to see the dominant topic in each document?"
   ]
  },
  {
   "cell_type": "code",
   "execution_count": 20,
   "metadata": {},
   "outputs": [
    {
     "data": {
      "text/html": [
       "<style  type=\"text/css\" >\n",
       "    #T_867a78d8_ad19_11ea_9faa_9828a609cb2crow0_col0 {\n",
       "            color:  black;\n",
       "            font-weight:  400;\n",
       "        }    #T_867a78d8_ad19_11ea_9faa_9828a609cb2crow0_col1 {\n",
       "            color:  black;\n",
       "            font-weight:  400;\n",
       "        }    #T_867a78d8_ad19_11ea_9faa_9828a609cb2crow0_col2 {\n",
       "            color:  green;\n",
       "            font-weight:  700;\n",
       "        }    #T_867a78d8_ad19_11ea_9faa_9828a609cb2crow0_col3 {\n",
       "            color:  black;\n",
       "            font-weight:  400;\n",
       "        }    #T_867a78d8_ad19_11ea_9faa_9828a609cb2crow0_col4 {\n",
       "            color:  green;\n",
       "            font-weight:  700;\n",
       "        }    #T_867a78d8_ad19_11ea_9faa_9828a609cb2crow0_col5 {\n",
       "            color:  green;\n",
       "            font-weight:  700;\n",
       "        }    #T_867a78d8_ad19_11ea_9faa_9828a609cb2crow1_col0 {\n",
       "            color:  black;\n",
       "            font-weight:  400;\n",
       "        }    #T_867a78d8_ad19_11ea_9faa_9828a609cb2crow1_col1 {\n",
       "            color:  black;\n",
       "            font-weight:  400;\n",
       "        }    #T_867a78d8_ad19_11ea_9faa_9828a609cb2crow1_col2 {\n",
       "            color:  black;\n",
       "            font-weight:  400;\n",
       "        }    #T_867a78d8_ad19_11ea_9faa_9828a609cb2crow1_col3 {\n",
       "            color:  green;\n",
       "            font-weight:  700;\n",
       "        }    #T_867a78d8_ad19_11ea_9faa_9828a609cb2crow1_col4 {\n",
       "            color:  black;\n",
       "            font-weight:  400;\n",
       "        }    #T_867a78d8_ad19_11ea_9faa_9828a609cb2crow1_col5 {\n",
       "            color:  green;\n",
       "            font-weight:  700;\n",
       "        }    #T_867a78d8_ad19_11ea_9faa_9828a609cb2crow2_col0 {\n",
       "            color:  black;\n",
       "            font-weight:  400;\n",
       "        }    #T_867a78d8_ad19_11ea_9faa_9828a609cb2crow2_col1 {\n",
       "            color:  green;\n",
       "            font-weight:  700;\n",
       "        }    #T_867a78d8_ad19_11ea_9faa_9828a609cb2crow2_col2 {\n",
       "            color:  black;\n",
       "            font-weight:  400;\n",
       "        }    #T_867a78d8_ad19_11ea_9faa_9828a609cb2crow2_col3 {\n",
       "            color:  green;\n",
       "            font-weight:  700;\n",
       "        }    #T_867a78d8_ad19_11ea_9faa_9828a609cb2crow2_col4 {\n",
       "            color:  black;\n",
       "            font-weight:  400;\n",
       "        }    #T_867a78d8_ad19_11ea_9faa_9828a609cb2crow2_col5 {\n",
       "            color:  green;\n",
       "            font-weight:  700;\n",
       "        }    #T_867a78d8_ad19_11ea_9faa_9828a609cb2crow3_col0 {\n",
       "            color:  green;\n",
       "            font-weight:  700;\n",
       "        }    #T_867a78d8_ad19_11ea_9faa_9828a609cb2crow3_col1 {\n",
       "            color:  black;\n",
       "            font-weight:  400;\n",
       "        }    #T_867a78d8_ad19_11ea_9faa_9828a609cb2crow3_col2 {\n",
       "            color:  black;\n",
       "            font-weight:  400;\n",
       "        }    #T_867a78d8_ad19_11ea_9faa_9828a609cb2crow3_col3 {\n",
       "            color:  black;\n",
       "            font-weight:  400;\n",
       "        }    #T_867a78d8_ad19_11ea_9faa_9828a609cb2crow3_col4 {\n",
       "            color:  green;\n",
       "            font-weight:  700;\n",
       "        }    #T_867a78d8_ad19_11ea_9faa_9828a609cb2crow3_col5 {\n",
       "            color:  green;\n",
       "            font-weight:  700;\n",
       "        }    #T_867a78d8_ad19_11ea_9faa_9828a609cb2crow4_col0 {\n",
       "            color:  black;\n",
       "            font-weight:  400;\n",
       "        }    #T_867a78d8_ad19_11ea_9faa_9828a609cb2crow4_col1 {\n",
       "            color:  green;\n",
       "            font-weight:  700;\n",
       "        }    #T_867a78d8_ad19_11ea_9faa_9828a609cb2crow4_col2 {\n",
       "            color:  green;\n",
       "            font-weight:  700;\n",
       "        }    #T_867a78d8_ad19_11ea_9faa_9828a609cb2crow4_col3 {\n",
       "            color:  black;\n",
       "            font-weight:  400;\n",
       "        }    #T_867a78d8_ad19_11ea_9faa_9828a609cb2crow4_col4 {\n",
       "            color:  black;\n",
       "            font-weight:  400;\n",
       "        }    #T_867a78d8_ad19_11ea_9faa_9828a609cb2crow4_col5 {\n",
       "            color:  green;\n",
       "            font-weight:  700;\n",
       "        }    #T_867a78d8_ad19_11ea_9faa_9828a609cb2crow5_col0 {\n",
       "            color:  black;\n",
       "            font-weight:  400;\n",
       "        }    #T_867a78d8_ad19_11ea_9faa_9828a609cb2crow5_col1 {\n",
       "            color:  green;\n",
       "            font-weight:  700;\n",
       "        }    #T_867a78d8_ad19_11ea_9faa_9828a609cb2crow5_col2 {\n",
       "            color:  black;\n",
       "            font-weight:  400;\n",
       "        }    #T_867a78d8_ad19_11ea_9faa_9828a609cb2crow5_col3 {\n",
       "            color:  green;\n",
       "            font-weight:  700;\n",
       "        }    #T_867a78d8_ad19_11ea_9faa_9828a609cb2crow5_col4 {\n",
       "            color:  black;\n",
       "            font-weight:  400;\n",
       "        }    #T_867a78d8_ad19_11ea_9faa_9828a609cb2crow5_col5 {\n",
       "            color:  green;\n",
       "            font-weight:  700;\n",
       "        }    #T_867a78d8_ad19_11ea_9faa_9828a609cb2crow6_col0 {\n",
       "            color:  black;\n",
       "            font-weight:  400;\n",
       "        }    #T_867a78d8_ad19_11ea_9faa_9828a609cb2crow6_col1 {\n",
       "            color:  black;\n",
       "            font-weight:  400;\n",
       "        }    #T_867a78d8_ad19_11ea_9faa_9828a609cb2crow6_col2 {\n",
       "            color:  green;\n",
       "            font-weight:  700;\n",
       "        }    #T_867a78d8_ad19_11ea_9faa_9828a609cb2crow6_col3 {\n",
       "            color:  black;\n",
       "            font-weight:  400;\n",
       "        }    #T_867a78d8_ad19_11ea_9faa_9828a609cb2crow6_col4 {\n",
       "            color:  black;\n",
       "            font-weight:  400;\n",
       "        }    #T_867a78d8_ad19_11ea_9faa_9828a609cb2crow6_col5 {\n",
       "            color:  green;\n",
       "            font-weight:  700;\n",
       "        }    #T_867a78d8_ad19_11ea_9faa_9828a609cb2crow7_col0 {\n",
       "            color:  black;\n",
       "            font-weight:  400;\n",
       "        }    #T_867a78d8_ad19_11ea_9faa_9828a609cb2crow7_col1 {\n",
       "            color:  green;\n",
       "            font-weight:  700;\n",
       "        }    #T_867a78d8_ad19_11ea_9faa_9828a609cb2crow7_col2 {\n",
       "            color:  green;\n",
       "            font-weight:  700;\n",
       "        }    #T_867a78d8_ad19_11ea_9faa_9828a609cb2crow7_col3 {\n",
       "            color:  green;\n",
       "            font-weight:  700;\n",
       "        }    #T_867a78d8_ad19_11ea_9faa_9828a609cb2crow7_col4 {\n",
       "            color:  green;\n",
       "            font-weight:  700;\n",
       "        }    #T_867a78d8_ad19_11ea_9faa_9828a609cb2crow7_col5 {\n",
       "            color:  green;\n",
       "            font-weight:  700;\n",
       "        }    #T_867a78d8_ad19_11ea_9faa_9828a609cb2crow8_col0 {\n",
       "            color:  black;\n",
       "            font-weight:  400;\n",
       "        }    #T_867a78d8_ad19_11ea_9faa_9828a609cb2crow8_col1 {\n",
       "            color:  black;\n",
       "            font-weight:  400;\n",
       "        }    #T_867a78d8_ad19_11ea_9faa_9828a609cb2crow8_col2 {\n",
       "            color:  black;\n",
       "            font-weight:  400;\n",
       "        }    #T_867a78d8_ad19_11ea_9faa_9828a609cb2crow8_col3 {\n",
       "            color:  green;\n",
       "            font-weight:  700;\n",
       "        }    #T_867a78d8_ad19_11ea_9faa_9828a609cb2crow8_col4 {\n",
       "            color:  black;\n",
       "            font-weight:  400;\n",
       "        }    #T_867a78d8_ad19_11ea_9faa_9828a609cb2crow8_col5 {\n",
       "            color:  green;\n",
       "            font-weight:  700;\n",
       "        }    #T_867a78d8_ad19_11ea_9faa_9828a609cb2crow9_col0 {\n",
       "            color:  black;\n",
       "            font-weight:  400;\n",
       "        }    #T_867a78d8_ad19_11ea_9faa_9828a609cb2crow9_col1 {\n",
       "            color:  black;\n",
       "            font-weight:  400;\n",
       "        }    #T_867a78d8_ad19_11ea_9faa_9828a609cb2crow9_col2 {\n",
       "            color:  black;\n",
       "            font-weight:  400;\n",
       "        }    #T_867a78d8_ad19_11ea_9faa_9828a609cb2crow9_col3 {\n",
       "            color:  green;\n",
       "            font-weight:  700;\n",
       "        }    #T_867a78d8_ad19_11ea_9faa_9828a609cb2crow9_col4 {\n",
       "            color:  black;\n",
       "            font-weight:  400;\n",
       "        }    #T_867a78d8_ad19_11ea_9faa_9828a609cb2crow9_col5 {\n",
       "            color:  green;\n",
       "            font-weight:  700;\n",
       "        }    #T_867a78d8_ad19_11ea_9faa_9828a609cb2crow10_col0 {\n",
       "            color:  black;\n",
       "            font-weight:  400;\n",
       "        }    #T_867a78d8_ad19_11ea_9faa_9828a609cb2crow10_col1 {\n",
       "            color:  green;\n",
       "            font-weight:  700;\n",
       "        }    #T_867a78d8_ad19_11ea_9faa_9828a609cb2crow10_col2 {\n",
       "            color:  green;\n",
       "            font-weight:  700;\n",
       "        }    #T_867a78d8_ad19_11ea_9faa_9828a609cb2crow10_col3 {\n",
       "            color:  black;\n",
       "            font-weight:  400;\n",
       "        }    #T_867a78d8_ad19_11ea_9faa_9828a609cb2crow10_col4 {\n",
       "            color:  black;\n",
       "            font-weight:  400;\n",
       "        }    #T_867a78d8_ad19_11ea_9faa_9828a609cb2crow10_col5 {\n",
       "            color:  green;\n",
       "            font-weight:  700;\n",
       "        }    #T_867a78d8_ad19_11ea_9faa_9828a609cb2crow11_col0 {\n",
       "            color:  black;\n",
       "            font-weight:  400;\n",
       "        }    #T_867a78d8_ad19_11ea_9faa_9828a609cb2crow11_col1 {\n",
       "            color:  black;\n",
       "            font-weight:  400;\n",
       "        }    #T_867a78d8_ad19_11ea_9faa_9828a609cb2crow11_col2 {\n",
       "            color:  green;\n",
       "            font-weight:  700;\n",
       "        }    #T_867a78d8_ad19_11ea_9faa_9828a609cb2crow11_col3 {\n",
       "            color:  black;\n",
       "            font-weight:  400;\n",
       "        }    #T_867a78d8_ad19_11ea_9faa_9828a609cb2crow11_col4 {\n",
       "            color:  black;\n",
       "            font-weight:  400;\n",
       "        }    #T_867a78d8_ad19_11ea_9faa_9828a609cb2crow11_col5 {\n",
       "            color:  green;\n",
       "            font-weight:  700;\n",
       "        }    #T_867a78d8_ad19_11ea_9faa_9828a609cb2crow12_col0 {\n",
       "            color:  black;\n",
       "            font-weight:  400;\n",
       "        }    #T_867a78d8_ad19_11ea_9faa_9828a609cb2crow12_col1 {\n",
       "            color:  black;\n",
       "            font-weight:  400;\n",
       "        }    #T_867a78d8_ad19_11ea_9faa_9828a609cb2crow12_col2 {\n",
       "            color:  black;\n",
       "            font-weight:  400;\n",
       "        }    #T_867a78d8_ad19_11ea_9faa_9828a609cb2crow12_col3 {\n",
       "            color:  green;\n",
       "            font-weight:  700;\n",
       "        }    #T_867a78d8_ad19_11ea_9faa_9828a609cb2crow12_col4 {\n",
       "            color:  black;\n",
       "            font-weight:  400;\n",
       "        }    #T_867a78d8_ad19_11ea_9faa_9828a609cb2crow12_col5 {\n",
       "            color:  green;\n",
       "            font-weight:  700;\n",
       "        }    #T_867a78d8_ad19_11ea_9faa_9828a609cb2crow13_col0 {\n",
       "            color:  green;\n",
       "            font-weight:  700;\n",
       "        }    #T_867a78d8_ad19_11ea_9faa_9828a609cb2crow13_col1 {\n",
       "            color:  black;\n",
       "            font-weight:  400;\n",
       "        }    #T_867a78d8_ad19_11ea_9faa_9828a609cb2crow13_col2 {\n",
       "            color:  green;\n",
       "            font-weight:  700;\n",
       "        }    #T_867a78d8_ad19_11ea_9faa_9828a609cb2crow13_col3 {\n",
       "            color:  black;\n",
       "            font-weight:  400;\n",
       "        }    #T_867a78d8_ad19_11ea_9faa_9828a609cb2crow13_col4 {\n",
       "            color:  black;\n",
       "            font-weight:  400;\n",
       "        }    #T_867a78d8_ad19_11ea_9faa_9828a609cb2crow13_col5 {\n",
       "            color:  black;\n",
       "            font-weight:  400;\n",
       "        }    #T_867a78d8_ad19_11ea_9faa_9828a609cb2crow14_col0 {\n",
       "            color:  green;\n",
       "            font-weight:  700;\n",
       "        }    #T_867a78d8_ad19_11ea_9faa_9828a609cb2crow14_col1 {\n",
       "            color:  black;\n",
       "            font-weight:  400;\n",
       "        }    #T_867a78d8_ad19_11ea_9faa_9828a609cb2crow14_col2 {\n",
       "            color:  black;\n",
       "            font-weight:  400;\n",
       "        }    #T_867a78d8_ad19_11ea_9faa_9828a609cb2crow14_col3 {\n",
       "            color:  green;\n",
       "            font-weight:  700;\n",
       "        }    #T_867a78d8_ad19_11ea_9faa_9828a609cb2crow14_col4 {\n",
       "            color:  black;\n",
       "            font-weight:  400;\n",
       "        }    #T_867a78d8_ad19_11ea_9faa_9828a609cb2crow14_col5 {\n",
       "            color:  green;\n",
       "            font-weight:  700;\n",
       "        }</style><table id=\"T_867a78d8_ad19_11ea_9faa_9828a609cb2c\" ><thead>    <tr>        <th class=\"blank level0\" ></th>        <th class=\"col_heading level0 col0\" >Topic0</th>        <th class=\"col_heading level0 col1\" >Topic1</th>        <th class=\"col_heading level0 col2\" >Topic2</th>        <th class=\"col_heading level0 col3\" >Topic3</th>        <th class=\"col_heading level0 col4\" >Topic4</th>        <th class=\"col_heading level0 col5\" >dominant_topic</th>    </tr></thead><tbody>\n",
       "                <tr>\n",
       "                        <th id=\"T_867a78d8_ad19_11ea_9faa_9828a609cb2clevel0_row0\" class=\"row_heading level0 row0\" >Doc0</th>\n",
       "                        <td id=\"T_867a78d8_ad19_11ea_9faa_9828a609cb2crow0_col0\" class=\"data row0 col0\" >0.030000</td>\n",
       "                        <td id=\"T_867a78d8_ad19_11ea_9faa_9828a609cb2crow0_col1\" class=\"data row0 col1\" >0.030000</td>\n",
       "                        <td id=\"T_867a78d8_ad19_11ea_9faa_9828a609cb2crow0_col2\" class=\"data row0 col2\" >0.470000</td>\n",
       "                        <td id=\"T_867a78d8_ad19_11ea_9faa_9828a609cb2crow0_col3\" class=\"data row0 col3\" >0.030000</td>\n",
       "                        <td id=\"T_867a78d8_ad19_11ea_9faa_9828a609cb2crow0_col4\" class=\"data row0 col4\" >0.440000</td>\n",
       "                        <td id=\"T_867a78d8_ad19_11ea_9faa_9828a609cb2crow0_col5\" class=\"data row0 col5\" >2</td>\n",
       "            </tr>\n",
       "            <tr>\n",
       "                        <th id=\"T_867a78d8_ad19_11ea_9faa_9828a609cb2clevel0_row1\" class=\"row_heading level0 row1\" >Doc1</th>\n",
       "                        <td id=\"T_867a78d8_ad19_11ea_9faa_9828a609cb2crow1_col0\" class=\"data row1 col0\" >0.010000</td>\n",
       "                        <td id=\"T_867a78d8_ad19_11ea_9faa_9828a609cb2crow1_col1\" class=\"data row1 col1\" >0.010000</td>\n",
       "                        <td id=\"T_867a78d8_ad19_11ea_9faa_9828a609cb2crow1_col2\" class=\"data row1 col2\" >0.010000</td>\n",
       "                        <td id=\"T_867a78d8_ad19_11ea_9faa_9828a609cb2crow1_col3\" class=\"data row1 col3\" >0.950000</td>\n",
       "                        <td id=\"T_867a78d8_ad19_11ea_9faa_9828a609cb2crow1_col4\" class=\"data row1 col4\" >0.010000</td>\n",
       "                        <td id=\"T_867a78d8_ad19_11ea_9faa_9828a609cb2crow1_col5\" class=\"data row1 col5\" >3</td>\n",
       "            </tr>\n",
       "            <tr>\n",
       "                        <th id=\"T_867a78d8_ad19_11ea_9faa_9828a609cb2clevel0_row2\" class=\"row_heading level0 row2\" >Doc2</th>\n",
       "                        <td id=\"T_867a78d8_ad19_11ea_9faa_9828a609cb2crow2_col0\" class=\"data row2 col0\" >0.020000</td>\n",
       "                        <td id=\"T_867a78d8_ad19_11ea_9faa_9828a609cb2crow2_col1\" class=\"data row2 col1\" >0.310000</td>\n",
       "                        <td id=\"T_867a78d8_ad19_11ea_9faa_9828a609cb2crow2_col2\" class=\"data row2 col2\" >0.020000</td>\n",
       "                        <td id=\"T_867a78d8_ad19_11ea_9faa_9828a609cb2crow2_col3\" class=\"data row2 col3\" >0.620000</td>\n",
       "                        <td id=\"T_867a78d8_ad19_11ea_9faa_9828a609cb2crow2_col4\" class=\"data row2 col4\" >0.020000</td>\n",
       "                        <td id=\"T_867a78d8_ad19_11ea_9faa_9828a609cb2crow2_col5\" class=\"data row2 col5\" >3</td>\n",
       "            </tr>\n",
       "            <tr>\n",
       "                        <th id=\"T_867a78d8_ad19_11ea_9faa_9828a609cb2clevel0_row3\" class=\"row_heading level0 row3\" >Doc3</th>\n",
       "                        <td id=\"T_867a78d8_ad19_11ea_9faa_9828a609cb2crow3_col0\" class=\"data row3 col0\" >0.200000</td>\n",
       "                        <td id=\"T_867a78d8_ad19_11ea_9faa_9828a609cb2crow3_col1\" class=\"data row3 col1\" >0.020000</td>\n",
       "                        <td id=\"T_867a78d8_ad19_11ea_9faa_9828a609cb2crow3_col2\" class=\"data row3 col2\" >0.020000</td>\n",
       "                        <td id=\"T_867a78d8_ad19_11ea_9faa_9828a609cb2crow3_col3\" class=\"data row3 col3\" >0.020000</td>\n",
       "                        <td id=\"T_867a78d8_ad19_11ea_9faa_9828a609cb2crow3_col4\" class=\"data row3 col4\" >0.750000</td>\n",
       "                        <td id=\"T_867a78d8_ad19_11ea_9faa_9828a609cb2crow3_col5\" class=\"data row3 col5\" >4</td>\n",
       "            </tr>\n",
       "            <tr>\n",
       "                        <th id=\"T_867a78d8_ad19_11ea_9faa_9828a609cb2clevel0_row4\" class=\"row_heading level0 row4\" >Doc4</th>\n",
       "                        <td id=\"T_867a78d8_ad19_11ea_9faa_9828a609cb2crow4_col0\" class=\"data row4 col0\" >0.020000</td>\n",
       "                        <td id=\"T_867a78d8_ad19_11ea_9faa_9828a609cb2crow4_col1\" class=\"data row4 col1\" >0.370000</td>\n",
       "                        <td id=\"T_867a78d8_ad19_11ea_9faa_9828a609cb2crow4_col2\" class=\"data row4 col2\" >0.580000</td>\n",
       "                        <td id=\"T_867a78d8_ad19_11ea_9faa_9828a609cb2crow4_col3\" class=\"data row4 col3\" >0.020000</td>\n",
       "                        <td id=\"T_867a78d8_ad19_11ea_9faa_9828a609cb2crow4_col4\" class=\"data row4 col4\" >0.020000</td>\n",
       "                        <td id=\"T_867a78d8_ad19_11ea_9faa_9828a609cb2crow4_col5\" class=\"data row4 col5\" >2</td>\n",
       "            </tr>\n",
       "            <tr>\n",
       "                        <th id=\"T_867a78d8_ad19_11ea_9faa_9828a609cb2clevel0_row5\" class=\"row_heading level0 row5\" >Doc5</th>\n",
       "                        <td id=\"T_867a78d8_ad19_11ea_9faa_9828a609cb2crow5_col0\" class=\"data row5 col0\" >0.020000</td>\n",
       "                        <td id=\"T_867a78d8_ad19_11ea_9faa_9828a609cb2crow5_col1\" class=\"data row5 col1\" >0.240000</td>\n",
       "                        <td id=\"T_867a78d8_ad19_11ea_9faa_9828a609cb2crow5_col2\" class=\"data row5 col2\" >0.020000</td>\n",
       "                        <td id=\"T_867a78d8_ad19_11ea_9faa_9828a609cb2crow5_col3\" class=\"data row5 col3\" >0.710000</td>\n",
       "                        <td id=\"T_867a78d8_ad19_11ea_9faa_9828a609cb2crow5_col4\" class=\"data row5 col4\" >0.020000</td>\n",
       "                        <td id=\"T_867a78d8_ad19_11ea_9faa_9828a609cb2crow5_col5\" class=\"data row5 col5\" >3</td>\n",
       "            </tr>\n",
       "            <tr>\n",
       "                        <th id=\"T_867a78d8_ad19_11ea_9faa_9828a609cb2clevel0_row6\" class=\"row_heading level0 row6\" >Doc6</th>\n",
       "                        <td id=\"T_867a78d8_ad19_11ea_9faa_9828a609cb2crow6_col0\" class=\"data row6 col0\" >0.040000</td>\n",
       "                        <td id=\"T_867a78d8_ad19_11ea_9faa_9828a609cb2crow6_col1\" class=\"data row6 col1\" >0.040000</td>\n",
       "                        <td id=\"T_867a78d8_ad19_11ea_9faa_9828a609cb2crow6_col2\" class=\"data row6 col2\" >0.840000</td>\n",
       "                        <td id=\"T_867a78d8_ad19_11ea_9faa_9828a609cb2crow6_col3\" class=\"data row6 col3\" >0.040000</td>\n",
       "                        <td id=\"T_867a78d8_ad19_11ea_9faa_9828a609cb2crow6_col4\" class=\"data row6 col4\" >0.040000</td>\n",
       "                        <td id=\"T_867a78d8_ad19_11ea_9faa_9828a609cb2crow6_col5\" class=\"data row6 col5\" >2</td>\n",
       "            </tr>\n",
       "            <tr>\n",
       "                        <th id=\"T_867a78d8_ad19_11ea_9faa_9828a609cb2clevel0_row7\" class=\"row_heading level0 row7\" >Doc7</th>\n",
       "                        <td id=\"T_867a78d8_ad19_11ea_9faa_9828a609cb2crow7_col0\" class=\"data row7 col0\" >0.010000</td>\n",
       "                        <td id=\"T_867a78d8_ad19_11ea_9faa_9828a609cb2crow7_col1\" class=\"data row7 col1\" >0.150000</td>\n",
       "                        <td id=\"T_867a78d8_ad19_11ea_9faa_9828a609cb2crow7_col2\" class=\"data row7 col2\" >0.270000</td>\n",
       "                        <td id=\"T_867a78d8_ad19_11ea_9faa_9828a609cb2crow7_col3\" class=\"data row7 col3\" >0.270000</td>\n",
       "                        <td id=\"T_867a78d8_ad19_11ea_9faa_9828a609cb2crow7_col4\" class=\"data row7 col4\" >0.300000</td>\n",
       "                        <td id=\"T_867a78d8_ad19_11ea_9faa_9828a609cb2crow7_col5\" class=\"data row7 col5\" >4</td>\n",
       "            </tr>\n",
       "            <tr>\n",
       "                        <th id=\"T_867a78d8_ad19_11ea_9faa_9828a609cb2clevel0_row8\" class=\"row_heading level0 row8\" >Doc8</th>\n",
       "                        <td id=\"T_867a78d8_ad19_11ea_9faa_9828a609cb2crow8_col0\" class=\"data row8 col0\" >0.100000</td>\n",
       "                        <td id=\"T_867a78d8_ad19_11ea_9faa_9828a609cb2crow8_col1\" class=\"data row8 col1\" >0.100000</td>\n",
       "                        <td id=\"T_867a78d8_ad19_11ea_9faa_9828a609cb2crow8_col2\" class=\"data row8 col2\" >0.100000</td>\n",
       "                        <td id=\"T_867a78d8_ad19_11ea_9faa_9828a609cb2crow8_col3\" class=\"data row8 col3\" >0.600000</td>\n",
       "                        <td id=\"T_867a78d8_ad19_11ea_9faa_9828a609cb2crow8_col4\" class=\"data row8 col4\" >0.100000</td>\n",
       "                        <td id=\"T_867a78d8_ad19_11ea_9faa_9828a609cb2crow8_col5\" class=\"data row8 col5\" >3</td>\n",
       "            </tr>\n",
       "            <tr>\n",
       "                        <th id=\"T_867a78d8_ad19_11ea_9faa_9828a609cb2clevel0_row9\" class=\"row_heading level0 row9\" >Doc9</th>\n",
       "                        <td id=\"T_867a78d8_ad19_11ea_9faa_9828a609cb2crow9_col0\" class=\"data row9 col0\" >0.100000</td>\n",
       "                        <td id=\"T_867a78d8_ad19_11ea_9faa_9828a609cb2crow9_col1\" class=\"data row9 col1\" >0.100000</td>\n",
       "                        <td id=\"T_867a78d8_ad19_11ea_9faa_9828a609cb2crow9_col2\" class=\"data row9 col2\" >0.100000</td>\n",
       "                        <td id=\"T_867a78d8_ad19_11ea_9faa_9828a609cb2crow9_col3\" class=\"data row9 col3\" >0.600000</td>\n",
       "                        <td id=\"T_867a78d8_ad19_11ea_9faa_9828a609cb2crow9_col4\" class=\"data row9 col4\" >0.100000</td>\n",
       "                        <td id=\"T_867a78d8_ad19_11ea_9faa_9828a609cb2crow9_col5\" class=\"data row9 col5\" >3</td>\n",
       "            </tr>\n",
       "            <tr>\n",
       "                        <th id=\"T_867a78d8_ad19_11ea_9faa_9828a609cb2clevel0_row10\" class=\"row_heading level0 row10\" >Doc10</th>\n",
       "                        <td id=\"T_867a78d8_ad19_11ea_9faa_9828a609cb2crow10_col0\" class=\"data row10 col0\" >0.020000</td>\n",
       "                        <td id=\"T_867a78d8_ad19_11ea_9faa_9828a609cb2crow10_col1\" class=\"data row10 col1\" >0.470000</td>\n",
       "                        <td id=\"T_867a78d8_ad19_11ea_9faa_9828a609cb2crow10_col2\" class=\"data row10 col2\" >0.470000</td>\n",
       "                        <td id=\"T_867a78d8_ad19_11ea_9faa_9828a609cb2crow10_col3\" class=\"data row10 col3\" >0.020000</td>\n",
       "                        <td id=\"T_867a78d8_ad19_11ea_9faa_9828a609cb2crow10_col4\" class=\"data row10 col4\" >0.020000</td>\n",
       "                        <td id=\"T_867a78d8_ad19_11ea_9faa_9828a609cb2crow10_col5\" class=\"data row10 col5\" >1</td>\n",
       "            </tr>\n",
       "            <tr>\n",
       "                        <th id=\"T_867a78d8_ad19_11ea_9faa_9828a609cb2clevel0_row11\" class=\"row_heading level0 row11\" >Doc11</th>\n",
       "                        <td id=\"T_867a78d8_ad19_11ea_9faa_9828a609cb2crow11_col0\" class=\"data row11 col0\" >0.100000</td>\n",
       "                        <td id=\"T_867a78d8_ad19_11ea_9faa_9828a609cb2crow11_col1\" class=\"data row11 col1\" >0.100000</td>\n",
       "                        <td id=\"T_867a78d8_ad19_11ea_9faa_9828a609cb2crow11_col2\" class=\"data row11 col2\" >0.600000</td>\n",
       "                        <td id=\"T_867a78d8_ad19_11ea_9faa_9828a609cb2crow11_col3\" class=\"data row11 col3\" >0.100000</td>\n",
       "                        <td id=\"T_867a78d8_ad19_11ea_9faa_9828a609cb2crow11_col4\" class=\"data row11 col4\" >0.100000</td>\n",
       "                        <td id=\"T_867a78d8_ad19_11ea_9faa_9828a609cb2crow11_col5\" class=\"data row11 col5\" >2</td>\n",
       "            </tr>\n",
       "            <tr>\n",
       "                        <th id=\"T_867a78d8_ad19_11ea_9faa_9828a609cb2clevel0_row12\" class=\"row_heading level0 row12\" >Doc12</th>\n",
       "                        <td id=\"T_867a78d8_ad19_11ea_9faa_9828a609cb2crow12_col0\" class=\"data row12 col0\" >0.020000</td>\n",
       "                        <td id=\"T_867a78d8_ad19_11ea_9faa_9828a609cb2crow12_col1\" class=\"data row12 col1\" >0.020000</td>\n",
       "                        <td id=\"T_867a78d8_ad19_11ea_9faa_9828a609cb2crow12_col2\" class=\"data row12 col2\" >0.020000</td>\n",
       "                        <td id=\"T_867a78d8_ad19_11ea_9faa_9828a609cb2crow12_col3\" class=\"data row12 col3\" >0.910000</td>\n",
       "                        <td id=\"T_867a78d8_ad19_11ea_9faa_9828a609cb2crow12_col4\" class=\"data row12 col4\" >0.020000</td>\n",
       "                        <td id=\"T_867a78d8_ad19_11ea_9faa_9828a609cb2crow12_col5\" class=\"data row12 col5\" >3</td>\n",
       "            </tr>\n",
       "            <tr>\n",
       "                        <th id=\"T_867a78d8_ad19_11ea_9faa_9828a609cb2clevel0_row13\" class=\"row_heading level0 row13\" >Doc13</th>\n",
       "                        <td id=\"T_867a78d8_ad19_11ea_9faa_9828a609cb2crow13_col0\" class=\"data row13 col0\" >0.440000</td>\n",
       "                        <td id=\"T_867a78d8_ad19_11ea_9faa_9828a609cb2crow13_col1\" class=\"data row13 col1\" >0.040000</td>\n",
       "                        <td id=\"T_867a78d8_ad19_11ea_9faa_9828a609cb2crow13_col2\" class=\"data row13 col2\" >0.440000</td>\n",
       "                        <td id=\"T_867a78d8_ad19_11ea_9faa_9828a609cb2crow13_col3\" class=\"data row13 col3\" >0.040000</td>\n",
       "                        <td id=\"T_867a78d8_ad19_11ea_9faa_9828a609cb2crow13_col4\" class=\"data row13 col4\" >0.040000</td>\n",
       "                        <td id=\"T_867a78d8_ad19_11ea_9faa_9828a609cb2crow13_col5\" class=\"data row13 col5\" >0</td>\n",
       "            </tr>\n",
       "            <tr>\n",
       "                        <th id=\"T_867a78d8_ad19_11ea_9faa_9828a609cb2clevel0_row14\" class=\"row_heading level0 row14\" >Doc14</th>\n",
       "                        <td id=\"T_867a78d8_ad19_11ea_9faa_9828a609cb2crow14_col0\" class=\"data row14 col0\" >0.440000</td>\n",
       "                        <td id=\"T_867a78d8_ad19_11ea_9faa_9828a609cb2crow14_col1\" class=\"data row14 col1\" >0.020000</td>\n",
       "                        <td id=\"T_867a78d8_ad19_11ea_9faa_9828a609cb2crow14_col2\" class=\"data row14 col2\" >0.020000</td>\n",
       "                        <td id=\"T_867a78d8_ad19_11ea_9faa_9828a609cb2crow14_col3\" class=\"data row14 col3\" >0.510000</td>\n",
       "                        <td id=\"T_867a78d8_ad19_11ea_9faa_9828a609cb2crow14_col4\" class=\"data row14 col4\" >0.020000</td>\n",
       "                        <td id=\"T_867a78d8_ad19_11ea_9faa_9828a609cb2crow14_col5\" class=\"data row14 col5\" >3</td>\n",
       "            </tr>\n",
       "    </tbody></table>"
      ],
      "text/plain": [
       "<pandas.io.formats.style.Styler at 0x1f2608f8948>"
      ]
     },
     "execution_count": 20,
     "metadata": {},
     "output_type": "execute_result"
    }
   ],
   "source": [
    "# Create Document - Topic Matrix\n",
    "lda_output = best_lda_model.transform(data_vectorized)\n",
    "\n",
    "# column names\n",
    "topicnames = [\"Topic\" + str(i) for i in range(best_lda_model.n_components)]\n",
    "\n",
    "# index names\n",
    "docnames = [\"Doc\" + str(i) for i in range(len(data))]\n",
    "\n",
    "# Make the pandas dataframe\n",
    "df_document_topic = pd.DataFrame(np.round(lda_output, 2), columns=topicnames, index=docnames)\n",
    "\n",
    "# Get dominant topic for each document\n",
    "dominant_topic = np.argmax(df_document_topic.values, axis=1)\n",
    "df_document_topic['dominant_topic'] = dominant_topic\n",
    "\n",
    "# Styling\n",
    "def color_green(val):\n",
    "    color = 'green' if val > .1 else 'black'\n",
    "    return 'color: {col}'.format(col=color)\n",
    "\n",
    "def make_bold(val):\n",
    "    weight = 700 if val > .1 else 400\n",
    "    return 'font-weight: {weight}'.format(weight=weight)\n",
    "\n",
    "# Apply Style\n",
    "df_document_topics = df_document_topic.head(15).style.applymap(color_green).applymap(make_bold)\n",
    "df_document_topics"
   ]
  },
  {
   "cell_type": "markdown",
   "metadata": {},
   "source": [
    "### 13. Review topics distribution across documents"
   ]
  },
  {
   "cell_type": "code",
   "execution_count": 21,
   "metadata": {},
   "outputs": [
    {
     "data": {
      "text/html": [
       "<div>\n",
       "<style scoped>\n",
       "    .dataframe tbody tr th:only-of-type {\n",
       "        vertical-align: middle;\n",
       "    }\n",
       "\n",
       "    .dataframe tbody tr th {\n",
       "        vertical-align: top;\n",
       "    }\n",
       "\n",
       "    .dataframe thead th {\n",
       "        text-align: right;\n",
       "    }\n",
       "</style>\n",
       "<table border=\"1\" class=\"dataframe\">\n",
       "  <thead>\n",
       "    <tr style=\"text-align: right;\">\n",
       "      <th></th>\n",
       "      <th>Topic Num</th>\n",
       "      <th>Num Documents</th>\n",
       "    </tr>\n",
       "  </thead>\n",
       "  <tbody>\n",
       "    <tr>\n",
       "      <th>0</th>\n",
       "      <td>3</td>\n",
       "      <td>116</td>\n",
       "    </tr>\n",
       "    <tr>\n",
       "      <th>1</th>\n",
       "      <td>1</td>\n",
       "      <td>113</td>\n",
       "    </tr>\n",
       "    <tr>\n",
       "      <th>2</th>\n",
       "      <td>0</td>\n",
       "      <td>69</td>\n",
       "    </tr>\n",
       "    <tr>\n",
       "      <th>3</th>\n",
       "      <td>4</td>\n",
       "      <td>63</td>\n",
       "    </tr>\n",
       "    <tr>\n",
       "      <th>4</th>\n",
       "      <td>2</td>\n",
       "      <td>55</td>\n",
       "    </tr>\n",
       "  </tbody>\n",
       "</table>\n",
       "</div>"
      ],
      "text/plain": [
       "   Topic Num  Num Documents\n",
       "0          3            116\n",
       "1          1            113\n",
       "2          0             69\n",
       "3          4             63\n",
       "4          2             55"
      ]
     },
     "execution_count": 21,
     "metadata": {},
     "output_type": "execute_result"
    }
   ],
   "source": [
    "df_topic_distribution = df_document_topic['dominant_topic'].value_counts().reset_index(name=\"Num Documents\")\n",
    "df_topic_distribution.columns = ['Topic Num', 'Num Documents']\n",
    "df_topic_distribution"
   ]
  },
  {
   "cell_type": "markdown",
   "metadata": {},
   "source": [
    "### 14. How to visualize the LDA model with pyLDAvis?"
   ]
  },
  {
   "cell_type": "code",
   "execution_count": 22,
   "metadata": {},
   "outputs": [
    {
     "data": {
      "text/html": [
       "\n",
       "<link rel=\"stylesheet\" type=\"text/css\" href=\"https://cdn.rawgit.com/bmabey/pyLDAvis/files/ldavis.v1.0.0.css\">\n",
       "\n",
       "\n",
       "<div id=\"ldavis_el1051221407577805527837321398\"></div>\n",
       "<script type=\"text/javascript\">\n",
       "\n",
       "var ldavis_el1051221407577805527837321398_data = {\"mdsDat\": {\"x\": [150.22215270996094, 51.16336441040039, -73.1445541381836, -66.4101333618164, 54.41732406616211], \"y\": [-72.2695541381836, -159.968017578125, 21.523815155029297, -110.60643768310547, 12.44344425201416], \"topics\": [1, 2, 3, 4, 5], \"cluster\": [1, 1, 1, 1, 1], \"Freq\": [27.245804861354696, 22.726022850933028, 19.786047430226738, 17.108618530269727, 13.13350632721581]}, \"tinfo\": {\"Term\": [\"disp\", \"remplazar\", \"equipar\", \"cambiar\", \"dispensador\", \"surtidor\", \"fugar\", \"fallo\", \"opw\", \"gas\", \"detector\", \"mantencion\", \"preventivo\", \"valvula\", \"pistola\", \"tapar\", \"venta\", \"equipo\", \"boca\", \"spill\", \"cliente\", \"descargar\", \"calibrar\", \"breckawey\", \"detectar\", \"lado\", \"accesorio\", \"conv\", \"producto\", \"interior\", \"detectar\", \"atender\", \"incidencia\", \"describir\", \"eds\", \"preset\", \"filtracion\", \"normalmente\", \"producto\", \"dispensador\", \"filtrar\", \"rotar\", \"dejar\", \"venta\", \"operar\", \"normal\", \"reset\", \"manguera\", \"lado\", \"gas\", \"operativo\", \"fallo\", \"bodega\", \"pistola\", \"boca\", \"diesel\", \"cambiar\", \"reponer\", \"encargar\", \"swivel\", \"mantencion\", \"preventivo\", \"tapar\", \"equipo\", \"spill\", \"descargar\", \"calibrar\", \"interior\", \"matraz\", \"volumetrica\", \"limpiar\", \"verificacion\", \"probar\", \"pintar\", \"boca\", \"accesorio\", \"operativo\", \"lado\", \"kerosene\", \"diesel\", \"dejar\", \"rotar\", \"dispensador\", \"operar\", \"normal\", \"producto\", \"surtidor\", \"cambiar\", \"detectandose\", \"mal\", \"filtro\", \"bodega\", \"gas\", \"disp\", \"remplazar\", \"opw\", \"breckawey\", \"encargar\", \"pistola\", \"hose\", \"swivel\", \"reparacion\", \"manguera\", \"reponer\", \"encore\", \"fallo\", \"lado\", \"kerosene\", \"detectandose\", \"mal\", \"tablero\", \"reset\", \"filtro\", \"dejar\", \"breackaway\", \"pintar\", \"normalmente\", \"revison\", \"filtrar\", \"filtracion\", \"conv\", \"cortar\", \"probar\", \"bodega\", \"rotar\", \"accesorio\", \"cliente\", \"surtidor\", \"tapar\", \"gas\", \"spill\", \"boca\", \"fugar\", \"detector\", \"valvula\", \"cortar\", \"mal\", \"tablero\", \"detectandose\", \"encore\", \"reparacion\", \"bodega\", \"gas\", \"fallo\", \"reponer\", \"cambiar\", \"diesel\", \"hose\", \"operar\", \"normal\", \"normalmente\", \"producto\", \"swivel\", \"reset\", \"dejar\", \"filtro\", \"breackaway\", \"pintar\", \"kerosene\", \"filtrar\", \"revison\", \"encargar\", \"filtracion\", \"verificacion\", \"volumetrica\", \"rotar\", \"atender\", \"tapar\", \"spill\", \"accesorio\", \"equipar\", \"cliente\", \"conv\", \"revison\", \"breackaway\", \"filtro\", \"surtidor\", \"kerosene\", \"reset\", \"accesorio\", \"swivel\", \"venta\", \"cambiar\", \"manguera\", \"hose\", \"filtrar\", \"normal\", \"pistola\", \"detectandose\", \"mal\", \"tablero\", \"dejar\", \"reparacion\", \"pintar\", \"normalmente\", \"encargar\", \"filtracion\", \"cortar\", \"probar\", \"preset\", \"incidencia\", \"encore\", \"bodega\", \"lado\", \"fallo\", \"boca\", \"operativo\"], \"Freq\": [246.0, 171.0, 116.0, 235.0, 160.0, 68.0, 69.0, 182.0, 68.0, 111.0, 60.0, 67.0, 66.0, 52.0, 142.0, 59.0, 86.0, 55.0, 94.0, 52.0, 36.0, 49.0, 44.0, 38.0, 43.0, 86.0, 49.0, 25.0, 65.0, 33.0, 42.25396316588046, 32.692764303540145, 26.002277887501954, 25.046823070389056, 25.046180499013868, 25.045667876777802, 23.12818473790142, 19.198931349865433, 55.683591916985065, 134.48191471143036, 18.2339738346543, 23.01391469754858, 13.65548091902859, 59.18742115128047, 24.45426283660085, 25.266179672453234, 9.920903207815584, 40.98358028509375, 39.4245140274527, 47.87233858550714, 17.254154384587927, 71.75184419098852, 11.254716940709143, 47.805160420706315, 30.844710326700636, 19.004879336374024, 70.05734029802296, 10.895203600738379, 6.11681390362686, 3.536590409174264, 66.74839501093933, 65.74096797342996, 58.64121729344534, 54.64473265525662, 51.62131730888297, 48.59923915430281, 43.55726847031046, 32.46100415521348, 30.450430662298594, 28.430413452710457, 26.416171262984992, 26.410612640609713, 24.400487329270035, 20.36713917180703, 62.64790700594692, 32.306556734668014, 23.543737474083553, 44.13666562015201, 9.586655784778044, 19.813056822133365, 5.1387186786106795, 6.374276565894528, 24.93365893758055, 4.6637373637917205, 4.71432022673232, 5.120071721714873, 2.8750251194151453, 7.267578934335338, 0.20168058398760155, 0.2018647532534542, 0.20507059874773487, 0.20446255394343868, 0.20549735151135692, 245.87655038600946, 170.9752903905582, 68.10809507989002, 38.1492768424541, 15.974739526918357, 77.21591732365538, 14.74806872007171, 11.823019479358127, 6.755928465223212, 27.00161347803701, 8.85352422804775, 8.177755593810478, 23.720974233077065, 2.5798503053277466, 0.5128802571191653, 0.19976147220458673, 0.1997586823176814, 0.19975108416463955, 0.1997526408756429, 0.2084593714425349, 0.2009206504843589, 0.19974523956026874, 0.20024586200990138, 0.19974206127025657, 0.19974636786686567, 0.20152027014816956, 0.2020796107104951, 0.20221798600507698, 0.20097639591423044, 0.199739330833697, 0.20214482599164973, 0.20231727427097537, 0.20293755012858403, 0.20095050117773963, 0.20117077000868905, 0.2007169237497516, 0.20070700884355502, 0.2006241450189254, 0.200608460200841, 68.9319413777576, 59.83553039512175, 51.74836950130113, 24.456649454530893, 12.330431582155112, 13.11273911597939, 10.27052072351192, 27.499785387803733, 13.772986719290818, 16.79971653509241, 62.98974945542283, 86.71402927197825, 17.524011049288273, 101.99992400022849, 24.328854859175177, 8.279556728132395, 9.49567004279168, 5.160346907763174, 2.341777760988374, 4.3209219296084775, 0.7006317233338346, 0.2042940403166264, 0.21874119570048764, 0.20342392114233973, 0.20234116999597915, 0.2021520519381371, 0.20250266993005925, 0.2069771702987871, 0.20314103408492168, 0.20363867362444202, 0.207161267117911, 0.20660332900463643, 0.20507881924887597, 0.20514989003199607, 0.20462098834100895, 0.20523158032236224, 0.20477702879581983, 0.20465915125147774, 115.26738691075847, 35.737123826444666, 24.511149812601342, 21.705460248808865, 19.835228225837252, 18.881828852318673, 65.06723031505733, 11.768068152587047, 6.568661501505792, 16.235586045217197, 8.016251969415933, 26.654451799977288, 55.5737679390383, 17.48836593911914, 5.277547199747044, 4.041943531613144, 6.166303213567318, 17.10104213397793, 0.22265302019249947, 0.18715347276432887, 0.19539945335090533, 0.18928006853934173, 0.19401354391926606, 0.18712814739362338, 0.1878402438457788, 0.19061492837394495, 0.187420911549599, 0.1881171832140235, 0.1872753016936527, 0.18824660659211137, 0.1883460739698769, 0.1895186662306916, 0.18839037171447742, 0.1899065328512656, 0.18979639256346248, 0.18871894622934052, 0.18834909014172693], \"Total\": [246.0, 171.0, 116.0, 235.0, 160.0, 68.0, 69.0, 182.0, 68.0, 111.0, 60.0, 67.0, 66.0, 52.0, 142.0, 59.0, 86.0, 55.0, 94.0, 52.0, 36.0, 49.0, 44.0, 38.0, 43.0, 86.0, 49.0, 25.0, 65.0, 33.0, 43.04679023639811, 33.486717097650995, 26.794397613899132, 25.838400045088484, 25.838466221962218, 25.838419986375317, 23.92672971186462, 22.130173254544065, 65.51327207413894, 160.0075842067149, 22.886710660096266, 29.982792339537955, 19.40314151236346, 86.44704167130499, 39.001246940315205, 41.506900067254044, 17.0952840365191, 85.8799694604115, 86.53537436330895, 111.45633546935193, 41.38898812453704, 182.57924519581948, 28.649431227451117, 142.52702073147086, 94.08563973035518, 63.53444757681276, 235.09863892792677, 37.66241582435886, 22.688404144679435, 24.279466247108047, 67.52962373488928, 66.52135683389913, 59.46129704228872, 55.42989523509733, 52.40515902023039, 49.38024856560426, 44.338737182370565, 33.24721963245918, 31.23086118409908, 29.214245416594107, 27.197635523637878, 27.197562637702948, 25.181056219862633, 21.147869989917922, 94.08563973035518, 49.142065674639696, 41.38898812453704, 86.53537436330895, 22.26198287047861, 63.53444757681276, 19.40314151236346, 29.982792339537955, 160.0075842067149, 39.001246940315205, 41.506900067254044, 65.51327207413894, 68.54041455435895, 235.09863892792677, 11.086519439594227, 13.11088853709969, 19.695550636758416, 28.649431227451117, 111.45633546935193, 246.6601005374455, 171.75818433278144, 68.89292330042184, 38.93212943311674, 22.688404144679435, 142.52702073147086, 28.698541677496358, 24.279466247108047, 21.11717605367237, 85.8799694604115, 37.66241582435886, 36.26163442179255, 182.57924519581948, 86.53537436330895, 22.26198287047861, 11.086519439594227, 13.11088853709969, 14.109081154092827, 17.0952840365191, 19.695550636758416, 19.40314151236346, 20.630189089676833, 21.147869989917922, 22.130173254544065, 22.50152430495532, 22.886710660096266, 23.92672971186462, 25.30850484610541, 25.239795615956876, 25.181056219862633, 28.649431227451117, 29.982792339537955, 49.142065674639696, 36.536144897874735, 68.54041455435895, 59.46129704228872, 111.45633546935193, 52.40515902023039, 94.08563973035518, 69.71303458972957, 60.61626392045701, 52.53019926121891, 25.239795615956876, 13.11088853709969, 14.109081154092827, 11.086519439594227, 36.26163442179255, 21.11717605367237, 28.649431227451117, 111.45633546935193, 182.57924519581948, 37.66241582435886, 235.09863892792677, 63.53444757681276, 28.698541677496358, 39.001246940315205, 41.506900067254044, 22.130173254544065, 65.51327207413894, 24.279466247108047, 17.0952840365191, 19.40314151236346, 19.695550636758416, 20.630189089676833, 21.147869989917922, 22.26198287047861, 22.886710660096266, 22.50152430495532, 22.688404144679435, 23.92672971186462, 27.197562637702948, 29.214245416594107, 29.982792339537955, 33.486717097650995, 59.46129704228872, 52.40515902023039, 49.142065674639696, 116.06493793200279, 36.536144897874735, 25.30850484610541, 22.50152430495532, 20.630189089676833, 19.695550636758416, 68.54041455435895, 22.26198287047861, 17.0952840365191, 49.142065674639696, 24.279466247108047, 86.44704167130499, 235.09863892792677, 85.8799694604115, 28.698541677496358, 22.886710660096266, 41.506900067254044, 142.52702073147086, 11.086519439594227, 13.11088853709969, 14.109081154092827, 19.40314151236346, 21.11717605367237, 21.147869989917922, 22.130173254544065, 22.688404144679435, 23.92672971186462, 25.239795615956876, 25.181056219862633, 25.838419986375317, 26.794397613899132, 36.26163442179255, 28.649431227451117, 86.53537436330895, 182.57924519581948, 94.08563973035518, 41.38898812453704], \"Category\": [\"Default\", \"Default\", \"Default\", \"Default\", \"Default\", \"Default\", \"Default\", \"Default\", \"Default\", \"Default\", \"Default\", \"Default\", \"Default\", \"Default\", \"Default\", \"Default\", \"Default\", \"Default\", \"Default\", \"Default\", \"Default\", \"Default\", \"Default\", \"Default\", \"Default\", \"Default\", \"Default\", \"Default\", \"Default\", \"Default\", \"Topic1\", \"Topic1\", \"Topic1\", \"Topic1\", \"Topic1\", \"Topic1\", \"Topic1\", \"Topic1\", \"Topic1\", \"Topic1\", \"Topic1\", \"Topic1\", \"Topic1\", \"Topic1\", \"Topic1\", \"Topic1\", \"Topic1\", \"Topic1\", \"Topic1\", \"Topic1\", \"Topic1\", \"Topic1\", \"Topic1\", \"Topic1\", \"Topic1\", \"Topic1\", \"Topic1\", \"Topic1\", \"Topic1\", \"Topic1\", \"Topic2\", \"Topic2\", \"Topic2\", \"Topic2\", \"Topic2\", \"Topic2\", \"Topic2\", \"Topic2\", \"Topic2\", \"Topic2\", \"Topic2\", \"Topic2\", \"Topic2\", \"Topic2\", \"Topic2\", \"Topic2\", \"Topic2\", \"Topic2\", \"Topic2\", \"Topic2\", \"Topic2\", \"Topic2\", \"Topic2\", \"Topic2\", \"Topic2\", \"Topic2\", \"Topic2\", \"Topic2\", \"Topic2\", \"Topic2\", \"Topic2\", \"Topic2\", \"Topic2\", \"Topic3\", \"Topic3\", \"Topic3\", \"Topic3\", \"Topic3\", \"Topic3\", \"Topic3\", \"Topic3\", \"Topic3\", \"Topic3\", \"Topic3\", \"Topic3\", \"Topic3\", \"Topic3\", \"Topic3\", \"Topic3\", \"Topic3\", \"Topic3\", \"Topic3\", \"Topic3\", \"Topic3\", \"Topic3\", \"Topic3\", \"Topic3\", \"Topic3\", \"Topic3\", \"Topic3\", \"Topic3\", \"Topic3\", \"Topic3\", \"Topic3\", \"Topic3\", \"Topic3\", \"Topic3\", \"Topic3\", \"Topic3\", \"Topic3\", \"Topic3\", \"Topic3\", \"Topic4\", \"Topic4\", \"Topic4\", \"Topic4\", \"Topic4\", \"Topic4\", \"Topic4\", \"Topic4\", \"Topic4\", \"Topic4\", \"Topic4\", \"Topic4\", \"Topic4\", \"Topic4\", \"Topic4\", \"Topic4\", \"Topic4\", \"Topic4\", \"Topic4\", \"Topic4\", \"Topic4\", \"Topic4\", \"Topic4\", \"Topic4\", \"Topic4\", \"Topic4\", \"Topic4\", \"Topic4\", \"Topic4\", \"Topic4\", \"Topic4\", \"Topic4\", \"Topic4\", \"Topic4\", \"Topic4\", \"Topic4\", \"Topic4\", \"Topic4\", \"Topic5\", \"Topic5\", \"Topic5\", \"Topic5\", \"Topic5\", \"Topic5\", \"Topic5\", \"Topic5\", \"Topic5\", \"Topic5\", \"Topic5\", \"Topic5\", \"Topic5\", \"Topic5\", \"Topic5\", \"Topic5\", \"Topic5\", \"Topic5\", \"Topic5\", \"Topic5\", \"Topic5\", \"Topic5\", \"Topic5\", \"Topic5\", \"Topic5\", \"Topic5\", \"Topic5\", \"Topic5\", \"Topic5\", \"Topic5\", \"Topic5\", \"Topic5\", \"Topic5\", \"Topic5\", \"Topic5\", \"Topic5\", \"Topic5\"], \"logprob\": [30.0, 29.0, 28.0, 27.0, 26.0, 25.0, 24.0, 23.0, 22.0, 21.0, 20.0, 19.0, 18.0, 17.0, 16.0, 15.0, 14.0, 13.0, 12.0, 11.0, 10.0, 9.0, 8.0, 7.0, 6.0, 5.0, 4.0, 3.0, 2.0, 1.0, -3.1705, -3.427, -3.656, -3.6934, -3.6935, -3.6935, -3.7731, -3.9593, -2.8945, -2.0128, -4.0109, -3.7781, -4.3001, -2.8335, -3.7174, -3.6847, -4.6196, -3.201, -3.2398, -3.0457, -4.0661, -2.641, -4.4934, -3.0471, -3.4852, -3.9695, -2.6649, -4.5259, -5.1032, -5.651, -2.5319, -2.5471, -2.6614, -2.732, -2.7889, -2.8492, -2.9587, -3.2528, -3.3167, -3.3853, -3.4588, -3.459, -3.5382, -3.7189, -2.5953, -3.2575, -3.5739, -2.9455, -4.4724, -3.7465, -5.096, -4.8805, -3.5166, -5.193, -5.1822, -5.0996, -5.6767, -4.7494, -8.3339, -8.333, -8.3172, -8.3202, -8.3151, -1.0894, -1.4528, -2.3732, -2.9528, -3.8233, -2.2477, -3.9032, -4.1242, -4.6839, -3.2984, -4.4135, -4.4929, -3.4279, -5.6465, -7.262, -8.2049, -8.2049, -8.205, -8.2049, -8.1623, -8.1991, -8.205, -8.2025, -8.205, -8.205, -8.1961, -8.1934, -8.1927, -8.1988, -8.205, -8.193, -8.1922, -8.1891, -8.199, -8.1979, -8.2001, -8.2002, -8.2006, -8.2007, -2.2158, -2.3573, -2.5025, -3.252, -3.9368, -3.8753, -4.1196, -3.1347, -3.8262, -3.6275, -2.3059, -1.9863, -3.5853, -1.8239, -3.2572, -4.3351, -4.198, -4.8079, -5.598, -4.9854, -6.8047, -8.0371, -7.9687, -8.0413, -8.0467, -8.0476, -8.0459, -8.024, -8.0427, -8.0403, -8.0231, -8.0258, -8.0332, -8.0329, -8.0355, -8.0325, -8.0347, -8.0353, -1.4372, -2.6083, -2.9853, -3.1069, -3.197, -3.2463, -2.009, -3.7191, -4.3022, -3.3973, -4.103, -2.9015, -2.1668, -3.3229, -4.521, -4.7877, -4.3654, -3.3453, -7.6866, -7.8603, -7.8172, -7.849, -7.8243, -7.8604, -7.8566, -7.842, -7.8589, -7.8552, -7.8596, -7.8545, -7.8539, -7.8477, -7.8537, -7.8457, -7.8463, -7.852, -7.8539], \"loglift\": [30.0, 29.0, 28.0, 27.0, 26.0, 25.0, 24.0, 23.0, 22.0, 21.0, 20.0, 19.0, 18.0, 17.0, 16.0, 15.0, 14.0, 13.0, 12.0, 11.0, 10.0, 9.0, 8.0, 7.0, 6.0, 5.0, 4.0, 3.0, 2.0, 1.0, 1.2817, 1.2763, 1.2703, 1.2692, 1.2691, 1.2691, 1.2663, 1.1582, 1.1377, 1.1265, 1.073, 1.0357, 0.949, 0.9214, 0.8335, 0.8039, 0.7561, 0.5605, 0.5141, 0.4552, 0.4253, 0.3663, 0.3659, 0.2079, 0.185, 0.0934, 0.0896, 0.0599, -0.0105, -0.6262, 1.47, 1.4699, 1.4678, 1.4674, 1.4666, 1.4657, 1.4639, 1.4577, 1.4564, 1.4545, 1.4525, 1.4523, 1.4502, 1.444, 1.075, 1.0622, 0.9175, 0.8084, 0.6392, 0.3164, 0.153, -0.0667, -0.3773, -0.6421, -0.6936, -1.0674, -1.6897, -1.9949, -2.5251, -2.6919, -3.0831, -3.4608, -4.8143, 1.617, 1.6156, 1.6087, 1.5999, 1.2693, 1.0073, 0.9545, 0.9006, 0.4805, 0.4631, 0.1723, 0.1309, -0.4206, -1.8926, -2.1504, -2.3962, -2.5639, -2.6373, -2.8293, -2.9282, -2.9501, -3.0173, -3.0396, -3.0875, -3.1041, -3.1122, -3.1539, -3.2094, -3.2128, -3.2166, -3.3337, -3.3783, -3.8694, -3.5828, -4.2108, -4.071, -4.6993, -3.9451, -4.5304, 1.7543, 1.7526, 1.7506, 1.7341, 1.7042, 1.6924, 1.6891, 1.489, 1.3382, 1.2318, 1.1949, 1.021, 1.0005, 0.9306, 0.8057, 0.5225, 0.3528, -0.3193, -0.4804, -0.9532, -1.7798, -2.6614, -2.7197, -2.8073, -2.859, -2.8847, -2.9343, -2.9401, -2.9419, -2.9477, -2.9837, -3.1145, -3.1934, -3.2191, -3.3322, -3.9034, -3.7793, -3.7155, 2.0231, 2.0079, 1.998, 1.994, 1.9907, 1.9878, 1.978, 1.3925, 1.0735, 0.9225, 0.9218, 0.8534, 0.5877, 0.4386, 0.3366, 0.2962, 0.1232, -0.0904, -1.8779, -2.2193, -2.2495, -2.6, -2.6599, -2.6975, -2.7391, -2.7494, -2.8194, -2.8691, -2.8713, -2.8919, -2.9277, -3.224, -2.9944, -4.0918, -4.839, -4.1817, -3.3625]}, \"token.table\": {\"Topic\": [2, 5, 1, 1, 2, 1, 4, 5, 3, 2, 1, 2, 4, 5, 5, 5, 4, 1, 2, 2, 1, 4, 1, 4, 1, 2, 4, 3, 1, 2, 1, 1, 3, 3, 4, 5, 2, 1, 3, 4, 1, 1, 5, 5, 4, 1, 4, 3, 4, 5, 1, 2, 2, 3, 5, 1, 2, 3, 2, 4, 1, 3, 5, 2, 2, 1, 2, 4, 5, 1, 4, 1, 2, 4, 1, 2, 3, 2, 1, 3, 5, 1, 2, 2, 1, 2, 4, 3, 3, 4, 1, 3, 4, 1, 5, 5, 1, 2, 2, 2, 5, 1, 3, 4, 5, 4, 2, 4, 1, 5, 2, 2], \"Freq\": [0.6511732781414997, 0.32558663907074986, 0.9854653683658606, 0.3294870512529274, 0.6696027170624008, 0.3839517759591714, 0.5933800173914467, 0.9694530628421543, 0.9760575790050712, 0.992360242896019, 0.29774736391162016, 0.029774736391162016, 0.43386044455693223, 0.23819789112929612, 0.9853256302936898, 0.9878102302770807, 0.9508793321934405, 0.7215326441380309, 0.25769023004929675, 0.9922995817832087, 0.9675521687246323, 0.901996343801658, 0.9756825019786726, 0.9898333569144794, 0.2990503691250186, 0.3147898622368617, 0.37774783468423406, 0.9973238455023443, 0.8374603032996515, 0.1562425938991887, 0.9675496906527085, 0.26445227093713575, 0.7052060558323621, 0.220618847648857, 0.7445886108148925, 0.9908246370439048, 0.9922443433588681, 0.39434931348729546, 0.1314497711624318, 0.47650542046381533, 0.9612680160212166, 0.7864826128720888, 0.1747739139715753, 0.9646848849475532, 0.9897718612605824, 0.43066192511953666, 0.5652437767193919, 0.522674642097305, 0.2787598091185627, 0.17422488069910166, 0.9703521002656521, 0.9624864982321253, 0.4491962849033047, 0.044919628490330474, 0.5390355418839656, 0.45068274433369787, 0.5084625833508386, 0.03466790341028445, 0.9559654543279325, 0.9152697748931184, 0.47741050978016436, 0.31439228692840093, 0.1979506991771413, 0.9921571644324793, 0.9605883047270639, 0.6023094945537308, 0.12046189891074617, 0.12046189891074617, 0.14455427869289542, 0.8585563150120691, 0.09037434894863886, 0.6153649404268517, 0.12820102925559412, 0.2307618526600694, 0.4107372702335219, 0.5798643815061486, 0.9870389692054717, 0.9457217208889047, 0.3367782456523439, 0.5402484357339683, 0.11927562866853846, 0.9675514219980393, 0.992162564645202, 0.953097431277286, 0.8547886287320053, 0.07632041327964333, 0.06105633062371466, 0.9955857455309818, 0.33148371648787145, 0.6629674329757429, 0.2920683593771366, 0.2389650213085663, 0.4779300426171326, 0.5849566452735099, 0.40946965169145694, 0.9777115408645949, 0.7671066703707303, 0.20011478357497312, 0.9922687188092687, 0.04376979654274953, 0.9483455917595732, 0.16474826749852642, 0.4942448024955793, 0.041187066874631605, 0.32949653499705284, 0.9213923896262302, 0.9922420622281306, 0.9899067723200065, 0.6824987745021275, 0.31232994765351596, 0.955968016191171, 0.9584365298751], \"Term\": [\"accesorio\", \"accesorio\", \"atender\", \"boca\", \"boca\", \"bodega\", \"bodega\", \"breackaway\", \"breckawey\", \"calibrar\", \"cambiar\", \"cambiar\", \"cambiar\", \"cambiar\", \"cliente\", \"conv\", \"cortar\", \"dejar\", \"dejar\", \"descargar\", \"describir\", \"detectandose\", \"detectar\", \"detector\", \"diesel\", \"diesel\", \"diesel\", \"disp\", \"dispensador\", \"dispensador\", \"eds\", \"encargar\", \"encargar\", \"encore\", \"encore\", \"equipar\", \"equipo\", \"fallo\", \"fallo\", \"fallo\", \"filtracion\", \"filtrar\", \"filtrar\", \"filtro\", \"fugar\", \"gas\", \"gas\", \"hose\", \"hose\", \"hose\", \"incidencia\", \"interior\", \"kerosene\", \"kerosene\", \"kerosene\", \"lado\", \"lado\", \"lado\", \"limpiar\", \"mal\", \"manguera\", \"manguera\", \"manguera\", \"mantencion\", \"matraz\", \"normal\", \"normal\", \"normal\", \"normal\", \"normalmente\", \"normalmente\", \"operar\", \"operar\", \"operar\", \"operativo\", \"operativo\", \"opw\", \"pintar\", \"pistola\", \"pistola\", \"pistola\", \"preset\", \"preventivo\", \"probar\", \"producto\", \"producto\", \"producto\", \"remplazar\", \"reparacion\", \"reparacion\", \"reponer\", \"reponer\", \"reponer\", \"reset\", \"reset\", \"revison\", \"rotar\", \"rotar\", \"spill\", \"surtidor\", \"surtidor\", \"swivel\", \"swivel\", \"swivel\", \"swivel\", \"tablero\", \"tapar\", \"valvula\", \"venta\", \"venta\", \"verificacion\", \"volumetrica\"]}, \"R\": 30, \"lambda.step\": 0.01, \"plot.opts\": {\"xlab\": \"PC1\", \"ylab\": \"PC2\"}, \"topic.order\": [4, 1, 5, 3, 2]};\n",
       "\n",
       "function LDAvis_load_lib(url, callback){\n",
       "  var s = document.createElement('script');\n",
       "  s.src = url;\n",
       "  s.async = true;\n",
       "  s.onreadystatechange = s.onload = callback;\n",
       "  s.onerror = function(){console.warn(\"failed to load library \" + url);};\n",
       "  document.getElementsByTagName(\"head\")[0].appendChild(s);\n",
       "}\n",
       "\n",
       "if(typeof(LDAvis) !== \"undefined\"){\n",
       "   // already loaded: just create the visualization\n",
       "   !function(LDAvis){\n",
       "       new LDAvis(\"#\" + \"ldavis_el1051221407577805527837321398\", ldavis_el1051221407577805527837321398_data);\n",
       "   }(LDAvis);\n",
       "}else if(typeof define === \"function\" && define.amd){\n",
       "   // require.js is available: use it to load d3/LDAvis\n",
       "   require.config({paths: {d3: \"https://cdnjs.cloudflare.com/ajax/libs/d3/3.5.5/d3.min\"}});\n",
       "   require([\"d3\"], function(d3){\n",
       "      window.d3 = d3;\n",
       "      LDAvis_load_lib(\"https://cdn.rawgit.com/bmabey/pyLDAvis/files/ldavis.v1.0.0.js\", function(){\n",
       "        new LDAvis(\"#\" + \"ldavis_el1051221407577805527837321398\", ldavis_el1051221407577805527837321398_data);\n",
       "      });\n",
       "    });\n",
       "}else{\n",
       "    // require.js not available: dynamically load d3 & LDAvis\n",
       "    LDAvis_load_lib(\"https://cdnjs.cloudflare.com/ajax/libs/d3/3.5.5/d3.min.js\", function(){\n",
       "         LDAvis_load_lib(\"https://cdn.rawgit.com/bmabey/pyLDAvis/files/ldavis.v1.0.0.js\", function(){\n",
       "                 new LDAvis(\"#\" + \"ldavis_el1051221407577805527837321398\", ldavis_el1051221407577805527837321398_data);\n",
       "            })\n",
       "         });\n",
       "}\n",
       "</script>"
      ],
      "text/plain": [
       "PreparedData(topic_coordinates=                x           y  topics  cluster       Freq\n",
       "topic                                                    \n",
       "3      150.222153  -72.269554       1        1  27.245805\n",
       "0       51.163364 -159.968018       2        1  22.726023\n",
       "4      -73.144554   21.523815       3        1  19.786047\n",
       "2      -66.410133 -110.606438       4        1  17.108619\n",
       "1       54.417324   12.443444       5        1  13.133506, topic_info=           Term        Freq       Total Category  logprob  loglift\n",
       "18         disp  246.000000  246.000000  Default  30.0000  30.0000\n",
       "52    remplazar  171.000000  171.000000  Default  29.0000  29.0000\n",
       "23      equipar  116.000000  116.000000  Default  28.0000  28.0000\n",
       "7       cambiar  235.000000  235.000000  Default  27.0000  27.0000\n",
       "19  dispensador  160.000000  160.000000  Default  26.0000  26.0000\n",
       "..          ...         ...         ...      ...      ...      ...\n",
       "3        bodega    0.188390   28.649431   Topic5  -7.8537  -2.9944\n",
       "35         lado    0.189907   86.535374   Topic5  -7.8457  -4.0918\n",
       "25        fallo    0.189796  182.579245   Topic5  -7.8463  -4.8390\n",
       "2          boca    0.188719   94.085640   Topic5  -7.8520  -4.1817\n",
       "44    operativo    0.188349   41.388988   Topic5  -7.8539  -3.3625\n",
       "\n",
       "[207 rows x 6 columns], token_table=      Topic      Freq          Term\n",
       "term                               \n",
       "0         2  0.651173     accesorio\n",
       "0         5  0.325587     accesorio\n",
       "1         1  0.985465       atender\n",
       "2         1  0.329487          boca\n",
       "2         2  0.669603          boca\n",
       "...     ...       ...           ...\n",
       "63        4  0.989907       valvula\n",
       "64        1  0.682499         venta\n",
       "64        5  0.312330         venta\n",
       "65        2  0.955968  verificacion\n",
       "66        2  0.958437   volumetrica\n",
       "\n",
       "[112 rows x 3 columns], R=30, lambda_step=0.01, plot_opts={'xlab': 'PC1', 'ylab': 'PC2'}, topic_order=[4, 1, 5, 3, 2])"
      ]
     },
     "execution_count": 22,
     "metadata": {},
     "output_type": "execute_result"
    }
   ],
   "source": [
    "pyLDAvis.enable_notebook()\n",
    "panel = pyLDAvis.sklearn.prepare(best_lda_model, data_vectorized, vectorizer, mds='tsne')\n",
    "panel"
   ]
  },
  {
   "cell_type": "markdown",
   "metadata": {},
   "source": [
    "### 15. How to see the Topic’s keywords?"
   ]
  },
  {
   "cell_type": "code",
   "execution_count": 23,
   "metadata": {},
   "outputs": [
    {
     "data": {
      "text/html": [
       "<div>\n",
       "<style scoped>\n",
       "    .dataframe tbody tr th:only-of-type {\n",
       "        vertical-align: middle;\n",
       "    }\n",
       "\n",
       "    .dataframe tbody tr th {\n",
       "        vertical-align: top;\n",
       "    }\n",
       "\n",
       "    .dataframe thead th {\n",
       "        text-align: right;\n",
       "    }\n",
       "</style>\n",
       "<table border=\"1\" class=\"dataframe\">\n",
       "  <thead>\n",
       "    <tr style=\"text-align: right;\">\n",
       "      <th></th>\n",
       "      <th>accesorio</th>\n",
       "      <th>atender</th>\n",
       "      <th>boca</th>\n",
       "      <th>bodega</th>\n",
       "      <th>breackaway</th>\n",
       "      <th>breckawey</th>\n",
       "      <th>calibrar</th>\n",
       "      <th>cambiar</th>\n",
       "      <th>cliente</th>\n",
       "      <th>conv</th>\n",
       "      <th>...</th>\n",
       "      <th>rotar</th>\n",
       "      <th>spill</th>\n",
       "      <th>surtidor</th>\n",
       "      <th>swivel</th>\n",
       "      <th>tablero</th>\n",
       "      <th>tapar</th>\n",
       "      <th>valvula</th>\n",
       "      <th>venta</th>\n",
       "      <th>verificacion</th>\n",
       "      <th>volumetrica</th>\n",
       "    </tr>\n",
       "  </thead>\n",
       "  <tbody>\n",
       "    <tr>\n",
       "      <th>Topic0</th>\n",
       "      <td>32.040627</td>\n",
       "      <td>0.200019</td>\n",
       "      <td>62.132224</td>\n",
       "      <td>0.202780</td>\n",
       "      <td>0.200006</td>\n",
       "      <td>0.200002</td>\n",
       "      <td>43.198729</td>\n",
       "      <td>7.207756</td>\n",
       "      <td>0.200418</td>\n",
       "      <td>0.200003</td>\n",
       "      <td>...</td>\n",
       "      <td>6.321807</td>\n",
       "      <td>51.196399</td>\n",
       "      <td>2.851359</td>\n",
       "      <td>0.201302</td>\n",
       "      <td>0.200011</td>\n",
       "      <td>58.158515</td>\n",
       "      <td>0.200706</td>\n",
       "      <td>0.200224</td>\n",
       "      <td>26.193215</td>\n",
       "      <td>28.196390</td>\n",
       "    </tr>\n",
       "    <tr>\n",
       "      <th>Topic1</th>\n",
       "      <td>17.352514</td>\n",
       "      <td>0.200031</td>\n",
       "      <td>0.201702</td>\n",
       "      <td>0.201351</td>\n",
       "      <td>21.199794</td>\n",
       "      <td>0.200755</td>\n",
       "      <td>0.200382</td>\n",
       "      <td>59.396969</td>\n",
       "      <td>38.195661</td>\n",
       "      <td>26.197396</td>\n",
       "      <td>...</td>\n",
       "      <td>0.200008</td>\n",
       "      <td>0.200038</td>\n",
       "      <td>69.543534</td>\n",
       "      <td>8.567731</td>\n",
       "      <td>0.208842</td>\n",
       "      <td>0.200449</td>\n",
       "      <td>0.200820</td>\n",
       "      <td>28.488146</td>\n",
       "      <td>0.200003</td>\n",
       "      <td>0.200002</td>\n",
       "    </tr>\n",
       "    <tr>\n",
       "      <th>Topic2</th>\n",
       "      <td>0.202482</td>\n",
       "      <td>0.202444</td>\n",
       "      <td>0.201528</td>\n",
       "      <td>16.620987</td>\n",
       "      <td>0.200188</td>\n",
       "      <td>0.200002</td>\n",
       "      <td>0.200322</td>\n",
       "      <td>100.914761</td>\n",
       "      <td>0.200854</td>\n",
       "      <td>0.200116</td>\n",
       "      <td>...</td>\n",
       "      <td>0.202967</td>\n",
       "      <td>0.202598</td>\n",
       "      <td>0.202253</td>\n",
       "      <td>0.693178</td>\n",
       "      <td>12.973235</td>\n",
       "      <td>0.203048</td>\n",
       "      <td>51.197826</td>\n",
       "      <td>0.201370</td>\n",
       "      <td>0.204405</td>\n",
       "      <td>0.202897</td>\n",
       "    </tr>\n",
       "    <tr>\n",
       "      <th>Topic3</th>\n",
       "      <td>0.201174</td>\n",
       "      <td>34.196746</td>\n",
       "      <td>32.263675</td>\n",
       "      <td>11.772473</td>\n",
       "      <td>0.200005</td>\n",
       "      <td>0.200001</td>\n",
       "      <td>0.200004</td>\n",
       "      <td>73.280224</td>\n",
       "      <td>0.201854</td>\n",
       "      <td>0.200002</td>\n",
       "      <td>...</td>\n",
       "      <td>24.072636</td>\n",
       "      <td>0.200078</td>\n",
       "      <td>0.201418</td>\n",
       "      <td>3.699286</td>\n",
       "      <td>0.417900</td>\n",
       "      <td>0.237008</td>\n",
       "      <td>0.200596</td>\n",
       "      <td>61.910250</td>\n",
       "      <td>0.202314</td>\n",
       "      <td>0.200655</td>\n",
       "    </tr>\n",
       "    <tr>\n",
       "      <th>Topic4</th>\n",
       "      <td>0.203203</td>\n",
       "      <td>0.200760</td>\n",
       "      <td>0.200871</td>\n",
       "      <td>0.202410</td>\n",
       "      <td>0.200007</td>\n",
       "      <td>38.199240</td>\n",
       "      <td>0.200562</td>\n",
       "      <td>0.200290</td>\n",
       "      <td>0.201214</td>\n",
       "      <td>0.202483</td>\n",
       "      <td>...</td>\n",
       "      <td>0.202582</td>\n",
       "      <td>0.200887</td>\n",
       "      <td>0.201434</td>\n",
       "      <td>11.838504</td>\n",
       "      <td>0.200013</td>\n",
       "      <td>0.200980</td>\n",
       "      <td>0.200052</td>\n",
       "      <td>0.200008</td>\n",
       "      <td>0.200062</td>\n",
       "      <td>0.200057</td>\n",
       "    </tr>\n",
       "  </tbody>\n",
       "</table>\n",
       "<p>5 rows × 67 columns</p>\n",
       "</div>"
      ],
      "text/plain": [
       "        accesorio    atender       boca     bodega  breackaway  breckawey  \\\n",
       "Topic0  32.040627   0.200019  62.132224   0.202780    0.200006   0.200002   \n",
       "Topic1  17.352514   0.200031   0.201702   0.201351   21.199794   0.200755   \n",
       "Topic2   0.202482   0.202444   0.201528  16.620987    0.200188   0.200002   \n",
       "Topic3   0.201174  34.196746  32.263675  11.772473    0.200005   0.200001   \n",
       "Topic4   0.203203   0.200760   0.200871   0.202410    0.200007  38.199240   \n",
       "\n",
       "         calibrar     cambiar    cliente       conv  ...      rotar  \\\n",
       "Topic0  43.198729    7.207756   0.200418   0.200003  ...   6.321807   \n",
       "Topic1   0.200382   59.396969  38.195661  26.197396  ...   0.200008   \n",
       "Topic2   0.200322  100.914761   0.200854   0.200116  ...   0.202967   \n",
       "Topic3   0.200004   73.280224   0.201854   0.200002  ...  24.072636   \n",
       "Topic4   0.200562    0.200290   0.201214   0.202483  ...   0.202582   \n",
       "\n",
       "            spill   surtidor     swivel    tablero      tapar    valvula  \\\n",
       "Topic0  51.196399   2.851359   0.201302   0.200011  58.158515   0.200706   \n",
       "Topic1   0.200038  69.543534   8.567731   0.208842   0.200449   0.200820   \n",
       "Topic2   0.202598   0.202253   0.693178  12.973235   0.203048  51.197826   \n",
       "Topic3   0.200078   0.201418   3.699286   0.417900   0.237008   0.200596   \n",
       "Topic4   0.200887   0.201434  11.838504   0.200013   0.200980   0.200052   \n",
       "\n",
       "            venta  verificacion  volumetrica  \n",
       "Topic0   0.200224     26.193215    28.196390  \n",
       "Topic1  28.488146      0.200003     0.200002  \n",
       "Topic2   0.201370      0.204405     0.202897  \n",
       "Topic3  61.910250      0.202314     0.200655  \n",
       "Topic4   0.200008      0.200062     0.200057  \n",
       "\n",
       "[5 rows x 67 columns]"
      ]
     },
     "execution_count": 23,
     "metadata": {},
     "output_type": "execute_result"
    }
   ],
   "source": [
    "# Topic-Keyword Matrix\n",
    "df_topic_keywords = pd.DataFrame(best_lda_model.components_)\n",
    "\n",
    "# Assign Column and Index\n",
    "df_topic_keywords.columns = vectorizer.get_feature_names()\n",
    "df_topic_keywords.index = topicnames\n",
    "\n",
    "# View\n",
    "df_topic_keywords.head()"
   ]
  },
  {
   "cell_type": "markdown",
   "metadata": {},
   "source": [
    "### 16. Get the top 15 keywords each topic"
   ]
  },
  {
   "cell_type": "code",
   "execution_count": 24,
   "metadata": {},
   "outputs": [
    {
     "data": {
      "text/html": [
       "<div>\n",
       "<style scoped>\n",
       "    .dataframe tbody tr th:only-of-type {\n",
       "        vertical-align: middle;\n",
       "    }\n",
       "\n",
       "    .dataframe tbody tr th {\n",
       "        vertical-align: top;\n",
       "    }\n",
       "\n",
       "    .dataframe thead th {\n",
       "        text-align: right;\n",
       "    }\n",
       "</style>\n",
       "<table border=\"1\" class=\"dataframe\">\n",
       "  <thead>\n",
       "    <tr style=\"text-align: right;\">\n",
       "      <th></th>\n",
       "      <th>Word 0</th>\n",
       "      <th>Word 1</th>\n",
       "      <th>Word 2</th>\n",
       "      <th>Word 3</th>\n",
       "      <th>Word 4</th>\n",
       "      <th>Word 5</th>\n",
       "      <th>Word 6</th>\n",
       "      <th>Word 7</th>\n",
       "      <th>Word 8</th>\n",
       "      <th>Word 9</th>\n",
       "      <th>Word 10</th>\n",
       "      <th>Word 11</th>\n",
       "      <th>Word 12</th>\n",
       "      <th>Word 13</th>\n",
       "      <th>Word 14</th>\n",
       "    </tr>\n",
       "  </thead>\n",
       "  <tbody>\n",
       "    <tr>\n",
       "      <th>Topic 0</th>\n",
       "      <td>mantencion</td>\n",
       "      <td>preventivo</td>\n",
       "      <td>boca</td>\n",
       "      <td>tapar</td>\n",
       "      <td>equipo</td>\n",
       "      <td>spill</td>\n",
       "      <td>descargar</td>\n",
       "      <td>lado</td>\n",
       "      <td>calibrar</td>\n",
       "      <td>interior</td>\n",
       "      <td>accesorio</td>\n",
       "      <td>matraz</td>\n",
       "      <td>volumetrica</td>\n",
       "      <td>limpiar</td>\n",
       "      <td>verificacion</td>\n",
       "    </tr>\n",
       "    <tr>\n",
       "      <th>Topic 1</th>\n",
       "      <td>equipar</td>\n",
       "      <td>surtidor</td>\n",
       "      <td>cambiar</td>\n",
       "      <td>cliente</td>\n",
       "      <td>venta</td>\n",
       "      <td>conv</td>\n",
       "      <td>revison</td>\n",
       "      <td>breackaway</td>\n",
       "      <td>filtro</td>\n",
       "      <td>manguera</td>\n",
       "      <td>pistola</td>\n",
       "      <td>accesorio</td>\n",
       "      <td>kerosene</td>\n",
       "      <td>swivel</td>\n",
       "      <td>reset</td>\n",
       "    </tr>\n",
       "    <tr>\n",
       "      <th>Topic 2</th>\n",
       "      <td>cambiar</td>\n",
       "      <td>fallo</td>\n",
       "      <td>fugar</td>\n",
       "      <td>gas</td>\n",
       "      <td>detector</td>\n",
       "      <td>valvula</td>\n",
       "      <td>encore</td>\n",
       "      <td>cortar</td>\n",
       "      <td>diesel</td>\n",
       "      <td>reponer</td>\n",
       "      <td>bodega</td>\n",
       "      <td>reparacion</td>\n",
       "      <td>tablero</td>\n",
       "      <td>mal</td>\n",
       "      <td>detectandose</td>\n",
       "    </tr>\n",
       "    <tr>\n",
       "      <th>Topic 3</th>\n",
       "      <td>dispensador</td>\n",
       "      <td>fallo</td>\n",
       "      <td>cambiar</td>\n",
       "      <td>venta</td>\n",
       "      <td>producto</td>\n",
       "      <td>gas</td>\n",
       "      <td>pistola</td>\n",
       "      <td>detectar</td>\n",
       "      <td>manguera</td>\n",
       "      <td>lado</td>\n",
       "      <td>atender</td>\n",
       "      <td>boca</td>\n",
       "      <td>incidencia</td>\n",
       "      <td>normal</td>\n",
       "      <td>describir</td>\n",
       "    </tr>\n",
       "    <tr>\n",
       "      <th>Topic 4</th>\n",
       "      <td>disp</td>\n",
       "      <td>remplazar</td>\n",
       "      <td>pistola</td>\n",
       "      <td>opw</td>\n",
       "      <td>breckawey</td>\n",
       "      <td>manguera</td>\n",
       "      <td>fallo</td>\n",
       "      <td>encargar</td>\n",
       "      <td>hose</td>\n",
       "      <td>swivel</td>\n",
       "      <td>reponer</td>\n",
       "      <td>encore</td>\n",
       "      <td>reparacion</td>\n",
       "      <td>lado</td>\n",
       "      <td>kerosene</td>\n",
       "    </tr>\n",
       "  </tbody>\n",
       "</table>\n",
       "</div>"
      ],
      "text/plain": [
       "              Word 0      Word 1   Word 2   Word 3     Word 4    Word 5  \\\n",
       "Topic 0   mantencion  preventivo     boca    tapar     equipo     spill   \n",
       "Topic 1      equipar    surtidor  cambiar  cliente      venta      conv   \n",
       "Topic 2      cambiar       fallo    fugar      gas   detector   valvula   \n",
       "Topic 3  dispensador       fallo  cambiar    venta   producto       gas   \n",
       "Topic 4         disp   remplazar  pistola      opw  breckawey  manguera   \n",
       "\n",
       "            Word 6      Word 7    Word 8    Word 9    Word 10     Word 11  \\\n",
       "Topic 0  descargar        lado  calibrar  interior  accesorio      matraz   \n",
       "Topic 1    revison  breackaway    filtro  manguera    pistola   accesorio   \n",
       "Topic 2     encore      cortar    diesel   reponer     bodega  reparacion   \n",
       "Topic 3    pistola    detectar  manguera      lado    atender        boca   \n",
       "Topic 4      fallo    encargar      hose    swivel    reponer      encore   \n",
       "\n",
       "             Word 12  Word 13       Word 14  \n",
       "Topic 0  volumetrica  limpiar  verificacion  \n",
       "Topic 1     kerosene   swivel         reset  \n",
       "Topic 2      tablero      mal  detectandose  \n",
       "Topic 3   incidencia   normal     describir  \n",
       "Topic 4   reparacion     lado      kerosene  "
      ]
     },
     "execution_count": 24,
     "metadata": {},
     "output_type": "execute_result"
    }
   ],
   "source": [
    "# Show top n keywords for each topic\n",
    "def show_topics(vectorizer=vectorizer, lda_model=lda_model, n_words=20):\n",
    "    keywords = np.array(vectorizer.get_feature_names())\n",
    "    topic_keywords = []\n",
    "    for topic_weights in lda_model.components_:\n",
    "        top_keyword_locs = (-topic_weights).argsort()[:n_words]\n",
    "        topic_keywords.append(keywords.take(top_keyword_locs))\n",
    "    return topic_keywords\n",
    "\n",
    "topic_keywords = show_topics(vectorizer=vectorizer, lda_model=best_lda_model, n_words=15)        \n",
    "\n",
    "# Topic - Keywords Dataframe\n",
    "df_topic_keywords = pd.DataFrame(topic_keywords)\n",
    "df_topic_keywords.columns = ['Word '+str(i) for i in range(df_topic_keywords.shape[1])]\n",
    "df_topic_keywords.index = ['Topic '+str(i) for i in range(df_topic_keywords.shape[0])]\n",
    "df_topic_keywords"
   ]
  },
  {
   "cell_type": "markdown",
   "metadata": {},
   "source": [
    "### 17. How to predict the topics for a new piece of text?"
   ]
  },
  {
   "cell_type": "markdown",
   "metadata": {},
   "source": [
    "sent_to_words() –> lemmatization() –> vectorizer.transform() –> best_lda_model.transform()"
   ]
  },
  {
   "cell_type": "code",
   "execution_count": 25,
   "metadata": {},
   "outputs": [
    {
     "name": "stdout",
     "output_type": "stream",
     "text": [
      "['mantencion', 'preventivo', 'boca', 'tapar', 'equipo', 'spill', 'descargar', 'lado', 'calibrar', 'interior', 'accesorio', 'matraz', 'volumetrica', 'limpiar', 'verificacion']\n"
     ]
    }
   ],
   "source": [
    "# Define function to predict topic for a given text document.\n",
    "\n",
    "def predict_topic(text, nlp=nlp):\n",
    "    global sent_to_words\n",
    "    global lemmatization\n",
    "\n",
    "    # Step 1: Clean with simple_preprocess\n",
    "    mytext_2 = list(sent_to_words(text))\n",
    "\n",
    "    # Step 2: Lemmatize\n",
    "    mytext_3 = lemmatization(mytext_2, allowed_postags=['NOUN', 'ADJ', 'VERB', 'ADV', 'PROPN'])\n",
    "\n",
    "    # Step 3: Vectorize transform\n",
    "    mytext_4 = vectorizer.transform(mytext_3)\n",
    "\n",
    "    # Step 4: LDA Transform\n",
    "    topic_probability_scores = best_lda_model.transform(mytext_4)\n",
    "    topic = df_topic_keywords.iloc[np.argmax(topic_probability_scores), :].values.tolist()\n",
    "    return topic, topic_probability_scores\n",
    "\n",
    "# Predict the topic\n",
    "mytext = [\"Mantencion Preventiva de la manguera 4\"]\n",
    "topic, prob_scores = predict_topic(text = mytext)\n",
    "print(topic)"
   ]
  },
  {
   "cell_type": "code",
   "execution_count": 26,
   "metadata": {},
   "outputs": [
    {
     "name": "stdout",
     "output_type": "stream",
     "text": [
      "['dispensador', 'fallo', 'cambiar', 'venta', 'producto', 'gas', 'pistola', 'detectar', 'manguera', 'lado', 'atender', 'boca', 'incidencia', 'normal', 'describir']\n"
     ]
    }
   ],
   "source": [
    "mytext = [\"Falla en el filtro del breakaway\"]\n",
    "topic, prob_scores = predict_topic(text = mytext)\n",
    "print(topic)"
   ]
  },
  {
   "cell_type": "markdown",
   "metadata": {},
   "source": [
    "### 18. How to cluster documents that share similar topics and plot?"
   ]
  },
  {
   "cell_type": "markdown",
   "metadata": {},
   "source": [
    "You can use k-means clustering on the document-topic probabilioty matrix, which is nothing but lda_output object. Since out best model has 5 clusters, I’ve set n_clusters=5 in KMeans()."
   ]
  },
  {
   "cell_type": "code",
   "execution_count": 27,
   "metadata": {},
   "outputs": [
    {
     "name": "stdout",
     "output_type": "stream",
     "text": [
      "Component's weights: \n",
      " [[ 0.22  0.54  0.27  0.73  0.24]\n",
      " [ 0.09  0.72  0.13 -0.66  0.16]]\n",
      "Perc of Variance Explained: \n",
      " [0.06 0.33]\n"
     ]
    }
   ],
   "source": [
    "# Construct the k-means clusters\n",
    "from sklearn.cluster import KMeans\n",
    "clusters = KMeans(n_clusters=5, random_state=100).fit_predict(lda_output)\n",
    "\n",
    "# Build the Singular Value Decomposition(SVD) model\n",
    "svd_model = TruncatedSVD(n_components=2)  # 2 components\n",
    "lda_output_svd = svd_model.fit_transform(lda_output)\n",
    "\n",
    "# X and Y axes of the plot using SVD decomposition\n",
    "x = lda_output_svd[:, 0]\n",
    "y = lda_output_svd[:, 1]\n",
    "\n",
    "# Weights for the 15 columns of lda_output, for each component\n",
    "print(\"Component's weights: \\n\", np.round(svd_model.components_, 2))\n",
    "\n",
    "# Percentage of total information in 'lda_output' explained by the two components\n",
    "print(\"Perc of Variance Explained: \\n\", np.round(svd_model.explained_variance_ratio_, 2))"
   ]
  },
  {
   "cell_type": "code",
   "execution_count": 28,
   "metadata": {},
   "outputs": [
    {
     "data": {
      "text/plain": [
       "Text(0.5, 1.0, 'Segregation of Topic Clusters')"
      ]
     },
     "execution_count": 28,
     "metadata": {},
     "output_type": "execute_result"
    },
    {
     "data": {
      "image/png": "[encoded data removed]",
      "text/plain": [
       "<Figure size 864x864 with 1 Axes>"
      ]
     },
     "metadata": {
      "needs_background": "light"
     },
     "output_type": "display_data"
    }
   ],
   "source": [
    "# Plot\n",
    "plt.figure(figsize=(12, 12))\n",
    "plt.scatter(x, y, c=clusters)\n",
    "plt.ylabel('Component 2')\n",
    "plt.xlabel('Component 1')\n",
    "plt.title(\"Segregation of Topic Clusters\", )"
   ]
  },
  {
   "cell_type": "markdown",
   "metadata": {},
   "source": [
    "### 19. How to get similar documents for any given piece of text?"
   ]
  },
  {
   "cell_type": "markdown",
   "metadata": {},
   "source": [
    "Once you know the probaility of topics for a given document (using predict_topic()), compute the euclidean distance with the probability scores of all other documents.\n",
    "\n",
    "The most similar documents are the ones with the smallest distance."
   ]
  },
  {
   "cell_type": "code",
   "execution_count": 29,
   "metadata": {},
   "outputs": [],
   "source": [
    "from sklearn.metrics.pairwise import euclidean_distances\n",
    "\n",
    "\n",
    "def similar_documents(text, doc_topic_probs, documents = data, nlp=nlp, top_n=5, verbose=False):\n",
    "    topic, x  = predict_topic(text)\n",
    "    dists = euclidean_distances(x.reshape(1, -1), doc_topic_probs)[0]\n",
    "    doc_ids = np.argsort(dists)[:top_n]\n",
    "    if verbose:        \n",
    "        print(\"Topic KeyWords: \", topic)\n",
    "        print(\"Topic Prob Scores of text: \", np.round(x, 1))\n",
    "        print(\"Most Similar Doc's Probs:  \", np.round(doc_topic_probs[doc_ids], 1))\n",
    "    return doc_ids, np.take(documents, doc_ids)"
   ]
  },
  {
   "cell_type": "code",
   "execution_count": 30,
   "metadata": {},
   "outputs": [
    {
     "name": "stdout",
     "output_type": "stream",
     "text": [
      "Topic KeyWords:  ['dispensador', 'fallo', 'cambiar', 'venta', 'producto', 'gas', 'pistola', 'detectar', 'manguera', 'lado', 'atender', 'boca', 'incidencia', 'normal', 'describir']\n",
      "Topic Prob Scores of text:  [[0.1 0.1 0.1 0.6 0.1]]\n",
      "Most Similar Doc's Probs:   [[0.1 0.1 0.1 0.6 0.1]]\n",
      "\n",
      " incidencia fue asistida en la mp ejecutada el 07 de febrero por tecnico rene devia\n"
     ]
    }
   ],
   "source": [
    "# Get similar documents\n",
    "mytext = [\"Se rompe filtro de agua en la bomba 4\"]\n",
    "doc_ids, docs = similar_documents(text=mytext, doc_topic_probs=lda_output, documents = data, top_n=1, verbose=True)\n",
    "print('\\n', docs[0][:500])"
   ]
  }
 ],
 "metadata": {
  "kernelspec": {
   "display_name": "Python 3",
   "language": "python",
   "name": "python3"
  },
  "language_info": {
   "codemirror_mode": {
    "name": "ipython",
    "version": 3
   },
   "file_extension": ".py",
   "mimetype": "text/x-python",
   "name": "python",
   "nbconvert_exporter": "python",
   "pygments_lexer": "ipython3",
   "version": "3.7.6"
  }
 },
 "nbformat": 4,
 "nbformat_minor": 4
}
