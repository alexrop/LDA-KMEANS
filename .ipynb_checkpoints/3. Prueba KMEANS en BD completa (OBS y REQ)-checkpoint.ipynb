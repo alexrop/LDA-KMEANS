{
 "cells": [
  {
   "cell_type": "markdown",
   "metadata": {},
   "source": [
    "# TERCER NOTEBOOK - Prueba KMEANS en BD completa (OBS y REQ)"
   ]
  },
  {
   "cell_type": "markdown",
   "metadata": {},
   "source": [
    "**Contenido**\n",
    "\n",
    "1. Diseño del algoritmo \n",
    "2. Resultados ELBOW para encontrar el número óptimo de clusters\n",
    "3. Ejecución del algoritmo Kmeans\n",
    "4. Gráfica de la cantidad de ordenes de trabajo (OT) por cluster encontrado"
   ]
  },
  {
   "cell_type": "markdown",
   "metadata": {},
   "source": [
    "## I. DISEÑO DEL ALGORITMO"
   ]
  },
  {
   "cell_type": "markdown",
   "metadata": {},
   "source": [
    "#### Importar paquetes "
   ]
  },
  {
   "cell_type": "code",
   "execution_count": 1,
   "metadata": {},
   "outputs": [],
   "source": [
    "import collections\n",
    "from sklearn.cluster import KMeans\n",
    "from sklearn.feature_extraction.text import TfidfVectorizer\n",
    "from nltk import word_tokenize\n",
    "from nltk.corpus import stopwords\n",
    "from nltk.stem import SnowballStemmer\n",
    "from pprint import pprint\n",
    "import numpy as np\n",
    "from string import punctuation\n",
    "from time import time\n",
    "import os\n",
    "import pandas as pd\n",
    "from IPython.display import Image\n",
    "import matplotlib.pyplot as plt"
   ]
  },
  {
   "cell_type": "markdown",
   "metadata": {},
   "source": [
    "#### Estructura del algoritmo"
   ]
  },
  {
   "cell_type": "code",
   "execution_count": 2,
   "metadata": {},
   "outputs": [],
   "source": [
    "# Tokenizar palabras\n",
    "def word_tokenizer(text):    \n",
    "    tokens = word_tokenize(text)   # tokenizes and stems the text\n",
    "    # non_words = list(punctuation)  # removes punctuation \n",
    "    # text = ''.join([c for c in text if c not in non_words]) ---> Data ingresada ya está libre de puntuación\n",
    "    stemmer = SnowballStemmer('spanish')\n",
    "    tokens = [stemmer.stem(t) for t in tokens if t not in stopwords.words('spanish')] # Posibilidad de extender stopwords\n",
    "    return tokens"
   ]
  },
  {
   "cell_type": "code",
   "execution_count": 3,
   "metadata": {},
   "outputs": [],
   "source": [
    "# Número óptimo de clústers\n",
    "def elbow_method(sentences):\n",
    "    tfidf_vectorizer = TfidfVectorizer(tokenizer=word_tokenizer,stop_words=stopwords.words('spanish'),lowercase=True)\n",
    "    tfidf_matrix = tfidf_vectorizer.fit_transform(sentences)   #builds a tf-idf matrix for the sentences\n",
    "    import warnings\n",
    "    \n",
    "    try:\n",
    "        with warnings.catch_warnings():\n",
    "            warnings.simplefilter(\"ignore\")\n",
    "            if len(sentences)<= 30:\n",
    "                list_k = list(range(1,len(sentences)+1))\n",
    "                elbow = []\n",
    "                for i in list_k:\n",
    "                    kmeans = KMeans(n_clusters = i, init = 'k-means++', random_state = 101)\n",
    "                    kmeans.fit(tfidf_matrix)\n",
    "                    elbow.append(kmeans.inertia_)\n",
    "\n",
    "            elif len(sentences)> 30 and len(sentences)<= 70:\n",
    "                list_k = list(range(2,len(sentences)+1,2))\n",
    "                elbow = []\n",
    "                for i in list_k:\n",
    "                    kmeans = KMeans(n_clusters = i, init = 'k-means++', random_state = 101)\n",
    "                    kmeans.fit(tfidf_matrix)\n",
    "                    elbow.append(kmeans.inertia_)     \n",
    "\n",
    "            else:     \n",
    "                list_k = list(range(2,71,4))\n",
    "                elbow = []\n",
    "                for i in list_k:\n",
    "                    kmeans = KMeans(n_clusters = i, init = 'k-means++', random_state = 101)\n",
    "                    kmeans.fit(tfidf_matrix)\n",
    "                    elbow.append(kmeans.inertia_)\n",
    "\n",
    "            from kneed import KneeLocator\n",
    "            kn = KneeLocator(list_k, elbow, curve='convex', direction='decreasing')\n",
    "            print(f'Número óptimo de clústers: {kn.knee}')\n",
    "\n",
    "            plt.rcParams.update({'figure.figsize':(10,7)})\n",
    "            plt.xlabel('Número de clusters k')\n",
    "            plt.ylabel('Suma de distancias cuadradas')\n",
    "            plt.plot(list_k, elbow, 'bo-')\n",
    "            plt.title('Método del Elbow')\n",
    "            plt.vlines(kn.knee, plt.ylim()[0], plt.ylim()[1], linestyles='dashed')\n",
    "            plt.show()\n",
    "\n",
    "    except ValueError:\n",
    "        print('You must enter at least two sentences')"
   ]
  },
  {
   "cell_type": "code",
   "execution_count": 4,
   "metadata": {},
   "outputs": [],
   "source": [
    "# Algoritmo Kmeans\n",
    "def cluster_sentences(sentences, nb_of_clusters):\n",
    "    \n",
    "    tfidf_vectorizer = TfidfVectorizer(tokenizer=word_tokenizer,stop_words=stopwords.words('spanish'),lowercase=True)\n",
    "    tfidf_matrix = tfidf_vectorizer.fit_transform(sentences)   #builds a tf-idf matrix for the sentences\n",
    "    \n",
    "    kmeans = KMeans(n_clusters=nb_of_clusters,max_iter=300)\n",
    "    #kmeans.fit(tfidf_matrix)\n",
    "    X_dist=kmeans.fit_transform(tfidf_matrix)**2  #Se calcula la distancia del cluster y se multiplica al cuadrado\n",
    "    clusters = collections.defaultdict(list)\n",
    "    for i, label in enumerate(kmeans.labels_):\n",
    "        clusters[label].append(i)\n",
    "\n",
    "    Distancia=X_dist.sum(axis=1)  #Se calcula la distancia por columna de la matriz\n",
    "\n",
    "    distDict={}  #Se traspasa a un diccionario con las distancias por cluster\n",
    "    for key,val in clusters.items():\n",
    "        distDict[key]=Distancia[val]\n",
    "\n",
    "    representativos=[]   # Se guarda en una lista los valores mínimos de cada cluster (Menor distancia al centro mejor es el representativo)\n",
    "    \n",
    "    #Verificacion de los numeros de clusters\n",
    "    #Si se intenta obtener los representativos de un número mas grande de cluster que el permitido, se procesa el número de clusters\n",
    "    if len(distDict)<nb_of_clusters:\n",
    "        nb_of_clusters=len(distDict)\n",
    "        \n",
    "    #Verificacion de los números de clústers\n",
    "    for i in range(nb_of_clusters):\n",
    "        representativos.append(np.where(distDict[i]==min(distDict[i]))[0][0])\n",
    "\n",
    "    return dict(clusters),representativos"
   ]
  },
  {
   "cell_type": "code",
   "execution_count": 5,
   "metadata": {},
   "outputs": [],
   "source": [
    "# Plot cantidad de sentences por cluster\n",
    "def len_clusters(dic, n):\n",
    "    keys = list(range(0,n))\n",
    "    len_values = [len(dic[i]) for i in keys]\n",
    "    plt.rcParams.update({'figure.figsize':(10,7)})\n",
    "    plt.bar(keys,len_values , align='center', color = \"lightskyblue\")\n",
    "    plt.title('Cantidad de OT por cluster')\n",
    "    plt.xlabel('Clusters')\n",
    "    plt.ylabel('Orden de Trabajo (OT)')\n",
    "    plt.xticks(np.arange(min(keys), max(keys)+1, 1.0))\n",
    "    plt.show()"
   ]
  },
  {
   "cell_type": "markdown",
   "metadata": {},
   "source": [
    "<div class=\"alert alert-success\" style=\"margin: 20px\">En todos los data frames ya está implementada la función word_cleaner() que permitió limpiar la base de datos. Para más información de esta función ir al segundo notebook.</div>\n",
    "\n",
    "\n"
   ]
  },
  {
   "cell_type": "markdown",
   "metadata": {},
   "source": [
    "## II. RESULTADOS KMEANS - OBSERVACIONES"
   ]
  },
  {
   "cell_type": "markdown",
   "metadata": {},
   "source": [
    "#### Importar Data Frame "
   ]
  },
  {
   "cell_type": "code",
   "execution_count": 6,
   "metadata": {},
   "outputs": [
    {
     "data": {
      "text/html": [
       "<div>\n",
       "<style scoped>\n",
       "    .dataframe tbody tr th:only-of-type {\n",
       "        vertical-align: middle;\n",
       "    }\n",
       "\n",
       "    .dataframe tbody tr th {\n",
       "        vertical-align: top;\n",
       "    }\n",
       "\n",
       "    .dataframe thead th {\n",
       "        text-align: right;\n",
       "    }\n",
       "</style>\n",
       "<table border=\"1\" class=\"dataframe\">\n",
       "  <thead>\n",
       "    <tr style=\"text-align: right;\">\n",
       "      <th></th>\n",
       "      <th>Region</th>\n",
       "      <th>Estacion</th>\n",
       "      <th>Tipo de Falla</th>\n",
       "      <th>Prioridad Cliente</th>\n",
       "      <th>Estado OT</th>\n",
       "      <th>Tecnico Asignado</th>\n",
       "      <th>Observación</th>\n",
       "      <th>Requerimiento</th>\n",
       "    </tr>\n",
       "  </thead>\n",
       "  <tbody>\n",
       "    <tr>\n",
       "      <th>2</th>\n",
       "      <td>13°</td>\n",
       "      <td>Tingaro Spa.</td>\n",
       "      <td>Carrete RetractilOTROOTRO</td>\n",
       "      <td>Normal 48 Horas</td>\n",
       "      <td>CERRADA</td>\n",
       "      <td>Juan Aliaga</td>\n",
       "      <td>se cambia placa de tk 2 ga...</td>\n",
       "      <td>area de atencion habilitar...</td>\n",
       "    </tr>\n",
       "    <tr>\n",
       "      <th>16</th>\n",
       "      <td>8°</td>\n",
       "      <td>Combustibles El Volcan Ltda.</td>\n",
       "      <td>Carrete RetractilOTROOTRO</td>\n",
       "      <td>Normal (48 hrs)</td>\n",
       "      <td>CERRADA</td>\n",
       "      <td>On Line</td>\n",
       "      <td>cambio de graficas de equi...</td>\n",
       "      <td>area de atencion combustib...</td>\n",
       "    </tr>\n",
       "    <tr>\n",
       "      <th>18</th>\n",
       "      <td>10°</td>\n",
       "      <td>LLANOS Y WAMMES SOCIEDAD C...</td>\n",
       "      <td>Carrete RetractilOTROOTRO</td>\n",
       "      <td>Normal 24 Horas</td>\n",
       "      <td>PRECIERRE</td>\n",
       "      <td>Luis Almonacid</td>\n",
       "      <td>se visita eds para chequeo...</td>\n",
       "      <td>area de atencion surtidor ...</td>\n",
       "    </tr>\n",
       "    <tr>\n",
       "      <th>20</th>\n",
       "      <td>1°</td>\n",
       "      <td>Soc. Imp. y Exp. Nuevo Ama...</td>\n",
       "      <td>Carrete RetractilOTROOTRO</td>\n",
       "      <td>Normal (48 hrs)</td>\n",
       "      <td>CERRADA</td>\n",
       "      <td>On Line</td>\n",
       "      <td>remplazo de graficas no es...</td>\n",
       "      <td>area de atencion combustib...</td>\n",
       "    </tr>\n",
       "    <tr>\n",
       "      <th>21</th>\n",
       "      <td>3°</td>\n",
       "      <td>Inmobiliaria e Inversiones...</td>\n",
       "      <td>Carrete RetractilOTROOTRO</td>\n",
       "      <td>Normal (48 hrs)</td>\n",
       "      <td>CERRADA</td>\n",
       "      <td>On Line</td>\n",
       "      <td>remplazo de graficas no es...</td>\n",
       "      <td>area de atencion combustib...</td>\n",
       "    </tr>\n",
       "  </tbody>\n",
       "</table>\n",
       "</div>"
      ],
      "text/plain": [
       "   Region                       Estacion              Tipo de Falla  \\\n",
       "2     13°                   Tingaro Spa.  Carrete RetractilOTROOTRO   \n",
       "16     8°   Combustibles El Volcan Ltda.  Carrete RetractilOTROOTRO   \n",
       "18    10°  LLANOS Y WAMMES SOCIEDAD C...  Carrete RetractilOTROOTRO   \n",
       "20     1°  Soc. Imp. y Exp. Nuevo Ama...  Carrete RetractilOTROOTRO   \n",
       "21     3°  Inmobiliaria e Inversiones...  Carrete RetractilOTROOTRO   \n",
       "\n",
       "   Prioridad Cliente  Estado OT Tecnico Asignado  \\\n",
       "2    Normal 48 Horas    CERRADA      Juan Aliaga   \n",
       "16   Normal (48 hrs)    CERRADA          On Line   \n",
       "18   Normal 24 Horas  PRECIERRE   Luis Almonacid   \n",
       "20   Normal (48 hrs)    CERRADA          On Line   \n",
       "21   Normal (48 hrs)    CERRADA          On Line   \n",
       "\n",
       "                      Observación                  Requerimiento  \n",
       "2   se cambia placa de tk 2 ga...  area de atencion habilitar...  \n",
       "16  cambio de graficas de equi...  area de atencion combustib...  \n",
       "18  se visita eds para chequeo...  area de atencion surtidor ...  \n",
       "20  remplazo de graficas no es...  area de atencion combustib...  \n",
       "21  remplazo de graficas no es...  area de atencion combustib...  "
      ]
     },
     "execution_count": 6,
     "metadata": {},
     "output_type": "execute_result"
    }
   ],
   "source": [
    "pd.options.display.max_colwidth = 30\n",
    "df = pd.read_pickle('DF_TOTAL_CLEANED.pkl')\n",
    "df.head()"
   ]
  },
  {
   "cell_type": "code",
   "execution_count": 7,
   "metadata": {},
   "outputs": [
    {
     "data": {
      "text/plain": [
       "(21840, 8)"
      ]
     },
     "execution_count": 7,
     "metadata": {},
     "output_type": "execute_result"
    }
   ],
   "source": [
    "df.shape"
   ]
  },
  {
   "cell_type": "code",
   "execution_count": 8,
   "metadata": {},
   "outputs": [
    {
     "data": {
      "text/plain": [
       "Region               0\n",
       "Estacion             0\n",
       "Tipo de Falla        0\n",
       "Prioridad Cliente    0\n",
       "Estado OT            0\n",
       "Tecnico Asignado     0\n",
       "Observación          0\n",
       "Requerimiento        0\n",
       "dtype: int64"
      ]
     },
     "execution_count": 8,
     "metadata": {},
     "output_type": "execute_result"
    }
   ],
   "source": [
    "df.isnull().sum()"
   ]
  },
  {
   "cell_type": "markdown",
   "metadata": {},
   "source": [
    "#### Ejecutar el algoritmo "
   ]
  },
  {
   "cell_type": "code",
   "execution_count": 9,
   "metadata": {},
   "outputs": [
    {
     "data": {
      "text/plain": [
       "21840"
      ]
     },
     "execution_count": 9,
     "metadata": {},
     "output_type": "execute_result"
    }
   ],
   "source": [
    "sentences = [row for row in df['Observación']]\n",
    "len(sentences)"
   ]
  },
  {
   "cell_type": "code",
   "execution_count": 10,
   "metadata": {},
   "outputs": [
    {
     "data": {
      "text/plain": [
       "['se cambia placa de tk 2 gas95 por placa que indica que es producto 93 se pintan tapas con idenficacion de 93',\n",
       " 'cambio de graficas de equipos no esta contemplado en estaciones delegadas']"
      ]
     },
     "execution_count": 10,
     "metadata": {},
     "output_type": "execute_result"
    }
   ],
   "source": [
    "sentences[:2]"
   ]
  },
  {
   "cell_type": "code",
   "execution_count": 11,
   "metadata": {},
   "outputs": [
    {
     "name": "stdout",
     "output_type": "stream",
     "text": [
      "Número óptimo de clústers: 22\n"
     ]
    },
    {
     "data": {
      "image/png": "[encoded data removed]",
      "text/plain": [
       "<Figure size 720x504 with 1 Axes>"
      ]
     },
     "metadata": {
      "needs_background": "light"
     },
     "output_type": "display_data"
    },
    {
     "name": "stdout",
     "output_type": "stream",
     "text": [
      "Wall time: 29min 59s\n"
     ]
    }
   ],
   "source": [
    "%%time\n",
    "# Identificando el número óptimo de clústers por medio del método del Elbow\n",
    "elbow_method(sentences)"
   ]
  },
  {
   "cell_type": "code",
   "execution_count": 13,
   "metadata": {},
   "outputs": [
    {
     "name": "stdout",
     "output_type": "stream",
     "text": [
      "\u001b[1mCLUSTERS \n",
      "\u001b[0m\n",
      "\u001b[1mCluster  0 :\u001b[0m se realiza chequeo en equipo se realiza mantencion a valvulas proporcionales producto 93 se realizan pruebas recirculacion de producto quedando operativo se realiza chequeo en equipo se realiza mantencion a valvulas proporcionales producto 93 se realizan pruebas recirculacion de producto quedando operativo\n",
      "\u001b[1mCluster  1 :\u001b[0m se realiza mantencion preventiva a todos los equipos\n",
      "\u001b[1mCluster  2 :\u001b[0m ods mal emitida\n",
      "\u001b[1mCluster  3 :\u001b[0m se realiza el cambio de 1 wip quedando equipo despacho venta cliente operativo\n",
      "\u001b[1mCluster  4 :\u001b[0m \n",
      "\u001b[1mCluster  5 :\u001b[0m programa mantencion preventiva mes marzo 2019 agua en tanque diesel 160 lts se detecta 4 reglas en mal estado en tk 123 4 se realiza verificacion columetrica a disp 12 34 56 78 y 910 recirculando producto 93 97 diesel y kerosene a estanque correspondiente se realiza limpieza de dispensadores se realiza prueba de detectores de fuga se realiza limoieza e inspeccion de camaras y se sellan con silicona se realiza limpieza de spill y pintado de tapas spill segun color de producto dejando esta ok se realiza prueba de boton de parada de emergencia se realiza reapriete de conexiones en tablero electrico se realiza cambio 1 pistola rv en disp 4 se realiza cambio de 1 pistola rv en disp 2 se realiza cambio de filtro 1 405 30 en disp 12 se realiza cambio de filtro 4 405 10 en disp 12 y 34 se realiza xambio de mago de pistola rv en disp 3 se realiza cambio de 2 fundaa amarilla 34 se realiza csmbio de tapa adaptador de rv se realiza cambio de funda con mango en disp 5 recirculacion lts totales 801 lts 800 lts total lts 1601 lts nota se realiza extraccion de agua en estanque diesel aprox 120 lts quedando este en optimas condicciones programa mantencion preventiva mes marzo 2019 agua en tanque diesel 160 lts se detecta 4 reglas en mal estado en tk 123 4 se realiza verificacion columetrica a disp 12 34 56 78 y 910 recirculando producto 93 97 diesel y kerosene a estanque correspondiente se realiza limpieza de dispensadores se realiza prueba de detectores de fuga se realiza limoieza e inspeccion de camaras y se sellan con silicona se realiza limpieza de spill y pintado de tapas spill segun color de producto dejando esta ok se realiza prueba de boton de parada de emergencia se realiza reapriete de conexiones en tablero electrico se realiza cambio 1 pistola rv en disp 4 se realiza cambio de 1 pistola rv en disp 2 se realiza cambio de filtro 1 405 30 en disp 12 se realiza cambio de filtro 4 405 10 en disp 12 y 34 se realiza xambio de mago de pistola rv en disp 3 se realiza cambio de 2 fundaa amarilla 34 se realiza csmbio de tapa adaptador de rv se realiza cambio de funda con mango en disp 5 recirculacion lts totales 801 lts 800 lts total lts 1601 lts nota se realiza extraccion de agua en estanque diesel aprox 120 lts quedando este en optimas condicciones\n",
      "\u001b[1mCluster  6 :\u001b[0m se realiza toma de muestra de producto 93 estanque 1 en dispensador numero 1 queda operativo se realiza toma de muestra de producto 93 estanque 1 en dispensador numero 1 queda operativo\n",
      "\u001b[1mCluster  7 :\u001b[0m se realiza chequeo a equipo se realizan pruebas con ventas a clientes de gasolinas producto 93 y producto 97 equipo operando flujo normal se realiza chequeo equipo detectando producto diesel con flujo lento se realiza cambio de 1 filtro a la boca n 1 producto diesel se realizan pruebas con ventas a clientes quedando operativo se realiza chequeo a equipo se realizan pruebas con ventas a clientes de gasolinas producto 93 y producto 97 equipo operando flujo normal se realiza chequeo equipo detectando producto diesel con flujo lento se realiza cambio de 1 filtro a la boca n 1 producto diesel se realizan pruebas con ventas a clientes quedando operativo\n",
      "\u001b[1mCluster  8 :\u001b[0m mantencion preventiva mes de marzo dispensadores sin fuga en su interior queda pendiente instalacion de valvula de alivio presion en bomba 97 mantencion preventiva mes de marzo se realiza calibracion a dispensadores 12 3456789 y 10 calibrando 22 bocas productos puros dejando dentro de rangos normales se realiza cambio de filtro en dispensador 3 y 4 por encontrarse con flujo lento quedando ok se realiza cambio manguera y destorsedor 34 en dispensador 3 producto diesel quedando ok se realiza reparacion de sifon de tk 1 y 2 diesel quedando operativo se realiza pruebas de fugas encontrandose ok\n",
      "\u001b[1mCluster  9 :\u001b[0m es reemplazado 01 swivel de 1 en boca 1 de diesel por estar filtrando por uso equipo queda operativo accesorio en mal estado queda en pi es reemplazado 01 swivel de 1 en boca 1 de diesel por estar filtrando por uso equipo queda operativo accesorio en mal estado queda en pi\n",
      "\u001b[1mCluster  10 :\u001b[0m se realizan pruebas y se detecta falla en pistola de diesel isla 1 boca 5 por lo cual se procede a reemplazar se realizan pruebas con despacho quedando equipo operativo\n",
      "\u001b[1mCluster  11 :\u001b[0m se realiza cambio de 1 medidor advantage gilbarco a la boca n11 producto 97 se realiza calibracion a equipo quedando operativo se realiza chequeo a equipo boca n5 producto 93 se realizan pruebas con ventas a clientes quedando operativo se realiza cambio de 1 medidor advantage gilbarco a la boca n11 producto 97 se realiza calibracion a equipo quedando operativo se realiza chequeo a equipo boca n5 producto 93 se realizan pruebas con ventas a clientes quedando operativo\n",
      "\u001b[1mCluster  12 :\u001b[0m se realiza cambio de pistola quedando equipo operativo\n",
      "\u001b[1mCluster  13 :\u001b[0m mantencion preventiva mes de agosto solo calibracion se realiza mantencion preventiva se realiza verificacion volumetrica se realiza el cambio de filtros y accesorios en mal estado se revisan camaras se realiza limpieza y sellado\n",
      "\u001b[1mCluster  14 :\u001b[0m se realiza el cambio de 2 pistola 1 quedando equipo operativo\n",
      "\u001b[1mCluster  15 :\u001b[0m programa mantencion preventiva mes mayo 2019 calibracion verificacion detector de fuga se realiza mantencion preventiva a dispensadores lados 1 al 10 se realiza verificacion volumetrica con matraz de 20 litros a 34 bocas de 34 se revisan interior de equipos se revisan y prueban accesorios se revisan y limpian spill descargas quedan todos los equipos operativos programa mantencion preventiva mes mayo 2019 calibracion verificacion detector de fuga se realiza mantencion preventiva a dispensadores lados 1 al 10 se realiza verificacion volumetrica con matraz de 20 litros a 34 bocas de 34 se revisan interior de equipos se revisan y prueban accesorios se revisan y limpian spill descargas quedan todos los equipos operativos\n",
      "\u001b[1mCluster  16 :\u001b[0m se realiza el reemplazo de breakaway 1 en lado 1 producto diesel se realizan pruebas quedando equipo operativo\n",
      "\u001b[1mCluster  17 :\u001b[0m se solicitara tabla de calibracion de estanque n1 producto 93 para realizar ajuste con veeder root tls450 se informa se realiza cambio de 3 filtros dispensadores producto p diesel n1 n3 y n5 por flujo lento se realizan pruebas con venta a clientes quedando operativo autoriza cambio de filtros ingeniero petrobras marcos perales queda pendiente calibracion de equipos se realiza chequeo volumetrico en mantencion preventiva de 6 bocas gas 93 arrojando resultados dentro de parametros estipulado por esmax operativo se informa que veeder root tls 450 se encuentra configurado en 1 punto en tk nro 1 gas 93 se solicitara tabla de calibracion de estanque n1 producto 93 para realizar ajuste con veeder root tls450 se informa se realiza cambio de 3 filtros dispensadores producto p diesel n1 n3 y n5 por flujo lento se realizan pruebas con venta a clientes quedando operativo autoriza cambio de filtros ingeniero petrobras marcos perales queda pendiente calibracion de equipos se realiza chequeo volumetrico en mantencion preventiva de 6 bocas gas 93 arrojando resultados dentro de parametros estipulado por esmax operativo se informa que veeder root tls 450 se encuentra configurado en 1 punto en tk nro 1 gas 93\n",
      "\u001b[1mCluster  18 :\u001b[0m retiro de agua se realizara en mantencion preventiva se visita estacion se revisa estanque 1 diesel y 2 97 encontrando estos con agua en su interior retiro de agua en estanques se realizara en mantencion preventiva del mes de mayo\n",
      "\u001b[1mCluster  19 :\u001b[0m se realiza mantencion preventiva se calibra 1 boca y se cambia 1 filtro quedando operativo\n",
      "\u001b[1mCluster  20 :\u001b[0m mantencion preventiva se realizara bajo la ot 1\n",
      "\u001b[1mCluster  21 :\u001b[0m se realiza mantenimiento preventivo calendario mensual enex se chequea calibracion de 1 boca producto diesel se cambia 1 swivel de 1 y 1 pistola de 1 esto debido a que los repuestos anteriores se encontraban en mal estado se realiza chequeo en general de surtidor limpieza interna de surtidor limpieza del sphil pintura de tapa identificacion producto estanque chequeo agua del estanque chequeo regla de medicion chequeo tablero electrico y prueba del boton de parada de emergencia el cual se encuentra operativo se realiza mantenimiento preventivo calendario mensual enex se chequea calibracion de 1 boca producto diesel se cambia 1 swivel de 1 y 1 pistola de 1 esto debido a que repuestos anteriores se encontraban en mal estado se realiza chequeo en general de surtidor limpieza interna de surtidor limpieza del sphil pintura de tapa identificacion producto estanque chequeo agua del estanque chequeo regla de medicion chequeo tablero electrico y prueba del boton de parada de emergencia el cual se encuentra operativo\n",
      "\u001b[1mElapsed time: 535.6806321144 seconds.\u001b[0m\n"
     ]
    }
   ],
   "source": [
    "# Ejecutando el algoritmo Kmeans para el número óptimo de clústers \n",
    "print('\\033[1mCLUSTERS \\n\\033[0m')\n",
    "start_time = time()\n",
    "\n",
    "sentences = sentences\n",
    "nclusters= 22\n",
    "clusters,representativos = cluster_sentences(sentences, nclusters)\n",
    "\n",
    "# Clusters representativos (con n = 22)\n",
    "for cluster in range(nclusters):\n",
    "    print (\"\\033[1mCluster \",cluster,\":\\033[0m\",sentences[clusters[cluster][representativos[cluster]]])\n",
    "\n",
    "elapsed_time = time() - start_time\n",
    "print(\"\\033[1mElapsed time: %.10f seconds.\\033[0m\" % elapsed_time)"
   ]
  },
  {
   "cell_type": "code",
   "execution_count": 14,
   "metadata": {},
   "outputs": [
    {
     "data": {
      "image/png": "[encoded data removed]",
      "text/plain": [
       "<Figure size 720x504 with 1 Axes>"
      ]
     },
     "metadata": {
      "needs_background": "light"
     },
     "output_type": "display_data"
    }
   ],
   "source": [
    "# Plot - Cantidad de sentences por cluster\n",
    "len_clusters(dic=clusters,n = nclusters) "
   ]
  },
  {
   "cell_type": "markdown",
   "metadata": {},
   "source": [
    "## III. RESULTADOS KMEANS - REQUERIMIENTOS"
   ]
  },
  {
   "cell_type": "markdown",
   "metadata": {},
   "source": [
    "#### Ejecutar el algoritmo "
   ]
  },
  {
   "cell_type": "code",
   "execution_count": 17,
   "metadata": {},
   "outputs": [
    {
     "data": {
      "text/plain": [
       "21840"
      ]
     },
     "execution_count": 17,
     "metadata": {},
     "output_type": "execute_result"
    }
   ],
   "source": [
    "sentences = [row for row in df['Requerimiento']]\n",
    "len(sentences)"
   ]
  },
  {
   "cell_type": "code",
   "execution_count": 18,
   "metadata": {},
   "outputs": [
    {
     "data": {
      "text/plain": [
       "['area de atencion habilitar estanque de combustible nro 2 para almacenar gas 93 solicitado por carmen roman fono',\n",
       " 'area de atencion combustible maria veronica godoy estimados favor generar incidencia por lo siguiente se solicita adhesivos botoneras selector de producto adhesivo 93 cantidad 6 adhesivo 95 cantidad 6 adhesivo diesel cantidad 4 codigo de ubicacion tecnica ees246 saludos cordiales maria veronica godoy administradora eds petrobras']"
      ]
     },
     "execution_count": 18,
     "metadata": {},
     "output_type": "execute_result"
    }
   ],
   "source": [
    "sentences[:2]"
   ]
  },
  {
   "cell_type": "code",
   "execution_count": 19,
   "metadata": {},
   "outputs": [
    {
     "name": "stdout",
     "output_type": "stream",
     "text": [
      "Número óptimo de clústers: 14\n"
     ]
    },
    {
     "data": {
      "image/png": "[encoded data removed]",
      "text/plain": [
       "<Figure size 720x504 with 1 Axes>"
      ]
     },
     "metadata": {
      "needs_background": "light"
     },
     "output_type": "display_data"
    },
    {
     "name": "stdout",
     "output_type": "stream",
     "text": [
      "Wall time: 18min 21s\n"
     ]
    }
   ],
   "source": [
    "%%time\n",
    "# Identificando el número óptimo de clústers por medio del método del Elbow\n",
    "elbow_method(sentences)"
   ]
  },
  {
   "cell_type": "code",
   "execution_count": 20,
   "metadata": {},
   "outputs": [
    {
     "name": "stdout",
     "output_type": "stream",
     "text": [
      "\u001b[1mCLUSTERS \n",
      "\u001b[0m\n",
      "\u001b[1mCluster  0 :\u001b[0m se realiza mantencion preventiva\n",
      "\u001b[1mCluster  1 :\u001b[0m area de atencion mantencion preventiva solicitado por fono\n",
      "\u001b[1mCluster  2 :\u001b[0m mantencion preventiva mes julio\n",
      "\u001b[1mCluster  3 :\u001b[0m mantencion preventiva cambio de filtros y surtidor\n",
      "\u001b[1mCluster  4 :\u001b[0m area de atencion\n",
      "\u001b[1mCluster  5 :\u001b[0m mantencion preventiva\n",
      "\u001b[1mCluster  6 :\u001b[0m area de atencion combustible surtidores muy lentos\n",
      "\u001b[1mCluster  7 :\u001b[0m area de atencion maquina diesel no entrega producto solicitado por fono\n",
      "\u001b[1mCluster  8 :\u001b[0m mantencion preventiva de surtidores y estanques\n",
      "\u001b[1mCluster  9 :\u001b[0m programa mantencion preventiva\n",
      "\u001b[1mCluster  10 :\u001b[0m area de atencion combustible surtidor n 5 con filtracion en la union de la pistola y manguera producto diesel\n",
      "\u001b[1mCluster  11 :\u001b[0m area de atencion surtidor no para al despachar combustible solicitado por fono\n",
      "\u001b[1mCluster  12 :\u001b[0m area de atencion combustible surtidor 2 con fuga de combustible\n",
      "\u001b[1mCluster  13 :\u001b[0m se solicita muestras de gasolina y diesel\n",
      "\u001b[1mElapsed time: 151.7070863247 seconds.\u001b[0m\n"
     ]
    }
   ],
   "source": [
    "# Ejecutando el algoritmo Kmeans para el número óptimo de clústers \n",
    "print('\\033[1mCLUSTERS \\n\\033[0m')\n",
    "start_time = time()\n",
    "\n",
    "sentences = sentences\n",
    "nclusters= 14\n",
    "clusters,representativos = cluster_sentences(sentences, nclusters)\n",
    "\n",
    "# Clusters representativos (con n = 14)\n",
    "for cluster in range(nclusters):\n",
    "    print (\"\\033[1mCluster \",cluster,\":\\033[0m\",sentences[clusters[cluster][representativos[cluster]]])\n",
    "\n",
    "elapsed_time = time() - start_time\n",
    "print(\"\\033[1mElapsed time: %.10f seconds.\\033[0m\" % elapsed_time)"
   ]
  },
  {
   "cell_type": "code",
   "execution_count": 21,
   "metadata": {},
   "outputs": [
    {
     "data": {
      "image/png": "[encoded data removed]",
      "text/plain": [
       "<Figure size 720x504 with 1 Axes>"
      ]
     },
     "metadata": {
      "needs_background": "light"
     },
     "output_type": "display_data"
    }
   ],
   "source": [
    "# Plot - Cantidad de sentences por cluster\n",
    "len_clusters(dic=clusters,n = nclusters) "
   ]
  },
  {
   "cell_type": "markdown",
   "metadata": {},
   "source": [
    "## Conclusión"
   ]
  },
  {
   "cell_type": "markdown",
   "metadata": {},
   "source": [
    "Los clusters obtenidos no son buenos, dado que 'mantención preventiva' está presente en casi todos ellos, en parte a la gran presencia de este tópico en la base de datos.\n",
    "\n",
    "Como propuesta, se considera mejor aplicar LDA a la BD completa, identificando topicos generales, y luego proceder a ejecutar KMEANS a cada estación"
   ]
  }
 ],
 "metadata": {
  "kernelspec": {
   "display_name": "Python 3",
   "language": "python",
   "name": "python3"
  },
  "language_info": {
   "codemirror_mode": {
    "name": "ipython",
    "version": 3
   },
   "file_extension": ".py",
   "mimetype": "text/x-python",
   "name": "python",
   "nbconvert_exporter": "python",
   "pygments_lexer": "ipython3",
   "version": "3.7.6"
  }
 },
 "nbformat": 4,
 "nbformat_minor": 4
}
