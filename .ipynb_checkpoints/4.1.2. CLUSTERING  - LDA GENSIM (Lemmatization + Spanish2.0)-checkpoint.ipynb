{
 "cells": [
  {
   "cell_type": "markdown",
   "metadata": {},
   "source": [
    "# CUARTO NOTEBOOK - LDA COMO MÉTODO DE CLUSTERING"
   ]
  },
  {
   "cell_type": "markdown",
   "metadata": {},
   "source": [
    "# Topic Modeling with Gensim (Python) - OGC DATABASE"
   ]
  },
  {
   "cell_type": "markdown",
   "metadata": {},
   "source": [
    "### 1. Importar Paquetes"
   ]
  },
  {
   "cell_type": "code",
   "execution_count": 1,
   "metadata": {},
   "outputs": [],
   "source": [
    "import re\n",
    "import numpy as np\n",
    "import pandas as pd\n",
    "from pprint import pprint\n",
    "\n",
    "# Gensim\n",
    "import gensim\n",
    "import gensim.corpora as corpora\n",
    "from gensim.utils import simple_preprocess\n",
    "from gensim.models import CoherenceModel\n",
    "\n",
    "# spacy for lemmatization\n",
    "import spacy\n",
    "\n",
    "# Plotting tools\n",
    "import pyLDAvis\n",
    "import pyLDAvis.gensim  # don't skip this\n",
    "import matplotlib.pyplot as plt\n",
    "%matplotlib inline\n",
    "\n",
    "# Enable logging for gensim - optional\n",
    "import logging\n",
    "logging.basicConfig(format='%(asctime)s : %(levelname)s : %(message)s', level=logging.ERROR)\n",
    "\n",
    "import warnings\n",
    "warnings.filterwarnings(\"ignore\",category=DeprecationWarning)"
   ]
  },
  {
   "cell_type": "code",
   "execution_count": 31,
   "metadata": {},
   "outputs": [],
   "source": [
    "# Stop Words\n",
    "with open('spanish.txt','r') as f:\n",
    "    stop_words = f.read().splitlines()"
   ]
  },
  {
   "cell_type": "markdown",
   "metadata": {},
   "source": [
    "### 2. Importar Data Base"
   ]
  },
  {
   "cell_type": "code",
   "execution_count": 32,
   "metadata": {},
   "outputs": [
    {
     "data": {
      "text/html": [
       "<div>\n",
       "<style scoped>\n",
       "    .dataframe tbody tr th:only-of-type {\n",
       "        vertical-align: middle;\n",
       "    }\n",
       "\n",
       "    .dataframe tbody tr th {\n",
       "        vertical-align: top;\n",
       "    }\n",
       "\n",
       "    .dataframe thead th {\n",
       "        text-align: right;\n",
       "    }\n",
       "</style>\n",
       "<table border=\"1\" class=\"dataframe\">\n",
       "  <thead>\n",
       "    <tr style=\"text-align: right;\">\n",
       "      <th></th>\n",
       "      <th>Observación</th>\n",
       "      <th>Requerimiento</th>\n",
       "    </tr>\n",
       "  </thead>\n",
       "  <tbody>\n",
       "    <tr>\n",
       "      <th>OPERACIONES Y SERVICIOS TERPEL LTDA.</th>\n",
       "      <td>[se chequea falla y se detecta ortirak que cua...</td>\n",
       "      <td>[area de atencion surtidor 1 y 2 boton de sele...</td>\n",
       "    </tr>\n",
       "    <tr>\n",
       "      <th>OPERACIONES Y SERVICIO TERPEL LTDA.</th>\n",
       "      <td>[se solicita tapa spil p15200 para estanque pr...</td>\n",
       "      <td>[area de atencion tapa spill de estanque diese...</td>\n",
       "    </tr>\n",
       "    <tr>\n",
       "      <th>Inversiones Enex</th>\n",
       "      <td>[se rechaza orden por no corresponder a contra...</td>\n",
       "      <td>[area de atencion se solicita reparacion de br...</td>\n",
       "    </tr>\n",
       "    <tr>\n",
       "      <th>SOCIEDAD DE COMBUSTIBLES AUSTRAL LTDA.</th>\n",
       "      <td>[visita se cierra bajo ot 7 visita se cierra b...</td>\n",
       "      <td>[area de atencion sin venta gas 95 y 97 en tod...</td>\n",
       "    </tr>\n",
       "    <tr>\n",
       "      <th>CL - Buses Vule S.A.</th>\n",
       "      <td>[en surtidor numero 1 se detecto se cambio 01 ...</td>\n",
       "      <td>[area de atencion breakaway esta suelto y filt...</td>\n",
       "    </tr>\n",
       "  </tbody>\n",
       "</table>\n",
       "</div>"
      ],
      "text/plain": [
       "                                                                              Observación  \\\n",
       "OPERACIONES Y SERVICIOS TERPEL LTDA.    [se chequea falla y se detecta ortirak que cua...   \n",
       "OPERACIONES Y SERVICIO TERPEL LTDA.     [se solicita tapa spil p15200 para estanque pr...   \n",
       "Inversiones Enex                        [se rechaza orden por no corresponder a contra...   \n",
       "SOCIEDAD DE COMBUSTIBLES AUSTRAL LTDA.  [visita se cierra bajo ot 7 visita se cierra b...   \n",
       "CL - Buses Vule S.A.                    [en surtidor numero 1 se detecto se cambio 01 ...   \n",
       "\n",
       "                                                                            Requerimiento  \n",
       "OPERACIONES Y SERVICIOS TERPEL LTDA.    [area de atencion surtidor 1 y 2 boton de sele...  \n",
       "OPERACIONES Y SERVICIO TERPEL LTDA.     [area de atencion tapa spill de estanque diese...  \n",
       "Inversiones Enex                        [area de atencion se solicita reparacion de br...  \n",
       "SOCIEDAD DE COMBUSTIBLES AUSTRAL LTDA.  [area de atencion sin venta gas 95 y 97 en tod...  \n",
       "CL - Buses Vule S.A.                    [area de atencion breakaway esta suelto y filt...  "
      ]
     },
     "execution_count": 32,
     "metadata": {},
     "output_type": "execute_result"
    }
   ],
   "source": [
    "# ESTACIONES\n",
    "df_estacion_sentences = pd.read_pickle('df_estacion_sentences.pkl')\n",
    "df_estacion_sentences.head()"
   ]
  },
  {
   "cell_type": "markdown",
   "metadata": {},
   "source": [
    "Viendo que analizar la totalidad de la BD será un proceso muy largo, se hará una prueba solo con un DATA FRAME en particular a modo de prototipo del modelo LDA.\n",
    "\n",
    "En relación con el tipo de DF a utilizar, se considerará el que está en formato de sentences ([sent1,sent2,..,sentn]) en lugar del que contiene todas las palabras en formato string ('sent1 sent2 ... sentn'). \n",
    "\n",
    "1. 'Carrete RetractilOTROOTRO' en df_falla_sentences ---> 9.324 sentences\n",
    "2. 'Carrete RetractilOTROOTRO' en df_falla   ----------->  3.496.506 palabras"
   ]
  },
  {
   "cell_type": "markdown",
   "metadata": {},
   "source": [
    "#### Se elige una estación en particular "
   ]
  },
  {
   "cell_type": "code",
   "execution_count": 33,
   "metadata": {},
   "outputs": [
    {
     "data": {
      "text/plain": [
       "['se chequea falla y se detecta ortirak que cuando le da el sol directo se borra por completo esto no permite el corrrecto uso del mismo se informa y solicita reparacion a empresa encargada se chequea falla y se detecta ortirak que cuando le da el sol directo se borra por completo esto no permite el corrrecto uso del mismo se informa y solicita reparacion a empresa encargada se niega firma por no estar reparado don marcelo olate',\n",
       " 'en dispensador numero 7 producto 93 se detecto union manguera pistola suelta y con filtracion se reapreta union manguera pistola quedando operativa en dispensador numero 7 producto 93 se detecto union manguera pistola suelta y con filtracion se reapreta union manguera pistola quedando operativa']"
      ]
     },
     "execution_count": 33,
     "metadata": {},
     "output_type": "execute_result"
    }
   ],
   "source": [
    "# Operaciones y Servicios Terpel LTDA \n",
    "data = df_estacion_sentences['Observación']['OPERACIONES Y SERVICIOS TERPEL LTDA.']\n",
    "data[:2]"
   ]
  },
  {
   "cell_type": "code",
   "execution_count": 5,
   "metadata": {},
   "outputs": [
    {
     "data": {
      "text/plain": [
       "416"
      ]
     },
     "execution_count": 5,
     "metadata": {},
     "output_type": "execute_result"
    }
   ],
   "source": [
    "len(data)"
   ]
  },
  {
   "cell_type": "markdown",
   "metadata": {},
   "source": [
    "### 3. Tokenize Words"
   ]
  },
  {
   "cell_type": "code",
   "execution_count": 34,
   "metadata": {},
   "outputs": [
    {
     "name": "stdout",
     "output_type": "stream",
     "text": [
      "[['se', 'chequea', 'falla', 'se', 'detecta', 'ortirak', 'que', 'cuando', 'le', 'da', 'el', 'sol', 'directo', 'se', 'borra', 'por', 'completo', 'esto', 'no', 'permite', 'el', 'corrrecto', 'uso', 'del', 'mismo', 'se', 'informa', 'solicita', 'reparacion', 'empresa', 'encargada', 'se', 'chequea', 'falla', 'se', 'detecta', 'ortirak', 'que', 'cuando', 'le', 'da', 'el', 'sol', 'directo', 'se', 'borra', 'por', 'completo', 'esto', 'no', 'permite', 'el', 'corrrecto', 'uso', 'del', 'mismo', 'se', 'informa', 'solicita', 'reparacion', 'empresa', 'encargada', 'se', 'niega', 'firma', 'por', 'no', 'estar', 'reparado', 'don', 'marcelo', 'olate']]\n"
     ]
    }
   ],
   "source": [
    "def sent_to_words(sentences):\n",
    "    for sentence in sentences:\n",
    "        yield(gensim.utils.simple_preprocess(str(sentence), deacc=True))  # deacc=True removes punctuations\n",
    "\n",
    "data_words = list(sent_to_words(data))\n",
    "\n",
    "print(data_words[:1])"
   ]
  },
  {
   "cell_type": "markdown",
   "metadata": {},
   "source": [
    "### 4.  Bigram and Trigram Models"
   ]
  },
  {
   "cell_type": "code",
   "execution_count": 24,
   "metadata": {},
   "outputs": [
    {
     "name": "stdout",
     "output_type": "stream",
     "text": [
      "['se', 'chequea', 'falla', 'se', 'detecta', 'ortirak', 'que', 'cuando', 'le', 'da', 'el', 'sol', 'directo', 'se', 'borra', 'por', 'completo', 'esto', 'no', 'permite', 'el', 'corrrecto', 'uso', 'del', 'mismo', 'se', 'informa', 'solicita', 'reparacion', 'empresa', 'encargada', 'se', 'chequea', 'falla', 'se', 'detecta', 'ortirak', 'que', 'cuando', 'le', 'da', 'el', 'sol', 'directo', 'se', 'borra', 'por', 'completo', 'esto', 'no', 'permite', 'el', 'corrrecto', 'uso', 'del', 'mismo', 'se', 'informa', 'solicita', 'reparacion', 'empresa', 'encargada', 'se', 'niega', 'firma', 'por', 'no', 'estar', 'reparado', 'don', 'marcelo', 'olate']\n"
     ]
    }
   ],
   "source": [
    "# Build the bigram and trigram models\n",
    "bigram = gensim.models.Phrases(data_words, min_count=5, threshold=100) # higher threshold fewer phrases.\n",
    "trigram = gensim.models.Phrases(bigram[data_words], threshold=100)  \n",
    "\n",
    "# Faster way to get a sentence clubbed as a trigram/bigram\n",
    "bigram_mod = gensim.models.phrases.Phraser(bigram)\n",
    "trigram_mod = gensim.models.phrases.Phraser(trigram)\n",
    "\n",
    "# See trigram example\n",
    "print(trigram_mod[bigram_mod[data_words[0]]])"
   ]
  },
  {
   "cell_type": "markdown",
   "metadata": {},
   "source": [
    "### 5. Remover Stopwords, ejecutar Bigrams y Lemmatize"
   ]
  },
  {
   "cell_type": "code",
   "execution_count": 35,
   "metadata": {},
   "outputs": [],
   "source": [
    "# Define functions for stopwords, bigrams, trigrams and lemmatization\n",
    "def remove_stopwords(texts):\n",
    "    return [[word for word in simple_preprocess(str(doc)) if word not in stop_words] for doc in texts]\n",
    "\n",
    "def make_bigrams(texts):\n",
    "    return [bigram_mod[doc] for doc in texts]\n",
    "\n",
    "def make_trigrams(texts):\n",
    "    return [trigram_mod[bigram_mod[doc]] for doc in texts]\n",
    "\n",
    "def lemmatization(texts, allowed_postags=['NOUN', 'ADJ', 'VERB', 'ADV','PROPN']):\n",
    "    texts_out = []\n",
    "    for sent in texts:\n",
    "        doc = nlp(u\" \".join(sent)) \n",
    "        texts_out.append([token.lemma_ for token in doc if token.pos_ in allowed_postags])\n",
    "    return texts_out"
   ]
  },
  {
   "cell_type": "markdown",
   "metadata": {},
   "source": [
    "#### Llamando a las funciones en orden"
   ]
  },
  {
   "cell_type": "code",
   "execution_count": 36,
   "metadata": {},
   "outputs": [
    {
     "name": "stdout",
     "output_type": "stream",
     "text": [
      "[['chequea', 'fallo', 'detectar', 'ortirak', 'sol', 'directo', 'borrar', 'completar', 'permitir', 'corrrecto', 'usar', 'informar', 'solicitar', 'reparacion', 'empresa', 'encargar', 'chequea', 'fallo', 'detectar', 'ortirak', 'sol', 'directo', 'borrar', 'completar', 'permitir', 'corrrecto', 'usar', 'informar', 'solicitar', 'reparacion', 'empresa', 'encargar', 'negar', 'firmar', 'reparar', 'don', 'marcelo', 'olate']]\n"
     ]
    }
   ],
   "source": [
    "# Remove Stop Words\n",
    "data_words_nostops = remove_stopwords(data_words)\n",
    "\n",
    "# Form Bigrams\n",
    "data_words_bigrams = make_bigrams(data_words_nostops)\n",
    "\n",
    "# Initialize spacy 'es' model, keeping only tagger component (for efficiency)\n",
    "nlp = spacy.load('es_core_news_md', disable=['parser', 'ner'])\n",
    "\n",
    "# Do lemmatization keeping only noun, adj, vb, adv\n",
    "data_lemmatized = lemmatization(data_words_nostops) # Se eligue solo data_words_nostops ya que no es probable que existan bigramas o trigramas\n",
    "\n",
    "print(data_lemmatized[:1])"
   ]
  },
  {
   "cell_type": "code",
   "execution_count": 47,
   "metadata": {},
   "outputs": [
    {
     "name": "stdout",
     "output_type": "stream",
     "text": [
      "['se chequea falla detectando surtidores lentos y con fuga se realiza reapriete y sellado de todos los diesel se realiza cambio de filtros y se prueba queda operativo en un 100 se chequea falla detectando surtidores lentos y con fuga se realiza reapriete y sellado de todos los diesel se realiza cambio de filtros y se prueba queda operativo en un 100']\n"
     ]
    }
   ],
   "source": [
    "print(data[4:5])"
   ]
  },
  {
   "cell_type": "code",
   "execution_count": 48,
   "metadata": {},
   "outputs": [
    {
     "name": "stdout",
     "output_type": "stream",
     "text": [
      "[['se', 'chequea', 'falla', 'detectando', 'surtidores', 'lentos', 'con', 'fuga', 'se', 'realiza', 'reapriete', 'sellado', 'de', 'todos', 'los', 'diesel', 'se', 'realiza', 'cambio', 'de', 'filtros', 'se', 'prueba', 'queda', 'operativo', 'en', 'un', 'se', 'chequea', 'falla', 'detectando', 'surtidores', 'lentos', 'con', 'fuga', 'se', 'realiza', 'reapriete', 'sellado', 'de', 'todos', 'los', 'diesel', 'se', 'realiza', 'cambio', 'de', 'filtros', 'se', 'prueba', 'queda', 'operativo', 'en', 'un']]\n"
     ]
    }
   ],
   "source": [
    "print(data_words[4:5])"
   ]
  },
  {
   "cell_type": "code",
   "execution_count": 50,
   "metadata": {},
   "outputs": [
    {
     "name": "stdout",
     "output_type": "stream",
     "text": [
      "[['chequea', 'falla', 'detectando', 'surtidores', 'lentos', 'fuga', 'realiza', 'reapriete', 'sellado', 'diesel', 'realiza', 'cambio', 'filtros', 'prueba', 'queda', 'operativo', 'chequea', 'falla', 'detectando', 'surtidores', 'lentos', 'fuga', 'realiza', 'reapriete', 'sellado', 'diesel', 'realiza', 'cambio', 'filtros', 'prueba', 'queda', 'operativo']]\n"
     ]
    }
   ],
   "source": [
    "print(data_words_nostops[4:5])"
   ]
  },
  {
   "cell_type": "code",
   "execution_count": 49,
   "metadata": {},
   "outputs": [
    {
     "name": "stdout",
     "output_type": "stream",
     "text": [
      "[['chequea', 'detectar', 'surtidor', 'lento', 'fugar', 'realizar', 'reapriete', 'sellar', 'diesel', 'realizar', 'cambiar', 'filtro', 'probar', 'quedo', 'operativo', 'chequea', 'detectar', 'surtidor', 'lento', 'fugar', 'realizar', 'reapriete', 'sellar', 'diesel', 'realizar', 'cambiar', 'filtro', 'probar', 'quedo', 'operativo']]\n"
     ]
    }
   ],
   "source": [
    "print(data_lemmatized[4:5])"
   ]
  },
  {
   "cell_type": "markdown",
   "metadata": {},
   "source": [
    "### 6. Creando un Diccionario y Corpus para Topic Modeling"
   ]
  },
  {
   "cell_type": "code",
   "execution_count": 52,
   "metadata": {},
   "outputs": [
    {
     "name": "stdout",
     "output_type": "stream",
     "text": [
      "[[(0, 2), (1, 2), (2, 2), (3, 2), (4, 2), (5, 2), (6, 1), (7, 2), (8, 2), (9, 2), (10, 1), (11, 2), (12, 1), (13, 1), (14, 1), (15, 2), (16, 2), (17, 2), (18, 1), (19, 2), (20, 2), (21, 2)]]\n"
     ]
    }
   ],
   "source": [
    "# Create Dictionary\n",
    "id2word = corpora.Dictionary(data_lemmatized) # SOLO CON STOPWORDS\n",
    "\n",
    "# Create Corpus\n",
    "texts = data_lemmatized\n",
    "\n",
    "# Term Document Frequency\n",
    "corpus = [id2word.doc2bow(text) for text in texts]\n",
    "\n",
    "# View\n",
    "print(corpus[:1])  # (word_id, word_frequency)"
   ]
  },
  {
   "cell_type": "code",
   "execution_count": 53,
   "metadata": {},
   "outputs": [
    {
     "data": {
      "text/plain": [
       "[[('borrar', 2),\n",
       "  ('chequea', 2),\n",
       "  ('completar', 2),\n",
       "  ('corrrecto', 2),\n",
       "  ('detectar', 2),\n",
       "  ('directo', 2),\n",
       "  ('don', 1),\n",
       "  ('empresa', 2),\n",
       "  ('encargar', 2),\n",
       "  ('fallo', 2),\n",
       "  ('firmar', 1),\n",
       "  ('informar', 2),\n",
       "  ('marcelo', 1),\n",
       "  ('negar', 1),\n",
       "  ('olate', 1),\n",
       "  ('ortirak', 2),\n",
       "  ('permitir', 2),\n",
       "  ('reparacion', 2),\n",
       "  ('reparar', 1),\n",
       "  ('sol', 2),\n",
       "  ('solicitar', 2),\n",
       "  ('usar', 2)]]"
      ]
     },
     "execution_count": 53,
     "metadata": {},
     "output_type": "execute_result"
    }
   ],
   "source": [
    "# Human readable format of corpus (term-frequency)\n",
    "[[(id2word[id], freq) for id, freq in cp] for cp in corpus[:1]]"
   ]
  },
  {
   "cell_type": "markdown",
   "metadata": {},
   "source": [
    "### 7. LDA MODEL"
   ]
  },
  {
   "cell_type": "code",
   "execution_count": 54,
   "metadata": {},
   "outputs": [],
   "source": [
    "# Build LDA model\n",
    "lda_model = gensim.models.ldamodel.LdaModel(corpus=corpus,\n",
    "                                           id2word=id2word,\n",
    "                                           num_topics=20, \n",
    "                                           random_state=100,\n",
    "                                           update_every=1,\n",
    "                                           chunksize=100,\n",
    "                                           passes=10,\n",
    "                                           alpha='auto',\n",
    "                                           per_word_topics=True)"
   ]
  },
  {
   "cell_type": "markdown",
   "metadata": {},
   "source": [
    "### 8. Viendo los tópicos en LDA model"
   ]
  },
  {
   "cell_type": "code",
   "execution_count": 55,
   "metadata": {},
   "outputs": [
    {
     "name": "stdout",
     "output_type": "stream",
     "text": [
      "[(0,\n",
      "  '0.150*\"problema\" + 0.121*\"informar\" + 0.099*\"probar\" + 0.044*\"encontrar\" + '\n",
      "  '0.032*\"chequea\" + 0.021*\"ocurrir\" + 0.018*\"llegar\" + 0.009*\"durar\" + '\n",
      "  '0.009*\"mometno\" + 0.009*\"colocar\"'),\n",
      " (1,\n",
      "  '0.089*\"segun\" + 0.068*\"placa\" + 0.052*\"terminal\" + 0.043*\"kerosenne\" + '\n",
      "  '0.042*\"display\" + 0.042*\"reparar\" + 0.039*\"surtidor\" + 0.036*\"precio\" + '\n",
      "  '0.027*\"solicitar\" + 0.026*\"volumen\"'),\n",
      " (2,\n",
      "  '0.133*\"revision\" + 0.116*\"normal\" + 0.103*\"despachar\" + 0.054*\"tablero\" + '\n",
      "  '0.053*\"electrico\" + 0.052*\"llegar\" + 0.049*\"funcionar\" + 0.045*\"encontrar\" '\n",
      "  '+ 0.017*\"eds\" + 0.014*\"normalizar\"'),\n",
      " (3,\n",
      "  '0.243*\"atender\" + 0.231*\"ot\" + 0.222*\"incidencia\" + 0.012*\"unión\" + '\n",
      "  '0.012*\"rearmar\" + 0.010*\"swivels\" + 0.000*\"vamnio\" + 0.000*\"teclado\" + '\n",
      "  '0.000*\"tecnico\" + 0.000*\"rene\"'),\n",
      " (4,\n",
      "  '0.189*\"cambiar\" + 0.108*\"rv\" + 0.105*\"realizar\" + 0.087*\"operativo\" + '\n",
      "  '0.086*\"quedar\" + 0.063*\"pistola\" + 0.050*\"manguera\" + 0.038*\"dispensador\" + '\n",
      "  '0.030*\"producto\" + 0.029*\"prueba\"'),\n",
      " (5,\n",
      "  '0.001*\"chequea\" + 0.001*\"helix\" + 0.001*\"wayne\" + 0.001*\"respuesta\" + '\n",
      "  '0.001*\"portapistola\" + 0.001*\"modelohwlu\" + 0.001*\"brusco\" + '\n",
      "  '0.001*\"instalacion\" + 0.001*\"apoyar\" + 0.001*\"pist\"'),\n",
      " (6,\n",
      "  '0.098*\"verificar\" + 0.060*\"dispensador\" + 0.057*\"estanque\" + '\n",
      "  '0.056*\"limpieza\" + 0.044*\"mantencion\" + 0.032*\"deteriorar\" + '\n",
      "  '0.030*\"kerosene\" + 0.029*\"verificacion\" + 0.028*\"danado\" + '\n",
      "  '0.022*\"procesar\"'),\n",
      " (7,\n",
      "  '0.130*\"fallo\" + 0.076*\"revisar\" + 0.074*\"lado\" + 0.073*\"dispensador\" + '\n",
      "  '0.071*\"gas\" + 0.063*\"describir\" + 0.063*\"litro\" + 0.061*\"quedo\" + '\n",
      "  '0.050*\"prueba\" + 0.049*\"detectar\"'),\n",
      " (8,\n",
      "  '0.120*\"chequea\" + 0.097*\"detectar\" + 0.083*\"fallo\" + 0.073*\"operativo\" + '\n",
      "  '0.065*\"hose\" + 0.063*\"realizar\" + 0.058*\"quedo\" + 0.044*\"probar\" + '\n",
      "  '0.040*\"momento\" + 0.038*\"wipe\"'),\n",
      " (9,\n",
      "  '0.158*\"realizar\" + 0.151*\"disp\" + 0.142*\"remplazar\" + 0.098*\"rv\" + '\n",
      "  '0.058*\"pistola\" + 0.056*\"opw\" + 0.030*\"breckawey\" + 0.029*\"manguera\" + '\n",
      "  '0.025*\"swivel\" + 0.023*\"reparacion\"'),\n",
      " (10,\n",
      "  '0.239*\"calibrar\" + 0.211*\"preventivo\" + 0.209*\"mantencion\" + 0.034*\"boca\" + '\n",
      "  '0.013*\"producto\" + 0.011*\"sgs\" + 0.011*\"correspondiente\" + 0.009*\"orden\" + '\n",
      "  '0.005*\"favor\" + 0.005*\"contratista\"'),\n",
      " (11,\n",
      "  '0.060*\"gas\" + 0.053*\"tapar\" + 0.040*\"aparentar\" + 0.036*\"check\" + '\n",
      "  '0.032*\"presion\" + 0.029*\"quebrar\" + 0.027*\"servicentro\" + 0.027*\"visitar\" + '\n",
      "  '0.026*\"elementar\" + 0.024*\"quedo\"'),\n",
      " (12,\n",
      "  '0.145*\"revison\" + 0.087*\"reponer\" + 0.061*\"encore\" + 0.035*\"detectandose\" + '\n",
      "  '0.035*\"realizar\" + 0.032*\"flujo\" + 0.031*\"chequea\" + 0.028*\"quedo\" + '\n",
      "  '0.025*\"solicitar\" + 0.025*\"surtidor\"'),\n",
      " (13,\n",
      "  '0.072*\"revisar\" + 0.062*\"accesorio\" + 0.050*\"realizar\" + 0.049*\"boca\" + '\n",
      "  '0.049*\"equipo\" + 0.042*\"spill\" + 0.041*\"lado\" + 0.037*\"descargar\" + '\n",
      "  '0.028*\"operativo\" + 0.028*\"preventivo\"'),\n",
      " (14,\n",
      "  '0.217*\"equipar\" + 0.162*\"realizar\" + 0.153*\"operativo\" + 0.100*\"quedar\" + '\n",
      "  '0.080*\"venta\" + 0.056*\"despachar\" + 0.055*\"cliente\" + 0.052*\"encontrandose\" '\n",
      "  '+ 0.016*\"preset\" + 0.007*\"reprogramacion\"'),\n",
      " (15,\n",
      "  '0.096*\"surtidor\" + 0.084*\"sistema\" + 0.060*\"revisar\" + 0.055*\"reconecta\" + '\n",
      "  '0.051*\"problema\" + 0.040*\"detectar\" + 0.038*\"dispensador\" + 0.034*\"operar\" '\n",
      "  '+ 0.034*\"alimentacion\" + 0.022*\"reaprieta\"'),\n",
      " (16,\n",
      "  '0.135*\"detector\" + 0.117*\"fugar\" + 0.066*\"gas\" + 0.066*\"aguar\" + '\n",
      "  '0.066*\"realizar\" + 0.036*\"estancar\" + 0.034*\"alto\" + 0.027*\"diesel\" + '\n",
      "  '0.027*\"operar\" + 0.024*\"estacion\"'),\n",
      " (17,\n",
      "  '0.147*\"ok\" + 0.136*\"disp\" + 0.096*\"fallo\" + 0.091*\"funcionar\" + '\n",
      "  '0.051*\"presentar\" + 0.048*\"surt\" + 0.035*\"encargar\" + 0.031*\"motor\" + '\n",
      "  '0.027*\"displey\" + 0.025*\"pistola\"'),\n",
      " (18,\n",
      "  '0.067*\"revolución\" + 0.043*\"contar\" + 0.036*\"mp\" + 0.030*\"contenedor\" + '\n",
      "  '0.029*\"contaminar\" + 0.028*\"tambor\" + 0.028*\"coneccion\" + 0.026*\"cabezal\" + '\n",
      "  '0.024*\"isla\" + 0.020*\"camara\"'),\n",
      " (19,\n",
      "  '0.123*\"funcionar\" + 0.066*\"instalar\" + 0.056*\"union\" + 0.049*\"mantener\" + '\n",
      "  '0.047*\"suelto\" + 0.032*\"quedo\" + 0.028*\"reapreta\" + 0.025*\"reconectable\" + '\n",
      "  '0.025*\"efecto\" + 0.024*\"centrifugar\"')]\n"
     ]
    }
   ],
   "source": [
    "# Print the Keyword in the 10 topics\n",
    "pprint(lda_model.print_topics())\n",
    "doc_lda = lda_model[corpus]"
   ]
  },
  {
   "cell_type": "markdown",
   "metadata": {},
   "source": [
    "### 9. Model Perplexity and Coherence Score"
   ]
  },
  {
   "cell_type": "code",
   "execution_count": 57,
   "metadata": {},
   "outputs": [
    {
     "name": "stdout",
     "output_type": "stream",
     "text": [
      "\n",
      "Perplexity:  -7.695196190562801\n",
      "\n",
      "Coherence Score:  0.467436407591896\n"
     ]
    }
   ],
   "source": [
    "# Compute Perplexity\n",
    "print('\\nPerplexity: ', lda_model.log_perplexity(corpus))  # a measure of how good the model is. lower the better.\n",
    "\n",
    "# Compute Coherence Score\n",
    "coherence_model_lda = CoherenceModel(model=lda_model, texts=texts, dictionary=id2word, coherence='c_v')\n",
    "coherence_lda = coherence_model_lda.get_coherence()\n",
    "print('\\nCoherence Score: ', coherence_lda)"
   ]
  },
  {
   "cell_type": "markdown",
   "metadata": {},
   "source": [
    "### 10. Visualize the topics-keywords"
   ]
  },
  {
   "cell_type": "code",
   "execution_count": 58,
   "metadata": {},
   "outputs": [
    {
     "data": {
      "text/html": [
       "\n",
       "<link rel=\"stylesheet\" type=\"text/css\" href=\"https://cdn.rawgit.com/bmabey/pyLDAvis/files/ldavis.v1.0.0.css\">\n",
       "\n",
       "\n",
       "<div id=\"ldavis_el608018148771017683381702985\"></div>\n",
       "<script type=\"text/javascript\">\n",
       "\n",
       "var ldavis_el608018148771017683381702985_data = {\"mdsDat\": {\"x\": [0.3552546160568975, 0.2540647022555247, 0.1163259769882511, 0.27416223158708625, -0.07733019000155551, 0.16248245671459496, 0.11246703379047336, 0.03474927144343535, -0.01909083585426331, -0.028266978464071148, -0.042241509993957975, -0.1425593163788024, -0.06544600121739651, -0.08595026850255254, -0.13398965670594293, -0.15971147665164087, -0.10481137473939084, -0.12935906335333075, -0.15473605448261715, -0.16601356249074134], \"y\": [0.0204346719116719, -0.19329181180344562, 0.24181647711806625, 0.023642545035029775, -0.002325505411343547, 0.04525123250503345, -0.05606000658104213, 0.033001416695675426, -0.2661551806149872, -0.07755664456015736, 0.16941592620394286, -0.030737334013075743, 0.033358627575888006, 0.08274170990073942, -0.047956068135644146, -0.07407806145195545, 0.14763414122587704, -0.02882579676123842, -0.019887581113275505, -0.0004227577257588374], \"topics\": [1, 2, 3, 4, 5, 6, 7, 8, 9, 10, 11, 12, 13, 14, 15, 16, 17, 18, 19, 20], \"cluster\": [1, 1, 1, 1, 1, 1, 1, 1, 1, 1, 1, 1, 1, 1, 1, 1, 1, 1, 1, 1], \"Freq\": [15.0897798538208, 12.604071617126465, 11.250520706176758, 8.411770820617676, 7.119464874267578, 7.059924125671387, 5.628457546234131, 5.591747283935547, 5.399229526519775, 4.1452131271362305, 2.9323506355285645, 2.791086435317993, 2.6320853233337402, 2.106137275695801, 2.040276050567627, 1.65887451171875, 1.287839412689209, 1.0969698429107666, 1.0968142747879028, 0.05738837644457817]}, \"tinfo\": {\"Term\": [\"disp\", \"equipar\", \"cambiar\", \"remplazar\", \"rv\", \"fallo\", \"operativo\", \"realizar\", \"revisar\", \"quedar\", \"ok\", \"preventivo\", \"detector\", \"funcionar\", \"dispensador\", \"mantencion\", \"gas\", \"detectar\", \"revison\", \"chequea\", \"fugar\", \"despachar\", \"pistola\", \"probar\", \"lado\", \"calibrar\", \"quedo\", \"boca\", \"accesorio\", \"venta\", \"filtrar\", \"producto\", \"valvula\", \"filtro\", \"cambiar\", \"filtracion\", \"medidor\", \"breakaways\", \"sellar\", \"lento\", \"rotar\", \"stock\", \"manguera\", \"rv\", \"prueba\", \"wipehose\", \"bodega\", \"quedar\", \"movilsolicitado\", \"silicita\", \"roturar\", \"interno\", \"pistola\", \"isla\", \"dispensador\", \"operativo\", \"perdido\", \"diesel\", \"boca\", \"realizar\", \"detectar\", \"gas\", \"remplazar\", \"opw\", \"breckawey\", \"palanca\", \"fijacion\", \"accionamiento\", \"informacion\", \"fundir\", \"utilizar\", \"reco\", \"proxima\", \"repuesto\", \"reparacion\", \"chequeo\", \"reinstalacion\", \"swivel\", \"malo\", \"soler\", \"rozar\", \"disp\", \"calzar\", \"entregar\", \"mda\", \"conjuntar\", \"gatillo\", \"superior\", \"gun\", \"real\", \"recibio\", \"rvcon\", \"rv\", \"pistola\", \"realizar\", \"manguera\", \"coordinar\", \"quedar\", \"accesorio\", \"equipo\", \"interior\", \"matraz\", \"limpiar\", \"calibracion\", \"filtraci\\u00f3n\", \"whipe\", \"spill\", \"recirculan\", \"descargar\", \"limpio\", \"tiempo\", \"efectua\", \"eliminar\", \"reemplazar\", \"reposar\", \"recirculacion\", \"deber\", \"pintar\", \"efectuar\", \"dentro\", \"mategial\", \"mts\", \"reclamar\", \"volumetrica\", \"llenar\", \"reclamo\", \"cargar\", \"boca\", \"revisar\", \"preventivo\", \"lado\", \"probar\", \"verificacion\", \"litro\", \"mantencion\", \"tapar\", \"diesel\", \"realizar\", \"quedar\", \"operativo\", \"normal\", \"equipar\", \"encontrandose\", \"preset\", \"cliente\", \"venta\", \"reprogramacion\", \"reinstalar\", \"parametros\", \"reconecto\", \"desconectar\", \"despachar\", \"breakaway\", \"tomar\", \"fotografica\", \"tecnica\", \"gilbarco\", \"master\", \"adir\", \"pegamento\", \"despegar\", \"vender\", \"reconectado\", \"tirarlo\", \"plca\", \"mostrar\", \"reset\", \"operativo\", \"quedar\", \"listar\", \"realizar\", \"aparentar\", \"check\", \"presion\", \"quebrar\", \"servicentro\", \"visitar\", \"elementar\", \"funcional\", \"hacer\", \"cano\", \"est\", \"partir\", \"brevedad\", \"personal\", \"ver\", \"activar\", \"pendiente\", \"atencion\", \"tarjeta\", \"retornar\", \"esperar\", \"nuevo\", \"comportamiento\", \"posible\", \"valvulas\", \"diferencial\", \"dispenzador\", \"veeder\", \"root\", \"bombo\", \"linear\", \"tapar\", \"ademar\", \"gas\", \"coordinar\", \"solicitar\", \"cerrar\", \"quedo\", \"detectar\", \"mantener\", \"describir\", \"normalmente\", \"octuple\", \"monitorean\", \"recirculando\", \"mal\", \"ods\", \"emitir\", \"hora\", \"mas\", \"fijo\", \"litro\", \"ajustar\", \"lado\", \"fallo\", \"prueba\", \"don\", \"bien\", \"recvap\", \"contacto\", \"teapreta\", \"electricos\", \"completar\", \"directo\", \"ortirak\", \"sol\", \"corrrecto\", \"octuples\", \"remoto\", \"inferior\", \"gas\", \"dispensador\", \"revisar\", \"quedo\", \"detectar\", \"pistola\", \"gatillo\", \"operativo\", \"venta\", \"operar\", \"bombo\", \"cortar\", \"probar\", \"diesel\", \"hose\", \"momento\", \"wipe\", \"breakway\", \"reapriete\", \"cortar\", \"eds\", \"chequea\", \"cammbio\", \"uni\\u00f3n\", \"detectar\", \"probar\", \"llegar\", \"quedo\", \"fallo\", \"fugar\", \"operativo\", \"prueb\", \"portapistola\", \"tierra\", \"aterrizar\", \"oring\", \"material\", \"manguer\", \"comprobante\", \"accionar\", \"lugar\", \"defuga\", \"articular\", \"desconeccion\", \"realizar\", \"cambiar\", \"anclaje\", \"estacion\", \"rv\", \"detector\", \"aguar\", \"alto\", \"proceder\", \"lt\", \"observacion\", \"cap\\u00edtulo\", \"turbinar\", \"estancar\", \"danada\", \"fugar\", \"app\", \"tener\", \"servicio\", \"dejar\", \"frecuencia\", \"variador\", \"manometro\", \"seco\", \"estacion\", \"retirar\", \"camara\", \"alarmar\", \"regularizacion\", \"observandose\", \"operar\", \"reparar\", \"encontrar\", \"gas\", \"electrica\", \"diesel\", \"realizar\", \"quedo\", \"cambiar\", \"bodega\", \"ok\", \"presentar\", \"surt\", \"motor\", \"displey\", \"sacar\", \"totalizador\", \"trabajar\", \"encargar\", \"boto\", \"intercambiar\", \"doblar\", \"comentar\", \"funcionar\", \"reintalan\", \"protector\", \"mascar\", \"esporadicamente\", \"lubricacion\", \"orueba\", \"kerosene\", \"disp\", \"fallo\", \"encore\", \"swivel\", \"surtidor\", \"chequea\", \"acudir\", \"encontro\", \"recirculaci\\u00f3n\", \"pistola\", \"realizar\", \"remplazar\", \"revison\", \"reponer\", \"detectandose\", \"flujo\", \"reprograma\", \"firmar\", \"medir\", \"bloquear\", \"enex\", \"borrar\", \"solucionar\", \"aprox\", \"encore\", \"bueno\", \"permitir\", \"cebar\", \"tdf\", \"derivar\", \"protura\", \"detdctando\", \"preisonado\", \"conbezzel\", \"descebar\", \"finiquitar\", \"forzar\", \"jefatura\", \"potenciar\", \"sobreconsumo\", \"funciinamiento\", \"ralizan\", \"reset\", \"cable\", \"master\", \"solicitar\", \"surtidor\", \"maquinar\", \"chequea\", \"problema\", \"quedo\", \"operar\", \"realizar\", \"reparacion\", \"operativo\", \"revoluci\\u00f3n\", \"contar\", \"mp\", \"contenedor\", \"contaminar\", \"tambor\", \"camaras\", \"condicion\", \"mantenia\", \"compania\", \"confinar\", \"derramar\", \"internet\", \"riesgo\", \"prevencionista\", \"slas\", \"enconttarse\", \"espaciar\", \"coneccion\", \"cabezal\", \"demas\", \"isla\", \"camara\", \"retirar\", \"estacion\", \"dejar\", \"pintar\", \"estancar\", \"verificacion\", \"volumetrica\", \"calibrar\", \"diesel\", \"litro\", \"preventivo\", \"dispensador\", \"realizar\", \"mantencion\", \"revisar\", \"descargar\", \"quedar\", \"segun\", \"placa\", \"terminal\", \"kerosenne\", \"precio\", \"volumen\", \"ppu\", \"llamar\", \"display\", \"seguir\", \"nodo\", \"registrar\", \"foto\", \"segmento\", \"actualizar\", \"infrarrojo\", \"codigo\", \"predeterminador\", \"reparar\", \"desarmar\", \"soltar\", \"cerrar\", \"control\", \"bodega\", \"cable\", \"coneccion\", \"solicitar\", \"surtidor\", \"normal\", \"acudir\", \"venta\", \"sistema\", \"reconecta\", \"alimentacion\", \"reaprieta\", \"empresa\", \"iluminacion\", \"problsma\", \"reinicia\", \"funcionamiento\", \"concurrio\", \"masec\", \"emergencia\", \"subsanar\", \"transformador\", \"soldadura\", \"repasar\", \"soltar\", \"surtidor\", \"problema\", \"kerosene\", \"operar\", \"electrica\", \"revisar\", \"detectar\", \"dispensador\", \"pensador\", \"anclaje\", \"aterrizar\", \"tierra\", \"probeta\", \"barrer\", \"diesel\", \"chequea\", \"operativo\", \"quedar\", \"fallo\", \"verificar\", \"estanque\", \"limpieza\", \"deteriorar\", \"danado\", \"procesar\", \"codo\", \"vaporar\", \"pintura\", \"eess\", \"adhesivo\", \"adaptador\", \"bocaestanque\", \"remarcar\", \"giratorio\", \"mateeial\", \"ruido\", \"programacion\", \"terminar\", \"kerosene\", \"desgastar\", \"verificacion\", \"mantencion\", \"ademar\", \"volumetrica\", \"pendiente\", \"dispensador\", \"revision\", \"caro\", \"lluvia\", \"tapar\", \"quedo\", \"realizar\", \"tablero\", \"electrico\", \"revision\", \"normalizar\", \"activo\", \"normal\", \"caido\", \"contactar\", \"llegar\", \"encontrar\", \"ortr\", \"perimetral\", \"apagar\", \"automarico\", \"requerimiento\", \"despachar\", \"funcionar\", \"eds\", \"electrica\", \"pensador\", \"colgante\", \"originar\", \"sector\", \"resolver\", \"voltage\", \"rango\", \"orpak\", \"cruzar\", \"comentario\", \"comunicacion\", \"administrador\", \"alimentar\", \"venta\", \"estabilizador\", \"variaci\\u00f3n\", \"existir\", \"union\", \"suelto\", \"reapreta\", \"reconectable\", \"efecto\", \"centrifugar\", \"mantenimiento\", \"instalar\", \"menor\", \"breakawat\", \"convencional\", \"mantener\", \"levantar\", \"limea\", \"rellema\", \"funcionar\", \"breakaway\", \"cortar\", \"psi\", \"eprecia\", \"oring\", \"asegurar\", \"manilla\", \"resorte\", \"reintala\", \"operacion\", \"presenciar\", \"embargar\", \"canopy\", \"bada\", \"kerosene\", \"surtidor\", \"quedo\", \"normalizacion\", \"realizar\", \"calibrar\", \"sgs\", \"correspondiente\", \"orden\", \"mantencion\", \"preventivo\", \"favor\", \"contratista\", \"corresponder\", \"duplicar\", \"boca\", \"producto\", \"kero\", \"correspodiente\", \"mnatendor\", \"tls\", \"lentitud\", \"qyuedando\", \"reposicion\", \"operativi\", \"rvison\", \"portar\", \"empaquetadura\", \"col\", \"start\", \"bisagra\", \"realioza\", \"sifon\", \"pod\", \"garantia\", \"encontro\", \"acudir\", \"incidencia\", \"ver\", \"funcional\", \"presion\", \"isla\", \"hose\", \"whipe\", \"bombo\", \"elementar\", \"comportamiento\", \"actualizar\", \"operativau\", \"atender\", \"ot\", \"incidencia\", \"rearmar\", \"swivels\", \"uni\\u00f3n\", \"vamnio\", \"teclado\", \"tecnico\", \"rene\", \"febrero\", \"ejecutar\", \"devia\", \"movil\", \"acunar\", \"varga\", \"trifasica\", \"presto\", \"gabriel\", \"luis\", \"acopiar\", \"macec\", \"extraccion\", \"apoyar\", \"respuesta\", \"modelohwlu\", \"helix\", \"garantia\", \"administrativo\", \"lentitud\", \"hp\", \"tk\", \"portapistola\", \"instalacion\", \"informar\", \"ocurrir\", \"problema\", \"colocar\", \"durar\", \"mometno\", \"avezar\", \"encontrar\", \"probar\", \"llegar\", \"recirculaci\\u00f3n\", \"solo\", \"normalidad\", \"encontro\", \"observar\", \"legar\", \"portapistola\", \"vez\", \"comprobante\", \"accionar\", \"caudal\", \"enel\", \"callar\", \"relacion\", \"energia\", \"nornal\", \"recabar\", \"fase\", \"reinicio\", \"autorizar\", \"chequea\", \"fallo\", \"lentitud\", \"qyuedando\", \"reposicion\", \"operativi\", \"rvison\", \"portar\", \"empaquetadura\", \"start\", \"col\", \"bisagra\", \"sifon\", \"realioza\", \"correspodiente\", \"modelohwlu\", \"helix\", \"presety\", \"garantia\", \"pod\", \"respuesta\", \"tornillo\", \"realizandose\", \"cebamiento\", \"verde\", \"rios\", \"manguers\", \"ricardo\", \"convenc\", \"mamguera\", \"rvse\", \"paso\", \"chequea\", \"rwcirculando\", \"infrarrojo\", \"elementar\", \"comportamiento\", \"bombo\", \"operativau\", \"mts\", \"volumen\", \"segun\", \"seguir\", \"segmento\", \"precio\", \"ppu\", \"placa\", \"display\", \"presion\", \"codigo\", \"actualizar\", \"whipe\", \"isla\", \"hose\", \"bien\", \"reconecta\", \"problsma\", \"subsanar\", \"masec\", \"emergencia\", \"funcional\", \"regular\"], \"Freq\": [256.0, 177.0, 298.0, 173.0, 277.0, 186.0, 356.0, 627.0, 150.0, 255.0, 77.0, 62.0, 74.0, 79.0, 139.0, 61.0, 135.0, 145.0, 59.0, 99.0, 84.0, 72.0, 206.0, 70.0, 96.0, 35.0, 124.0, 78.0, 69.0, 77.0, 18.643817901611328, 43.28285217285156, 39.22589874267578, 16.35832405090332, 275.3510437011719, 15.584047317504883, 15.364469528198242, 12.093939781188965, 9.509247779846191, 6.74299955368042, 19.71348762512207, 3.148907423019409, 72.42218017578125, 157.52386474609375, 41.78526306152344, 5.040433883666992, 10.381159782409668, 124.88197326660156, 1.0741145610809326, 1.0741145610809326, 1.0740141868591309, 1.0737286806106567, 92.2618637084961, 5.36052131652832, 55.19975662231445, 126.77027130126953, 1.0740907192230225, 16.23991584777832, 19.96419334411621, 152.65838623046875, 33.75613021850586, 8.867819786071777, 172.5247039794922, 68.68270874023438, 36.200225830078125, 21.027145385742188, 18.133075714111328, 17.219249725341797, 15.905475616455078, 15.377898216247559, 14.12991714477539, 13.702845573425293, 10.910849571228027, 9.891589164733887, 28.239408493041992, 8.281288146972656, 7.849625110626221, 30.475948333740234, 10.064891815185547, 3.44956111907959, 3.44956111907959, 184.1651153564453, 2.8605735301971436, 2.85813570022583, 2.164970874786377, 2.164970874786377, 5.061094760894775, 2.8600993156433105, 1.2503196001052856, 1.2503196001052856, 1.2503196001052856, 1.250051498413086, 118.87834167480469, 70.02517700195312, 191.9792938232422, 35.27867126464844, 6.163425922393799, 14.768284797668457, 67.854736328125, 53.054683685302734, 29.828533172607422, 29.713098526000977, 26.318737030029297, 21.073911666870117, 16.014022827148438, 13.91352367401123, 46.05080795288086, 10.95281982421875, 40.382843017578125, 8.660367012023926, 7.955078125, 6.9003119468688965, 6.035204887390137, 5.42661190032959, 5.328902244567871, 4.626904487609863, 4.370553016662598, 15.825105667114258, 4.244511127471924, 3.4116461277008057, 3.4113929271698, 3.410959482192993, 3.4107749462127686, 18.700721740722656, 2.896026134490967, 2.887625217437744, 2.8033738136291504, 53.65624237060547, 78.28435516357422, 30.405324935913086, 44.303977966308594, 30.269222259521484, 12.089118957519531, 28.564529418945312, 21.55596160888672, 17.30707359313965, 15.728121757507324, 54.726314544677734, 27.775554656982422, 30.844669342041016, 7.271106243133545, 176.39064025878906, 41.963253021240234, 12.832941055297852, 45.0588264465332, 64.73477172851562, 5.548006057739258, 5.355235576629639, 3.631887435913086, 3.13384747505188, 2.3623578548431396, 45.18864440917969, 4.4740424156188965, 1.8737127780914307, 1.8737127780914307, 1.873077630996704, 1.8727329969406128, 4.035526275634766, 0.8190479278564453, 0.8190479278564453, 0.8190479278564453, 0.8190373182296753, 0.8190373182296753, 0.8188885450363159, 0.8188073039054871, 0.8188073039054871, 4.562926292419434, 124.7033462524414, 81.04954528808594, 0.43107637763023376, 131.6168975830078, 27.39296531677246, 24.63608741760254, 22.159631729125977, 19.696447372436523, 18.77482795715332, 18.47589111328125, 17.734024047851562, 15.562273025512695, 12.760687828063965, 11.09375286102295, 10.58715534210205, 10.371284484863281, 9.207487106323242, 8.349474906921387, 7.831626892089844, 6.6829915046691895, 14.426826477050781, 6.0295915603637695, 6.0294880867004395, 5.446971416473389, 5.446572780609131, 4.943792819976807, 4.864365100860596, 4.864340305328369, 4.6548051834106445, 4.654454231262207, 4.654414653778076, 4.40492057800293, 4.40492057800293, 9.317240715026855, 13.303814888000488, 36.427371978759766, 13.915834426879883, 40.9504508972168, 9.679027557373047, 14.665519714355469, 8.858994483947754, 16.649883270263672, 12.102286338806152, 6.263335704803467, 43.12877655029297, 9.34765911102295, 8.425093650817871, 7.7908220291137695, 7.520633697509766, 7.2999701499938965, 6.003154754638672, 5.571327209472656, 2.8702011108398438, 2.5037455558776855, 1.7735979557037354, 42.981056213378906, 2.9979841709136963, 50.80207824707031, 88.98306274414062, 34.320919036865234, 0.9031496047973633, 0.7753351926803589, 0.7753060460090637, 0.7752847671508789, 0.7752847671508789, 0.7752847671508789, 0.7751913070678711, 0.7751913070678711, 0.7751913070678711, 0.7751913070678711, 0.7751911282539368, 0.7750621438026428, 0.7750621438026428, 0.7750621438026428, 48.71891784667969, 50.06167984008789, 51.926029205322266, 41.65937423706055, 33.49401092529297, 30.54975700378418, 2.139894962310791, 23.338045120239258, 7.0744476318359375, 4.138656139373779, 2.181607246398926, 2.2575199604034424, 2.827223777770996, 2.0509204864501953, 35.0734748840332, 21.699193954467773, 20.704917907714844, 14.836331367492676, 9.059117317199707, 17.239158630371094, 19.024160385131836, 65.16610717773438, 1.549560546875, 1.5495082139968872, 52.4844970703125, 24.08177947998047, 7.386330604553223, 31.381183624267578, 45.25175094604492, 14.647682189941406, 39.883121490478516, 0.09023024141788483, 0.09022969007492065, 0.0902237668633461, 0.0902237668633461, 0.09022917598485947, 0.09021313488483429, 0.09020798653364182, 0.09020738303661346, 0.09020738303661346, 0.09020200371742249, 0.0902012288570404, 0.09020103514194489, 0.09019903838634491, 34.279632568359375, 9.142849922180176, 0.09020242840051651, 0.09314586222171783, 0.09039182215929031, 73.1148452758789, 35.7086181640625, 18.569244384765625, 12.626996040344238, 6.968043327331543, 6.073750972747803, 5.560348987579346, 4.858702659606934, 19.214557647705078, 3.9385881423950195, 63.40664291381836, 3.7926363945007324, 3.34364652633667, 6.853025436401367, 12.78742790222168, 2.0193049907684326, 2.0193049907684326, 1.7218539714813232, 1.7218539714813232, 13.206393241882324, 6.889655590057373, 5.499542236328125, 0.9105697274208069, 0.9105697274208069, 0.9105697274208069, 14.502874374389648, 5.9838385581970215, 6.977077007293701, 35.8687744140625, 1.7218539714813232, 14.705456733703613, 35.440189361572266, 11.51645278930664, 11.465364456176758, 2.8720152378082275, 76.60721588134766, 26.613862991333008, 24.924999237060547, 16.343955993652344, 14.2064790725708, 11.564133644104004, 7.310970306396484, 6.085655689239502, 18.257905960083008, 5.3750505447387695, 3.4396119117736816, 3.43957781791687, 2.9197843074798584, 47.69125747680664, 1.5036303997039795, 1.5036303997039795, 1.5036303997039795, 1.5035266876220703, 1.5034719705581665, 1.5034632682800293, 5.65017557144165, 70.79683685302734, 50.30070114135742, 6.991357326507568, 5.446997165679932, 8.339885711669922, 10.463407516479492, 0.0876961499452591, 0.0876673012971878, 0.08764627575874329, 12.947421073913574, 0.7323980927467346, 0.13384371995925903, 58.250274658203125, 34.74330139160156, 14.014094352722168, 12.811253547668457, 8.654952049255371, 8.019437789916992, 6.771529674530029, 6.290390968322754, 5.99796724319458, 4.9787068367004395, 4.978200912475586, 4.7397990226745605, 24.57577896118164, 3.1853926181793213, 3.1852633953094482, 3.0677475929260254, 2.6181094646453857, 2.4118707180023193, 1.392768383026123, 1.392768383026123, 1.392768383026123, 1.392768383026123, 1.3926632404327393, 1.3926175832748413, 1.3926174640655518, 1.3926175832748413, 1.3926174640655518, 1.3926175832748413, 1.392617106437683, 1.392616868019104, 6.29006290435791, 2.7046151161193848, 4.9783148765563965, 10.125727653503418, 10.066397666931152, 2.876793622970581, 12.553838729858398, 6.1307268142700195, 11.108467102050781, 4.501535892486572, 13.95964241027832, 3.048654794692993, 4.724280834197998, 19.0206356048584, 12.148307800292969, 10.284945487976074, 8.571243286132812, 8.354559898376465, 8.023191452026367, 5.140110492706299, 5.140110492706299, 4.701269626617432, 4.103013038635254, 3.5050835609436035, 3.5050835609436035, 3.5050835609436035, 3.5050835609436035, 3.5050835609436035, 3.5050835609436035, 3.5050835609436035, 3.5050835609436035, 7.971219062805176, 7.373186111450195, 3.5050835609436035, 6.7744598388671875, 5.7849249839782715, 4.759644031524658, 4.733835220336914, 3.5050835609436035, 3.5050835609436035, 4.083953380584717, 3.5050835609436035, 3.5050835609436035, 4.350080966949463, 4.75866174697876, 4.542168140411377, 4.276329517364502, 4.776758193969727, 5.628899574279785, 4.054437637329102, 4.060248374938965, 3.8527965545654297, 3.584780216217041, 24.07666778564453, 18.390567779541016, 14.125696182250977, 11.560882568359375, 9.686250686645508, 6.9429497718811035, 6.074405670166016, 5.571119785308838, 11.454123497009277, 4.702512264251709, 4.57953405380249, 4.016833782196045, 3.513810634613037, 2.827988624572754, 2.827988624572754, 2.827988624572754, 2.3934690952301025, 2.0512335300445557, 11.414451599121094, 1.4562770128250122, 2.979945421218872, 5.822693347930908, 1.4562770128250122, 6.729943752288818, 1.4562770128250122, 2.8279616832733154, 7.414104461669922, 10.479435920715332, 3.017927885055542, 0.0847897082567215, 2.9449684619903564, 21.377077102661133, 13.964134216308594, 8.611639976501465, 5.490886688232422, 5.490708351135254, 3.393022060394287, 3.3921871185302734, 2.8804101943969727, 2.4380581378936768, 1.4834249019622803, 1.4834249019622803, 1.4834249019622803, 1.4834249019622803, 1.4834091663360596, 1.4834091663360596, 1.4834091663360596, 3.9389820098876953, 24.329710006713867, 12.875975608825684, 5.232565402984619, 8.625711441040039, 1.4834249019622803, 15.338000297546387, 10.24380874633789, 9.759649276733398, 0.08640781044960022, 0.08640514314174652, 0.08640079945325851, 0.08640079945325851, 0.08639936149120331, 0.08639936149120331, 1.339869499206543, 1.980683445930481, 4.870179176330566, 1.725574254989624, 0.1624172329902649, 20.034957885742188, 11.583866119384766, 11.324727058410645, 6.583544731140137, 5.7918877601623535, 4.4904351234436035, 4.41204833984375, 3.4056224822998047, 2.901459217071533, 2.8232271671295166, 2.823120594024658, 1.234244465827942, 1.234244465827942, 1.234244465827942, 1.2342029809951782, 1.2342029809951782, 1.2340891361236572, 1.233265995979309, 1.234244465827942, 6.077340602874756, 2.243183135986328, 5.989652633666992, 8.87813663482666, 2.555361747741699, 2.6902289390563965, 1.6605898141860962, 12.30858039855957, 3.1500296592712402, 0.07185230404138565, 0.07185163348913193, 2.6687541007995605, 2.2653892040252686, 4.396799564361572, 10.729565620422363, 10.525999069213867, 26.136287689208984, 2.6645901203155518, 2.6628212928771973, 22.858835220336914, 2.260699987411499, 2.01546311378479, 10.177502632141113, 8.915814399719238, 0.6159026622772217, 0.6159026622772217, 0.6159026622772217, 0.6159026622772217, 0.6154464483261108, 20.304697036743164, 9.752095222473145, 3.4406728744506836, 0.6159026622772217, 0.06781711429357529, 0.06782058626413345, 0.06780865788459778, 0.06780865788459778, 0.06780265271663666, 0.06780396401882172, 0.06778661906719208, 0.06779275834560394, 0.06778136640787125, 0.06778239458799362, 0.06778239458799362, 0.06779275834560394, 0.06778357923030853, 1.466080665588379, 0.06778357923030853, 0.06778357923030853, 0.06778357923030853, 9.019254684448242, 7.498568058013916, 4.51973295211792, 4.084579944610596, 4.082881927490234, 3.9239449501037598, 2.8922529220581055, 10.593743324279785, 2.4552154541015625, 1.859817385673523, 1.859817385673523, 7.919158458709717, 0.6689028739929199, 0.6689028739929199, 0.6689028739929199, 19.721616744995117, 1.8595941066741943, 2.370872735977173, 0.07372836768627167, 0.0736280083656311, 0.07363557070493698, 0.07361582666635513, 0.07361582666635513, 0.07361582666635513, 0.07361582666635513, 0.07364663481712341, 0.07361035794019699, 0.07361035794019699, 0.07361035794019699, 0.07361035794019699, 0.9568896293640137, 2.9684739112854004, 5.126895904541016, 0.07362661510705948, 0.07363399863243103, 29.71738052368164, 1.3648878335952759, 1.3142833709716797, 1.0837172269821167, 25.951623916625977, 26.265239715576172, 0.5967102646827698, 0.5967102646827698, 0.5967102646827698, 0.3156430125236511, 4.176421165466309, 1.6597657203674316, 0.03480105102062225, 0.034734636545181274, 0.03472696244716644, 0.03472696244716644, 0.034724678844213486, 0.034724678844213486, 0.034724678844213486, 0.034724678844213486, 0.034724678844213486, 0.034724678844213486, 0.034724678844213486, 0.034724678844213486, 0.034724678844213486, 0.034724678844213486, 0.034724678844213486, 0.034724678844213486, 0.034724678844213486, 0.034724678844213486, 0.03472845256328583, 0.03472845256328583, 0.034724846482276917, 0.03472469374537468, 0.034724678844213486, 0.034724678844213486, 0.034724678844213486, 0.034724678844213486, 0.034724678844213486, 0.034724678844213486, 0.034724678844213486, 0.034724678844213486, 0.034724678844213486, 0.034724678844213486, 25.73133659362793, 24.508329391479492, 23.48310661315918, 1.262359380722046, 1.0715750455856323, 1.262359380722046, 0.03212738409638405, 0.03212594985961914, 0.032121915370225906, 0.032121915370225906, 0.032121915370225906, 0.032121915370225906, 0.032121915370225906, 0.0321204848587513, 0.03212002292275429, 0.03212002292275429, 0.03212002292275429, 0.03212002292275429, 0.03212002292275429, 0.03212002292275429, 0.032118942588567734, 0.03212002292275429, 0.032118942588567734, 0.03212002292275429, 0.03211786970496178, 0.03211786970496178, 0.03211786970496178, 0.03211786970496178, 0.03211786970496178, 0.03211670368909836, 0.03212002292275429, 0.032118942588567734, 0.03211786970496178, 0.03211786970496178, 12.867410659790039, 2.2391719818115234, 15.913285255432129, 0.9789407253265381, 0.9789407253265381, 0.9789407253265381, 0.9789407253265381, 4.663610935211182, 10.50544548034668, 1.878504753112793, 0.057088617235422134, 0.05702289193868637, 0.05701331049203873, 0.05701982229948044, 0.05699831247329712, 0.05699831247329712, 0.057003453373909, 0.05699831247329712, 0.05699419602751732, 0.05699419602751732, 0.0569889135658741, 0.0569889135658741, 0.0569889135658741, 0.0569889135658741, 0.0569889135658741, 0.0569889135658741, 0.0569889135658741, 0.0569889135658741, 0.056988462805747986, 0.05698518827557564, 3.439720869064331, 0.05706434324383736, 0.006173401605337858, 0.006173401605337858, 0.006173401605337858, 0.006173401605337858, 0.006173401605337858, 0.006173401605337858, 0.006173401605337858, 0.006173401605337858, 0.006173401605337858, 0.006173401605337858, 0.006173401605337858, 0.006173401605337858, 0.006173401605337858, 0.006173401605337858, 0.006173401605337858, 0.006173401605337858, 0.006173401605337858, 0.006173401605337858, 0.006173401605337858, 0.006173401605337858, 0.006173401605337858, 0.006173401605337858, 0.006173401605337858, 0.006173401605337858, 0.006173401605337858, 0.006173401605337858, 0.006173401605337858, 0.006173401605337858, 0.006173401605337858, 0.006173401605337858, 0.0061734020709991455, 0.006173401605337858, 0.006173401605337858, 0.006173401605337858, 0.006173401605337858, 0.006173401605337858, 0.006173401605337858, 0.006173401605337858, 0.006173401605337858, 0.006173401605337858, 0.006173401605337858, 0.006173401605337858, 0.006173401605337858, 0.006173401605337858, 0.006173401605337858, 0.006173401605337858, 0.006173401605337858, 0.006173401605337858, 0.006173401605337858, 0.006173401605337858, 0.006173401605337858, 0.006173401605337858, 0.006173401605337858, 0.006173401605337858, 0.006173401605337858, 0.006173401605337858, 0.006173401605337858, 0.006173401605337858, 0.006173401605337858, 0.006173401605337858], \"Total\": [256.0, 177.0, 298.0, 173.0, 277.0, 186.0, 356.0, 627.0, 150.0, 255.0, 77.0, 62.0, 74.0, 79.0, 139.0, 61.0, 135.0, 145.0, 59.0, 99.0, 84.0, 72.0, 206.0, 70.0, 96.0, 35.0, 124.0, 78.0, 69.0, 77.0, 19.941387176513672, 46.42442321777344, 42.18975067138672, 17.655893325805664, 298.13580322265625, 16.881635665893555, 16.66204071044922, 13.391562461853027, 10.806816101074219, 8.040569305419922, 23.66973304748535, 4.446478366851807, 108.92564392089844, 277.6272888183594, 77.43031311035156, 9.401823043823242, 21.095741271972656, 255.144775390625, 2.371685028076172, 2.371685028076172, 2.37158465385437, 2.3712992668151855, 206.87640380859375, 13.358643531799316, 139.9149169921875, 356.0003967285156, 3.0271670818328857, 55.72820281982422, 78.97303771972656, 627.472412109375, 145.38185119628906, 135.46014404296875, 173.85836791992188, 69.97205352783203, 37.487545013427734, 22.314456939697266, 19.420387268066406, 18.506561279296875, 17.192785263061523, 16.665210723876953, 15.417226791381836, 14.990155220031738, 12.198159217834473, 11.178898811340332, 32.49432373046875, 9.568597793579102, 9.136940956115723, 37.12275314331055, 12.819856643676758, 4.736874103546143, 4.736874103546143, 256.1617431640625, 4.147893905639648, 4.145448684692383, 3.4522833824157715, 3.4522833824157715, 8.443174362182617, 4.877347469329834, 2.5376319885253906, 2.5376319885253906, 2.5376319885253906, 2.5373640060424805, 277.6272888183594, 206.87640380859375, 627.472412109375, 108.92564392089844, 17.03160285949707, 255.144775390625, 69.12804412841797, 54.32799530029297, 31.10183334350586, 31.007261276245117, 27.592037200927734, 22.347213745117188, 17.287322998046875, 15.186824798583984, 50.75532531738281, 12.226120948791504, 45.43505859375, 9.93366813659668, 9.228379249572754, 8.173615455627441, 7.308508396148682, 6.699915409088135, 6.602205753326416, 5.900207996368408, 5.643992900848389, 20.529582977294922, 5.5178141593933105, 4.68494987487793, 4.684696674346924, 4.684263229370117, 4.684078693389893, 26.023601531982422, 4.169329643249512, 4.1676225662231445, 4.076677322387695, 78.97303771972656, 150.6765899658203, 62.33334732055664, 96.33423614501953, 70.38739776611328, 22.71142578125, 77.2420425415039, 61.532997131347656, 57.50654602050781, 55.72820281982422, 627.472412109375, 255.144775390625, 356.0003967285156, 34.2799186706543, 177.70327758789062, 43.27567672729492, 14.147286415100098, 53.784339904785156, 77.5473861694336, 6.860424518585205, 6.667653560638428, 4.944307327270508, 4.446478366851807, 3.6747758388519287, 72.11502838134766, 7.572478771209717, 3.1861307621002197, 3.1861307621002197, 3.185495615005493, 3.1851508617401123, 10.245208740234375, 2.1314656734466553, 2.1314656734466553, 2.1314656734466553, 2.1314549446105957, 2.1314549446105957, 2.1313061714172363, 2.131225109100342, 2.131225109100342, 12.084356307983398, 356.0003967285156, 255.144775390625, 1.7434941530227661, 627.472412109375, 28.654895782470703, 25.89801788330078, 23.42156219482422, 20.95838165283203, 20.036758422851562, 19.73790740966797, 18.99627113342285, 16.824634552001953, 14.022616386413574, 12.355681419372559, 11.84908390045166, 11.63321304321289, 10.469415664672852, 9.611403465270996, 9.093555450439453, 7.94492244720459, 17.27753257751465, 7.29152250289917, 7.291418552398682, 6.708901882171631, 6.7085065841674805, 6.205723285675049, 6.126296520233154, 6.126270771026611, 5.916736125946045, 5.916385173797607, 5.916345119476318, 5.66685152053833, 5.66685152053833, 12.723564147949219, 18.9274959564209, 57.50654602050781, 21.085180282592773, 135.46014404296875, 17.03160285949707, 33.30148696899414, 15.858871459960938, 124.90813446044922, 145.38185119628906, 15.370847702026367, 44.44374465942383, 10.662625312805176, 9.740057945251465, 9.105786323547363, 8.83559799194336, 8.614933967590332, 7.318121433258057, 6.886293888092041, 4.1851677894592285, 3.818711996078491, 3.088564157485962, 77.2420425415039, 5.656803131103516, 96.33423614501953, 186.04864501953125, 77.43031311035156, 2.21811580657959, 2.090301275253296, 2.0902721881866455, 2.0902507305145264, 2.0902507305145264, 2.0902507305145264, 2.0901572704315186, 2.0901572704315186, 2.0901572704315186, 2.0901572704315186, 2.0901572704315186, 2.0900282859802246, 2.0900282859802246, 2.0900282859802246, 135.46014404296875, 139.9149169921875, 150.6765899658203, 124.90813446044922, 145.38185119628906, 206.87640380859375, 8.443174362182617, 356.0003967285156, 77.5473861694336, 35.310691833496094, 12.723564147949219, 23.018768310546875, 70.38739776611328, 55.72820281982422, 36.3433952331543, 22.969112396240234, 21.974836349487305, 16.106246948242188, 10.329032897949219, 23.018768310546875, 29.069881439208984, 99.92083740234375, 2.819478750228882, 4.04966926574707, 145.38185119628906, 70.38739776611328, 21.772584915161133, 124.90813446044922, 186.04864501953125, 84.29131317138672, 356.0003967285156, 1.3601481914520264, 1.3602871894836426, 1.3602200746536255, 1.3602200746536255, 1.360376000404358, 1.360172152519226, 1.360131025314331, 1.3602145910263062, 1.3602145910263062, 1.3601531982421875, 1.360144853591919, 1.3601740598678589, 1.3601559400558472, 627.472412109375, 298.13580322265625, 1.3602412939071655, 24.15694808959961, 277.6272888183594, 74.5972671508789, 36.968509674072266, 19.829139709472656, 13.886883735656738, 8.227931022644043, 7.33364200592041, 6.820239067077637, 6.118592739105225, 24.484495162963867, 5.1984782218933105, 84.29131317138672, 5.052526473999023, 4.603537082672119, 10.227263450622559, 19.61739158630371, 3.2791950702667236, 3.2791950702667236, 2.9817440509796143, 2.9817440509796143, 24.15694808959961, 12.83527946472168, 12.470447540283203, 2.170459508895874, 2.170459508895874, 2.170459508895874, 35.310691833496094, 18.573434829711914, 21.691740036010742, 135.46014404296875, 6.515603065490723, 55.72820281982422, 627.472412109375, 124.90813446044922, 298.13580322265625, 21.095741271972656, 77.87979888916016, 27.886449813842773, 26.197586059570312, 17.61654281616211, 15.479063034057617, 12.83671760559082, 8.583555221557617, 7.358242511749268, 22.15676498413086, 6.647637367248535, 4.712198734283447, 4.712164402008057, 4.192373275756836, 79.0541000366211, 2.776216745376587, 2.776216745376587, 2.776216745376587, 2.776113271713257, 2.7760586738586426, 2.776057004928589, 18.957836151123047, 256.1617431640625, 186.04864501953125, 32.7586784362793, 37.12275314331055, 61.03117752075195, 99.92083740234375, 1.3604285717010498, 1.3603969812393188, 1.360417127609253, 206.87640380859375, 627.472412109375, 173.85836791992188, 59.52932357788086, 36.02289962768555, 15.293135643005371, 14.09029769897461, 9.933993339538574, 9.298480033874512, 8.050573348999023, 7.569435119628906, 7.277011394500732, 6.257750988006592, 6.257245063781738, 6.018843173980713, 32.7586784362793, 4.4644365310668945, 4.4643073081970215, 4.346791744232178, 3.89715313911438, 3.6909143924713135, 2.671812057495117, 2.671812057495117, 2.671812057495117, 2.671812057495117, 2.6717069149017334, 2.671661376953125, 2.671661138534546, 2.671661138534546, 2.671661138534546, 2.671661138534546, 2.671661138534546, 2.671661376953125, 12.084356307983398, 5.355190277099609, 10.245208740234375, 33.30148696899414, 61.03117752075195, 8.515676498413086, 99.92083740234375, 36.05574417114258, 124.90813446044922, 35.310691833496094, 627.472412109375, 32.49432373046875, 356.0003967285156, 20.306819915771484, 13.434491157531738, 11.57113265991211, 9.857426643371582, 9.640743255615234, 9.309374809265137, 6.426295280456543, 6.426295280456543, 5.987454414367676, 5.389197826385498, 4.791268348693848, 4.791268348693848, 4.791268348693848, 4.791268348693848, 4.791268348693848, 4.791268348693848, 4.791268348693848, 4.791268348693848, 12.000618934631348, 12.419570922851562, 6.379784107208252, 13.358643531799316, 12.470447540283203, 12.83527946472168, 24.15694808959961, 19.61739158630371, 20.529582977294922, 24.484495162963867, 22.71142578125, 26.023601531982422, 35.59856414794922, 55.72820281982422, 77.2420425415039, 62.33334732055664, 139.9149169921875, 627.472412109375, 61.532997131347656, 150.6765899658203, 45.43505859375, 255.144775390625, 25.35201644897461, 19.665916442871094, 15.401041984558105, 12.83622932434082, 10.961596488952637, 8.218295097351074, 7.349752902984619, 6.8464674949646, 14.506824493408203, 5.9778594970703125, 5.854881286621094, 5.292181015014648, 4.789157867431641, 4.103335857391357, 4.103335857391357, 4.103335857391357, 3.668815851211548, 3.326580286026001, 18.573434829711914, 2.731623888015747, 8.107951164245605, 15.858871459960938, 4.320225715637207, 21.095741271972656, 5.355190277099609, 12.000618934631348, 33.30148696899414, 61.03117752075195, 34.2799186706543, 1.3604285717010498, 77.5473861694336, 22.650848388671875, 15.237903594970703, 9.885409355163574, 6.764657497406006, 6.764479160308838, 4.666792869567871, 4.665957927703857, 4.154181003570557, 3.7118334770202637, 2.757195234298706, 2.757195234298706, 2.757195234298706, 2.757195234298706, 2.7571794986724854, 2.7571794986724854, 2.7571794986724854, 8.107951164245605, 61.03117752075195, 36.05574417114258, 18.957836151123047, 35.310691833496094, 6.515603065490723, 150.6765899658203, 145.38185119628906, 139.9149169921875, 1.3602803945541382, 1.3602412939071655, 1.3602200746536255, 1.3602200746536255, 1.360224962234497, 1.360224962234497, 55.72820281982422, 99.92083740234375, 356.0003967285156, 255.144775390625, 186.04864501953125, 21.32322883605957, 12.872133255004883, 12.612994194030762, 7.871813774108887, 7.0801568031311035, 5.7787041664123535, 5.7003173828125, 4.693891525268555, 4.189728260040283, 4.111496448516846, 4.111389636993408, 2.5225131511688232, 2.5225131511688232, 2.5225131511688232, 2.5224716663360596, 2.5224716663360596, 2.5223586559295654, 2.5215346813201904, 3.8340816497802734, 18.957836151123047, 8.261211395263672, 22.71142578125, 61.532997131347656, 21.085180282592773, 26.023601531982422, 17.27753257751465, 139.9149169921875, 37.29587936401367, 1.3602370023727417, 1.3602845668792725, 57.50654602050781, 124.90813446044922, 627.472412109375, 12.021910667419434, 11.818342208862305, 37.29587936401367, 3.956934928894043, 3.9551658630371094, 34.2799186706543, 3.553046464920044, 3.3078079223632812, 21.772584915161133, 21.691740036010742, 1.9082471132278442, 1.9082471132278442, 1.9082471132278442, 1.9082471132278442, 1.9077908992767334, 72.11502838134766, 79.0541000366211, 29.069881439208984, 6.515603065490723, 1.3602803945541382, 1.3603559732437134, 1.3602447509765625, 1.3602447509765625, 1.3602430820465088, 1.360338568687439, 1.3601683378219604, 1.3602997064590454, 1.3601372241973877, 1.360185980796814, 1.360185980796814, 1.3603997230529785, 1.3602123260498047, 77.5473861694336, 1.3602123260498047, 1.3602123260498047, 1.3602427244186401, 10.305770874023438, 8.78508472442627, 5.80625057220459, 5.371097564697266, 5.369399547576904, 5.21046257019043, 4.178770542144775, 15.642329216003418, 3.741732597351074, 3.146334648132324, 3.146334648132324, 15.370847702026367, 1.9554200172424316, 1.9554200172424316, 1.9554200172424316, 79.0541000366211, 7.572478771209717, 23.018768310546875, 1.3617362976074219, 1.3601819276809692, 1.360376000404358, 1.36014723777771, 1.36014723777771, 1.36014723777771, 1.3601698875427246, 1.360794186592102, 1.3601518869400024, 1.3601518869400024, 1.3601518869400024, 1.3601518869400024, 18.957836151123047, 61.03117752075195, 124.90813446044922, 1.3605084419250488, 627.472412109375, 35.59856414794922, 2.690255641937256, 2.639651298522949, 2.409085273742676, 61.532997131347656, 62.33334732055664, 1.922078013420105, 1.922078013420105, 1.922078013420105, 1.6410108804702759, 78.97303771972656, 46.42442321777344, 1.3601791858673096, 1.360103726387024, 1.3601274490356445, 1.3601274490356445, 1.3600983619689941, 1.360098958015442, 1.3600999116897583, 1.3601008653640747, 1.3601012229919434, 1.3601014614105225, 1.3601022958755493, 1.360102891921997, 1.360102891921997, 1.3601036071777344, 1.3601038455963135, 1.3601038455963135, 1.3601044416427612, 1.3601046800613403, 1.3603969812393188, 1.3604285717010498, 24.81108283996582, 9.093555450439453, 16.824634552001953, 23.42156219482422, 13.358643531799316, 36.3433952331543, 15.186824798583984, 12.723564147949219, 18.99627113342285, 6.126296520233154, 4.103335857391357, 2.763460874557495, 27.05931282043457, 25.836305618286133, 24.81108283996582, 2.5903353691101074, 2.3995511531829834, 4.04966926574707, 1.3601133823394775, 1.3601109981536865, 1.3601090908050537, 1.3601090908050537, 1.3601090908050537, 1.3601090908050537, 1.3601090908050537, 1.3601089715957642, 1.3601166009902954, 1.3601166009902954, 1.3601166009902954, 1.3601166009902954, 1.3601166009902954, 1.3601347208023071, 1.3601291179656982, 1.3601775169372559, 1.3601475954055786, 1.3601938486099243, 1.3601046800613403, 1.3601046800613403, 1.3601046800613403, 1.3601046800613403, 1.3601350784301758, 1.3600983619689941, 1.3602420091629028, 1.3606723546981812, 1.3602871894836426, 1.3603672981262207, 14.170537948608398, 3.542299270629883, 36.05574417114258, 2.2820680141448975, 2.2820680141448975, 2.2820680141448975, 2.2820680141448975, 21.691740036010742, 70.38739776611328, 21.772584915161133, 1.360417127609253, 1.3602447509765625, 1.3602174520492554, 1.3603969812393188, 1.3601558208465576, 1.3601558208465576, 1.3602871894836426, 1.3602495193481445, 1.3602145910263062, 1.3602145910263062, 1.3601356744766235, 1.3601356744766235, 1.3601356744766235, 1.3601356744766235, 1.3601356744766235, 1.3601356744766235, 1.3601356744766235, 1.3601981401443481, 1.3602088689804077, 1.3601446151733398, 99.92083740234375, 186.04864501953125, 1.3600983619689941, 1.360098958015442, 1.3600999116897583, 1.3601008653640747, 1.3601012229919434, 1.3601014614105225, 1.3601022958755493, 1.360102891921997, 1.360102891921997, 1.3601036071777344, 1.3601038455963135, 1.3601038455963135, 1.360103726387024, 1.3601046800613403, 1.3601046800613403, 1.3601046800613403, 1.3601046800613403, 1.3601044416427612, 1.3601046800613403, 1.360105037689209, 1.360105037689209, 1.3601051568984985, 1.360105276107788, 1.3601056337356567, 1.3601056337356567, 1.3601056337356567, 1.3601058721542358, 1.3601058721542358, 1.3601059913635254, 1.3601059913635254, 99.92083740234375, 1.3606504201889038, 4.103335857391357, 18.99627113342285, 6.126296520233154, 12.723564147949219, 2.763460874557495, 4.684263229370117, 8.218295097351074, 25.35201644897461, 5.9778594970703125, 4.103335857391357, 10.961596488952637, 7.349752902984619, 19.665916442871094, 14.506824493408203, 23.42156219482422, 3.668815851211548, 4.103335857391357, 15.186824798583984, 13.358643531799316, 36.3433952331543, 2.090301275253296, 15.237903594970703, 4.665957927703857, 2.757195234298706, 2.757195234298706, 2.757195234298706, 16.824634552001953, 2.762442111968994], \"Category\": [\"Default\", \"Default\", \"Default\", \"Default\", \"Default\", \"Default\", \"Default\", \"Default\", \"Default\", \"Default\", \"Default\", \"Default\", \"Default\", \"Default\", \"Default\", \"Default\", \"Default\", \"Default\", \"Default\", \"Default\", \"Default\", \"Default\", \"Default\", \"Default\", \"Default\", \"Default\", \"Default\", \"Default\", \"Default\", \"Default\", \"Topic1\", \"Topic1\", \"Topic1\", \"Topic1\", \"Topic1\", \"Topic1\", \"Topic1\", \"Topic1\", \"Topic1\", \"Topic1\", \"Topic1\", \"Topic1\", \"Topic1\", \"Topic1\", \"Topic1\", \"Topic1\", \"Topic1\", \"Topic1\", \"Topic1\", \"Topic1\", \"Topic1\", \"Topic1\", \"Topic1\", \"Topic1\", \"Topic1\", \"Topic1\", \"Topic1\", \"Topic1\", \"Topic1\", \"Topic1\", \"Topic1\", \"Topic1\", \"Topic2\", \"Topic2\", \"Topic2\", \"Topic2\", \"Topic2\", \"Topic2\", \"Topic2\", \"Topic2\", \"Topic2\", \"Topic2\", \"Topic2\", \"Topic2\", \"Topic2\", \"Topic2\", \"Topic2\", \"Topic2\", \"Topic2\", \"Topic2\", \"Topic2\", \"Topic2\", \"Topic2\", \"Topic2\", \"Topic2\", \"Topic2\", \"Topic2\", \"Topic2\", \"Topic2\", \"Topic2\", \"Topic2\", \"Topic2\", \"Topic2\", \"Topic2\", \"Topic2\", \"Topic2\", \"Topic2\", \"Topic2\", \"Topic3\", \"Topic3\", \"Topic3\", \"Topic3\", \"Topic3\", \"Topic3\", \"Topic3\", \"Topic3\", \"Topic3\", \"Topic3\", \"Topic3\", \"Topic3\", \"Topic3\", \"Topic3\", \"Topic3\", \"Topic3\", \"Topic3\", \"Topic3\", \"Topic3\", \"Topic3\", \"Topic3\", \"Topic3\", \"Topic3\", \"Topic3\", \"Topic3\", \"Topic3\", \"Topic3\", \"Topic3\", \"Topic3\", \"Topic3\", \"Topic3\", \"Topic3\", \"Topic3\", \"Topic3\", \"Topic3\", \"Topic3\", \"Topic3\", \"Topic3\", \"Topic3\", \"Topic3\", \"Topic3\", \"Topic3\", \"Topic3\", \"Topic4\", \"Topic4\", \"Topic4\", \"Topic4\", \"Topic4\", \"Topic4\", \"Topic4\", \"Topic4\", \"Topic4\", \"Topic4\", \"Topic4\", \"Topic4\", \"Topic4\", \"Topic4\", \"Topic4\", \"Topic4\", \"Topic4\", \"Topic4\", \"Topic4\", \"Topic4\", \"Topic4\", \"Topic4\", \"Topic4\", \"Topic4\", \"Topic4\", \"Topic4\", \"Topic4\", \"Topic4\", \"Topic4\", \"Topic4\", \"Topic5\", \"Topic5\", \"Topic5\", \"Topic5\", \"Topic5\", \"Topic5\", \"Topic5\", \"Topic5\", \"Topic5\", \"Topic5\", \"Topic5\", \"Topic5\", \"Topic5\", \"Topic5\", \"Topic5\", \"Topic5\", \"Topic5\", \"Topic5\", \"Topic5\", \"Topic5\", \"Topic5\", \"Topic5\", \"Topic5\", \"Topic5\", \"Topic5\", \"Topic5\", \"Topic5\", \"Topic5\", \"Topic5\", \"Topic5\", \"Topic5\", \"Topic5\", \"Topic5\", \"Topic5\", \"Topic5\", \"Topic5\", \"Topic5\", \"Topic5\", \"Topic5\", \"Topic5\", \"Topic6\", \"Topic6\", \"Topic6\", \"Topic6\", \"Topic6\", \"Topic6\", \"Topic6\", \"Topic6\", \"Topic6\", \"Topic6\", \"Topic6\", \"Topic6\", \"Topic6\", \"Topic6\", \"Topic6\", \"Topic6\", \"Topic6\", \"Topic6\", \"Topic6\", \"Topic6\", \"Topic6\", \"Topic6\", \"Topic6\", \"Topic6\", \"Topic6\", \"Topic6\", \"Topic6\", \"Topic6\", \"Topic6\", \"Topic6\", \"Topic6\", \"Topic6\", \"Topic6\", \"Topic6\", \"Topic6\", \"Topic6\", \"Topic6\", \"Topic6\", \"Topic6\", \"Topic6\", \"Topic6\", \"Topic6\", \"Topic6\", \"Topic6\", \"Topic7\", \"Topic7\", \"Topic7\", \"Topic7\", \"Topic7\", \"Topic7\", \"Topic7\", \"Topic7\", \"Topic7\", \"Topic7\", \"Topic7\", \"Topic7\", \"Topic7\", \"Topic7\", \"Topic7\", \"Topic7\", \"Topic7\", \"Topic7\", \"Topic7\", \"Topic7\", \"Topic7\", \"Topic7\", \"Topic7\", \"Topic7\", \"Topic7\", \"Topic7\", \"Topic7\", \"Topic7\", \"Topic7\", \"Topic7\", \"Topic7\", \"Topic7\", \"Topic7\", \"Topic7\", \"Topic7\", \"Topic8\", \"Topic8\", \"Topic8\", \"Topic8\", \"Topic8\", \"Topic8\", \"Topic8\", \"Topic8\", \"Topic8\", \"Topic8\", \"Topic8\", \"Topic8\", \"Topic8\", \"Topic8\", \"Topic8\", \"Topic8\", \"Topic8\", \"Topic8\", \"Topic8\", \"Topic8\", \"Topic8\", \"Topic8\", \"Topic8\", \"Topic8\", \"Topic8\", \"Topic8\", \"Topic8\", \"Topic8\", \"Topic8\", \"Topic8\", \"Topic8\", \"Topic8\", \"Topic8\", \"Topic8\", \"Topic8\", \"Topic9\", \"Topic9\", \"Topic9\", \"Topic9\", \"Topic9\", \"Topic9\", \"Topic9\", \"Topic9\", \"Topic9\", \"Topic9\", \"Topic9\", \"Topic9\", \"Topic9\", \"Topic9\", \"Topic9\", \"Topic9\", \"Topic9\", \"Topic9\", \"Topic9\", \"Topic9\", \"Topic9\", \"Topic9\", \"Topic9\", \"Topic9\", \"Topic9\", \"Topic9\", \"Topic9\", \"Topic9\", \"Topic9\", \"Topic9\", \"Topic9\", \"Topic9\", \"Topic9\", \"Topic10\", \"Topic10\", \"Topic10\", \"Topic10\", \"Topic10\", \"Topic10\", \"Topic10\", \"Topic10\", \"Topic10\", \"Topic10\", \"Topic10\", \"Topic10\", \"Topic10\", \"Topic10\", \"Topic10\", \"Topic10\", \"Topic10\", \"Topic10\", \"Topic10\", \"Topic10\", \"Topic10\", \"Topic10\", \"Topic10\", \"Topic10\", \"Topic10\", \"Topic10\", \"Topic10\", \"Topic10\", \"Topic10\", \"Topic10\", \"Topic10\", \"Topic10\", \"Topic10\", \"Topic10\", \"Topic10\", \"Topic10\", \"Topic10\", \"Topic10\", \"Topic10\", \"Topic10\", \"Topic10\", \"Topic10\", \"Topic10\", \"Topic11\", \"Topic11\", \"Topic11\", \"Topic11\", \"Topic11\", \"Topic11\", \"Topic11\", \"Topic11\", \"Topic11\", \"Topic11\", \"Topic11\", \"Topic11\", \"Topic11\", \"Topic11\", \"Topic11\", \"Topic11\", \"Topic11\", \"Topic11\", \"Topic11\", \"Topic11\", \"Topic11\", \"Topic11\", \"Topic11\", \"Topic11\", \"Topic11\", \"Topic11\", \"Topic11\", \"Topic11\", \"Topic11\", \"Topic11\", \"Topic11\", \"Topic11\", \"Topic11\", \"Topic11\", \"Topic11\", \"Topic11\", \"Topic11\", \"Topic11\", \"Topic11\", \"Topic11\", \"Topic12\", \"Topic12\", \"Topic12\", \"Topic12\", \"Topic12\", \"Topic12\", \"Topic12\", \"Topic12\", \"Topic12\", \"Topic12\", \"Topic12\", \"Topic12\", \"Topic12\", \"Topic12\", \"Topic12\", \"Topic12\", \"Topic12\", \"Topic12\", \"Topic12\", \"Topic12\", \"Topic12\", \"Topic12\", \"Topic12\", \"Topic12\", \"Topic12\", \"Topic12\", \"Topic12\", \"Topic12\", \"Topic12\", \"Topic12\", \"Topic12\", \"Topic13\", \"Topic13\", \"Topic13\", \"Topic13\", \"Topic13\", \"Topic13\", \"Topic13\", \"Topic13\", \"Topic13\", \"Topic13\", \"Topic13\", \"Topic13\", \"Topic13\", \"Topic13\", \"Topic13\", \"Topic13\", \"Topic13\", \"Topic13\", \"Topic13\", \"Topic13\", \"Topic13\", \"Topic13\", \"Topic13\", \"Topic13\", \"Topic13\", \"Topic13\", \"Topic13\", \"Topic13\", \"Topic13\", \"Topic13\", \"Topic13\", \"Topic13\", \"Topic13\", \"Topic13\", \"Topic13\", \"Topic13\", \"Topic14\", \"Topic14\", \"Topic14\", \"Topic14\", \"Topic14\", \"Topic14\", \"Topic14\", \"Topic14\", \"Topic14\", \"Topic14\", \"Topic14\", \"Topic14\", \"Topic14\", \"Topic14\", \"Topic14\", \"Topic14\", \"Topic14\", \"Topic14\", \"Topic14\", \"Topic14\", \"Topic14\", \"Topic14\", \"Topic14\", \"Topic14\", \"Topic14\", \"Topic14\", \"Topic14\", \"Topic14\", \"Topic14\", \"Topic14\", \"Topic14\", \"Topic14\", \"Topic14\", \"Topic15\", \"Topic15\", \"Topic15\", \"Topic15\", \"Topic15\", \"Topic15\", \"Topic15\", \"Topic15\", \"Topic15\", \"Topic15\", \"Topic15\", \"Topic15\", \"Topic15\", \"Topic15\", \"Topic15\", \"Topic15\", \"Topic15\", \"Topic15\", \"Topic15\", \"Topic15\", \"Topic15\", \"Topic15\", \"Topic15\", \"Topic15\", \"Topic15\", \"Topic15\", \"Topic15\", \"Topic15\", \"Topic15\", \"Topic15\", \"Topic15\", \"Topic15\", \"Topic15\", \"Topic15\", \"Topic15\", \"Topic15\", \"Topic16\", \"Topic16\", \"Topic16\", \"Topic16\", \"Topic16\", \"Topic16\", \"Topic16\", \"Topic16\", \"Topic16\", \"Topic16\", \"Topic16\", \"Topic16\", \"Topic16\", \"Topic16\", \"Topic16\", \"Topic16\", \"Topic16\", \"Topic16\", \"Topic16\", \"Topic16\", \"Topic16\", \"Topic16\", \"Topic16\", \"Topic16\", \"Topic16\", \"Topic16\", \"Topic16\", \"Topic16\", \"Topic16\", \"Topic16\", \"Topic16\", \"Topic16\", \"Topic16\", \"Topic16\", \"Topic16\", \"Topic17\", \"Topic17\", \"Topic17\", \"Topic17\", \"Topic17\", \"Topic17\", \"Topic17\", \"Topic17\", \"Topic17\", \"Topic17\", \"Topic17\", \"Topic17\", \"Topic17\", \"Topic17\", \"Topic17\", \"Topic17\", \"Topic17\", \"Topic17\", \"Topic17\", \"Topic17\", \"Topic17\", \"Topic17\", \"Topic17\", \"Topic17\", \"Topic17\", \"Topic17\", \"Topic17\", \"Topic17\", \"Topic17\", \"Topic17\", \"Topic17\", \"Topic17\", \"Topic17\", \"Topic17\", \"Topic17\", \"Topic17\", \"Topic17\", \"Topic17\", \"Topic17\", \"Topic17\", \"Topic17\", \"Topic17\", \"Topic17\", \"Topic17\", \"Topic18\", \"Topic18\", \"Topic18\", \"Topic18\", \"Topic18\", \"Topic18\", \"Topic18\", \"Topic18\", \"Topic18\", \"Topic18\", \"Topic18\", \"Topic18\", \"Topic18\", \"Topic18\", \"Topic18\", \"Topic18\", \"Topic18\", \"Topic18\", \"Topic18\", \"Topic18\", \"Topic18\", \"Topic18\", \"Topic18\", \"Topic18\", \"Topic18\", \"Topic18\", \"Topic18\", \"Topic18\", \"Topic18\", \"Topic18\", \"Topic18\", \"Topic18\", \"Topic18\", \"Topic18\", \"Topic19\", \"Topic19\", \"Topic19\", \"Topic19\", \"Topic19\", \"Topic19\", \"Topic19\", \"Topic19\", \"Topic19\", \"Topic19\", \"Topic19\", \"Topic19\", \"Topic19\", \"Topic19\", \"Topic19\", \"Topic19\", \"Topic19\", \"Topic19\", \"Topic19\", \"Topic19\", \"Topic19\", \"Topic19\", \"Topic19\", \"Topic19\", \"Topic19\", \"Topic19\", \"Topic19\", \"Topic19\", \"Topic19\", \"Topic19\", \"Topic19\", \"Topic19\", \"Topic20\", \"Topic20\", \"Topic20\", \"Topic20\", \"Topic20\", \"Topic20\", \"Topic20\", \"Topic20\", \"Topic20\", \"Topic20\", \"Topic20\", \"Topic20\", \"Topic20\", \"Topic20\", \"Topic20\", \"Topic20\", \"Topic20\", \"Topic20\", \"Topic20\", \"Topic20\", \"Topic20\", \"Topic20\", \"Topic20\", \"Topic20\", \"Topic20\", \"Topic20\", \"Topic20\", \"Topic20\", \"Topic20\", \"Topic20\", \"Topic20\", \"Topic20\", \"Topic20\", \"Topic20\", \"Topic20\", \"Topic20\", \"Topic20\", \"Topic20\", \"Topic20\", \"Topic20\", \"Topic20\", \"Topic20\", \"Topic20\", \"Topic20\", \"Topic20\", \"Topic20\", \"Topic20\", \"Topic20\", \"Topic20\", \"Topic20\", \"Topic20\", \"Topic20\", \"Topic20\", \"Topic20\", \"Topic20\", \"Topic20\", \"Topic20\", \"Topic20\", \"Topic20\", \"Topic20\"], \"logprob\": [30.0, 29.0, 28.0, 27.0, 26.0, 25.0, 24.0, 23.0, 22.0, 21.0, 20.0, 19.0, 18.0, 17.0, 16.0, 15.0, 14.0, 13.0, 12.0, 11.0, 10.0, 9.0, 8.0, 7.0, 6.0, 5.0, 4.0, 3.0, 2.0, 1.0, -4.359099864959717, -3.5167999267578125, -3.615299940109253, -4.4899001121521, -1.6664999723434448, -4.538300037384033, -4.552499771118164, -4.791900157928467, -5.032299995422363, -5.376100063323975, -4.303299903869629, -6.137499809265137, -3.0020999908447266, -2.2249999046325684, -3.5520999431610107, -5.667099952697754, -4.9446001052856445, -2.457200050354004, -7.213099956512451, -7.213099956512451, -7.213200092315674, -7.213500022888184, -2.759999990463257, -5.605500221252441, -3.2736001014709473, -2.442199945449829, -7.213099956512451, -4.497099876403809, -4.2906999588012695, -2.2564001083374023, -3.765399932861328, -5.102200031280518, -1.9541000127792358, -2.8750998973846436, -3.515500068664551, -4.058800220489502, -4.206900119781494, -4.258600234985352, -4.337900161743164, -4.371699810028076, -4.456299781799316, -4.486999988555908, -4.714799880981445, -4.812900066375732, -3.7639000415802, -4.990600109100342, -5.044099807739258, -3.687700033187866, -4.795499801635742, -5.866399765014648, -5.866399765014648, -1.888800024986267, -6.053599834442139, -6.0543999671936035, -6.332200050354004, -6.332200050354004, -5.482999801635742, -6.053699970245361, -6.881199836730957, -6.881199836730957, -6.881199836730957, -6.881400108337402, -2.3264999389648438, -2.8557000160217285, -1.8472000360488892, -3.541300058364868, -5.285999774932861, -4.412099838256836, -2.7736001014709473, -3.019700050354004, -3.5954999923706055, -3.599400043487549, -3.7207000255584717, -3.943000078201294, -4.21750020980835, -4.358099937438965, -3.1612000465393066, -4.597400188446045, -3.29259991645813, -4.832200050354004, -4.917200088500977, -5.0594000816345215, -5.193399906158447, -5.299699783325195, -5.317800045013428, -5.459099769592285, -5.51609992980957, -4.229400157928467, -5.545400142669678, -5.763800144195557, -5.763899803161621, -5.763999938964844, -5.764100074768066, -4.062399864196777, -5.927700042724609, -5.930600166320801, -5.96019983291626, -3.0083999633789062, -2.6305999755859375, -3.5764000415802, -3.199899911880493, -3.580899953842163, -4.498700141906738, -3.6387999057769775, -3.920300006866455, -4.139900207519531, -4.235499858856201, -2.988600015640259, -3.666800022125244, -3.562000036239624, -5.0071001052856445, -1.527500033378601, -2.963399887084961, -4.148200035095215, -2.892199993133545, -2.529900074005127, -4.986800193786621, -5.02209997177124, -5.4105000495910645, -5.5578999519348145, -5.84060001373291, -2.889400005340576, -5.201900005340576, -6.072299957275391, -6.072299957275391, -6.0725998878479, -6.072800159454346, -5.305099964141846, -6.899799823760986, -6.899799823760986, -6.899799823760986, -6.899799823760986, -6.899799823760986, -6.900000095367432, -6.900100231170654, -6.900100231170654, -5.182199954986572, -1.8743000030517578, -2.3050999641418457, -7.5416998863220215, -1.8202999830245972, -3.223099946975708, -3.329200029373169, -3.4351000785827637, -3.552999973297119, -3.6008999347686768, -3.6168999671936035, -3.657900094985962, -3.788599967956543, -3.986999988555908, -4.126999855041504, -4.173799991607666, -4.194399833679199, -4.313399791717529, -4.411200046539307, -4.475200176239014, -4.633800029754639, -3.864300012588501, -4.736700057983398, -4.736700057983398, -4.838399887084961, -4.838399887084961, -4.935299873352051, -4.951499938964844, -4.951499938964844, -4.995500087738037, -4.99560022354126, -4.99560022354126, -5.0507001876831055, -5.0507001876831055, -4.301499843597412, -3.9453999996185303, -2.9381000995635986, -3.900399923324585, -2.821000099182129, -4.263400077819824, -3.847899913787842, -4.3520002365112305, -3.7209999561309814, -4.039999961853027, -4.698699951171875, -2.7607998847961426, -4.289899826049805, -4.393799781799316, -4.472099781036377, -4.507400035858154, -4.537099838256836, -4.732699871063232, -4.807400226593018, -5.470600128173828, -5.6072001457214355, -5.952000141143799, -2.7643001079559326, -5.42710018157959, -2.597100019454956, -2.036600112915039, -2.989300012588501, -6.6269001960754395, -6.7795000076293945, -6.7795000076293945, -6.7795000076293945, -6.7795000076293945, -6.7795000076293945, -6.779699802398682, -6.779699802398682, -6.779699802398682, -6.779699802398682, -6.779699802398682, -6.779799938201904, -6.779799938201904, -6.779799938201904, -2.6389000415802, -2.611799955368042, -2.575200080871582, -2.7955000400543213, -3.0136001110076904, -3.1057000160217285, -5.7642998695373535, -3.3749001026153564, -4.56850004196167, -5.104599952697754, -5.744999885559082, -5.710700035095215, -5.4857001304626465, -5.806700229644775, -2.740999937057495, -3.221100091934204, -3.2679998874664307, -3.601300001144409, -4.094600200653076, -3.451200008392334, -3.3526999950408936, -2.121500015258789, -5.860400199890137, -5.860499858856201, -2.337899923324585, -3.117000102996826, -4.298799991607666, -2.8522000312805176, -2.4862000942230225, -3.6140999794006348, -2.612499952316284, -8.703800201416016, -8.703800201416016, -8.703900337219238, -8.703900337219238, -8.703800201416016, -8.704000473022461, -8.704099655151367, -8.704099655151367, -8.704099655151367, -8.704099655151367, -8.704099655151367, -8.704099655151367, -8.70419979095459, -2.7639000415802, -4.085400104522705, -8.704099655151367, -8.67199993133545, -8.70199966430664, -1.9997999668121338, -2.7165000438690186, -3.3703999519348145, -3.75600004196167, -4.350500106811523, -4.4878997802734375, -4.576200008392334, -4.711100101470947, -3.336199998855591, -4.921000003814697, -2.1422998905181885, -4.958799839019775, -5.084799766540527, -4.367199897766113, -3.7434000968933105, -5.589099884033203, -5.589099884033203, -5.748499870300293, -5.748499870300293, -3.711199998855591, -4.361800193786621, -4.587200164794922, -6.3856000900268555, -6.3856000900268555, -6.3856000900268555, -3.617500066757202, -4.502799987792969, -4.3491997718811035, -2.7119998931884766, -5.748499870300293, -3.6036999225616455, -2.7239999771118164, -3.848099946975708, -3.8524999618530273, -5.2368998527526855, -1.9180999994277954, -2.975399971008301, -3.0409998893737793, -3.4630000591278076, -3.603100061416626, -3.8089001178741455, -4.267499923706055, -4.450900077819824, -3.3522000312805176, -4.575099945068359, -5.021500110626221, -5.021500110626221, -5.185299873352051, -2.3921000957489014, -5.848999977111816, -5.848999977111816, -5.848999977111816, -5.848999977111816, -5.849100112915039, -5.849100112915039, -4.525100231170654, -1.996999979019165, -2.3387999534606934, -4.31220006942749, -4.561800003051758, -4.135799884796143, -3.9089999198913574, -8.690699577331543, -8.690999984741211, -8.691300392150879, -3.6958999633789062, -6.568299770355225, -8.267900466918945, -1.9278000593185425, -2.444499969482422, -3.3524999618530273, -3.442199945449829, -3.834399938583374, -3.9107000827789307, -4.079800128936768, -4.153500080108643, -4.201099872589111, -4.387400150299072, -4.387499809265137, -4.436500072479248, -2.790800094604492, -4.834000110626221, -4.834000110626221, -4.871600151062012, -5.030099868774414, -5.112100124359131, -5.661200046539307, -5.661200046539307, -5.661200046539307, -5.661200046539307, -5.661300182342529, -5.661300182342529, -5.661300182342529, -5.661300182342529, -5.661300182342529, -5.661300182342529, -5.661300182342529, -5.661300182342529, -4.153600215911865, -4.997600078582764, -4.387400150299072, -3.677500009536743, -3.683300018310547, -4.9359002113342285, -3.4625000953674316, -4.179200172424316, -3.5848000049591064, -4.488100051879883, -3.3564000129699707, -4.877799987792969, -4.439799785614014, -2.700900077819824, -3.149199962615967, -3.315700054168701, -3.497999906539917, -3.5236001014709473, -3.563999891281128, -4.009300231933594, -4.009300231933594, -4.098599910736084, -4.2347002029418945, -4.392199993133545, -4.392199993133545, -4.392199993133545, -4.392199993133545, -4.392199993133545, -4.392199993133545, -4.392199993133545, -4.392199993133545, -3.570499897003174, -3.6484999656677246, -4.392199993133545, -3.7332000732421875, -3.8910999298095703, -4.08620023727417, -4.091599941253662, -4.392199993133545, -4.392199993133545, -4.239299774169922, -4.392199993133545, -4.392199993133545, -4.176199913024902, -4.086400032043457, -4.132999897003174, -4.193299770355225, -4.082600116729736, -3.9184999465942383, -4.246600151062012, -4.245100021362305, -4.297599792480469, -4.369699954986572, -2.415800094604492, -2.6851999759674072, -2.9489998817443848, -3.149399995803833, -3.3262999057769775, -3.6593000888824463, -3.7929000854492188, -3.8794000148773193, -3.1586999893188477, -4.048900127410889, -4.075399875640869, -4.206500053405762, -4.3403000831604, -4.557400226593018, -4.557400226593018, -4.557400226593018, -4.724299907684326, -4.878600120544434, -3.162100076675415, -5.221099853515625, -4.505099773406982, -3.835200071334839, -5.221099853515625, -3.6903998851776123, -5.221099853515625, -4.557499885559082, -3.593600034713745, -3.2476000785827637, -4.492400169372559, -8.064599990844727, -4.516900062561035, -2.4760000705718994, -2.901900053024292, -3.385200023651123, -3.8352999687194824, -3.8352999687194824, -4.3165998458862305, -4.31689977645874, -4.480400085449219, -4.647200107574463, -5.144000053405762, -5.144000053405762, -5.144000053405762, -5.144000053405762, -5.144000053405762, -5.144000053405762, -5.144000053405762, -4.167399883270264, -2.3466999530792236, -2.9830000400543213, -3.883500099182129, -3.3835999965667725, -5.144000053405762, -2.808000087738037, -3.211699962615967, -3.2600998878479004, -7.986999988555908, -7.987100124359131, -7.987100124359131, -7.987100124359131, -7.987100124359131, -7.987100124359131, -5.245800018310547, -4.854899883270264, -3.955199956893921, -4.992800235748291, -7.355899810791016, -2.318000078201294, -2.865799903869629, -2.888400077819824, -3.4309000968933105, -3.559000015258789, -3.813499927520752, -3.8310999870300293, -4.090000152587891, -4.250199794769287, -4.277599811553955, -4.277599811553955, -5.105000019073486, -5.105000019073486, -5.105000019073486, -5.105000019073486, -5.105000019073486, -5.105100154876709, -5.105800151824951, -5.105000019073486, -3.5109000205993652, -4.507500171661377, -3.525399923324585, -3.1317999362945557, -4.377200126647949, -4.325799942016602, -4.808300018310547, -2.8050999641418457, -4.168000221252441, -7.948599815368652, -7.948599815368652, -4.333799839019775, -4.497700214385986, -3.8345999717712402, -2.9107000827789307, -2.929800033569336, -2.0202999114990234, -4.303599834442139, -4.304299831390381, -2.1542999744415283, -4.4679999351501465, -4.582799911499023, -2.9635000228881836, -3.0957999229431152, -5.7683000564575195, -5.7683000564575195, -5.7683000564575195, -5.7683000564575195, -5.769100189208984, -2.2727999687194824, -3.006200075149536, -4.047999858856201, -5.7683000564575195, -7.974599838256836, -7.974599838256836, -7.974699974060059, -7.974699974060059, -7.974800109863281, -7.974800109863281, -7.975100040435791, -7.974999904632568, -7.975100040435791, -7.975100040435791, -7.975100040435791, -7.974999904632568, -7.975100040435791, -4.901100158691406, -7.975100040435791, -7.975100040435791, -7.975100040435791, -2.8773999214172363, -3.062000036239624, -3.5683000087738037, -3.6695001125335693, -3.6698999404907227, -3.7095999717712402, -4.014699935913086, -2.7165000438690186, -4.178500175476074, -4.456200122833252, -4.456200122833252, -3.0074000358581543, -5.478799819946289, -5.478799819946289, -5.478799819946289, -2.0950000286102295, -4.456399917602539, -4.213500022888184, -7.684100151062012, -7.685400009155273, -7.685299873352051, -7.6855998039245605, -7.6855998039245605, -7.6855998039245605, -7.6855998039245605, -7.685200214385986, -7.685699939727783, -7.685699939727783, -7.685699939727783, -7.685699939727783, -5.120800018310547, -3.9886999130249023, -3.442199945449829, -7.685500144958496, -7.685400009155273, -1.4318000078201294, -4.512499809265137, -4.550300121307373, -4.743100166320801, -1.5672999620437622, -1.555299997329712, -5.339900016784668, -5.339900016784668, -5.339900016784668, -5.9766998291015625, -3.3940999507904053, -4.31689977645874, -8.181699752807617, -8.183600425720215, -8.183799743652344, -8.183799743652344, -8.183799743652344, -8.183799743652344, -8.183799743652344, -8.183799743652344, -8.183799743652344, -8.183799743652344, -8.183799743652344, -8.183799743652344, -8.183799743652344, -8.183799743652344, -8.183799743652344, -8.183799743652344, -8.183799743652344, -8.183799743652344, -8.183699607849121, -8.183699607849121, -8.183799743652344, -8.183799743652344, -8.183799743652344, -8.183799743652344, -8.183799743652344, -8.183799743652344, -8.183799743652344, -8.183799743652344, -8.183799743652344, -8.183799743652344, -8.183799743652344, -8.183799743652344, -1.4154000282287598, -1.4641000032424927, -1.5068000555038452, -4.430099964141846, -4.593999862670898, -4.430099964141846, -8.101200103759766, -8.101200103759766, -8.101300239562988, -8.101300239562988, -8.101300239562988, -8.101300239562988, -8.101300239562988, -8.101400375366211, -8.101400375366211, -8.101400375366211, -8.101400375366211, -8.101400375366211, -8.101400375366211, -8.101400375366211, -8.101400375366211, -8.101400375366211, -8.101400375366211, -8.101400375366211, -8.101499557495117, -8.101499557495117, -8.101499557495117, -8.101499557495117, -8.101499557495117, -8.101499557495117, -8.101400375366211, -8.101400375366211, -8.101499557495117, -8.101499557495117, -2.108299970626831, -3.8568999767303467, -1.895799994468689, -4.684299945831299, -4.684299945831299, -4.684299945831299, -4.684299945831299, -3.123199939727783, -2.3111000061035156, -4.03249979019165, -7.526100158691406, -7.527299880981445, -7.527500152587891, -7.527299880981445, -7.527699947357178, -7.527699947357178, -7.527599811553955, -7.527699947357178, -7.5278000831604, -7.5278000831604, -7.527900218963623, -7.527900218963623, -7.527900218963623, -7.527900218963623, -7.527900218963623, -7.527900218963623, -7.527900218963623, -7.527900218963623, -7.527900218963623, -7.5279998779296875, -3.4275999069213867, -7.526599884033203, -6.80019998550415, -6.80019998550415, -6.80019998550415, -6.80019998550415, -6.80019998550415, -6.80019998550415, -6.80019998550415, -6.80019998550415, -6.80019998550415, -6.80019998550415, -6.80019998550415, -6.80019998550415, -6.80019998550415, -6.80019998550415, -6.80019998550415, -6.80019998550415, -6.80019998550415, -6.80019998550415, -6.80019998550415, -6.80019998550415, -6.80019998550415, -6.80019998550415, -6.80019998550415, -6.80019998550415, -6.80019998550415, -6.80019998550415, -6.80019998550415, -6.80019998550415, -6.80019998550415, -6.80019998550415, -6.80019998550415, -6.80019998550415, -6.80019998550415, -6.80019998550415, -6.80019998550415, -6.80019998550415, -6.80019998550415, -6.80019998550415, -6.80019998550415, -6.80019998550415, -6.80019998550415, -6.80019998550415, -6.80019998550415, -6.80019998550415, -6.80019998550415, -6.80019998550415, -6.80019998550415, -6.80019998550415, -6.80019998550415, -6.80019998550415, -6.80019998550415, -6.80019998550415, -6.80019998550415, -6.80019998550415, -6.80019998550415, -6.80019998550415, -6.80019998550415, -6.80019998550415, -6.80019998550415, -6.80019998550415], \"loglift\": [30.0, 29.0, 28.0, 27.0, 26.0, 25.0, 24.0, 23.0, 22.0, 21.0, 20.0, 19.0, 18.0, 17.0, 16.0, 15.0, 14.0, 13.0, 12.0, 11.0, 10.0, 9.0, 8.0, 7.0, 6.0, 5.0, 4.0, 3.0, 2.0, 1.0, 1.8238999843597412, 1.8210999965667725, 1.8183000087738037, 1.8148000240325928, 1.8116999864578247, 1.8112000226974487, 1.8100999593734741, 1.789199948310852, 1.763200044631958, 1.7151999473571777, 1.708299994468689, 1.5461000204086304, 1.4830000400543213, 1.3243999481201172, 1.2742999792099, 1.267699956893921, 1.1821000576019287, 1.1766999959945679, 1.0989999771118164, 1.0989999771118164, 1.0989999771118164, 1.0988999605178833, 1.0836999416351318, 0.9779999852180481, 0.9610999822616577, 0.8586000204086304, 0.8550000190734863, 0.6581000089645386, 0.515999972820282, 0.47769999504089355, 0.4309999942779541, -0.835099995136261, 2.0634000301361084, 2.0525999069213867, 2.0362000465393066, 2.011699914932251, 2.0025999546051025, 1.9990999698638916, 1.993299961090088, 1.9908000230789185, 1.9839999675750732, 1.9814000129699707, 1.9595999717712402, 1.948799967765808, 1.930799961090088, 1.9266999959945679, 1.9192999601364136, 1.873900055885315, 1.829200029373169, 1.753999948501587, 1.753999948501587, 1.7411999702453613, 1.6995999813079834, 1.6993000507354736, 1.6045000553131104, 1.6045000553131104, 1.559399962425232, 1.5374000072479248, 1.3632999658584595, 1.3632999658584595, 1.3632999658584595, 1.3631999492645264, 1.2230000495910645, 0.9879000186920166, 0.8867999911308289, 0.9437999725341797, 1.0547000169754028, -0.7781999707221985, 2.1661999225616455, 2.1610000133514404, 2.1429998874664307, 2.1421000957489014, 2.137500047683716, 2.1261000633239746, 2.1082000732421875, 2.0971999168395996, 2.0875000953674316, 2.0748000144958496, 2.0669000148773193, 2.047600030899048, 2.03629994392395, 2.015399932861328, 1.993299961090088, 1.9739999771118164, 1.9704999923706055, 1.9416999816894531, 1.9291000366210938, 1.9244999885559082, 1.9223999977111816, 1.8675999641418457, 1.8675999641418457, 1.8674999475479126, 1.8674999475479126, 1.8543000221252441, 1.8202999830245972, 1.8178000450134277, 1.8102999925613403, 1.798200011253357, 1.5299999713897705, 1.4668999910354614, 1.4079999923706055, 1.34089994430542, 1.5542000532150269, 1.190000057220459, 1.1358000040054321, 0.984000027179718, 0.919700026512146, -0.25459998846054077, -0.03290000185370445, -0.2612000107765198, 0.6341000199317932, 2.468100070953369, 2.444700002670288, 2.378000020980835, 2.2985000610351562, 2.2948999404907227, 2.263200044631958, 2.2562999725341797, 2.167099952697754, 2.125699996948242, 2.0336999893188477, 2.0081000328063965, 1.9493000507354736, 1.944700002670288, 1.944700002670288, 1.9444999694824219, 1.9443999528884888, 1.5439000129699707, 1.5190999507904053, 1.5190999507904053, 1.5190999507904053, 1.5190999507904053, 1.5190999507904053, 1.5190000534057617, 1.5189000368118286, 1.5189000368118286, 1.5016000270843506, 1.4264999628067017, 1.3287999629974365, 1.0781999826431274, 0.9136999845504761, 2.5973000526428223, 2.592400074005127, 2.5869998931884766, 2.580199956893921, 2.5773000717163086, 2.5762999057769775, 2.5736000537872314, 2.564300060272217, 2.5480000972747803, 2.534600019454956, 2.5297000408172607, 2.5274999141693115, 2.5139000415802, 2.5016000270843506, 2.4928998947143555, 2.469399929046631, 2.4619998931884766, 2.4523000717163086, 2.4523000717163086, 2.434000015258789, 2.4339001178741455, 2.4149999618530273, 2.4117000102996826, 2.4117000102996826, 2.4024999141693115, 2.402400016784668, 2.402400016784668, 2.390399932861328, 2.390399932861328, 2.330699920654297, 2.289799928665161, 2.185800075531006, 2.226799964904785, 1.4459999799728394, 2.077199935913086, 1.8221999406814575, 2.059999942779541, 0.6272000074386597, 0.15639999508857727, 1.7446000576019287, 2.620699882507324, 2.5190999507904053, 2.50570011138916, 2.494800090789795, 2.4895999431610107, 2.485100030899048, 2.452699899673462, 2.438800096511841, 2.2736001014709473, 2.228600025177002, 2.0959999561309814, 2.0645999908447266, 2.0157999992370605, 2.0107998847961426, 1.9132000207901, 1.8371000289916992, 1.7522000074386597, 1.659000039100647, 1.6589000225067139, 1.6589000225067139, 1.6589000225067139, 1.6589000225067139, 1.6589000225067139, 1.6589000225067139, 1.6589000225067139, 1.6589000225067139, 1.6589000225067139, 1.6586999893188477, 1.6586999893188477, 1.6586999893188477, 1.628100037574768, 1.6230000257492065, 1.5853999853134155, 1.5527000427246094, 1.1827000379562378, 0.7379999756813049, 1.2781000137329102, -0.07410000264644623, 0.2563000023365021, 0.5069000124931335, 0.8873000144958496, 0.3287000060081482, -0.5640000104904175, -0.6514999866485596, 2.8417999744415283, 2.820499897003174, 2.8178000450134277, 2.7952001094818115, 2.7460999488830566, 2.588200092315674, 2.4532999992370605, 2.449899911880493, 2.2788000106811523, 1.916599988937378, 1.8585000038146973, 1.804800033569336, 1.7963000535964966, 1.496000051498413, 1.4636000394821167, 1.1273000240325928, 0.6883999705314636, 0.16439999639987946, 0.16419999301433563, 0.16419999301433563, 0.16419999301433563, 0.16419999301433563, 0.16410000622272491, 0.16410000622272491, 0.164000004529953, 0.164000004529953, 0.164000004529953, 0.164000004529953, 0.164000004529953, 0.164000004529953, -0.02979999966919422, -0.607200026512146, 0.164000004529953, -2.680799961090088, -5.152500152587891, 2.863800048828125, 2.8492000102996826, 2.81820011138916, 2.788800001144409, 2.7177000045776367, 2.6953999996185303, 2.6796000003814697, 2.6533000469207764, 2.6414999961853027, 2.606300115585327, 2.5992000102996826, 2.597100019454956, 2.5641000270843506, 2.4835000038146973, 2.455899953842163, 2.3989999294281006, 2.3989999294281006, 2.3348000049591064, 2.3348000049591064, 2.2799999713897705, 2.261699914932251, 2.065200090408325, 2.0153000354766846, 2.0153000354766846, 2.0153000354766846, 1.99399995803833, 1.7511999607086182, 1.7496000528335571, 1.5550999641418457, 1.5530999898910522, 1.5515999794006348, 0.009999999776482582, 0.5001000165939331, -0.3743000030517578, 0.8898000121116638, 2.902400016784668, 2.8722000122070312, 2.8691000938415527, 2.843899965286255, 2.8331000804901123, 2.814500093460083, 2.7583999633789062, 2.7290000915527344, 2.725399971008301, 2.706399917602539, 2.604099988937378, 2.604099988937378, 2.5571999549865723, 2.4135000705718994, 2.3057000637054443, 2.3057000637054443, 2.3057000637054443, 2.3057000637054443, 2.3057000637054443, 2.3057000637054443, 1.708400011062622, 1.6328999996185303, 1.6109000444412231, 1.374400019645691, 0.9997000098228455, 0.928600013256073, 0.6624000072479248, 0.17720000445842743, 0.1768999993801117, 0.17669999599456787, 0.1476999968290329, -3.834199905395508, -4.250400066375732, 3.1614999771118164, 3.1470000743865967, 3.095900058746338, 3.088099956512451, 3.0453999042510986, 3.0352001190185547, 3.010200023651123, 2.9981000423431396, 2.9899001121520996, 2.9546000957489014, 2.9544999599456787, 2.9442999362945557, 2.8958001136779785, 2.845599889755249, 2.845599889755249, 2.834700107574463, 2.785399913787842, 2.757699966430664, 2.5318000316619873, 2.5318000316619873, 2.5318000316619873, 2.5318000316619873, 2.5316998958587646, 2.5316998958587646, 2.5316998958587646, 2.5316998958587646, 2.5316998958587646, 2.5316998958587646, 2.5316998958587646, 2.5316998958587646, 2.5302999019622803, 2.5000998973846436, 2.4614999294281006, 1.9926999807357788, 1.38100004196167, 2.0980000495910645, 1.1088999509811401, 1.4114999771118164, 0.7633000016212463, 1.1233999729156494, -0.6223000288009644, 0.8169000148773193, -1.1390000581741333, 3.463900089263916, 3.4286999702453613, 3.4114999771118164, 3.3896000385284424, 3.386199951171875, 3.38070011138916, 3.305999994277954, 3.305999994277954, 3.2874999046325684, 3.256700038909912, 3.2167999744415283, 3.2167999744415283, 3.2167999744415283, 3.2167999744415283, 3.2167999744415283, 3.2167999744415283, 3.2167999744415283, 3.2167999744415283, 3.1201999187469482, 3.0078999996185303, 2.9303998947143555, 2.850399971008301, 2.7613000869750977, 2.5373001098632812, 1.8995000123977661, 1.8071999549865723, 1.7617000341415405, 1.7383999824523926, 1.6606999635696411, 1.5246000289916992, 1.427299976348877, 1.0687999725341797, 0.6958000063896179, 0.8500000238418579, 0.15209999680519104, -1.184399962425232, 0.8095999956130981, -0.08449999988079071, 1.061900019645691, -0.73580002784729, 3.527100086212158, 3.511699914932251, 3.492300033569336, 3.474100112915039, 3.4549999237060547, 3.410099983215332, 3.388200044631958, 3.3726000785827637, 3.3424999713897705, 3.3387999534606934, 3.3331000804901123, 3.302999973297119, 3.2690999507904053, 3.2065000534057617, 3.2065000534057617, 3.2065000534057617, 3.151599884033203, 3.0952000617980957, 3.091900110244751, 2.949700117111206, 2.5778000354766846, 2.5768001079559326, 2.491300106048584, 2.436199903488159, 2.276599884033203, 2.1333000659942627, 2.0764999389648438, 1.8167999982833862, 1.148800015449524, 0.8033999800682068, 0.30790001153945923, 3.5794999599456787, 3.550100088119507, 3.4993999004364014, 3.428800106048584, 3.428800106048584, 3.3185999393463135, 3.3185999393463135, 3.271199941635132, 3.217099905014038, 3.0174999237060547, 3.0174999237060547, 3.0174999237060547, 3.0174999237060547, 3.0174999237060547, 3.0174999237060547, 3.0174999237060547, 2.9154999256134033, 2.7177000045776367, 2.6077001094818115, 2.350100040435791, 2.2279999256134033, 2.1575000286102295, 1.3525999784469604, 0.9847000241279602, 0.9746000170707703, 0.8809999823570251, 0.8809999823570251, 0.8809999823570251, 0.8809999823570251, 0.8809999823570251, 0.8809999823570251, -0.09049999713897705, -0.28349998593330383, -0.6543999910354614, -1.3588999509811401, -3.4061999320983887, 3.7980000972747803, 3.7548999786376953, 3.7525999546051025, 3.6816000938415527, 3.6594998836517334, 3.608099937438965, 3.604099988937378, 3.5394999980926514, 3.4928998947143555, 3.4844000339508057, 3.4844000339508057, 3.1454999446868896, 3.1454999446868896, 3.1454999446868896, 3.1454999446868896, 3.1454999446868896, 3.1454999446868896, 3.1451001167297363, 2.726799964904785, 2.7227001190185547, 2.5566000938415527, 2.5274999141693115, 1.924299955368042, 1.749899983406067, 1.59089994430542, 1.5181000232696533, 1.4296000003814697, 1.388800024986267, 0.9194999933242798, 0.9194999933242798, 0.7900000214576721, -0.14949999749660492, -1.1004999876022339, 3.77839994430542, 3.7762999534606934, 3.5364999771118164, 3.4967000484466553, 3.4964001178741455, 3.4869000911712646, 3.440000057220459, 3.3966000080108643, 3.1315999031066895, 3.003000020980835, 2.761199951171875, 2.761199951171875, 2.761199951171875, 2.761199951171875, 2.760699987411499, 2.6247000694274902, 1.799399971961975, 1.7580000162124634, 1.5332000255584717, 0.8934999704360962, 0.8934000134468079, 0.8934000134468079, 0.8934000134468079, 0.8932999968528748, 0.8931999802589417, 0.8931000232696533, 0.8931000232696533, 0.8930000066757202, 0.8930000066757202, 0.8930000066757202, 0.8930000066757202, 0.8930000066757202, -0.07620000094175339, 0.8930000066757202, 0.8930000066757202, 0.8930000066757202, 3.9656999111175537, 3.940700054168701, 3.8485000133514404, 3.825200080871582, 3.8250999450683594, 3.815500020980835, 3.7309999465942383, 3.7093000411987305, 3.6777000427246094, 3.5732998847961426, 3.5732998847961426, 3.435800075531006, 3.0262999534606934, 3.0262999534606934, 3.0262999534606934, 2.710599899291992, 2.6949000358581543, 1.8259999752044678, 1.1828999519348145, 1.1827000379562378, 1.1826000213623047, 1.1825000047683716, 1.1825000047683716, 1.1825000047683716, 1.1825000047683716, 1.1825000047683716, 1.1825000047683716, 1.1825000047683716, 1.1825000047683716, 1.1825000047683716, 1.1126999855041504, 1.075700044631958, 0.906000018119812, 1.1823999881744385, -4.951300144195557, 4.171599864959717, 3.6735999584198, 3.6547999382019043, 3.5534000396728516, 3.4888999462127686, 3.48799991607666, 3.182499885559082, 3.182499885559082, 3.182499885559082, 2.703700065612793, 1.412600040435791, 1.0211000442504883, 0.6865000128746033, 0.6845999956130981, 0.6844000220298767, 0.6844000220298767, 0.6843000054359436, 0.6843000054359436, 0.6843000054359436, 0.6843000054359436, 0.6843000054359436, 0.6843000054359436, 0.6843000054359436, 0.6843000054359436, 0.6843000054359436, 0.6843000054359436, 0.6843000054359436, 0.6843000054359436, 0.6843000054359436, 0.6843000054359436, 0.6841999888420105, 0.6841999888420105, -2.219399929046631, -1.2157000303268433, -1.830899953842163, -2.161799907684326, -1.6002999544143677, -2.601099967956543, -1.7285000085830688, -1.5515999794006348, -1.952299952507019, -0.8206999897956848, -0.41990000009536743, -0.02459999918937683, 4.462299823760986, 4.45989990234375, 4.457600116729736, 3.793800115585327, 3.7065000534057617, 3.3469998836517334, 0.7670000195503235, 0.7670000195503235, 0.7667999863624573, 0.7667999863624573, 0.7667999863624573, 0.7667999863624573, 0.7667999863624573, 0.7667999863624573, 0.7667999863624573, 0.7667999863624573, 0.7667999863624573, 0.7667999863624573, 0.7667999863624573, 0.7667999863624573, 0.766700029373169, 0.766700029373169, 0.766700029373169, 0.766700029373169, 0.766700029373169, 0.766700029373169, 0.766700029373169, 0.766700029373169, 0.766700029373169, 0.766700029373169, 0.766700029373169, 0.7663000226020813, 0.7666000127792358, 0.7664999961853027, 4.416299819946289, 4.054100036621094, 3.6947999000549316, 3.6663999557495117, 3.6663999557495117, 3.6663999557495117, 3.6663999557495117, 2.975600004196167, 2.610599994659424, 2.0625998973846436, 1.3417999744415283, 1.3408000469207764, 1.3406000137329102, 1.3406000137329102, 1.340399980545044, 1.340399980545044, 1.340399980545044, 1.340399980545044, 1.3402999639511108, 1.3402999639511108, 1.3402999639511108, 1.3402999639511108, 1.3402999639511108, 1.3402999639511108, 1.3402999639511108, 1.3402999639511108, 1.3402999639511108, 1.3401999473571777, 1.3401999473571777, 1.3401999473571777, 1.1438000202178955, -3.5768001079559326, 2.068000078201294, 2.068000078201294, 2.068000078201294, 2.068000078201294, 2.068000078201294, 2.068000078201294, 2.068000078201294, 2.068000078201294, 2.068000078201294, 2.068000078201294, 2.068000078201294, 2.068000078201294, 2.068000078201294, 2.068000078201294, 2.068000078201294, 2.068000078201294, 2.068000078201294, 2.068000078201294, 2.068000078201294, 2.068000078201294, 2.068000078201294, 2.068000078201294, 2.068000078201294, 2.068000078201294, 2.068000078201294, 2.068000078201294, 2.068000078201294, 2.068000078201294, 2.068000078201294, 2.068000078201294, -2.228800058364868, 2.0676000118255615, 0.9638000130653381, -0.5687000155448914, 0.5630000233650208, -0.1678999960422516, 1.3590999841690063, 0.8313999772071838, 0.26919999718666077, -0.8572999835014343, 0.5874999761581421, 0.9638000130653381, -0.018799999728798866, 0.38089999556541443, -0.6032999753952026, -0.29899999499320984, -0.7781000137329102, 1.075700044631958, 0.9638000130653381, -0.3447999954223633, -0.21660000085830688, -1.2173999547958374, 1.6382999420166016, -0.3481999933719635, 0.8353000283241272, 1.3614000082015991, 1.3614000082015991, 1.3614000082015991, -0.447299987077713, 1.3595000505447388]}, \"token.table\": {\"Topic\": [3, 2, 5, 15, 12, 14, 3, 5, 14, 14, 4, 8, 3, 6, 8, 13, 8, 15, 5, 8, 10, 5, 18, 15, 19, 6, 10, 1, 3, 17, 14, 1, 8, 12, 5, 6, 10, 9, 16, 4, 16, 1, 7, 2, 5, 10, 5, 11, 10, 12, 15, 3, 11, 17, 2, 8, 11, 11, 1, 5, 7, 8, 7, 5, 8, 3, 10, 16, 5, 12, 5, 5, 7, 9, 10, 13, 19, 2, 3, 4, 5, 12, 14, 19, 9, 11, 6, 5, 10, 13, 11, 11, 12, 11, 2, 15, 6, 11, 11, 11, 17, 5, 12, 16, 2, 5, 17, 17, 6, 6, 7, 16, 8, 14, 3, 5, 8, 11, 5, 11, 3, 10, 11, 12, 3, 11, 10, 4, 6, 3, 14, 4, 5, 15, 4, 10, 10, 1, 5, 6, 7, 10, 13, 8, 14, 1, 3, 6, 8, 11, 13, 5, 6, 2, 9, 1, 3, 6, 11, 13, 14, 5, 10, 12, 9, 9, 6, 19, 5, 7, 15, 14, 16, 3, 3, 5, 8, 13, 15, 15, 6, 5, 3, 13, 6, 13, 5, 9, 10, 4, 8, 15, 19, 11, 9, 10, 10, 2, 4, 3, 11, 5, 9, 5, 3, 5, 8, 11, 8, 11, 14, 6, 7, 9, 17, 2, 6, 1, 3, 1, 1, 10, 10, 10, 10, 12, 4, 8, 5, 7, 8, 10, 5, 13, 6, 9, 15, 16, 2, 1, 5, 6, 8, 2, 6, 4, 14, 2, 5, 6, 7, 13, 18, 6, 2, 19, 12, 5, 16, 9, 3, 11, 1, 1, 11, 10, 9, 13, 14, 16, 12, 3, 6, 1, 16, 16, 3, 14, 3, 3, 5, 3, 6, 11, 12, 5, 7, 15, 19, 3, 8, 9, 6, 2, 10, 1, 2, 8, 3, 11, 14, 17, 5, 16, 11, 16, 3, 10, 6, 9, 13, 4, 10, 14, 3, 3, 2, 1, 10, 16, 7, 19, 6, 4, 9, 1, 11, 3, 12, 3, 12, 15, 15, 6, 5, 8, 8, 6, 6, 19, 6, 9, 3, 6, 8, 10, 13, 3, 1, 3, 4, 6, 7, 10, 13, 2, 17, 6, 15, 9, 18, 2, 4, 5, 4, 5, 14, 1, 10, 15, 10, 5, 3, 11, 14, 1, 2, 6, 9, 12, 4, 5, 10, 12, 12, 12, 10, 9, 4, 5, 11, 3, 11, 17, 3, 5, 6, 7, 19, 10, 13, 19, 13, 8, 14, 1, 17, 14, 9, 10, 2, 1, 6, 5, 1, 2, 3, 4, 11, 12, 13, 3, 5, 6, 7, 8, 10, 14, 16, 10, 2, 1, 2, 3, 4, 6, 7, 8, 9, 10, 11, 14, 16, 13, 7, 18, 2, 3, 3, 6, 3, 3, 2, 13, 16, 4, 4, 6, 3, 12, 3, 8, 13, 2, 4, 9, 16, 14, 6, 2, 2, 10, 8, 12, 13, 10, 3, 10, 4, 2, 15, 4, 10, 8, 11, 5, 3, 6, 11, 13, 3, 14, 15, 10, 11, 11, 5, 1, 3, 1, 2, 14, 1, 2, 2, 9, 8, 12, 12, 12, 1, 5, 3, 8, 17, 1, 13, 11, 10, 6, 13, 2, 5, 10, 12, 12, 13, 10, 3, 11, 1, 13, 16, 2, 6, 9, 3, 9, 10, 12, 13, 16, 2, 9, 18, 15, 11, 3, 5, 14, 5, 10, 6, 4, 8, 12, 10, 14, 3, 4, 4, 9, 9, 13, 8, 16, 7, 18, 2, 1, 3, 5, 14, 8, 5, 4, 4, 6, 12, 15, 5, 3, 11, 14, 14, 5, 12, 3, 11, 14, 3, 7, 1, 3], \"Freq\": [0.9836817979812622, 0.9185931086540222, 0.881065845489502, 0.7585017085075378, 0.7311124801635742, 0.39643004536628723, 0.1897066980600357, 0.6639734506607056, 0.14228002727031708, 0.7296802997589111, 0.4691607356071472, 0.9738017916679382, 0.17677828669548035, 0.5303348898887634, 0.4607319235801697, 0.9104326963424683, 0.9581857919692993, 0.5240411162376404, 0.9422473907470703, 0.7916831374168396, 0.8307244181632996, 0.8228734135627747, 0.9608522057533264, 0.5240411162376404, 0.4381990432739258, 0.47839993238449097, 0.7926615476608276, 0.25325098633766174, 0.6837776899337769, 0.05065019801259041, 0.39643004536628723, 0.4740293323993683, 0.14220879971981049, 0.3318205177783966, 0.7073489427566528, 0.15718865394592285, 0.7990090847015381, 0.7521468997001648, 0.6356602907180786, 0.5282286405563354, 0.2641143202781677, 0.8960866332054138, 0.9313156604766846, 0.9603189826011658, 0.8596468567848206, 0.6719772815704346, 0.3220723271369934, 0.5636265277862549, 0.5602042078971863, 0.18673472106456757, 0.5628972053527832, 0.9397144913673401, 0.11236408352851868, 0.8427306413650513, 0.7232586145401001, 0.4009479284286499, 0.4811375141143799, 0.7780532836914062, 0.9223984479904175, 0.0033541761804372072, 0.030187584459781647, 0.03689593821763992, 0.7093510031700134, 0.890278697013855, 0.8797345757484436, 0.7358934283256531, 0.6901642084121704, 0.7676861882209778, 0.5675057172775269, 0.37833714485168457, 0.9653248190879822, 0.050039611756801605, 0.6505149602890015, 0.10007922351360321, 0.1301029920578003, 0.020015845075249672, 0.030023766681551933, 0.8360681533813477, 0.0743710920214653, 0.8366747498512268, 0.05577831715345383, 0.5451350212097168, 0.7017152905464172, 0.4381990432739258, 0.7155851125717163, 0.7422254681587219, 0.47843289375305176, 0.8161537647247314, 0.37427783012390137, 0.3626874089241028, 0.7780532836914062, 0.6666322946548462, 0.24998711049556732, 0.8348519802093506, 0.5793266892433167, 0.6046300530433655, 0.4784114956855774, 0.8298115134239197, 0.8932232856750488, 0.913017213344574, 0.5202702283859253, 0.4629387855529785, 0.23146939277648926, 0.6356602907180786, 0.35228627920150757, 0.5871437788009644, 0.5202702283859253, 0.378837913274765, 0.47843289375305176, 0.08688562363386154, 0.738527774810791, 0.08688562363386154, 0.7694559693336487, 0.8474388718605042, 0.7087181210517883, 0.10195035487413406, 0.6626772880554199, 0.20390070974826813, 0.31349024176597595, 0.6269804835319519, 0.6403483748435974, 0.5418711304664612, 0.8348519802093506, 0.3660826086997986, 0.8803774118423462, 0.08803774416446686, 0.3742925524711609, 0.5442509055137634, 0.967515230178833, 0.605238139629364, 0.2420952469110489, 0.6240030527114868, 0.06933367252349854, 0.27733469009399414, 0.4691607356071472, 0.37427783012390137, 0.9154434204101562, 0.233866885304451, 0.08254124969244003, 0.22698844969272614, 0.35767877101898193, 0.013756874948740005, 0.06878437846899033, 0.9785881042480469, 0.8892486691474915, 0.28710776567459106, 0.28710776567459106, 0.03588847070932388, 0.2691635191440582, 0.0897211804986, 0.01794423535466194, 0.8451106548309326, 0.47843289375305176, 0.7182961702346802, 0.2771686315536499, 0.39309602975845337, 0.050030406564474106, 0.35736003518104553, 0.035736002027988434, 0.07147200405597687, 0.08576641231775284, 0.845116376876831, 0.13786615431308746, 0.7582638263702393, 0.9044474959373474, 0.6366500854492188, 0.4508330821990967, 0.4381990432739258, 0.20639918744564056, 0.6535974144935608, 0.10319959372282028, 0.7296613454818726, 0.7449622750282288, 0.8564141392707825, 0.7249247431755066, 0.3069554567337036, 0.3069554567337036, 0.1534777283668518, 0.1534777283668518, 0.9307566285133362, 0.4784114956855774, 0.9475544095039368, 0.8209609389305115, 0.3626874089241028, 0.8712959289550781, 0.7391552329063416, 0.045132942497730255, 0.8123929500579834, 0.09026588499546051, 0.9705221056938171, 0.32270348072052, 0.41490447521209717, 0.23050248622894287, 0.8348519802093506, 0.2136838287115097, 0.763156533241272, 0.8245143294334412, 0.7236852049827576, 0.9904150366783142, 0.975555956363678, 0.8348519802093506, 0.7453223466873169, 0.7204316854476929, 0.928341805934906, 0.08279191702604294, 0.12418787181377411, 0.5381474494934082, 0.20697978138923645, 0.7760012745857239, 0.16336868703365326, 0.9322463870048523, 0.47836950421333313, 0.24187222123146057, 0.26874691247940063, 0.5202702283859253, 0.926861047744751, 0.647550106048584, 0.9477754831314087, 0.9255337119102478, 0.9527922868728638, 0.9062129855155945, 0.37429893016815186, 0.8603556752204895, 0.9226206541061401, 0.37429895997047424, 0.8352199196815491, 0.6277206540107727, 0.6099057793617249, 0.059318091720342636, 0.1779542863368988, 0.7474079728126526, 0.37429895997047424, 0.9509865045547485, 0.538817286491394, 0.012649565003812313, 0.6071791052818298, 0.12649565935134888, 0.25299131870269775, 0.9000786542892456, 0.06644020974636078, 0.30267205834388733, 0.36173000931739807, 0.2657608389854431, 0.5921943187713623, 0.23687773942947388, 0.6279137134552002, 0.39643657207489014, 0.39406818151474, 0.9270737767219543, 0.7168171405792236, 0.963036060333252, 0.6428397297859192, 0.9270051121711731, 0.47846242785453796, 0.930622935295105, 0.9173963665962219, 0.7311124801635742, 0.25571638345718384, 0.7032200694084167, 0.636645495891571, 0.9645733833312988, 0.8348519802093506, 0.42170974612236023, 0.37428951263427734, 0.5240052938461304, 0.37429895997047424, 0.3164918124675751, 0.26374319195747375, 0.3164918124675751, 0.05274863541126251, 0.9348539710044861, 0.45674312114715576, 0.5294067859649658, 0.8705851435661316, 0.5113990902900696, 0.5113990902900696, 0.9423008561134338, 0.8721164464950562, 0.9060097336769104, 0.211332768201828, 0.6868314743041992, 0.3754431903362274, 0.5566916465759277, 0.06473159044981003, 0.8763643503189087, 0.04592932015657425, 0.32150521874427795, 0.4592931866645813, 0.0918586403131485, 0.7195401191711426, 0.8507606387138367, 0.7204458713531494, 0.8125424981117249, 0.78003990650177, 0.15600799024105072, 0.6610013842582703, 0.321320116519928, 0.6707483530044556, 0.35753175616264343, 0.06500577181577682, 0.146262988448143, 0.42253750562667847, 0.3903493285179138, 0.5204657912254333, 0.8350794315338135, 0.7179145216941833, 0.4697219431400299, 0.35229143500328064, 0.7856051921844482, 0.720404863357544, 0.3626874089241028, 0.3904263973236084, 0.4880329966545105, 0.39643657207489014, 0.6403830051422119, 0.9675152897834778, 0.5793266892433167, 0.9002498984336853, 0.8695032596588135, 0.5345117449760437, 0.9578080177307129, 0.4381990432739258, 0.8785622119903564, 0.46921369433403015, 0.9082372188568115, 0.42164114117622375, 0.864219605922699, 0.6404422521591187, 0.8539882898330688, 0.20420119166374207, 0.08751479536294937, 0.6709467768669128, 0.7581625580787659, 0.84406977891922, 0.8057078719139099, 0.8181473612785339, 0.4607319235801697, 0.8213503360748291, 0.47846242785453796, 0.5646050572395325, 0.8198825120925903, 0.9887031316757202, 0.08496010303497314, 0.11328013986349106, 0.4248005151748657, 0.14160017669200897, 0.25488030910491943, 0.3618650734424591, 0.35674118995666504, 0.08707855641841888, 0.35112321376800537, 0.0646066665649414, 0.1123594269156456, 0.0140449283644557, 0.0140449283644557, 0.9861079454421997, 0.4150952994823456, 0.47843289375305176, 0.5240411162376404, 0.7204462885856628, 0.9676306247711182, 0.941093921661377, 0.8090112209320068, 0.8596077561378479, 0.4691607356071472, 0.810300886631012, 0.11575727164745331, 0.3303418457508087, 0.3303418457508087, 0.5240411162376404, 0.6719967722892761, 0.832344651222229, 0.7793631553649902, 0.19484078884124756, 0.7160369157791138, 0.44470998644828796, 0.3383662700653076, 0.14984792470932007, 0.06283945590257645, 0.9152891635894775, 0.46921369433403015, 0.8161572217941284, 0.37429895997047424, 0.816353976726532, 0.9122758507728577, 0.601218044757843, 0.37427783012390137, 0.9682121872901917, 0.9189041256904602, 0.9393054246902466, 0.8348519802093506, 0.4812833070755005, 0.06417110562324524, 0.41711220145225525, 0.4262126684188843, 0.028414176777005196, 0.04262126609683037, 0.34097012877464294, 0.15627796947956085, 0.1664089858531952, 0.3605528175830841, 0.4437572956085205, 0.6429547667503357, 0.9361351728439331, 0.6921967267990112, 0.926236629486084, 0.04308077320456505, 0.3965838849544525, 0.720404863357544, 0.37427783012390137, 0.9017754197120667, 0.5424232482910156, 0.43910452723503113, 0.9542721509933472, 0.48991793394088745, 0.05879015102982521, 0.10974161326885223, 0.3174668252468109, 0.015677373856306076, 0.003919343464076519, 0.007838686928153038, 0.032023534178733826, 0.13610002398490906, 0.33624711632728577, 0.24818240106105804, 0.09607060253620148, 0.08806472271680832, 0.016011767089366913, 0.04002941772341728, 0.37429893016815186, 0.39406818151474, 0.2438354194164276, 0.305989533662796, 0.0876532569527626, 0.210367813706398, 0.003187391208484769, 0.0541856475174427, 0.0557793453335762, 0.0015936956042423844, 0.02231173776090145, 0.009562172926962376, 0.006374782416969538, 0.8611409068107605, 0.7391357421875, 0.8713303804397583, 0.38605040311813354, 0.39406818151474, 0.8474277257919312, 0.8997129797935486, 0.9054282307624817, 0.6404674649238586, 0.7198348641395569, 0.9339463114738464, 0.9187615513801575, 0.7447267174720764, 0.46916308999061584, 0.6746912598609924, 0.4784066081047058, 0.7462781071662903, 0.7558320164680481, 0.3619985282421112, 0.4607319235801697, 0.7221640348434448, 0.8755665421485901, 0.7498890161514282, 0.720404863357544, 0.5113990902900696, 0.39643004536628723, 0.47846242785453796, 0.9950628280639648, 0.8616889715194702, 0.09232381731271744, 0.32304203510284424, 0.5922437310218811, 0.3626894950866699, 0.9716041684150696, 0.7573226690292358, 0.9059800505638123, 0.8745814561843872, 0.8945425152778625, 0.524166464805603, 0.4137580692768097, 0.49650970101356506, 0.5453718304634094, 0.3895513117313385, 0.7452784776687622, 0.5176650285720825, 0.3451099991798401, 0.02654692344367504, 0.09955096244812012, 0.18768829107284546, 0.08043783903121948, 0.6971279382705688, 0.9743097424507141, 0.9356462359428406, 0.8348519802093506, 0.7058593034744263, 0.8449609279632568, 0.1267441362142563, 0.421658992767334, 0.6333290338516235, 0.3964543342590332, 0.5691083073616028, 0.4286322295665741, 0.3941097855567932, 0.9348183870315552, 0.6707483530044556, 0.7311124801635742, 0.8364198207855225, 0.9466702342033386, 0.9253419041633606, 0.9482572078704834, 0.19555573165416718, 0.6844450831413269, 0.3717118799686432, 0.42164114117622375, 0.9271175861358643, 0.8348519802093506, 0.37429895997047424, 0.47843289375305176, 0.3626894950866699, 0.6333290338516235, 0.45043033361434937, 0.3002868890762329, 0.21020083129405975, 0.37000715732574463, 0.49334287643432617, 0.7990736961364746, 0.9063088297843933, 0.0788094624876976, 0.6746912598609924, 0.3626874089241028, 0.7968050837516785, 0.6150884032249451, 0.2050294727087021, 0.9542863965034485, 0.06554026901721954, 0.1310805380344391, 0.16385067999362946, 0.16385067999362946, 0.39324164390563965, 0.049155205488204956, 0.8081297278404236, 0.13468828797340393, 0.4167446196079254, 0.9149959683418274, 0.8593487739562988, 0.29561853408813477, 0.6260156631469727, 0.052167974412441254, 0.8228851556777954, 0.7697926759719849, 0.4784114956855774, 0.6278457641601562, 0.6516728401184082, 0.9090294241905212, 0.2608186602592468, 0.2608186602592468, 0.8668911457061768, 0.4691958427429199, 0.6277206540107727, 0.8155128955841064, 0.8154121041297913, 0.3626894950866699, 0.8171813488006592, 0.8732970952987671, 0.4938674867153168, 0.2469337433576584, 0.9080750942230225, 0.9243951439857483, 0.047404877841472626, 0.8450605273246765, 0.6391285061836243, 0.6099057793617249, 0.7058593034744263, 0.46916308999061584, 0.8381971716880798, 0.09026739001274109, 0.03868602216243744, 0.012895341031253338, 0.8797439336776733, 0.5283684134483337, 0.17612279951572418, 0.26418420672416687, 0.937944233417511, 0.9119507670402527, 0.8517581820487976, 0.7301064729690552, 0.1537066251039505, 0.11527997255325317, 0.9218516945838928, 0.9556385278701782, 0.5318117737770081, 0.31908705830574036], \"Term\": [\"accesorio\", \"accionamiento\", \"activar\", \"activo\", \"actualizar\", \"adaptador\", \"ademar\", \"ademar\", \"ademar\", \"adhesivo\", \"adir\", \"aguar\", \"ajustar\", \"ajustar\", \"alarmar\", \"alimentacion\", \"alto\", \"apagar\", \"aparentar\", \"app\", \"aprox\", \"atencion\", \"atender\", \"automarico\", \"avezar\", \"bien\", \"bloquear\", \"boca\", \"boca\", \"boca\", \"bocaestanque\", \"bodega\", \"bodega\", \"bodega\", \"bombo\", \"bombo\", \"borrar\", \"boto\", \"breakawat\", \"breakaway\", \"breakaway\", \"breakaways\", \"breakway\", \"breckawey\", \"brevedad\", \"bueno\", \"cabezal\", \"cabezal\", \"cable\", \"cable\", \"caido\", \"calibracion\", \"calibrar\", \"calibrar\", \"calzar\", \"camara\", \"camara\", \"camaras\", \"cambiar\", \"cambiar\", \"cambiar\", \"cambiar\", \"cammbio\", \"cano\", \"cap\\u00edtulo\", \"cargar\", \"cebar\", \"centrifugar\", \"cerrar\", \"cerrar\", \"check\", \"chequea\", \"chequea\", \"chequea\", \"chequea\", \"chequea\", \"chequea\", \"chequeo\", \"cliente\", \"cliente\", \"cliente\", \"codigo\", \"codo\", \"colocar\", \"comentar\", \"compania\", \"completar\", \"comportamiento\", \"conbezzel\", \"concurrio\", \"condicion\", \"coneccion\", \"coneccion\", \"confinar\", \"conjuntar\", \"contactar\", \"contacto\", \"contaminar\", \"contar\", \"contenedor\", \"contratista\", \"control\", \"control\", \"convencional\", \"coordinar\", \"coordinar\", \"corresponder\", \"correspondiente\", \"corrrecto\", \"cortar\", \"cortar\", \"cortar\", \"danada\", \"danado\", \"deber\", \"dejar\", \"dejar\", \"dejar\", \"demas\", \"demas\", \"dentro\", \"derivar\", \"derramar\", \"desarmar\", \"descargar\", \"descargar\", \"descebar\", \"desconectar\", \"describir\", \"desgastar\", \"desgastar\", \"despachar\", \"despachar\", \"despachar\", \"despegar\", \"detdctando\", \"detectandose\", \"detectar\", \"detectar\", \"detectar\", \"detectar\", \"detectar\", \"detectar\", \"detector\", \"deteriorar\", \"diesel\", \"diesel\", \"diesel\", \"diesel\", \"diesel\", \"diesel\", \"diferencial\", \"directo\", \"disp\", \"disp\", \"dispensador\", \"dispensador\", \"dispensador\", \"dispensador\", \"dispensador\", \"dispensador\", \"dispenzador\", \"display\", \"display\", \"displey\", \"doblar\", \"don\", \"durar\", \"eds\", \"eds\", \"eds\", \"eess\", \"efecto\", \"efectua\", \"efectuar\", \"electrica\", \"electrica\", \"electrica\", \"electrica\", \"electrico\", \"electricos\", \"elementar\", \"eliminar\", \"emergencia\", \"emitir\", \"empresa\", \"encargar\", \"encargar\", \"encargar\", \"encontrandose\", \"encontrar\", \"encontrar\", \"encontrar\", \"enconttarse\", \"encore\", \"encore\", \"enex\", \"entregar\", \"equipar\", \"equipo\", \"espaciar\", \"esperar\", \"esporadicamente\", \"est\", \"estacion\", \"estacion\", \"estacion\", \"estacion\", \"estancar\", \"estancar\", \"estanque\", \"fallo\", \"fallo\", \"fallo\", \"favor\", \"fijacion\", \"fijo\", \"filtracion\", \"filtraci\\u00f3n\", \"filtrar\", \"filtro\", \"finiquitar\", \"firmar\", \"flujo\", \"forzar\", \"foto\", \"fotografica\", \"frecuencia\", \"fugar\", \"fugar\", \"fugar\", \"funciinamiento\", \"funcional\", \"funcionamiento\", \"funcionar\", \"funcionar\", \"funcionar\", \"funcionar\", \"fundir\", \"gas\", \"gas\", \"gas\", \"gas\", \"gatillo\", \"gatillo\", \"gilbarco\", \"giratorio\", \"gun\", \"hacer\", \"hora\", \"hose\", \"iluminacion\", \"incidencia\", \"inferior\", \"informacion\", \"informar\", \"infrarrojo\", \"instalar\", \"instalar\", \"intercambiar\", \"interior\", \"internet\", \"interno\", \"isla\", \"isla\", \"jefatura\", \"kerosene\", \"kerosene\", \"kerosene\", \"kerosene\", \"kerosenne\", \"lado\", \"lado\", \"lento\", \"levantar\", \"limea\", \"limpiar\", \"limpieza\", \"limpio\", \"linear\", \"linear\", \"litro\", \"litro\", \"litro\", \"llamar\", \"llegar\", \"llegar\", \"llegar\", \"llegar\", \"llenar\", \"lt\", \"lubricacion\", \"mal\", \"malo\", \"malo\", \"manguera\", \"manguera\", \"manometro\", \"mantencion\", \"mantencion\", \"mantencion\", \"mantencion\", \"mantener\", \"mantener\", \"mantenia\", \"mantenimiento\", \"maquinar\", \"maquinar\", \"mas\", \"mascar\", \"masec\", \"master\", \"master\", \"mateeial\", \"mategial\", \"matraz\", \"mda\", \"medidor\", \"medir\", \"menor\", \"momento\", \"mometno\", \"monitorean\", \"mostrar\", \"motor\", \"movilsolicitado\", \"mp\", \"mts\", \"nodo\", \"normal\", \"normal\", \"normal\", \"normalizar\", \"normalmente\", \"nuevo\", \"observacion\", \"observandose\", \"octuple\", \"octuples\", \"ocurrir\", \"ods\", \"ok\", \"operar\", \"operar\", \"operar\", \"operar\", \"operar\", \"operativau\", \"operativo\", \"operativo\", \"operativo\", \"operativo\", \"operativo\", \"operativo\", \"operativo\", \"opw\", \"orden\", \"ortirak\", \"ortr\", \"orueba\", \"ot\", \"palanca\", \"parametros\", \"partir\", \"pegamento\", \"pendiente\", \"pendiente\", \"perdido\", \"perdido\", \"perimetral\", \"permitir\", \"personal\", \"pintar\", \"pintar\", \"pintura\", \"pistola\", \"pistola\", \"pistola\", \"pistola\", \"placa\", \"plca\", \"posible\", \"potenciar\", \"ppu\", \"precio\", \"predeterminador\", \"preisonado\", \"presentar\", \"preset\", \"presion\", \"prevencionista\", \"preventivo\", \"preventivo\", \"preventivo\", \"probar\", \"probar\", \"probar\", \"probar\", \"probar\", \"problema\", \"problema\", \"problema\", \"problsma\", \"proceder\", \"procesar\", \"producto\", \"producto\", \"programacion\", \"protector\", \"protura\", \"proxima\", \"prueba\", \"prueba\", \"quebrar\", \"quedar\", \"quedar\", \"quedar\", \"quedar\", \"quedar\", \"quedar\", \"quedar\", \"quedo\", \"quedo\", \"quedo\", \"quedo\", \"quedo\", \"quedo\", \"quedo\", \"quedo\", \"ralizan\", \"real\", \"realizar\", \"realizar\", \"realizar\", \"realizar\", \"realizar\", \"realizar\", \"realizar\", \"realizar\", \"realizar\", \"realizar\", \"realizar\", \"reapreta\", \"reaprieta\", \"reapriete\", \"rearmar\", \"recibio\", \"recirculacion\", \"recirculan\", \"recirculando\", \"reclamar\", \"reclamo\", \"reco\", \"reconecta\", \"reconectable\", \"reconectado\", \"reconecto\", \"recvap\", \"reemplazar\", \"registrar\", \"regular\", \"regularizacion\", \"reinicia\", \"reinstalacion\", \"reinstalar\", \"reintalan\", \"rellema\", \"remarcar\", \"remoto\", \"remplazar\", \"reparacion\", \"reparacion\", \"reparar\", \"reparar\", \"repasar\", \"reponer\", \"reposar\", \"reprograma\", \"reprogramacion\", \"repuesto\", \"requerimiento\", \"reset\", \"reset\", \"retirar\", \"retirar\", \"retornar\", \"revisar\", \"revisar\", \"revisar\", \"revisar\", \"revision\", \"revision\", \"revision\", \"revison\", \"revoluci\\u00f3n\", \"riesgo\", \"root\", \"rotar\", \"rotar\", \"roturar\", \"rozar\", \"ruido\", \"rv\", \"rv\", \"rvcon\", \"sacar\", \"seco\", \"segmento\", \"seguir\", \"segun\", \"sellar\", \"servicentro\", \"servicio\", \"servicio\", \"sgs\", \"silicita\", \"sistema\", \"slas\", \"sobreconsumo\", \"sol\", \"soldadura\", \"soler\", \"solicitar\", \"solicitar\", \"solicitar\", \"soltar\", \"soltar\", \"solucionar\", \"spill\", \"spill\", \"stock\", \"subsanar\", \"suelto\", \"superior\", \"superior\", \"surt\", \"surtidor\", \"surtidor\", \"surtidor\", \"surtidor\", \"surtidor\", \"surtidor\", \"swivel\", \"swivel\", \"swivels\", \"tablero\", \"tambor\", \"tapar\", \"tapar\", \"tapar\", \"tarjeta\", \"tdf\", \"teapreta\", \"tecnica\", \"tener\", \"terminal\", \"terminar\", \"terminar\", \"tiempo\", \"tirarlo\", \"tomar\", \"totalizador\", \"trabajar\", \"transformador\", \"turbinar\", \"union\", \"uni\\u00f3n\", \"uni\\u00f3n\", \"utilizar\", \"valvula\", \"valvula\", \"valvulas\", \"vaporar\", \"variador\", \"veeder\", \"vender\", \"venta\", \"venta\", \"venta\", \"venta\", \"ver\", \"verificacion\", \"verificacion\", \"verificacion\", \"verificar\", \"visitar\", \"volumen\", \"volumetrica\", \"volumetrica\", \"volumetrica\", \"whipe\", \"wipe\", \"wipehose\", \"wipehose\"]}, \"R\": 30, \"lambda.step\": 0.01, \"plot.opts\": {\"xlab\": \"PC1\", \"ylab\": \"PC2\"}, \"topic.order\": [5, 10, 14, 15, 12, 8, 9, 17, 18, 13, 19, 2, 16, 7, 3, 20, 11, 4, 1, 6]};\n",
       "\n",
       "function LDAvis_load_lib(url, callback){\n",
       "  var s = document.createElement('script');\n",
       "  s.src = url;\n",
       "  s.async = true;\n",
       "  s.onreadystatechange = s.onload = callback;\n",
       "  s.onerror = function(){console.warn(\"failed to load library \" + url);};\n",
       "  document.getElementsByTagName(\"head\")[0].appendChild(s);\n",
       "}\n",
       "\n",
       "if(typeof(LDAvis) !== \"undefined\"){\n",
       "   // already loaded: just create the visualization\n",
       "   !function(LDAvis){\n",
       "       new LDAvis(\"#\" + \"ldavis_el608018148771017683381702985\", ldavis_el608018148771017683381702985_data);\n",
       "   }(LDAvis);\n",
       "}else if(typeof define === \"function\" && define.amd){\n",
       "   // require.js is available: use it to load d3/LDAvis\n",
       "   require.config({paths: {d3: \"https://cdnjs.cloudflare.com/ajax/libs/d3/3.5.5/d3.min\"}});\n",
       "   require([\"d3\"], function(d3){\n",
       "      window.d3 = d3;\n",
       "      LDAvis_load_lib(\"https://cdn.rawgit.com/bmabey/pyLDAvis/files/ldavis.v1.0.0.js\", function(){\n",
       "        new LDAvis(\"#\" + \"ldavis_el608018148771017683381702985\", ldavis_el608018148771017683381702985_data);\n",
       "      });\n",
       "    });\n",
       "}else{\n",
       "    // require.js not available: dynamically load d3 & LDAvis\n",
       "    LDAvis_load_lib(\"https://cdnjs.cloudflare.com/ajax/libs/d3/3.5.5/d3.min.js\", function(){\n",
       "         LDAvis_load_lib(\"https://cdn.rawgit.com/bmabey/pyLDAvis/files/ldavis.v1.0.0.js\", function(){\n",
       "                 new LDAvis(\"#\" + \"ldavis_el608018148771017683381702985\", ldavis_el608018148771017683381702985_data);\n",
       "            })\n",
       "         });\n",
       "}\n",
       "</script>"
      ],
      "text/plain": [
       "PreparedData(topic_coordinates=              x         y  topics  cluster       Freq\n",
       "topic                                                \n",
       "4      0.355255  0.020435       1        1  15.089780\n",
       "9      0.254065 -0.193292       2        1  12.604072\n",
       "13     0.116326  0.241816       3        1  11.250521\n",
       "14     0.274162  0.023643       4        1   8.411771\n",
       "11    -0.077330 -0.002326       5        1   7.119465\n",
       "7      0.162482  0.045251       6        1   7.059924\n",
       "8      0.112467 -0.056060       7        1   5.628458\n",
       "16     0.034749  0.033001       8        1   5.591747\n",
       "17    -0.019091 -0.266155       9        1   5.399230\n",
       "12    -0.028267 -0.077557      10        1   4.145213\n",
       "18    -0.042242  0.169416      11        1   2.932351\n",
       "1     -0.142559 -0.030737      12        1   2.791086\n",
       "15    -0.065446  0.033359      13        1   2.632085\n",
       "6     -0.085950  0.082742      14        1   2.106137\n",
       "2     -0.133990 -0.047956      15        1   2.040276\n",
       "19    -0.159711 -0.074078      16        1   1.658875\n",
       "10    -0.104811  0.147634      17        1   1.287839\n",
       "3     -0.129359 -0.028826      18        1   1.096970\n",
       "0     -0.154736 -0.019888      19        1   1.096814\n",
       "5     -0.166014 -0.000423      20        1   0.057388, topic_info=           Term        Freq       Total Category  logprob  loglift\n",
       "44         disp  256.000000  256.000000  Default  30.0000  30.0000\n",
       "167     equipar  177.000000  177.000000  Default  29.0000  29.0000\n",
       "54      cambiar  298.000000  298.000000  Default  28.0000  28.0000\n",
       "400   remplazar  173.000000  173.000000  Default  27.0000  27.0000\n",
       "64           rv  277.000000  277.000000  Default  26.0000  26.0000\n",
       "..          ...         ...         ...      ...      ...      ...\n",
       "284    subsanar    0.006173    2.757195  Topic20  -6.8002   1.3614\n",
       "283       masec    0.006173    2.757195  Topic20  -6.8002   1.3614\n",
       "282  emergencia    0.006173    2.757195  Topic20  -6.8002   1.3614\n",
       "307   funcional    0.006173   16.824635  Topic20  -6.8002  -0.4473\n",
       "309     regular    0.006173    2.762442  Topic20  -6.8002   1.3595\n",
       "\n",
       "[782 rows x 6 columns], token_table=      Topic      Freq           Term\n",
       "term                                \n",
       "115       3  0.983682      accesorio\n",
       "452       2  0.918593  accionamiento\n",
       "69        5  0.881066        activar\n",
       "131      15  0.758502         activo\n",
       "291      12  0.731112     actualizar\n",
       "...     ...       ...            ...\n",
       "201      14  0.115280    volumetrica\n",
       "290       3  0.921852          whipe\n",
       "319       7  0.955639           wipe\n",
       "176       1  0.531812       wipehose\n",
       "176       3  0.319087       wipehose\n",
       "\n",
       "[594 rows x 3 columns], R=30, lambda_step=0.01, plot_opts={'xlab': 'PC1', 'ylab': 'PC2'}, topic_order=[5, 10, 14, 15, 12, 8, 9, 17, 18, 13, 19, 2, 16, 7, 3, 20, 11, 4, 1, 6])"
      ]
     },
     "execution_count": 58,
     "metadata": {},
     "output_type": "execute_result"
    }
   ],
   "source": [
    "# Visualize the topics\n",
    "pyLDAvis.enable_notebook()\n",
    "vis = pyLDAvis.gensim.prepare(lda_model, corpus, id2word)\n",
    "vis"
   ]
  },
  {
   "cell_type": "markdown",
   "metadata": {},
   "source": [
    "### 11. Building LDA Mallet Model"
   ]
  },
  {
   "cell_type": "code",
   "execution_count": 59,
   "metadata": {},
   "outputs": [],
   "source": [
    "mallet_path = 'C:/Users/alexa/mallet-2.0.8/bin/mallet.bat' # update this path\n",
    "ldamallet = gensim.models.wrappers.LdaMallet(mallet_path, corpus=corpus, num_topics=20, id2word=id2word)"
   ]
  },
  {
   "cell_type": "code",
   "execution_count": 60,
   "metadata": {},
   "outputs": [
    {
     "name": "stdout",
     "output_type": "stream",
     "text": [
      "[(15,\n",
      "  [('disp', 0.17491166077738515),\n",
      "   ('funcionar', 0.10424028268551237),\n",
      "   ('surt', 0.045936395759717315),\n",
      "   ('presentar', 0.04063604240282685),\n",
      "   ('encargar', 0.038869257950530034),\n",
      "   ('aparentar', 0.0353356890459364),\n",
      "   ('visitar', 0.03180212014134275),\n",
      "   ('coordinar', 0.03180212014134275),\n",
      "   ('motor', 0.030035335689045935),\n",
      "   ('informacion', 0.030035335689045935)]),\n",
      " (10,\n",
      "  [('problema', 0.12064343163538874),\n",
      "   ('operar', 0.10455764075067024),\n",
      "   ('normal', 0.0777479892761394),\n",
      "   ('eds', 0.06970509383378017),\n",
      "   ('llegar', 0.064343163538874),\n",
      "   ('momento', 0.05093833780160858),\n",
      "   ('informar', 0.045576407506702415),\n",
      "   ('flujo', 0.03485254691689008),\n",
      "   ('personal', 0.0160857908847185),\n",
      "   ('trabajar', 0.0160857908847185)]),\n",
      " (9,\n",
      "  [('revisar', 0.21547799696509864),\n",
      "   ('lado', 0.13201820940819423),\n",
      "   ('equipo', 0.0819423368740516),\n",
      "   ('litro', 0.07435508345978756),\n",
      "   ('accesorio', 0.06069802731411229),\n",
      "   ('probar', 0.05614567526555387),\n",
      "   ('interior', 0.04704097116843703),\n",
      "   ('describir', 0.03945371775417299),\n",
      "   ('limpiar', 0.03793626707132018),\n",
      "   ('normalmente', 0.03338391502276176)]),\n",
      " (16,\n",
      "  [('surtidor', 0.17603911980440098),\n",
      "   ('operativo', 0.15403422982885084),\n",
      "   ('kerosene', 0.05134474327628362),\n",
      "   ('display', 0.04156479217603912),\n",
      "   ('terminal', 0.04156479217603912),\n",
      "   ('kerosenne', 0.039119804400977995),\n",
      "   ('precio', 0.034229828850855744),\n",
      "   ('solicitar', 0.02444987775061125),\n",
      "   ('venta', 0.02444987775061125),\n",
      "   ('volumen', 0.02444987775061125)]),\n",
      " (17,\n",
      "  [('cambiar', 0.1782178217821782),\n",
      "   ('gas', 0.16237623762376238),\n",
      "   ('solicitar', 0.05148514851485148),\n",
      "   ('presion', 0.04356435643564356),\n",
      "   ('elementar', 0.039603960396039604),\n",
      "   ('funcional', 0.03564356435643564),\n",
      "   ('mantener', 0.031683168316831684),\n",
      "   ('bombo', 0.031683168316831684),\n",
      "   ('linear', 0.023762376237623763),\n",
      "   ('lento', 0.019801980198019802)]),\n",
      " (19,\n",
      "  [('quedar', 0.31989247311827956),\n",
      "   ('operativo', 0.12365591397849462),\n",
      "   ('equipar', 0.06451612903225806),\n",
      "   ('medidor', 0.05913978494623656),\n",
      "   ('breackaway', 0.053763440860215055),\n",
      "   ('sellar', 0.03494623655913978),\n",
      "   ('kit', 0.02956989247311828),\n",
      "   ('wayne', 0.021505376344086023),\n",
      "   ('reconeccion', 0.01881720430107527),\n",
      "   ('superior', 0.016129032258064516)]),\n",
      " (3,\n",
      "  [('remplazar', 0.2560240963855422),\n",
      "   ('disp', 0.21987951807228914),\n",
      "   ('realizar', 0.19427710843373494),\n",
      "   ('opw', 0.10240963855421686),\n",
      "   ('breckawey', 0.0572289156626506),\n",
      "   ('rvopw', 0.03313253012048193),\n",
      "   ('reco', 0.024096385542168676),\n",
      "   ('servicentro', 0.022590361445783132),\n",
      "   ('reinstalacion', 0.015060240963855422),\n",
      "   ('rv', 0.012048192771084338)]),\n",
      " (14,\n",
      "  [('quedo', 0.27228915662650605),\n",
      "   ('operativo', 0.26024096385542167),\n",
      "   ('cambiar', 0.19036144578313252),\n",
      "   ('cortar', 0.05542168674698795),\n",
      "   ('breakway', 0.03855421686746988),\n",
      "   ('reconecta', 0.021686746987951807),\n",
      "   ('danado', 0.014457831325301205),\n",
      "   ('codo', 0.014457831325301205),\n",
      "   ('reconectable', 0.012048192771084338),\n",
      "   ('identificador', 0.00963855421686747)]),\n",
      " (13,\n",
      "  [('mantencion', 0.11129848229342328),\n",
      "   ('boca', 0.11129848229342328),\n",
      "   ('preventivo', 0.10961214165261383),\n",
      "   ('spill', 0.08431703204047218),\n",
      "   ('descargar', 0.08094435075885328),\n",
      "   ('calibrar', 0.07082630691399663),\n",
      "   ('matraz', 0.050590219224283306),\n",
      "   ('volumetrica', 0.047217537942664416),\n",
      "   ('verificacion', 0.04384485666104553),\n",
      "   ('pintar', 0.03372681281618887)]),\n",
      " (4,\n",
      "  [('rv', 0.32372881355932204),\n",
      "   ('pistola', 0.2440677966101695),\n",
      "   ('manguera', 0.14915254237288136),\n",
      "   ('hose', 0.04745762711864407),\n",
      "   ('conv', 0.04406779661016949),\n",
      "   ('swivel', 0.03898305084745763),\n",
      "   ('wipe', 0.030508474576271188),\n",
      "   ('fundir', 0.020338983050847456),\n",
      "   ('whipe', 0.01694915254237288),\n",
      "   ('accesorio', 0.015254237288135594)])]\n",
      "\n",
      "Coherence Score:  0.49925151422020797\n"
     ]
    }
   ],
   "source": [
    "# Show Topics\n",
    "pprint(ldamallet.show_topics(formatted=False))\n",
    "\n",
    "# Compute Coherence Score\n",
    "coherence_model_ldamallet = CoherenceModel(model=ldamallet, texts=texts, dictionary=id2word, coherence='c_v')\n",
    "coherence_ldamallet = coherence_model_ldamallet.get_coherence()\n",
    "print('\\nCoherence Score: ', coherence_ldamallet)"
   ]
  },
  {
   "cell_type": "markdown",
   "metadata": {},
   "source": [
    "### 12. Número óptimo de tópicos para LDA?"
   ]
  },
  {
   "cell_type": "code",
   "execution_count": 61,
   "metadata": {},
   "outputs": [],
   "source": [
    "def compute_coherence_values(dictionary, corpus, texts, limit, start=2, step=3):\n",
    "    \"\"\"\n",
    "    Compute c_v coherence for various number of topics\n",
    "\n",
    "    Parameters:\n",
    "    ----------\n",
    "    dictionary : Gensim dictionary\n",
    "    corpus : Gensim corpus\n",
    "    texts : List of input texts\n",
    "    limit : Max num of topics\n",
    "\n",
    "    Returns:\n",
    "    -------\n",
    "    model_list : List of LDA topic models\n",
    "    coherence_values : Coherence values corresponding to the LDA model with respective number of topics\n",
    "    \"\"\"\n",
    "    coherence_values = []\n",
    "    model_list = []\n",
    "    for num_topics in range(start, limit, step):\n",
    "        model = gensim.models.wrappers.LdaMallet(mallet_path, corpus=corpus, num_topics=num_topics, id2word=id2word)\n",
    "        model_list.append(model)\n",
    "        coherencemodel = CoherenceModel(model=model, texts=texts, dictionary=dictionary, coherence='c_v')\n",
    "        coherence_values.append(coherencemodel.get_coherence())\n",
    "\n",
    "    return model_list, coherence_values"
   ]
  },
  {
   "cell_type": "code",
   "execution_count": 62,
   "metadata": {},
   "outputs": [
    {
     "name": "stdout",
     "output_type": "stream",
     "text": [
      "Wall time: 4min 20s\n"
     ]
    }
   ],
   "source": [
    "%%time\n",
    "\n",
    "# Can take a long time to run.\n",
    "model_list, coherence_values = compute_coherence_values(dictionary=id2word, corpus=corpus, texts=texts, start=2, limit=30, step=4)"
   ]
  },
  {
   "cell_type": "code",
   "execution_count": 63,
   "metadata": {},
   "outputs": [
    {
     "data": {
      "image/png": "[encoded data removed]",
      "text/plain": [
       "<Figure size 432x288 with 1 Axes>"
      ]
     },
     "metadata": {
      "needs_background": "light"
     },
     "output_type": "display_data"
    }
   ],
   "source": [
    "# Show graph\n",
    "limit=30; start=2; step=4;\n",
    "x = range(start, limit, step)\n",
    "plt.plot(x, coherence_values)\n",
    "plt.xlabel(\"Num Topics\")\n",
    "plt.ylabel(\"Coherence score\")\n",
    "plt.legend((\"coherence_values\"), loc='best')\n",
    "plt.show()"
   ]
  },
  {
   "cell_type": "code",
   "execution_count": 64,
   "metadata": {},
   "outputs": [
    {
     "name": "stdout",
     "output_type": "stream",
     "text": [
      "Num Topics = 2  has Coherence Value of 0.3067\n",
      "Num Topics = 6  has Coherence Value of 0.4438\n",
      "Num Topics = 10  has Coherence Value of 0.444\n",
      "Num Topics = 14  has Coherence Value of 0.4724\n",
      "Num Topics = 18  has Coherence Value of 0.4761\n",
      "Num Topics = 22  has Coherence Value of 0.5139\n",
      "Num Topics = 26  has Coherence Value of 0.5221\n"
     ]
    }
   ],
   "source": [
    "for m, cv in zip(x, coherence_values):\n",
    "    print(\"Num Topics =\", m, \" has Coherence Value of\", round(cv, 4))"
   ]
  },
  {
   "cell_type": "code",
   "execution_count": 65,
   "metadata": {},
   "outputs": [
    {
     "name": "stdout",
     "output_type": "stream",
     "text": [
      "[(0,\n",
      "  '0.131*\"operativo\" + 0.115*\"quedar\" + 0.080*\"dispensador\" + 0.056*\"venta\" + '\n",
      "  '0.049*\"prueba\" + 0.042*\"producto\" + 0.042*\"surtidor\" + 0.038*\"detectar\" + '\n",
      "  '0.023*\"reponer\" + 0.017*\"bodega\"'),\n",
      " (1,\n",
      "  '0.139*\"cambiar\" + 0.076*\"quedo\" + 0.041*\"realizar\" + 0.039*\"tapar\" + '\n",
      "  '0.026*\"valvula\" + 0.024*\"encore\" + 0.023*\"atender\" + 0.022*\"ot\" + '\n",
      "  '0.022*\"diesel\" + 0.020*\"rotar\"'),\n",
      " (2,\n",
      "  '0.141*\"realizar\" + 0.088*\"equipar\" + 0.064*\"operativo\" + 0.060*\"funcionar\" '\n",
      "  '+ 0.049*\"fugar\" + 0.042*\"detector\" + 0.040*\"gas\" + 0.032*\"psi\" + '\n",
      "  '0.027*\"cliente\" + 0.024*\"cambiar\"'),\n",
      " (3,\n",
      "  '0.136*\"disp\" + 0.128*\"realizar\" + 0.111*\"rv\" + 0.096*\"remplazar\" + '\n",
      "  '0.079*\"pistola\" + 0.040*\"manguera\" + 0.038*\"opw\" + 0.021*\"breckawey\" + '\n",
      "  '0.016*\"hose\" + 0.015*\"conv\"'),\n",
      " (4,\n",
      "  '0.095*\"fallo\" + 0.063*\"chequea\" + 0.050*\"detectar\" + 0.034*\"gas\" + '\n",
      "  '0.027*\"problema\" + 0.025*\"normal\" + 0.024*\"operar\" + 0.023*\"despachar\" + '\n",
      "  '0.022*\"dispensador\" + 0.018*\"probar\"'),\n",
      " (5,\n",
      "  '0.089*\"revisar\" + 0.055*\"boca\" + 0.052*\"lado\" + 0.041*\"realizar\" + '\n",
      "  '0.039*\"mantencion\" + 0.038*\"preventivo\" + 0.038*\"litro\" + 0.032*\"quedar\" + '\n",
      "  '0.032*\"equipo\" + 0.031*\"probar\"')]\n"
     ]
    }
   ],
   "source": [
    "# Select the model and print the topics\n",
    "optimal_model = model_list[1]\n",
    "model_topics = optimal_model.show_topics(formatted=False)\n",
    "pprint(optimal_model.print_topics(num_words=10))"
   ]
  },
  {
   "cell_type": "code",
   "execution_count": 66,
   "metadata": {},
   "outputs": [],
   "source": [
    "# Lda Mallet a PyLDAvis\n",
    "ldamallet = gensim.models.wrappers.LdaMallet(mallet_path, corpus=corpus, num_topics=6, id2word=id2word)\n",
    "LDA_mallet_model = gensim.models.wrappers.ldamallet.malletmodel2ldamodel(ldamallet)"
   ]
  },
  {
   "cell_type": "code",
   "execution_count": 67,
   "metadata": {},
   "outputs": [
    {
     "name": "stderr",
     "output_type": "stream",
     "text": [
      "C:\\Users\\alexa\\anaconda3\\lib\\site-packages\\pyLDAvis\\_prepare.py:223: RuntimeWarning: divide by zero encountered in log\n",
      "  kernel = (topic_given_term * np.log((topic_given_term.T / topic_proportion).T))\n",
      "C:\\Users\\alexa\\anaconda3\\lib\\site-packages\\pyLDAvis\\_prepare.py:240: RuntimeWarning: divide by zero encountered in log\n",
      "  log_lift = np.log(topic_term_dists / term_proportion)\n",
      "C:\\Users\\alexa\\anaconda3\\lib\\site-packages\\pyLDAvis\\_prepare.py:241: RuntimeWarning: divide by zero encountered in log\n",
      "  log_ttd = np.log(topic_term_dists)\n"
     ]
    },
    {
     "data": {
      "text/html": [
       "\n",
       "<link rel=\"stylesheet\" type=\"text/css\" href=\"https://cdn.rawgit.com/bmabey/pyLDAvis/files/ldavis.v1.0.0.css\">\n",
       "\n",
       "\n",
       "<div id=\"ldavis_el60801814884156232436784487\"></div>\n",
       "<script type=\"text/javascript\">\n",
       "\n",
       "var ldavis_el60801814884156232436784487_data = {\"mdsDat\": {\"x\": [-0.10283037213710687, -0.417488165520981, 0.10949581274999788, 0.08824303151244256, 0.17715758114631106, 0.14542211224933627], \"y\": [0.14555098662916413, -0.04814936633730623, 0.31239349820386547, -0.33250494471279646, 0.03908674420996706, -0.11637691799289392], \"topics\": [1, 2, 3, 4, 5, 6], \"cluster\": [1, 1, 1, 1, 1, 1], \"Freq\": [18.442534659833026, 16.89187075587571, 16.88729239671659, 16.543517968456747, 16.513544763591426, 14.721239455526511]}, \"tinfo\": {\"Term\": [\"disp\", \"operativo\", \"rv\", \"quedar\", \"fallo\", \"remplazar\", \"dispensador\", \"realizar\", \"cambiar\", \"equipar\", \"pistola\", \"quedo\", \"detectar\", \"gas\", \"revisar\", \"chequea\", \"boca\", \"lado\", \"manguera\", \"surtidor\", \"fugar\", \"prueba\", \"detector\", \"opw\", \"mantencion\", \"preventivo\", \"litro\", \"producto\", \"funcionar\", \"tapar\", \"estancar\", \"boca\", \"revoluci\\u00f3n\", \"equipo\", \"revision\", \"durar\", \"camaras\", \"maquinar\", \"cebar\", \"concurrio\", \"isla\", \"efecto\", \"vertical\", \"dar\", \"hara\", \"lt\", \"confinar\", \"prheba\", \"contar\", \"contaminar\", \"derramar\", \"solisita\", \"espaciar\", \"internet\", \"prevencionista\", \"riesgo\", \"slas\", \"dentro\", \"efectua\", \"estanque\", \"lado\", \"mantencion\", \"preventivo\", \"litro\", \"tapar\", \"spill\", \"accesorio\", \"descargar\", \"calibrar\", \"interior\", \"matraz\", \"limpiar\", \"verificacion\", \"verificar\", \"calibracion\", \"pintar\", \"filtraci\\u00f3n\", \"coneccion\", \"limpieza\", \"mp\", \"camara\", \"tambor\", \"revisar\", \"volumetrica\", \"probar\", \"realizar\", \"quedar\", \"diesel\", \"normalmente\", \"elementar\", \"electrico\", \"sistema\", \"observacion\", \"presion\", \"partir\", \"instalar\", \"hacer\", \"turbinar\", \"lento\", \"nuevo\", \"ajustar\", \"firmar\", \"fallo\", \"normal\", \"ocurrir\", \"flexible\", \"tenia\", \"fijo\", \"rwcirculando\", \"avezar\", \"medir\", \"reposar\", \"interno\", \"funcional\", \"comportamiento\", \"bombo\", \"regular\", \"vender\", \"chequea\", \"problema\", \"operar\", \"solicitar\", \"eds\", \"describir\", \"llegar\", \"cortar\", \"recirculando\", \"octuple\", \"breakway\", \"monitorean\", \"flujo\", \"reapriete\", \"alimentacion\", \"detectar\", \"momento\", \"probar\", \"estacion\", \"despachar\", \"encontrar\", \"dejar\", \"acopiar\", \"servicentro\", \"remplazar\", \"giratorio\", \"perdido\", \"calzar\", \"displey\", \"opw\", \"protector\", \"reintalan\", \"surt\", \"reconectado\", \"sr\", \"cap\\u00edtulo\", \"reclamar\", \"desbloquear\", \"breakawat\", \"mostrar\", \"plca\", \"autoopw\", \"piastola\", \"conv\", \"hp\", \"requerir\", \"reco\", \"breckawey\", \"trifasico\", \"doblar\", \"manguera\", \"pistola\", \"disp\", \"rv\", \"hose\", \"swivel\", \"rvopw\", \"visitar\", \"coordinar\", \"wipe\", \"motor\", \"proxima\", \"repuesto\", \"fundir\", \"whipe\", \"reinstalacion\", \"activacion\", \"atencion\", \"bco\", \"boto\", \"presentar\", \"palanca\", \"realizar\", \"portar\", \"programar\", \"mts\", \"operativau\", \"tarjeta\", \"rearmar\", \"uni\\u00f3n\", \"advantage\", \"colocar\", \"mometno\", \"cammbio\", \"remarcar\", \"filtrar\", \"alto\", \"mateeial\", \"capacidad\", \"roturar\", \"gilbarco\", \"reintala\", \"resorte\", \"ag\", \"anterior\", \"avanzar\", \"controlador\", \"electronicos\", \"logica\", \"na\", \"bien\", \"reconecta\", \"pendiente\", \"dispensador\", \"prueba\", \"reponer\", \"encore\", \"rotar\", \"preset\", \"filtracion\", \"medidor\", \"filtro\", \"utilizar\", \"reset\", \"breakaways\", \"malo\", \"sellar\", \"master\", \"wipehose\", \"union\", \"breakaway\", \"kit\", \"portapistola\", \"reprogramacion\", \"gatillo\", \"reprograma\", \"ver\", \"wayne\", \"reconecto\", \"producto\", \"bodega\", \"quedar\", \"operativo\", \"cambiar\", \"proporcional\", \"venta\", \"valvula\", \"detectar\", \"reemplazar\", \"reconectable\", \"brevedad\", \"cano\", \"operacion\", \"quebrar\", \"deber\", \"reinicio\", \"fondo\", \"quedo\", \"observandose\", \"descebar\", \"hora\", \"presentandose\", \"alarmar\", \"bocaestanque\", \"canerias\", \"reprograman\", \"check\", \"jacket\", \"mananas\", \"movimiento\", \"valvulas\", \"red\", \"manguers\", \"barrer\", \"arrojar\", \"aproximar\", \"bloqueadose\", \"mantenimiento\", \"gas\", \"fugar\", \"detector\", \"psi\", \"atender\", \"ot\", \"aguar\", \"incidencia\", \"linear\", \"tk\", \"mantener\", \"detencion\", \"cerrar\", \"normalizacion\", \"mal\", \"recirculan\", \"oring\", \"instalacion\", \"ods\", \"fepetro\", \"servicio\", \"llamar\", \"enex\", \"posible\", \"lluvia\", \"diesel\", \"danado\", \"stpmldg\", \"funcionar\", \"cambiar\", \"valvula\", \"realizar\", \"rele\", \"soltar\", \"placa\", \"infrarrojo\", \"display\", \"codigo\", \"actualizar\", \"descartar\", \"sacar\", \"emitir\", \"perimetral\", \"converso\", \"ortr\", \"silicita\", \"trabajar\", \"esporadicamente\", \"equipar\", \"comentar\", \"predeterminador\", \"nodo\", \"ppu\", \"precio\", \"segmento\", \"seguir\", \"matcelo\", \"rejistro\", \"personal\", \"encontrandose\", \"totalizador\", \"tls\", \"surtidor\", \"cliente\", \"segun\", \"revison\", \"encargar\", \"kerosene\", \"breackaway\", \"aparentar\", \"reparacion\", \"informar\", \"terminal\", \"informacion\", \"kerosenne\", \"lts\", \"tablero\", \"acudir\", \"encontro\", \"suelto\", \"recirculaci\\u00f3n\", \"volumen\", \"colgante\", \"proceder\", \"operativo\", \"venta\", \"funcionar\", \"despachar\", \"realizar\"], \"Freq\": [228.0, 294.0, 185.0, 228.0, 165.0, 159.0, 156.0, 554.0, 240.0, 128.0, 134.0, 123.0, 149.0, 122.0, 147.0, 109.0, 91.0, 86.0, 81.0, 75.0, 74.0, 73.0, 64.0, 63.0, 65.0, 64.0, 63.0, 63.0, 88.0, 57.0, 22.929839679472334, 91.71935871788934, 24.923738782035144, 53.83527576919591, 24.923738782035144, 1.9938991025628119, 5.981697307688435, 7.9755964102512475, 2.9908486538442176, 1.9938991025628119, 15.951192820502495, 5.981697307688435, 1.9938991025628119, 2.9908486538442176, 1.9938991025628119, 5.981697307688435, 3.9877982051256238, 3.9877982051256238, 10.966445064095465, 8.972545961532653, 3.9877982051256238, 1.9938991025628119, 3.9877982051256238, 3.9877982051256238, 3.9877982051256238, 3.9877982051256238, 3.9877982051256238, 2.9908486538442176, 6.9786468589698405, 14.954243269221086, 86.7346109614823, 65.79867038457279, 64.80172083329138, 63.80477128200998, 57.82307397432154, 50.8444271153517, 48.850528012788885, 47.85357846150748, 42.86883070510045, 31.90238564100499, 29.908486538442173, 25.92068833331655, 25.92068833331655, 23.92678923075374, 19.938991025628116, 19.938991025628116, 15.951192820502495, 13.957293717939681, 12.960344166658276, 12.960344166658276, 11.96339461537687, 9.969495512814058, 140.56988673067823, 26.917637884597955, 34.89323429484921, 81.74986320507527, 41.87188115381905, 17.945091923065306, 23.25039101709009, 21.136719106445536, 14.795703374511875, 22.193555061767814, 7.397851687255938, 23.25039101709009, 10.568359553222768, 17.966211240478707, 11.625195508545046, 5.284179776611384, 10.568359553222768, 5.284179776611384, 10.568359553222768, 10.568359553222768, 165.92324498559748, 44.38711012353563, 4.227343821289108, 2.113671910644554, 2.113671910644554, 4.227343821289108, 4.227343821289108, 2.113671910644554, 8.454687642578216, 6.341015731933662, 2.113671910644554, 19.023047195800984, 6.341015731933662, 16.909375285156433, 2.113671910644554, 2.113671910644554, 109.91093935351681, 47.55761798950246, 41.2166022575688, 38.04609439160197, 28.534570793701477, 27.477734838379202, 25.364062927734647, 25.364062927734647, 19.023047195800984, 16.909375285156433, 16.909375285156433, 16.909375285156433, 13.738867419189601, 9.511523597900492, 9.511523597900492, 136.33183823657373, 20.079883151123262, 48.61445394482474, 17.966211240478707, 30.648242704346032, 19.023047195800984, 14.795703374511875, 0.9300527055432293, 13.95079058314844, 159.0390126478922, 1.8601054110864585, 2.790158116629688, 3.720210822172917, 14.880843288691668, 63.2435839769396, 1.8601054110864585, 1.8601054110864585, 24.181370344123962, 1.8601054110864585, 0.9300527055432293, 5.580316233259376, 3.720210822172917, 0.9300527055432293, 2.790158116629688, 1.8601054110864585, 1.8601054110864585, 1.8601054110864585, 1.8601054110864585, 24.181370344123962, 6.510368938802605, 1.8601054110864585, 14.880843288691668, 35.34200281064271, 5.580316233259376, 3.720210822172917, 81.84463808780419, 134.85764230376824, 228.79296556363443, 185.08048840310263, 26.04147575521042, 21.391212227494275, 20.461159521951046, 16.740948699778126, 16.740948699778126, 16.740948699778126, 15.8108959942349, 13.02073787760521, 11.160632466518752, 11.160632466518752, 9.300527055432294, 9.300527055432294, 6.510368938802605, 5.580316233259376, 5.580316233259376, 5.580316233259376, 18.601054110864588, 9.300527055432294, 229.72301826917766, 0.9473051782767773, 3.789220713107109, 3.789220713107109, 1.8946103565535546, 5.683831069660664, 3.789220713107109, 5.683831069660664, 1.8946103565535546, 1.8946103565535546, 1.8946103565535546, 1.8946103565535546, 1.8946103565535546, 21.78801910036588, 15.156882852428437, 1.8946103565535546, 2.841915534830332, 1.8946103565535546, 3.789220713107109, 3.789220713107109, 1.8946103565535546, 1.8946103565535546, 1.8946103565535546, 1.8946103565535546, 3.789220713107109, 1.8946103565535546, 1.8946103565535546, 2.841915534830332, 1.8946103565535546, 11.367662139321329, 14.20957767415166, 156.30535441566826, 73.88980390558864, 35.05029159624076, 33.155681239687205, 28.41915534830332, 24.629934635196214, 22.735324278642658, 20.840713922089105, 18.946103565535548, 17.051493208981995, 16.104188030705217, 15.156882852428437, 15.156882852428437, 13.262272495874884, 13.262272495874884, 11.367662139321329, 10.420356961044552, 10.420356961044552, 10.420356961044552, 10.420356961044552, 9.473051782767774, 9.473051782767774, 8.525746604490998, 7.578441426214218, 7.578441426214218, 7.578441426214218, 61.57483658799053, 25.57723981347299, 186.61912012052514, 177.14606833775736, 139.25386120668628, 12.314967317598107, 42.62873302245498, 20.840713922089105, 13.262272495874884, 5.4667869231080655, 5.4667869231080655, 10.933573846216131, 10.933573846216131, 21.867147692432262, 21.867147692432262, 5.4667869231080655, 5.4667869231080655, 5.4667869231080655, 123.54938446224227, 1.0933573846216134, 2.1867147692432267, 6.560144307729678, 2.1867147692432267, 1.0933573846216134, 2.1867147692432267, 2.1867147692432267, 2.1867147692432267, 19.680432923189038, 4.373429538486453, 2.1867147692432267, 2.1867147692432267, 4.373429538486453, 4.373429538486453, 1.0933573846216134, 4.373429538486453, 4.373429538486453, 4.373429538486453, 2.1867147692432267, 3.280072153864839, 122.45602707762067, 74.3483021542697, 64.50808569267518, 48.10772492335098, 37.17415107713485, 36.08079369251324, 30.61400676940517, 29.520649384783557, 22.960505077053877, 20.77379030781065, 18.587075538567426, 17.493718153945814, 15.307003384702584, 13.120288615459357, 13.120288615459357, 13.120288615459357, 12.026931230837745, 12.026931230837745, 9.840216461594519, 8.746859076972907, 8.746859076972907, 8.746859076972907, 6.560144307729678, 6.560144307729678, 6.560144307729678, 49.20108230797259, 6.560144307729678, 6.560144307729678, 50.2944396925942, 101.68223676981003, 31.70736415402678, 155.25674861626908, 1.0456409789734282, 8.365127831787426, 19.867178600495137, 4.182563915893713, 17.775896642548283, 3.1369229369202847, 4.182563915893713, 2.0912819579468565, 12.547691747681139, 8.365127831787426, 1.0456409789734282, 2.0912819579468565, 1.0456409789734282, 2.0912819579468565, 6.273845873840569, 2.0912819579468565, 128.61384041373168, 4.182563915893713, 2.0912819579468565, 5.228204894867141, 8.365127831787426, 14.638973705627995, 4.182563915893713, 6.273845873840569, 1.0456409789734282, 1.0456409789734282, 7.319486852813998, 24.04974251638885, 8.365127831787426, 1.0456409789734282, 75.28615048608684, 39.734357200990274, 25.095383495362277, 24.04974251638885, 23.004101537415426, 23.004101537415426, 21.958460558441995, 20.912819579468565, 20.912819579468565, 17.775896642548283, 17.775896642548283, 17.775896642548283, 16.73025566357485, 14.638973705627995, 13.59333272665457, 12.547691747681139, 12.547691747681139, 10.456409789734282, 10.456409789734282, 10.456409789734282, 9.410768810760855, 8.365127831787426, 117.11178964502396, 43.91692111688399, 38.68871622201685, 26.14102447433571, 87.83384223376798], \"Total\": [228.0, 294.0, 185.0, 228.0, 165.0, 159.0, 156.0, 554.0, 240.0, 128.0, 134.0, 123.0, 149.0, 122.0, 147.0, 109.0, 91.0, 86.0, 81.0, 75.0, 74.0, 73.0, 64.0, 63.0, 65.0, 64.0, 63.0, 63.0, 88.0, 57.0, 22.929839679472334, 91.71935871788934, 24.923738782035144, 53.83527576919591, 24.923738782035144, 1.9938991025628119, 5.981697307688435, 7.9755964102512475, 2.9908486538442176, 1.9938991025628119, 15.951192820502495, 5.981697307688435, 1.9938991025628119, 2.9908486538442176, 1.9938991025628119, 5.981697307688435, 3.9877982051256238, 3.9877982051256238, 10.966445064095465, 8.972545961532653, 3.9877982051256238, 1.9938991025628119, 3.9877982051256238, 3.9877982051256238, 3.9877982051256238, 3.9877982051256238, 3.9877982051256238, 2.9908486538442176, 6.9786468589698405, 14.954243269221086, 86.7346109614823, 65.79867038457279, 64.80172083329138, 63.80477128200998, 57.82307397432154, 50.8444271153517, 48.850528012788885, 47.85357846150748, 42.86883070510045, 31.90238564100499, 29.908486538442173, 25.92068833331655, 25.92068833331655, 23.92678923075374, 19.938991025628116, 19.938991025628116, 15.951192820502495, 13.957293717939681, 12.960344166658276, 12.960344166658276, 11.96339461537687, 9.969495512814058, 147.96773841793419, 27.864943062874733, 83.50768823967394, 554.5634723242899, 228.49100127434417, 67.14617423103789, 23.25039101709009, 21.136719106445536, 14.795703374511875, 22.193555061767814, 7.397851687255938, 23.25039101709009, 10.568359553222768, 17.966211240478707, 11.625195508545046, 5.284179776611384, 10.568359553222768, 5.284179776611384, 10.568359553222768, 10.568359553222768, 165.92324498559748, 44.38711012353563, 4.227343821289108, 2.113671910644554, 2.113671910644554, 4.227343821289108, 4.227343821289108, 2.113671910644554, 8.454687642578216, 6.341015731933662, 2.113671910644554, 19.023047195800984, 6.341015731933662, 16.909375285156433, 2.113671910644554, 2.113671910644554, 109.91093935351681, 47.55761798950246, 41.2166022575688, 38.04609439160197, 28.534570793701477, 27.477734838379202, 25.364062927734647, 25.364062927734647, 19.023047195800984, 16.909375285156433, 16.909375285156433, 16.909375285156433, 13.738867419189601, 9.511523597900492, 9.511523597900492, 149.59411073244863, 21.173240535744874, 83.50768823967394, 23.947908548167142, 56.78926717868174, 26.676548888152276, 19.780451130918905, 0.9300527055432293, 13.95079058314844, 159.0390126478922, 1.8601054110864585, 2.790158116629688, 3.720210822172917, 14.880843288691668, 63.2435839769396, 1.8601054110864585, 1.8601054110864585, 24.181370344123962, 1.8601054110864585, 0.9300527055432293, 5.580316233259376, 3.720210822172917, 0.9300527055432293, 2.790158116629688, 1.8601054110864585, 1.8601054110864585, 1.8601054110864585, 1.8601054110864585, 24.181370344123962, 6.510368938802605, 1.8601054110864585, 14.880843288691668, 35.34200281064271, 5.580316233259376, 3.720210822172917, 81.84463808780419, 134.85764230376824, 228.79296556363443, 185.08048840310263, 26.04147575521042, 21.391212227494275, 20.461159521951046, 16.740948699778126, 16.740948699778126, 16.740948699778126, 15.8108959942349, 13.02073787760521, 11.160632466518752, 11.160632466518752, 9.300527055432294, 9.300527055432294, 6.510368938802605, 5.580316233259376, 5.580316233259376, 5.580316233259376, 21.771561976831418, 10.2974766067137, 554.5634723242899, 0.9473051782767773, 3.789220713107109, 3.789220713107109, 1.8946103565535546, 5.683831069660664, 3.789220713107109, 5.683831069660664, 1.8946103565535546, 1.8946103565535546, 1.8946103565535546, 1.8946103565535546, 1.8946103565535546, 21.78801910036588, 15.156882852428437, 1.8946103565535546, 2.841915534830332, 1.8946103565535546, 3.789220713107109, 3.789220713107109, 1.8946103565535546, 1.8946103565535546, 1.8946103565535546, 1.8946103565535546, 3.789220713107109, 1.8946103565535546, 1.8946103565535546, 2.841915534830332, 1.8946103565535546, 11.367662139321329, 14.20957767415166, 156.30535441566826, 73.88980390558864, 35.05029159624076, 33.155681239687205, 28.41915534830332, 24.629934635196214, 22.735324278642658, 20.840713922089105, 18.946103565535548, 17.051493208981995, 16.104188030705217, 15.156882852428437, 15.156882852428437, 13.262272495874884, 13.262272495874884, 11.367662139321329, 10.420356961044552, 10.420356961044552, 10.420356961044552, 10.420356961044552, 9.473051782767774, 9.473051782767774, 8.525746604490998, 7.578441426214218, 7.578441426214218, 7.578441426214218, 63.761551357233756, 26.6705971980946, 228.49100127434417, 294.25785798278133, 240.9360979764963, 13.360608296571534, 89.82572629320381, 52.548078076115885, 149.59411073244863, 5.4667869231080655, 5.4667869231080655, 10.933573846216131, 10.933573846216131, 21.867147692432262, 21.867147692432262, 5.4667869231080655, 5.4667869231080655, 5.4667869231080655, 123.54938446224227, 1.0933573846216134, 2.1867147692432267, 6.560144307729678, 2.1867147692432267, 1.0933573846216134, 2.1867147692432267, 2.1867147692432267, 2.1867147692432267, 19.680432923189038, 4.373429538486453, 2.1867147692432267, 2.1867147692432267, 4.373429538486453, 4.373429538486453, 1.0933573846216134, 4.373429538486453, 4.373429538486453, 4.373429538486453, 2.1867147692432267, 3.280072153864839, 122.45602707762067, 74.3483021542697, 64.50808569267518, 48.10772492335098, 37.17415107713485, 36.08079369251324, 30.61400676940517, 29.520649384783557, 22.960505077053877, 20.77379030781065, 18.587075538567426, 17.493718153945814, 15.307003384702584, 13.120288615459357, 13.120288615459357, 13.120288615459357, 12.026931230837745, 12.026931230837745, 9.840216461594519, 8.746859076972907, 8.746859076972907, 8.746859076972907, 6.560144307729678, 6.560144307729678, 6.560144307729678, 67.14617423103789, 6.560144307729678, 6.560144307729678, 88.98315591461105, 240.9360979764963, 52.548078076115885, 554.5634723242899, 1.0456409789734282, 8.365127831787426, 19.867178600495137, 4.182563915893713, 17.775896642548283, 3.1369229369202847, 4.182563915893713, 2.0912819579468565, 12.547691747681139, 8.365127831787426, 1.0456409789734282, 2.0912819579468565, 1.0456409789734282, 2.0912819579468565, 6.273845873840569, 2.0912819579468565, 128.61384041373168, 4.182563915893713, 2.0912819579468565, 5.228204894867141, 8.365127831787426, 14.638973705627995, 4.182563915893713, 6.273845873840569, 1.0456409789734282, 1.0456409789734282, 7.319486852813998, 24.04974251638885, 8.365127831787426, 1.0456409789734282, 75.28615048608684, 39.734357200990274, 25.095383495362277, 24.04974251638885, 23.004101537415426, 23.004101537415426, 21.958460558441995, 20.912819579468565, 20.912819579468565, 17.775896642548283, 17.775896642548283, 17.775896642548283, 16.73025566357485, 14.638973705627995, 13.59333272665457, 12.547691747681139, 12.547691747681139, 10.456409789734282, 10.456409789734282, 10.456409789734282, 9.410768810760855, 8.365127831787426, 294.25785798278133, 89.82572629320381, 88.98315591461105, 56.78926717868174, 554.5634723242899], \"Category\": [\"Default\", \"Default\", \"Default\", \"Default\", \"Default\", \"Default\", \"Default\", \"Default\", \"Default\", \"Default\", \"Default\", \"Default\", \"Default\", \"Default\", \"Default\", \"Default\", \"Default\", \"Default\", \"Default\", \"Default\", \"Default\", \"Default\", \"Default\", \"Default\", \"Default\", \"Default\", \"Default\", \"Default\", \"Default\", \"Default\", \"Topic1\", \"Topic1\", \"Topic1\", \"Topic1\", \"Topic1\", \"Topic1\", \"Topic1\", \"Topic1\", \"Topic1\", \"Topic1\", \"Topic1\", \"Topic1\", \"Topic1\", \"Topic1\", \"Topic1\", \"Topic1\", \"Topic1\", \"Topic1\", \"Topic1\", \"Topic1\", \"Topic1\", \"Topic1\", \"Topic1\", \"Topic1\", \"Topic1\", \"Topic1\", \"Topic1\", \"Topic1\", \"Topic1\", \"Topic1\", \"Topic1\", \"Topic1\", \"Topic1\", \"Topic1\", \"Topic1\", \"Topic1\", \"Topic1\", \"Topic1\", \"Topic1\", \"Topic1\", \"Topic1\", \"Topic1\", \"Topic1\", \"Topic1\", \"Topic1\", \"Topic1\", \"Topic1\", \"Topic1\", \"Topic1\", \"Topic1\", \"Topic1\", \"Topic1\", \"Topic1\", \"Topic1\", \"Topic1\", \"Topic1\", \"Topic1\", \"Topic1\", \"Topic2\", \"Topic2\", \"Topic2\", \"Topic2\", \"Topic2\", \"Topic2\", \"Topic2\", \"Topic2\", \"Topic2\", \"Topic2\", \"Topic2\", \"Topic2\", \"Topic2\", \"Topic2\", \"Topic2\", \"Topic2\", \"Topic2\", \"Topic2\", \"Topic2\", \"Topic2\", \"Topic2\", \"Topic2\", \"Topic2\", \"Topic2\", \"Topic2\", \"Topic2\", \"Topic2\", \"Topic2\", \"Topic2\", \"Topic2\", \"Topic2\", \"Topic2\", \"Topic2\", \"Topic2\", \"Topic2\", \"Topic2\", \"Topic2\", \"Topic2\", \"Topic2\", \"Topic2\", \"Topic2\", \"Topic2\", \"Topic2\", \"Topic2\", \"Topic2\", \"Topic2\", \"Topic2\", \"Topic2\", \"Topic2\", \"Topic2\", \"Topic2\", \"Topic2\", \"Topic3\", \"Topic3\", \"Topic3\", \"Topic3\", \"Topic3\", \"Topic3\", \"Topic3\", \"Topic3\", \"Topic3\", \"Topic3\", \"Topic3\", \"Topic3\", \"Topic3\", \"Topic3\", \"Topic3\", \"Topic3\", \"Topic3\", \"Topic3\", \"Topic3\", \"Topic3\", \"Topic3\", \"Topic3\", \"Topic3\", \"Topic3\", \"Topic3\", \"Topic3\", \"Topic3\", \"Topic3\", \"Topic3\", \"Topic3\", \"Topic3\", \"Topic3\", \"Topic3\", \"Topic3\", \"Topic3\", \"Topic3\", \"Topic3\", \"Topic3\", \"Topic3\", \"Topic3\", \"Topic3\", \"Topic3\", \"Topic3\", \"Topic3\", \"Topic3\", \"Topic3\", \"Topic3\", \"Topic3\", \"Topic3\", \"Topic3\", \"Topic3\", \"Topic4\", \"Topic4\", \"Topic4\", \"Topic4\", \"Topic4\", \"Topic4\", \"Topic4\", \"Topic4\", \"Topic4\", \"Topic4\", \"Topic4\", \"Topic4\", \"Topic4\", \"Topic4\", \"Topic4\", \"Topic4\", \"Topic4\", \"Topic4\", \"Topic4\", \"Topic4\", \"Topic4\", \"Topic4\", \"Topic4\", \"Topic4\", \"Topic4\", \"Topic4\", \"Topic4\", \"Topic4\", \"Topic4\", \"Topic4\", \"Topic4\", \"Topic4\", \"Topic4\", \"Topic4\", \"Topic4\", \"Topic4\", \"Topic4\", \"Topic4\", \"Topic4\", \"Topic4\", \"Topic4\", \"Topic4\", \"Topic4\", \"Topic4\", \"Topic4\", \"Topic4\", \"Topic4\", \"Topic4\", \"Topic4\", \"Topic4\", \"Topic4\", \"Topic4\", \"Topic4\", \"Topic4\", \"Topic4\", \"Topic4\", \"Topic4\", \"Topic4\", \"Topic4\", \"Topic4\", \"Topic4\", \"Topic4\", \"Topic4\", \"Topic4\", \"Topic4\", \"Topic5\", \"Topic5\", \"Topic5\", \"Topic5\", \"Topic5\", \"Topic5\", \"Topic5\", \"Topic5\", \"Topic5\", \"Topic5\", \"Topic5\", \"Topic5\", \"Topic5\", \"Topic5\", \"Topic5\", \"Topic5\", \"Topic5\", \"Topic5\", \"Topic5\", \"Topic5\", \"Topic5\", \"Topic5\", \"Topic5\", \"Topic5\", \"Topic5\", \"Topic5\", \"Topic5\", \"Topic5\", \"Topic5\", \"Topic5\", \"Topic5\", \"Topic5\", \"Topic5\", \"Topic5\", \"Topic5\", \"Topic5\", \"Topic5\", \"Topic5\", \"Topic5\", \"Topic5\", \"Topic5\", \"Topic5\", \"Topic5\", \"Topic5\", \"Topic5\", \"Topic5\", \"Topic5\", \"Topic5\", \"Topic5\", \"Topic5\", \"Topic5\", \"Topic5\", \"Topic5\", \"Topic5\", \"Topic5\", \"Topic5\", \"Topic5\", \"Topic5\", \"Topic5\", \"Topic5\", \"Topic5\", \"Topic5\", \"Topic6\", \"Topic6\", \"Topic6\", \"Topic6\", \"Topic6\", \"Topic6\", \"Topic6\", \"Topic6\", \"Topic6\", \"Topic6\", \"Topic6\", \"Topic6\", \"Topic6\", \"Topic6\", \"Topic6\", \"Topic6\", \"Topic6\", \"Topic6\", \"Topic6\", \"Topic6\", \"Topic6\", \"Topic6\", \"Topic6\", \"Topic6\", \"Topic6\", \"Topic6\", \"Topic6\", \"Topic6\", \"Topic6\", \"Topic6\", \"Topic6\", \"Topic6\", \"Topic6\", \"Topic6\", \"Topic6\", \"Topic6\", \"Topic6\", \"Topic6\", \"Topic6\", \"Topic6\", \"Topic6\", \"Topic6\", \"Topic6\", \"Topic6\", \"Topic6\", \"Topic6\", \"Topic6\", \"Topic6\", \"Topic6\", \"Topic6\", \"Topic6\", \"Topic6\", \"Topic6\", \"Topic6\", \"Topic6\", \"Topic6\", \"Topic6\"], \"logprob\": [30.0, 29.0, 28.0, 27.0, 26.0, 25.0, 24.0, 23.0, 22.0, 21.0, 20.0, 19.0, 18.0, 17.0, 16.0, 15.0, 14.0, 13.0, 12.0, 11.0, 10.0, 9.0, 8.0, 7.0, 6.0, 5.0, 4.0, 3.0, 2.0, 1.0, -4.3528, -2.9665, -4.2694, -3.4993, -4.2694, -6.7951, -5.6965, -5.4089, -6.3897, -6.7951, -4.7157, -5.6965, -6.7951, -6.3897, -6.7951, -5.6965, -6.102, -6.102, -5.0904, -5.2911, -6.102, -6.7951, -6.102, -6.102, -6.102, -6.102, -6.102, -6.3897, -5.5424, -4.7802, -3.0224, -3.2986, -3.3139, -3.3294, -3.4279, -3.5565, -3.5965, -3.6171, -3.7271, -4.0226, -4.0871, -4.2302, -4.2302, -4.3102, -4.4926, -4.4926, -4.7157, -4.8492, -4.9233, -4.9233, -5.0034, -5.1857, -2.5395, -4.1925, -3.9329, -3.0816, -3.7506, -4.5979, -4.2511, -4.3464, -4.7031, -4.2976, -5.3962, -4.2511, -5.0395, -4.5089, -4.9442, -5.7327, -5.0395, -5.7327, -5.0395, -5.0395, -2.2859, -3.6045, -5.9558, -6.649, -6.649, -5.9558, -5.9558, -6.649, -5.2627, -5.5504, -6.649, -4.4518, -5.5504, -4.5695, -6.649, -6.649, -2.6977, -3.5355, -3.6786, -3.7586, -4.0463, -4.084, -4.1641, -4.1641, -4.4518, -4.5695, -4.5695, -4.5695, -4.7772, -5.1449, -5.1449, -2.4823, -4.3977, -3.5135, -4.5089, -3.9748, -4.4518, -4.7031, -7.4697, -4.7616, -2.328, -6.7765, -6.371, -6.0834, -4.6971, -3.2501, -6.7765, -6.7765, -4.2116, -6.7765, -7.4697, -5.6779, -6.0834, -7.4697, -6.371, -6.7765, -6.7765, -6.7765, -6.7765, -4.2116, -5.5237, -6.7765, -4.6971, -3.8321, -5.6779, -6.0834, -2.9923, -2.4929, -1.9643, -2.1763, -4.1374, -4.3342, -4.3786, -4.5793, -4.5793, -4.5793, -4.6364, -4.8306, -4.9847, -4.9847, -5.1671, -5.1671, -5.5237, -5.6779, -5.6779, -5.6779, -4.4739, -5.1671, -1.9603, -7.4307, -6.0444, -6.0444, -6.7376, -5.6389, -6.0444, -5.6389, -6.7376, -6.7376, -6.7376, -6.7376, -6.7376, -4.2952, -4.6581, -6.7376, -6.3321, -6.7376, -6.0444, -6.0444, -6.7376, -6.7376, -6.7376, -6.7376, -6.0444, -6.7376, -6.7376, -6.3321, -6.7376, -4.9458, -4.7227, -2.3248, -3.074, -3.8198, -3.8754, -4.0295, -4.1726, -4.2527, -4.3397, -4.435, -4.5403, -4.5975, -4.6581, -4.6581, -4.7916, -4.7916, -4.9458, -5.0328, -5.0328, -5.0328, -5.0328, -5.1281, -5.1281, -5.2335, -5.3513, -5.3513, -5.3513, -3.2563, -4.1349, -2.1475, -2.1996, -2.4403, -4.8658, -3.624, -4.3397, -4.7916, -5.6761, -5.6761, -4.9829, -4.9829, -4.2898, -4.2898, -5.6761, -5.6761, -5.6761, -2.5581, -7.2855, -6.5924, -5.4937, -6.5924, -7.2855, -6.5924, -6.5924, -6.5924, -4.3951, -5.8992, -6.5924, -6.5924, -5.8992, -5.8992, -7.2855, -5.8992, -5.8992, -5.8992, -6.5924, -6.1869, -2.567, -3.066, -3.208, -3.5013, -3.7591, -3.789, -3.9533, -3.9897, -4.241, -4.3411, -4.4523, -4.5129, -4.6464, -4.8006, -4.8006, -4.8006, -4.8876, -4.8876, -5.0883, -5.2061, -5.2061, -5.2061, -5.4937, -5.4937, -5.4937, -3.4788, -5.4937, -5.4937, -3.4569, -2.7529, -3.9182, -2.3297, -7.2152, -5.1358, -4.2708, -5.8289, -4.382, -6.1166, -5.8289, -6.5221, -4.7303, -5.1358, -7.2152, -6.5221, -7.2152, -6.5221, -5.4235, -6.5221, -2.4031, -5.8289, -6.5221, -5.6058, -5.1358, -4.5762, -5.8289, -5.4235, -7.2152, -7.2152, -5.2693, -4.0797, -5.1358, -7.2152, -2.9386, -3.5777, -4.0372, -4.0797, -4.1242, -4.1242, -4.1707, -4.2195, -4.2195, -4.382, -4.382, -4.382, -4.4427, -4.5762, -4.6503, -4.7303, -4.7303, -4.9127, -4.9127, -4.9127, -5.018, -5.1358, -2.4967, -3.4776, -3.6043, -3.9964, -2.7844], \"loglift\": [30.0, 29.0, 28.0, 27.0, 26.0, 25.0, 24.0, 23.0, 22.0, 21.0, 20.0, 19.0, 18.0, 17.0, 16.0, 15.0, 14.0, 13.0, 12.0, 11.0, 10.0, 9.0, 8.0, 7.0, 6.0, 5.0, 4.0, 3.0, 2.0, 1.0, 1.6905, 1.6905, 1.6905, 1.6905, 1.6905, 1.6905, 1.6905, 1.6905, 1.6905, 1.6905, 1.6905, 1.6905, 1.6905, 1.6905, 1.6905, 1.6905, 1.6905, 1.6905, 1.6905, 1.6905, 1.6905, 1.6905, 1.6905, 1.6905, 1.6905, 1.6905, 1.6905, 1.6905, 1.6905, 1.6905, 1.6905, 1.6905, 1.6905, 1.6905, 1.6905, 1.6905, 1.6905, 1.6905, 1.6905, 1.6905, 1.6905, 1.6905, 1.6905, 1.6905, 1.6905, 1.6905, 1.6905, 1.6905, 1.6905, 1.6905, 1.6905, 1.6905, 1.6392, 1.6559, 0.8179, -0.224, -0.0064, 0.371, 1.7783, 1.7783, 1.7783, 1.7783, 1.7783, 1.7783, 1.7783, 1.7783, 1.7783, 1.7783, 1.7783, 1.7783, 1.7783, 1.7783, 1.7783, 1.7783, 1.7783, 1.7783, 1.7783, 1.7783, 1.7783, 1.7783, 1.7783, 1.7783, 1.7783, 1.7783, 1.7783, 1.7783, 1.7783, 1.7783, 1.7783, 1.7783, 1.7783, 1.7783, 1.7783, 1.7783, 1.7783, 1.7783, 1.7783, 1.7783, 1.7783, 1.7783, 1.7783, 1.7783, 1.7783, 1.6855, 1.7253, 1.2373, 1.4909, 1.1616, 1.4402, 1.488, 1.7786, 1.7786, 1.7786, 1.7786, 1.7786, 1.7786, 1.7786, 1.7786, 1.7786, 1.7786, 1.7786, 1.7786, 1.7786, 1.7786, 1.7786, 1.7786, 1.7786, 1.7786, 1.7786, 1.7786, 1.7786, 1.7786, 1.7786, 1.7786, 1.7786, 1.7786, 1.7786, 1.7786, 1.7786, 1.7786, 1.7786, 1.7786, 1.7786, 1.7786, 1.7786, 1.7786, 1.7786, 1.7786, 1.7786, 1.7786, 1.7786, 1.7786, 1.7786, 1.7786, 1.7786, 1.7786, 1.7786, 1.7786, 1.6212, 1.6768, 0.8973, 1.7992, 1.7992, 1.7992, 1.7992, 1.7992, 1.7992, 1.7992, 1.7992, 1.7992, 1.7992, 1.7992, 1.7992, 1.7992, 1.7992, 1.7992, 1.7992, 1.7992, 1.7992, 1.7992, 1.7992, 1.7992, 1.7992, 1.7992, 1.7992, 1.7992, 1.7992, 1.7992, 1.7992, 1.7992, 1.7992, 1.7992, 1.7992, 1.7992, 1.7992, 1.7992, 1.7992, 1.7992, 1.7992, 1.7992, 1.7992, 1.7992, 1.7992, 1.7992, 1.7992, 1.7992, 1.7992, 1.7992, 1.7992, 1.7992, 1.7992, 1.7992, 1.7992, 1.7992, 1.7992, 1.7992, 1.7992, 1.7643, 1.7573, 1.5967, 1.2917, 1.2509, 1.7177, 1.0538, 0.8744, -0.6238, 1.801, 1.801, 1.801, 1.801, 1.801, 1.801, 1.801, 1.801, 1.801, 1.801, 1.801, 1.801, 1.801, 1.801, 1.801, 1.801, 1.801, 1.801, 1.801, 1.801, 1.801, 1.801, 1.801, 1.801, 1.801, 1.801, 1.801, 1.801, 1.801, 1.801, 1.801, 1.801, 1.801, 1.801, 1.801, 1.801, 1.801, 1.801, 1.801, 1.801, 1.801, 1.801, 1.801, 1.801, 1.801, 1.801, 1.801, 1.801, 1.801, 1.801, 1.801, 1.801, 1.801, 1.801, 1.801, 1.49, 1.801, 1.801, 1.2304, 0.9383, 1.2958, 0.5279, 1.9159, 1.9159, 1.9159, 1.9159, 1.9159, 1.9159, 1.9159, 1.9159, 1.9159, 1.9159, 1.9159, 1.9159, 1.9159, 1.9159, 1.9159, 1.9159, 1.9159, 1.9159, 1.9159, 1.9159, 1.9159, 1.9159, 1.9159, 1.9159, 1.9159, 1.9159, 1.9159, 1.9159, 1.9159, 1.9159, 1.9159, 1.9159, 1.9159, 1.9159, 1.9159, 1.9159, 1.9159, 1.9159, 1.9159, 1.9159, 1.9159, 1.9159, 1.9159, 1.9159, 1.9159, 1.9159, 1.9159, 1.9159, 1.9159, 1.9159, 1.9159, 1.9159, 0.9946, 1.2003, 1.083, 1.14, 0.0731]}, \"token.table\": {\"Topic\": [1, 3, 3, 6, 6, 4, 4, 5, 2, 5, 2, 4, 4, 6, 5, 5, 3, 5, 3, 4, 2, 5, 3, 4, 5, 1, 5, 4, 5, 2, 3, 6, 3, 4, 4, 2, 3, 5, 1, 1, 3, 1, 1, 4, 5, 4, 5, 5, 4, 3, 1, 5, 5, 2, 6, 6, 6, 4, 6, 2, 1, 1, 1, 1, 1, 4, 3, 6, 3, 2, 5, 1, 5, 1, 2, 1, 1, 3, 1, 6, 5, 2, 2, 6, 2, 4, 5, 5, 1, 5, 3, 4, 6, 3, 3, 1, 2, 1, 1, 2, 4, 2, 6, 6, 6, 2, 5, 6, 4, 5, 6, 1, 1, 6, 1, 2, 1, 1, 2, 5, 2, 4, 1, 4, 4, 2, 2, 2, 5, 5, 2, 5, 6, 3, 5, 4, 4, 3, 2, 1, 5, 3, 3, 5, 6, 6, 6, 5, 2, 1, 1, 2, 1, 5, 6, 6, 4, 1, 2, 1, 1, 5, 1, 5, 2, 5, 4, 1, 6, 5, 4, 5, 3, 5, 1, 5, 5, 1, 4, 6, 4, 1, 4, 2, 2, 5, 4, 2, 3, 3, 5, 1, 4, 4, 6, 2, 5, 2, 2, 2, 5, 2, 2, 5, 5, 2, 4, 4, 6, 3, 5, 6, 5, 1, 3, 2, 4, 3, 6, 6, 3, 1, 3, 6, 3, 4, 4, 5, 6, 6, 6, 5, 2, 3, 4, 2, 1, 1, 1, 1, 2, 2, 6, 4, 5, 4, 4, 6, 3, 3, 4, 5, 5, 1, 4, 5, 1, 3, 5, 6, 2, 4, 6, 5, 2, 3, 3, 4, 5, 3, 4, 5, 5, 2, 5, 3, 4, 3, 6, 6, 4, 3, 6, 4, 2, 4, 4, 5, 3, 3, 4, 4, 1, 2, 1, 6, 1, 1, 4, 4, 3, 3, 2, 6, 6, 6, 6, 4, 3, 5, 6, 2, 1, 2, 1, 6, 1, 3, 5, 6, 3, 6, 3, 6, 1, 1, 4, 2, 6, 5, 6, 6, 6, 3, 2, 4, 4, 4, 4, 5, 5, 2, 4, 5, 6, 4, 1, 1, 1, 3, 6, 1, 4, 4, 3, 3, 4], \"Freq\": [1.0030597824279808, 1.0752078823488993, 1.0752078823488993, 0.9563511952082857, 1.0360471281423096, 1.055626025204548, 1.055626025204548, 1.0126083865304616, 1.0408427102241808, 0.9146140265436427, 1.051356272953718, 0.9896493986292636, 1.055626025204548, 1.0041687549687, 0.9146140265436427, 0.9146140265436427, 1.0752078823488993, 0.9953152641798465, 1.0752078823488993, 1.055626025204548, 0.9462206456583461, 0.9146140265436427, 1.0752078823488993, 1.055626025204548, 0.9146140265436427, 1.0030597824279808, 0.9146140265436427, 0.9748563111236778, 0.03749447350475684, 1.0053594360119928, 1.0752078823488993, 1.001891728313442, 1.0752078823488993, 0.9596600229132252, 0.9896493986292636, 1.0053594360119928, 0.990323049531881, 1.0060754291980072, 1.0030597824279808, 1.0030597824279808, 1.0752078823488993, 1.0030597824279808, 1.0030597824279808, 0.576916456966775, 0.42334876698281326, 1.055626025204548, 0.9146140265436427, 1.0060754291980072, 1.0556260252045477, 1.0752078823488993, 1.0030597824279808, 0.9799435998681887, 1.016237807270714, 1.0008102982924816, 1.0066854686403006, 0.9563511952082857, 0.9563511952082856, 1.055626025204548, 0.9563511952082857, 0.9462206456583462, 1.0030597824279808, 1.0030597824279808, 1.0030597824279808, 1.0030597824279808, 1.0030597824279808, 1.055626025204548, 0.9924995837066762, 0.9563511952082857, 1.0154741111072938, 0.9856465058941106, 1.06704969763425, 1.0030597824279808, 0.9146140265436429, 0.252774821307512, 0.758324463922536, 1.0030597824279808, 1.0030597824279808, 1.0752078823488993, 1.0030597824279808, 0.9563511952082857, 0.9146140265436427, 0.9826137474144364, 0.5458777959303754, 0.4578329901351536, 0.909126698465009, 0.08690181676503764, 1.0076256224633353, 0.9717774032026203, 0.26807186271052824, 0.7297511818231047, 1.0009048986093412, 0.9980464238297543, 1.0126071478675964, 1.0080073897020931, 1.0752078823488993, 1.0030597824279808, 1.0163110638552608, 1.0030597824279808, 1.0030597824279808, 1.0138078346339425, 1.055626025204548, 0.9935316779412636, 0.9563511952082857, 0.9998217040813894, 0.997931681956472, 0.712236057207474, 0.2998888661926206, 1.0360471281423096, 0.9953045380500023, 1.06704969763425, 1.003002473023324, 1.0030597824279808, 1.0030597824279808, 0.9563511952082857, 0.250543799594525, 0.7516313987835749, 1.0030597824279808, 1.0030597824279808, 1.0004625934986335, 1.028940779861598, 0.9462206456583461, 1.0116416074876915, 1.0030597824279808, 1.0097292415000023, 1.0028447239443203, 1.0408427102241808, 0.9462206456583461, 1.0190068491705266, 0.9146140265436429, 0.9953152641798465, 0.9987884593060321, 0.5619040984338699, 0.43828519677841854, 0.985607225486491, 0.9962759931993252, 0.9500634226840929, 1.055626025204548, 1.0752078823488993, 1.0322407043545596, 1.0030597824279808, 1.06704969763425, 0.998407319323978, 1.0752078823488993, 1.016237807270714, 1.0126071478675964, 1.0126071478675964, 0.9563511952082857, 0.9977607562294285, 1.001880683638249, 1.0030597824279808, 1.0030597824279808, 0.9462206456583461, 1.0030597824279808, 0.9146140265436427, 0.9998217040813894, 1.0161231449088035, 0.9596600229132252, 1.0030597824279808, 1.0408427102241808, 1.0030597824279808, 1.0030597824279808, 1.001720124309704, 1.0030597824279808, 1.028940779861598, 0.9856465058941106, 1.06704969763425, 1.055626025204548, 1.0030597824279808, 1.0246619948660203, 0.9908318620889465, 0.9896493986292636, 0.9146140265436427, 1.0018982540069288, 0.9146140265436427, 1.0030597824279808, 1.0222156767252477, 0.9146140265436429, 1.0030597824279808, 0.9802241662613658, 0.9563511952082857, 1.055626025204548, 1.0030597824279808, 1.0076430240588863, 0.9462206456583461, 0.9445885227741027, 0.04722942613870513, 1.055626025204548, 1.0053594360119928, 1.0752078823488993, 1.0119603598577875, 0.9146140265436427, 1.0030597824279808, 1.055626025204548, 1.0556260252045477, 0.9563511952082857, 0.991278771642077, 0.9908318620889465, 0.9892306750064529, 0.9462206456583463, 0.9462206456583463, 0.9146140265436427, 1.0053594360119928, 0.9462206456583461, 1.016237807270714, 1.0060754291980072, 0.9947447813331332, 1.055626025204548, 0.6015132483237109, 0.397610452281775, 0.9961484792350096, 0.9977607562294285, 0.9563511952082857, 0.9977607562294284, 0.0971111698712697, 0.8740005288414273, 1.0408427102241808, 0.9852509568575779, 1.0752078823488993, 0.9563511952082857, 0.9563511952082857, 1.0752078823488993, 1.0030597824279808, 1.0010556146006995, 1.0066854686403006, 1.0752078823488993, 0.9596600229132252, 1.055626025204548, 1.06704969763425, 0.9563511952082857, 1.0246619948660203, 0.9563511952082857, 0.9146140265436427, 0.1377944312490074, 0.8726980645770468, 1.015025024235142, 0.9892306750064529, 1.0030597824279808, 1.0030597824279808, 1.0030597824279808, 0.41912308600313686, 0.5867723204043915, 1.0093020220355693, 0.9563511952082857, 0.9723728278290408, 0.031366865413840025, 1.055626025204548, 0.898162698406428, 0.074846891533869, 1.0752078823488993, 0.998407319323978, 1.00149135724534, 0.9977607562294285, 1.0060754291980072, 0.18381467876527668, 0.8184129745025415, 1.0036472503664755, 0.14786404819690174, 0.4147406229913098, 0.2794991154941436, 0.15868336879667505, 1.051356272953718, 1.055626025204548, 0.9563511952082857, 0.9908318620889465, 0.9987884593060321, 1.0752078823488993, 1.0080073897020931, 0.9676571897708354, 0.9146140265436429, 1.0752078823488993, 1.055626025204548, 0.9146140265436427, 0.9146140265436429, 0.9462206456583461, 0.9146140265436429, 0.9676870941140093, 1.055626025204548, 1.0752078823488993, 0.9563511952082857, 0.9563511952082857, 1.055626025204548, 0.9997546976226608, 1.0041687549687, 0.9985651589772749, 0.9462206456583462, 1.0556260252045475, 0.9500634226840929, 0.9146140265436427, 0.985607225486491, 1.0752078823488993, 0.9935303766631037, 1.055626025204548, 0.9529104216065407, 0.04730760958330344, 1.0030597824279808, 0.997931681956472, 1.0030597824279808, 1.0030597824279808, 0.9852509568575779, 1.055626025204548, 0.9995651167565144, 0.977461711226272, 0.9462206456583461, 1.0360471281423096, 0.9563511952082857, 0.9563511952082857, 0.9961991616752975, 0.9802241662613658, 1.0035273568589727, 1.028940779861598, 0.9563511952082857, 0.991278771642077, 1.0030597824279808, 0.9987884593060321, 1.0030597824279808, 0.9563511952082857, 1.0030597824279808, 1.0752078823488993, 1.06704969763425, 0.9563511952082857, 0.9924995837066762, 0.9961991616752975, 0.9817115447533428, 1.029916671762769, 1.0030597824279808, 1.0030597824279808, 1.0556260252045477, 0.9462206456583461, 1.0126071478675964, 1.0108891872324473, 0.9563511952082857, 0.9563511952082857, 0.9563511952082857, 1.0752078823488993, 0.9462206456583463, 0.9596600229132252, 1.0556260252045477, 0.996980134915406, 0.39963402599770637, 0.6089661348536478, 0.9146140265436427, 0.9462206456583461, 0.4787047294184068, 0.03339800437802838, 0.48983739754441624, 1.055626025204548, 1.0030597824279808, 1.0030597824279808, 1.0030597824279808, 1.0154741111072938, 0.9563511952082857, 0.9689594534278048, 0.03588738716399277, 1.055626025204548, 0.9676870941140093, 1.0154741111072938, 0.9676571897708354], \"Term\": [\"accesorio\", \"acopiar\", \"activacion\", \"actualizar\", \"acudir\", \"advantage\", \"ag\", \"aguar\", \"ajustar\", \"alarmar\", \"alimentacion\", \"alto\", \"anterior\", \"aparentar\", \"aproximar\", \"arrojar\", \"atencion\", \"atender\", \"autoopw\", \"avanzar\", \"avezar\", \"barrer\", \"bco\", \"bien\", \"bloqueadose\", \"boca\", \"bocaestanque\", \"bodega\", \"bodega\", \"bombo\", \"boto\", \"breackaway\", \"breakawat\", \"breakaway\", \"breakaways\", \"breakway\", \"breckawey\", \"brevedad\", \"calibracion\", \"calibrar\", \"calzar\", \"camara\", \"camaras\", \"cambiar\", \"cambiar\", \"cammbio\", \"canerias\", \"cano\", \"capacidad\", \"cap\\u00edtulo\", \"cebar\", \"cerrar\", \"check\", \"chequea\", \"cliente\", \"codigo\", \"colgante\", \"colocar\", \"comentar\", \"comportamiento\", \"concurrio\", \"coneccion\", \"confinar\", \"contaminar\", \"contar\", \"controlador\", \"conv\", \"converso\", \"coordinar\", \"cortar\", \"danado\", \"dar\", \"deber\", \"dejar\", \"dejar\", \"dentro\", \"derramar\", \"desbloquear\", \"descargar\", \"descartar\", \"descebar\", \"describir\", \"despachar\", \"despachar\", \"detectar\", \"detectar\", \"detector\", \"detencion\", \"diesel\", \"diesel\", \"disp\", \"dispensador\", \"display\", \"displey\", \"doblar\", \"durar\", \"eds\", \"efecto\", \"efectua\", \"electrico\", \"electronicos\", \"elementar\", \"emitir\", \"encargar\", \"encontrandose\", \"encontrar\", \"encontrar\", \"encontro\", \"encore\", \"enex\", \"equipar\", \"equipo\", \"espaciar\", \"esporadicamente\", \"estacion\", \"estacion\", \"estancar\", \"estanque\", \"fallo\", \"fepetro\", \"fijo\", \"filtracion\", \"filtraci\\u00f3n\", \"filtrar\", \"filtro\", \"firmar\", \"flexible\", \"flujo\", \"fondo\", \"fugar\", \"funcional\", \"funcionar\", \"funcionar\", \"fundir\", \"gas\", \"gatillo\", \"gilbarco\", \"giratorio\", \"hacer\", \"hara\", \"hora\", \"hose\", \"hp\", \"incidencia\", \"informacion\", \"informar\", \"infrarrojo\", \"instalacion\", \"instalar\", \"interior\", \"internet\", \"interno\", \"isla\", \"jacket\", \"kerosene\", \"kerosenne\", \"kit\", \"lado\", \"lento\", \"limpiar\", \"limpieza\", \"linear\", \"litro\", \"llamar\", \"llegar\", \"lluvia\", \"logica\", \"lt\", \"lts\", \"mal\", \"malo\", \"mananas\", \"manguera\", \"manguers\", \"mantencion\", \"mantener\", \"mantenimiento\", \"maquinar\", \"master\", \"matcelo\", \"mateeial\", \"matraz\", \"medidor\", \"medir\", \"momento\", \"momento\", \"mometno\", \"monitorean\", \"mostrar\", \"motor\", \"movimiento\", \"mp\", \"mts\", \"na\", \"nodo\", \"normal\", \"normalizacion\", \"normalmente\", \"nuevo\", \"observacion\", \"observandose\", \"octuple\", \"ocurrir\", \"ods\", \"operacion\", \"operar\", \"operativau\", \"operativo\", \"operativo\", \"opw\", \"oring\", \"ortr\", \"ot\", \"palanca\", \"palanca\", \"partir\", \"pendiente\", \"perdido\", \"perimetral\", \"personal\", \"piastola\", \"pintar\", \"pistola\", \"placa\", \"plca\", \"portapistola\", \"portar\", \"posible\", \"ppu\", \"precio\", \"predeterminador\", \"presentandose\", \"presentar\", \"presentar\", \"preset\", \"presion\", \"prevencionista\", \"preventivo\", \"prheba\", \"probar\", \"probar\", \"problema\", \"proceder\", \"producto\", \"producto\", \"programar\", \"proporcional\", \"proporcional\", \"protector\", \"proxima\", \"prueba\", \"psi\", \"quebrar\", \"quedar\", \"quedar\", \"quedo\", \"realizar\", \"realizar\", \"realizar\", \"realizar\", \"reapriete\", \"rearmar\", \"recirculaci\\u00f3n\", \"recirculan\", \"recirculando\", \"reclamar\", \"reco\", \"reconecta\", \"reconectable\", \"reconectado\", \"reconecto\", \"red\", \"reemplazar\", \"regular\", \"reinicio\", \"reinstalacion\", \"reintala\", \"reintalan\", \"rejistro\", \"rele\", \"remarcar\", \"remplazar\", \"reparacion\", \"reponer\", \"reposar\", \"reprograma\", \"reprogramacion\", \"reprograman\", \"repuesto\", \"requerir\", \"reset\", \"resorte\", \"revisar\", \"revisar\", \"revision\", \"revison\", \"revoluci\\u00f3n\", \"riesgo\", \"rotar\", \"roturar\", \"rv\", \"rvopw\", \"rwcirculando\", \"sacar\", \"segmento\", \"seguir\", \"segun\", \"sellar\", \"servicentro\", \"servicio\", \"silicita\", \"sistema\", \"slas\", \"solicitar\", \"solisita\", \"soltar\", \"spill\", \"sr\", \"stpmldg\", \"suelto\", \"surt\", \"surtidor\", \"swivel\", \"tablero\", \"tambor\", \"tapar\", \"tarjeta\", \"tenia\", \"terminal\", \"tk\", \"tls\", \"totalizador\", \"trabajar\", \"trifasico\", \"turbinar\", \"union\", \"uni\\u00f3n\", \"utilizar\", \"valvula\", \"valvula\", \"valvulas\", \"vender\", \"venta\", \"venta\", \"venta\", \"ver\", \"verificacion\", \"verificar\", \"vertical\", \"visitar\", \"volumen\", \"volumetrica\", \"volumetrica\", \"wayne\", \"whipe\", \"wipe\", \"wipehose\"]}, \"R\": 30, \"lambda.step\": 0.01, \"plot.opts\": {\"xlab\": \"PC1\", \"ylab\": \"PC2\"}, \"topic.order\": [3, 2, 6, 4, 5, 1]};\n",
       "\n",
       "function LDAvis_load_lib(url, callback){\n",
       "  var s = document.createElement('script');\n",
       "  s.src = url;\n",
       "  s.async = true;\n",
       "  s.onreadystatechange = s.onload = callback;\n",
       "  s.onerror = function(){console.warn(\"failed to load library \" + url);};\n",
       "  document.getElementsByTagName(\"head\")[0].appendChild(s);\n",
       "}\n",
       "\n",
       "if(typeof(LDAvis) !== \"undefined\"){\n",
       "   // already loaded: just create the visualization\n",
       "   !function(LDAvis){\n",
       "       new LDAvis(\"#\" + \"ldavis_el60801814884156232436784487\", ldavis_el60801814884156232436784487_data);\n",
       "   }(LDAvis);\n",
       "}else if(typeof define === \"function\" && define.amd){\n",
       "   // require.js is available: use it to load d3/LDAvis\n",
       "   require.config({paths: {d3: \"https://cdnjs.cloudflare.com/ajax/libs/d3/3.5.5/d3.min\"}});\n",
       "   require([\"d3\"], function(d3){\n",
       "      window.d3 = d3;\n",
       "      LDAvis_load_lib(\"https://cdn.rawgit.com/bmabey/pyLDAvis/files/ldavis.v1.0.0.js\", function(){\n",
       "        new LDAvis(\"#\" + \"ldavis_el60801814884156232436784487\", ldavis_el60801814884156232436784487_data);\n",
       "      });\n",
       "    });\n",
       "}else{\n",
       "    // require.js not available: dynamically load d3 & LDAvis\n",
       "    LDAvis_load_lib(\"https://cdnjs.cloudflare.com/ajax/libs/d3/3.5.5/d3.min.js\", function(){\n",
       "         LDAvis_load_lib(\"https://cdn.rawgit.com/bmabey/pyLDAvis/files/ldavis.v1.0.0.js\", function(){\n",
       "                 new LDAvis(\"#\" + \"ldavis_el60801814884156232436784487\", ldavis_el60801814884156232436784487_data);\n",
       "            })\n",
       "         });\n",
       "}\n",
       "</script>"
      ],
      "text/plain": [
       "PreparedData(topic_coordinates=              x         y  topics  cluster       Freq\n",
       "topic                                                \n",
       "2     -0.102830  0.145551       1        1  18.442535\n",
       "1     -0.417488 -0.048149       2        1  16.891871\n",
       "5      0.109496  0.312393       3        1  16.887292\n",
       "3      0.088243 -0.332505       4        1  16.543518\n",
       "4      0.177158  0.039087       5        1  16.513545\n",
       "0      0.145422 -0.116377       6        1  14.721239, topic_info=          Term        Freq       Total Category  logprob  loglift\n",
       "44        disp  228.000000  228.000000  Default  30.0000  30.0000\n",
       "25   operativo  294.000000  294.000000  Default  29.0000  29.0000\n",
       "64          rv  185.000000  185.000000  Default  28.0000  28.0000\n",
       "28      quedar  228.000000  228.000000  Default  27.0000  27.0000\n",
       "9        fallo  165.000000  165.000000  Default  26.0000  26.0000\n",
       "..         ...         ...         ...      ...      ...      ...\n",
       "25   operativo  117.111790  294.257858   Topic6  -2.4967   0.9946\n",
       "39       venta   43.916921   89.825726   Topic6  -3.4776   1.2003\n",
       "124  funcionar   38.688716   88.983156   Topic6  -3.6043   1.0830\n",
       "78   despachar   26.141024   56.789267   Topic6  -3.9964   1.1400\n",
       "36    realizar   87.833842  554.563472   Topic6  -2.7844   0.0731\n",
       "\n",
       "[375 rows x 6 columns], token_table=      Topic      Freq         Term\n",
       "term                              \n",
       "115       1  1.003060    accesorio\n",
       "895       3  1.075208      acopiar\n",
       "582       3  1.075208   activacion\n",
       "291       6  0.956351   actualizar\n",
       "485       6  1.036047       acudir\n",
       "...     ...       ...          ...\n",
       "201       4  0.035887  volumetrica\n",
       "600       4  1.055626        wayne\n",
       "290       3  0.967687        whipe\n",
       "319       3  1.015474         wipe\n",
       "176       4  0.967657     wipehose\n",
       "\n",
       "[357 rows x 3 columns], R=30, lambda_step=0.01, plot_opts={'xlab': 'PC1', 'ylab': 'PC2'}, topic_order=[3, 2, 6, 4, 5, 1])"
      ]
     },
     "execution_count": 67,
     "metadata": {},
     "output_type": "execute_result"
    }
   ],
   "source": [
    "# Visualize the topics\n",
    "pyLDAvis.enable_notebook()\n",
    "vis = pyLDAvis.gensim.prepare(LDA_mallet_model, corpus, id2word)\n",
    "vis"
   ]
  },
  {
   "cell_type": "code",
   "execution_count": null,
   "metadata": {},
   "outputs": [],
   "source": []
  }
 ],
 "metadata": {
  "kernelspec": {
   "display_name": "Python 3",
   "language": "python",
   "name": "python3"
  },
  "language_info": {
   "codemirror_mode": {
    "name": "ipython",
    "version": 3
   },
   "file_extension": ".py",
   "mimetype": "text/x-python",
   "name": "python",
   "nbconvert_exporter": "python",
   "pygments_lexer": "ipython3",
   "version": "3.7.6"
  }
 },
 "nbformat": 4,
 "nbformat_minor": 4
}
