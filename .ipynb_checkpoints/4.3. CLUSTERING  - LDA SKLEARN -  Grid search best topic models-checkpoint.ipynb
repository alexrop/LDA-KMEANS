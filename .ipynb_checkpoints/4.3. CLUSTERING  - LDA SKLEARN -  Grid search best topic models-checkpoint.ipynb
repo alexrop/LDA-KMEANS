{
 "cells": [
  {
   "cell_type": "markdown",
   "metadata": {},
   "source": [
    "# CUARTO NOTEBOOK - LDA COMO MÉTODO DE CLUSTERING"
   ]
  },
  {
   "cell_type": "markdown",
   "metadata": {},
   "source": [
    "# LDA in Python - How to grid search best topic models - OGC DATABASE"
   ]
  },
  {
   "cell_type": "markdown",
   "metadata": {},
   "source": [
    "### 1. Importar Paquetes"
   ]
  },
  {
   "cell_type": "code",
   "execution_count": 1,
   "metadata": {},
   "outputs": [],
   "source": [
    "import re\n",
    "import numpy as np\n",
    "import pandas as pd\n",
    "from pprint import pprint\n",
    "\n",
    "# Gensim\n",
    "import gensim\n",
    "import gensim.corpora as corpora\n",
    "from gensim.utils import simple_preprocess\n",
    "from gensim.models import CoherenceModel\n",
    "\n",
    "# Spacy for lemmatization\n",
    "import spacy\n",
    "\n",
    "# Plotting tools\n",
    "import pyLDAvis\n",
    "import pyLDAvis.gensim  # don't skip this\n",
    "import matplotlib.pyplot as plt\n",
    "%matplotlib inline\n",
    "\n",
    "# Sklearn\n",
    "from sklearn.decomposition import LatentDirichletAllocation, TruncatedSVD\n",
    "from sklearn.feature_extraction.text import CountVectorizer, TfidfVectorizer\n",
    "from sklearn.model_selection import GridSearchCV\n",
    "from pprint import pprint\n",
    "\n",
    "import warnings\n",
    "warnings.filterwarnings(\"ignore\",category=DeprecationWarning)"
   ]
  },
  {
   "cell_type": "code",
   "execution_count": 3,
   "metadata": {},
   "outputs": [],
   "source": [
    "# Stop Words\n",
    "with open('spanish2.0.txt','r') as f:\n",
    "    stop_words = f.read().splitlines()"
   ]
  },
  {
   "cell_type": "markdown",
   "metadata": {},
   "source": [
    "### 2. Importar Data Base"
   ]
  },
  {
   "cell_type": "code",
   "execution_count": 5,
   "metadata": {},
   "outputs": [
    {
     "data": {
      "text/html": [
       "<div>\n",
       "<style scoped>\n",
       "    .dataframe tbody tr th:only-of-type {\n",
       "        vertical-align: middle;\n",
       "    }\n",
       "\n",
       "    .dataframe tbody tr th {\n",
       "        vertical-align: top;\n",
       "    }\n",
       "\n",
       "    .dataframe thead th {\n",
       "        text-align: right;\n",
       "    }\n",
       "</style>\n",
       "<table border=\"1\" class=\"dataframe\">\n",
       "  <thead>\n",
       "    <tr style=\"text-align: right;\">\n",
       "      <th></th>\n",
       "      <th>Observación</th>\n",
       "      <th>Requerimiento</th>\n",
       "    </tr>\n",
       "  </thead>\n",
       "  <tbody>\n",
       "    <tr>\n",
       "      <th>OPERACIONES Y SERVICIOS TERPEL LTDA.</th>\n",
       "      <td>[se chequea falla y se detecta ortirak que cua...</td>\n",
       "      <td>[area de atencion surtidor 1 y 2 boton de sele...</td>\n",
       "    </tr>\n",
       "    <tr>\n",
       "      <th>OPERACIONES Y SERVICIO TERPEL LTDA.</th>\n",
       "      <td>[se solicita tapa spil p15200 para estanque pr...</td>\n",
       "      <td>[area de atencion tapa spill de estanque diese...</td>\n",
       "    </tr>\n",
       "    <tr>\n",
       "      <th>Inversiones Enex</th>\n",
       "      <td>[se rechaza orden por no corresponder a contra...</td>\n",
       "      <td>[area de atencion se solicita reparacion de br...</td>\n",
       "    </tr>\n",
       "    <tr>\n",
       "      <th>SOCIEDAD DE COMBUSTIBLES AUSTRAL LTDA.</th>\n",
       "      <td>[visita se cierra bajo ot 7 visita se cierra b...</td>\n",
       "      <td>[area de atencion sin venta gas 95 y 97 en tod...</td>\n",
       "    </tr>\n",
       "    <tr>\n",
       "      <th>CL - Buses Vule S.A.</th>\n",
       "      <td>[en surtidor numero 1 se detecto se cambio 01 ...</td>\n",
       "      <td>[area de atencion breakaway esta suelto y filt...</td>\n",
       "    </tr>\n",
       "  </tbody>\n",
       "</table>\n",
       "</div>"
      ],
      "text/plain": [
       "                                                                              Observación  \\\n",
       "OPERACIONES Y SERVICIOS TERPEL LTDA.    [se chequea falla y se detecta ortirak que cua...   \n",
       "OPERACIONES Y SERVICIO TERPEL LTDA.     [se solicita tapa spil p15200 para estanque pr...   \n",
       "Inversiones Enex                        [se rechaza orden por no corresponder a contra...   \n",
       "SOCIEDAD DE COMBUSTIBLES AUSTRAL LTDA.  [visita se cierra bajo ot 7 visita se cierra b...   \n",
       "CL - Buses Vule S.A.                    [en surtidor numero 1 se detecto se cambio 01 ...   \n",
       "\n",
       "                                                                            Requerimiento  \n",
       "OPERACIONES Y SERVICIOS TERPEL LTDA.    [area de atencion surtidor 1 y 2 boton de sele...  \n",
       "OPERACIONES Y SERVICIO TERPEL LTDA.     [area de atencion tapa spill de estanque diese...  \n",
       "Inversiones Enex                        [area de atencion se solicita reparacion de br...  \n",
       "SOCIEDAD DE COMBUSTIBLES AUSTRAL LTDA.  [area de atencion sin venta gas 95 y 97 en tod...  \n",
       "CL - Buses Vule S.A.                    [area de atencion breakaway esta suelto y filt...  "
      ]
     },
     "execution_count": 5,
     "metadata": {},
     "output_type": "execute_result"
    }
   ],
   "source": [
    "# ESTACIONES\n",
    "df_estacion_sentences = pd.read_pickle('df_estacion_sentences.pkl')\n",
    "df_estacion_sentences.head()"
   ]
  },
  {
   "cell_type": "markdown",
   "metadata": {},
   "source": [
    "Viendo que analizar la totalidad de la BD será un proceso muy largo, se hará una prueba solo con un DATA FRAME en particular a modo de prototipo del modelo LDA.\n",
    "\n",
    "En relación con el tipo de DF a utilizar, se considerará el que está en formato de sentences ([sent1,sent2,..,sentn]) en lugar del que contiene todas las palabras en formato string ('sent1 sent2 ... sentn'). \n",
    "\n",
    "1. 'Carrete RetractilOTROOTRO' en df_falla_sentences ---> 9.324 sentences\n",
    "2. 'Carrete RetractilOTROOTRO' en df_falla   ----------->  3.496.506 palabras"
   ]
  },
  {
   "cell_type": "markdown",
   "metadata": {},
   "source": [
    "#### Se elige una estación en particular "
   ]
  },
  {
   "cell_type": "code",
   "execution_count": 6,
   "metadata": {},
   "outputs": [
    {
     "data": {
      "text/plain": [
       "['se chequea falla y se detecta ortirak que cuando le da el sol directo se borra por completo esto no permite el corrrecto uso del mismo se informa y solicita reparacion a empresa encargada se chequea falla y se detecta ortirak que cuando le da el sol directo se borra por completo esto no permite el corrrecto uso del mismo se informa y solicita reparacion a empresa encargada se niega firma por no estar reparado don marcelo olate',\n",
       " 'en dispensador numero 7 producto 93 se detecto union manguera pistola suelta y con filtracion se reapreta union manguera pistola quedando operativa en dispensador numero 7 producto 93 se detecto union manguera pistola suelta y con filtracion se reapreta union manguera pistola quedando operativa']"
      ]
     },
     "execution_count": 6,
     "metadata": {},
     "output_type": "execute_result"
    }
   ],
   "source": [
    "# Operaciones y Servicios Terpel LTDA \n",
    "data = df_estacion_sentences['Observación']['OPERACIONES Y SERVICIOS TERPEL LTDA.']\n",
    "data[:2]"
   ]
  },
  {
   "cell_type": "code",
   "execution_count": 7,
   "metadata": {},
   "outputs": [
    {
     "data": {
      "text/plain": [
       "416"
      ]
     },
     "execution_count": 7,
     "metadata": {},
     "output_type": "execute_result"
    }
   ],
   "source": [
    "len(data)"
   ]
  },
  {
   "cell_type": "markdown",
   "metadata": {},
   "source": [
    "### 3. Tokenize Words"
   ]
  },
  {
   "cell_type": "code",
   "execution_count": 8,
   "metadata": {},
   "outputs": [
    {
     "name": "stdout",
     "output_type": "stream",
     "text": [
      "[['se', 'chequea', 'falla', 'se', 'detecta', 'ortirak', 'que', 'cuando', 'le', 'da', 'el', 'sol', 'directo', 'se', 'borra', 'por', 'completo', 'esto', 'no', 'permite', 'el', 'corrrecto', 'uso', 'del', 'mismo', 'se', 'informa', 'solicita', 'reparacion', 'empresa', 'encargada', 'se', 'chequea', 'falla', 'se', 'detecta', 'ortirak', 'que', 'cuando', 'le', 'da', 'el', 'sol', 'directo', 'se', 'borra', 'por', 'completo', 'esto', 'no', 'permite', 'el', 'corrrecto', 'uso', 'del', 'mismo', 'se', 'informa', 'solicita', 'reparacion', 'empresa', 'encargada', 'se', 'niega', 'firma', 'por', 'no', 'estar', 'reparado', 'don', 'marcelo', 'olate']]\n"
     ]
    }
   ],
   "source": [
    "def sent_to_words(sentences):\n",
    "    for sentence in sentences:\n",
    "        yield(gensim.utils.simple_preprocess(str(sentence), deacc=True))  # deacc=True removes punctuations\n",
    "\n",
    "data_words = list(sent_to_words(data))\n",
    "\n",
    "print(data_words[:1])"
   ]
  },
  {
   "cell_type": "markdown",
   "metadata": {},
   "source": [
    "### 4.  Bigram and Trigram Models"
   ]
  },
  {
   "cell_type": "code",
   "execution_count": 9,
   "metadata": {},
   "outputs": [
    {
     "name": "stdout",
     "output_type": "stream",
     "text": [
      "['se', 'chequea', 'falla', 'se', 'detecta', 'ortirak', 'que', 'cuando', 'le', 'da', 'el', 'sol', 'directo', 'se', 'borra', 'por', 'completo', 'esto', 'no', 'permite', 'el', 'corrrecto', 'uso', 'del', 'mismo', 'se', 'informa', 'solicita', 'reparacion', 'empresa', 'encargada', 'se', 'chequea', 'falla', 'se', 'detecta', 'ortirak', 'que', 'cuando', 'le', 'da', 'el', 'sol', 'directo', 'se', 'borra', 'por', 'completo', 'esto', 'no', 'permite', 'el', 'corrrecto', 'uso', 'del', 'mismo', 'se', 'informa', 'solicita', 'reparacion', 'empresa', 'encargada', 'se', 'niega', 'firma', 'por', 'no', 'estar', 'reparado', 'don', 'marcelo', 'olate']\n"
     ]
    }
   ],
   "source": [
    "# Build the bigram and trigram models\n",
    "bigram = gensim.models.Phrases(data_words, min_count=5, threshold=100) # higher threshold fewer phrases.\n",
    "trigram = gensim.models.Phrases(bigram[data_words], threshold=100)  \n",
    "\n",
    "# Faster way to get a sentence clubbed as a trigram/bigram\n",
    "bigram_mod = gensim.models.phrases.Phraser(bigram)\n",
    "trigram_mod = gensim.models.phrases.Phraser(trigram)\n",
    "\n",
    "# See trigram example\n",
    "print(trigram_mod[bigram_mod[data_words[0]]])"
   ]
  },
  {
   "cell_type": "markdown",
   "metadata": {},
   "source": [
    "### 5. Remover Stopwords, ejecutar Bigrams y Lemmatize"
   ]
  },
  {
   "cell_type": "code",
   "execution_count": 10,
   "metadata": {},
   "outputs": [],
   "source": [
    "# Define functions for stopwords, bigrams, trigrams and lemmatization\n",
    "def remove_stopwords(texts):\n",
    "    return [[word for word in simple_preprocess(str(doc)) if word not in stop_words] for doc in texts]\n",
    "\n",
    "def make_bigrams(texts):\n",
    "    return [bigram_mod[doc] for doc in texts]\n",
    "\n",
    "def make_trigrams(texts):\n",
    "    return [trigram_mod[bigram_mod[doc]] for doc in texts]\n",
    "\n",
    "def lemmatization(texts, allowed_postags=['NOUN', 'ADJ', 'VERB', 'ADV','PROPN']):\n",
    "    texts_out = []\n",
    "    for sent in texts:\n",
    "        doc = nlp(u\" \".join(sent)) \n",
    "        texts_out.append([token.lemma_ for token in doc if token.pos_ in allowed_postags])\n",
    "    return texts_out"
   ]
  },
  {
   "cell_type": "markdown",
   "metadata": {},
   "source": [
    "#### Llamando a las funciones en orden"
   ]
  },
  {
   "cell_type": "code",
   "execution_count": 11,
   "metadata": {},
   "outputs": [
    {
     "name": "stdout",
     "output_type": "stream",
     "text": [
      "[['ortirak', 'sol', 'directo', 'borrar', 'completar', 'permitir', 'corrrecto', 'usar', 'informar', 'reparacion', 'empresa', 'encargar', 'ortirak', 'sol', 'directo', 'borrar', 'completar', 'permitir', 'corrrecto', 'usar', 'informar', 'reparacion', 'empresa', 'encargar', 'negar', 'firmar', 'reparar', 'don', 'marcelo', 'olate']]\n"
     ]
    }
   ],
   "source": [
    "# Remove Stop Words\n",
    "data_words_nostops = remove_stopwords(data_words)\n",
    "\n",
    "# Form Bigrams\n",
    "data_words_bigrams = make_bigrams(data_words_nostops)\n",
    "\n",
    "# Initialize spacy 'es' model, keeping only tagger component (for efficiency)\n",
    "nlp = spacy.load('es_core_news_md', disable=['parser', 'ner'])\n",
    "\n",
    "# Do lemmatization keeping only noun, adj, vb, adv\n",
    "data_lemmatized = lemmatization(data_words_nostops) # Se eligue solo data_words_nostops ya que no es probable que existan bigramas o trigramas\n",
    "\n",
    "print(data_lemmatized[:1])"
   ]
  },
  {
   "cell_type": "code",
   "execution_count": 12,
   "metadata": {},
   "outputs": [
    {
     "name": "stdout",
     "output_type": "stream",
     "text": [
      "['se chequea falla detectando surtidores lentos y con fuga se realiza reapriete y sellado de todos los diesel se realiza cambio de filtros y se prueba queda operativo en un 100 se chequea falla detectando surtidores lentos y con fuga se realiza reapriete y sellado de todos los diesel se realiza cambio de filtros y se prueba queda operativo en un 100']\n"
     ]
    }
   ],
   "source": [
    "print(data[4:5])"
   ]
  },
  {
   "cell_type": "code",
   "execution_count": 13,
   "metadata": {},
   "outputs": [
    {
     "name": "stdout",
     "output_type": "stream",
     "text": [
      "[['se', 'chequea', 'falla', 'detectando', 'surtidores', 'lentos', 'con', 'fuga', 'se', 'realiza', 'reapriete', 'sellado', 'de', 'todos', 'los', 'diesel', 'se', 'realiza', 'cambio', 'de', 'filtros', 'se', 'prueba', 'queda', 'operativo', 'en', 'un', 'se', 'chequea', 'falla', 'detectando', 'surtidores', 'lentos', 'con', 'fuga', 'se', 'realiza', 'reapriete', 'sellado', 'de', 'todos', 'los', 'diesel', 'se', 'realiza', 'cambio', 'de', 'filtros', 'se', 'prueba', 'queda', 'operativo', 'en', 'un']]\n"
     ]
    }
   ],
   "source": [
    "print(data_words[4:5])"
   ]
  },
  {
   "cell_type": "code",
   "execution_count": 14,
   "metadata": {},
   "outputs": [
    {
     "name": "stdout",
     "output_type": "stream",
     "text": [
      "[['surtidores', 'lentos', 'fuga', 'reapriete', 'sellado', 'diesel', 'filtros', 'surtidores', 'lentos', 'fuga', 'reapriete', 'sellado', 'diesel', 'filtros']]\n"
     ]
    }
   ],
   "source": [
    "print(data_words_nostops[4:5])"
   ]
  },
  {
   "cell_type": "code",
   "execution_count": 15,
   "metadata": {},
   "outputs": [
    {
     "name": "stdout",
     "output_type": "stream",
     "text": [
      "[['surtidor', 'lento', 'fugar', 'reapriete', 'sellar', 'diesel', 'filtro', 'surtidor', 'lento', 'fugar', 'reapriete', 'sellar', 'diesel', 'filtro']]\n"
     ]
    }
   ],
   "source": [
    "print(data_lemmatized[4:5])"
   ]
  },
  {
   "cell_type": "markdown",
   "metadata": {},
   "source": [
    "### 6. Creando un Diccionario y Corpus para Topic Modeling"
   ]
  },
  {
   "cell_type": "code",
   "execution_count": 16,
   "metadata": {},
   "outputs": [
    {
     "name": "stdout",
     "output_type": "stream",
     "text": [
      "[[(0, 2), (1, 2), (2, 2), (3, 2), (4, 1), (5, 2), (6, 2), (7, 1), (8, 2), (9, 1), (10, 1), (11, 1), (12, 2), (13, 2), (14, 2), (15, 1), (16, 2), (17, 2)]]\n"
     ]
    }
   ],
   "source": [
    "# Create Dictionary\n",
    "id2word = corpora.Dictionary(data_lemmatized) # SOLO CON STOPWORDS\n",
    "\n",
    "# Create Corpus\n",
    "texts = data_lemmatized\n",
    "\n",
    "# Term Document Frequency\n",
    "corpus = [id2word.doc2bow(text) for text in texts]\n",
    "\n",
    "# View\n",
    "print(corpus[:1])  # (word_id, word_frequency)"
   ]
  },
  {
   "cell_type": "code",
   "execution_count": 17,
   "metadata": {},
   "outputs": [
    {
     "data": {
      "text/plain": [
       "[[('borrar', 2),\n",
       "  ('completar', 2),\n",
       "  ('corrrecto', 2),\n",
       "  ('directo', 2),\n",
       "  ('don', 1),\n",
       "  ('empresa', 2),\n",
       "  ('encargar', 2),\n",
       "  ('firmar', 1),\n",
       "  ('informar', 2),\n",
       "  ('marcelo', 1),\n",
       "  ('negar', 1),\n",
       "  ('olate', 1),\n",
       "  ('ortirak', 2),\n",
       "  ('permitir', 2),\n",
       "  ('reparacion', 2),\n",
       "  ('reparar', 1),\n",
       "  ('sol', 2),\n",
       "  ('usar', 2)]]"
      ]
     },
     "execution_count": 17,
     "metadata": {},
     "output_type": "execute_result"
    }
   ],
   "source": [
    "# Human readable format of corpus (term-frequency)\n",
    "[[(id2word[id], freq) for id, freq in cp] for cp in corpus[:1]]"
   ]
  },
  {
   "cell_type": "markdown",
   "metadata": {},
   "source": [
    "### 7. LDA MODEL"
   ]
  },
  {
   "cell_type": "code",
   "execution_count": 18,
   "metadata": {},
   "outputs": [],
   "source": [
    "# Build LDA model\n",
    "lda_model = gensim.models.ldamodel.LdaModel(corpus=corpus,\n",
    "                                           id2word=id2word,\n",
    "                                           num_topics=20, \n",
    "                                           random_state=100,\n",
    "                                           update_every=1,\n",
    "                                           chunksize=100,\n",
    "                                           passes=10,\n",
    "                                           alpha='auto',\n",
    "                                           per_word_topics=True)"
   ]
  },
  {
   "cell_type": "markdown",
   "metadata": {},
   "source": [
    "### 8. Viendo los tópicos en LDA model"
   ]
  },
  {
   "cell_type": "code",
   "execution_count": 19,
   "metadata": {},
   "outputs": [
    {
     "name": "stdout",
     "output_type": "stream",
     "text": [
      "[(0,\n",
      "  '0.152*\"gas\" + 0.139*\"fugar\" + 0.127*\"detector\" + 0.048*\"check\" + '\n",
      "  '0.043*\"presion\" + 0.035*\"elementar\" + 0.030*\"funcional\" + 0.023*\"bombo\" + '\n",
      "  '0.017*\"diesel\" + 0.014*\"mantener\"'),\n",
      " (1,\n",
      "  '0.179*\"atender\" + 0.170*\"ot\" + 0.163*\"incidencia\" + 0.044*\"eds\" + '\n",
      "  '0.043*\"servicentro\" + 0.040*\"medidor\" + 0.036*\"mal\" + 0.030*\"ods\" + '\n",
      "  '0.028*\"emitir\" + 0.024*\"est\"'),\n",
      " (2,\n",
      "  '0.073*\"revolución\" + 0.033*\"contar\" + 0.033*\"contenedor\" + '\n",
      "  '0.032*\"contaminar\" + 0.032*\"mp\" + 0.028*\"cabezal\" + 0.023*\"diesel\" + '\n",
      "  '0.021*\"dispensador\" + 0.020*\"estancar\" + 0.020*\"condicion\"'),\n",
      " (3,\n",
      "  '0.128*\"encore\" + 0.112*\"filtrar\" + 0.082*\"placa\" + 0.059*\"display\" + '\n",
      "  '0.040*\"remplazar\" + 0.027*\"ppu\" + 0.021*\"bodega\" + 0.020*\"nodo\" + '\n",
      "  '0.020*\"centrifugar\" + 0.018*\"lado\"'),\n",
      " (4,\n",
      "  '0.076*\"accesorio\" + 0.067*\"reponer\" + 0.066*\"tapar\" + 0.060*\"hose\" + '\n",
      "  '0.042*\"revison\" + 0.040*\"normal\" + 0.039*\"sistema\" + 0.036*\"wipe\" + '\n",
      "  '0.027*\"detectandose\" + 0.027*\"quebrar\"'),\n",
      " (5,\n",
      "  '0.103*\"reparar\" + 0.047*\"empresa\" + 0.046*\"borrar\" + 0.029*\"permitir\" + '\n",
      "  '0.018*\"informar\" + 0.015*\"don\" + 0.013*\"reparacion\" + 0.013*\"sol\" + '\n",
      "  '0.013*\"ortirak\" + 0.013*\"directo\"'),\n",
      " (6,\n",
      "  '0.372*\"venta\" + 0.243*\"cliente\" + 0.048*\"informar\" + 0.028*\"reprogramacion\" '\n",
      "  '+ 0.023*\"reset\" + 0.020*\"master\" + 0.018*\"parametros\" + 0.010*\"dispensador\" '\n",
      "  '+ 0.009*\"ocurrir\" + 0.009*\"encontrar\"'),\n",
      " (7,\n",
      "  '0.170*\"reparacion\" + 0.120*\"palanca\" + 0.104*\"fijacion\" + '\n",
      "  '0.098*\"accionamiento\" + 0.034*\"danado\" + 0.026*\"codo\" + '\n",
      "  '0.022*\"recirculacion\" + 0.022*\"reconecta\" + 0.012*\"mda\" + '\n",
      "  '0.012*\"conjuntar\"'),\n",
      " (8,\n",
      "  '0.220*\"valvula\" + 0.043*\"recirculan\" + 0.042*\"boca\" + 0.042*\"union\" + '\n",
      "  '0.035*\"suelto\" + 0.030*\"kerosenne\" + 0.029*\"funcionar\" + 0.022*\"medidor\" + '\n",
      "  '0.021*\"linear\" + 0.021*\"boto\"'),\n",
      " (9,\n",
      "  '0.125*\"producto\" + 0.108*\"dispensador\" + 0.080*\"detectar\" + 0.062*\"rotar\" + '\n",
      "  '0.050*\"preset\" + 0.048*\"filtracion\" + 0.044*\"manguera\" + 0.040*\"diesel\" + '\n",
      "  '0.031*\"whipe\" + 0.029*\"sellar\"'),\n",
      " (10,\n",
      "  '0.146*\"pistola\" + 0.138*\"manguera\" + 0.124*\"dispensador\" + 0.117*\"gas\" + '\n",
      "  '0.108*\"lado\" + 0.093*\"describir\" + 0.018*\"octuple\" + 0.017*\"normalmente\" + '\n",
      "  '0.017*\"monitorean\" + 0.012*\"bodega\"'),\n",
      " (11,\n",
      "  '0.100*\"operar\" + 0.091*\"encargar\" + 0.081*\"calibracion\" + 0.057*\"proxima\" + '\n",
      "  '0.055*\"coordinar\" + 0.045*\"dispensador\" + 0.044*\"chequeo\" + '\n",
      "  '0.043*\"reinstalar\" + 0.024*\"reaprieta\" + 0.015*\"entregar\"'),\n",
      " (12,\n",
      "  '0.281*\"surtidor\" + 0.091*\"breakaways\" + 0.088*\"motor\" + 0.022*\"vaporar\" + '\n",
      "  '0.018*\"cebar\" + 0.016*\"desconectar\" + 0.014*\"reset\" + 0.011*\"detectar\" + '\n",
      "  '0.008*\"orueba\" + 0.008*\"lubricacion\"'),\n",
      " (13,\n",
      "  '0.103*\"aguar\" + 0.051*\"estancar\" + 0.038*\"instalar\" + 0.034*\"breakaway\" + '\n",
      "  '0.033*\"kerosene\" + 0.027*\"cortar\" + 0.027*\"coneccion\" + 0.026*\"diesel\" + '\n",
      "  '0.025*\"camara\" + 0.024*\"retirar\"'),\n",
      " (14,\n",
      "  '0.095*\"problema\" + 0.079*\"dejar\" + 0.040*\"mantener\" + 0.034*\"hora\" + '\n",
      "  '0.029*\"efecto\" + 0.029*\"mas\" + 0.026*\"ver\" + 0.025*\"solicitar\" + '\n",
      "  '0.024*\"isla\" + 0.021*\"bueno\"'),\n",
      " (15,\n",
      "  '0.082*\"fundir\" + 0.065*\"terminal\" + 0.064*\"breakway\" + 0.061*\"cortar\" + '\n",
      "  '0.045*\"precio\" + 0.032*\"volumen\" + 0.031*\"soltar\" + 0.031*\"surtidor\" + '\n",
      "  '0.025*\"registrar\" + 0.023*\"estanque\"'),\n",
      " (16,\n",
      "  '0.165*\"breckawey\" + 0.150*\"revison\" + 0.087*\"filtro\" + 0.077*\"disp\" + '\n",
      "  '0.062*\"reco\" + 0.061*\"alto\" + 0.036*\"reinstalacion\" + 0.018*\"capítulo\" + '\n",
      "  '0.013*\"activo\" + 0.008*\"automatico\"'),\n",
      " (17,\n",
      "  '0.134*\"cerrar\" + 0.047*\"llamar\" + 0.001*\"insidencia\" + 0.001*\"antesedentes\" '\n",
      "  '+ 0.001*\"solisita\" + 0.001*\"administrador\" + 0.001*\"acudir\" + '\n",
      "  '0.001*\"acopiar\" + 0.001*\"extraccion\" + 0.001*\"tk\"'),\n",
      " (18,\n",
      "  '0.389*\"disp\" + 0.222*\"pistola\" + 0.118*\"opw\" + 0.063*\"swivel\" + '\n",
      "  '0.036*\"surt\" + 0.020*\"displey\" + 0.015*\"sacar\" + 0.010*\"totalizador\" + '\n",
      "  '0.005*\"encore\" + 0.005*\"intercambiar\"'),\n",
      " (19,\n",
      "  '0.092*\"mantencion\" + 0.091*\"preventivo\" + 0.075*\"boca\" + 0.071*\"calibrar\" + '\n",
      "  '0.050*\"equipo\" + 0.039*\"lado\" + 0.038*\"descargar\" + 0.035*\"spill\" + '\n",
      "  '0.033*\"operativo\" + 0.028*\"matraz\"')]\n"
     ]
    }
   ],
   "source": [
    "# Print the Keyword in the 10 topics\n",
    "pprint(lda_model.print_topics())\n",
    "doc_lda = lda_model[corpus]"
   ]
  },
  {
   "cell_type": "markdown",
   "metadata": {},
   "source": [
    "### 9. Model Perplexity and Coherence Score"
   ]
  },
  {
   "cell_type": "code",
   "execution_count": 20,
   "metadata": {},
   "outputs": [
    {
     "name": "stdout",
     "output_type": "stream",
     "text": [
      "\n",
      "Perplexity:  -9.173796070361611\n",
      "\n",
      "Coherence Score:  0.4916165183856684\n"
     ]
    }
   ],
   "source": [
    "# Compute Perplexity\n",
    "print('\\nPerplexity: ', lda_model.log_perplexity(corpus))  # a measure of how good the model is. lower the better.\n",
    "\n",
    "# Compute Coherence Score\n",
    "coherence_model_lda = CoherenceModel(model=lda_model, texts=texts, dictionary=id2word, coherence='c_v')\n",
    "coherence_lda = coherence_model_lda.get_coherence()\n",
    "print('\\nCoherence Score: ', coherence_lda)"
   ]
  },
  {
   "cell_type": "markdown",
   "metadata": {},
   "source": [
    "### 10. Visualize the topics-keywords"
   ]
  },
  {
   "cell_type": "code",
   "execution_count": 21,
   "metadata": {},
   "outputs": [
    {
     "data": {
      "text/html": [
       "\n",
       "<link rel=\"stylesheet\" type=\"text/css\" href=\"https://cdn.rawgit.com/bmabey/pyLDAvis/files/ldavis.v1.0.0.css\">\n",
       "\n",
       "\n",
       "<div id=\"ldavis_el1187617315874092245050282935\"></div>\n",
       "<script type=\"text/javascript\">\n",
       "\n",
       "var ldavis_el1187617315874092245050282935_data = {\"mdsDat\": {\"x\": [0.18291191717416913, 0.07307545031589606, 0.21865702418884175, 0.32520202701742207, 0.07155791584121445, 0.12152040188697726, -0.06689557277663093, -0.06919881672621633, -0.0022707251121122803, -0.024605169233445735, -0.04764277189769214, -0.05442226758666227, -0.03634426216273647, -0.11964142629885156, -0.021400853944840804, -0.1137288820510498, -0.10851040742009349, -0.10192449394504075, -0.11655036786842535, -0.1097887194007219], \"y\": [0.27153229103019527, 0.08484242886627097, -0.30636080543726685, -0.047664286314654324, 0.0148974087978591, 0.09705057317621464, 0.03917525220640396, 0.022806529823750796, 0.14751819987891368, -0.016716935816920058, -0.02762156673021225, -0.04816807056628541, 0.023218893588432498, -0.021189569633337325, -0.1506133930338245, -0.021965717116911723, -0.010091266354725499, -0.02839877367953247, -0.01514242174157504, -0.007108770942796647], \"topics\": [1, 2, 3, 4, 5, 6, 7, 8, 9, 10, 11, 12, 13, 14, 15, 16, 17, 18, 19, 20], \"cluster\": [1, 1, 1, 1, 1, 1, 1, 1, 1, 1, 1, 1, 1, 1, 1, 1, 1, 1, 1, 1], \"Freq\": [14.903343200683594, 10.044716835021973, 9.708911895751953, 8.885895729064941, 8.839533805847168, 7.350588798522949, 5.222049236297607, 4.080498695373535, 3.9597325325012207, 3.7728018760681152, 3.465780735015869, 3.3844828605651855, 3.2884538173675537, 3.0205726623535156, 2.7015862464904785, 2.496868133544922, 2.0263757705688477, 1.4401205778121948, 0.997285008430481, 0.4104052186012268]}, \"tinfo\": {\"Term\": [\"disp\", \"pistola\", \"venta\", \"gas\", \"cliente\", \"valvula\", \"manguera\", \"surtidor\", \"dispensador\", \"fugar\", \"opw\", \"detector\", \"lado\", \"producto\", \"revison\", \"mantencion\", \"preventivo\", \"atender\", \"ot\", \"boca\", \"incidencia\", \"describir\", \"accesorio\", \"calibrar\", \"breckawey\", \"encore\", \"aguar\", \"detectar\", \"reponer\", \"tapar\", \"equipo\", \"matraz\", \"mantencion\", \"limpiar\", \"preventivo\", \"probar\", \"calibrar\", \"utilizar\", \"filtraci\\u00f3n\", \"limpieza\", \"malo\", \"repuesto\", \"descargar\", \"gatillo\", \"operativo\", \"limpio\", \"tiempo\", \"boca\", \"maquinar\", \"volumetrica\", \"eliminar\", \"verificacion\", \"procesar\", \"interior\", \"pintar\", \"pintura\", \"adhesivo\", \"mategial\", \"eess\", \"spill\", \"estanque\", \"cambiar\", \"lado\", \"accesorio\", \"tapar\", \"diesel\", \"dispensador\", \"reponer\", \"hose\", \"sistema\", \"wipe\", \"detectandose\", \"pendiente\", \"tablero\", \"flujo\", \"electrico\", \"cano\", \"reprograma\", \"alimentacion\", \"desgastar\", \"medir\", \"enex\", \"quebrar\", \"esperar\", \"normalizar\", \"iluminacion\", \"mts\", \"tapar\", \"tdf\", \"derivar\", \"contactar\", \"accesorio\", \"bloquear\", \"normal\", \"advantage\", \"transformador\", \"soldadura\", \"deteriorar\", \"revison\", \"eds\", \"bodega\", \"master\", \"spill\", \"dispensador\", \"cambiar\", \"reset\", \"opw\", \"swivel\", \"disp\", \"surt\", \"displey\", \"totalizador\", \"sacar\", \"calzar\", \"intercambiar\", \"pistola\", \"protector\", \"mascar\", \"encore\", \"rvopw\", \"conv\", \"recirculaci\\u00f3n\", \"acudir\", \"electronica\", \"activacion\", \"reinicio\", \"apoyar\", \"despejar\", \"pba\", \"bco\", \"auto\", \"breckaway\", \"uma\", \"mo\", \"assy\", \"piastola\", \"trifasico\", \"hp\", \"describir\", \"octuple\", \"monitorean\", \"partir\", \"manguera\", \"efectua\", \"activar\", \"normalmente\", \"reapreta\", \"retornar\", \"uni\\u00f3n\", \"stock\", \"dispenzador\", \"diferencial\", \"dentro\", \"lado\", \"wipehose\", \"tolerancia\", \"nutricion\", \"establecer\", \"gas\", \"dispensador\", \"silicita\", \"movilsolicitado\", \"programacion\", \"caida\", \"desavilitada\", \"identificacion\", \"cto\", \"cheque\", \"pistola\", \"bodega\", \"hacer\", \"recirculando\", \"linear\", \"normal\", \"ajustar\", \"operar\", \"servicio\", \"check\", \"presion\", \"elementar\", \"funcional\", \"detector\", \"fugar\", \"reposar\", \"solucionar\", \"bombo\", \"nuevo\", \"comportamiento\", \"valvulas\", \"jacket\", \"red\", \"fallo\", \"brevedad\", \"ajustar\", \"regular\", \"monitorea\", \"mananas\", \"movimiento\", \"flexible\", \"necesario\", \"canerias\", \"presentandose\", \"tenia\", \"definitivamente\", \"gas\", \"posible\", \"trabajo\", \"mantener\", \"linear\", \"instalar\", \"cabezal\", \"diesel\", \"normal\", \"interior\", \"operar\", \"realizar\", \"recirculando\", \"filtracion\", \"preset\", \"detectar\", \"whipe\", \"sellar\", \"rotar\", \"producto\", \"lento\", \"reapriete\", \"trabajar\", \"reconecta\", \"problsma\", \"doblar\", \"reconecto\", \"realizar\", \"superior\", \"breakawa\", \"esporadicamente\", \"verificar\", \"isla\", \"ys\", \"teeminal\", \"llamar\", \"comentar\", \"dispensador\", \"diesel\", \"posible\", \"brevedad\", \"coordinar\", \"manguera\", \"fugar\", \"operativo\", \"bloquear\", \"linear\", \"kerosene\", \"aguar\", \"breakaway\", \"tarjeta\", \"reconectable\", \"turbinar\", \"tecnica\", \"danada\", \"app\", \"estancar\", \"servicio\", \"tener\", \"reinicia\", \"coneccion\", \"instalar\", \"breakawat\", \"convencional\", \"camara\", \"retirar\", \"poseer\", \"hacer\", \"observacion\", \"manometro\", \"seco\", \"vender\", \"reconectado\", \"forzar\", \"jefatura\", \"potenciar\", \"ralizan\", \"sobreconsumo\", \"funciinamiento\", \"kerosene\", \"cortar\", \"reparar\", \"firmar\", \"tambor\", \"cambiar\", \"diesel\", \"operar\", \"detector\", \"mantener\", \"valvula\", \"recirculan\", \"union\", \"suelto\", \"funcionar\", \"boto\", \"efectuar\", \"deber\", \"fijo\", \"rearmar\", \"llenar\", \"swivels\", \"kerosenne\", \"vertical\", \"revizar\", \"pieboca\", \"pie\", \"orings\", \"norma\", \"descartar\", \"recirculando\", \"medidor\", \"dar\", \"reclamo\", \"linear\", \"cerrar\", \"normalmente\", \"calibracion\", \"boca\", \"realizar\", \"diesel\", \"surtidor\", \"revoluci\\u00f3n\", \"contenedor\", \"contaminar\", \"camaras\", \"condicion\", \"mantenia\", \"demas\", \"compania\", \"derramar\", \"confinar\", \"enconttarse\", \"espaciar\", \"internet\", \"prevencionista\", \"quedar\", \"riesgo\", \"slas\", \"soler\", \"rozar\", \"mp\", \"contar\", \"cabezal\", \"tambor\", \"subsanar\", \"masec\", \"emergencia\", \"concurrio\", \"electrica\", \"isla\", \"retirar\", \"camara\", \"estancar\", \"coneccion\", \"dejar\", \"pintar\", \"diesel\", \"dispensador\", \"descargar\", \"preventivo\", \"mantencion\", \"spill\", \"verificacion\", \"venta\", \"cliente\", \"reprogramacion\", \"informar\", \"parametros\", \"ocurrir\", \"encontrar\", \"sgs\", \"pegar\", \"reset\", \"master\", \"colgante\", \"reseteo\", \"consola\", \"conector\", \"traves\", \"cebamiento\", \"normalidad\", \"solo\", \"portapistolas\", \"reinicio\", \"observar\", \"legar\", \"vez\", \"accionar\", \"comprobante\", \"postyrior\", \"rvison\", \"pulser\", \"desactivacion\", \"dispensador\", \"preset\", \"reconecto\", \"detectar\", \"filtrar\", \"placa\", \"display\", \"remplazar\", \"encore\", \"ppu\", \"nodo\", \"centrifugar\", \"colocar\", \"mantenimiento\", \"gilbarco\", \"tomar\", \"fotografica\", \"plca\", \"mostrar\", \"avezar\", \"durar\", \"mometno\", \"interno\", \"levantar\", \"rellema\", \"limea\", \"requerimiento\", \"bodega\", \"quebrar\", \"normal\", \"proporcional\", \"portapistola\", \"spin\", \"on\", \"lado\", \"displey\", \"atender\", \"ot\", \"incidencia\", \"servicentro\", \"mal\", \"ods\", \"emitir\", \"est\", \"personal\", \"veeder\", \"root\", \"medidor\", \"asistir\", \"eds\", \"reintalan\", \"rejistro\", \"tamboresse\", \"habria\", \"resolver\", \"wayne\", \"vamnio\", \"empaquetadura\", \"comprar\", \"teclado\", \"aliviar\", \"devia\", \"rene\", \"tecnico\", \"ejecutar\", \"febrero\", \"kit\", \"acudir\", \"rvopw\", \"encargar\", \"proxima\", \"chequeo\", \"reinstalar\", \"calibracion\", \"reaprieta\", \"entregar\", \"coordinar\", \"funcionamiento\", \"operar\", \"gun\", \"real\", \"recibio\", \"contacto\", \"teapreta\", \"electricos\", \"despegar\", \"pegamento\", \"adir\", \"bien\", \"recvap\", \"reclamo\", \"desconectar\", \"mp\", \"cortar\", \"acudir\", \"fallany\", \"activacion\", \"formacion\", \"recirculaci\\u00f3n\", \"dispensador\", \"boca\", \"disp\", \"fundir\", \"terminal\", \"breakway\", \"precio\", \"volumen\", \"soltar\", \"registrar\", \"seguir\", \"foto\", \"reclamar\", \"segmento\", \"infrarrojo\", \"actualizar\", \"cargar\", \"codigo\", \"cortar\", \"cammbio\", \"inferior\", \"octuples\", \"remoto\", \"minuto\", \"demorar\", \"converso\", \"firmar\", \"estanque\", \"comentar\", \"kerosenne\", \"superior\", \"surtidor\", \"negro\", \"normal\", \"breckawey\", \"filtro\", \"reco\", \"alto\", \"reinstalacion\", \"cap\\u00edtulo\", \"activo\", \"automatico\", \"revison\", \"frecuencia\", \"variador\", \"expendio\", \"tirarlo\", \"caido\", \"regularizacion\", \"observandose\", \"alarmar\", \"disp\", \"capacidad\", \"rvopw\", \"on\", \"spin\", \"galonage\", \"bajo\", \"piastola\", \"robar\", \"qyuedando\", \"galonaje\", \"visual\", \"quemar\", \"conv\", \"cliente\", \"breakaways\", \"motor\", \"surtidor\", \"vaporar\", \"cebar\", \"orueba\", \"lubricacion\", \"ruido\", \"quwdando\", \"descebar\", \"tiron\", \"desconectar\", \"reset\", \"reconecto\", \"tierra\", \"aterrizar\", \"desconeccion\", \"resetea\", \"trifasico\", \"hp\", \"anclaje\", \"bco\", \"pba\", \"qieda\", \"derecho\", \"sujecion\", \"perno\", \"trancar\", \"autoopw\", \"correar\", \"detectar\", \"conv\", \"wayne\", \"dispensador\", \"encore\", \"problema\", \"hora\", \"efecto\", \"mas\", \"ver\", \"solicitar\", \"dejar\", \"bueno\", \"menor\", \"orden\", \"protura\", \"preisonado\", \"detdctando\", \"conbezzel\", \"corresponder\", \"favor\", \"contratista\", \"roturar\", \"cable\", \"perdido\", \"mantener\", \"duplicar\", \"isla\", \"bombo\", \"recirculaci\\u00f3n\", \"anclaje\", \"perno\", \"asegurar\", \"manilla\", \"resorte\", \"reinicio\", \"mal\", \"caro\", \"gas\", \"palanca\", \"reparacion\", \"fijacion\", \"accionamiento\", \"danado\", \"codo\", \"recirculacion\", \"mda\", \"conjuntar\", \"giratorio\", \"mateeial\", \"desbloquear\", \"prudutos\", \"octubple\", \"reconecta\", \"articular\", \"activacion\", \"portapistola\", \"bisagra\", \"puerta\", \"gabinete\", \"achapa\", \"acceso\", \"apoyar\", \"izq\", \"der\", \"presentar\", \"administrativo\", \"electronica\", \"breackaway\", \"dano\", \"empresa\", \"borrar\", \"permitir\", \"reparar\", \"don\", \"completar\", \"sol\", \"ortirak\", \"directo\", \"corrrecto\", \"usar\", \"negar\", \"olate\", \"marcelo\", \"informar\", \"reparacion\", \"portapistola\", \"administrador\", \"acudir\", \"comprobante\", \"accionar\", \"parar\", \"volver\", \"pedir\", \"botonera\", \"emregencia\", \"ocacionada\", \"macec\", \"normalidad\", \"proporcional\", \"cerrar\", \"llamar\", \"insidencia\", \"antesedentes\", \"solisita\", \"administrador\", \"acudir\", \"acopiar\", \"extraccion\", \"garantia\", \"modelohwlu\", \"respuesta\", \"helix\", \"administrativo\", \"reconeccion\", \"wayne\", \"correspodiente\", \"lentitud\", \"start\", \"col\", \"reposicion\", \"qyuedando\", \"empaquetadura\", \"comprar\", \"pod\", \"sonido\", \"vamnio\", \"error\", \"chequean\", \"consumir\", \"instalacion\", \"portapistola\", \"tk\", \"ot\", \"igem\", \"reprograman\", \"tarjeta\", \"rearmar\", \"uni\\u00f3n\", \"funcionar\", \"reposar\", \"regular\", \"presion\", \"funcional\", \"elementar\"], \"Freq\": [261.0, 225.0, 92.0, 156.0, 61.0, 59.0, 102.0, 56.0, 173.0, 92.0, 76.0, 81.0, 106.0, 68.0, 54.0, 94.0, 93.0, 40.0, 39.0, 86.0, 37.0, 55.0, 74.0, 73.0, 30.0, 33.0, 36.0, 41.0, 45.0, 59.0, 48.588661193847656, 27.235517501831055, 89.13221740722656, 24.103778839111328, 88.62498474121094, 22.345489501953125, 69.18821716308594, 15.432137489318848, 14.666388511657715, 12.532424926757812, 12.431673049926758, 10.80224609375, 36.80968475341797, 9.217344284057617, 31.8715877532959, 7.931521415710449, 7.286017417907715, 72.73522186279297, 6.813806056976318, 20.02460289001465, 5.527564525604248, 17.620683670043945, 4.969345569610596, 23.536518096923828, 14.49327564239502, 3.210878610610962, 3.1242945194244385, 3.1242876052856445, 3.1242847442626953, 34.067535400390625, 8.172896385192871, 14.785114288330078, 38.13043975830078, 23.43439483642578, 14.949631690979004, 12.593859672546387, 16.115589141845703, 43.96528244018555, 39.09077835083008, 25.398460388183594, 23.549449920654297, 17.734272003173828, 17.342348098754883, 16.243146896362305, 16.21215057373047, 15.934934616088867, 11.590770721435547, 10.952177047729492, 10.231760025024414, 8.792116165161133, 8.569236755371094, 7.59007453918457, 17.67702293395996, 5.69110631942749, 4.032576084136963, 4.031246185302734, 4.0311055183410645, 42.9308967590332, 3.3130764961242676, 3.0519983768463135, 3.051626682281494, 50.05097579956055, 6.078239440917969, 26.44778823852539, 1.7623817920684814, 1.7622891664505005, 1.7622891664505005, 5.471989154815674, 27.195743560791016, 10.492130279541016, 10.144024848937988, 6.30030632019043, 10.457304954528809, 15.486478805541992, 7.800007343292236, 4.999939918518066, 74.88070678710938, 39.72602081298828, 246.47308349609375, 22.600618362426758, 12.838139533996582, 6.629054546356201, 9.20173454284668, 3.1188559532165527, 3.1188559532165527, 140.28680419921875, 1.363407850265503, 1.3634073734283447, 3.4786744117736816, 0.07971970736980438, 0.0796884074807167, 0.07947272062301636, 0.07946587353944778, 0.07943063974380493, 0.07941751182079315, 0.07941087335348129, 0.07940720021724701, 0.07940471172332764, 0.07941041141748428, 0.07941041141748428, 0.07940258830785751, 0.07940421253442764, 0.07939863950014114, 0.07939863950014114, 0.07939863950014114, 0.07939206808805466, 0.07939644157886505, 0.07939644157886505, 53.967437744140625, 10.542413711547852, 9.748734474182129, 5.96674108505249, 79.92664337158203, 4.489410877227783, 3.844805955886841, 10.110877990722656, 3.468670606613159, 3.133225202560425, 3.1319050788879395, 2.8439812660217285, 2.677830457687378, 2.6777238845825195, 2.220412015914917, 62.6351203918457, 4.382691383361816, 1.3668274879455566, 1.3668274879455566, 1.3668274879455566, 67.73200988769531, 71.71495056152344, 0.9702538847923279, 0.9702538847923279, 0.9702405333518982, 0.9702371954917908, 0.9702371954917908, 0.9702371954917908, 0.9702371954917908, 0.9702371954917908, 84.28970336914062, 6.717042446136475, 3.473627805709839, 2.295949697494507, 3.1336236000061035, 5.037312030792236, 1.9400620460510254, 3.3468494415283203, 1.4112015962600708, 27.695667266845703, 24.910602569580078, 19.936017990112305, 17.49482536315918, 73.05217742919922, 80.1085205078125, 6.7786383628845215, 6.778337478637695, 13.07298469543457, 5.557861328125, 5.468307971954346, 5.2330098152160645, 3.6822633743286133, 3.6822633743286133, 3.6822433471679688, 7.241908073425293, 5.34996223449707, 1.896191954612732, 1.896180272102356, 1.896180272102356, 1.896180272102356, 1.896180272102356, 1.896180272102356, 1.896180272102356, 1.896180272102356, 1.896180272102356, 1.8961502313613892, 87.73282623291016, 3.5925474166870117, 2.521684408187866, 7.848174095153809, 5.6580352783203125, 5.679283142089844, 4.339406490325928, 9.824825286865234, 7.629660606384277, 5.360257148742676, 5.484183311462402, 2.5974793434143066, 2.296672821044922, 22.857057571411133, 23.906511306762695, 38.53701400756836, 14.702940940856934, 13.94725513458252, 29.510414123535156, 60.044612884521484, 9.88996410369873, 9.212324142456055, 6.377063274383545, 10.168081283569336, 3.6041927337646484, 3.6040937900543213, 4.711736679077148, 9.72279167175293, 3.5040597915649414, 1.5757756233215332, 1.575645923614502, 3.604368209838867, 6.377385139465332, 0.8335509896278381, 0.8334980607032776, 1.5757501125335693, 1.575645923614502, 51.72848129272461, 19.230876922607422, 1.6434026956558228, 2.6747124195098877, 3.7095675468444824, 20.8729305267334, 10.943068504333496, 3.8226866722106934, 1.7742429971694946, 1.773095965385437, 1.6564109325408936, 35.20146560668945, 11.668377876281738, 6.067465782165527, 5.483903408050537, 4.789799690246582, 3.8827390670776367, 3.8827316761016846, 3.738964796066284, 17.43959617614746, 6.792179584503174, 3.296271562576294, 3.2959976196289062, 9.22741413116455, 13.023446083068848, 2.49686861038208, 2.49686861038208, 8.383853912353516, 8.024629592895508, 1.9905837774276733, 6.863509178161621, 4.2323760986328125, 1.6974632740020752, 1.6974632740020752, 1.6974565982818604, 1.6974565982818604, 1.6974315643310547, 1.6974315643310547, 1.6974315643310547, 1.6974319219589233, 1.6974319219589233, 1.6974315643310547, 11.124390602111816, 9.270308494567871, 5.481961727142334, 4.131755828857422, 4.041693210601807, 6.55535364151001, 8.93033504486084, 5.055599689483643, 7.005208969116211, 2.5021846294403076, 58.42257308959961, 11.404315948486328, 11.076090812683105, 9.208635330200195, 7.746147155761719, 5.550134658813477, 4.418491363525391, 4.282346725463867, 3.5514729022979736, 3.5514485836029053, 3.015136480331421, 3.015080213546753, 7.938782215118408, 1.5527011156082153, 1.5527011156082153, 1.5527011156082153, 1.5527011156082153, 1.5527011156082153, 1.5527011156082153, 1.5527011156082153, 4.027246475219727, 5.958567142486572, 1.5410441160202026, 1.5527011156082153, 5.663420677185059, 1.6145901679992676, 2.6277663707733154, 2.9815762042999268, 11.23755931854248, 1.679521083831787, 4.478515625, 3.0477020740509033, 18.840373992919922, 8.490082740783691, 8.275330543518066, 5.091397285461426, 5.091397285461426, 4.6567182540893555, 4.656011581420898, 4.06427526473999, 3.4718661308288574, 3.4718661308288574, 3.4718661308288574, 3.4718661308288574, 3.4718661308288574, 3.4718661308288574, 3.4718661308288574, 3.4718661308288574, 3.4718661308288574, 3.471527338027954, 3.471527338027954, 8.192913055419922, 8.603507995605469, 7.302041053771973, 5.0249924659729, 1.2580291032791138, 1.2580291032791138, 1.2580291032791138, 1.2580291032791138, 1.9983402490615845, 4.623762607574463, 3.8009119033813477, 3.53466534614563, 5.158459663391113, 3.5000882148742676, 3.4718661308288574, 3.47186541557312, 6.001935005187988, 5.293359756469727, 3.9770100116729736, 3.783416986465454, 3.7206711769104004, 3.548025608062744, 3.4720447063446045, 91.59363555908203, 59.875301361083984, 6.788488388061523, 11.801849365234375, 4.444173812866211, 2.2929158210754395, 2.292819023132324, 2.292757034301758, 1.0022978782653809, 5.582769870758057, 4.937533378601074, 0.05864579975605011, 0.05841980129480362, 0.058412909507751465, 0.058412909507751465, 0.058376494795084, 0.058368053287267685, 0.058371491730213165, 0.058372531086206436, 0.05836935341358185, 0.05836805701255798, 0.05835852771997452, 0.05835852771997452, 0.05835852771997452, 0.058358967304229736, 0.058358967304229736, 0.05835273489356041, 0.05835096910595894, 0.05835273489356041, 0.05834978446364403, 2.580075740814209, 0.5536022782325745, 0.0880778431892395, 0.06249817833304405, 25.35276985168457, 18.45047378540039, 13.355598449707031, 8.984147071838379, 28.84487533569336, 6.093979358673096, 4.594252586364746, 4.5343732833862305, 4.0319671630859375, 3.3422632217407227, 3.341886281967163, 3.341845989227295, 3.341845989227295, 1.4610334634780884, 1.4610334634780884, 1.4609816074371338, 1.4609816074371338, 1.4609816074371338, 1.4609206914901733, 0.7726661562919617, 0.7726661562919617, 0.7726661562919617, 0.7724239230155945, 4.782923221588135, 2.4908878803253174, 3.537074327468872, 0.08515457808971405, 0.08513125777244568, 0.0850943997502327, 0.0850943997502327, 4.106293678283691, 0.13167186081409454, 39.48371887207031, 37.6070556640625, 36.03389358520508, 9.426559448242188, 7.957485198974609, 6.556094646453857, 6.084428310394287, 5.315204620361328, 4.192194938659668, 2.211714744567871, 2.211714744567871, 8.910334587097168, 1.1931684017181396, 9.7703218460083, 0.8451793789863586, 0.44789692759513855, 0.447896808385849, 0.04931524023413658, 0.04931524023413658, 0.04931572452187538, 0.04930156469345093, 0.04930081591010094, 0.04930081591010094, 0.04929959401488304, 0.049300163984298706, 0.04929589852690697, 0.04929589852690697, 0.04929589852690697, 0.04929589852690697, 0.04929589852690697, 0.04930464178323746, 0.0492987297475338, 0.04929843172430992, 19.602615356445312, 12.295634269714355, 9.332569122314453, 9.213396072387695, 17.290109634399414, 5.2169694900512695, 3.22369647026062, 11.714322090148926, 2.3165876865386963, 21.365707397460938, 1.4094051122665405, 1.4094051122665405, 1.4094051122665405, 1.4093888998031616, 1.4093888998031616, 1.4093888998031616, 1.40938138961792, 1.40938138961792, 1.40938138961792, 1.4092966318130493, 1.4091520309448242, 1.4094051122665405, 1.40938138961792, 2.3165833950042725, 1.9562206268310547, 0.08209343254566193, 0.08205686509609222, 0.08205925673246384, 0.08204399049282074, 0.08205598592758179, 9.60351276397705, 1.6259799003601074, 0.08404001593589783, 16.205768585205078, 12.784202575683594, 12.618953704833984, 8.766282081604004, 6.2835540771484375, 6.120091915130615, 4.876726150512695, 4.256032466888428, 3.1800920963287354, 3.014042854309082, 2.55940580368042, 2.55940580368042, 2.559403419494629, 2.4775288105010986, 2.16630482673645, 11.944072723388672, 1.3180248737335205, 1.3179512023925781, 1.3179512023925781, 1.3179512023925781, 1.3179383277893066, 1.317937970161438, 1.317937970161438, 3.7775607109069824, 4.560093402862549, 1.3179374933242798, 3.800790786743164, 1.4017772674560547, 6.098776817321777, 0.07680792361497879, 0.0832824856042862, 28.98024559020996, 15.244646072387695, 10.969916343688965, 10.797694206237793, 6.2840681076049805, 3.233292579650879, 2.2901649475097656, 1.472681999206543, 26.48368263244629, 1.1742310523986816, 1.1742310523986816, 1.0011663436889648, 1.0008118152618408, 1.310825228691101, 0.5296850204467773, 0.5296850204467773, 0.5296850204467773, 13.584022521972656, 0.05836552381515503, 0.058369383215904236, 0.05831962823867798, 0.05831962823867798, 0.058311786502599716, 0.05829400569200516, 0.05828686058521271, 0.05828583985567093, 0.058282140642404556, 0.05827987939119339, 0.0582754872739315, 0.0582754872739315, 0.05829741060733795, 0.05827968567609787, 14.862950325012207, 14.351007461547852, 45.72150802612305, 3.6436896324157715, 2.908508777618408, 1.3204096555709839, 1.3204096555709839, 1.3204096555709839, 1.320399284362793, 1.3203829526901245, 1.320366382598877, 2.56398868560791, 2.2946290969848633, 1.140826940536499, 0.07702987641096115, 0.07702987641096115, 0.07693108916282654, 0.07693108916282654, 0.07692219316959381, 0.07692219316959381, 0.07691629230976105, 0.07689449936151505, 0.07689449936151505, 0.07687580585479736, 0.07687580585479736, 0.07687580585479736, 0.07687580585479736, 0.07686708122491837, 0.07686708122491837, 0.07686235010623932, 1.8175640106201172, 0.07689424604177475, 0.07686812430620193, 0.07754043489694595, 0.07717569917440414, 12.525933265686035, 4.440376281738281, 3.873863697052002, 3.8737478256225586, 3.4593443870544434, 3.308746576309204, 10.429834365844727, 2.7439863681793213, 2.3295536041259766, 2.179008722305298, 1.1996424198150635, 1.1996424198150635, 1.1996424198150635, 1.1996424198150635, 1.1996374130249023, 1.1996374130249023, 1.1996374130249023, 1.199634313583374, 2.329542636871338, 1.199634313583374, 5.304498195648193, 0.6346502900123596, 3.1899313926696777, 1.7372236251831055, 0.06992457807064056, 0.06985151767730713, 0.06984536349773407, 0.06983347237110138, 0.06983347237110138, 0.06983347237110138, 0.06983507424592972, 0.09066925197839737, 0.06983380019664764, 0.07186716794967651, 11.280106544494629, 15.946834564208984, 9.7277250289917, 9.23764705657959, 3.1485583782196045, 2.398388624191284, 2.0822794437408447, 1.1619274616241455, 1.1619274616241455, 0.6709243059158325, 0.6709243059158325, 0.3549495041370392, 0.35487911105155945, 0.35487911105155945, 2.0256526470184326, 0.03910350054502487, 0.03909177705645561, 0.039090391248464584, 0.0390724316239357, 0.0390724316239357, 0.03906284645199776, 0.03906284645199776, 0.03906284645199776, 0.03906033933162689, 0.039058662950992584, 0.039058662950992584, 0.039058662950992584, 0.039058275520801544, 0.03906284645199776, 0.03906523063778877, 0.039058662950992584, 3.068873167037964, 2.96362566947937, 1.8962775468826294, 6.701980113983154, 0.9718006253242493, 0.8291013836860657, 0.8291013836860657, 0.8291013836860657, 0.8291013836860657, 0.8291013836860657, 0.8291012644767761, 0.43864619731903076, 0.43864619731903076, 0.43864619731903076, 1.1851012706756592, 0.8291230201721191, 0.048323094844818115, 0.048291049897670746, 0.048291049897670746, 0.04828083887696266, 0.04828083887696266, 0.04826303571462631, 0.04826303571462631, 0.04826303571462631, 0.04826303571462631, 0.04826303571462631, 0.04826303571462631, 0.04826303571462631, 0.04826303571462631, 0.04827520623803139, 3.572427749633789, 1.2547498941421509, 0.0253384280949831, 0.0253384280949831, 0.0253384280949831, 0.0253384280949831, 0.0253384280949831, 0.02532530389726162, 0.02532530389726162, 0.025323569774627686, 0.025323569774627686, 0.025323569774627686, 0.025323569774627686, 0.025323569774627686, 0.02531985379755497, 0.025323569774627686, 0.02531985379755497, 0.02531985379755497, 0.02531985379755497, 0.02531985379755497, 0.02531985379755497, 0.02531985379755497, 0.02531985379755497, 0.02531985379755497, 0.02531985379755497, 0.02531985379755497, 0.02531985379755497, 0.02531985379755497, 0.02531985379755497, 0.02531985379755497, 0.025323569774627686, 0.025323569774627686, 0.02532530389726162, 0.02531987614929676, 0.02531985379755497, 0.02531985379755497, 0.02531985379755497, 0.02531985379755497, 0.02531985379755497, 0.02531985379755497, 0.02531985379755497, 0.02531985379755497, 0.02531985379755497, 0.02531985379755497, 0.02531985379755497], \"Total\": [261.0, 225.0, 92.0, 156.0, 61.0, 59.0, 102.0, 56.0, 173.0, 92.0, 76.0, 81.0, 106.0, 68.0, 54.0, 94.0, 93.0, 40.0, 39.0, 86.0, 37.0, 55.0, 74.0, 73.0, 30.0, 33.0, 36.0, 41.0, 45.0, 59.0, 49.961509704589844, 28.60714340209961, 94.15130615234375, 25.475404739379883, 93.70681762695312, 23.71711540222168, 73.95849609375, 16.803762435913086, 16.038015365600586, 13.904051780700684, 13.803299903869629, 12.173872947692871, 42.085113525390625, 10.588971138000488, 36.974205017089844, 9.30314826965332, 8.657685279846191, 86.79800415039062, 8.18543529510498, 24.794885635375977, 6.899191379547119, 22.391157150268555, 6.340972423553467, 30.158058166503906, 19.263559341430664, 4.582505226135254, 4.4959211349487305, 4.495914459228516, 4.495911598205566, 49.26872634887695, 14.027918815612793, 30.310758590698242, 106.10199737548828, 74.75447082519531, 59.149593353271484, 65.44767761230469, 173.43063354492188, 45.314239501953125, 41.155487060546875, 26.74700927734375, 24.897998809814453, 19.082820892333984, 18.69089698791504, 17.59169578552246, 17.560699462890625, 17.283485412597656, 12.939321517944336, 12.300727844238281, 11.580310821533203, 10.140666961669922, 9.917787551879883, 8.938626289367676, 21.431440353393555, 7.039657115936279, 5.381126880645752, 5.379796981811523, 5.3796563148498535, 59.149593353271484, 4.661626815795898, 4.400548934936523, 4.400177001953125, 74.75447082519531, 9.109334945678711, 43.75513458251953, 3.1109321117401123, 3.110839366912842, 3.110839366912842, 9.865324020385742, 54.96971130371094, 21.625160217285156, 22.851058959960938, 12.528057098388672, 49.26872634887695, 173.43063354492188, 30.310758590698242, 14.090720176696777, 76.2524642944336, 41.09778594970703, 261.3726501464844, 23.972383499145508, 14.256559371948242, 8.00082015991211, 12.1721830368042, 4.490621566772461, 4.490621566772461, 225.891845703125, 2.735173463821411, 2.735173225402832, 33.61063766479492, 1.4516644477844238, 1.4518803358078003, 1.4514408111572266, 1.4515023231506348, 1.45137357711792, 1.4513285160064697, 1.4512372016906738, 1.4512317180633545, 1.4511990547180176, 1.4513072967529297, 1.4513072967529297, 1.4511680603027344, 1.451204776763916, 1.4511640071868896, 1.4512386322021484, 1.4512386322021484, 1.4511797428131104, 1.4513134956359863, 1.4513413906097412, 55.36207962036133, 11.93705940246582, 11.143380165100098, 7.361385822296143, 102.1025161743164, 5.8840556144714355, 5.239450931549072, 14.042937278747559, 4.863315105438232, 4.527869701385498, 4.528888702392578, 4.238625526428223, 4.072474956512451, 4.072368621826172, 3.6150565147399902, 106.10199737548828, 8.822138786315918, 2.76147198677063, 2.76147198677063, 2.76147198677063, 156.75120544433594, 173.43063354492188, 2.364898443222046, 2.364898443222046, 2.364885091781616, 2.364881753921509, 2.364881753921509, 2.364881753921509, 2.364881753921509, 2.364881753921509, 225.891845703125, 22.851058959960938, 11.633003234863281, 9.813813209533691, 17.330419540405273, 43.75513458251953, 8.581816673278809, 36.35585403442383, 9.499246597290039, 29.03643035888672, 26.251365661621094, 21.27678108215332, 18.835588455200195, 81.29937744140625, 92.45301055908203, 8.119402885437012, 8.119101524353027, 16.08116340637207, 6.898625373840332, 6.809072017669678, 6.5737738609313965, 5.023027420043945, 5.023027420043945, 5.023007392883301, 11.165960311889648, 8.581816673278809, 3.2369558811187744, 3.2369441986083984, 3.2369441986083984, 3.2369441986083984, 3.2369441986083984, 3.2369441986083984, 3.2369441986083984, 3.2369441986083984, 3.2369441986083984, 3.2369141578674316, 156.75120544433594, 6.492602348327637, 4.9011945724487305, 16.8270320892334, 17.330419540405273, 19.944713592529297, 12.909003257751465, 65.44767761230469, 43.75513458251953, 30.158058166503906, 36.35585403442383, 15.158503532409668, 9.813813209533691, 24.216468811035156, 25.762039184570312, 41.64145278930664, 16.062353134155273, 15.306669235229492, 33.34391403198242, 68.27830505371094, 11.249377250671387, 10.571737289428711, 7.736475467681885, 13.514104843139648, 4.963604927062988, 4.96350622177124, 7.164884090423584, 15.158503532409668, 6.188551902770996, 2.935187816619873, 2.935058116912842, 8.008583068847656, 15.407474517822266, 2.1929633617401123, 2.1929104328155518, 4.164592266082764, 4.176299571990967, 173.43063354492188, 65.44767761230469, 6.492602348327637, 11.165960311889648, 16.701282501220703, 102.1025161743164, 92.45301055908203, 36.974205017089844, 9.109334945678711, 17.330419540405273, 21.20477294921875, 36.55379867553711, 13.020710945129395, 7.419798374176025, 6.836236000061035, 6.14213228225708, 5.235071659088135, 5.235064506530762, 5.091297149658203, 23.877180099487305, 9.499246597290039, 4.648603916168213, 4.648330211639404, 14.006627082824707, 19.944713592529297, 3.849201202392578, 3.849201202392578, 13.197644233703613, 13.104666709899902, 3.342916250228882, 11.633003234863281, 7.545438289642334, 3.049795627593994, 3.049795627593994, 3.0497889518737793, 3.0497889518737793, 3.0497641563415527, 3.0497641563415527, 3.0497641563415527, 3.049764633178711, 3.049764394760132, 3.0497641563415527, 21.20477294921875, 24.364219665527344, 13.488029479980469, 10.162812232971191, 10.345810890197754, 30.310758590698242, 65.44767761230469, 36.35585403442383, 81.29937744140625, 16.8270320892334, 59.78333282470703, 12.765074729919434, 12.436849594116211, 10.5693941116333, 9.106905937194824, 6.910892963409424, 5.779249668121338, 5.643105506896973, 4.9122314453125, 4.912206649780273, 4.375894546508789, 4.375838756561279, 13.023634910583496, 2.913459062576294, 2.913459062576294, 2.913459062576294, 2.913459062576294, 2.913459062576294, 2.913459062576294, 2.913459062576294, 9.813813209533691, 16.180376052856445, 4.198321342468262, 4.240848541259766, 17.330419540405273, 6.522456169128418, 14.042937278747559, 21.550426483154297, 86.79800415039062, 15.158503532409668, 65.44767761230469, 56.075218200683594, 20.218280792236328, 9.867986679077148, 9.65323543548584, 6.469301223754883, 6.469301223754883, 6.0346221923828125, 6.033915996551514, 5.442179203033447, 4.8497700691223145, 4.8497700691223145, 4.8497700691223145, 4.8497700691223145, 4.8497700691223145, 4.8497700691223145, 4.8497700691223145, 4.8497700691223145, 4.8497700691223145, 4.84943151473999, 4.84943151473999, 11.80538558959961, 13.705090522766113, 12.909003257751465, 10.345810890197754, 2.6359329223632812, 2.6359329223632812, 2.6359329223632812, 2.6359329223632812, 5.689054012298584, 15.407474517822266, 13.104666709899902, 13.197644233703613, 23.877180099487305, 14.006627082824707, 15.209814071655273, 19.263559341430664, 65.44767761230469, 173.43063354492188, 42.085113525390625, 93.70681762695312, 94.15130615234375, 49.26872634887695, 22.391157150268555, 92.98648071289062, 61.268096923828125, 8.181266784667969, 14.331483840942383, 5.836952209472656, 3.6856937408447266, 3.6855969429016113, 3.685534954071045, 2.395075798034668, 14.090720176696777, 12.528057098388672, 1.4516510963439941, 1.4511992931365967, 1.4512128829956055, 1.4512128829956055, 1.4511635303497314, 1.451145887374878, 1.4512327909469604, 1.4512670040130615, 1.4511950016021729, 1.4512372016906738, 1.4511620998382568, 1.4511620998382568, 1.4512271881103516, 1.4512522220611572, 1.4512522220611572, 1.4511370658874512, 1.451134443283081, 1.4511899948120117, 1.451181411743164, 173.43063354492188, 25.762039184570312, 7.164884090423584, 41.64145278930664, 26.718860626220703, 19.816564559936523, 14.721702575683594, 10.350239753723145, 33.61063766479492, 7.460091590881348, 5.9603447914123535, 5.900465488433838, 5.398059368133545, 4.70835542678833, 4.707978248596191, 4.707938194274902, 4.707938194274902, 2.8271257877349854, 2.8271257877349854, 2.827073812484741, 2.827073812484741, 2.827073812484741, 2.8270130157470703, 2.138758420944214, 2.138758420944214, 2.138758420944214, 2.1385161876678467, 22.851058959960938, 21.431440353393555, 43.75513458251953, 1.4516583681106567, 1.451477289199829, 1.4512476921081543, 1.4512476921081543, 106.10199737548828, 14.256559371948242, 40.88555145263672, 39.008888244628906, 37.435726165771484, 10.828390121459961, 9.380176544189453, 7.9579243659973145, 7.486258029937744, 6.717034816741943, 5.594024658203125, 3.6135447025299072, 3.6135447025299072, 16.180376052856445, 2.594998359680176, 21.625160217285156, 2.247009515762329, 1.849726676940918, 1.8497264385223389, 1.4511494636535645, 1.4512145519256592, 1.451326608657837, 1.4511313438415527, 1.4511303901672363, 1.4511303901672363, 1.4511387348175049, 1.451217770576477, 1.4511337280273438, 1.4511337280273438, 1.4511337280273438, 1.4511337280273438, 1.4511337280273438, 1.4514509439468384, 1.4515023231506348, 1.4516644477844238, 20.971725463867188, 13.6647310256958, 10.701665878295898, 10.58249282836914, 21.550426483154297, 6.586066246032715, 4.592792987823486, 16.701282501220703, 3.6856839656829834, 36.35585403442383, 2.778501510620117, 2.778501510620117, 2.778501510620117, 2.7784852981567383, 2.7784852981567383, 2.7784852981567383, 2.778477907180786, 2.778477907180786, 2.778477907180786, 2.778393030166626, 2.7782485485076904, 4.240848541259766, 5.265631198883057, 11.80538558959961, 24.364219665527344, 1.4515023231506348, 1.4511761665344238, 1.4513285160064697, 1.4511666297912598, 1.4514408111572266, 173.43063354492188, 86.79800415039062, 261.3726501464844, 17.580181121826172, 14.158617973327637, 13.993369102478027, 10.140732765197754, 7.657968997955322, 7.494506359100342, 6.25114107131958, 5.630446910858154, 4.554506778717041, 4.388457298278809, 3.9338204860687256, 3.9338204860687256, 3.933821201324463, 3.8519434928894043, 3.540719509124756, 24.364219665527344, 2.692439556121826, 2.6923656463623047, 2.6923656463623047, 2.6923656463623047, 2.692352771759033, 2.692352771759033, 2.692352533340454, 10.162812232971191, 14.027918815612793, 4.176299571990967, 13.023634910583496, 6.188551902770996, 56.075218200683594, 1.4512698650360107, 43.75513458251953, 30.373090744018555, 16.63751220703125, 12.362764358520508, 12.190542221069336, 7.676915168762207, 4.6261396408081055, 3.6830122470855713, 2.8655292987823486, 54.96971130371094, 2.5670783519744873, 2.5670783519744873, 2.3940136432647705, 2.3936591148376465, 3.818347215652466, 1.9225318431854248, 1.9225318431854248, 1.9225318431854248, 261.3726501464844, 1.451244592666626, 1.4516644477844238, 1.4512476921081543, 1.4512476921081543, 1.4512810707092285, 1.4512165784835815, 1.4511797428131104, 1.4511568546295166, 1.4511289596557617, 1.4511539936065674, 1.4511629343032837, 1.4511629343032837, 1.4518803358078003, 61.268096923828125, 16.237224578857422, 15.7252836227417, 56.075218200683594, 5.017965793609619, 4.282784938812256, 2.694685697555542, 2.694685697555542, 2.694685697555542, 2.6946754455566406, 2.6946592330932617, 2.6946425437927246, 5.265631198883057, 14.090720176696777, 7.164884090423584, 1.451305627822876, 1.451305627822876, 1.451206922531128, 1.451206922531128, 1.4513134956359863, 1.4513413906097412, 1.4513275623321533, 1.4513072967529297, 1.4513072967529297, 1.451219081878662, 1.451219081878662, 1.451219081878662, 1.4512581825256348, 1.451174020767212, 1.451174020767212, 1.4511466026306152, 41.64145278930664, 1.4518803358078003, 1.451326608657837, 173.43063354492188, 33.61063766479492, 13.90723705291748, 5.821679592132568, 5.255167007446289, 5.255051136016846, 4.8406476974487305, 4.69005012512207, 15.209814071655273, 4.1252899169921875, 3.7108566761016846, 3.560311794281006, 2.5809454917907715, 2.5809454917907715, 2.5809454917907715, 2.5809454917907715, 2.5809404850006104, 2.5809404850006104, 2.5809404850006104, 2.580937385559082, 5.309451103210449, 3.4105522632598877, 16.8270320892334, 2.0159530639648438, 15.407474517822266, 16.08116340637207, 1.4514408111572266, 1.4513275623321533, 1.4512581825256348, 1.4511802196502686, 1.4511802196502686, 1.4511802196502686, 1.4512372016906738, 9.380176544189453, 1.4512691497802734, 156.75120544433594, 12.69217586517334, 18.139781951904297, 11.13979434967041, 10.6497163772583, 4.5606279373168945, 3.810457944869995, 3.4943487644195557, 2.5739967823028564, 2.5739967823028564, 2.082993745803833, 2.082993745803833, 1.7670187950134277, 1.7669484615325928, 1.7669484615325928, 13.514104843139648, 1.4512181282043457, 1.4513285160064697, 1.451477289199829, 1.451141595840454, 1.4512107372283936, 1.451162338256836, 1.451162338256836, 1.451162338256836, 1.4512317180633545, 1.451171875, 1.451171875, 1.4511826038360596, 1.4511723518371582, 1.45137357711792, 1.4514625072479248, 1.451223373413086, 4.471739768981934, 4.36649227142334, 3.2991437911987305, 13.488029479980469, 2.374666929244995, 2.2319676876068115, 2.2319676876068115, 2.2319676876068115, 2.2319676876068115, 2.2319676876068115, 3.145737648010254, 1.8415124416351318, 1.8415124416351318, 1.8415124416351318, 14.331483840942383, 18.139781951904297, 1.451477289199829, 1.451429843902588, 1.4515023231506348, 1.4512522220611572, 1.4512522220611572, 1.4511817693710327, 1.4511817693710327, 1.4511817693710327, 1.4511817693710327, 1.4511817693710327, 1.4511817693710327, 1.4512096643447876, 1.4512327909469604, 1.4516583681106567, 6.522456169128418, 4.164592266082764, 1.4511933326721191, 1.4511933326721191, 1.4511933326721191, 1.451429843902588, 1.4515023231506348, 1.4511568546295166, 1.451179027557373, 1.451131820678711, 1.451131820678711, 1.451131820678711, 1.451131820678711, 1.4511723518371582, 1.4511115550994873, 1.451326608657837, 1.4511191844940186, 1.4511222839355469, 1.451124668121338, 1.451124668121338, 1.451124668121338, 1.4511289596557617, 1.4511303901672363, 1.4511303901672363, 1.4511306285858154, 1.4511308670043945, 1.4511313438415527, 1.4511322975158691, 1.4511332511901855, 1.4511332511901855, 1.4514720439910889, 1.451477289199829, 1.4518852233886719, 39.008888244628906, 3.0496625900268555, 3.0496625900268555, 7.419798374176025, 4.912206649780273, 4.528888702392578, 9.106905937194824, 8.119402885437012, 3.2369558811187744, 26.251365661621094, 18.835588455200195, 21.27678108215332], \"Category\": [\"Default\", \"Default\", \"Default\", \"Default\", \"Default\", \"Default\", \"Default\", \"Default\", \"Default\", \"Default\", \"Default\", \"Default\", \"Default\", \"Default\", \"Default\", \"Default\", \"Default\", \"Default\", \"Default\", \"Default\", \"Default\", \"Default\", \"Default\", \"Default\", \"Default\", \"Default\", \"Default\", \"Default\", \"Default\", \"Default\", \"Topic1\", \"Topic1\", \"Topic1\", \"Topic1\", \"Topic1\", \"Topic1\", \"Topic1\", \"Topic1\", \"Topic1\", \"Topic1\", \"Topic1\", \"Topic1\", \"Topic1\", \"Topic1\", \"Topic1\", \"Topic1\", \"Topic1\", \"Topic1\", \"Topic1\", \"Topic1\", \"Topic1\", \"Topic1\", \"Topic1\", \"Topic1\", \"Topic1\", \"Topic1\", \"Topic1\", \"Topic1\", \"Topic1\", \"Topic1\", \"Topic1\", \"Topic1\", \"Topic1\", \"Topic1\", \"Topic1\", \"Topic1\", \"Topic1\", \"Topic2\", \"Topic2\", \"Topic2\", \"Topic2\", \"Topic2\", \"Topic2\", \"Topic2\", \"Topic2\", \"Topic2\", \"Topic2\", \"Topic2\", \"Topic2\", \"Topic2\", \"Topic2\", \"Topic2\", \"Topic2\", \"Topic2\", \"Topic2\", \"Topic2\", \"Topic2\", \"Topic2\", \"Topic2\", \"Topic2\", \"Topic2\", \"Topic2\", \"Topic2\", \"Topic2\", \"Topic2\", \"Topic2\", \"Topic2\", \"Topic2\", \"Topic2\", \"Topic2\", \"Topic2\", \"Topic2\", \"Topic2\", \"Topic2\", \"Topic2\", \"Topic2\", \"Topic3\", \"Topic3\", \"Topic3\", \"Topic3\", \"Topic3\", \"Topic3\", \"Topic3\", \"Topic3\", \"Topic3\", \"Topic3\", \"Topic3\", \"Topic3\", \"Topic3\", \"Topic3\", \"Topic3\", \"Topic3\", \"Topic3\", \"Topic3\", \"Topic3\", \"Topic3\", \"Topic3\", \"Topic3\", \"Topic3\", \"Topic3\", \"Topic3\", \"Topic3\", \"Topic3\", \"Topic3\", \"Topic3\", \"Topic3\", \"Topic3\", \"Topic3\", \"Topic4\", \"Topic4\", \"Topic4\", \"Topic4\", \"Topic4\", \"Topic4\", \"Topic4\", \"Topic4\", \"Topic4\", \"Topic4\", \"Topic4\", \"Topic4\", \"Topic4\", \"Topic4\", \"Topic4\", \"Topic4\", \"Topic4\", \"Topic4\", \"Topic4\", \"Topic4\", \"Topic4\", \"Topic4\", \"Topic4\", \"Topic4\", \"Topic4\", \"Topic4\", \"Topic4\", \"Topic4\", \"Topic4\", \"Topic4\", \"Topic4\", \"Topic4\", \"Topic4\", \"Topic4\", \"Topic4\", \"Topic4\", \"Topic4\", \"Topic4\", \"Topic4\", \"Topic5\", \"Topic5\", \"Topic5\", \"Topic5\", \"Topic5\", \"Topic5\", \"Topic5\", \"Topic5\", \"Topic5\", \"Topic5\", \"Topic5\", \"Topic5\", \"Topic5\", \"Topic5\", \"Topic5\", \"Topic5\", \"Topic5\", \"Topic5\", \"Topic5\", \"Topic5\", \"Topic5\", \"Topic5\", \"Topic5\", \"Topic5\", \"Topic5\", \"Topic5\", \"Topic5\", \"Topic5\", \"Topic5\", \"Topic5\", \"Topic5\", \"Topic5\", \"Topic5\", \"Topic5\", \"Topic5\", \"Topic5\", \"Topic5\", \"Topic5\", \"Topic5\", \"Topic5\", \"Topic6\", \"Topic6\", \"Topic6\", \"Topic6\", \"Topic6\", \"Topic6\", \"Topic6\", \"Topic6\", \"Topic6\", \"Topic6\", \"Topic6\", \"Topic6\", \"Topic6\", \"Topic6\", \"Topic6\", \"Topic6\", \"Topic6\", \"Topic6\", \"Topic6\", \"Topic6\", \"Topic6\", \"Topic6\", \"Topic6\", \"Topic6\", \"Topic6\", \"Topic6\", \"Topic6\", \"Topic6\", \"Topic6\", \"Topic6\", \"Topic6\", \"Topic6\", \"Topic6\", \"Topic6\", \"Topic6\", \"Topic7\", \"Topic7\", \"Topic7\", \"Topic7\", \"Topic7\", \"Topic7\", \"Topic7\", \"Topic7\", \"Topic7\", \"Topic7\", \"Topic7\", \"Topic7\", \"Topic7\", \"Topic7\", \"Topic7\", \"Topic7\", \"Topic7\", \"Topic7\", \"Topic7\", \"Topic7\", \"Topic7\", \"Topic7\", \"Topic7\", \"Topic7\", \"Topic7\", \"Topic7\", \"Topic7\", \"Topic7\", \"Topic7\", \"Topic7\", \"Topic7\", \"Topic7\", \"Topic7\", \"Topic7\", \"Topic7\", \"Topic7\", \"Topic7\", \"Topic7\", \"Topic7\", \"Topic7\", \"Topic7\", \"Topic8\", \"Topic8\", \"Topic8\", \"Topic8\", \"Topic8\", \"Topic8\", \"Topic8\", \"Topic8\", \"Topic8\", \"Topic8\", \"Topic8\", \"Topic8\", \"Topic8\", \"Topic8\", \"Topic8\", \"Topic8\", \"Topic8\", \"Topic8\", \"Topic8\", \"Topic8\", \"Topic8\", \"Topic8\", \"Topic8\", \"Topic8\", \"Topic8\", \"Topic8\", \"Topic8\", \"Topic8\", \"Topic8\", \"Topic8\", \"Topic8\", \"Topic8\", \"Topic9\", \"Topic9\", \"Topic9\", \"Topic9\", \"Topic9\", \"Topic9\", \"Topic9\", \"Topic9\", \"Topic9\", \"Topic9\", \"Topic9\", \"Topic9\", \"Topic9\", \"Topic9\", \"Topic9\", \"Topic9\", \"Topic9\", \"Topic9\", \"Topic9\", \"Topic9\", \"Topic9\", \"Topic9\", \"Topic9\", \"Topic9\", \"Topic9\", \"Topic9\", \"Topic9\", \"Topic9\", \"Topic9\", \"Topic9\", \"Topic9\", \"Topic9\", \"Topic9\", \"Topic9\", \"Topic9\", \"Topic9\", \"Topic9\", \"Topic9\", \"Topic9\", \"Topic9\", \"Topic9\", \"Topic9\", \"Topic10\", \"Topic10\", \"Topic10\", \"Topic10\", \"Topic10\", \"Topic10\", \"Topic10\", \"Topic10\", \"Topic10\", \"Topic10\", \"Topic10\", \"Topic10\", \"Topic10\", \"Topic10\", \"Topic10\", \"Topic10\", \"Topic10\", \"Topic10\", \"Topic10\", \"Topic10\", \"Topic10\", \"Topic10\", \"Topic10\", \"Topic10\", \"Topic10\", \"Topic10\", \"Topic10\", \"Topic10\", \"Topic10\", \"Topic10\", \"Topic10\", \"Topic10\", \"Topic10\", \"Topic10\", \"Topic11\", \"Topic11\", \"Topic11\", \"Topic11\", \"Topic11\", \"Topic11\", \"Topic11\", \"Topic11\", \"Topic11\", \"Topic11\", \"Topic11\", \"Topic11\", \"Topic11\", \"Topic11\", \"Topic11\", \"Topic11\", \"Topic11\", \"Topic11\", \"Topic11\", \"Topic11\", \"Topic11\", \"Topic11\", \"Topic11\", \"Topic11\", \"Topic11\", \"Topic11\", \"Topic11\", \"Topic11\", \"Topic11\", \"Topic11\", \"Topic11\", \"Topic11\", \"Topic12\", \"Topic12\", \"Topic12\", \"Topic12\", \"Topic12\", \"Topic12\", \"Topic12\", \"Topic12\", \"Topic12\", \"Topic12\", \"Topic12\", \"Topic12\", \"Topic12\", \"Topic12\", \"Topic12\", \"Topic12\", \"Topic12\", \"Topic12\", \"Topic12\", \"Topic12\", \"Topic12\", \"Topic12\", \"Topic12\", \"Topic12\", \"Topic12\", \"Topic12\", \"Topic12\", \"Topic12\", \"Topic12\", \"Topic12\", \"Topic12\", \"Topic12\", \"Topic12\", \"Topic13\", \"Topic13\", \"Topic13\", \"Topic13\", \"Topic13\", \"Topic13\", \"Topic13\", \"Topic13\", \"Topic13\", \"Topic13\", \"Topic13\", \"Topic13\", \"Topic13\", \"Topic13\", \"Topic13\", \"Topic13\", \"Topic13\", \"Topic13\", \"Topic13\", \"Topic13\", \"Topic13\", \"Topic13\", \"Topic13\", \"Topic13\", \"Topic13\", \"Topic13\", \"Topic13\", \"Topic13\", \"Topic13\", \"Topic13\", \"Topic13\", \"Topic13\", \"Topic13\", \"Topic14\", \"Topic14\", \"Topic14\", \"Topic14\", \"Topic14\", \"Topic14\", \"Topic14\", \"Topic14\", \"Topic14\", \"Topic14\", \"Topic14\", \"Topic14\", \"Topic14\", \"Topic14\", \"Topic14\", \"Topic14\", \"Topic14\", \"Topic14\", \"Topic14\", \"Topic14\", \"Topic14\", \"Topic14\", \"Topic14\", \"Topic14\", \"Topic14\", \"Topic14\", \"Topic14\", \"Topic14\", \"Topic14\", \"Topic14\", \"Topic14\", \"Topic15\", \"Topic15\", \"Topic15\", \"Topic15\", \"Topic15\", \"Topic15\", \"Topic15\", \"Topic15\", \"Topic15\", \"Topic15\", \"Topic15\", \"Topic15\", \"Topic15\", \"Topic15\", \"Topic15\", \"Topic15\", \"Topic15\", \"Topic15\", \"Topic15\", \"Topic15\", \"Topic15\", \"Topic15\", \"Topic15\", \"Topic15\", \"Topic15\", \"Topic15\", \"Topic15\", \"Topic15\", \"Topic15\", \"Topic15\", \"Topic15\", \"Topic15\", \"Topic16\", \"Topic16\", \"Topic16\", \"Topic16\", \"Topic16\", \"Topic16\", \"Topic16\", \"Topic16\", \"Topic16\", \"Topic16\", \"Topic16\", \"Topic16\", \"Topic16\", \"Topic16\", \"Topic16\", \"Topic16\", \"Topic16\", \"Topic16\", \"Topic16\", \"Topic16\", \"Topic16\", \"Topic16\", \"Topic16\", \"Topic16\", \"Topic16\", \"Topic16\", \"Topic16\", \"Topic16\", \"Topic16\", \"Topic16\", \"Topic16\", \"Topic16\", \"Topic16\", \"Topic16\", \"Topic16\", \"Topic17\", \"Topic17\", \"Topic17\", \"Topic17\", \"Topic17\", \"Topic17\", \"Topic17\", \"Topic17\", \"Topic17\", \"Topic17\", \"Topic17\", \"Topic17\", \"Topic17\", \"Topic17\", \"Topic17\", \"Topic17\", \"Topic17\", \"Topic17\", \"Topic17\", \"Topic17\", \"Topic17\", \"Topic17\", \"Topic17\", \"Topic17\", \"Topic17\", \"Topic17\", \"Topic17\", \"Topic17\", \"Topic17\", \"Topic17\", \"Topic17\", \"Topic17\", \"Topic17\", \"Topic17\", \"Topic18\", \"Topic18\", \"Topic18\", \"Topic18\", \"Topic18\", \"Topic18\", \"Topic18\", \"Topic18\", \"Topic18\", \"Topic18\", \"Topic18\", \"Topic18\", \"Topic18\", \"Topic18\", \"Topic18\", \"Topic18\", \"Topic18\", \"Topic18\", \"Topic18\", \"Topic18\", \"Topic18\", \"Topic18\", \"Topic18\", \"Topic18\", \"Topic18\", \"Topic18\", \"Topic18\", \"Topic18\", \"Topic18\", \"Topic18\", \"Topic18\", \"Topic19\", \"Topic19\", \"Topic19\", \"Topic19\", \"Topic19\", \"Topic19\", \"Topic19\", \"Topic19\", \"Topic19\", \"Topic19\", \"Topic19\", \"Topic19\", \"Topic19\", \"Topic19\", \"Topic19\", \"Topic19\", \"Topic19\", \"Topic19\", \"Topic19\", \"Topic19\", \"Topic19\", \"Topic19\", \"Topic19\", \"Topic19\", \"Topic19\", \"Topic19\", \"Topic19\", \"Topic19\", \"Topic19\", \"Topic19\", \"Topic20\", \"Topic20\", \"Topic20\", \"Topic20\", \"Topic20\", \"Topic20\", \"Topic20\", \"Topic20\", \"Topic20\", \"Topic20\", \"Topic20\", \"Topic20\", \"Topic20\", \"Topic20\", \"Topic20\", \"Topic20\", \"Topic20\", \"Topic20\", \"Topic20\", \"Topic20\", \"Topic20\", \"Topic20\", \"Topic20\", \"Topic20\", \"Topic20\", \"Topic20\", \"Topic20\", \"Topic20\", \"Topic20\", \"Topic20\", \"Topic20\", \"Topic20\", \"Topic20\", \"Topic20\", \"Topic20\", \"Topic20\", \"Topic20\", \"Topic20\", \"Topic20\", \"Topic20\", \"Topic20\", \"Topic20\", \"Topic20\", \"Topic20\", \"Topic20\"], \"logprob\": [30.0, 29.0, 28.0, 27.0, 26.0, 25.0, 24.0, 23.0, 22.0, 21.0, 20.0, 19.0, 18.0, 17.0, 16.0, 15.0, 14.0, 13.0, 12.0, 11.0, 10.0, 9.0, 8.0, 7.0, 6.0, 5.0, 4.0, 3.0, 2.0, 1.0, -2.995500087738037, -3.574399948120117, -2.3887999057769775, -3.696500062942505, -2.3945000171661377, -3.7723000049591064, -2.6421000957489014, -4.142399787902832, -4.193299770355225, -4.350599765777588, -4.35860013961792, -4.499100208282471, -3.273099899291992, -4.657800197601318, -3.4172000885009766, -4.808000087738037, -4.892899990081787, -2.592099905014038, -4.95989990234375, -3.8819000720977783, -5.169099807739258, -4.009799957275391, -5.275599956512451, -3.7202999591827393, -4.2052001953125, -5.712299823760986, -5.739699840545654, -5.739699840545654, -5.739699840545654, -3.3505001068115234, -4.77810001373291, -4.185299873352051, -3.2379000186920166, -3.7246999740600586, -4.174200057983398, -4.345699787139893, -4.099100112915039, -2.7009999752044678, -2.81850004196167, -3.2497000694274902, -3.3252999782562256, -3.6089000701904297, -3.631200075149536, -3.696700096130371, -3.6986000537872314, -3.7158000469207764, -4.03410005569458, -4.090799808502197, -4.158899784088135, -4.310500144958496, -4.33620023727417, -4.457499980926514, -3.6120998859405518, -4.7453999519348145, -5.089900016784668, -5.0903000831604, -5.0903000831604, -2.7248001098632812, -5.286499977111816, -5.368599891662598, -5.36870002746582, -2.5713000297546387, -4.679599761962891, -3.209199905395508, -5.917699813842773, -5.917699813842773, -5.917699813842773, -4.7846999168396, -3.181299924850464, -4.133699893951416, -4.167500019073486, -4.643799781799316, -4.1371002197265625, -3.7444000244140625, -4.430200099945068, -4.874899864196777, -2.134500026702881, -2.7683000564575195, -0.9430999755859375, -3.33240008354187, -3.897900104522705, -4.558899879455566, -4.230999946594238, -5.312900066375732, -5.312900066375732, -1.506700038909912, -6.140399932861328, -6.140399932861328, -5.203700065612793, -8.979599952697754, -8.979999542236328, -8.98270034790039, -8.982799530029297, -8.983200073242188, -8.983400344848633, -8.983499526977539, -8.983499526977539, -8.983499526977539, -8.983499526977539, -8.983499526977539, -8.983599662780762, -8.983599662780762, -8.983599662780762, -8.983599662780762, -8.983599662780762, -8.983699798583984, -8.983699798583984, -8.983699798583984, -2.3733999729156494, -4.006400108337402, -4.08459997177124, -4.5756001472473145, -1.9807000160217285, -4.860000133514404, -5.014999866485596, -4.0482001304626465, -5.118000030517578, -5.219699859619141, -5.220099925994873, -5.3165998458862305, -5.376800060272217, -5.376800060272217, -5.5640997886657715, -2.224400043487549, -4.884099960327148, -6.049300193786621, -6.049300193786621, -6.049300193786621, -2.146199941635132, -2.089099884033203, -6.392000198364258, -6.392000198364258, -6.392000198364258, -6.392000198364258, -6.392000198364258, -6.392000198364258, -6.392000198364258, -6.392000198364258, -1.9275000095367432, -4.457099914550781, -5.116600036621094, -5.530600070953369, -5.219600200653076, -4.744900226593018, -5.699100017547607, -5.153800010681152, -6.017300128936768, -3.0353000164031982, -3.141200065612793, -3.364000082015991, -3.4946000576019287, -2.0653998851776123, -1.9731999635696411, -4.442800045013428, -4.442800045013428, -3.7860000133514404, -4.641300201416016, -4.657599925994873, -4.701600074768066, -5.052999973297119, -5.052999973297119, -5.052999973297119, -4.376699924468994, -4.679500102996826, -5.716700077056885, -5.716700077056885, -5.716700077056885, -5.716700077056885, -5.716700077056885, -5.716700077056885, -5.716700077056885, -5.716700077056885, -5.716700077056885, -5.716700077056885, -1.882200002670288, -5.077700138092041, -5.431600093841553, -4.296299934387207, -4.623499870300293, -4.619699954986572, -4.888800144195557, -4.071599960327148, -4.32450008392334, -4.677499771118164, -4.654699802398682, -5.4019999504089355, -5.525100231170654, -3.042799949645996, -2.9979000091552734, -2.5204999446868896, -3.4839999675750732, -3.536799907684326, -2.7873001098632812, -2.0769999027252197, -3.8805999755859375, -3.9514999389648438, -4.319399833679199, -3.852799892425537, -4.889999866485596, -4.889999866485596, -4.622000217437744, -3.897599935531616, -4.9182000160217285, -5.717299938201904, -5.717400074005127, -4.889900207519531, -4.319300174713135, -6.354100227355957, -6.3541998863220215, -5.717400074005127, -5.717400074005127, -2.226099967956543, -3.21560001373291, -5.675300121307373, -5.188199996948242, -4.861199855804443, -3.1335999965667725, -3.779400110244751, -4.831099987030029, -5.598700046539307, -5.599400043487549, -5.667399883270264, -2.2690999507904053, -3.373300075531006, -4.027299880981445, -4.128399848937988, -4.263700008392334, -4.473700046539307, -4.473700046539307, -4.51140022277832, -2.9714999198913574, -3.914400100708008, -4.637400150299072, -4.637499809265137, -3.6080000400543213, -3.263400077819824, -4.915200233459473, -4.915200233459473, -3.703900098800659, -3.7476999759674072, -5.1417999267578125, -3.9040000438690186, -4.387400150299072, -5.30109977722168, -5.30109977722168, -5.30109977722168, -5.30109977722168, -5.30109977722168, -5.30109977722168, -5.30109977722168, -5.30109977722168, -5.30109977722168, -5.30109977722168, -3.421099901199341, -3.6033999919891357, -4.128699779510498, -4.411499977111816, -4.433499813079834, -3.949899911880493, -3.640700101852417, -4.209700107574463, -3.883500099182129, -4.913000106811523, -1.5157999992370605, -3.1494998931884766, -3.1786999702453613, -3.3633999824523926, -3.53629994392395, -3.8696999549865723, -4.097700119018555, -4.129000186920166, -4.316199779510498, -4.316199779510498, -4.479899883270264, -4.479899883270264, -3.5118000507354736, -5.143499851226807, -5.143499851226807, -5.143499851226807, -5.143499851226807, -5.143499851226807, -5.143499851226807, -5.143499851226807, -4.190400123596191, -3.7987000942230225, -5.151100158691406, -5.143499851226807, -3.8494999408721924, -5.104400157928467, -4.617400169372559, -4.491099834442139, -3.164299964904785, -5.065000057220459, -4.084199905395508, -4.469099998474121, -2.617500066757202, -3.414599895477295, -3.440200090408325, -3.9258999824523926, -3.9258999824523926, -4.015200138092041, -4.0152997970581055, -4.151199817657471, -4.308800220489502, -4.308800220489502, -4.308800220489502, -4.308800220489502, -4.308800220489502, -4.308800220489502, -4.308800220489502, -4.308800220489502, -4.308800220489502, -4.308899879455566, -4.308899879455566, -3.450200080871582, -3.4012999534606934, -3.5652999877929688, -3.9391000270843506, -5.32390022277832, -5.32390022277832, -5.32390022277832, -5.32390022277832, -4.861199855804443, -4.022299766540527, -4.218200206756592, -4.290900230407715, -3.9128000736236572, -4.3007001876831055, -4.308800220489502, -4.308800220489502, -3.761399984359741, -3.88700008392334, -4.172999858856201, -4.222899913787842, -4.23960018157959, -4.287099838256836, -4.308700084686279, -0.9878000020980835, -1.4128999710083008, -3.589900016784668, -3.036900043487549, -4.013500213623047, -4.675300121307373, -4.675300121307373, -4.6753997802734375, -5.502799987792969, -3.785399913787842, -3.9082999229431152, -8.341400146484375, -8.345199584960938, -8.34529972076416, -8.34529972076416, -8.345999717712402, -8.346099853515625, -8.346099853515625, -8.345999717712402, -8.346099853515625, -8.346099853515625, -8.34630012512207, -8.34630012512207, -8.34630012512207, -8.34630012512207, -8.34630012512207, -8.346400260925293, -8.346400260925293, -8.346400260925293, -8.346400260925293, -4.557300090789795, -6.096399784088135, -7.934700012207031, -8.277700424194336, -2.1874001026153564, -2.505199909210205, -2.8282999992370605, -3.2248001098632812, -2.058300018310547, -3.6129000186920166, -3.895400047302246, -3.908600091934204, -4.026000022888184, -4.213600158691406, -4.213699817657471, -4.213699817657471, -4.213699817657471, -5.041100025177002, -5.041100025177002, -5.041100025177002, -5.041100025177002, -5.041100025177002, -5.041200160980225, -5.678199768066406, -5.678199768066406, -5.678199768066406, -5.678500175476074, -3.8552000522613525, -4.507599830627441, -4.156899929046631, -7.883500099182129, -7.883800029754639, -7.884200096130371, -7.884200096130371, -4.007699966430664, -7.447700023651123, -1.7206000089645386, -1.7692999839782715, -1.812000036239624, -3.1530001163482666, -3.3224000930786133, -3.5160999298095703, -3.5908000469207764, -3.7258999347686768, -3.9632999897003174, -4.602700233459473, -4.602700233459473, -3.2093000411987305, -5.219900131225586, -3.1171998977661133, -5.564700126647949, -6.199699878692627, -6.199699878692627, -8.406000137329102, -8.406000137329102, -8.406000137329102, -8.406299591064453, -8.406299591064453, -8.406299591064453, -8.406299591064453, -8.406299591064453, -8.406399726867676, -8.406399726867676, -8.406399726867676, -8.406399726867676, -8.406399726867676, -8.406200408935547, -8.406399726867676, -8.406399726867676, -2.3921000957489014, -2.8585000038146973, -3.134200096130371, -3.1470999717712402, -2.5176000595092773, -3.7158000469207764, -4.197199821472168, -2.906899929046631, -4.527599811553955, -2.3059000968933105, -5.024600028991699, -5.024600028991699, -5.024600028991699, -5.024600028991699, -5.024600028991699, -5.024600028991699, -5.024600028991699, -5.024600028991699, -5.024600028991699, -5.024600028991699, -5.024700164794922, -5.024600028991699, -5.024600028991699, -4.527599811553955, -4.696700096130371, -7.867599964141846, -7.868100166320801, -7.868000030517578, -7.868199825286865, -7.868100166320801, -3.105600118637085, -4.8815999031066895, -7.844200134277344, -2.4974000453948975, -2.734499931335449, -2.7476000785827637, -3.111799955368042, -3.4447999000549316, -3.4711999893188477, -3.6982998847961426, -3.834399938583374, -4.125800132751465, -4.179500102996826, -4.3429999351501465, -4.3429999351501465, -4.3429999351501465, -4.375500202178955, -4.509699821472168, -2.802500009536743, -5.0065999031066895, -5.006700038909912, -5.006700038909912, -5.006700038909912, -5.006700038909912, -5.006700038909912, -5.006700038909912, -3.953700065612793, -3.765399932861328, -5.006700038909912, -3.947499990463257, -4.945000171661377, -3.4746999740600586, -7.8491997718811035, -7.7683000564575195, -1.8044999837875366, -2.446899890899658, -2.7760000228881836, -2.791800022125244, -3.3331000804901123, -3.9976000785827637, -4.34250020980835, -4.78410005569458, -1.8946000337600708, -5.010499954223633, -5.010499954223633, -5.170000076293945, -5.170300006866455, -4.9004998207092285, -5.806600093841553, -5.806600093841553, -5.806600093841553, -2.562299966812134, -8.012200355529785, -8.012100219726562, -8.012999534606934, -8.012999534606934, -8.013099670410156, -8.013400077819824, -8.013500213623047, -8.013500213623047, -8.01360034942627, -8.01360034942627, -8.013699531555176, -8.013699531555176, -8.013299942016602, -8.01360034942627, -2.3935000896453857, -2.428499937057495, -1.2697999477386475, -3.799299955368042, -4.024700164794922, -4.8144001960754395, -4.8144001960754395, -4.8144001960754395, -4.8144001960754395, -4.8144001960754395, -4.8144001960754395, -4.1508002281188965, -4.2617998123168945, -4.960599899291992, -7.655900001525879, -7.655900001525879, -7.657199859619141, -7.657199859619141, -7.657299995422363, -7.657299995422363, -7.657400131225586, -7.657700061798096, -7.657700061798096, -7.657899856567383, -7.657899856567383, -7.657899856567383, -7.657899856567383, -7.6579999923706055, -7.6579999923706055, -7.658100128173828, -4.494800090789795, -7.657700061798096, -7.6579999923706055, -7.6493000984191895, -7.6539998054504395, -2.355799913406372, -3.3928000926971436, -3.5292999744415283, -3.5292999744415283, -3.6424999237060547, -3.687000036239624, -2.5388998985290527, -3.8740999698638916, -4.037899971008301, -4.104700088500977, -4.701499938964844, -4.701499938964844, -4.701499938964844, -4.701499938964844, -4.701499938964844, -4.701499938964844, -4.701499938964844, -4.701499938964844, -4.037899971008301, -4.701499938964844, -3.2149999141693115, -5.338200092315674, -3.723599910736084, -4.331299781799316, -7.543900012969971, -7.544899940490723, -7.545000076293945, -7.545199871063232, -7.545199871063232, -7.545199871063232, -7.545199871063232, -7.28410005569458, -7.545199871063232, -7.516499996185303, -2.11899995803833, -1.7727999687194824, -2.2671000957489014, -2.318700075149536, -3.3951001167297363, -3.6672000885009766, -3.8085999488830566, -4.392000198364258, -4.392000198364258, -4.941100120544434, -4.941100120544434, -5.5777997970581055, -5.578000068664551, -5.578000068664551, -3.8361001014709473, -7.783599853515625, -7.783899784088135, -7.783899784088135, -7.78439998626709, -7.78439998626709, -7.784599781036377, -7.784599781036377, -7.784599781036377, -7.7846999168396, -7.7846999168396, -7.7846999168396, -7.7846999168396, -7.7846999168396, -7.784599781036377, -7.784599781036377, -7.7846999168396, -3.053299903869629, -3.088200092315674, -3.5346999168395996, -2.272200107574463, -4.203199863433838, -4.361999988555908, -4.361999988555908, -4.361999988555908, -4.361999988555908, -4.361999988555908, -4.361999988555908, -4.998600006103516, -4.998600006103516, -4.998600006103516, -4.004799842834473, -4.361999988555908, -7.204400062561035, -7.205100059509277, -7.205100059509277, -7.2052998542785645, -7.2052998542785645, -7.205699920654297, -7.205699920654297, -7.205699920654297, -7.205699920654297, -7.205699920654297, -7.205699920654297, -7.205699920654297, -7.205699920654297, -7.205399990081787, -2.0134999752044678, -3.059799909591675, -6.962100028991699, -6.962100028991699, -6.962100028991699, -6.962100028991699, -6.962100028991699, -6.962600231170654, -6.962600231170654, -6.962699890136719, -6.962699890136719, -6.962699890136719, -6.962699890136719, -6.962699890136719, -6.962900161743164, -6.962699890136719, -6.962900161743164, -6.962900161743164, -6.962900161743164, -6.962900161743164, -6.962900161743164, -6.962900161743164, -6.962900161743164, -6.962900161743164, -6.962900161743164, -6.962900161743164, -6.962900161743164, -6.962900161743164, -6.962900161743164, -6.962900161743164, -6.962699890136719, -6.962699890136719, -6.962600231170654, -6.962900161743164, -6.962900161743164, -6.962900161743164, -6.962900161743164, -6.962900161743164, -6.962900161743164, -6.962900161743164, -6.962900161743164, -6.962900161743164, -6.962900161743164, -6.962900161743164, -6.962900161743164], \"loglift\": [30.0, 29.0, 28.0, 27.0, 26.0, 25.0, 24.0, 23.0, 22.0, 21.0, 20.0, 19.0, 18.0, 17.0, 16.0, 15.0, 14.0, 13.0, 12.0, 11.0, 10.0, 9.0, 8.0, 7.0, 6.0, 5.0, 4.0, 3.0, 2.0, 1.0, 1.8756999969482422, 1.8545000553131104, 1.8487999439239502, 1.8481999635696411, 1.8478000164031982, 1.843999981880188, 1.836899995803833, 1.8184000253677368, 1.8142000436782837, 1.7997000217437744, 1.7989000082015991, 1.784000039100647, 1.769700050354004, 1.7648999691009521, 1.7551000118255615, 1.7440999746322632, 1.7310999631881714, 1.7267999649047852, 1.7201999425888062, 1.6899000406265259, 1.6819000244140625, 1.6640000343322754, 1.6598000526428223, 1.6556999683380127, 1.6190999746322632, 1.5478999614715576, 1.5396000146865845, 1.5396000146865845, 1.5396000146865845, 1.534600019454956, 1.3633999824523926, 1.1857000589370728, 0.8802000284194946, 0.7436000108718872, 0.5281999707221985, 0.2554999887943268, -0.4724000096321106, 2.267899990081787, 2.2467000484466553, 2.2464001178741455, 2.2423999309539795, 2.2248001098632812, 2.2232000827789307, 2.218400001525879, 2.2181999683380127, 2.216900110244751, 2.1881000995635986, 2.181999921798706, 2.174299955368042, 2.155400037765503, 2.1519999504089355, 2.1345999240875244, 2.1054999828338623, 2.0855000019073486, 2.0095999240875244, 2.009500026702881, 2.009500026702881, 1.9775999784469604, 1.9565999507904053, 1.9321999549865723, 1.9321999549865723, 1.8969999551773071, 1.8934999704360962, 1.794700026512146, 1.7299000024795532, 1.7297999858856201, 1.7297999858856201, 1.7086999416351318, 1.5944000482559204, 1.5749000310897827, 1.4859999418258667, 1.61080002784729, 0.7480999827384949, -0.1177000030875206, 0.9406999945640564, 1.2619999647140503, 2.313999891281128, 2.2981998920440674, 2.273400068283081, 2.273200035095215, 2.227299928665161, 2.1440000534057617, 2.0524001121520996, 1.9675999879837036, 1.9675999879837036, 1.8558000326156616, 1.6359000205993652, 1.6359000205993652, 0.06390000134706497, -0.5698000192642212, -0.5703999996185303, -0.5727999806404114, -0.5728999972343445, -0.5733000040054321, -0.5734000205993652, -0.5734000205993652, -0.5734999775886536, -0.5734999775886536, -0.5734999775886536, -0.5734999775886536, -0.5734999775886536, -0.5734999775886536, -0.5734999775886536, -0.5735999941825867, -0.5735999941825867, -0.5735999941825867, -0.5735999941825867, -0.5737000107765198, 2.39520001411438, 2.2964999675750732, 2.2869999408721924, 2.210700035095215, 2.175800085067749, 2.1501998901367188, 2.1112000942230225, 2.0922000408172607, 2.0827999114990234, 2.052500009536743, 2.0518999099731445, 2.021699905395508, 2.001499891281128, 2.0013999938964844, 1.9333000183105469, 1.8935999870300293, 1.7210999727249146, 1.7173999547958374, 1.7173999547958374, 1.7173999547958374, 1.5815999507904053, 1.537600040435791, 1.5298000574111938, 1.5298000574111938, 1.5298000574111938, 1.5298000574111938, 1.5298000574111938, 1.5298000574111938, 1.5298000574111938, 1.5298000574111938, 1.4349000453948975, 1.1964000463485718, 1.2121000289916992, 0.9681000113487244, 0.7103999853134155, 0.2590000033378601, 0.9337999820709229, 0.03539999946951866, 0.5138999819755554, 2.378700017929077, 2.373500108718872, 2.36080002784729, 2.352099895477295, 2.319000005722046, 2.282599925994873, 2.245500087738037, 2.2453999519348145, 2.2188000679016113, 2.2098000049591064, 2.2065999507904053, 2.1977999210357666, 2.1154000759124756, 2.1154000759124756, 2.1154000759124756, 1.9930000305175781, 1.9534000158309937, 1.8911999464035034, 1.8911000490188599, 1.8911000490188599, 1.8911000490188599, 1.8911000490188599, 1.8911000490188599, 1.8911000490188599, 1.8911000490188599, 1.8911000490188599, 1.8911000490188599, 1.8456000089645386, 1.8341000080108643, 1.7613999843597412, 1.6632000207901, 1.30649995803833, 1.169800043106079, 1.3357000350952148, 0.5296000242233276, 0.6794000267982483, 0.6984999775886536, 0.5343999862670898, 0.661899983882904, 0.9735999703407288, 2.5525999069213867, 2.535599946975708, 2.532900094985962, 2.5220000743865967, 2.517400026321411, 2.488300085067749, 2.4818999767303467, 2.481600046157837, 2.4727001190185547, 2.4172000885009766, 2.325900077819824, 2.2904000282287598, 2.290299892425537, 2.1912999153137207, 2.166300058364868, 2.041599988937378, 1.9883999824523926, 1.9882999658584595, 1.812000036239624, 1.7282999753952026, 1.6431000232696533, 1.6430000066757202, 1.6384999752044678, 1.635599970817566, 1.4005999565124512, 1.385699987411499, 1.2365000247955322, 1.181399941444397, 1.1058000326156616, 1.0228999853134155, 0.4763999879360199, 0.3411000072956085, 0.9745000004768372, 0.33070001006126404, 0.06080000102519989, 2.914599895477295, 2.842600107192993, 2.7511000633239746, 2.7318999767303467, 2.7035999298095703, 2.65339994430542, 2.65339994430542, 2.6435999870300293, 2.6380999088287354, 2.61680006980896, 2.6085000038146973, 2.6085000038146973, 2.534899950027466, 2.526099920272827, 2.5195000171661377, 2.5195000171661377, 2.498500108718872, 2.4618000984191895, 2.4339001178741455, 2.4247000217437744, 2.3740999698638916, 2.366300106048584, 2.366300106048584, 2.366300106048584, 2.366300106048584, 2.366300106048584, 2.366300106048584, 2.366300106048584, 2.366300106048584, 2.366300106048584, 2.366300106048584, 2.3071999549865723, 1.9859999418258667, 2.0518999099731445, 2.0522000789642334, 2.012399911880493, 1.4211000204086304, 0.9605000019073486, 0.9793999791145325, 0.5008000135421753, 1.0464999675750732, 3.1758999824523926, 3.086199998855591, 3.0831000804901123, 3.0611000061035156, 3.037100076675415, 2.9797000885009766, 2.930500030517578, 2.9230000972747803, 2.8745999336242676, 2.8745999336242676, 2.8264999389648438, 2.8264999389648438, 2.703900098800659, 2.5696001052856445, 2.5696001052856445, 2.5696001052856445, 2.5696001052856445, 2.5696001052856445, 2.5696001052856445, 2.5696001052856445, 2.308199882507324, 2.200000047683716, 2.196700096130371, 2.194200038909912, 2.0804998874664307, 1.8028000593185425, 1.5230000019073486, 1.2209999561309814, 1.1546000242233276, 0.9988999962806702, 0.5170000195503235, 0.2865999937057495, 3.158400058746338, 3.0785999298095703, 3.075000047683716, 2.989500045776367, 2.989500045776367, 2.9697999954223633, 2.9697999954223633, 2.937000036239624, 2.8947999477386475, 2.8947999477386475, 2.8947999477386475, 2.8947999477386475, 2.8947999477386475, 2.8947999477386475, 2.8947999477386475, 2.8947999477386475, 2.8947999477386475, 2.894700050354004, 2.894700050354004, 2.8636999130249023, 2.763400077819824, 2.6591999530792236, 2.5067999362945557, 2.489300012588501, 2.489300012588501, 2.489300012588501, 2.489300012588501, 2.182800054550171, 2.0253000259399414, 1.9912999868392944, 1.9115999937057495, 1.6966999769210815, 1.8423000574111938, 1.7517000436782837, 1.5154999494552612, 0.8398000001907349, -0.26030001044273376, 0.8697999715805054, 0.019500000402331352, -0.0020000000949949026, 0.5981000065803528, 1.3651000261306763, 3.2623000144958496, 3.2544000148773193, 3.0906999111175537, 3.0831000804901123, 3.004699945449829, 2.8027000427246094, 2.8027000427246094, 2.8027000427246094, 2.4061999320983887, 2.3515000343322754, 2.3461999893188477, 0.06840000301599503, 0.0649000033736229, 0.06469999998807907, 0.06469999998807907, 0.0640999972820282, 0.06400000303983688, 0.06400000303983688, 0.06400000303983688, 0.06400000303983688, 0.06390000134706497, 0.06379999965429306, 0.06379999965429306, 0.06379999965429306, 0.06379999965429306, 0.06379999965429306, 0.06379999965429306, 0.06369999796152115, 0.06369999796152115, 0.06369999796152115, -0.9305999875068665, -0.5629000067710876, -1.121399998664856, -3.224400043487549, 3.309799909591675, 3.290800094604492, 3.2648000717163086, 3.2207000255584717, 3.2093000411987305, 3.1600000858306885, 3.101900100708008, 3.098900079727173, 3.0703999996185303, 3.0195000171661377, 3.0195000171661377, 3.0195000171661377, 3.0195000171661377, 2.7021000385284424, 2.7021000385284424, 2.7021000385284424, 2.7021000385284424, 2.7021000385284424, 2.7021000385284424, 2.344099998474121, 2.344099998474121, 2.344099998474121, 2.343899965286255, 1.79830002784729, 1.2100000381469727, 0.8468999862670898, 0.526199996471405, 0.5260999798774719, 0.5257999897003174, 0.5257999897003174, 0.1103999987244606, -1.3223999738693237, 3.351099967956543, 3.349400043487549, 3.3478000164031982, 3.247299909591675, 3.2214999198913574, 3.192199945449829, 3.1786000728607178, 3.151900053024292, 3.0975000858306885, 2.8949999809265137, 2.8949999809265137, 2.789400100708008, 2.6089999675750732, 2.5915000438690186, 2.4082000255584717, 1.9677000045776367, 1.9677000045776367, 0.004100000020116568, 0.004000000189989805, 0.004000000189989805, 0.003800000064074993, 0.003800000064074993, 0.003800000064074993, 0.003800000064074993, 0.003700000001117587, 0.003700000001117587, 0.003700000001117587, 0.003700000001117587, 0.003700000001117587, 0.003700000001117587, 0.003700000001117587, 0.0035000001080334187, 0.0034000000450760126, 3.3471999168395996, 3.3092000484466553, 3.277899980545044, 3.27620005607605, 3.194499969482422, 3.1816999912261963, 3.060800075531006, 3.0601000785827637, 2.9504001140594482, 2.88319993019104, 2.7360000610351562, 2.7360000610351562, 2.7360000610351562, 2.7360000610351562, 2.7360000610351562, 2.7360000610351562, 2.7360000610351562, 2.7360000610351562, 2.7360000610351562, 2.7360000610351562, 2.7358999252319336, 2.313199996948242, 2.0966999530792236, 1.7862999439239502, 0.8927000164985657, 0.5422999858856201, 0.5419999957084656, 0.5419999957084656, 0.5418999791145325, 0.5418000221252441, 0.5210999846458435, -0.5626999735832214, -4.627699851989746, 3.418299913406372, 3.397599935531616, 3.3963000774383545, 3.354099988937378, 3.3018999099731445, 3.297100067138672, 3.2513999938964844, 3.219899892807007, 3.140500068664551, 3.124000072479248, 3.0699000358581543, 3.0699000358581543, 3.0699000358581543, 3.0583999156951904, 3.0083999633789062, 2.786799907684326, 2.785399913787842, 2.785399913787842, 2.785399913787842, 2.785399913787842, 2.785399913787842, 2.785399913787842, 2.785399913787842, 2.5100998878479004, 2.375999927520752, 2.346400022506714, 2.268199920654297, 2.0148000717163086, 1.2811000347137451, 0.5608000159263611, -2.764400005340576, 3.5643999576568604, 3.523900032043457, 3.49180006980896, 3.490000009536743, 3.411099910736084, 3.2530999183654785, 3.136199951171875, 2.94569993019104, 2.8810999393463135, 2.829200029373169, 2.829200029373169, 2.739500045776367, 2.739300012588501, 2.5422000885009766, 2.322200059890747, 2.322200059890747, 2.322200059890747, 0.6542999744415283, 0.3978999853134155, 0.3977000117301941, 0.3971000015735626, 0.3971000015735626, 0.3968999981880188, 0.396699994802475, 0.39660000801086426, 0.39660000801086426, 0.39649999141693115, 0.39649999141693115, 0.39640000462532043, 0.39640000462532043, 0.39629998803138733, -3.346400022506714, 3.6017000675201416, 3.5987000465393066, 3.4860000610351562, 3.3701000213623047, 3.3032000064849854, 2.976799964904785, 2.976799964904785, 2.976799964904785, 2.976799964904785, 2.976799964904785, 2.976799964904785, 2.9704999923706055, 1.8752000331878662, 1.8526999950408936, 0.7541000247001648, 0.7541000247001648, 0.7529000043869019, 0.7529000043869019, 0.7526999711990356, 0.7526999711990356, 0.7526000142097473, 0.7523000240325928, 0.7523000240325928, 0.7522000074386597, 0.7522000074386597, 0.7522000074386597, 0.7520999908447266, 0.7520999908447266, 0.7520999908447266, 0.7519999742507935, 0.5584999918937683, 0.7519000172615051, 0.7519999742507935, -4.022600173950195, -2.386399984359741, 3.794300079345703, 3.6280999183654785, 3.5940001010894775, 3.5940001010894775, 3.562999963760376, 3.549999952316284, 3.521699905395508, 3.4911999702453613, 3.433300018310547, 3.407900094985962, 3.1328001022338867, 3.1328001022338867, 3.1328001022338867, 3.1328001022338867, 3.1328001022338867, 3.1328001022338867, 3.1328001022338867, 3.1328001022338867, 3.0750999450683594, 2.854099988937378, 2.744499921798706, 2.7430999279022217, 2.3241000175476074, 1.6735999584197998, 0.8659999966621399, 0.8651000261306763, 0.8650000095367432, 0.8648999929428101, 0.8648999929428101, 0.8648999929428101, 0.8648999929428101, -0.7401999831199646, 0.864799976348877, -3.7887001037597656, 4.122499942779541, 4.111599922180176, 4.104899883270264, 4.098199844360352, 3.8698999881744385, 3.7774999141693115, 3.7228000164031982, 3.4451000690460205, 3.4451000690460205, 3.1075000762939453, 3.1075000762939453, 2.6354000568389893, 2.635200023651123, 2.635200023651123, 2.342600107192993, 0.6265000104904175, 0.6261000037193298, 0.6259999871253967, 0.6258000135421753, 0.6256999969482422, 0.6255000233650208, 0.6255000233650208, 0.6255000233650208, 0.6254000067710876, 0.6254000067710876, 0.6254000067710876, 0.6254000067710876, 0.6254000067710876, 0.6252999901771545, 0.6252999901771545, 0.6252999901771545, 4.231400012969971, 4.220300197601318, 4.054100036621094, 3.9084999561309814, 3.714400053024292, 3.6175999641418457, 3.6175999641418457, 3.6175999641418457, 3.6175999641418457, 3.6175999641418457, 3.274399995803833, 3.1731998920440674, 3.1731998920440674, 3.1731998920440674, 2.115299940109253, 1.5224000215530396, 1.2055000066757202, 1.204800009727478, 1.204800009727478, 1.204699993133545, 1.204699993133545, 1.2043999433517456, 1.2043999433517456, 1.2043999433517456, 1.2043999433517456, 1.2043999433517456, 1.2043999433517456, 1.2043999433517456, 1.2043999433517456, 1.204300045967102, 4.893799781799316, 4.29610013961792, 1.4479999542236328, 1.4479999542236328, 1.4479999542236328, 1.4478000402450562, 1.447700023651123, 1.4474999904632568, 1.4474999904632568, 1.4473999738693237, 1.4473999738693237, 1.4473999738693237, 1.4473999738693237, 1.4473999738693237, 1.4472999572753906, 1.4472999572753906, 1.4472999572753906, 1.4472999572753906, 1.4472999572753906, 1.4472999572753906, 1.4472999572753906, 1.4472999572753906, 1.4472999572753906, 1.4472999572753906, 1.4472999572753906, 1.4472999572753906, 1.4472999572753906, 1.4472999572753906, 1.4472999572753906, 1.4472999572753906, 1.4471999406814575, 1.4471999406814575, 1.4470000267028809, -1.8442000150680542, 0.7045999765396118, 0.7045999765396118, -0.18449999392032623, 0.22789999842643738, 0.3091000020503998, -0.38940000534057617, -0.27459999918937683, 0.6449999809265137, -1.448099970817566, -1.1160999536514282, -1.2380000352859497]}, \"token.table\": {\"Topic\": [1, 2, 18, 4, 15, 14, 1, 13, 2, 7, 4, 5, 15, 2, 15, 7, 12, 12, 15, 11, 13, 2, 6, 1, 8, 13, 2, 4, 11, 5, 17, 19, 8, 6, 7, 7, 16, 14, 15, 5, 6, 17, 5, 9, 7, 17, 4, 2, 15, 8, 13, 1, 9, 3, 7, 9, 9, 1, 2, 7, 14, 5, 2, 15, 14, 16, 11, 8, 20, 5, 4, 13, 10, 14, 18, 11, 6, 14, 9, 19, 5, 17, 9, 9, 7, 9, 9, 18, 2, 13, 9, 1, 9, 9, 17, 7, 14, 6, 13, 17, 19, 7, 13, 14, 4, 7, 18, 1, 8, 8, 5, 9, 17, 9, 14, 4, 2, 9, 4, 1, 9, 8, 16, 13, 16, 4, 2, 13, 17, 2, 6, 16, 5, 7, 1, 2, 1, 2, 5, 6, 7, 8, 9, 4, 19, 3, 15, 1, 2, 4, 6, 9, 10, 13, 4, 11, 3, 6, 19, 17, 11, 2, 12, 1, 17, 4, 8, 4, 7, 9, 2, 13, 5, 1, 9, 12, 19, 13, 10, 9, 3, 11, 2, 13, 1, 9, 2, 6, 12, 4, 7, 9, 1, 14, 15, 5, 17, 18, 8, 6, 1, 11, 15, 5, 7, 14, 5, 2, 7, 14, 11, 15, 5, 6, 7, 5, 13, 8, 14, 4, 5, 1, 11, 18, 13, 4, 7, 17, 2, 6, 4, 7, 2, 12, 14, 10, 19, 14, 5, 7, 3, 1, 5, 9, 11, 6, 9, 17, 5, 7, 1, 6, 7, 8, 14, 1, 4, 11, 6, 11, 11, 1, 1, 1, 4, 5, 6, 8, 6, 20, 8, 16, 12, 1, 5, 4, 6, 7, 1, 9, 5, 7, 17, 9, 11, 1, 17, 3, 9, 2, 10, 18, 1, 1, 18, 8, 12, 2, 17, 14, 11, 5, 4, 11, 16, 4, 5, 9, 13, 2, 5, 11, 8, 2, 4, 5, 11, 2, 4, 8, 5, 4, 5, 7, 15, 4, 14, 10, 12, 4, 5, 7, 13, 1, 6, 3, 17, 8, 19, 16, 12, 18, 10, 4, 13, 10, 2, 2, 17, 19, 12, 8, 8, 1, 9, 1, 3, 4, 11, 11, 7, 5, 6, 7, 11, 14, 17, 5, 6, 10, 5, 9, 1, 9, 1, 17, 6, 1, 1, 6, 4, 3, 17, 13, 2, 11, 9, 16, 7, 13, 5, 6, 8, 4, 13, 6, 8, 13, 18, 8, 4, 5, 8, 14, 8, 13, 15, 6, 18, 7, 7, 6, 16, 13, 5, 14, 5, 15, 7, 15, 13, 12, 11, 14, 11, 18, 19, 7, 19, 2, 5, 2, 10, 7, 1, 11, 2, 10, 16, 7, 9, 4, 2, 15, 8, 9, 9, 12, 2, 6, 17, 9, 16, 3, 7, 7, 14, 14, 6, 12, 4, 7, 10, 4, 2, 9, 7, 19, 2, 9, 17, 14, 5, 1, 2, 9, 4, 9, 8, 6, 14, 3, 8, 14, 16, 3, 8, 2, 7, 9, 1, 2, 7, 2, 13, 7, 6, 7, 5, 14, 1, 15, 16, 4, 11, 3, 6, 5, 7, 2, 7, 8, 4, 4, 19, 1, 8, 5, 16, 15, 12, 7, 10, 17, 1, 9, 1, 6, 8, 14, 1, 9, 6, 2, 1, 4, 6], \"Freq\": [0.3076739013195038, 0.6688563227653503, 0.8450929522514343, 0.7634387612342834, 0.54303377866745, 0.762617290019989, 0.6672714948654175, 0.3599092960357666, 0.6428941488265991, 0.9574928283691406, 0.2330508828163147, 0.5826272368431091, 0.520147442817688, 0.863534688949585, 0.9023388624191284, 0.7856544256210327, 0.38535669445991516, 0.9538822174072266, 0.34897565841674805, 0.35372263193130493, 0.35992029309272766, 0.6586650013923645, 0.21955499053001404, 0.8410331606864929, 0.1267310231924057, 0.02304200455546379, 0.4376164674758911, 0.3063315451145172, 0.21880823373794556, 0.8083992004394531, 0.12436911463737488, 0.6870503425598145, 0.868194580078125, 0.6813874244689941, 0.5195883512496948, 0.9216086864471436, 0.9238032102584839, 0.9290114641189575, 0.9547924995422363, 0.6269053220748901, 0.26867371797561646, 0.7272216081619263, 0.30986127257347107, 0.5422571897506714, 0.37668678164482117, 0.37668678164482117, 0.42285412549972534, 0.2618934214115143, 0.2618934214115143, 0.1392083764076233, 0.7888475060462952, 0.9329556822776794, 0.04056329280138016, 0.6680589914321899, 0.606168806552887, 0.3030844032764435, 0.7728809714317322, 0.4948737919330597, 0.2639326751232147, 0.23094110190868378, 0.3714103698730469, 0.6178666949272156, 0.9274056553840637, 0.6484888792037964, 0.5192184448242188, 0.7004787921905518, 0.8473907709121704, 0.30663296580314636, 0.6132659316062927, 0.9643058776855469, 0.42285412549972534, 0.8409905433654785, 0.9793024659156799, 0.5648569464683533, 0.524871289730072, 0.7410070300102234, 0.47889286279678345, 0.23944643139839172, 0.7349996566772461, 0.4480351507663727, 0.7343144416809082, 0.38745489716529846, 0.37937232851982117, 0.7728809714317322, 0.6425529718399048, 0.285579115152359, 0.618586003780365, 0.3885008692741394, 0.6817907691001892, 0.3599083423614502, 0.8287376761436462, 0.2918623685836792, 0.6566902995109558, 0.8107023239135742, 0.38745567202568054, 0.5195883512496948, 0.3714223802089691, 0.23950256407260895, 0.718507707118988, 0.38745567202568054, 0.4480351507663727, 0.3693941533565521, 0.08208758383989334, 0.49252551794052124, 0.42285412549972534, 0.7640784382820129, 0.6578041315078735, 0.2381904423236847, 0.4763808846473694, 0.7088295817375183, 0.617872416973114, 0.19724106788635254, 0.6574702262878418, 0.8286492824554443, 0.37142235040664673, 0.5532416701316833, 0.6817331314086914, 0.618586003780365, 0.42285412549972534, 0.8791707158088684, 0.09504548460245132, 0.6864692568778992, 0.3711044490337372, 0.18991075456142426, 0.5697322487831116, 0.9753968715667725, 0.8875156044960022, 0.3599092960357666, 0.38745489716529846, 0.9432567954063416, 0.9365667700767517, 0.04802906513214111, 0.8979158401489258, 0.08610151708126068, 0.30409544706344604, 0.5068257451057434, 0.19863195717334747, 0.06111752241849899, 0.15279380977153778, 0.29030823707580566, 0.13751442730426788, 0.06111752241849899, 0.09167628735303879, 0.736672043800354, 0.4480351507663727, 0.941184937953949, 0.05356337130069733, 0.09225590527057648, 0.08648990839719772, 0.41515156626701355, 0.29983168840408325, 0.028829969465732574, 0.017297981306910515, 0.05765993893146515, 0.7366527915000916, 0.8830500245094299, 0.9118609428405762, 0.805881917476654, 0.42111170291900635, 0.49604329466819763, 0.35372263193130493, 0.46242430806159973, 0.46242430806159973, 0.6672729253768921, 0.7611556649208069, 0.6798032522201538, 0.6921314001083374, 0.1757761538028717, 0.1757761538028717, 0.3515523076057434, 0.9257392287254333, 0.3599083423614502, 0.93999183177948, 0.869667112827301, 0.37937232851982117, 0.8014684915542603, 0.6708798408508301, 0.9536649584770203, 0.54265296459198, 0.618586003780365, 0.08925745636224747, 0.8628220558166504, 0.8949921131134033, 0.6531972885131836, 0.9807549715042114, 0.618586003780365, 0.8523142337799072, 0.6814175248146057, 0.7443760633468628, 0.3621256947517395, 0.7119768857955933, 0.20940496027469635, 0.57029128074646, 0.3564320504665375, 0.4177085757255554, 0.7963356971740723, 0.38745567202568054, 0.8976826667785645, 0.8142938613891602, 0.9497668743133545, 0.9352778196334839, 0.9356686472892761, 0.9015771150588989, 0.09839796274900436, 0.39359185099601746, 0.39359185099601746, 0.6178666949272156, 0.9111254215240479, 0.6557884216308594, 0.6586882472038269, 0.63722163438797, 0.3895479142665863, 0.8653044104576111, 0.11897935718297958, 0.6557884216308594, 0.9025468230247498, 0.5426401495933533, 0.8784542083740234, 0.9101157784461975, 0.43380847573280334, 0.5613991618156433, 0.8499409556388855, 0.6372162103652954, 0.48007825016975403, 0.35990622639656067, 0.25788697600364685, 0.6017362475395203, 0.6870869398117065, 0.9476257562637329, 0.02429809607565403, 0.42285412549972534, 0.6558102369308472, 0.7435224652290344, 0.9616482257843018, 0.37142056226730347, 0.8373173475265503, 0.06977644562721252, 0.7626174092292786, 0.3008315861225128, 0.6518017649650574, 0.6680589914321899, 0.7958071827888489, 0.16579316556453705, 0.618586003780365, 0.3537302315235138, 0.38942137360572815, 0.3245178163051605, 0.19471068680286407, 0.7963324785232544, 0.6557884216308594, 0.33011436462402344, 0.09431838989257812, 0.5187511444091797, 0.6142678260803223, 0.30713391304016113, 0.35814595222473145, 0.593768298625946, 0.03769957274198532, 0.8889380693435669, 0.4675609767436981, 0.4675609767436981, 0.9420851469039917, 0.934979259967804, 0.8599239587783813, 0.17310602962970734, 0.3462120592594147, 0.11540401726961136, 0.3462120592594147, 0.4802390933036804, 0.2401195466518402, 0.6855741143226624, 0.3711007833480835, 0.8528624176979065, 0.8693573474884033, 0.6178666949272156, 0.7835262417793274, 0.2056756317615509, 0.655781626701355, 0.9452869296073914, 0.04248480498790741, 0.47542548179626465, 0.17828455567359924, 0.2971409261226654, 0.8285523056983948, 0.6371651291847229, 0.8551774621009827, 0.7611724138259888, 0.3656075596809387, 0.37937232851982117, 0.47892501950263977, 0.39910417795181274, 0.48007825016975403, 0.6672725081443787, 0.9438201785087585, 0.3885008692741394, 0.3708195686340332, 0.5562293529510498, 0.9074604511260986, 0.5389590859413147, 0.37142235040664673, 0.35372263193130493, 0.6178666949272156, 0.8973937630653381, 0.3537161350250244, 0.8902860283851624, 0.4228511452674866, 0.6178666949272156, 0.6776568293571472, 0.1694142073392868, 0.7435418963432312, 0.6178666949272156, 0.8388776183128357, 0.6864692568778992, 0.594215989112854, 0.11427230387926102, 0.1828356832265854, 0.0914178416132927, 0.7433387041091919, 0.7121017575263977, 0.2136305272579193, 0.8697384595870972, 0.3621256947517395, 0.26506081223487854, 0.5301216244697571, 0.520147442817688, 0.9214999675750732, 0.37142056226730347, 0.5426386594772339, 0.8796263337135315, 0.08251766115427017, 0.1375294327735901, 0.1375294327735901, 0.5776236057281494, 0.8654682636260986, 0.10818353295326233, 0.9835747480392456, 0.5617485642433167, 0.6864692568778992, 0.4480351507663727, 0.3711007833480835, 0.9741369485855103, 0.8666756749153137, 0.6852891445159912, 0.8150638937950134, 0.3599092960357666, 0.4175233244895935, 0.909533679485321, 0.29320764541625977, 0.29320764541625977, 0.6062179207801819, 0.7150486707687378, 0.6864692568778992, 0.6864692568778992, 0.7267608046531677, 0.15573446452617645, 0.6546637415885925, 0.6197656393051147, 0.3718593716621399, 0.9083309769630432, 0.3537161350250244, 0.5982800126075745, 0.6160857677459717, 0.30804288387298584, 0.6557884216308594, 0.8042796850204468, 0.887509822845459, 0.38745489716529846, 0.6178666949272156, 0.9316032528877258, 0.03881680220365524, 0.9523314237594604, 0.618586003780365, 0.9497708082199097, 0.042686328291893005, 0.9276001453399658, 0.934765100479126, 0.8058658838272095, 0.7885226011276245, 0.10252158343791962, 0.8787564635276794, 0.4228535294532776, 0.36560752987861633, 0.38745489716529846, 0.8781731724739075, 0.8398875594139099, 0.09332083910703659, 0.618586003780365, 0.3711022138595581, 0.6557883024215698, 0.35990622639656067, 0.19790871441364288, 0.6596957445144653, 0.1319391429424286, 0.6168631911277771, 0.7591785192489624, 0.8513264656066895, 0.8142979741096497, 0.35990622639656067, 0.5723527073860168, 0.8617262244224548, 0.20379437506198883, 0.20379437506198883, 0.40758875012397766, 0.6836115121841431, 0.47160372138023376, 0.23580186069011688, 0.889768660068512, 0.7399676442146301, 0.1479935199022293, 0.7313966155052185, 0.6557830572128296, 0.6978480219841003, 0.13956959545612335, 0.35993900895118713, 0.7963324785232544, 0.7998539805412292, 0.6178644895553589, 0.520147442817688, 0.6453930735588074, 0.781563937664032, 0.8504612445831299, 0.4450359344482422, 0.4675609767436981, 0.37142056226730347, 0.8695451021194458, 0.8820392489433289, 0.055127453058958054, 0.37069907784461975, 0.5189787149429321, 0.9709972143173218, 0.8621323704719543, 0.894256055355072, 0.8556132316589355, 0.6558102369308472, 0.9035744071006775, 0.46761393547058105, 0.35484346747398376, 0.42581215500831604, 0.14193738996982574, 0.6104695796966553, 0.30523478984832764, 0.6625632643699646, 0.49117958545684814, 0.47298774123191833, 0.6864692568778992, 0.9397435784339905, 0.618586003780365, 0.553473174571991, 0.08997143805027008, 0.8997144103050232, 0.38745611906051636, 0.6186292171478271, 0.3711007833480835, 0.7393907904624939, 0.1643090695142746, 0.655781626701355, 0.7626174092292786, 0.7104231715202332, 0.9146339893341064, 0.8311485052108765, 0.10527150332927704, 0.7369005680084229, 0.5426620841026306, 0.4228511452674866, 0.9346839189529419, 0.618586003780365, 0.6557883620262146, 0.4480351507663727, 0.642913281917572, 0.6186292171478271, 0.6396520137786865, 0.8005864024162292, 0.8621643781661987, 0.690092921257019, 0.2029685080051422, 0.081187404692173, 0.7077766060829163, 0.37937232851982117, 0.8515152335166931, 0.6463547348976135, 0.16158868372440338, 0.959437370300293, 0.05349956825375557, 0.10699913650751114, 0.8203267455101013, 0.9732884168624878, 0.6855828762054443, 0.9095200300216675, 0.3866299092769623, 0.48328739404678345, 0.253594309091568, 0.7269703149795532, 0.8086473345756531, 0.6435521841049194, 0.3599083423614502, 0.7640774250030518, 0.4560149908065796, 0.6453550457954407, 0.6178666949272156, 0.9181687235832214, 0.8085302114486694, 0.4177704453468323, 0.37110674381256104, 0.3621256947517395, 0.63722163438797, 0.874910295009613, 0.7755469679832458, 0.6120956540107727, 0.20403188467025757, 0.642913281917572, 0.8140495419502258, 0.8844683766365051, 0.6624141335487366, 0.317890465259552, 0.317890465259552, 0.8926572203636169, 0.9701700806617737, 0.7605981230735779, 0.7971357703208923, 0.3895479142665863, 0.553473174571991, 0.6557830572128296, 0.9893911480903625, 0.6197517514228821, 0.8038887977600098, 0.13398146629333496, 0.37459808588027954, 0.49946412444114685, 0.6864692568778992, 0.7834975719451904, 0.8066179752349854, 0.12099269032478333, 0.9338606595993042, 0.9639328718185425, 0.34005358815193176, 0.4534047842025757, 0.45600396394729614], \"Term\": [\"accesorio\", \"accesorio\", \"accionamiento\", \"activar\", \"activo\", \"actualizar\", \"adhesivo\", \"adir\", \"advantage\", \"aguar\", \"ajustar\", \"ajustar\", \"alarmar\", \"alimentacion\", \"alto\", \"app\", \"asistir\", \"atender\", \"automatico\", \"avezar\", \"bien\", \"bloquear\", \"bloquear\", \"boca\", \"boca\", \"boca\", \"bodega\", \"bodega\", \"bodega\", \"bombo\", \"bombo\", \"borrar\", \"boto\", \"breakawa\", \"breakawat\", \"breakaway\", \"breakaways\", \"breakway\", \"breckawey\", \"brevedad\", \"brevedad\", \"bueno\", \"cabezal\", \"cabezal\", \"cable\", \"cable\", \"caida\", \"caido\", \"caido\", \"calibracion\", \"calibracion\", \"calibrar\", \"calibrar\", \"calzar\", \"camara\", \"camara\", \"camaras\", \"cambiar\", \"cambiar\", \"cambiar\", \"cammbio\", \"canerias\", \"cano\", \"cap\\u00edtulo\", \"cargar\", \"cebar\", \"centrifugar\", \"cerrar\", \"cerrar\", \"check\", \"cheque\", \"chequeo\", \"cliente\", \"codigo\", \"codo\", \"colocar\", \"comentar\", \"comentar\", \"compania\", \"completar\", \"comportamiento\", \"conbezzel\", \"concurrio\", \"condicion\", \"coneccion\", \"coneccion\", \"confinar\", \"conjuntar\", \"contactar\", \"contacto\", \"contaminar\", \"contar\", \"contar\", \"contenedor\", \"contratista\", \"convencional\", \"converso\", \"coordinar\", \"coordinar\", \"corresponder\", \"corrrecto\", \"cortar\", \"cortar\", \"cortar\", \"cto\", \"danada\", \"danado\", \"dar\", \"dar\", \"deber\", \"definitivamente\", \"dejar\", \"dejar\", \"demas\", \"demorar\", \"dentro\", \"derivar\", \"derramar\", \"desavilitada\", \"descargar\", \"descargar\", \"descartar\", \"descebar\", \"desconectar\", \"desconectar\", \"describir\", \"desgastar\", \"despegar\", \"detdctando\", \"detectandose\", \"detectar\", \"detectar\", \"detector\", \"detector\", \"deteriorar\", \"deteriorar\", \"diesel\", \"diesel\", \"diesel\", \"diesel\", \"diesel\", \"diesel\", \"diesel\", \"diferencial\", \"directo\", \"disp\", \"disp\", \"dispensador\", \"dispensador\", \"dispensador\", \"dispensador\", \"dispensador\", \"dispensador\", \"dispensador\", \"dispenzador\", \"display\", \"displey\", \"doblar\", \"don\", \"duplicar\", \"durar\", \"eds\", \"eds\", \"eess\", \"efecto\", \"efectua\", \"efectuar\", \"electrica\", \"electrica\", \"electrica\", \"electrico\", \"electricos\", \"elementar\", \"eliminar\", \"emergencia\", \"emitir\", \"empresa\", \"encargar\", \"encontrar\", \"enconttarse\", \"encore\", \"encore\", \"enex\", \"entregar\", \"equipo\", \"espaciar\", \"esperar\", \"esporadicamente\", \"est\", \"establecer\", \"estancar\", \"estancar\", \"estanque\", \"estanque\", \"expendio\", \"fallo\", \"favor\", \"fijacion\", \"fijo\", \"filtracion\", \"filtraci\\u00f3n\", \"filtrar\", \"filtro\", \"firmar\", \"firmar\", \"firmar\", \"flexible\", \"flujo\", \"forzar\", \"foto\", \"fotografica\", \"frecuencia\", \"fugar\", \"fugar\", \"funciinamiento\", \"funcional\", \"funcionamiento\", \"funcionar\", \"fundir\", \"gas\", \"gas\", \"gatillo\", \"gilbarco\", \"giratorio\", \"gun\", \"hacer\", \"hacer\", \"hora\", \"hose\", \"hose\", \"identificacion\", \"igem\", \"iluminacion\", \"incidencia\", \"inferior\", \"informar\", \"informar\", \"infrarrojo\", \"instalar\", \"instalar\", \"intercambiar\", \"interior\", \"interior\", \"internet\", \"interno\", \"isla\", \"isla\", \"isla\", \"jacket\", \"jefatura\", \"kerosene\", \"kerosene\", \"kerosene\", \"kerosenne\", \"kerosenne\", \"lado\", \"lado\", \"lado\", \"lento\", \"levantar\", \"limea\", \"limpiar\", \"limpieza\", \"limpio\", \"linear\", \"linear\", \"linear\", \"linear\", \"llamar\", \"llamar\", \"llenar\", \"lubricacion\", \"mal\", \"malo\", \"mananas\", \"manguera\", \"manguera\", \"manometro\", \"mantencion\", \"mantencion\", \"mantener\", \"mantener\", \"mantener\", \"mantenia\", \"mantenimiento\", \"maquinar\", \"mas\", \"mascar\", \"masec\", \"master\", \"master\", \"mateeial\", \"mategial\", \"matraz\", \"mda\", \"medidor\", \"medidor\", \"medir\", \"menor\", \"minuto\", \"mometno\", \"monitorea\", \"monitorean\", \"mostrar\", \"motor\", \"movilsolicitado\", \"movimiento\", \"mp\", \"mp\", \"mts\", \"necesario\", \"nodo\", \"norma\", \"normal\", \"normal\", \"normal\", \"normal\", \"normalizar\", \"normalmente\", \"normalmente\", \"nuevo\", \"nutricion\", \"observacion\", \"observacion\", \"observandose\", \"octuple\", \"octuples\", \"ocurrir\", \"ods\", \"operar\", \"operar\", \"operar\", \"operar\", \"operativo\", \"operativo\", \"opw\", \"orden\", \"orings\", \"ortirak\", \"orueba\", \"ot\", \"palanca\", \"parametros\", \"partir\", \"pegamento\", \"pegar\", \"pendiente\", \"perdido\", \"perdido\", \"permitir\", \"personal\", \"pie\", \"pieboca\", \"pintar\", \"pintar\", \"pintura\", \"pistola\", \"pistola\", \"placa\", \"plca\", \"poseer\", \"posible\", \"posible\", \"potenciar\", \"ppu\", \"precio\", \"preisonado\", \"presentandose\", \"preset\", \"preset\", \"presion\", \"prevencionista\", \"preventivo\", \"preventivo\", \"probar\", \"problema\", \"problsma\", \"procesar\", \"producto\", \"producto\", \"programacion\", \"protector\", \"protura\", \"proxima\", \"quebrar\", \"quebrar\", \"quedar\", \"quwdando\", \"ralizan\", \"real\", \"realizar\", \"realizar\", \"realizar\", \"reapreta\", \"reaprieta\", \"reapriete\", \"rearmar\", \"recibio\", \"recirculacion\", \"recirculan\", \"recirculando\", \"recirculando\", \"recirculando\", \"reclamar\", \"reclamo\", \"reclamo\", \"reco\", \"reconecta\", \"reconecta\", \"reconectable\", \"reconectado\", \"reconecto\", \"reconecto\", \"recvap\", \"red\", \"registrar\", \"regular\", \"regularizacion\", \"reinicia\", \"reinstalacion\", \"reinstalar\", \"reintalan\", \"rellema\", \"remoto\", \"remplazar\", \"reparacion\", \"reparacion\", \"reparar\", \"reparar\", \"reponer\", \"reposar\", \"reprograma\", \"reprogramacion\", \"reprograman\", \"repuesto\", \"requerimiento\", \"reset\", \"reset\", \"reset\", \"retirar\", \"retirar\", \"retornar\", \"revison\", \"revison\", \"revizar\", \"revoluci\\u00f3n\", \"riesgo\", \"root\", \"rotar\", \"rotar\", \"roturar\", \"rozar\", \"ruido\", \"sacar\", \"sacar\", \"seco\", \"segmento\", \"seguir\", \"sellar\", \"servicentro\", \"servicio\", \"servicio\", \"sgs\", \"silicita\", \"sistema\", \"slas\", \"sobreconsumo\", \"sol\", \"soldadura\", \"soler\", \"solicitar\", \"soltar\", \"solucionar\", \"spill\", \"spill\", \"spill\", \"stock\", \"subsanar\", \"suelto\", \"superior\", \"superior\", \"surt\", \"surtidor\", \"surtidor\", \"surtidor\", \"swivel\", \"swivels\", \"tablero\", \"tambor\", \"tambor\", \"tapar\", \"tapar\", \"tarjeta\", \"tdf\", \"teapreta\", \"tecnica\", \"teeminal\", \"tener\", \"tenia\", \"terminal\", \"tiempo\", \"tirarlo\", \"tiron\", \"tolerancia\", \"tomar\", \"totalizador\", \"trabajar\", \"trabajo\", \"trabajo\", \"transformador\", \"turbinar\", \"union\", \"uni\\u00f3n\", \"usar\", \"usar\", \"utilizar\", \"valvula\", \"valvulas\", \"vaporar\", \"variador\", \"veeder\", \"vender\", \"venta\", \"ver\", \"verificacion\", \"verificacion\", \"verificar\", \"verificar\", \"vertical\", \"volumen\", \"volumetrica\", \"volumetrica\", \"whipe\", \"wipe\", \"wipehose\", \"wipehose\", \"ys\"]}, \"R\": 30, \"lambda.step\": 0.01, \"plot.opts\": {\"xlab\": \"PC1\", \"ylab\": \"PC2\"}, \"topic.order\": [20, 5, 19, 11, 1, 10, 14, 9, 3, 7, 4, 2, 12, 16, 17, 13, 15, 8, 6, 18]};\n",
       "\n",
       "function LDAvis_load_lib(url, callback){\n",
       "  var s = document.createElement('script');\n",
       "  s.src = url;\n",
       "  s.async = true;\n",
       "  s.onreadystatechange = s.onload = callback;\n",
       "  s.onerror = function(){console.warn(\"failed to load library \" + url);};\n",
       "  document.getElementsByTagName(\"head\")[0].appendChild(s);\n",
       "}\n",
       "\n",
       "if(typeof(LDAvis) !== \"undefined\"){\n",
       "   // already loaded: just create the visualization\n",
       "   !function(LDAvis){\n",
       "       new LDAvis(\"#\" + \"ldavis_el1187617315874092245050282935\", ldavis_el1187617315874092245050282935_data);\n",
       "   }(LDAvis);\n",
       "}else if(typeof define === \"function\" && define.amd){\n",
       "   // require.js is available: use it to load d3/LDAvis\n",
       "   require.config({paths: {d3: \"https://cdnjs.cloudflare.com/ajax/libs/d3/3.5.5/d3.min\"}});\n",
       "   require([\"d3\"], function(d3){\n",
       "      window.d3 = d3;\n",
       "      LDAvis_load_lib(\"https://cdn.rawgit.com/bmabey/pyLDAvis/files/ldavis.v1.0.0.js\", function(){\n",
       "        new LDAvis(\"#\" + \"ldavis_el1187617315874092245050282935\", ldavis_el1187617315874092245050282935_data);\n",
       "      });\n",
       "    });\n",
       "}else{\n",
       "    // require.js not available: dynamically load d3 & LDAvis\n",
       "    LDAvis_load_lib(\"https://cdnjs.cloudflare.com/ajax/libs/d3/3.5.5/d3.min.js\", function(){\n",
       "         LDAvis_load_lib(\"https://cdn.rawgit.com/bmabey/pyLDAvis/files/ldavis.v1.0.0.js\", function(){\n",
       "                 new LDAvis(\"#\" + \"ldavis_el1187617315874092245050282935\", ldavis_el1187617315874092245050282935_data);\n",
       "            })\n",
       "         });\n",
       "}\n",
       "</script>"
      ],
      "text/plain": [
       "PreparedData(topic_coordinates=              x         y  topics  cluster       Freq\n",
       "topic                                                \n",
       "19     0.182912  0.271532       1        1  14.903343\n",
       "4      0.073075  0.084842       2        1  10.044717\n",
       "18     0.218657 -0.306361       3        1   9.708912\n",
       "10     0.325202 -0.047664       4        1   8.885896\n",
       "0      0.071558  0.014897       5        1   8.839534\n",
       "9      0.121520  0.097051       6        1   7.350589\n",
       "13    -0.066896  0.039175       7        1   5.222049\n",
       "8     -0.069199  0.022807       8        1   4.080499\n",
       "2     -0.002271  0.147518       9        1   3.959733\n",
       "6     -0.024605 -0.016717      10        1   3.772802\n",
       "3     -0.047643 -0.027622      11        1   3.465781\n",
       "1     -0.054422 -0.048168      12        1   3.384483\n",
       "11    -0.036344  0.023219      13        1   3.288454\n",
       "15    -0.119641 -0.021190      14        1   3.020573\n",
       "16    -0.021401 -0.150613      15        1   2.701586\n",
       "12    -0.113729 -0.021966      16        1   2.496868\n",
       "14    -0.108510 -0.010091      17        1   2.026376\n",
       "7     -0.101924 -0.028399      18        1   1.440121\n",
       "5     -0.116550 -0.015142      19        1   0.997285\n",
       "17    -0.109789 -0.007109      20        1   0.410405, topic_info=          Term       Freq       Total Category  logprob  loglift\n",
       "37        disp  261.00000  261.000000  Default  30.0000  30.0000\n",
       "22     pistola  225.00000  225.000000  Default  29.0000  29.0000\n",
       "32       venta   92.00000   92.000000  Default  28.0000  28.0000\n",
       "67         gas  156.00000  156.000000  Default  27.0000  27.0000\n",
       "28     cliente   61.00000   61.000000  Default  26.0000  26.0000\n",
       "..         ...        ...         ...      ...      ...      ...\n",
       "283    reposar    0.02532    8.119403  Topic20  -6.9629  -0.2746\n",
       "282    regular    0.02532    3.236956  Topic20  -6.9629   0.6450\n",
       "281    presion    0.02532   26.251366  Topic20  -6.9629  -1.4481\n",
       "280  funcional    0.02532   18.835588  Topic20  -6.9629  -1.1161\n",
       "279  elementar    0.02532   21.276781  Topic20  -6.9629  -1.2380\n",
       "\n",
       "[737 rows x 6 columns], token_table=      Topic      Freq           Term\n",
       "term                                \n",
       "98        1  0.307674      accesorio\n",
       "98        2  0.668856      accesorio\n",
       "423      18  0.845093  accionamiento\n",
       "56        4  0.763439        activar\n",
       "114      15  0.543034         activo\n",
       "...     ...       ...            ...\n",
       "264       6  0.933861          whipe\n",
       "293       2  0.963933           wipe\n",
       "154       1  0.340054       wipehose\n",
       "154       4  0.453405       wipehose\n",
       "230       6  0.456004             ys\n",
       "\n",
       "[537 rows x 3 columns], R=30, lambda_step=0.01, plot_opts={'xlab': 'PC1', 'ylab': 'PC2'}, topic_order=[20, 5, 19, 11, 1, 10, 14, 9, 3, 7, 4, 2, 12, 16, 17, 13, 15, 8, 6, 18])"
      ]
     },
     "execution_count": 21,
     "metadata": {},
     "output_type": "execute_result"
    }
   ],
   "source": [
    "# Visualize the topics\n",
    "pyLDAvis.enable_notebook()\n",
    "vis = pyLDAvis.gensim.prepare(lda_model, corpus, id2word)\n",
    "vis"
   ]
  },
  {
   "cell_type": "markdown",
   "metadata": {},
   "source": [
    "### 11. Building LDA Mallet Model"
   ]
  },
  {
   "cell_type": "code",
   "execution_count": 22,
   "metadata": {},
   "outputs": [],
   "source": [
    "mallet_path = 'C:/Users/alexa/mallet-2.0.8/bin/mallet.bat' # update this path\n",
    "ldamallet = gensim.models.wrappers.LdaMallet(mallet_path, corpus=corpus, num_topics=20, id2word=id2word)"
   ]
  },
  {
   "cell_type": "code",
   "execution_count": 23,
   "metadata": {},
   "outputs": [
    {
     "name": "stdout",
     "output_type": "stream",
     "text": [
      "[(18,\n",
      "  [('mantencion', 0.09792284866468842),\n",
      "   ('preventivo', 0.09050445103857567),\n",
      "   ('spill', 0.07566765578635015),\n",
      "   ('boca', 0.07566765578635015),\n",
      "   ('equipo', 0.07270029673590504),\n",
      "   ('descargar', 0.0712166172106825),\n",
      "   ('matraz', 0.04451038575667656),\n",
      "   ('lado', 0.04451038575667656),\n",
      "   ('volumetrica', 0.04154302670623145),\n",
      "   ('calibrar', 0.04154302670623145)]),\n",
      " (14,\n",
      "  [('reponer', 0.13261648745519714),\n",
      "   ('medidor', 0.07526881720430108),\n",
      "   ('reparar', 0.06093189964157706),\n",
      "   ('sellar', 0.05017921146953405),\n",
      "   ('utilizar', 0.05017921146953405),\n",
      "   ('recirculan', 0.043010752688172046),\n",
      "   ('kit', 0.03942652329749104),\n",
      "   ('valvula', 0.035842293906810034),\n",
      "   ('whipe', 0.035842293906810034),\n",
      "   ('reapriete', 0.03225806451612903)]),\n",
      " (3,\n",
      "  [('cliente', 0.15510204081632653),\n",
      "   ('atender', 0.13877551020408163),\n",
      "   ('ot', 0.1346938775510204),\n",
      "   ('incidencia', 0.11020408163265306),\n",
      "   ('revison', 0.09387755102040816),\n",
      "   ('cerrar', 0.04897959183673469),\n",
      "   ('tablero', 0.04897959183673469),\n",
      "   ('detectandose', 0.04081632653061224),\n",
      "   ('colgante', 0.036734693877551024),\n",
      "   ('mts', 0.0163265306122449)]),\n",
      " (0,\n",
      "  [('gas', 0.21558441558441557),\n",
      "   ('presion', 0.05714285714285714),\n",
      "   ('linear', 0.05454545454545454),\n",
      "   ('elementar', 0.05194805194805195),\n",
      "   ('funcional', 0.046753246753246755),\n",
      "   ('bombo', 0.04155844155844156),\n",
      "   ('realizar', 0.03636363636363636),\n",
      "   ('lento', 0.025974025974025976),\n",
      "   ('brevedad', 0.023376623376623377),\n",
      "   ('interior', 0.02077922077922078)]),\n",
      " (1,\n",
      "  [('diesel', 0.20462046204620463),\n",
      "   ('aguar', 0.0924092409240924),\n",
      "   ('estancar', 0.07590759075907591),\n",
      "   ('calibrar', 0.04950495049504951),\n",
      "   ('coneccion', 0.0462046204620462),\n",
      "   ('camara', 0.039603960396039604),\n",
      "   ('retirar', 0.039603960396039604),\n",
      "   ('contar', 0.036303630363036306),\n",
      "   ('tambor', 0.033003300330033),\n",
      "   ('contaminar', 0.0297029702970297)]),\n",
      " (19,\n",
      "  [('encargar', 0.08870967741935484),\n",
      "   ('reparacion', 0.08064516129032258),\n",
      "   ('informar', 0.06854838709677419),\n",
      "   ('problema', 0.056451612903225805),\n",
      "   ('acudir', 0.04838709677419355),\n",
      "   ('mal', 0.04435483870967742),\n",
      "   ('recirculación', 0.04032258064516129),\n",
      "   ('ods', 0.036290322580645164),\n",
      "   ('emitir', 0.03225806451612903),\n",
      "   ('solucionar', 0.024193548387096774)]),\n",
      " (8,\n",
      "  [('manguera', 0.3453815261044177),\n",
      "   ('accesorio', 0.08835341365461848),\n",
      "   ('breackaway', 0.08032128514056225),\n",
      "   ('palanca', 0.04417670682730924),\n",
      "   ('portapistola', 0.04417670682730924),\n",
      "   ('suelto', 0.040160642570281124),\n",
      "   ('activacion', 0.028112449799196786),\n",
      "   ('boto', 0.024096385542168676),\n",
      "   ('filtracion', 0.020080321285140562),\n",
      "   ('unión', 0.020080321285140562)]),\n",
      " (17,\n",
      "  [('lado', 0.17757009345794392),\n",
      "   ('venta', 0.1526479750778816),\n",
      "   ('operar', 0.08722741433021806),\n",
      "   ('describir', 0.08099688473520249),\n",
      "   ('normalmente', 0.06853582554517133),\n",
      "   ('operativo', 0.056074766355140186),\n",
      "   ('monitorean', 0.04984423676012461),\n",
      "   ('octuple', 0.04984423676012461),\n",
      "   ('recirculando', 0.03115264797507788),\n",
      "   ('ajustar', 0.03115264797507788)]),\n",
      " (2,\n",
      "  [('cortar', 0.09876543209876543),\n",
      "   ('instalar', 0.06995884773662552),\n",
      "   ('breakway', 0.06584362139917696),\n",
      "   ('electrico', 0.05761316872427984),\n",
      "   ('reconecta', 0.04938271604938271),\n",
      "   ('breakaway', 0.04526748971193416),\n",
      "   ('mantener', 0.0411522633744856),\n",
      "   ('llamar', 0.03292181069958848),\n",
      "   ('ver', 0.024691358024691357),\n",
      "   ('reapreta', 0.024691358024691357)]),\n",
      " (7,\n",
      "  [('producto', 0.2),\n",
      "   ('detectar', 0.13134328358208955),\n",
      "   ('venta', 0.12238805970149254),\n",
      "   ('boca', 0.10149253731343283),\n",
      "   ('preset', 0.07761194029850746),\n",
      "   ('filtracion', 0.056716417910447764),\n",
      "   ('breakaways', 0.04776119402985075),\n",
      "   ('repuesto', 0.029850746268656716),\n",
      "   ('reinstalar', 0.026865671641791045),\n",
      "   ('reconecto', 0.023880597014925373)])]\n",
      "\n",
      "Coherence Score:  0.5517437820365569\n"
     ]
    }
   ],
   "source": [
    "# Show Topics\n",
    "pprint(ldamallet.show_topics(formatted=False))\n",
    "\n",
    "# Compute Coherence Score\n",
    "coherence_model_ldamallet = CoherenceModel(model=ldamallet, texts=texts, dictionary=id2word, coherence='c_v')\n",
    "coherence_ldamallet = coherence_model_ldamallet.get_coherence()\n",
    "print('\\nCoherence Score: ', coherence_ldamallet)"
   ]
  },
  {
   "cell_type": "markdown",
   "metadata": {},
   "source": [
    "### 12. Número óptimo de tópicos para LDA?"
   ]
  },
  {
   "cell_type": "code",
   "execution_count": 24,
   "metadata": {},
   "outputs": [],
   "source": [
    "def compute_coherence_values(dictionary, corpus, texts, limit, start=2, step=3):\n",
    "    \"\"\"\n",
    "    Compute c_v coherence for various number of topics\n",
    "\n",
    "    Parameters:\n",
    "    ----------\n",
    "    dictionary : Gensim dictionary\n",
    "    corpus : Gensim corpus\n",
    "    texts : List of input texts\n",
    "    limit : Max num of topics\n",
    "\n",
    "    Returns:\n",
    "    -------\n",
    "    model_list : List of LDA topic models\n",
    "    coherence_values : Coherence values corresponding to the LDA model with respective number of topics\n",
    "    \"\"\"\n",
    "    coherence_values = []\n",
    "    model_list = []\n",
    "    for num_topics in range(start, limit, step):\n",
    "        model = gensim.models.wrappers.LdaMallet(mallet_path, corpus=corpus, num_topics=num_topics, id2word=id2word)\n",
    "        model_list.append(model)\n",
    "        coherencemodel = CoherenceModel(model=model, texts=texts, dictionary=dictionary, coherence='c_v')\n",
    "        coherence_values.append(coherencemodel.get_coherence())\n",
    "\n",
    "    return model_list, coherence_values"
   ]
  },
  {
   "cell_type": "code",
   "execution_count": 25,
   "metadata": {},
   "outputs": [
    {
     "name": "stdout",
     "output_type": "stream",
     "text": [
      "Wall time: 4min 19s\n"
     ]
    }
   ],
   "source": [
    "%%time\n",
    "\n",
    "# Can take a long time to run.\n",
    "model_list, coherence_values = compute_coherence_values(dictionary=id2word, corpus=corpus, texts=texts, start=2, limit=30, step=4)"
   ]
  },
  {
   "cell_type": "code",
   "execution_count": 26,
   "metadata": {},
   "outputs": [
    {
     "data": {
      "image/png": "[encoded data removed]",
      "text/plain": [
       "<Figure size 432x288 with 1 Axes>"
      ]
     },
     "metadata": {
      "needs_background": "light"
     },
     "output_type": "display_data"
    }
   ],
   "source": [
    "# Show graph\n",
    "limit=30; start=2; step=4;\n",
    "x = range(start, limit, step)\n",
    "plt.plot(x, coherence_values)\n",
    "plt.xlabel(\"Num Topics\")\n",
    "plt.ylabel(\"Coherence score\")\n",
    "plt.legend((\"coherence_values\"), loc='best')\n",
    "plt.show()"
   ]
  },
  {
   "cell_type": "code",
   "execution_count": 27,
   "metadata": {},
   "outputs": [
    {
     "name": "stdout",
     "output_type": "stream",
     "text": [
      "Num Topics = 2  has Coherence Value of 0.5216\n",
      "Num Topics = 6  has Coherence Value of 0.478\n",
      "Num Topics = 10  has Coherence Value of 0.4965\n",
      "Num Topics = 14  has Coherence Value of 0.5231\n",
      "Num Topics = 18  has Coherence Value of 0.5241\n",
      "Num Topics = 22  has Coherence Value of 0.5842\n",
      "Num Topics = 26  has Coherence Value of 0.5668\n"
     ]
    }
   ],
   "source": [
    "for m, cv in zip(x, coherence_values):\n",
    "    print(\"Num Topics =\", m, \" has Coherence Value of\", round(cv, 4))"
   ]
  },
  {
   "cell_type": "code",
   "execution_count": 28,
   "metadata": {
    "scrolled": true
   },
   "outputs": [
    {
     "name": "stdout",
     "output_type": "stream",
     "text": [
      "[(0,\n",
      "  '0.137*\"producto\" + 0.094*\"dispensador\" + 0.092*\"venta\" + 0.090*\"detectar\" + '\n",
      "  '0.074*\"boca\" + 0.059*\"manguera\" + 0.055*\"rotar\" + 0.053*\"preset\" + '\n",
      "  '0.047*\"filtracion\" + 0.037*\"utilizar\"'),\n",
      " (1,\n",
      "  '0.255*\"pistola\" + 0.122*\"opw\" + 0.106*\"manguera\" + 0.068*\"breckawey\" + '\n",
      "  '0.050*\"hose\" + 0.047*\"conv\" + 0.043*\"swivel\" + 0.040*\"rvopw\" + 0.032*\"wipe\" '\n",
      "  '+ 0.029*\"reco\"'),\n",
      " (2,\n",
      "  '0.111*\"dispensador\" + 0.098*\"valvula\" + 0.088*\"encore\" + 0.060*\"cambiar\" + '\n",
      "  '0.058*\"filtrar\" + 0.050*\"filtro\" + 0.040*\"alto\" + 0.035*\"pendiente\" + '\n",
      "  '0.035*\"proporcional\" + 0.023*\"reprograma\"'),\n",
      " (3,\n",
      "  '0.068*\"eds\" + 0.057*\"breackaway\" + 0.054*\"reparacion\" + 0.046*\"informar\" + '\n",
      "  '0.033*\"sacar\" + 0.033*\"mal\" + 0.030*\"breakaway\" + 0.030*\"portapistola\" + '\n",
      "  '0.027*\"est\" + 0.024*\"detectandose\"'),\n",
      " (4,\n",
      "  '0.075*\"diesel\" + 0.060*\"aguar\" + 0.054*\"revolución\" + 0.049*\"estancar\" + '\n",
      "  '0.039*\"dejar\" + 0.034*\"isla\" + 0.028*\"cabezal\" + 0.028*\"mp\" + '\n",
      "  '0.026*\"camara\" + 0.026*\"retirar\"'),\n",
      " (5,\n",
      "  '0.094*\"venta\" + 0.087*\"lado\" + 0.081*\"cliente\" + 0.079*\"operar\" + '\n",
      "  '0.057*\"describir\" + 0.050*\"dispensador\" + 0.048*\"normalmente\" + '\n",
      "  '0.037*\"normal\" + 0.035*\"diesel\" + 0.035*\"monitorean\"'),\n",
      " (6,\n",
      "  '0.098*\"mantencion\" + 0.068*\"surt\" + 0.062*\"revison\" + 0.060*\"kerosene\" + '\n",
      "  '0.057*\"calibrar\" + 0.046*\"motor\" + 0.041*\"estanque\" + 0.035*\"limpieza\" + '\n",
      "  '0.024*\"reinstalar\" + 0.022*\"deteriorar\"'),\n",
      " (7,\n",
      "  '0.139*\"gas\" + 0.049*\"medidor\" + 0.049*\"presion\" + 0.046*\"linear\" + '\n",
      "  '0.044*\"elementar\" + 0.040*\"funcional\" + 0.033*\"normal\" + 0.033*\"bombo\" + '\n",
      "  '0.031*\"realizar\" + 0.029*\"cerrar\"'),\n",
      " (8,\n",
      "  '0.090*\"preventivo\" + 0.076*\"boca\" + 0.075*\"equipo\" + 0.068*\"spill\" + '\n",
      "  '0.067*\"descargar\" + 0.064*\"lado\" + 0.057*\"operativo\" + 0.050*\"accesorio\" + '\n",
      "  '0.044*\"interior\" + 0.042*\"matraz\"'),\n",
      " (9,\n",
      "  '0.100*\"dispensador\" + 0.050*\"cortar\" + 0.048*\"sistema\" + 0.038*\"reset\" + '\n",
      "  '0.036*\"breakway\" + 0.032*\"master\" + 0.032*\"electrico\" + 0.029*\"tablero\" + '\n",
      "  '0.023*\"electronica\" + 0.023*\"reprogramacion\"'),\n",
      " (10,\n",
      "  '0.134*\"tapar\" + 0.085*\"reponer\" + 0.076*\"ot\" + 0.074*\"atender\" + '\n",
      "  '0.065*\"bodega\" + 0.062*\"incidencia\" + 0.046*\"quebrar\" + 0.039*\"reparar\" + '\n",
      "  '0.030*\"sellar\" + 0.028*\"wipehose\"'),\n",
      " (11,\n",
      "  '0.138*\"fugar\" + 0.120*\"detector\" + 0.099*\"gas\" + 0.089*\"psi\" + '\n",
      "  '0.041*\"operacion\" + 0.039*\"tk\" + 0.037*\"check\" + 0.034*\"mantener\" + '\n",
      "  '0.034*\"instalar\" + 0.032*\"detencion\"'),\n",
      " (12,\n",
      "  '0.193*\"surtidor\" + 0.051*\"placa\" + 0.045*\"display\" + 0.045*\"terminal\" + '\n",
      "  '0.043*\"kerosenne\" + 0.043*\"displey\" + 0.037*\"precio\" + 0.027*\"volumen\" + '\n",
      "  '0.027*\"suelto\" + 0.024*\"reapriete\"'),\n",
      " (13,\n",
      "  '0.499*\"disp\" + 0.045*\"encargar\" + 0.028*\"problema\" + 0.028*\"proxima\" + '\n",
      "  '0.026*\"coordinar\" + 0.024*\"fundir\" + 0.024*\"acudir\" + 0.022*\"palanca\" + '\n",
      "  '0.020*\"chequeo\" + 0.020*\"reinstalacion\"')]\n"
     ]
    }
   ],
   "source": [
    "# Select the model and print the topics\n",
    "optimal_model = model_list[3]\n",
    "model_topics = optimal_model.show_topics(formatted=False)\n",
    "pprint(optimal_model.print_topics(num_words=10))"
   ]
  },
  {
   "cell_type": "code",
   "execution_count": null,
   "metadata": {},
   "outputs": [],
   "source": [
    "# Lda Mallet a PyLDAvis\n",
    "ldamallet = gensim.models.wrappers.LdaMallet(mallet_path, corpus=corpus, num_topics=14, id2word=id2word)\n",
    "LDA_mallet_model = gensim.models.wrappers.ldamallet.malletmodel2ldamodel(ldamallet)"
   ]
  },
  {
   "cell_type": "code",
   "execution_count": 38,
   "metadata": {},
   "outputs": [
    {
     "name": "stderr",
     "output_type": "stream",
     "text": [
      "C:\\Users\\alexa\\anaconda3\\lib\\site-packages\\pyLDAvis\\_prepare.py:223: RuntimeWarning: divide by zero encountered in log\n",
      "  kernel = (topic_given_term * np.log((topic_given_term.T / topic_proportion).T))\n",
      "C:\\Users\\alexa\\anaconda3\\lib\\site-packages\\pyLDAvis\\_prepare.py:240: RuntimeWarning: divide by zero encountered in log\n",
      "  log_lift = np.log(topic_term_dists / term_proportion)\n",
      "C:\\Users\\alexa\\anaconda3\\lib\\site-packages\\pyLDAvis\\_prepare.py:241: RuntimeWarning: divide by zero encountered in log\n",
      "  log_ttd = np.log(topic_term_dists)\n"
     ]
    },
    {
     "data": {
      "text/html": [
       "\n",
       "<link rel=\"stylesheet\" type=\"text/css\" href=\"https://cdn.rawgit.com/bmabey/pyLDAvis/files/ldavis.v1.0.0.css\">\n",
       "\n",
       "\n",
       "<div id=\"ldavis_el811615754349923289162885360\"></div>\n",
       "<script type=\"text/javascript\">\n",
       "\n",
       "var ldavis_el811615754349923289162885360_data = {\"mdsDat\": {\"x\": [0.2602011910035138, -0.2964574643482722, -0.04591167180462572, 0.15750380277692264, 0.13685701158488886, -0.2121928692124277], \"y\": [0.28945033593228053, 0.16071679918263349, -0.2856901968499901, 0.0036661695535419297, -0.22072016152615428, 0.05257705370768869], \"topics\": [1, 2, 3, 4, 5, 6], \"cluster\": [1, 1, 1, 1, 1, 1], \"Freq\": [18.631206538008744, 18.379346836216463, 17.022776712877207, 15.957432461620568, 15.360288994468693, 14.648948456808322]}, \"tinfo\": {\"Term\": [\"disp\", \"pistola\", \"gas\", \"dispensador\", \"venta\", \"lado\", \"fugar\", \"producto\", \"surtidor\", \"diesel\", \"opw\", \"boca\", \"detector\", \"mantencion\", \"preventivo\", \"manguera\", \"tapar\", \"equipo\", \"detectar\", \"spill\", \"psi\", \"accesorio\", \"descargar\", \"reponer\", \"normal\", \"encore\", \"calibrar\", \"atender\", \"operar\", \"operativo\", \"prheba\", \"dentro\", \"eliminar\", \"filtraci\\u00f3n\", \"rozar\", \"soler\", \"soltar\", \"sensor\", \"breakawa\", \"dar\", \"actualizar\", \"codigo\", \"display\", \"infrarrojo\", \"uma\", \"segmento\", \"seguir\", \"regularizacion\", \"cebar\", \"verificacion\", \"tiempo\", \"spill\", \"automarico\", \"lado\", \"operativo\", \"expendio\", \"kerosene\", \"kerosenne\", \"mantencion\", \"etaba\", \"surtidor\", \"preventivo\", \"tapar\", \"equipo\", \"accesorio\", \"descargar\", \"calibrar\", \"interior\", \"matraz\", \"volumetrica\", \"limpiar\", \"probar\", \"pintar\", \"calibracion\", \"estanque\", \"precio\", \"limpieza\", \"cano\", \"volumen\", \"ppu\", \"limpio\", \"maquinar\", \"boca\", \"desgastar\", \"gas\", \"realizar\", \"observacion\", \"presion\", \"check\", \"canerias\", \"mas\", \"hora\", \"observandose\", \"reposar\", \"comprar\", \"jacket\", \"funcional\", \"elementar\", \"comportamiento\", \"bombo\", \"problsma\", \"vertical\", \"flexible\", \"mananas\", \"posible\", \"perdido\", \"minuto\", \"converso\", \"rele\", \"solucionar\", \"fallo\", \"definitivamente\", \"laborar\", \"monitorea\", \"fugar\", \"detector\", \"psi\", \"describir\", \"normalmente\", \"linear\", \"operacion\", \"tk\", \"breakway\", \"detencion\", \"monitorean\", \"recirculan\", \"normalizacion\", \"recirculando\", \"oring\", \"instalacion\", \"firmar\", \"brevedad\", \"ajustar\", \"lento\", \"fepetro\", \"stpmldg\", \"operar\", \"octuple\", \"quebrar\", \"instalar\", \"valvula\", \"mantener\", \"electronica\", \"deber\", \"flujo\", \"sistema\", \"alimentacion\", \"est\", \"compania\", \"personal\", \"contaminar\", \"estancar\", \"coneccion\", \"reprogramacion\", \"master\", \"tambor\", \"electrico\", \"spin\", \"electrica\", \"vereda\", \"cabezal\", \"fondo\", \"mp\", \"contenedor\", \"administrador\", \"aguar\", \"partir\", \"slas\", \"mantendor\", \"tdf\", \"prevencionista\", \"enconttarse\", \"dejar\", \"reset\", \"isla\", \"diesel\", \"retirar\", \"camara\", \"breakaway\", \"hacer\", \"bloquear\", \"voltage\", \"servicio\", \"medir\", \"revoluci\\u00f3n\", \"eds\", \"contar\", \"dispensador\", \"acopiar\", \"succion\", \"intervenir\", \"petrolab\", \"assy\", \"mo\", \"despejar\", \"electric\", \"verde\", \"legasy\", \"rep\", \"despues\", \"conv\", \"faltante\", \"persistir\", \"acceso\", \"achapa\", \"proteccion\", \"termica\", \"dano\", \"marcar\", \"necesitar\", \"trancar\", \"autoopw\", \"recon\", \"calzar\", \"gun\", \"cto\", \"motor\", \"doblar\", \"disp\", \"pistola\", \"opw\", \"breckawey\", \"hose\", \"surt\", \"swivel\", \"rvopw\", \"wipe\", \"reco\", \"displey\", \"servicentro\", \"proxima\", \"problema\", \"acudir\", \"fundir\", \"sacar\", \"reinstalacion\", \"remplazar\", \"chequeo\", \"recirculaci\\u00f3n\", \"totalizador\", \"hp\", \"pba\", \"bco\", \"trifasico\", \"trabajar\", \"recirculacion\", \"coordinar\", \"encargar\", \"manguera\", \"whipe\", \"solisita\", \"pie\", \"funcionar\", \"operativau\", \"mts\", \"subsanar\", \"emergencia\", \"pieboca\", \"orings\", \"transformador\", \"llenar\", \"efectuar\", \"utilizar\", \"repuesto\", \"gatillo\", \"malo\", \"igem\", \"reprograman\", \"rearmar\", \"uni\\u00f3n\", \"avezar\", \"durar\", \"encontrar\", \"ocurrir\", \"alarmar\", \"fijo\", \"insidencia\", \"octuples\", \"remarcar\", \"interno\", \"venta\", \"producto\", \"detectar\", \"rotar\", \"preset\", \"filtracion\", \"medidor\", \"reparar\", \"terminal\", \"breakaways\", \"sellar\", \"wipehose\", \"union\", \"portapistola\", \"kit\", \"suelto\", \"reinstalar\", \"reconecto\", \"wayne\", \"reconeccion\", \"superior\", \"cable\", \"danado\", \"stock\", \"bodega\", \"cliente\", \"dispensador\", \"manguera\", \"boca\", \"borrar\", \"reprograma\", \"normalizar\", \"kero\", \"falto\", \"portapistolas\", \"mal\", \"ods\", \"pendiente\", \"apoyar\", \"activacion\", \"solo\", \"galonage\", \"tarjeta\", \"revison\", \"atender\", \"proporcional\", \"boto\", \"filtrar\", \"na\", \"cap\\u00edtulo\", \"codo\", \"detectandose\", \"accionamiento\", \"reinicio\", \"fijacion\", \"breakawat\", \"reconectable\", \"nodo\", \"cambiar\", \"reponer\", \"encore\", \"ot\", \"incidencia\", \"cortar\", \"breackaway\", \"reparacion\", \"filtro\", \"placa\", \"informar\", \"alto\", \"cerrar\", \"palanca\", \"colgante\", \"reapriete\", \"llamar\", \"emitir\", \"normal\", \"valvula\", \"cliente\"], \"Freq\": [224.0, 132.0, 121.0, 168.0, 88.0, 82.0, 73.0, 66.0, 68.0, 67.0, 62.0, 88.0, 63.0, 62.0, 61.0, 83.0, 54.0, 51.0, 43.0, 48.0, 47.0, 46.0, 45.0, 37.0, 43.0, 35.0, 40.0, 34.0, 42.0, 38.0, 3.7896048493378887, 2.8422036370034167, 5.684407274006833, 15.158419397351555, 3.7896048493378887, 3.7896048493378887, 7.579209698675777, 1.8948024246689443, 1.8948024246689443, 3.7896048493378887, 3.7896048493378887, 2.8422036370034167, 16.105820609686027, 3.7896048493378887, 1.8948024246689443, 3.7896048493378887, 5.684407274006833, 0.9474012123344722, 2.8422036370034167, 24.632431520696276, 7.579209698675777, 48.317461829058075, 0.9474012123344722, 82.42390547309908, 38.843449705713354, 1.8948024246689443, 20.842826671358388, 15.158419397351555, 62.528480014075164, 0.9474012123344722, 68.212887288082, 61.58107880174069, 54.94927031539939, 51.1596654660615, 46.42265940438914, 45.47525819205467, 40.7382521303823, 30.31683879470311, 28.422036370034167, 26.52723394536522, 24.632431520696276, 22.737629096027334, 18.948024246689446, 18.948024246689446, 14.211018185017084, 13.26361697268261, 12.316215760348138, 9.474012123344723, 9.474012123344723, 7.579209698675777, 7.579209698675777, 7.579209698675777, 76.73949819909224, 7.579209698675777, 121.11259699307844, 15.139074624134805, 7.5695373120674025, 23.7899744093547, 19.46452451674475, 2.1627249463049725, 6.488174838914917, 6.488174838914917, 1.0813624731524862, 6.488174838914917, 1.0813624731524862, 4.325449892609945, 19.46452451674475, 21.627249463049726, 6.488174838914917, 17.30179957043978, 4.325449892609945, 2.1627249463049725, 2.1627249463049725, 2.1627249463049725, 6.488174838914917, 3.2440874194574585, 2.1627249463049725, 2.1627249463049725, 1.0813624731524862, 6.488174838914917, 4.325449892609945, 2.1627249463049725, 1.0813624731524862, 2.1627249463049725, 73.53264817436906, 63.800385915996685, 47.5799488187094, 28.11542430196464, 23.7899744093547, 22.70861193620221, 21.627249463049726, 20.545886989897237, 17.30179957043978, 17.30179957043978, 17.30179957043978, 12.976349677829834, 12.976349677829834, 12.976349677829834, 11.89498720467735, 11.89498720467735, 10.813624731524863, 10.813624731524863, 10.813624731524863, 10.813624731524863, 8.65089978521989, 6.488174838914917, 41.091773979794475, 16.22043709728729, 19.46452451674475, 15.139074624134805, 27.034061828812156, 14.05771215098232, 10.74264098656794, 5.37132049328397, 13.965433282538324, 22.559546071792678, 9.668376887911148, 10.74264098656794, 5.37132049328397, 7.519848690597558, 9.668376887911148, 24.708074269106262, 15.039697381195117, 10.74264098656794, 15.039697381195117, 10.74264098656794, 15.039697381195117, 5.37132049328397, 7.519848690597558, 5.37132049328397, 13.965433282538324, 5.37132049328397, 13.965433282538324, 10.74264098656794, 9.668376887911148, 30.079394762390233, 10.74264098656794, 4.297056394627177, 1.0742640986567942, 3.2227922959703825, 4.297056394627177, 4.297056394627177, 20.41101787447909, 18.2624896771655, 17.188225578508707, 66.60437411672123, 12.89116918388153, 12.89116918388153, 11.816905085224736, 11.816905085224736, 8.594112789254353, 8.594112789254353, 8.594112789254353, 8.594112789254353, 25.78233836776306, 20.41101787447909, 10.74264098656794, 66.60437411672123, 0.9125131773447788, 1.8250263546895575, 1.8250263546895575, 1.8250263546895575, 3.650052709379115, 3.650052709379115, 3.650052709379115, 1.8250263546895575, 0.9125131773447788, 1.8250263546895575, 1.8250263546895575, 0.9125131773447788, 23.725342610964248, 3.650052709379115, 0.9125131773447788, 1.8250263546895575, 1.8250263546895575, 1.8250263546895575, 1.8250263546895575, 3.650052709379115, 3.650052709379115, 1.8250263546895575, 1.8250263546895575, 1.8250263546895575, 1.8250263546895575, 3.650052709379115, 1.8250263546895575, 1.8250263546895575, 15.512724014861238, 3.650052709379115, 224.4782416268156, 132.31441071499293, 62.05089605944495, 34.675500739101594, 25.550368965653806, 23.725342610964248, 21.90031625627469, 20.075289901585133, 16.42523719220602, 14.60021083751646, 14.60021083751646, 13.68769766017168, 12.775184482826903, 12.775184482826903, 10.950158128137344, 10.950158128137344, 10.950158128137344, 9.125131773447787, 9.125131773447787, 9.125131773447787, 9.125131773447787, 7.30010541875823, 6.387592241413452, 5.475079064068672, 5.475079064068672, 5.475079064068672, 5.475079064068672, 4.562565886723894, 14.60021083751646, 16.42523719220602, 41.97560615785982, 7.30010541875823, 1.9769738194460351, 1.9769738194460351, 7.9078952777841405, 1.9769738194460351, 3.9539476388920702, 1.9769738194460351, 1.9769738194460351, 1.9769738194460351, 1.9769738194460351, 1.9769738194460351, 3.9539476388920702, 3.9539476388920702, 17.792764375014315, 11.861842916676212, 9.884869097230176, 15.815790555568281, 1.9769738194460351, 1.9769738194460351, 3.9539476388920702, 5.930921458338106, 1.9769738194460351, 1.9769738194460351, 3.9539476388920702, 3.9539476388920702, 0.9884869097230176, 3.9539476388920702, 1.9769738194460351, 1.9769738194460351, 1.9769738194460351, 1.9769738194460351, 88.96382187507159, 66.22862295144218, 43.49342402781277, 29.654607291690528, 25.700659652798457, 23.723685833352423, 21.746712013906386, 16.8042774652913, 16.8042774652913, 15.815790555568281, 13.838816736122247, 11.861842916676212, 10.873356006953193, 10.873356006953193, 10.873356006953193, 9.884869097230176, 8.896382187507157, 7.9078952777841405, 7.9078952777841405, 6.919408368061124, 5.930921458338106, 5.930921458338106, 5.930921458338106, 4.942434548615088, 25.700659652798457, 29.654607291690528, 101.81415170147082, 41.51645020836674, 11.861842916676212, 6.121570191662418, 9.182355287493627, 3.060785095831209, 3.060785095831209, 3.060785095831209, 3.060785095831209, 12.243140383324835, 9.182355287493627, 15.303925479156042, 5.101308493052015, 7.141831890272821, 6.121570191662418, 6.121570191662418, 6.121570191662418, 23.466019068039266, 34.688897752753704, 14.283663780545641, 6.121570191662418, 23.466019068039266, 3.060785095831209, 6.121570191662418, 6.121570191662418, 10.20261698610403, 5.101308493052015, 5.101308493052015, 6.121570191662418, 3.060785095831209, 5.101308493052015, 5.101308493052015, 29.587589259701687, 37.74968284858491, 35.7091594513641, 33.6686360541433, 27.54706586248088, 24.48628076664967, 21.425495670818464, 20.40523397220806, 20.40523397220806, 19.384972273597658, 17.344448876376852, 16.32418717776645, 14.283663780545641, 11.222878684714432, 9.182355287493627, 9.182355287493627, 8.162093588883225, 8.162093588883225, 38.769944547195315, 26.526804163870477, 8.162093588883225], \"Total\": [224.0, 132.0, 121.0, 168.0, 88.0, 82.0, 73.0, 66.0, 68.0, 67.0, 62.0, 88.0, 63.0, 62.0, 61.0, 83.0, 54.0, 51.0, 43.0, 48.0, 47.0, 46.0, 45.0, 37.0, 43.0, 35.0, 40.0, 34.0, 42.0, 38.0, 3.7896048493378887, 2.8422036370034167, 5.684407274006833, 15.158419397351555, 3.7896048493378887, 3.7896048493378887, 7.579209698675777, 1.8948024246689443, 1.8948024246689443, 3.7896048493378887, 3.7896048493378887, 2.8422036370034167, 16.105820609686027, 3.7896048493378887, 1.8948024246689443, 3.7896048493378887, 5.684407274006833, 0.9474012123344722, 2.8422036370034167, 24.632431520696276, 7.579209698675777, 48.317461829058075, 0.9474012123344722, 82.42390547309908, 38.843449705713354, 1.8948024246689443, 20.842826671358388, 15.158419397351555, 62.528480014075164, 0.9474012123344722, 68.212887288082, 61.58107880174069, 54.94927031539939, 51.1596654660615, 46.42265940438914, 45.47525819205467, 40.7382521303823, 30.31683879470311, 28.422036370034167, 26.52723394536522, 24.632431520696276, 22.737629096027334, 18.948024246689446, 18.948024246689446, 14.211018185017084, 13.26361697268261, 12.316215760348138, 9.474012123344723, 9.474012123344723, 7.579209698675777, 7.579209698675777, 7.579209698675777, 88.60134111576845, 7.579209698675777, 121.11259699307844, 15.139074624134805, 7.5695373120674025, 23.7899744093547, 19.46452451674475, 2.1627249463049725, 6.488174838914917, 6.488174838914917, 1.0813624731524862, 6.488174838914917, 1.0813624731524862, 4.325449892609945, 19.46452451674475, 21.627249463049726, 6.488174838914917, 17.30179957043978, 4.325449892609945, 2.1627249463049725, 2.1627249463049725, 2.1627249463049725, 6.488174838914917, 3.2440874194574585, 2.1627249463049725, 2.1627249463049725, 1.0813624731524862, 6.488174838914917, 4.325449892609945, 2.1627249463049725, 1.0813624731524862, 2.1627249463049725, 73.53264817436906, 63.800385915996685, 47.5799488187094, 28.11542430196464, 23.7899744093547, 22.70861193620221, 21.627249463049726, 20.545886989897237, 17.30179957043978, 17.30179957043978, 17.30179957043978, 12.976349677829834, 12.976349677829834, 12.976349677829834, 11.89498720467735, 11.89498720467735, 10.813624731524863, 10.813624731524863, 10.813624731524863, 10.813624731524863, 8.65089978521989, 6.488174838914917, 42.08026088951749, 17.294701195944086, 21.289550871434308, 18.361866920105186, 53.560865992682636, 18.01165978987439, 10.74264098656794, 5.37132049328397, 13.965433282538324, 22.559546071792678, 9.668376887911148, 10.74264098656794, 5.37132049328397, 7.519848690597558, 9.668376887911148, 24.708074269106262, 15.039697381195117, 10.74264098656794, 15.039697381195117, 10.74264098656794, 15.039697381195117, 5.37132049328397, 7.519848690597558, 5.37132049328397, 13.965433282538324, 5.37132049328397, 13.965433282538324, 10.74264098656794, 9.668376887911148, 30.079394762390233, 10.74264098656794, 4.297056394627177, 1.0742640986567942, 3.2227922959703825, 4.297056394627177, 4.297056394627177, 20.41101787447909, 18.2624896771655, 17.188225578508707, 67.68573658987371, 12.89116918388153, 12.89116918388153, 11.816905085224736, 11.816905085224736, 8.594112789254353, 8.594112789254353, 8.594112789254353, 8.594112789254353, 26.729739580097533, 27.980555186546493, 11.65515416391272, 168.41852581819205, 0.9125131773447788, 1.8250263546895575, 1.8250263546895575, 1.8250263546895575, 3.650052709379115, 3.650052709379115, 3.650052709379115, 1.8250263546895575, 0.9125131773447788, 1.8250263546895575, 1.8250263546895575, 0.9125131773447788, 23.725342610964248, 3.650052709379115, 0.9125131773447788, 1.8250263546895575, 1.8250263546895575, 1.8250263546895575, 1.8250263546895575, 3.650052709379115, 3.650052709379115, 1.8250263546895575, 1.8250263546895575, 1.8250263546895575, 1.8250263546895575, 3.650052709379115, 1.8250263546895575, 1.8250263546895575, 15.512724014861238, 3.650052709379115, 224.4782416268156, 132.31441071499293, 62.05089605944495, 34.675500739101594, 25.550368965653806, 23.725342610964248, 21.90031625627469, 20.075289901585133, 16.42523719220602, 14.60021083751646, 14.60021083751646, 13.68769766017168, 12.775184482826903, 12.775184482826903, 10.950158128137344, 10.950158128137344, 10.950158128137344, 9.125131773447787, 9.125131773447787, 9.125131773447787, 9.125131773447787, 7.30010541875823, 6.387592241413452, 5.475079064068672, 5.475079064068672, 5.475079064068672, 5.475079064068672, 4.562565886723894, 16.495013262185406, 20.50628398664763, 83.49205636622656, 9.340628815979036, 1.9769738194460351, 1.9769738194460351, 7.9078952777841405, 1.9769738194460351, 3.9539476388920702, 1.9769738194460351, 1.9769738194460351, 1.9769738194460351, 1.9769738194460351, 1.9769738194460351, 3.9539476388920702, 3.9539476388920702, 17.792764375014315, 11.861842916676212, 9.884869097230176, 15.815790555568281, 1.9769738194460351, 1.9769738194460351, 3.9539476388920702, 5.930921458338106, 1.9769738194460351, 1.9769738194460351, 3.9539476388920702, 3.9539476388920702, 0.9884869097230176, 3.9539476388920702, 1.9769738194460351, 1.9769738194460351, 1.9769738194460351, 1.9769738194460351, 88.96382187507159, 66.22862295144218, 43.49342402781277, 29.654607291690528, 25.700659652798457, 23.723685833352423, 21.746712013906386, 16.8042774652913, 16.8042774652913, 15.815790555568281, 13.838816736122247, 11.861842916676212, 10.873356006953193, 10.873356006953193, 10.873356006953193, 9.884869097230176, 8.896382187507157, 7.9078952777841405, 7.9078952777841405, 6.919408368061124, 5.930921458338106, 5.930921458338106, 5.930921458338106, 4.942434548615088, 27.595462077467403, 37.816700880573755, 168.41852581819205, 83.49205636622656, 88.60134111576845, 6.121570191662418, 9.182355287493627, 3.060785095831209, 3.060785095831209, 3.060785095831209, 3.060785095831209, 12.243140383324835, 9.182355287493627, 15.303925479156042, 5.101308493052015, 7.141831890272821, 6.121570191662418, 6.121570191662418, 6.121570191662418, 23.466019068039266, 34.688897752753704, 14.283663780545641, 6.121570191662418, 23.466019068039266, 3.060785095831209, 6.121570191662418, 6.121570191662418, 10.20261698610403, 5.101308493052015, 5.101308493052015, 6.121570191662418, 3.060785095831209, 5.101308493052015, 5.101308493052015, 29.587589259701687, 37.74968284858491, 35.7091594513641, 33.6686360541433, 27.54706586248088, 24.48628076664967, 21.425495670818464, 20.40523397220806, 20.40523397220806, 19.384972273597658, 17.344448876376852, 16.32418717776645, 14.283663780545641, 11.222878684714432, 9.182355287493627, 9.182355287493627, 8.162093588883225, 8.162093588883225, 43.06700094182249, 53.560865992682636, 37.816700880573755], \"Category\": [\"Default\", \"Default\", \"Default\", \"Default\", \"Default\", \"Default\", \"Default\", \"Default\", \"Default\", \"Default\", \"Default\", \"Default\", \"Default\", \"Default\", \"Default\", \"Default\", \"Default\", \"Default\", \"Default\", \"Default\", \"Default\", \"Default\", \"Default\", \"Default\", \"Default\", \"Default\", \"Default\", \"Default\", \"Default\", \"Default\", \"Topic1\", \"Topic1\", \"Topic1\", \"Topic1\", \"Topic1\", \"Topic1\", \"Topic1\", \"Topic1\", \"Topic1\", \"Topic1\", \"Topic1\", \"Topic1\", \"Topic1\", \"Topic1\", \"Topic1\", \"Topic1\", \"Topic1\", \"Topic1\", \"Topic1\", \"Topic1\", \"Topic1\", \"Topic1\", \"Topic1\", \"Topic1\", \"Topic1\", \"Topic1\", \"Topic1\", \"Topic1\", \"Topic1\", \"Topic1\", \"Topic1\", \"Topic1\", \"Topic1\", \"Topic1\", \"Topic1\", \"Topic1\", \"Topic1\", \"Topic1\", \"Topic1\", \"Topic1\", \"Topic1\", \"Topic1\", \"Topic1\", \"Topic1\", \"Topic1\", \"Topic1\", \"Topic1\", \"Topic1\", \"Topic1\", \"Topic1\", \"Topic1\", \"Topic1\", \"Topic1\", \"Topic1\", \"Topic2\", \"Topic2\", \"Topic2\", \"Topic2\", \"Topic2\", \"Topic2\", \"Topic2\", \"Topic2\", \"Topic2\", \"Topic2\", \"Topic2\", \"Topic2\", \"Topic2\", \"Topic2\", \"Topic2\", \"Topic2\", \"Topic2\", \"Topic2\", \"Topic2\", \"Topic2\", \"Topic2\", \"Topic2\", \"Topic2\", \"Topic2\", \"Topic2\", \"Topic2\", \"Topic2\", \"Topic2\", \"Topic2\", \"Topic2\", \"Topic2\", \"Topic2\", \"Topic2\", \"Topic2\", \"Topic2\", \"Topic2\", \"Topic2\", \"Topic2\", \"Topic2\", \"Topic2\", \"Topic2\", \"Topic2\", \"Topic2\", \"Topic2\", \"Topic2\", \"Topic2\", \"Topic2\", \"Topic2\", \"Topic2\", \"Topic2\", \"Topic2\", \"Topic2\", \"Topic2\", \"Topic2\", \"Topic2\", \"Topic2\", \"Topic2\", \"Topic2\", \"Topic3\", \"Topic3\", \"Topic3\", \"Topic3\", \"Topic3\", \"Topic3\", \"Topic3\", \"Topic3\", \"Topic3\", \"Topic3\", \"Topic3\", \"Topic3\", \"Topic3\", \"Topic3\", \"Topic3\", \"Topic3\", \"Topic3\", \"Topic3\", \"Topic3\", \"Topic3\", \"Topic3\", \"Topic3\", \"Topic3\", \"Topic3\", \"Topic3\", \"Topic3\", \"Topic3\", \"Topic3\", \"Topic3\", \"Topic3\", \"Topic3\", \"Topic3\", \"Topic3\", \"Topic3\", \"Topic3\", \"Topic3\", \"Topic3\", \"Topic3\", \"Topic3\", \"Topic3\", \"Topic3\", \"Topic3\", \"Topic3\", \"Topic3\", \"Topic3\", \"Topic3\", \"Topic4\", \"Topic4\", \"Topic4\", \"Topic4\", \"Topic4\", \"Topic4\", \"Topic4\", \"Topic4\", \"Topic4\", \"Topic4\", \"Topic4\", \"Topic4\", \"Topic4\", \"Topic4\", \"Topic4\", \"Topic4\", \"Topic4\", \"Topic4\", \"Topic4\", \"Topic4\", \"Topic4\", \"Topic4\", \"Topic4\", \"Topic4\", \"Topic4\", \"Topic4\", \"Topic4\", \"Topic4\", \"Topic4\", \"Topic4\", \"Topic4\", \"Topic4\", \"Topic4\", \"Topic4\", \"Topic4\", \"Topic4\", \"Topic4\", \"Topic4\", \"Topic4\", \"Topic4\", \"Topic4\", \"Topic4\", \"Topic4\", \"Topic4\", \"Topic4\", \"Topic4\", \"Topic4\", \"Topic4\", \"Topic4\", \"Topic4\", \"Topic4\", \"Topic4\", \"Topic4\", \"Topic4\", \"Topic4\", \"Topic4\", \"Topic4\", \"Topic4\", \"Topic4\", \"Topic4\", \"Topic4\", \"Topic4\", \"Topic5\", \"Topic5\", \"Topic5\", \"Topic5\", \"Topic5\", \"Topic5\", \"Topic5\", \"Topic5\", \"Topic5\", \"Topic5\", \"Topic5\", \"Topic5\", \"Topic5\", \"Topic5\", \"Topic5\", \"Topic5\", \"Topic5\", \"Topic5\", \"Topic5\", \"Topic5\", \"Topic5\", \"Topic5\", \"Topic5\", \"Topic5\", \"Topic5\", \"Topic5\", \"Topic5\", \"Topic5\", \"Topic5\", \"Topic5\", \"Topic5\", \"Topic5\", \"Topic5\", \"Topic5\", \"Topic5\", \"Topic5\", \"Topic5\", \"Topic5\", \"Topic5\", \"Topic5\", \"Topic5\", \"Topic5\", \"Topic5\", \"Topic5\", \"Topic5\", \"Topic5\", \"Topic5\", \"Topic5\", \"Topic5\", \"Topic5\", \"Topic5\", \"Topic5\", \"Topic5\", \"Topic5\", \"Topic5\", \"Topic5\", \"Topic5\", \"Topic5\", \"Topic5\", \"Topic6\", \"Topic6\", \"Topic6\", \"Topic6\", \"Topic6\", \"Topic6\", \"Topic6\", \"Topic6\", \"Topic6\", \"Topic6\", \"Topic6\", \"Topic6\", \"Topic6\", \"Topic6\", \"Topic6\", \"Topic6\", \"Topic6\", \"Topic6\", \"Topic6\", \"Topic6\", \"Topic6\", \"Topic6\", \"Topic6\", \"Topic6\", \"Topic6\", \"Topic6\", \"Topic6\", \"Topic6\", \"Topic6\", \"Topic6\", \"Topic6\", \"Topic6\", \"Topic6\", \"Topic6\", \"Topic6\", \"Topic6\", \"Topic6\", \"Topic6\", \"Topic6\", \"Topic6\", \"Topic6\", \"Topic6\", \"Topic6\", \"Topic6\", \"Topic6\", \"Topic6\", \"Topic6\", \"Topic6\", \"Topic6\", \"Topic6\"], \"logprob\": [30.0, 29.0, 28.0, 27.0, 26.0, 25.0, 24.0, 23.0, 22.0, 21.0, 20.0, 19.0, 18.0, 17.0, 16.0, 15.0, 14.0, 13.0, 12.0, 11.0, 10.0, 9.0, 8.0, 7.0, 6.0, 5.0, 4.0, 3.0, 2.0, 1.0, -5.7699, -6.0576, -5.3644, -4.3836, -5.7699, -5.7699, -5.0767, -6.463, -6.463, -5.7699, -5.7699, -6.0576, -4.323, -5.7699, -6.463, -5.7699, -5.3644, -7.1562, -6.0576, -3.8981, -5.0767, -3.2244, -7.1562, -2.6903, -3.4426, -6.463, -4.0651, -4.3836, -2.9665, -7.1562, -2.8795, -2.9818, -3.0957, -3.1672, -3.2644, -3.285, -3.395, -3.6904, -3.755, -3.824, -3.8981, -3.9781, -4.1604, -4.1604, -4.4481, -4.5171, -4.5912, -4.8536, -4.8536, -5.0767, -5.0767, -5.0767, -2.7617, -5.0767, -2.2918, -4.3713, -5.0644, -3.9193, -4.1199, -6.3172, -5.2186, -5.2186, -7.0103, -5.2186, -7.0103, -5.624, -4.1199, -4.0146, -5.2186, -4.2377, -5.624, -6.3172, -6.3172, -6.3172, -5.2186, -5.9117, -6.3172, -6.3172, -7.0103, -5.2186, -5.624, -6.3172, -7.0103, -6.3172, -2.7908, -2.9328, -3.2261, -3.7522, -3.9193, -3.9658, -4.0146, -4.0659, -4.2377, -4.2377, -4.2377, -4.5254, -4.5254, -4.5254, -4.6124, -4.6124, -4.7077, -4.7077, -4.7077, -4.7077, -4.9309, -5.2186, -3.3727, -4.3023, -4.1199, -4.3713, -3.7914, -4.4454, -4.6376, -5.3308, -4.3753, -3.8957, -4.743, -4.6376, -5.3308, -4.9943, -4.743, -3.8047, -4.3012, -4.6376, -4.3012, -4.6376, -4.3012, -5.3308, -4.9943, -5.3308, -4.3753, -5.3308, -4.3753, -4.6376, -4.743, -3.608, -4.6376, -5.5539, -6.9402, -5.8416, -5.5539, -5.5539, -3.9958, -4.107, -4.1676, -2.8131, -4.4553, -4.4553, -4.5423, -4.5423, -4.8608, -4.8608, -4.8608, -4.8608, -3.7622, -3.9958, -4.6376, -2.8131, -7.0388, -6.3456, -6.3456, -6.3456, -5.6525, -5.6525, -5.6525, -6.3456, -7.0388, -6.3456, -6.3456, -7.0388, -3.7807, -5.6525, -7.0388, -6.3456, -6.3456, -6.3456, -6.3456, -5.6525, -5.6525, -6.3456, -6.3456, -6.3456, -6.3456, -5.6525, -6.3456, -6.3456, -4.2056, -5.6525, -1.5335, -2.062, -2.8193, -3.4012, -3.7066, -3.7807, -3.8607, -3.9477, -4.1484, -4.2662, -4.2662, -4.3307, -4.3997, -4.3997, -4.5539, -4.5539, -4.5539, -4.7362, -4.7362, -4.7362, -4.7362, -4.9593, -5.0929, -5.247, -5.247, -5.247, -5.247, -5.4293, -4.2662, -4.1484, -3.2101, -4.9593, -6.2275, -6.2275, -4.8412, -6.2275, -5.5344, -6.2275, -6.2275, -6.2275, -6.2275, -6.2275, -5.5344, -5.5344, -4.0303, -4.4358, -4.6181, -4.1481, -6.2275, -6.2275, -5.5344, -5.1289, -6.2275, -6.2275, -5.5344, -5.5344, -6.9207, -5.5344, -6.2275, -6.2275, -6.2275, -6.2275, -2.4209, -2.716, -3.1365, -3.5195, -3.6626, -3.7426, -3.8296, -4.0875, -4.0875, -4.1481, -4.2816, -4.4358, -4.5228, -4.5228, -4.5228, -4.6181, -4.7234, -4.8412, -4.8412, -4.9748, -5.1289, -5.1289, -5.1289, -5.3112, -3.6626, -3.5195, -2.2859, -3.183, -4.4358, -5.0499, -4.6444, -5.743, -5.743, -5.743, -5.743, -4.3567, -4.6444, -4.1336, -5.2322, -4.8957, -5.0499, -5.0499, -5.0499, -3.7061, -3.3153, -4.2026, -5.0499, -3.7061, -5.743, -5.0499, -5.0499, -4.539, -5.2322, -5.2322, -5.0499, -5.743, -5.2322, -5.2322, -3.4743, -3.2307, -3.2863, -3.3451, -3.5458, -3.6636, -3.7971, -3.8459, -3.8459, -3.8972, -4.0084, -4.069, -4.2026, -4.4437, -4.6444, -4.6444, -4.7622, -4.7622, -3.204, -3.5835, -4.7622], \"loglift\": [30.0, 29.0, 28.0, 27.0, 26.0, 25.0, 24.0, 23.0, 22.0, 21.0, 20.0, 19.0, 18.0, 17.0, 16.0, 15.0, 14.0, 13.0, 12.0, 11.0, 10.0, 9.0, 8.0, 7.0, 6.0, 5.0, 4.0, 3.0, 2.0, 1.0, 1.6803, 1.6803, 1.6803, 1.6803, 1.6803, 1.6803, 1.6803, 1.6803, 1.6803, 1.6803, 1.6803, 1.6803, 1.6803, 1.6803, 1.6803, 1.6803, 1.6803, 1.6803, 1.6803, 1.6803, 1.6803, 1.6803, 1.6803, 1.6803, 1.6803, 1.6803, 1.6803, 1.6803, 1.6803, 1.6803, 1.6803, 1.6803, 1.6803, 1.6803, 1.6803, 1.6803, 1.6803, 1.6803, 1.6803, 1.6803, 1.6803, 1.6803, 1.6803, 1.6803, 1.6803, 1.6803, 1.6803, 1.6803, 1.6803, 1.6803, 1.6803, 1.6803, 1.5366, 1.6803, 1.6939, 1.6939, 1.6939, 1.6939, 1.6939, 1.6939, 1.6939, 1.6939, 1.6939, 1.6939, 1.6939, 1.6939, 1.6939, 1.6939, 1.6939, 1.6939, 1.6939, 1.6939, 1.6939, 1.6939, 1.6939, 1.6939, 1.6939, 1.6939, 1.6939, 1.6939, 1.6939, 1.6939, 1.6939, 1.6939, 1.6939, 1.6939, 1.6939, 1.6939, 1.6939, 1.6939, 1.6939, 1.6939, 1.6939, 1.6939, 1.6939, 1.6939, 1.6939, 1.6939, 1.6939, 1.6939, 1.6939, 1.6939, 1.6939, 1.6939, 1.6939, 1.6939, 1.6702, 1.6298, 1.6043, 1.5009, 1.0102, 1.4461, 1.7706, 1.7706, 1.7706, 1.7706, 1.7706, 1.7706, 1.7706, 1.7706, 1.7706, 1.7706, 1.7706, 1.7706, 1.7706, 1.7706, 1.7706, 1.7706, 1.7706, 1.7706, 1.7706, 1.7706, 1.7706, 1.7706, 1.7706, 1.7706, 1.7706, 1.7706, 1.7706, 1.7706, 1.7706, 1.7706, 1.7706, 1.7706, 1.7706, 1.7545, 1.7706, 1.7706, 1.7706, 1.7706, 1.7706, 1.7706, 1.7706, 1.7706, 1.7345, 1.4552, 1.6891, 0.8429, 1.8352, 1.8352, 1.8352, 1.8352, 1.8352, 1.8352, 1.8352, 1.8352, 1.8352, 1.8352, 1.8352, 1.8352, 1.8352, 1.8352, 1.8352, 1.8352, 1.8352, 1.8352, 1.8352, 1.8352, 1.8352, 1.8352, 1.8352, 1.8352, 1.8352, 1.8352, 1.8352, 1.8352, 1.8352, 1.8352, 1.8352, 1.8352, 1.8352, 1.8352, 1.8352, 1.8352, 1.8352, 1.8352, 1.8352, 1.8352, 1.8352, 1.8352, 1.8352, 1.8352, 1.8352, 1.8352, 1.8352, 1.8352, 1.8352, 1.8352, 1.8352, 1.8352, 1.8352, 1.8352, 1.8352, 1.8352, 1.8352, 1.8352, 1.7132, 1.6133, 1.1476, 1.5888, 1.8734, 1.8734, 1.8734, 1.8734, 1.8734, 1.8734, 1.8734, 1.8734, 1.8734, 1.8734, 1.8734, 1.8734, 1.8734, 1.8734, 1.8734, 1.8734, 1.8734, 1.8734, 1.8734, 1.8734, 1.8734, 1.8734, 1.8734, 1.8734, 1.8734, 1.8734, 1.8734, 1.8734, 1.8734, 1.8734, 1.8734, 1.8734, 1.8734, 1.8734, 1.8734, 1.8734, 1.8734, 1.8734, 1.8734, 1.8734, 1.8734, 1.8734, 1.8734, 1.8734, 1.8734, 1.8734, 1.8734, 1.8734, 1.8734, 1.8734, 1.8734, 1.8734, 1.8734, 1.8734, 1.8022, 1.6303, 1.3701, 1.1747, -0.1374, 1.9208, 1.9208, 1.9208, 1.9208, 1.9208, 1.9208, 1.9208, 1.9208, 1.9208, 1.9208, 1.9208, 1.9208, 1.9208, 1.9208, 1.9208, 1.9208, 1.9208, 1.9208, 1.9208, 1.9208, 1.9208, 1.9208, 1.9208, 1.9208, 1.9208, 1.9208, 1.9208, 1.9208, 1.9208, 1.9208, 1.9208, 1.9208, 1.9208, 1.9208, 1.9208, 1.9208, 1.9208, 1.9208, 1.9208, 1.9208, 1.9208, 1.9208, 1.9208, 1.9208, 1.9208, 1.9208, 1.9208, 1.8157, 1.2181, 0.3876]}, \"token.table\": {\"Topic\": [4, 1, 6, 4, 4, 6, 1, 4, 3, 3, 2, 5, 3, 6, 6, 4, 6, 1, 4, 5, 4, 3, 1, 5, 1, 5, 2, 6, 6, 6, 1, 6, 3, 5, 2, 4, 2, 3, 5, 1, 1, 4, 3, 6, 2, 1, 6, 1, 6, 2, 4, 5, 6, 1, 6, 6, 3, 2, 2, 3, 3, 3, 4, 3, 4, 2, 1, 4, 6, 4, 5, 4, 1, 3, 2, 3, 1, 1, 2, 1, 4, 4, 6, 5, 2, 2, 2, 3, 4, 3, 5, 1, 4, 4, 5, 2, 3, 5, 4, 3, 3, 3, 2, 1, 5, 6, 4, 6, 5, 3, 6, 1, 3, 3, 1, 1, 1, 2, 4, 6, 2, 6, 5, 5, 1, 6, 6, 2, 2, 3, 3, 2, 2, 5, 4, 6, 2, 5, 4, 3, 2, 4, 4, 5, 6, 6, 1, 5, 2, 2, 3, 1, 5, 4, 3, 2, 6, 1, 1, 5, 2, 1, 4, 2, 1, 1, 1, 2, 6, 5, 6, 5, 2, 4, 5, 1, 3, 2, 5, 1, 4, 2, 3, 1, 5, 3, 2, 4, 2, 2, 4, 3, 5, 6, 4, 6, 3, 6, 2, 6, 2, 2, 2, 2, 3, 5, 5, 6, 2, 2, 5, 5, 1, 4, 2, 5, 6, 6, 3, 4, 6, 2, 4, 3, 4, 5, 5, 1, 4, 6, 5, 6, 2, 1, 1, 5, 2, 3, 1, 1, 1, 4, 2, 5, 6, 4, 4, 2, 2, 4, 2, 6, 5, 4, 4, 2, 2, 4, 4, 5, 6, 5, 1, 6, 4, 5, 2, 5, 4, 4, 6, 5, 6, 2, 6, 3, 5, 5, 3, 3, 6, 1, 3, 5, 1, 4, 4, 1, 1, 5, 1, 4, 3, 3, 3, 1, 5, 6, 1, 2, 1, 3, 5, 2, 5, 4, 5, 5, 4, 1, 4, 3, 1, 6, 3, 4, 5, 1, 2, 4, 4, 4, 5, 4, 1, 5, 5, 5, 2, 6, 5, 4, 3, 1, 2, 3, 1, 1, 5, 4, 6, 4, 5], \"Freq\": [1.0958745855153451, 0.9908954073331444, 0.9801406848478196, 1.0958745855153451, 1.0958745855153451, 0.9801406848478196, 1.0555190208548713, 1.0045517033890663, 1.0342997708853796, 0.9973604933537591, 1.0172352262171442, 1.0116471853736622, 1.0342997708853796, 0.9801406848478194, 0.9801406848478196, 1.0958745855153451, 1.0089683520492259, 1.0555190208548713, 1.0958745855153451, 1.0116471853736622, 0.9132288212627876, 1.047228518021447, 0.8690613373378865, 0.13543813049421607, 0.07247568438555213, 0.9421838970121776, 0.9825567525961053, 0.9801406848478196, 0.9801406848478196, 0.9801406848478195, 1.0555190208548713, 0.9801406848478196, 1.0154943205056455, 1.0116471853736622, 0.9825567525961053, 1.0093581708693968, 1.0172352262171442, 1.0024751625504449, 1.0116471853736622, 1.0027430698121276, 1.0064251129081332, 1.0958745855153451, 1.0084422766132453, 1.0139386394977443, 0.9247592965610403, 0.949967118769384, 0.9801406848478196, 1.055519020854871, 0.9801406848478196, 0.9761348130366538, 0.9862871269638106, 0.793300295939111, 0.21154674558376294, 1.055519020854871, 0.9801406848478196, 0.9801406848478196, 0.9308697937968419, 0.9247592965610404, 0.9247592965610403, 0.9973604933537591, 1.0342997708853796, 0.9437884600496113, 0.08579895091360103, 1.023956773176526, 1.0115765404757031, 0.9247592965610403, 0.12124876580638906, 0.909365743547918, 0.9801406848478196, 1.0958745855153451, 1.0116471853736622, 1.0958745855153451, 1.0555190208548713, 0.9308697937968419, 0.9247592965610403, 0.9798629408387808, 1.055519020854871, 0.9895490820514417, 0.9958946270657357, 1.0555190208548713, 1.0958745855153451, 1.0958745855153451, 0.9801406848478196, 0.9886552038878972, 1.0031287284729928, 0.9825567525961053, 0.014774161446439919, 0.9898688169114747, 0.9978695412822653, 0.39781846845237534, 0.6056340863006311, 0.9934296666869376, 1.027382423920636, 1.0958745855153451, 1.0116471853736622, 0.28591284006567996, 0.7147821001642, 1.0116471853736622, 1.0958745855153451, 1.0638511929106764, 0.9973604933537591, 1.023956773176526, 1.0172352262171442, 1.055519020854871, 1.0116471853736622, 0.9801406848478194, 0.7802486306352807, 0.19506215765882018, 1.0116471853736622, 0.9308697937968416, 1.0081447044149001, 0.9968790752518228, 1.023956773176526, 1.0118149932574367, 0.985151086131213, 1.0555190208548713, 1.0555190208548713, 0.9247592965610403, 1.0958745855153451, 0.9801406848478196, 1.0403542086311703, 0.9801406848478196, 1.0116471853736622, 1.0116471853736622, 0.9895490820514418, 0.9801406848478196, 0.9801406848478196, 1.0172352262171442, 0.9247592965610403, 1.0024751625504449, 0.9308697937968419, 1.0063557050811323, 0.9761348130366538, 1.0116471853736622, 1.0045517033890663, 0.9801406848478196, 0.9990703114632669, 1.0116471853736622, 1.0958745855153451, 1.0154943205056455, 0.9247592965610404, 1.0175978294071062, 0.9393210732988672, 1.0116471853736622, 1.016442191694035, 0.9801406848478195, 1.0555190208548713, 1.0116471853736622, 1.0088283235211348, 0.8169103972524637, 0.16338207945049274, 0.9895490820514418, 1.0116471853736622, 1.0958745855153451, 0.9890491559091443, 0.9247592965610403, 0.9801406848478196, 1.0075408835432862, 0.9895490820514418, 1.0116471853736622, 0.9247592965610403, 0.9948570081620625, 1.0958745855153451, 1.0172352262171442, 1.014922135437376, 0.9743252500198811, 1.0555190208548713, 1.0128316105192345, 0.9801406848478194, 1.0116471853736622, 0.9801406848478196, 1.0116471853736622, 0.9247592965610403, 0.503041868028411, 0.503041868028411, 1.0075408835432862, 0.9308697937968416, 0.7772742858417955, 0.22207836738337014, 1.0555190208548713, 1.0958745855153451, 0.9247592965610404, 0.9973604933537591, 0.985151086131213, 1.0116471853736622, 1.047228518021447, 0.9247592965610403, 1.0958745855153451, 0.9247592965610403, 0.9825567525961053, 1.0314113746026778, 1.0024751625504449, 1.0116471853736622, 0.9801406848478196, 1.0958745855153451, 0.9801406848478196, 0.09287853606067072, 0.9055657265915394, 1.0018225712744604, 0.9801406848478196, 1.0088283235211348, 1.056867767498332, 0.9247592965610403, 0.925138851416079, 0.05782117821350494, 1.0116471853736622, 1.0116471853736622, 0.9801406848478196, 1.0172352262171442, 0.9743285600734811, 0.023764111221304417, 1.0116471853736622, 1.0040302881302434, 0.9991797691463441, 1.0088283235211348, 1.0116471853736622, 1.009841917721996, 0.9801406848478196, 1.023956773176526, 0.9132288212627876, 0.9801406848478197, 0.9247592965610404, 1.0958745855153451, 1.0638511929106764, 1.0958745855153451, 1.0116471853736622, 1.0116471853736622, 1.0027430698121276, 0.9976237606070727, 0.9801406848478195, 1.0116471853736622, 0.9801406848478196, 0.9247592965610404, 1.0555190208548713, 0.9801248050795233, 1.0116471853736622, 1.0088283235211348, 0.9308697937968416, 1.0068027583538772, 1.0555190208548713, 1.0115390616525848, 1.0175978294071062, 0.9247592965610403, 0.9965479736516673, 0.9801406848478196, 1.0958745855153451, 1.0175978294071062, 1.0088283235211348, 0.8924565912517036, 0.0939427990791267, 0.9908135320296861, 0.9801406848478196, 1.0116471853736622, 1.0958745855153451, 0.9862871269638106, 1.0018225712744604, 1.0018225712744604, 1.027382423920636, 1.0958745855153451, 1.0116471853736622, 0.9801406848478196, 1.0116471853736622, 1.0555190208548713, 0.9801406848478196, 0.9862871269638106, 1.0116471853736622, 0.9247592965610403, 1.0116471853736622, 0.9862871269638106, 1.0958745855153451, 0.9801406848478196, 1.0116471853736622, 1.0066309736274903, 0.9247592965610404, 0.9801406848478196, 1.023956773176526, 1.0116471853736622, 1.0116471853736622, 0.9856268404907735, 1.0084422766132453, 0.9801406848478196, 0.03741151300795244, 0.9726993382067634, 1.0116471853736622, 1.0555190208548713, 0.9962496231957683, 1.0045517033890663, 1.0555190208548713, 1.055519020854871, 1.0116471853736622, 1.0555190208548713, 1.022816279814322, 1.047228518021447, 1.0195240598727313, 0.9308697937968416, 1.0555190208548713, 1.0116471853736622, 0.9801406848478196, 1.0555190208548713, 0.9247592965610404, 0.9934296666869378, 0.9308697937968419, 1.0116471853736622, 0.9247592965610404, 1.0116471853736622, 1.0958745855153451, 1.0116471853736622, 1.0116471853736622, 1.0115765404757031, 0.9968790752518227, 1.0045517033890663, 1.023956773176526, 1.0009232094313434, 0.9801406848478196, 0.9308697937968416, 1.0958745855153451, 1.0116471853736622, 1.0555190208548713, 1.022102380409571, 0.9588902623259269, 0.9132288212627876, 1.0958745855153451, 1.0116471853736622, 0.9132288212627876, 1.0555190208548713, 1.0116471853736622, 1.0116471853736622, 1.0116471853736622, 0.5040993923378438, 0.5040993923378438, 1.0004066610917326, 1.0958745855153451, 0.9308697937968419, 1.014922135437376, 0.9247592965610403, 1.047228518021447, 0.949967118769384, 1.0178219129671973, 1.0116471853736622, 0.7494142137438417, 0.21411834678395475, 0.9741107426803066, 1.0116471853736622], \"Term\": [\"acceso\", \"accesorio\", \"accionamiento\", \"achapa\", \"acopiar\", \"activacion\", \"actualizar\", \"acudir\", \"administrador\", \"aguar\", \"ajustar\", \"alarmar\", \"alimentacion\", \"alto\", \"apoyar\", \"assy\", \"atender\", \"automarico\", \"autoopw\", \"avezar\", \"bco\", \"bloquear\", \"boca\", \"boca\", \"bodega\", \"bodega\", \"bombo\", \"borrar\", \"boto\", \"breackaway\", \"breakawa\", \"breakawat\", \"breakaway\", \"breakaways\", \"breakway\", \"breckawey\", \"brevedad\", \"cabezal\", \"cable\", \"calibracion\", \"calibrar\", \"calzar\", \"camara\", \"cambiar\", \"canerias\", \"cano\", \"cap\\u00edtulo\", \"cebar\", \"cerrar\", \"check\", \"chequeo\", \"cliente\", \"cliente\", \"codigo\", \"codo\", \"colgante\", \"compania\", \"comportamiento\", \"comprar\", \"coneccion\", \"contaminar\", \"contar\", \"contar\", \"contenedor\", \"conv\", \"converso\", \"coordinar\", \"coordinar\", \"cortar\", \"cto\", \"danado\", \"dano\", \"dar\", \"deber\", \"definitivamente\", \"dejar\", \"dentro\", \"descargar\", \"describir\", \"desgastar\", \"despejar\", \"despues\", \"detectandose\", \"detectar\", \"detector\", \"detencion\", \"diesel\", \"diesel\", \"disp\", \"dispensador\", \"dispensador\", \"display\", \"displey\", \"doblar\", \"durar\", \"eds\", \"eds\", \"efectuar\", \"electric\", \"electrica\", \"electrico\", \"electronica\", \"elementar\", \"eliminar\", \"emergencia\", \"emitir\", \"encargar\", \"encargar\", \"encontrar\", \"enconttarse\", \"encore\", \"equipo\", \"est\", \"estancar\", \"estanque\", \"etaba\", \"expendio\", \"fallo\", \"faltante\", \"falto\", \"fepetro\", \"fijacion\", \"fijo\", \"filtracion\", \"filtraci\\u00f3n\", \"filtrar\", \"filtro\", \"firmar\", \"flexible\", \"flujo\", \"fondo\", \"fugar\", \"funcional\", \"funcionar\", \"fundir\", \"galonage\", \"gas\", \"gatillo\", \"gun\", \"hacer\", \"hora\", \"hose\", \"hp\", \"igem\", \"incidencia\", \"informar\", \"infrarrojo\", \"insidencia\", \"instalacion\", \"instalar\", \"instalar\", \"interior\", \"interno\", \"intervenir\", \"isla\", \"jacket\", \"kero\", \"kerosene\", \"kerosenne\", \"kit\", \"laborar\", \"lado\", \"legasy\", \"lento\", \"limpiar\", \"limpieza\", \"limpio\", \"linear\", \"llamar\", \"llenar\", \"mal\", \"malo\", \"mananas\", \"manguera\", \"manguera\", \"mantencion\", \"mantendor\", \"mantener\", \"mantener\", \"maquinar\", \"marcar\", \"mas\", \"master\", \"matraz\", \"medidor\", \"medir\", \"minuto\", \"mo\", \"monitorea\", \"monitorean\", \"motor\", \"mp\", \"mts\", \"na\", \"necesitar\", \"nodo\", \"normal\", \"normal\", \"normalizacion\", \"normalizar\", \"normalmente\", \"observacion\", \"observandose\", \"octuple\", \"octuple\", \"octuples\", \"ocurrir\", \"ods\", \"operacion\", \"operar\", \"operar\", \"operativau\", \"operativo\", \"opw\", \"oring\", \"orings\", \"ot\", \"palanca\", \"partir\", \"pba\", \"pendiente\", \"perdido\", \"persistir\", \"personal\", \"petrolab\", \"pie\", \"pieboca\", \"pintar\", \"pistola\", \"placa\", \"portapistola\", \"portapistolas\", \"posible\", \"ppu\", \"precio\", \"preset\", \"presion\", \"prevencionista\", \"preventivo\", \"prheba\", \"probar\", \"problema\", \"problsma\", \"producto\", \"proporcional\", \"proteccion\", \"proxima\", \"psi\", \"quebrar\", \"quebrar\", \"realizar\", \"reapriete\", \"rearmar\", \"recirculacion\", \"recirculaci\\u00f3n\", \"recirculan\", \"recirculando\", \"reco\", \"recon\", \"reconeccion\", \"reconectable\", \"reconecto\", \"regularizacion\", \"reinicio\", \"reinstalacion\", \"reinstalar\", \"rele\", \"remarcar\", \"remplazar\", \"rep\", \"reparacion\", \"reparar\", \"reponer\", \"reposar\", \"reprograma\", \"reprogramacion\", \"reprograman\", \"repuesto\", \"reset\", \"retirar\", \"revison\", \"revoluci\\u00f3n\", \"revoluci\\u00f3n\", \"rotar\", \"rozar\", \"rvopw\", \"sacar\", \"segmento\", \"seguir\", \"sellar\", \"sensor\", \"servicentro\", \"servicio\", \"sistema\", \"slas\", \"soler\", \"solisita\", \"solo\", \"soltar\", \"solucionar\", \"spill\", \"spin\", \"stock\", \"stpmldg\", \"subsanar\", \"succion\", \"suelto\", \"superior\", \"surt\", \"surtidor\", \"swivel\", \"tambor\", \"tapar\", \"tarjeta\", \"tdf\", \"termica\", \"terminal\", \"tiempo\", \"tk\", \"totalizador\", \"trabajar\", \"trancar\", \"transformador\", \"trifasico\", \"uma\", \"union\", \"uni\\u00f3n\", \"utilizar\", \"valvula\", \"valvula\", \"venta\", \"verde\", \"vereda\", \"verificacion\", \"vertical\", \"voltage\", \"volumen\", \"volumetrica\", \"wayne\", \"whipe\", \"whipe\", \"wipe\", \"wipehose\"]}, \"R\": 30, \"lambda.step\": 0.01, \"plot.opts\": {\"xlab\": \"PC1\", \"ylab\": \"PC2\"}, \"topic.order\": [5, 6, 4, 1, 2, 3]};\n",
       "\n",
       "function LDAvis_load_lib(url, callback){\n",
       "  var s = document.createElement('script');\n",
       "  s.src = url;\n",
       "  s.async = true;\n",
       "  s.onreadystatechange = s.onload = callback;\n",
       "  s.onerror = function(){console.warn(\"failed to load library \" + url);};\n",
       "  document.getElementsByTagName(\"head\")[0].appendChild(s);\n",
       "}\n",
       "\n",
       "if(typeof(LDAvis) !== \"undefined\"){\n",
       "   // already loaded: just create the visualization\n",
       "   !function(LDAvis){\n",
       "       new LDAvis(\"#\" + \"ldavis_el811615754349923289162885360\", ldavis_el811615754349923289162885360_data);\n",
       "   }(LDAvis);\n",
       "}else if(typeof define === \"function\" && define.amd){\n",
       "   // require.js is available: use it to load d3/LDAvis\n",
       "   require.config({paths: {d3: \"https://cdnjs.cloudflare.com/ajax/libs/d3/3.5.5/d3.min\"}});\n",
       "   require([\"d3\"], function(d3){\n",
       "      window.d3 = d3;\n",
       "      LDAvis_load_lib(\"https://cdn.rawgit.com/bmabey/pyLDAvis/files/ldavis.v1.0.0.js\", function(){\n",
       "        new LDAvis(\"#\" + \"ldavis_el811615754349923289162885360\", ldavis_el811615754349923289162885360_data);\n",
       "      });\n",
       "    });\n",
       "}else{\n",
       "    // require.js not available: dynamically load d3 & LDAvis\n",
       "    LDAvis_load_lib(\"https://cdnjs.cloudflare.com/ajax/libs/d3/3.5.5/d3.min.js\", function(){\n",
       "         LDAvis_load_lib(\"https://cdn.rawgit.com/bmabey/pyLDAvis/files/ldavis.v1.0.0.js\", function(){\n",
       "                 new LDAvis(\"#\" + \"ldavis_el811615754349923289162885360\", ldavis_el811615754349923289162885360_data);\n",
       "            })\n",
       "         });\n",
       "}\n",
       "</script>"
      ],
      "text/plain": [
       "PreparedData(topic_coordinates=              x         y  topics  cluster       Freq\n",
       "topic                                                \n",
       "4      0.260201  0.289450       1        1  18.631207\n",
       "5     -0.296457  0.160717       2        1  18.379347\n",
       "3     -0.045912 -0.285690       3        1  17.022777\n",
       "0      0.157504  0.003666       4        1  15.957432\n",
       "1      0.136857 -0.220720       5        1  15.360289\n",
       "2     -0.212193  0.052577       6        1  14.648948, topic_info=            Term        Freq       Total Category  logprob  loglift\n",
       "37          disp  224.000000  224.000000  Default  30.0000  30.0000\n",
       "22       pistola  132.000000  132.000000  Default  29.0000  29.0000\n",
       "67           gas  121.000000  121.000000  Default  28.0000  28.0000\n",
       "19   dispensador  168.000000  168.000000  Default  27.0000  27.0000\n",
       "32         venta   88.000000   88.000000  Default  26.0000  26.0000\n",
       "..           ...         ...         ...      ...      ...      ...\n",
       "365       llamar    8.162094    8.162094   Topic6  -4.7622   1.9208\n",
       "214       emitir    8.162094    8.162094   Topic6  -4.7622   1.9208\n",
       "122       normal   38.769945   43.067001   Topic6  -3.2040   1.8157\n",
       "251      valvula   26.526804   53.560866   Topic6  -3.5835   1.2181\n",
       "28       cliente    8.162094   37.816701   Topic6  -4.7622   0.3876\n",
       "\n",
       "[359 rows x 6 columns], token_table=      Topic      Freq           Term\n",
       "term                                \n",
       "521       4  1.095875         acceso\n",
       "98        1  0.990895      accesorio\n",
       "423       6  0.980141  accionamiento\n",
       "522       4  1.095875         achapa\n",
       "865       4  1.095875        acopiar\n",
       "...     ...       ...            ...\n",
       "570       5  1.011647          wayne\n",
       "264       4  0.749414          whipe\n",
       "264       6  0.214118          whipe\n",
       "293       4  0.974111           wipe\n",
       "154       5  1.011647       wipehose\n",
       "\n",
       "[343 rows x 3 columns], R=30, lambda_step=0.01, plot_opts={'xlab': 'PC1', 'ylab': 'PC2'}, topic_order=[5, 6, 4, 1, 2, 3])"
      ]
     },
     "execution_count": 38,
     "metadata": {},
     "output_type": "execute_result"
    }
   ],
   "source": [
    "# Visualize the topics\n",
    "pd.options.mode.chained_assignment = None  # default='warn' ---> Not showing warnings about iloc\n",
    "\n",
    "pyLDAvis.enable_notebook()\n",
    "vis = pyLDAvis.gensim.prepare(LDA_mallet_model, corpus, id2word)\n",
    "vis"
   ]
  },
  {
   "cell_type": "code",
   "execution_count": null,
   "metadata": {},
   "outputs": [],
   "source": []
  }
 ],
 "metadata": {
  "kernelspec": {
   "display_name": "Python 3",
   "language": "python",
   "name": "python3"
  },
  "language_info": {
   "codemirror_mode": {
    "name": "ipython",
    "version": 3
   },
   "file_extension": ".py",
   "mimetype": "text/x-python",
   "name": "python",
   "nbconvert_exporter": "python",
   "pygments_lexer": "ipython3",
   "version": "3.7.6"
  }
 },
 "nbformat": 4,
 "nbformat_minor": 4
}
